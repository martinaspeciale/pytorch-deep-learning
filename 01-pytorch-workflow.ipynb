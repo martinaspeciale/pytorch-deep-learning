{
 "cells": [
  {
   "cell_type": "code",
   "execution_count": 1,
   "id": "3a3a2758",
   "metadata": {
    "_cell_guid": "b1076dfc-b9ad-4769-8c92-a6c4dae69d19",
    "_uuid": "8f2839f25d086af736a60e9eeb907d3b93b6e0e5",
    "execution": {
     "iopub.execute_input": "2025-08-31T11:50:55.689980Z",
     "iopub.status.busy": "2025-08-31T11:50:55.689537Z",
     "iopub.status.idle": "2025-08-31T11:51:02.055105Z",
     "shell.execute_reply": "2025-08-31T11:51:02.053773Z"
    },
    "papermill": {
     "duration": 6.375627,
     "end_time": "2025-08-31T11:51:02.056925",
     "exception": false,
     "start_time": "2025-08-31T11:50:55.681298",
     "status": "completed"
    },
    "tags": []
   },
   "outputs": [],
   "source": [
    "import torch"
   ]
  },
  {
   "cell_type": "markdown",
   "id": "42c7ee0d",
   "metadata": {
    "papermill": {
     "duration": 0.005887,
     "end_time": "2025-08-31T11:51:02.069289",
     "exception": false,
     "start_time": "2025-08-31T11:51:02.063402",
     "status": "completed"
    },
    "tags": []
   },
   "source": [
    "## PyTorch Workflow "
   ]
  },
  {
   "cell_type": "code",
   "execution_count": 2,
   "id": "a9047674",
   "metadata": {
    "execution": {
     "iopub.execute_input": "2025-08-31T11:51:02.082329Z",
     "iopub.status.busy": "2025-08-31T11:51:02.081899Z",
     "iopub.status.idle": "2025-08-31T11:51:02.087391Z",
     "shell.execute_reply": "2025-08-31T11:51:02.086273Z"
    },
    "papermill": {
     "duration": 0.013931,
     "end_time": "2025-08-31T11:51:02.089109",
     "exception": false,
     "start_time": "2025-08-31T11:51:02.075178",
     "status": "completed"
    },
    "tags": []
   },
   "outputs": [],
   "source": [
    "what_we_are_covering = {\n",
    "    1: \"data (prepare and load\",\n",
    "    2: \"build model\",\n",
    "    3: \"fitting the model to the  (training)\",\n",
    "    4: \"making predictions and evalating a model (inference)\", \n",
    "    5: \"saving and loading a model\",\n",
    "    6: \"putting it all together\"\n",
    "                       }"
   ]
  },
  {
   "cell_type": "code",
   "execution_count": 3,
   "id": "36e7cb66",
   "metadata": {
    "execution": {
     "iopub.execute_input": "2025-08-31T11:51:02.102428Z",
     "iopub.status.busy": "2025-08-31T11:51:02.102075Z",
     "iopub.status.idle": "2025-08-31T11:51:02.109632Z",
     "shell.execute_reply": "2025-08-31T11:51:02.108634Z"
    },
    "papermill": {
     "duration": 0.016085,
     "end_time": "2025-08-31T11:51:02.111321",
     "exception": false,
     "start_time": "2025-08-31T11:51:02.095236",
     "status": "completed"
    },
    "tags": []
   },
   "outputs": [
    {
     "data": {
      "text/plain": [
       "'2.6.0+cu124'"
      ]
     },
     "execution_count": 3,
     "metadata": {},
     "output_type": "execute_result"
    }
   ],
   "source": [
    "import torch \n",
    "from torch import nn # nn contains all of PyTorch's building blocks for neural networks \n",
    "import matplotlib.pyplot as plt \n",
    "\n",
    "torch.__version__"
   ]
  },
  {
   "cell_type": "markdown",
   "id": "6f5a142a",
   "metadata": {
    "papermill": {
     "duration": 0.005782,
     "end_time": "2025-08-31T11:51:02.123327",
     "exception": false,
     "start_time": "2025-08-31T11:51:02.117545",
     "status": "completed"
    },
    "tags": []
   },
   "source": [
    "## 1. Data (preparing and loading)\n",
    "\n",
    "ML is a game of two parts:\n",
    "1. get data into a numerical representation\n",
    "2. build a model to learn patterns in that numerical representation"
   ]
  },
  {
   "cell_type": "markdown",
   "id": "97adf0d3",
   "metadata": {
    "papermill": {
     "duration": 0.005782,
     "end_time": "2025-08-31T11:51:02.135645",
     "exception": false,
     "start_time": "2025-08-31T11:51:02.129863",
     "status": "completed"
    },
    "tags": []
   },
   "source": [
    "We'll use a linear regression formula to make a stright line with known **parameters**\n",
    "1. weight = 0.7\n",
    "2. bias = 0.3"
   ]
  },
  {
   "cell_type": "code",
   "execution_count": 4,
   "id": "3c70e404",
   "metadata": {
    "execution": {
     "iopub.execute_input": "2025-08-31T11:51:02.149614Z",
     "iopub.status.busy": "2025-08-31T11:51:02.149278Z",
     "iopub.status.idle": "2025-08-31T11:51:02.290638Z",
     "shell.execute_reply": "2025-08-31T11:51:02.289632Z"
    },
    "papermill": {
     "duration": 0.150099,
     "end_time": "2025-08-31T11:51:02.292464",
     "exception": false,
     "start_time": "2025-08-31T11:51:02.142365",
     "status": "completed"
    },
    "tags": []
   },
   "outputs": [
    {
     "data": {
      "text/plain": [
       "(tensor([[0.0000],\n",
       "         [0.0200],\n",
       "         [0.0400],\n",
       "         [0.0600],\n",
       "         [0.0800],\n",
       "         [0.1000],\n",
       "         [0.1200],\n",
       "         [0.1400],\n",
       "         [0.1600],\n",
       "         [0.1800]]),\n",
       " tensor([[0.3000],\n",
       "         [0.3140],\n",
       "         [0.3280],\n",
       "         [0.3420],\n",
       "         [0.3560],\n",
       "         [0.3700],\n",
       "         [0.3840],\n",
       "         [0.3980],\n",
       "         [0.4120],\n",
       "         [0.4260]]))"
      ]
     },
     "execution_count": 4,
     "metadata": {},
     "output_type": "execute_result"
    }
   ],
   "source": [
    "weight = 0.7 \n",
    "bias = 0.3 \n",
    "\n",
    "start = 0\n",
    "end = 1\n",
    "step = 0.02 \n",
    "X = torch.arange(start, end, step).unsqueeze(dim=1)\n",
    "y = weight * X + bias \n",
    "\n",
    "# input, output values \n",
    "X[:10], y[:10]"
   ]
  },
  {
   "cell_type": "code",
   "execution_count": 5,
   "id": "99a7714d",
   "metadata": {
    "execution": {
     "iopub.execute_input": "2025-08-31T11:51:02.305922Z",
     "iopub.status.busy": "2025-08-31T11:51:02.305617Z",
     "iopub.status.idle": "2025-08-31T11:51:02.312030Z",
     "shell.execute_reply": "2025-08-31T11:51:02.311058Z"
    },
    "papermill": {
     "duration": 0.014848,
     "end_time": "2025-08-31T11:51:02.313594",
     "exception": false,
     "start_time": "2025-08-31T11:51:02.298746",
     "status": "completed"
    },
    "tags": []
   },
   "outputs": [
    {
     "data": {
      "text/plain": [
       "(50, 50)"
      ]
     },
     "execution_count": 5,
     "metadata": {},
     "output_type": "execute_result"
    }
   ],
   "source": [
    "len(X), len(y)"
   ]
  },
  {
   "cell_type": "markdown",
   "id": "db3f0edc",
   "metadata": {
    "papermill": {
     "duration": 0.00618,
     "end_time": "2025-08-31T11:51:02.326295",
     "exception": false,
     "start_time": "2025-08-31T11:51:02.320115",
     "status": "completed"
    },
    "tags": []
   },
   "source": [
    "## Splitting Data into Training and Test sets\n",
    "* training set : course material\n",
    "* validation set : practice exam\n",
    "* test set : final exam -> test generalization\n",
    "**Generalization**: the ability for a ML model to perform well on data it hasn't seen befor e"
   ]
  },
  {
   "cell_type": "code",
   "execution_count": 6,
   "id": "1f74622e",
   "metadata": {
    "execution": {
     "iopub.execute_input": "2025-08-31T11:51:02.340293Z",
     "iopub.status.busy": "2025-08-31T11:51:02.339965Z",
     "iopub.status.idle": "2025-08-31T11:51:02.347504Z",
     "shell.execute_reply": "2025-08-31T11:51:02.346510Z"
    },
    "papermill": {
     "duration": 0.016525,
     "end_time": "2025-08-31T11:51:02.349409",
     "exception": false,
     "start_time": "2025-08-31T11:51:02.332884",
     "status": "completed"
    },
    "tags": []
   },
   "outputs": [
    {
     "data": {
      "text/plain": [
       "(40, 40, 10, 10)"
      ]
     },
     "execution_count": 6,
     "metadata": {},
     "output_type": "execute_result"
    }
   ],
   "source": [
    "train_split = int(0.8 * len(X))\n",
    "X_train, y_train = X[:train_split], y[:train_split]\n",
    "X_test, y_test = X[train_split:], y[train_split:]\n",
    "\n",
    "len(X_train), len(y_train), len(X_test), len(y_test)"
   ]
  },
  {
   "cell_type": "code",
   "execution_count": 7,
   "id": "4d06169c",
   "metadata": {
    "execution": {
     "iopub.execute_input": "2025-08-31T11:51:02.363217Z",
     "iopub.status.busy": "2025-08-31T11:51:02.362874Z",
     "iopub.status.idle": "2025-08-31T11:51:02.372929Z",
     "shell.execute_reply": "2025-08-31T11:51:02.371856Z"
    },
    "papermill": {
     "duration": 0.018895,
     "end_time": "2025-08-31T11:51:02.374742",
     "exception": false,
     "start_time": "2025-08-31T11:51:02.355847",
     "status": "completed"
    },
    "tags": []
   },
   "outputs": [
    {
     "data": {
      "text/plain": [
       "(tensor([[0.0000],\n",
       "         [0.0200],\n",
       "         [0.0400],\n",
       "         [0.0600],\n",
       "         [0.0800],\n",
       "         [0.1000],\n",
       "         [0.1200],\n",
       "         [0.1400],\n",
       "         [0.1600],\n",
       "         [0.1800],\n",
       "         [0.2000],\n",
       "         [0.2200],\n",
       "         [0.2400],\n",
       "         [0.2600],\n",
       "         [0.2800],\n",
       "         [0.3000],\n",
       "         [0.3200],\n",
       "         [0.3400],\n",
       "         [0.3600],\n",
       "         [0.3800],\n",
       "         [0.4000],\n",
       "         [0.4200],\n",
       "         [0.4400],\n",
       "         [0.4600],\n",
       "         [0.4800],\n",
       "         [0.5000],\n",
       "         [0.5200],\n",
       "         [0.5400],\n",
       "         [0.5600],\n",
       "         [0.5800],\n",
       "         [0.6000],\n",
       "         [0.6200],\n",
       "         [0.6400],\n",
       "         [0.6600],\n",
       "         [0.6800],\n",
       "         [0.7000],\n",
       "         [0.7200],\n",
       "         [0.7400],\n",
       "         [0.7600],\n",
       "         [0.7800]]),\n",
       " tensor([[0.3000],\n",
       "         [0.3140],\n",
       "         [0.3280],\n",
       "         [0.3420],\n",
       "         [0.3560],\n",
       "         [0.3700],\n",
       "         [0.3840],\n",
       "         [0.3980],\n",
       "         [0.4120],\n",
       "         [0.4260],\n",
       "         [0.4400],\n",
       "         [0.4540],\n",
       "         [0.4680],\n",
       "         [0.4820],\n",
       "         [0.4960],\n",
       "         [0.5100],\n",
       "         [0.5240],\n",
       "         [0.5380],\n",
       "         [0.5520],\n",
       "         [0.5660],\n",
       "         [0.5800],\n",
       "         [0.5940],\n",
       "         [0.6080],\n",
       "         [0.6220],\n",
       "         [0.6360],\n",
       "         [0.6500],\n",
       "         [0.6640],\n",
       "         [0.6780],\n",
       "         [0.6920],\n",
       "         [0.7060],\n",
       "         [0.7200],\n",
       "         [0.7340],\n",
       "         [0.7480],\n",
       "         [0.7620],\n",
       "         [0.7760],\n",
       "         [0.7900],\n",
       "         [0.8040],\n",
       "         [0.8180],\n",
       "         [0.8320],\n",
       "         [0.8460]]))"
      ]
     },
     "execution_count": 7,
     "metadata": {},
     "output_type": "execute_result"
    }
   ],
   "source": [
    "X_train, y_train"
   ]
  },
  {
   "cell_type": "markdown",
   "id": "393edb10",
   "metadata": {
    "papermill": {
     "duration": 0.006248,
     "end_time": "2025-08-31T11:51:02.387443",
     "exception": false,
     "start_time": "2025-08-31T11:51:02.381195",
     "status": "completed"
    },
    "tags": []
   },
   "source": [
    "How can we better visualiza our data?"
   ]
  },
  {
   "cell_type": "code",
   "execution_count": 8,
   "id": "12a5aeb4",
   "metadata": {
    "execution": {
     "iopub.execute_input": "2025-08-31T11:51:02.402390Z",
     "iopub.status.busy": "2025-08-31T11:51:02.402042Z",
     "iopub.status.idle": "2025-08-31T11:51:02.827218Z",
     "shell.execute_reply": "2025-08-31T11:51:02.826052Z"
    },
    "papermill": {
     "duration": 0.434928,
     "end_time": "2025-08-31T11:51:02.829040",
     "exception": false,
     "start_time": "2025-08-31T11:51:02.394112",
     "status": "completed"
    },
    "tags": []
   },
   "outputs": [
    {
     "data": {
      "image/png": "[encoded data removed]",
      "text/plain": [
       "<Figure size 1000x700 with 1 Axes>"
      ]
     },
     "metadata": {},
     "output_type": "display_data"
    }
   ],
   "source": [
    "def plot_predictions(train_data = X_train,\n",
    "                     train_labels = y_train,\n",
    "                     test_data = X_test,\n",
    "                     test_labels = y_test, \n",
    "                     predictions = None):\n",
    "    \"\"\"\n",
    "    Plots training data, test data and compares predictions\n",
    "    \"\"\"\n",
    "    \n",
    "    plt.figure(figsize=(10,7))\n",
    "    plt.scatter(train_data, train_labels, c=\"b\", s=4, label=\"Training Data\")\n",
    "\n",
    "    plt.scatter(test_data, test_labels, c=\"y\", s=4, label=\"Testing Data\")\n",
    "\n",
    "    if predictions is not None :\n",
    "        plt.scatter(test_data, predictions, c=\"r\", label=\"Predictions\")\n",
    "\n",
    "    plt.legend(prop={\"size\":14})\n",
    "\n",
    "\n",
    "plot_predictions()"
   ]
  },
  {
   "cell_type": "markdown",
   "id": "1a9d584d",
   "metadata": {
    "papermill": {
     "duration": 0.006606,
     "end_time": "2025-08-31T11:51:02.842945",
     "exception": false,
     "start_time": "2025-08-31T11:51:02.836339",
     "status": "completed"
    },
    "tags": []
   },
   "source": [
    "# Model Building\n",
    "what our model does:\n",
    "* start with random values (weight and bias)\n",
    "* look at training data and adjust the random values to better represent the ideal values\n",
    "\n",
    "Two main algorithms: \n",
    "1. Gradient descent\n",
    "2. Backpropagation"
   ]
  },
  {
   "cell_type": "code",
   "execution_count": 9,
   "id": "27f482d4",
   "metadata": {
    "execution": {
     "iopub.execute_input": "2025-08-31T11:51:02.858733Z",
     "iopub.status.busy": "2025-08-31T11:51:02.858369Z",
     "iopub.status.idle": "2025-08-31T11:51:02.865142Z",
     "shell.execute_reply": "2025-08-31T11:51:02.864088Z"
    },
    "papermill": {
     "duration": 0.017131,
     "end_time": "2025-08-31T11:51:02.866790",
     "exception": false,
     "start_time": "2025-08-31T11:51:02.849659",
     "status": "completed"
    },
    "tags": []
   },
   "outputs": [],
   "source": [
    "# Create a Linear Regression model class\n",
    "class LinearRegressionModel(nn.Module): # <- almost everything in PyTorch is a nn.Module (think of this as neural network lego blocks)\n",
    "    def __init__(self):\n",
    "        super().__init__() \n",
    "        self.weights = nn.Parameter(torch.randn(1, # <- start with random weights (this will get adjusted as the model learns)\n",
    "                                                dtype=torch.float), # <- PyTorch loves float32 by default\n",
    "                                   requires_grad=True) # <- can we update this value with gradient descent?)\n",
    "\n",
    "        self.bias = nn.Parameter(torch.randn(1, # <- start with random bias (this will get adjusted as the model learns)\n",
    "                                            dtype=torch.float), # <- PyTorch loves float32 by default\n",
    "                                requires_grad=True) # <- can we update this value with gradient descent?))\n",
    "\n",
    "    # Forward defines the computation in the model\n",
    "    def forward(self, x: torch.Tensor) -> torch.Tensor: # <- \"x\" is the input data (e.g. training/testing features)\n",
    "        return self.weights * x + self.bias # <- this is the linear regression formula (y = m*x + b)"
   ]
  },
  {
   "cell_type": "markdown",
   "id": "3e1fa3fc",
   "metadata": {
    "papermill": {
     "duration": 0.006491,
     "end_time": "2025-08-31T11:51:02.880127",
     "exception": false,
     "start_time": "2025-08-31T11:51:02.873636",
     "status": "completed"
    },
    "tags": []
   },
   "source": [
    "## PyTorch model building essentials \n",
    "\n",
    "* torch.nn contains all of the buildings for computational graphs (a NN can be considered a computational graph)\n",
    "* torch.nn.Parameter - what parameters should our model try and learn, oftern a PyTorch layer from torch.nn will set these for us\n",
    "* torch.nn.Module - The base class for all NN modules, if you subclass it, you should overwrite forward()\n",
    "* torch.optim - this is where the optimizers in PyTorch live, they will help with gradient descent"
   ]
  },
  {
   "cell_type": "markdown",
   "id": "cc32a24f",
   "metadata": {
    "papermill": {
     "duration": 0.006473,
     "end_time": "2025-08-31T11:51:02.893393",
     "exception": false,
     "start_time": "2025-08-31T11:51:02.886920",
     "status": "completed"
    },
    "tags": []
   },
   "source": [
    "### let's take a look at what's *inside* the model"
   ]
  },
  {
   "cell_type": "code",
   "execution_count": 10,
   "id": "c54a522a",
   "metadata": {
    "execution": {
     "iopub.execute_input": "2025-08-31T11:51:02.909171Z",
     "iopub.status.busy": "2025-08-31T11:51:02.908780Z",
     "iopub.status.idle": "2025-08-31T11:51:02.931685Z",
     "shell.execute_reply": "2025-08-31T11:51:02.930621Z"
    },
    "papermill": {
     "duration": 0.032896,
     "end_time": "2025-08-31T11:51:02.933625",
     "exception": false,
     "start_time": "2025-08-31T11:51:02.900729",
     "status": "completed"
    },
    "tags": []
   },
   "outputs": [
    {
     "data": {
      "text/plain": [
       "[Parameter containing:\n",
       " tensor([0.3367], requires_grad=True),\n",
       " Parameter containing:\n",
       " tensor([0.1288], requires_grad=True)]"
      ]
     },
     "execution_count": 10,
     "metadata": {},
     "output_type": "execute_result"
    }
   ],
   "source": [
    "# random seed \n",
    "torch.manual_seed(42)\n",
    "\n",
    "# create an instance of the model (subclass of nn.Module)\n",
    "model_0 = LinearRegressionModel()\n",
    "\n",
    "# check out the parameters \n",
    "list(model_0.parameters())"
   ]
  },
  {
   "cell_type": "code",
   "execution_count": 11,
   "id": "ed5184ab",
   "metadata": {
    "execution": {
     "iopub.execute_input": "2025-08-31T11:51:02.949628Z",
     "iopub.status.busy": "2025-08-31T11:51:02.949275Z",
     "iopub.status.idle": "2025-08-31T11:51:02.957273Z",
     "shell.execute_reply": "2025-08-31T11:51:02.956168Z"
    },
    "papermill": {
     "duration": 0.018001,
     "end_time": "2025-08-31T11:51:02.959068",
     "exception": false,
     "start_time": "2025-08-31T11:51:02.941067",
     "status": "completed"
    },
    "tags": []
   },
   "outputs": [
    {
     "data": {
      "text/plain": [
       "OrderedDict([('weights', tensor([0.3367])), ('bias', tensor([0.1288]))])"
      ]
     },
     "execution_count": 11,
     "metadata": {},
     "output_type": "execute_result"
    }
   ],
   "source": [
    "# List named parameters \n",
    "model_0.state_dict()"
   ]
  },
  {
   "cell_type": "markdown",
   "id": "865488ea",
   "metadata": {
    "papermill": {
     "duration": 0.006767,
     "end_time": "2025-08-31T11:51:02.973541",
     "exception": false,
     "start_time": "2025-08-31T11:51:02.966774",
     "status": "completed"
    },
    "tags": []
   },
   "source": [
    "### Making prediction using torch.inference_mode()\n",
    "To check our model's predictive power, let's see how well it predicts y_test based on X_test.\n",
    "When we pass data through our model, it's goind to run it through the forward method "
   ]
  },
  {
   "cell_type": "code",
   "execution_count": 12,
   "id": "2d124b47",
   "metadata": {
    "execution": {
     "iopub.execute_input": "2025-08-31T11:51:02.989272Z",
     "iopub.status.busy": "2025-08-31T11:51:02.988929Z",
     "iopub.status.idle": "2025-08-31T11:51:02.997602Z",
     "shell.execute_reply": "2025-08-31T11:51:02.996495Z"
    },
    "papermill": {
     "duration": 0.018909,
     "end_time": "2025-08-31T11:51:02.999299",
     "exception": false,
     "start_time": "2025-08-31T11:51:02.980390",
     "status": "completed"
    },
    "tags": []
   },
   "outputs": [
    {
     "data": {
      "text/plain": [
       "(tensor([[0.8000],\n",
       "         [0.8200],\n",
       "         [0.8400],\n",
       "         [0.8600],\n",
       "         [0.8800],\n",
       "         [0.9000],\n",
       "         [0.9200],\n",
       "         [0.9400],\n",
       "         [0.9600],\n",
       "         [0.9800]]),\n",
       " tensor([[0.8600],\n",
       "         [0.8740],\n",
       "         [0.8880],\n",
       "         [0.9020],\n",
       "         [0.9160],\n",
       "         [0.9300],\n",
       "         [0.9440],\n",
       "         [0.9580],\n",
       "         [0.9720],\n",
       "         [0.9860]]))"
      ]
     },
     "execution_count": 12,
     "metadata": {},
     "output_type": "execute_result"
    }
   ],
   "source": [
    "X_test, y_test"
   ]
  },
  {
   "cell_type": "markdown",
   "id": "6a1e5149",
   "metadata": {
    "papermill": {
     "duration": 0.007765,
     "end_time": "2025-08-31T11:51:03.014453",
     "exception": false,
     "start_time": "2025-08-31T11:51:03.006688",
     "status": "completed"
    },
    "tags": []
   },
   "source": [
    "*torch.inference_mode()* (== torch.no_grad()) -> it turns off the gradient tracking. The predictions will be faster. Stuff we don't need are not going to be tracked. Long story short: it makes things faster "
   ]
  },
  {
   "cell_type": "code",
   "execution_count": 13,
   "id": "fa3d201b",
   "metadata": {
    "execution": {
     "iopub.execute_input": "2025-08-31T11:51:03.030445Z",
     "iopub.status.busy": "2025-08-31T11:51:03.029639Z",
     "iopub.status.idle": "2025-08-31T11:51:03.037601Z",
     "shell.execute_reply": "2025-08-31T11:51:03.036585Z"
    },
    "papermill": {
     "duration": 0.017647,
     "end_time": "2025-08-31T11:51:03.039179",
     "exception": false,
     "start_time": "2025-08-31T11:51:03.021532",
     "status": "completed"
    },
    "tags": []
   },
   "outputs": [
    {
     "data": {
      "text/plain": [
       "tensor([[0.3982],\n",
       "        [0.4049],\n",
       "        [0.4116],\n",
       "        [0.4184],\n",
       "        [0.4251],\n",
       "        [0.4318],\n",
       "        [0.4386],\n",
       "        [0.4453],\n",
       "        [0.4520],\n",
       "        [0.4588]])"
      ]
     },
     "execution_count": 13,
     "metadata": {},
     "output_type": "execute_result"
    }
   ],
   "source": [
    "# make predictions \n",
    "with torch.inference_mode():\n",
    "    y_preds = model_0(X_test) \n",
    "\n",
    "# we'd like to have y_preds as close as possible to y_test\n",
    "# but now the parameters of our model are just random numbers \n",
    "y_preds "
   ]
  },
  {
   "cell_type": "code",
   "execution_count": 14,
   "id": "f800e8ba",
   "metadata": {
    "execution": {
     "iopub.execute_input": "2025-08-31T11:51:03.055161Z",
     "iopub.status.busy": "2025-08-31T11:51:03.054802Z",
     "iopub.status.idle": "2025-08-31T11:51:03.062656Z",
     "shell.execute_reply": "2025-08-31T11:51:03.061737Z"
    },
    "papermill": {
     "duration": 0.017549,
     "end_time": "2025-08-31T11:51:03.064234",
     "exception": false,
     "start_time": "2025-08-31T11:51:03.046685",
     "status": "completed"
    },
    "tags": []
   },
   "outputs": [
    {
     "data": {
      "text/plain": [
       "tensor([[0.8600],\n",
       "        [0.8740],\n",
       "        [0.8880],\n",
       "        [0.9020],\n",
       "        [0.9160],\n",
       "        [0.9300],\n",
       "        [0.9440],\n",
       "        [0.9580],\n",
       "        [0.9720],\n",
       "        [0.9860]])"
      ]
     },
     "execution_count": 14,
     "metadata": {},
     "output_type": "execute_result"
    }
   ],
   "source": [
    "y_test"
   ]
  },
  {
   "cell_type": "code",
   "execution_count": 15,
   "id": "040dcbb8",
   "metadata": {
    "execution": {
     "iopub.execute_input": "2025-08-31T11:51:03.080499Z",
     "iopub.status.busy": "2025-08-31T11:51:03.080119Z",
     "iopub.status.idle": "2025-08-31T11:51:03.384489Z",
     "shell.execute_reply": "2025-08-31T11:51:03.383423Z"
    },
    "papermill": {
     "duration": 0.314701,
     "end_time": "2025-08-31T11:51:03.386406",
     "exception": false,
     "start_time": "2025-08-31T11:51:03.071705",
     "status": "completed"
    },
    "tags": []
   },
   "outputs": [
    {
     "data": {
      "image/png": "[encoded data removed]",
      "text/plain": [
       "<Figure size 1000x700 with 1 Axes>"
      ]
     },
     "metadata": {},
     "output_type": "display_data"
    }
   ],
   "source": [
    "plot_predictions(predictions=y_preds)\n",
    "# we'd like red dots to be on top of yellow dots"
   ]
  },
  {
   "cell_type": "markdown",
   "id": "1df6281a",
   "metadata": {
    "papermill": {
     "duration": 0.007596,
     "end_time": "2025-08-31T11:51:03.402147",
     "exception": false,
     "start_time": "2025-08-31T11:51:03.394551",
     "status": "completed"
    },
    "tags": []
   },
   "source": [
    "## [](http://)Train model \n",
    "The whole idea of training is for a model to move from some unknown parameters (these may be random) to some *known* parameters.\n",
    "\n",
    "## Loss functions\n",
    "may also be called cost functions or criteria in different areas. \n",
    "* **loss function** : it measures how wrong your model's predictions are to the ideal outputs, lower is better\n",
    "* **optimizer** : takes into account the loss of a model and adjusts the model's parameters (weight & bias) to improve the loss function\n",
    "\n",
    "And specifically for PyTorch we need \n",
    "* a training loop\n",
    "* a testing loop\n"
   ]
  },
  {
   "cell_type": "code",
   "execution_count": 16,
   "id": "6b8574ae",
   "metadata": {
    "execution": {
     "iopub.execute_input": "2025-08-31T11:51:03.419195Z",
     "iopub.status.busy": "2025-08-31T11:51:03.418860Z",
     "iopub.status.idle": "2025-08-31T11:51:03.428720Z",
     "shell.execute_reply": "2025-08-31T11:51:03.427447Z"
    },
    "papermill": {
     "duration": 0.020485,
     "end_time": "2025-08-31T11:51:03.430523",
     "exception": false,
     "start_time": "2025-08-31T11:51:03.410038",
     "status": "completed"
    },
    "tags": []
   },
   "outputs": [
    {
     "data": {
      "text/plain": [
       "(OrderedDict([('weights', tensor([0.3367])), ('bias', tensor([0.1288]))]),\n",
       " [Parameter containing:\n",
       "  tensor([0.3367], requires_grad=True),\n",
       "  Parameter containing:\n",
       "  tensor([0.1288], requires_grad=True)])"
      ]
     },
     "execution_count": 16,
     "metadata": {},
     "output_type": "execute_result"
    }
   ],
   "source": [
    "model_0.state_dict(), list(model_0.parameters())"
   ]
  },
  {
   "cell_type": "markdown",
   "id": "9f816d9d",
   "metadata": {
    "papermill": {
     "duration": 0.00752,
     "end_time": "2025-08-31T11:51:03.445991",
     "exception": false,
     "start_time": "2025-08-31T11:51:03.438471",
     "status": "completed"
    },
    "tags": []
   },
   "source": [
    "## L1 Loss (MAE)\n",
    "mean absolute error : **torch.nn.L1Loss**\n",
    "\n",
    "## torch.optim : optimizers \n",
    "* SGD, Adam: probably the more popular\n",
    "* SGD: stochastic (random) gradient descent "
   ]
  },
  {
   "cell_type": "code",
   "execution_count": 17,
   "id": "363ceb07",
   "metadata": {
    "execution": {
     "iopub.execute_input": "2025-08-31T11:51:03.463164Z",
     "iopub.status.busy": "2025-08-31T11:51:03.462726Z",
     "iopub.status.idle": "2025-08-31T11:51:10.379022Z",
     "shell.execute_reply": "2025-08-31T11:51:10.377918Z"
    },
    "papermill": {
     "duration": 6.92764,
     "end_time": "2025-08-31T11:51:10.381424",
     "exception": false,
     "start_time": "2025-08-31T11:51:03.453784",
     "status": "completed"
    },
    "tags": []
   },
   "outputs": [],
   "source": [
    "# setup a loss function\n",
    "loss_fn = nn.L1Loss()\n",
    "\n",
    "# setup an optimizer -> find parameters to minimize the loss function\n",
    "# stochastic gradient descent \n",
    "optimizer = torch.optim.SGD(\n",
    "    params=model_0.parameters(),\n",
    "    lr=0.01 # learning rate = possibly the most important hyperparameter we can set\n",
    ")"
   ]
  },
  {
   "cell_type": "markdown",
   "id": "6d04618f",
   "metadata": {
    "papermill": {
     "duration": 0.00837,
     "end_time": "2025-08-31T11:51:10.398269",
     "exception": false,
     "start_time": "2025-08-31T11:51:10.389899",
     "status": "completed"
    },
    "tags": []
   },
   "source": [
    "### Building a training loop in PyTorch\n",
    "0. Loop though the data and do :\n",
    "1. Forward pass: it involves data moving through our model's forward functions to make predictions on data - also called forward propagation\n",
    "2. Calculate the loss (compare forward pass predictions to ground truth labels)\n",
    "3. Optimizer zero grad\n",
    "4. Loss backward - move backwards through the network to calculate the gradients of each of the parameters of out model wrt the loss (**backpropagation**)\n",
    "5. Optimizer step - use the optimizer to adjust our model's parameters to try and improve the loss (**gradient descent**)"
   ]
  },
  {
   "cell_type": "code",
   "execution_count": 18,
   "id": "2c1f257f",
   "metadata": {
    "execution": {
     "iopub.execute_input": "2025-08-31T11:51:10.415703Z",
     "iopub.status.busy": "2025-08-31T11:51:10.415234Z",
     "iopub.status.idle": "2025-08-31T11:51:10.467545Z",
     "shell.execute_reply": "2025-08-31T11:51:10.466334Z"
    },
    "papermill": {
     "duration": 0.062813,
     "end_time": "2025-08-31T11:51:10.469110",
     "exception": false,
     "start_time": "2025-08-31T11:51:10.406297",
     "status": "completed"
    },
    "tags": []
   },
   "outputs": [
    {
     "name": "stdout",
     "output_type": "stream",
     "text": [
      "Loss: 0.31288138031959534\n",
      "OrderedDict([('weights', tensor([0.3406])), ('bias', tensor([0.1388]))])\n"
     ]
    }
   ],
   "source": [
    "torch.manual_seed(42)\n",
    "\n",
    "# an epoch is one loop though the data (#epochs is an hyperparameter)\n",
    "epochs = 1 \n",
    "\n",
    "# loop though the data \n",
    "for epoch in range(epochs):\n",
    "    # set the model to training mode \n",
    "    model_0.train() # train mode in PyTorch sets all parameters that require gradients to require gradients\n",
    "\n",
    "    # 1. Forward pass \n",
    "    y_pred = model_0(X_train)\n",
    "\n",
    "    # 2. Calculate the loss\n",
    "    loss = loss_fn(y_pred, y_train)\n",
    "    print(f\"Loss: {loss}\")\n",
    "\n",
    "    # 3. Optimizer zero grad \n",
    "    optimizer.zero_grad()\n",
    "\n",
    "    # 4. Perform backpropagation on the loss wrt the parameters of the model\n",
    "    loss.backward()\n",
    "\n",
    "    # 5. Optimizer step: Perform gradient descent \n",
    "    optimizer.step() # by default how the optimizer changes will accumulate through the loop so we have to zero them above in step 3 for the next iteration of the loop\n",
    "    \n",
    "    model_0.eval() # turns off gradient tracking \n",
    "\n",
    "    print(model_0.state_dict())"
   ]
  },
  {
   "cell_type": "code",
   "execution_count": 19,
   "id": "ba792c11",
   "metadata": {
    "execution": {
     "iopub.execute_input": "2025-08-31T11:51:10.487112Z",
     "iopub.status.busy": "2025-08-31T11:51:10.486136Z",
     "iopub.status.idle": "2025-08-31T11:51:11.082154Z",
     "shell.execute_reply": "2025-08-31T11:51:11.081162Z"
    },
    "papermill": {
     "duration": 0.606592,
     "end_time": "2025-08-31T11:51:11.083870",
     "exception": false,
     "start_time": "2025-08-31T11:51:10.477278",
     "status": "completed"
    },
    "tags": []
   },
   "outputs": [
    {
     "data": {
      "image/png": "[encoded data removed]",
      "text/plain": [
       "<Figure size 1000x700 with 1 Axes>"
      ]
     },
     "metadata": {},
     "output_type": "display_data"
    },
    {
     "data": {
      "image/png": "[encoded data removed]",
      "text/plain": [
       "<Figure size 1000x700 with 1 Axes>"
      ]
     },
     "metadata": {},
     "output_type": "display_data"
    }
   ],
   "source": [
    "with torch.inference_mode():\n",
    "    y_preds_new = model_0(X_test)\n",
    "\n",
    "plot_predictions(predictions=y_preds)\n",
    "plot_predictions(predictions=y_preds_new)"
   ]
  },
  {
   "cell_type": "code",
   "execution_count": 20,
   "id": "c2bf1c19",
   "metadata": {
    "execution": {
     "iopub.execute_input": "2025-08-31T11:51:11.103222Z",
     "iopub.status.busy": "2025-08-31T11:51:11.102881Z",
     "iopub.status.idle": "2025-08-31T11:51:11.109661Z",
     "shell.execute_reply": "2025-08-31T11:51:11.108651Z"
    },
    "papermill": {
     "duration": 0.018384,
     "end_time": "2025-08-31T11:51:11.111541",
     "exception": false,
     "start_time": "2025-08-31T11:51:11.093157",
     "status": "completed"
    },
    "tags": []
   },
   "outputs": [
    {
     "data": {
      "text/plain": [
       "(0.7, 0.3)"
      ]
     },
     "execution_count": 20,
     "metadata": {},
     "output_type": "execute_result"
    }
   ],
   "source": [
    "weight, bias"
   ]
  },
  {
   "cell_type": "code",
   "execution_count": null,
   "id": "4a778e06",
   "metadata": {
    "papermill": {
     "duration": 0.008642,
     "end_time": "2025-08-31T11:51:11.129355",
     "exception": false,
     "start_time": "2025-08-31T11:51:11.120713",
     "status": "completed"
    },
    "tags": []
   },
   "outputs": [],
   "source": []
  },
  {
   "cell_type": "code",
   "execution_count": null,
   "id": "0ea3e4bc",
   "metadata": {
    "papermill": {
     "duration": 0.008684,
     "end_time": "2025-08-31T11:51:11.146951",
     "exception": false,
     "start_time": "2025-08-31T11:51:11.138267",
     "status": "completed"
    },
    "tags": []
   },
   "outputs": [],
   "source": []
  }
 ],
 "metadata": {
  "kaggle": {
   "accelerator": "none",
   "dataSources": [],
   "dockerImageVersionId": 31089,
   "isGpuEnabled": false,
   "isInternetEnabled": true,
   "language": "python",
   "sourceType": "notebook"
  },
  "kernelspec": {
   "display_name": "Python 3",
   "language": "python",
   "name": "python3"
  },
  "language_info": {
   "codemirror_mode": {
    "name": "ipython",
    "version": 3
   },
   "file_extension": ".py",
   "mimetype": "text/x-python",
   "name": "python",
   "nbconvert_exporter": "python",
   "pygments_lexer": "ipython3",
   "version": "3.11.13"
  },
  "papermill": {
   "default_parameters": {},
   "duration": 23.994153,
   "end_time": "2025-08-31T11:51:13.081213",
   "environment_variables": {},
   "exception": null,
   "input_path": "__notebook__.ipynb",
   "output_path": "__notebook__.ipynb",
   "parameters": {},
   "start_time": "2025-08-31T11:50:49.087060",
   "version": "2.6.0"
  }
 },
 "nbformat": 4,
 "nbformat_minor": 5
}
