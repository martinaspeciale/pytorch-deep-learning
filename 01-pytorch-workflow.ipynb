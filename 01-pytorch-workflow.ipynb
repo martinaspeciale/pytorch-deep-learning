{
 "cells": [
  {
   "cell_type": "code",
   "execution_count": 1,
   "id": "bf8a7f01",
   "metadata": {
    "_cell_guid": "b1076dfc-b9ad-4769-8c92-a6c4dae69d19",
    "_uuid": "8f2839f25d086af736a60e9eeb907d3b93b6e0e5",
    "execution": {
     "iopub.execute_input": "2025-08-31T08:49:54.716803Z",
     "iopub.status.busy": "2025-08-31T08:49:54.716354Z",
     "iopub.status.idle": "2025-08-31T08:50:00.305576Z",
     "shell.execute_reply": "2025-08-31T08:50:00.303877Z"
    },
    "papermill": {
     "duration": 5.599127,
     "end_time": "2025-08-31T08:50:00.308147",
     "exception": false,
     "start_time": "2025-08-31T08:49:54.709020",
     "status": "completed"
    },
    "tags": []
   },
   "outputs": [],
   "source": [
    "import torch"
   ]
  },
  {
   "cell_type": "markdown",
   "id": "bee072d5",
   "metadata": {
    "papermill": {
     "duration": 0.007377,
     "end_time": "2025-08-31T08:50:00.322122",
     "exception": false,
     "start_time": "2025-08-31T08:50:00.314745",
     "status": "completed"
    },
    "tags": []
   },
   "source": [
    "## PyTorch Workflow "
   ]
  },
  {
   "cell_type": "code",
   "execution_count": 2,
   "id": "a661e30b",
   "metadata": {
    "execution": {
     "iopub.execute_input": "2025-08-31T08:50:00.341528Z",
     "iopub.status.busy": "2025-08-31T08:50:00.341034Z",
     "iopub.status.idle": "2025-08-31T08:50:00.347563Z",
     "shell.execute_reply": "2025-08-31T08:50:00.346157Z"
    },
    "papermill": {
     "duration": 0.022787,
     "end_time": "2025-08-31T08:50:00.350687",
     "exception": false,
     "start_time": "2025-08-31T08:50:00.327900",
     "status": "completed"
    },
    "tags": []
   },
   "outputs": [],
   "source": [
    "what_we_are_covering = {\n",
    "    1: \"data (prepare and load\",\n",
    "    2: \"build model\",\n",
    "    3: \"fitting the model to the  (training)\",\n",
    "    4: \"making predictions and evalating a model (inference)\", \n",
    "    5: \"saving and loading a model\",\n",
    "    6: \"putting it all together\"\n",
    "                       }"
   ]
  },
  {
   "cell_type": "code",
   "execution_count": 3,
   "id": "2980b6a0",
   "metadata": {
    "execution": {
     "iopub.execute_input": "2025-08-31T08:50:00.365147Z",
     "iopub.status.busy": "2025-08-31T08:50:00.364708Z",
     "iopub.status.idle": "2025-08-31T08:50:00.375541Z",
     "shell.execute_reply": "2025-08-31T08:50:00.373903Z"
    },
    "papermill": {
     "duration": 0.020833,
     "end_time": "2025-08-31T08:50:00.377530",
     "exception": false,
     "start_time": "2025-08-31T08:50:00.356697",
     "status": "completed"
    },
    "tags": []
   },
   "outputs": [
    {
     "data": {
      "text/plain": [
       "'2.6.0+cu124'"
      ]
     },
     "execution_count": 3,
     "metadata": {},
     "output_type": "execute_result"
    }
   ],
   "source": [
    "import torch \n",
    "from torch import nn # nn contains all of PyTorch's building blocks for neural networks \n",
    "import matplotlib.pyplot as plt \n",
    "\n",
    "torch.__version__"
   ]
  },
  {
   "cell_type": "markdown",
   "id": "8229b341",
   "metadata": {
    "papermill": {
     "duration": 0.005305,
     "end_time": "2025-08-31T08:50:00.390713",
     "exception": false,
     "start_time": "2025-08-31T08:50:00.385408",
     "status": "completed"
    },
    "tags": []
   },
   "source": [
    "## 1. Data (preparing and loading)\n",
    "\n",
    "ML is a game of two parts:\n",
    "1. get data into a numerical representation\n",
    "2. build a model to learn patterns in that numerical representation"
   ]
  },
  {
   "cell_type": "markdown",
   "id": "f47f2cc2",
   "metadata": {
    "papermill": {
     "duration": 0.005244,
     "end_time": "2025-08-31T08:50:00.402258",
     "exception": false,
     "start_time": "2025-08-31T08:50:00.397014",
     "status": "completed"
    },
    "tags": []
   },
   "source": [
    "We'll use a linear regression formula to make a stright line with known **parameters**\n",
    "1. weight = 0.7\n",
    "2. bias = 0.3"
   ]
  },
  {
   "cell_type": "code",
   "execution_count": 4,
   "id": "bca9bec3",
   "metadata": {
    "execution": {
     "iopub.execute_input": "2025-08-31T08:50:00.418799Z",
     "iopub.status.busy": "2025-08-31T08:50:00.418412Z",
     "iopub.status.idle": "2025-08-31T08:50:00.563472Z",
     "shell.execute_reply": "2025-08-31T08:50:00.562218Z"
    },
    "papermill": {
     "duration": 0.156944,
     "end_time": "2025-08-31T08:50:00.565357",
     "exception": false,
     "start_time": "2025-08-31T08:50:00.408413",
     "status": "completed"
    },
    "tags": []
   },
   "outputs": [
    {
     "data": {
      "text/plain": [
       "(tensor([[0.0000],\n",
       "         [0.0200],\n",
       "         [0.0400],\n",
       "         [0.0600],\n",
       "         [0.0800],\n",
       "         [0.1000],\n",
       "         [0.1200],\n",
       "         [0.1400],\n",
       "         [0.1600],\n",
       "         [0.1800]]),\n",
       " tensor([[0.3000],\n",
       "         [0.3140],\n",
       "         [0.3280],\n",
       "         [0.3420],\n",
       "         [0.3560],\n",
       "         [0.3700],\n",
       "         [0.3840],\n",
       "         [0.3980],\n",
       "         [0.4120],\n",
       "         [0.4260]]))"
      ]
     },
     "execution_count": 4,
     "metadata": {},
     "output_type": "execute_result"
    }
   ],
   "source": [
    "weight = 0.7 \n",
    "bias = 0.3 \n",
    "\n",
    "start = 0\n",
    "end = 1\n",
    "step = 0.02 \n",
    "X = torch.arange(start, end, step).unsqueeze(dim=1)\n",
    "y = weight * X + bias \n",
    "\n",
    "# input, output values \n",
    "X[:10], y[:10]"
   ]
  },
  {
   "cell_type": "code",
   "execution_count": 5,
   "id": "64f3352c",
   "metadata": {
    "execution": {
     "iopub.execute_input": "2025-08-31T08:50:00.579085Z",
     "iopub.status.busy": "2025-08-31T08:50:00.578641Z",
     "iopub.status.idle": "2025-08-31T08:50:00.587245Z",
     "shell.execute_reply": "2025-08-31T08:50:00.585365Z"
    },
    "papermill": {
     "duration": 0.018905,
     "end_time": "2025-08-31T08:50:00.589956",
     "exception": false,
     "start_time": "2025-08-31T08:50:00.571051",
     "status": "completed"
    },
    "tags": []
   },
   "outputs": [
    {
     "data": {
      "text/plain": [
       "(50, 50)"
      ]
     },
     "execution_count": 5,
     "metadata": {},
     "output_type": "execute_result"
    }
   ],
   "source": [
    "len(X), len(y)"
   ]
  },
  {
   "cell_type": "markdown",
   "id": "a08635c0",
   "metadata": {
    "papermill": {
     "duration": 0.0053,
     "end_time": "2025-08-31T08:50:00.601044",
     "exception": false,
     "start_time": "2025-08-31T08:50:00.595744",
     "status": "completed"
    },
    "tags": []
   },
   "source": [
    "## Splitting Data into Training and Test sets\n",
    "* training set : course material\n",
    "* validation set : practice exam\n",
    "* test set : final exam -> test generalization\n",
    "**Generalization**: the ability for a ML model to perform well on data it hasn't seen befor e"
   ]
  },
  {
   "cell_type": "code",
   "execution_count": 6,
   "id": "c9682b02",
   "metadata": {
    "execution": {
     "iopub.execute_input": "2025-08-31T08:50:00.613096Z",
     "iopub.status.busy": "2025-08-31T08:50:00.612743Z",
     "iopub.status.idle": "2025-08-31T08:50:00.621389Z",
     "shell.execute_reply": "2025-08-31T08:50:00.620279Z"
    },
    "papermill": {
     "duration": 0.018551,
     "end_time": "2025-08-31T08:50:00.625004",
     "exception": false,
     "start_time": "2025-08-31T08:50:00.606453",
     "status": "completed"
    },
    "tags": []
   },
   "outputs": [
    {
     "data": {
      "text/plain": [
       "(40, 40, 10, 10)"
      ]
     },
     "execution_count": 6,
     "metadata": {},
     "output_type": "execute_result"
    }
   ],
   "source": [
    "train_split = int(0.8 * len(X))\n",
    "X_train, y_train = X[:train_split], y[:train_split]\n",
    "X_test, y_test = X[train_split:], y[train_split:]\n",
    "\n",
    "len(X_train), len(y_train), len(X_test), len(y_test)"
   ]
  },
  {
   "cell_type": "code",
   "execution_count": 7,
   "id": "57da35b8",
   "metadata": {
    "execution": {
     "iopub.execute_input": "2025-08-31T08:50:00.641304Z",
     "iopub.status.busy": "2025-08-31T08:50:00.640914Z",
     "iopub.status.idle": "2025-08-31T08:50:00.655915Z",
     "shell.execute_reply": "2025-08-31T08:50:00.653376Z"
    },
    "papermill": {
     "duration": 0.026781,
     "end_time": "2025-08-31T08:50:00.658191",
     "exception": false,
     "start_time": "2025-08-31T08:50:00.631410",
     "status": "completed"
    },
    "tags": []
   },
   "outputs": [
    {
     "data": {
      "text/plain": [
       "(tensor([[0.0000],\n",
       "         [0.0200],\n",
       "         [0.0400],\n",
       "         [0.0600],\n",
       "         [0.0800],\n",
       "         [0.1000],\n",
       "         [0.1200],\n",
       "         [0.1400],\n",
       "         [0.1600],\n",
       "         [0.1800],\n",
       "         [0.2000],\n",
       "         [0.2200],\n",
       "         [0.2400],\n",
       "         [0.2600],\n",
       "         [0.2800],\n",
       "         [0.3000],\n",
       "         [0.3200],\n",
       "         [0.3400],\n",
       "         [0.3600],\n",
       "         [0.3800],\n",
       "         [0.4000],\n",
       "         [0.4200],\n",
       "         [0.4400],\n",
       "         [0.4600],\n",
       "         [0.4800],\n",
       "         [0.5000],\n",
       "         [0.5200],\n",
       "         [0.5400],\n",
       "         [0.5600],\n",
       "         [0.5800],\n",
       "         [0.6000],\n",
       "         [0.6200],\n",
       "         [0.6400],\n",
       "         [0.6600],\n",
       "         [0.6800],\n",
       "         [0.7000],\n",
       "         [0.7200],\n",
       "         [0.7400],\n",
       "         [0.7600],\n",
       "         [0.7800]]),\n",
       " tensor([[0.3000],\n",
       "         [0.3140],\n",
       "         [0.3280],\n",
       "         [0.3420],\n",
       "         [0.3560],\n",
       "         [0.3700],\n",
       "         [0.3840],\n",
       "         [0.3980],\n",
       "         [0.4120],\n",
       "         [0.4260],\n",
       "         [0.4400],\n",
       "         [0.4540],\n",
       "         [0.4680],\n",
       "         [0.4820],\n",
       "         [0.4960],\n",
       "         [0.5100],\n",
       "         [0.5240],\n",
       "         [0.5380],\n",
       "         [0.5520],\n",
       "         [0.5660],\n",
       "         [0.5800],\n",
       "         [0.5940],\n",
       "         [0.6080],\n",
       "         [0.6220],\n",
       "         [0.6360],\n",
       "         [0.6500],\n",
       "         [0.6640],\n",
       "         [0.6780],\n",
       "         [0.6920],\n",
       "         [0.7060],\n",
       "         [0.7200],\n",
       "         [0.7340],\n",
       "         [0.7480],\n",
       "         [0.7620],\n",
       "         [0.7760],\n",
       "         [0.7900],\n",
       "         [0.8040],\n",
       "         [0.8180],\n",
       "         [0.8320],\n",
       "         [0.8460]]))"
      ]
     },
     "execution_count": 7,
     "metadata": {},
     "output_type": "execute_result"
    }
   ],
   "source": [
    "X_train, y_train"
   ]
  },
  {
   "cell_type": "markdown",
   "id": "722f51ba",
   "metadata": {
    "papermill": {
     "duration": 0.007765,
     "end_time": "2025-08-31T08:50:00.673000",
     "exception": false,
     "start_time": "2025-08-31T08:50:00.665235",
     "status": "completed"
    },
    "tags": []
   },
   "source": [
    "How can we better visualiza our data?"
   ]
  },
  {
   "cell_type": "code",
   "execution_count": 8,
   "id": "b5315b12",
   "metadata": {
    "execution": {
     "iopub.execute_input": "2025-08-31T08:50:00.692658Z",
     "iopub.status.busy": "2025-08-31T08:50:00.691231Z",
     "iopub.status.idle": "2025-08-31T08:50:01.184657Z",
     "shell.execute_reply": "2025-08-31T08:50:01.182460Z"
    },
    "papermill": {
     "duration": 0.504431,
     "end_time": "2025-08-31T08:50:01.187146",
     "exception": false,
     "start_time": "2025-08-31T08:50:00.682715",
     "status": "completed"
    },
    "tags": []
   },
   "outputs": [
    {
     "data": {
      "image/png": "[encoded data removed]",
      "text/plain": [
       "<Figure size 1000x700 with 1 Axes>"
      ]
     },
     "metadata": {},
     "output_type": "display_data"
    }
   ],
   "source": [
    "def plot_predictions(train_data = X_train,\n",
    "                     train_labels = y_train,\n",
    "                     test_data = X_test,\n",
    "                     test_labels = y_test, \n",
    "                     predictions = None):\n",
    "    \"\"\"\n",
    "    Plots training data, test data and compares predictions\n",
    "    \"\"\"\n",
    "    \n",
    "    plt.figure(figsize=(10,7))\n",
    "    plt.scatter(train_data, train_labels, c=\"b\", s=4, label=\"Training Data\")\n",
    "\n",
    "    plt.scatter(test_data, test_labels, c=\"y\", s=4, label=\"Testing Data\")\n",
    "\n",
    "    if predictions is not None :\n",
    "        plt.scatter(test_data, predictions, c=\"r\", label=\"Predictions\")\n",
    "\n",
    "    plt.legend(prop={\"size\":14})\n",
    "\n",
    "\n",
    "plot_predictions()"
   ]
  },
  {
   "cell_type": "markdown",
   "id": "2391d9f0",
   "metadata": {
    "papermill": {
     "duration": 0.006347,
     "end_time": "2025-08-31T08:50:01.202025",
     "exception": false,
     "start_time": "2025-08-31T08:50:01.195678",
     "status": "completed"
    },
    "tags": []
   },
   "source": [
    "# Model Building\n",
    "what our model does:\n",
    "* start with random values (weight and bias)\n",
    "* look at training data and adjust the random values to better represent the ideal values\n",
    "\n",
    "Two main algorithms: \n",
    "1. Gradient descent\n",
    "2. Backpropagation"
   ]
  },
  {
   "cell_type": "code",
   "execution_count": 9,
   "id": "7cf08349",
   "metadata": {
    "execution": {
     "iopub.execute_input": "2025-08-31T08:50:01.224462Z",
     "iopub.status.busy": "2025-08-31T08:50:01.224075Z",
     "iopub.status.idle": "2025-08-31T08:50:01.235828Z",
     "shell.execute_reply": "2025-08-31T08:50:01.234585Z"
    },
    "papermill": {
     "duration": 0.025716,
     "end_time": "2025-08-31T08:50:01.237762",
     "exception": false,
     "start_time": "2025-08-31T08:50:01.212046",
     "status": "completed"
    },
    "tags": []
   },
   "outputs": [],
   "source": [
    "# Create a Linear Regression model class\n",
    "class LinearRegressionModel(nn.Module): # <- almost everything in PyTorch is a nn.Module (think of this as neural network lego blocks)\n",
    "    def __init__(self):\n",
    "        super().__init__() \n",
    "        self.weights = nn.Parameter(torch.randn(1, # <- start with random weights (this will get adjusted as the model learns)\n",
    "                                                dtype=torch.float), # <- PyTorch loves float32 by default\n",
    "                                   requires_grad=True) # <- can we update this value with gradient descent?)\n",
    "\n",
    "        self.bias = nn.Parameter(torch.randn(1, # <- start with random bias (this will get adjusted as the model learns)\n",
    "                                            dtype=torch.float), # <- PyTorch loves float32 by default\n",
    "                                requires_grad=True) # <- can we update this value with gradient descent?))\n",
    "\n",
    "    # Forward defines the computation in the model\n",
    "    def forward(self, x: torch.Tensor) -> torch.Tensor: # <- \"x\" is the input data (e.g. training/testing features)\n",
    "        return self.weights * x + self.bias # <- this is the linear regression formula (y = m*x + b)"
   ]
  },
  {
   "cell_type": "markdown",
   "id": "a8d2f22b",
   "metadata": {
    "papermill": {
     "duration": 0.006475,
     "end_time": "2025-08-31T08:50:01.250691",
     "exception": false,
     "start_time": "2025-08-31T08:50:01.244216",
     "status": "completed"
    },
    "tags": []
   },
   "source": [
    "## PyTorch model building essentials \n",
    "\n",
    "* torch.nn contains all of the buildings for computational graphs (a NN can be considered a computational graph)\n",
    "* torch.nn.Parameter - what parameters should our model try and learn, oftern a PyTorch layer from torch.nn will set these for us\n",
    "* torch.nn.Module - The base class for all NN modules, if you subclass it, you should overwrite forward()\n",
    "* torch.optim - this is where the optimizers in PyTorch live, they will help with gradient descent"
   ]
  },
  {
   "cell_type": "markdown",
   "id": "7e6e7f1d",
   "metadata": {
    "papermill": {
     "duration": 0.006397,
     "end_time": "2025-08-31T08:50:01.264139",
     "exception": false,
     "start_time": "2025-08-31T08:50:01.257742",
     "status": "completed"
    },
    "tags": []
   },
   "source": [
    "### let's take a look at what's *inside* the model"
   ]
  },
  {
   "cell_type": "code",
   "execution_count": 10,
   "id": "6972e738",
   "metadata": {
    "execution": {
     "iopub.execute_input": "2025-08-31T08:50:01.280907Z",
     "iopub.status.busy": "2025-08-31T08:50:01.280553Z",
     "iopub.status.idle": "2025-08-31T08:50:01.301986Z",
     "shell.execute_reply": "2025-08-31T08:50:01.300765Z"
    },
    "papermill": {
     "duration": 0.031805,
     "end_time": "2025-08-31T08:50:01.303910",
     "exception": false,
     "start_time": "2025-08-31T08:50:01.272105",
     "status": "completed"
    },
    "tags": []
   },
   "outputs": [
    {
     "data": {
      "text/plain": [
       "[Parameter containing:\n",
       " tensor([0.3367], requires_grad=True),\n",
       " Parameter containing:\n",
       " tensor([0.1288], requires_grad=True)]"
      ]
     },
     "execution_count": 10,
     "metadata": {},
     "output_type": "execute_result"
    }
   ],
   "source": [
    "# random seed \n",
    "torch.manual_seed(42)\n",
    "\n",
    "# create an instance of the model (subclass of nn.Module)\n",
    "model_0 = LinearRegressionModel()\n",
    "\n",
    "# check out the parameters \n",
    "list(model_0.parameters())"
   ]
  },
  {
   "cell_type": "code",
   "execution_count": 11,
   "id": "36d0fb46",
   "metadata": {
    "execution": {
     "iopub.execute_input": "2025-08-31T08:50:01.320690Z",
     "iopub.status.busy": "2025-08-31T08:50:01.319058Z",
     "iopub.status.idle": "2025-08-31T08:50:01.329433Z",
     "shell.execute_reply": "2025-08-31T08:50:01.327810Z"
    },
    "papermill": {
     "duration": 0.020905,
     "end_time": "2025-08-31T08:50:01.331325",
     "exception": false,
     "start_time": "2025-08-31T08:50:01.310420",
     "status": "completed"
    },
    "tags": []
   },
   "outputs": [
    {
     "data": {
      "text/plain": [
       "OrderedDict([('weights', tensor([0.3367])), ('bias', tensor([0.1288]))])"
      ]
     },
     "execution_count": 11,
     "metadata": {},
     "output_type": "execute_result"
    }
   ],
   "source": [
    "# List named parameters \n",
    "model_0.state_dict()"
   ]
  },
  {
   "cell_type": "markdown",
   "id": "ffa27edc",
   "metadata": {
    "papermill": {
     "duration": 0.006794,
     "end_time": "2025-08-31T08:50:01.344732",
     "exception": false,
     "start_time": "2025-08-31T08:50:01.337938",
     "status": "completed"
    },
    "tags": []
   },
   "source": [
    "### Making prediction using torch.inference_mode()\n",
    "To check our model's predictive power, let's see how well it predicts y_test based on X_test.\n",
    "When we pass data through our model, it's goind to run it through the forward method "
   ]
  },
  {
   "cell_type": "code",
   "execution_count": 12,
   "id": "00b328a7",
   "metadata": {
    "execution": {
     "iopub.execute_input": "2025-08-31T08:50:01.359670Z",
     "iopub.status.busy": "2025-08-31T08:50:01.359298Z",
     "iopub.status.idle": "2025-08-31T08:50:01.369309Z",
     "shell.execute_reply": "2025-08-31T08:50:01.367568Z"
    },
    "papermill": {
     "duration": 0.020073,
     "end_time": "2025-08-31T08:50:01.371895",
     "exception": false,
     "start_time": "2025-08-31T08:50:01.351822",
     "status": "completed"
    },
    "tags": []
   },
   "outputs": [
    {
     "data": {
      "text/plain": [
       "(tensor([[0.8000],\n",
       "         [0.8200],\n",
       "         [0.8400],\n",
       "         [0.8600],\n",
       "         [0.8800],\n",
       "         [0.9000],\n",
       "         [0.9200],\n",
       "         [0.9400],\n",
       "         [0.9600],\n",
       "         [0.9800]]),\n",
       " tensor([[0.8600],\n",
       "         [0.8740],\n",
       "         [0.8880],\n",
       "         [0.9020],\n",
       "         [0.9160],\n",
       "         [0.9300],\n",
       "         [0.9440],\n",
       "         [0.9580],\n",
       "         [0.9720],\n",
       "         [0.9860]]))"
      ]
     },
     "execution_count": 12,
     "metadata": {},
     "output_type": "execute_result"
    }
   ],
   "source": [
    "X_test, y_test"
   ]
  },
  {
   "cell_type": "markdown",
   "id": "c3613c1d",
   "metadata": {
    "papermill": {
     "duration": 0.007949,
     "end_time": "2025-08-31T08:50:01.386587",
     "exception": false,
     "start_time": "2025-08-31T08:50:01.378638",
     "status": "completed"
    },
    "tags": []
   },
   "source": [
    "*torch.inference_mode()* (== torch.no_grad()) -> it turns off the gradient tracking. The predictions will be faster. Stuff we don't need are not going to be tracked. Long story short: it makes things faster "
   ]
  },
  {
   "cell_type": "code",
   "execution_count": 13,
   "id": "5f667686",
   "metadata": {
    "execution": {
     "iopub.execute_input": "2025-08-31T08:50:01.402274Z",
     "iopub.status.busy": "2025-08-31T08:50:01.401952Z",
     "iopub.status.idle": "2025-08-31T08:50:01.411244Z",
     "shell.execute_reply": "2025-08-31T08:50:01.409859Z"
    },
    "papermill": {
     "duration": 0.018785,
     "end_time": "2025-08-31T08:50:01.413136",
     "exception": false,
     "start_time": "2025-08-31T08:50:01.394351",
     "status": "completed"
    },
    "tags": []
   },
   "outputs": [
    {
     "data": {
      "text/plain": [
       "tensor([[0.3982],\n",
       "        [0.4049],\n",
       "        [0.4116],\n",
       "        [0.4184],\n",
       "        [0.4251],\n",
       "        [0.4318],\n",
       "        [0.4386],\n",
       "        [0.4453],\n",
       "        [0.4520],\n",
       "        [0.4588]])"
      ]
     },
     "execution_count": 13,
     "metadata": {},
     "output_type": "execute_result"
    }
   ],
   "source": [
    "# make predictions \n",
    "with torch.inference_mode():\n",
    "    y_preds = model_0(X_test) \n",
    "\n",
    "# we'd like to have y_preds as close as possible to y_test\n",
    "# but now the parameters of our model are just random numbers \n",
    "y_preds "
   ]
  },
  {
   "cell_type": "code",
   "execution_count": 14,
   "id": "8d890077",
   "metadata": {
    "execution": {
     "iopub.execute_input": "2025-08-31T08:50:01.428252Z",
     "iopub.status.busy": "2025-08-31T08:50:01.427947Z",
     "iopub.status.idle": "2025-08-31T08:50:01.436116Z",
     "shell.execute_reply": "2025-08-31T08:50:01.435240Z"
    },
    "papermill": {
     "duration": 0.018006,
     "end_time": "2025-08-31T08:50:01.437917",
     "exception": false,
     "start_time": "2025-08-31T08:50:01.419911",
     "status": "completed"
    },
    "tags": []
   },
   "outputs": [
    {
     "data": {
      "text/plain": [
       "tensor([[0.8600],\n",
       "        [0.8740],\n",
       "        [0.8880],\n",
       "        [0.9020],\n",
       "        [0.9160],\n",
       "        [0.9300],\n",
       "        [0.9440],\n",
       "        [0.9580],\n",
       "        [0.9720],\n",
       "        [0.9860]])"
      ]
     },
     "execution_count": 14,
     "metadata": {},
     "output_type": "execute_result"
    }
   ],
   "source": [
    "y_test"
   ]
  },
  {
   "cell_type": "code",
   "execution_count": 15,
   "id": "dde17c1f",
   "metadata": {
    "execution": {
     "iopub.execute_input": "2025-08-31T08:50:01.453067Z",
     "iopub.status.busy": "2025-08-31T08:50:01.452606Z",
     "iopub.status.idle": "2025-08-31T08:50:01.777375Z",
     "shell.execute_reply": "2025-08-31T08:50:01.776001Z"
    },
    "papermill": {
     "duration": 0.334218,
     "end_time": "2025-08-31T08:50:01.779137",
     "exception": false,
     "start_time": "2025-08-31T08:50:01.444919",
     "status": "completed"
    },
    "tags": []
   },
   "outputs": [
    {
     "data": {
      "image/png": "[encoded data removed]",
      "text/plain": [
       "<Figure size 1000x700 with 1 Axes>"
      ]
     },
     "metadata": {},
     "output_type": "display_data"
    }
   ],
   "source": [
    "plot_predictions(predictions=y_preds)\n",
    "# we'd like red dots to be on top of yellow dots"
   ]
  },
  {
   "cell_type": "code",
   "execution_count": null,
   "id": "1080d8c2",
   "metadata": {
    "papermill": {
     "duration": 0.008785,
     "end_time": "2025-08-31T08:50:01.796028",
     "exception": false,
     "start_time": "2025-08-31T08:50:01.787243",
     "status": "completed"
    },
    "tags": []
   },
   "outputs": [],
   "source": []
  },
  {
   "cell_type": "code",
   "execution_count": null,
   "id": "bc3f4242",
   "metadata": {
    "papermill": {
     "duration": 0.007079,
     "end_time": "2025-08-31T08:50:01.812300",
     "exception": false,
     "start_time": "2025-08-31T08:50:01.805221",
     "status": "completed"
    },
    "tags": []
   },
   "outputs": [],
   "source": []
  },
  {
   "cell_type": "code",
   "execution_count": null,
   "id": "5295e81a",
   "metadata": {
    "papermill": {
     "duration": 0.008119,
     "end_time": "2025-08-31T08:50:01.828560",
     "exception": false,
     "start_time": "2025-08-31T08:50:01.820441",
     "status": "completed"
    },
    "tags": []
   },
   "outputs": [],
   "source": []
  },
  {
   "cell_type": "code",
   "execution_count": null,
   "id": "4e1aa98b",
   "metadata": {
    "papermill": {
     "duration": 0.007621,
     "end_time": "2025-08-31T08:50:01.843885",
     "exception": false,
     "start_time": "2025-08-31T08:50:01.836264",
     "status": "completed"
    },
    "tags": []
   },
   "outputs": [],
   "source": []
  },
  {
   "cell_type": "code",
   "execution_count": null,
   "id": "95e5519c",
   "metadata": {
    "papermill": {
     "duration": 0.007157,
     "end_time": "2025-08-31T08:50:01.859138",
     "exception": false,
     "start_time": "2025-08-31T08:50:01.851981",
     "status": "completed"
    },
    "tags": []
   },
   "outputs": [],
   "source": []
  },
  {
   "cell_type": "code",
   "execution_count": null,
   "id": "0fb1c08c",
   "metadata": {
    "papermill": {
     "duration": 0.006812,
     "end_time": "2025-08-31T08:50:01.874430",
     "exception": false,
     "start_time": "2025-08-31T08:50:01.867618",
     "status": "completed"
    },
    "tags": []
   },
   "outputs": [],
   "source": []
  }
 ],
 "metadata": {
  "kaggle": {
   "accelerator": "none",
   "dataSources": [],
   "dockerImageVersionId": 31089,
   "isGpuEnabled": false,
   "isInternetEnabled": true,
   "language": "python",
   "sourceType": "notebook"
  },
  "kernelspec": {
   "display_name": "Python 3",
   "language": "python",
   "name": "python3"
  },
  "language_info": {
   "codemirror_mode": {
    "name": "ipython",
    "version": 3
   },
   "file_extension": ".py",
   "mimetype": "text/x-python",
   "name": "python",
   "nbconvert_exporter": "python",
   "pygments_lexer": "ipython3",
   "version": "3.11.13"
  },
  "papermill": {
   "default_parameters": {},
   "duration": 16.126531,
   "end_time": "2025-08-31T08:50:04.153426",
   "environment_variables": {},
   "exception": null,
   "input_path": "__notebook__.ipynb",
   "output_path": "__notebook__.ipynb",
   "parameters": {},
   "start_time": "2025-08-31T08:49:48.026895",
   "version": "2.6.0"
  }
 },
 "nbformat": 4,
 "nbformat_minor": 5
}
