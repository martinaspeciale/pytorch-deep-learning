{
 "cells": [
  {
   "cell_type": "code",
   "execution_count": 1,
   "id": "902dbd62",
   "metadata": {
    "_cell_guid": "b1076dfc-b9ad-4769-8c92-a6c4dae69d19",
    "_uuid": "8f2839f25d086af736a60e9eeb907d3b93b6e0e5",
    "execution": {
     "iopub.execute_input": "2025-08-31T11:59:56.795238Z",
     "iopub.status.busy": "2025-08-31T11:59:56.794850Z",
     "iopub.status.idle": "2025-08-31T12:00:04.388194Z",
     "shell.execute_reply": "2025-08-31T12:00:04.387116Z"
    },
    "papermill": {
     "duration": 7.604137,
     "end_time": "2025-08-31T12:00:04.390035",
     "exception": false,
     "start_time": "2025-08-31T11:59:56.785898",
     "status": "completed"
    },
    "tags": []
   },
   "outputs": [],
   "source": [
    "import torch"
   ]
  },
  {
   "cell_type": "markdown",
   "id": "809d58d0",
   "metadata": {
    "papermill": {
     "duration": 0.005579,
     "end_time": "2025-08-31T12:00:04.402049",
     "exception": false,
     "start_time": "2025-08-31T12:00:04.396470",
     "status": "completed"
    },
    "tags": []
   },
   "source": [
    "## PyTorch Workflow "
   ]
  },
  {
   "cell_type": "code",
   "execution_count": 2,
   "id": "1a41b5ec",
   "metadata": {
    "execution": {
     "iopub.execute_input": "2025-08-31T12:00:04.415383Z",
     "iopub.status.busy": "2025-08-31T12:00:04.414934Z",
     "iopub.status.idle": "2025-08-31T12:00:04.420805Z",
     "shell.execute_reply": "2025-08-31T12:00:04.419738Z"
    },
    "papermill": {
     "duration": 0.01464,
     "end_time": "2025-08-31T12:00:04.422726",
     "exception": false,
     "start_time": "2025-08-31T12:00:04.408086",
     "status": "completed"
    },
    "tags": []
   },
   "outputs": [],
   "source": [
    "what_we_are_covering = {\n",
    "    1: \"data (prepare and load\",\n",
    "    2: \"build model\",\n",
    "    3: \"fitting the model to the  (training)\",\n",
    "    4: \"making predictions and evalating a model (inference)\", \n",
    "    5: \"saving and loading a model\",\n",
    "    6: \"putting it all together\"\n",
    "                       }"
   ]
  },
  {
   "cell_type": "code",
   "execution_count": 3,
   "id": "f0d0cd61",
   "metadata": {
    "execution": {
     "iopub.execute_input": "2025-08-31T12:00:04.437055Z",
     "iopub.status.busy": "2025-08-31T12:00:04.436564Z",
     "iopub.status.idle": "2025-08-31T12:00:04.444550Z",
     "shell.execute_reply": "2025-08-31T12:00:04.443440Z"
    },
    "papermill": {
     "duration": 0.017427,
     "end_time": "2025-08-31T12:00:04.446414",
     "exception": false,
     "start_time": "2025-08-31T12:00:04.428987",
     "status": "completed"
    },
    "tags": []
   },
   "outputs": [
    {
     "data": {
      "text/plain": [
       "'2.6.0+cu124'"
      ]
     },
     "execution_count": 3,
     "metadata": {},
     "output_type": "execute_result"
    }
   ],
   "source": [
    "import torch \n",
    "from torch import nn # nn contains all of PyTorch's building blocks for neural networks \n",
    "import matplotlib.pyplot as plt \n",
    "\n",
    "torch.__version__"
   ]
  },
  {
   "cell_type": "markdown",
   "id": "212d02b9",
   "metadata": {
    "papermill": {
     "duration": 0.00618,
     "end_time": "2025-08-31T12:00:04.458938",
     "exception": false,
     "start_time": "2025-08-31T12:00:04.452758",
     "status": "completed"
    },
    "tags": []
   },
   "source": [
    "## 1. Data (preparing and loading)\n",
    "\n",
    "ML is a game of two parts:\n",
    "1. get data into a numerical representation\n",
    "2. build a model to learn patterns in that numerical representation"
   ]
  },
  {
   "cell_type": "markdown",
   "id": "110dc82f",
   "metadata": {
    "papermill": {
     "duration": 0.005665,
     "end_time": "2025-08-31T12:00:04.470569",
     "exception": false,
     "start_time": "2025-08-31T12:00:04.464904",
     "status": "completed"
    },
    "tags": []
   },
   "source": [
    "We'll use a linear regression formula to make a stright line with known **parameters**\n",
    "1. weight = 0.7\n",
    "2. bias = 0.3"
   ]
  },
  {
   "cell_type": "code",
   "execution_count": 4,
   "id": "fe027d99",
   "metadata": {
    "execution": {
     "iopub.execute_input": "2025-08-31T12:00:04.485575Z",
     "iopub.status.busy": "2025-08-31T12:00:04.485234Z",
     "iopub.status.idle": "2025-08-31T12:00:04.641506Z",
     "shell.execute_reply": "2025-08-31T12:00:04.640152Z"
    },
    "papermill": {
     "duration": 0.165429,
     "end_time": "2025-08-31T12:00:04.643559",
     "exception": false,
     "start_time": "2025-08-31T12:00:04.478130",
     "status": "completed"
    },
    "tags": []
   },
   "outputs": [
    {
     "data": {
      "text/plain": [
       "(tensor([[0.0000],\n",
       "         [0.0200],\n",
       "         [0.0400],\n",
       "         [0.0600],\n",
       "         [0.0800],\n",
       "         [0.1000],\n",
       "         [0.1200],\n",
       "         [0.1400],\n",
       "         [0.1600],\n",
       "         [0.1800]]),\n",
       " tensor([[0.3000],\n",
       "         [0.3140],\n",
       "         [0.3280],\n",
       "         [0.3420],\n",
       "         [0.3560],\n",
       "         [0.3700],\n",
       "         [0.3840],\n",
       "         [0.3980],\n",
       "         [0.4120],\n",
       "         [0.4260]]))"
      ]
     },
     "execution_count": 4,
     "metadata": {},
     "output_type": "execute_result"
    }
   ],
   "source": [
    "weight = 0.7 \n",
    "bias = 0.3 \n",
    "\n",
    "start = 0\n",
    "end = 1\n",
    "step = 0.02 \n",
    "X = torch.arange(start, end, step).unsqueeze(dim=1)\n",
    "y = weight * X + bias \n",
    "\n",
    "# input, output values \n",
    "X[:10], y[:10]"
   ]
  },
  {
   "cell_type": "code",
   "execution_count": 5,
   "id": "a15159de",
   "metadata": {
    "execution": {
     "iopub.execute_input": "2025-08-31T12:00:04.659187Z",
     "iopub.status.busy": "2025-08-31T12:00:04.658482Z",
     "iopub.status.idle": "2025-08-31T12:00:04.667350Z",
     "shell.execute_reply": "2025-08-31T12:00:04.665539Z"
    },
    "papermill": {
     "duration": 0.020014,
     "end_time": "2025-08-31T12:00:04.670227",
     "exception": false,
     "start_time": "2025-08-31T12:00:04.650213",
     "status": "completed"
    },
    "tags": []
   },
   "outputs": [
    {
     "data": {
      "text/plain": [
       "(50, 50)"
      ]
     },
     "execution_count": 5,
     "metadata": {},
     "output_type": "execute_result"
    }
   ],
   "source": [
    "len(X), len(y)"
   ]
  },
  {
   "cell_type": "markdown",
   "id": "ab0ae58d",
   "metadata": {
    "papermill": {
     "duration": 0.006597,
     "end_time": "2025-08-31T12:00:04.684806",
     "exception": false,
     "start_time": "2025-08-31T12:00:04.678209",
     "status": "completed"
    },
    "tags": []
   },
   "source": [
    "## Splitting Data into Training and Test sets\n",
    "* training set : course material\n",
    "* validation set : practice exam\n",
    "* test set : final exam -> test generalization\n",
    "**Generalization**: the ability for a ML model to perform well on data it hasn't seen befor e"
   ]
  },
  {
   "cell_type": "code",
   "execution_count": 6,
   "id": "65db802b",
   "metadata": {
    "execution": {
     "iopub.execute_input": "2025-08-31T12:00:04.698581Z",
     "iopub.status.busy": "2025-08-31T12:00:04.698229Z",
     "iopub.status.idle": "2025-08-31T12:00:04.708332Z",
     "shell.execute_reply": "2025-08-31T12:00:04.707027Z"
    },
    "papermill": {
     "duration": 0.019634,
     "end_time": "2025-08-31T12:00:04.710533",
     "exception": false,
     "start_time": "2025-08-31T12:00:04.690899",
     "status": "completed"
    },
    "tags": []
   },
   "outputs": [
    {
     "data": {
      "text/plain": [
       "(40, 40, 10, 10)"
      ]
     },
     "execution_count": 6,
     "metadata": {},
     "output_type": "execute_result"
    }
   ],
   "source": [
    "train_split = int(0.8 * len(X))\n",
    "X_train, y_train = X[:train_split], y[:train_split]\n",
    "X_test, y_test = X[train_split:], y[train_split:]\n",
    "\n",
    "len(X_train), len(y_train), len(X_test), len(y_test)"
   ]
  },
  {
   "cell_type": "code",
   "execution_count": 7,
   "id": "4f2bba23",
   "metadata": {
    "execution": {
     "iopub.execute_input": "2025-08-31T12:00:04.725388Z",
     "iopub.status.busy": "2025-08-31T12:00:04.725039Z",
     "iopub.status.idle": "2025-08-31T12:00:04.735105Z",
     "shell.execute_reply": "2025-08-31T12:00:04.734009Z"
    },
    "papermill": {
     "duration": 0.019598,
     "end_time": "2025-08-31T12:00:04.737189",
     "exception": false,
     "start_time": "2025-08-31T12:00:04.717591",
     "status": "completed"
    },
    "tags": []
   },
   "outputs": [
    {
     "data": {
      "text/plain": [
       "(tensor([[0.0000],\n",
       "         [0.0200],\n",
       "         [0.0400],\n",
       "         [0.0600],\n",
       "         [0.0800],\n",
       "         [0.1000],\n",
       "         [0.1200],\n",
       "         [0.1400],\n",
       "         [0.1600],\n",
       "         [0.1800],\n",
       "         [0.2000],\n",
       "         [0.2200],\n",
       "         [0.2400],\n",
       "         [0.2600],\n",
       "         [0.2800],\n",
       "         [0.3000],\n",
       "         [0.3200],\n",
       "         [0.3400],\n",
       "         [0.3600],\n",
       "         [0.3800],\n",
       "         [0.4000],\n",
       "         [0.4200],\n",
       "         [0.4400],\n",
       "         [0.4600],\n",
       "         [0.4800],\n",
       "         [0.5000],\n",
       "         [0.5200],\n",
       "         [0.5400],\n",
       "         [0.5600],\n",
       "         [0.5800],\n",
       "         [0.6000],\n",
       "         [0.6200],\n",
       "         [0.6400],\n",
       "         [0.6600],\n",
       "         [0.6800],\n",
       "         [0.7000],\n",
       "         [0.7200],\n",
       "         [0.7400],\n",
       "         [0.7600],\n",
       "         [0.7800]]),\n",
       " tensor([[0.3000],\n",
       "         [0.3140],\n",
       "         [0.3280],\n",
       "         [0.3420],\n",
       "         [0.3560],\n",
       "         [0.3700],\n",
       "         [0.3840],\n",
       "         [0.3980],\n",
       "         [0.4120],\n",
       "         [0.4260],\n",
       "         [0.4400],\n",
       "         [0.4540],\n",
       "         [0.4680],\n",
       "         [0.4820],\n",
       "         [0.4960],\n",
       "         [0.5100],\n",
       "         [0.5240],\n",
       "         [0.5380],\n",
       "         [0.5520],\n",
       "         [0.5660],\n",
       "         [0.5800],\n",
       "         [0.5940],\n",
       "         [0.6080],\n",
       "         [0.6220],\n",
       "         [0.6360],\n",
       "         [0.6500],\n",
       "         [0.6640],\n",
       "         [0.6780],\n",
       "         [0.6920],\n",
       "         [0.7060],\n",
       "         [0.7200],\n",
       "         [0.7340],\n",
       "         [0.7480],\n",
       "         [0.7620],\n",
       "         [0.7760],\n",
       "         [0.7900],\n",
       "         [0.8040],\n",
       "         [0.8180],\n",
       "         [0.8320],\n",
       "         [0.8460]]))"
      ]
     },
     "execution_count": 7,
     "metadata": {},
     "output_type": "execute_result"
    }
   ],
   "source": [
    "X_train, y_train"
   ]
  },
  {
   "cell_type": "markdown",
   "id": "3a5fa49c",
   "metadata": {
    "papermill": {
     "duration": 0.006222,
     "end_time": "2025-08-31T12:00:04.750731",
     "exception": false,
     "start_time": "2025-08-31T12:00:04.744509",
     "status": "completed"
    },
    "tags": []
   },
   "source": [
    "How can we better visualiza our data?"
   ]
  },
  {
   "cell_type": "code",
   "execution_count": 8,
   "id": "4c59518c",
   "metadata": {
    "execution": {
     "iopub.execute_input": "2025-08-31T12:00:04.764832Z",
     "iopub.status.busy": "2025-08-31T12:00:04.764455Z",
     "iopub.status.idle": "2025-08-31T12:00:05.219705Z",
     "shell.execute_reply": "2025-08-31T12:00:05.217983Z"
    },
    "papermill": {
     "duration": 0.465175,
     "end_time": "2025-08-31T12:00:05.222223",
     "exception": false,
     "start_time": "2025-08-31T12:00:04.757048",
     "status": "completed"
    },
    "tags": []
   },
   "outputs": [
    {
     "data": {
      "image/png": "[encoded data removed]",
      "text/plain": [
       "<Figure size 1000x700 with 1 Axes>"
      ]
     },
     "metadata": {},
     "output_type": "display_data"
    }
   ],
   "source": [
    "def plot_predictions(train_data = X_train,\n",
    "                     train_labels = y_train,\n",
    "                     test_data = X_test,\n",
    "                     test_labels = y_test, \n",
    "                     predictions = None):\n",
    "    \"\"\"\n",
    "    Plots training data, test data and compares predictions\n",
    "    \"\"\"\n",
    "    \n",
    "    plt.figure(figsize=(10,7))\n",
    "    plt.scatter(train_data, train_labels, c=\"b\", s=4, label=\"Training Data\")\n",
    "\n",
    "    plt.scatter(test_data, test_labels, c=\"y\", s=4, label=\"Testing Data\")\n",
    "\n",
    "    if predictions is not None :\n",
    "        plt.scatter(test_data, predictions, c=\"r\", label=\"Predictions\")\n",
    "\n",
    "    plt.legend(prop={\"size\":14})\n",
    "\n",
    "\n",
    "plot_predictions()"
   ]
  },
  {
   "cell_type": "markdown",
   "id": "29a05986",
   "metadata": {
    "papermill": {
     "duration": 0.007728,
     "end_time": "2025-08-31T12:00:05.238108",
     "exception": false,
     "start_time": "2025-08-31T12:00:05.230380",
     "status": "completed"
    },
    "tags": []
   },
   "source": [
    "# Model Building\n",
    "what our model does:\n",
    "* start with random values (weight and bias)\n",
    "* look at training data and adjust the random values to better represent the ideal values\n",
    "\n",
    "Two main algorithms: \n",
    "1. Gradient descent\n",
    "2. Backpropagation"
   ]
  },
  {
   "cell_type": "code",
   "execution_count": 9,
   "id": "6d1f7e6b",
   "metadata": {
    "execution": {
     "iopub.execute_input": "2025-08-31T12:00:05.256444Z",
     "iopub.status.busy": "2025-08-31T12:00:05.256111Z",
     "iopub.status.idle": "2025-08-31T12:00:05.263867Z",
     "shell.execute_reply": "2025-08-31T12:00:05.262310Z"
    },
    "papermill": {
     "duration": 0.020531,
     "end_time": "2025-08-31T12:00:05.265865",
     "exception": false,
     "start_time": "2025-08-31T12:00:05.245334",
     "status": "completed"
    },
    "tags": []
   },
   "outputs": [],
   "source": [
    "# Create a Linear Regression model class\n",
    "class LinearRegressionModel(nn.Module): # <- almost everything in PyTorch is a nn.Module (think of this as neural network lego blocks)\n",
    "    def __init__(self):\n",
    "        super().__init__() \n",
    "        self.weights = nn.Parameter(torch.randn(1, # <- start with random weights (this will get adjusted as the model learns)\n",
    "                                                dtype=torch.float), # <- PyTorch loves float32 by default\n",
    "                                   requires_grad=True) # <- can we update this value with gradient descent?)\n",
    "\n",
    "        self.bias = nn.Parameter(torch.randn(1, # <- start with random bias (this will get adjusted as the model learns)\n",
    "                                            dtype=torch.float), # <- PyTorch loves float32 by default\n",
    "                                requires_grad=True) # <- can we update this value with gradient descent?))\n",
    "\n",
    "    # Forward defines the computation in the model\n",
    "    def forward(self, x: torch.Tensor) -> torch.Tensor: # <- \"x\" is the input data (e.g. training/testing features)\n",
    "        return self.weights * x + self.bias # <- this is the linear regression formula (y = m*x + b)"
   ]
  },
  {
   "cell_type": "markdown",
   "id": "3e97a51f",
   "metadata": {
    "papermill": {
     "duration": 0.007423,
     "end_time": "2025-08-31T12:00:05.281477",
     "exception": false,
     "start_time": "2025-08-31T12:00:05.274054",
     "status": "completed"
    },
    "tags": []
   },
   "source": [
    "## PyTorch model building essentials \n",
    "\n",
    "* torch.nn contains all of the buildings for computational graphs (a NN can be considered a computational graph)\n",
    "* torch.nn.Parameter - what parameters should our model try and learn, oftern a PyTorch layer from torch.nn will set these for us\n",
    "* torch.nn.Module - The base class for all NN modules, if you subclass it, you should overwrite forward()\n",
    "* torch.optim - this is where the optimizers in PyTorch live, they will help with gradient descent"
   ]
  },
  {
   "cell_type": "markdown",
   "id": "f1691888",
   "metadata": {
    "papermill": {
     "duration": 0.007383,
     "end_time": "2025-08-31T12:00:05.296864",
     "exception": false,
     "start_time": "2025-08-31T12:00:05.289481",
     "status": "completed"
    },
    "tags": []
   },
   "source": [
    "### let's take a look at what's *inside* the model"
   ]
  },
  {
   "cell_type": "code",
   "execution_count": 10,
   "id": "4e8058bd",
   "metadata": {
    "execution": {
     "iopub.execute_input": "2025-08-31T12:00:05.314131Z",
     "iopub.status.busy": "2025-08-31T12:00:05.313791Z",
     "iopub.status.idle": "2025-08-31T12:00:05.335335Z",
     "shell.execute_reply": "2025-08-31T12:00:05.333820Z"
    },
    "papermill": {
     "duration": 0.032871,
     "end_time": "2025-08-31T12:00:05.337477",
     "exception": false,
     "start_time": "2025-08-31T12:00:05.304606",
     "status": "completed"
    },
    "tags": []
   },
   "outputs": [
    {
     "data": {
      "text/plain": [
       "[Parameter containing:\n",
       " tensor([0.3367], requires_grad=True),\n",
       " Parameter containing:\n",
       " tensor([0.1288], requires_grad=True)]"
      ]
     },
     "execution_count": 10,
     "metadata": {},
     "output_type": "execute_result"
    }
   ],
   "source": [
    "# random seed \n",
    "torch.manual_seed(42)\n",
    "\n",
    "# create an instance of the model (subclass of nn.Module)\n",
    "model_0 = LinearRegressionModel()\n",
    "\n",
    "# check out the parameters \n",
    "list(model_0.parameters())"
   ]
  },
  {
   "cell_type": "code",
   "execution_count": 11,
   "id": "5cbf51db",
   "metadata": {
    "execution": {
     "iopub.execute_input": "2025-08-31T12:00:05.355930Z",
     "iopub.status.busy": "2025-08-31T12:00:05.355273Z",
     "iopub.status.idle": "2025-08-31T12:00:05.366120Z",
     "shell.execute_reply": "2025-08-31T12:00:05.364962Z"
    },
    "papermill": {
     "duration": 0.022331,
     "end_time": "2025-08-31T12:00:05.368318",
     "exception": false,
     "start_time": "2025-08-31T12:00:05.345987",
     "status": "completed"
    },
    "tags": []
   },
   "outputs": [
    {
     "data": {
      "text/plain": [
       "OrderedDict([('weights', tensor([0.3367])), ('bias', tensor([0.1288]))])"
      ]
     },
     "execution_count": 11,
     "metadata": {},
     "output_type": "execute_result"
    }
   ],
   "source": [
    "# List named parameters \n",
    "model_0.state_dict()"
   ]
  },
  {
   "cell_type": "markdown",
   "id": "39a15bd4",
   "metadata": {
    "papermill": {
     "duration": 0.006882,
     "end_time": "2025-08-31T12:00:05.383784",
     "exception": false,
     "start_time": "2025-08-31T12:00:05.376902",
     "status": "completed"
    },
    "tags": []
   },
   "source": [
    "### Making prediction using torch.inference_mode()\n",
    "To check our model's predictive power, let's see how well it predicts y_test based on X_test.\n",
    "When we pass data through our model, it's goind to run it through the forward method "
   ]
  },
  {
   "cell_type": "code",
   "execution_count": 12,
   "id": "fc385f23",
   "metadata": {
    "execution": {
     "iopub.execute_input": "2025-08-31T12:00:05.401364Z",
     "iopub.status.busy": "2025-08-31T12:00:05.400975Z",
     "iopub.status.idle": "2025-08-31T12:00:05.410838Z",
     "shell.execute_reply": "2025-08-31T12:00:05.409921Z"
    },
    "papermill": {
     "duration": 0.020036,
     "end_time": "2025-08-31T12:00:05.412514",
     "exception": false,
     "start_time": "2025-08-31T12:00:05.392478",
     "status": "completed"
    },
    "tags": []
   },
   "outputs": [
    {
     "data": {
      "text/plain": [
       "(tensor([[0.8000],\n",
       "         [0.8200],\n",
       "         [0.8400],\n",
       "         [0.8600],\n",
       "         [0.8800],\n",
       "         [0.9000],\n",
       "         [0.9200],\n",
       "         [0.9400],\n",
       "         [0.9600],\n",
       "         [0.9800]]),\n",
       " tensor([[0.8600],\n",
       "         [0.8740],\n",
       "         [0.8880],\n",
       "         [0.9020],\n",
       "         [0.9160],\n",
       "         [0.9300],\n",
       "         [0.9440],\n",
       "         [0.9580],\n",
       "         [0.9720],\n",
       "         [0.9860]]))"
      ]
     },
     "execution_count": 12,
     "metadata": {},
     "output_type": "execute_result"
    }
   ],
   "source": [
    "X_test, y_test"
   ]
  },
  {
   "cell_type": "markdown",
   "id": "990048ce",
   "metadata": {
    "papermill": {
     "duration": 0.007578,
     "end_time": "2025-08-31T12:00:05.427436",
     "exception": false,
     "start_time": "2025-08-31T12:00:05.419858",
     "status": "completed"
    },
    "tags": []
   },
   "source": [
    "*torch.inference_mode()* (== torch.no_grad()) -> it turns off the gradient tracking. The predictions will be faster. Stuff we don't need are not going to be tracked. Long story short: it makes things faster "
   ]
  },
  {
   "cell_type": "code",
   "execution_count": 13,
   "id": "3959c3b5",
   "metadata": {
    "execution": {
     "iopub.execute_input": "2025-08-31T12:00:05.443554Z",
     "iopub.status.busy": "2025-08-31T12:00:05.442793Z",
     "iopub.status.idle": "2025-08-31T12:00:05.450942Z",
     "shell.execute_reply": "2025-08-31T12:00:05.449650Z"
    },
    "papermill": {
     "duration": 0.018444,
     "end_time": "2025-08-31T12:00:05.452927",
     "exception": false,
     "start_time": "2025-08-31T12:00:05.434483",
     "status": "completed"
    },
    "tags": []
   },
   "outputs": [
    {
     "data": {
      "text/plain": [
       "tensor([[0.3982],\n",
       "        [0.4049],\n",
       "        [0.4116],\n",
       "        [0.4184],\n",
       "        [0.4251],\n",
       "        [0.4318],\n",
       "        [0.4386],\n",
       "        [0.4453],\n",
       "        [0.4520],\n",
       "        [0.4588]])"
      ]
     },
     "execution_count": 13,
     "metadata": {},
     "output_type": "execute_result"
    }
   ],
   "source": [
    "# make predictions \n",
    "with torch.inference_mode():\n",
    "    y_preds = model_0(X_test) \n",
    "\n",
    "# we'd like to have y_preds as close as possible to y_test\n",
    "# but now the parameters of our model are just random numbers \n",
    "y_preds "
   ]
  },
  {
   "cell_type": "code",
   "execution_count": 14,
   "id": "f54dd336",
   "metadata": {
    "execution": {
     "iopub.execute_input": "2025-08-31T12:00:05.471370Z",
     "iopub.status.busy": "2025-08-31T12:00:05.470199Z",
     "iopub.status.idle": "2025-08-31T12:00:05.477809Z",
     "shell.execute_reply": "2025-08-31T12:00:05.476678Z"
    },
    "papermill": {
     "duration": 0.019104,
     "end_time": "2025-08-31T12:00:05.479669",
     "exception": false,
     "start_time": "2025-08-31T12:00:05.460565",
     "status": "completed"
    },
    "tags": []
   },
   "outputs": [
    {
     "data": {
      "text/plain": [
       "tensor([[0.8600],\n",
       "        [0.8740],\n",
       "        [0.8880],\n",
       "        [0.9020],\n",
       "        [0.9160],\n",
       "        [0.9300],\n",
       "        [0.9440],\n",
       "        [0.9580],\n",
       "        [0.9720],\n",
       "        [0.9860]])"
      ]
     },
     "execution_count": 14,
     "metadata": {},
     "output_type": "execute_result"
    }
   ],
   "source": [
    "y_test"
   ]
  },
  {
   "cell_type": "code",
   "execution_count": 15,
   "id": "535d39f1",
   "metadata": {
    "execution": {
     "iopub.execute_input": "2025-08-31T12:00:05.496490Z",
     "iopub.status.busy": "2025-08-31T12:00:05.496157Z",
     "iopub.status.idle": "2025-08-31T12:00:05.873178Z",
     "shell.execute_reply": "2025-08-31T12:00:05.871840Z"
    },
    "papermill": {
     "duration": 0.387457,
     "end_time": "2025-08-31T12:00:05.875188",
     "exception": false,
     "start_time": "2025-08-31T12:00:05.487731",
     "status": "completed"
    },
    "tags": []
   },
   "outputs": [
    {
     "data": {
      "image/png": "[encoded data removed]",
      "text/plain": [
       "<Figure size 1000x700 with 1 Axes>"
      ]
     },
     "metadata": {},
     "output_type": "display_data"
    }
   ],
   "source": [
    "plot_predictions(predictions=y_preds)\n",
    "# we'd like red dots to be on top of yellow dots"
   ]
  },
  {
   "cell_type": "markdown",
   "id": "ba297e0e",
   "metadata": {
    "papermill": {
     "duration": 0.007593,
     "end_time": "2025-08-31T12:00:05.890929",
     "exception": false,
     "start_time": "2025-08-31T12:00:05.883336",
     "status": "completed"
    },
    "tags": []
   },
   "source": [
    "## [](http://)Train model \n",
    "The whole idea of training is for a model to move from some unknown parameters (these may be random) to some *known* parameters.\n",
    "\n",
    "## Loss functions\n",
    "may also be called cost functions or criteria in different areas. \n",
    "* **loss function** : it measures how wrong your model's predictions are to the ideal outputs, lower is better\n",
    "* **optimizer** : takes into account the loss of a model and adjusts the model's parameters (weight & bias) to improve the loss function\n",
    "\n",
    "And specifically for PyTorch we need \n",
    "* a training loop\n",
    "* a testing loop\n"
   ]
  },
  {
   "cell_type": "code",
   "execution_count": 16,
   "id": "23f3c475",
   "metadata": {
    "execution": {
     "iopub.execute_input": "2025-08-31T12:00:05.909386Z",
     "iopub.status.busy": "2025-08-31T12:00:05.909044Z",
     "iopub.status.idle": "2025-08-31T12:00:05.920420Z",
     "shell.execute_reply": "2025-08-31T12:00:05.918968Z"
    },
    "papermill": {
     "duration": 0.022436,
     "end_time": "2025-08-31T12:00:05.922305",
     "exception": false,
     "start_time": "2025-08-31T12:00:05.899869",
     "status": "completed"
    },
    "tags": []
   },
   "outputs": [
    {
     "data": {
      "text/plain": [
       "(OrderedDict([('weights', tensor([0.3367])), ('bias', tensor([0.1288]))]),\n",
       " [Parameter containing:\n",
       "  tensor([0.3367], requires_grad=True),\n",
       "  Parameter containing:\n",
       "  tensor([0.1288], requires_grad=True)])"
      ]
     },
     "execution_count": 16,
     "metadata": {},
     "output_type": "execute_result"
    }
   ],
   "source": [
    "model_0.state_dict(), list(model_0.parameters())"
   ]
  },
  {
   "cell_type": "markdown",
   "id": "5cf6a85d",
   "metadata": {
    "papermill": {
     "duration": 0.009141,
     "end_time": "2025-08-31T12:00:05.939489",
     "exception": false,
     "start_time": "2025-08-31T12:00:05.930348",
     "status": "completed"
    },
    "tags": []
   },
   "source": [
    "## L1 Loss (MAE)\n",
    "mean absolute error : **torch.nn.L1Loss**\n",
    "\n",
    "## torch.optim : optimizers \n",
    "* SGD, Adam: probably the more popular\n",
    "* SGD: stochastic (random) gradient descent "
   ]
  },
  {
   "cell_type": "code",
   "execution_count": 17,
   "id": "0d8467cd",
   "metadata": {
    "execution": {
     "iopub.execute_input": "2025-08-31T12:00:05.958098Z",
     "iopub.status.busy": "2025-08-31T12:00:05.957745Z",
     "iopub.status.idle": "2025-08-31T12:00:13.765554Z",
     "shell.execute_reply": "2025-08-31T12:00:13.764251Z"
    },
    "papermill": {
     "duration": 7.821221,
     "end_time": "2025-08-31T12:00:13.769111",
     "exception": false,
     "start_time": "2025-08-31T12:00:05.947890",
     "status": "completed"
    },
    "tags": []
   },
   "outputs": [],
   "source": [
    "# setup a loss function\n",
    "loss_fn = nn.L1Loss()\n",
    "\n",
    "# setup an optimizer -> find parameters to minimize the loss function\n",
    "# stochastic gradient descent \n",
    "optimizer = torch.optim.SGD(\n",
    "    params=model_0.parameters(),\n",
    "    lr=0.01 # learning rate = possibly the most important hyperparameter we can set\n",
    ")"
   ]
  },
  {
   "cell_type": "markdown",
   "id": "39f6a4d8",
   "metadata": {
    "papermill": {
     "duration": 0.007601,
     "end_time": "2025-08-31T12:00:13.787791",
     "exception": false,
     "start_time": "2025-08-31T12:00:13.780190",
     "status": "completed"
    },
    "tags": []
   },
   "source": [
    "### Building a training loop in PyTorch\n",
    "0. Loop though the data and do :\n",
    "1. Forward pass: it involves data moving through our model's forward functions to make predictions on data - also called forward propagation\n",
    "2. Calculate the loss (compare forward pass predictions to ground truth labels)\n",
    "3. Optimizer zero grad\n",
    "4. Loss backward - move backwards through the network to calculate the gradients of each of the parameters of out model wrt the loss (**backpropagation**)\n",
    "5. Optimizer step - use the optimizer to adjust our model's parameters to try and improve the loss (**gradient descent**)"
   ]
  },
  {
   "cell_type": "code",
   "execution_count": 18,
   "id": "3bb1382f",
   "metadata": {
    "execution": {
     "iopub.execute_input": "2025-08-31T12:00:13.809153Z",
     "iopub.status.busy": "2025-08-31T12:00:13.808421Z",
     "iopub.status.idle": "2025-08-31T12:00:13.924570Z",
     "shell.execute_reply": "2025-08-31T12:00:13.922819Z"
    },
    "papermill": {
     "duration": 0.127645,
     "end_time": "2025-08-31T12:00:13.926693",
     "exception": false,
     "start_time": "2025-08-31T12:00:13.799048",
     "status": "completed"
    },
    "tags": []
   },
   "outputs": [
    {
     "name": "stdout",
     "output_type": "stream",
     "text": [
      "Loss: 0.31288138031959534\n",
      "Epoch: 0 | Loss: 0.31288138031959534 | Test loss: 0.48106518387794495\n",
      "OrderedDict([('weights', tensor([0.3406])), ('bias', tensor([0.1388]))])\n",
      "Loss: 0.3013603389263153\n",
      "Loss: 0.28983935713768005\n",
      "Loss: 0.2783183455467224\n",
      "Loss: 0.26679736375808716\n",
      "Loss: 0.2552763521671295\n",
      "Loss: 0.24375534057617188\n",
      "Loss: 0.23223432898521423\n",
      "Loss: 0.22071333229541779\n",
      "Loss: 0.20919232070446014\n",
      "Loss: 0.1976713240146637\n",
      "Epoch: 10 | Loss: 0.1976713240146637 | Test loss: 0.3463551998138428\n",
      "OrderedDict([('weights', tensor([0.3796])), ('bias', tensor([0.2388]))])\n",
      "Loss: 0.18615034222602844\n",
      "Loss: 0.1746293306350708\n",
      "Loss: 0.16310831904411316\n",
      "Loss: 0.1515873372554779\n",
      "Loss: 0.14006635546684265\n",
      "Loss: 0.1285453587770462\n",
      "Loss: 0.11702437698841095\n",
      "Loss: 0.1060912236571312\n",
      "Loss: 0.09681284427642822\n",
      "Loss: 0.08908725529909134\n",
      "Epoch: 20 | Loss: 0.08908725529909134 | Test loss: 0.21729660034179688\n",
      "OrderedDict([('weights', tensor([0.4184])), ('bias', tensor([0.3333]))])\n",
      "Loss: 0.08227583020925522\n",
      "Loss: 0.07638873159885406\n",
      "Loss: 0.07160007208585739\n",
      "Loss: 0.06747635453939438\n",
      "Loss: 0.06395438313484192\n",
      "Loss: 0.06097004935145378\n",
      "Loss: 0.05845819041132927\n",
      "Loss: 0.05635259300470352\n",
      "Loss: 0.0545857772231102\n",
      "Loss: 0.053148526698350906\n",
      "Epoch: 30 | Loss: 0.053148526698350906 | Test loss: 0.14464017748832703\n",
      "OrderedDict([('weights', tensor([0.4512])), ('bias', tensor([0.3768]))])\n",
      "Loss: 0.05181945487856865\n",
      "Loss: 0.05069301277399063\n",
      "Loss: 0.0498228520154953\n",
      "Loss: 0.04895269125699997\n",
      "Loss: 0.04819351062178612\n",
      "Loss: 0.047531817108392715\n",
      "Loss: 0.04692792519927025\n",
      "Loss: 0.04642331600189209\n",
      "Loss: 0.04591871052980423\n",
      "Loss: 0.04543796554207802\n",
      "Epoch: 40 | Loss: 0.04543796554207802 | Test loss: 0.11360953003168106\n",
      "OrderedDict([('weights', tensor([0.4748])), ('bias', tensor([0.3868]))])\n",
      "Loss: 0.04503796249628067\n",
      "Loss: 0.04463795945048332\n",
      "Loss: 0.04423796385526657\n",
      "Loss: 0.04383796453475952\n",
      "Loss: 0.04343796148896217\n",
      "Loss: 0.043074630200862885\n",
      "Loss: 0.04272563382983208\n",
      "Loss: 0.04237663000822067\n",
      "Loss: 0.04202762991189957\n",
      "Loss: 0.04167863354086876\n",
      "Epoch: 50 | Loss: 0.04167863354086876 | Test loss: 0.09919948130846024\n",
      "OrderedDict([('weights', tensor([0.4938])), ('bias', tensor([0.3843]))])\n",
      "Loss: 0.04132963344454765\n",
      "Loss: 0.04098063334822655\n",
      "Loss: 0.04063162952661514\n",
      "Loss: 0.040282636880874634\n",
      "Loss: 0.039933640509843826\n",
      "Loss: 0.03958464413881302\n",
      "Loss: 0.03923564404249191\n",
      "Loss: 0.03888664394617081\n",
      "Loss: 0.0385376438498497\n",
      "Loss: 0.03818932920694351\n",
      "Epoch: 60 | Loss: 0.03818932920694351 | Test loss: 0.08886633068323135\n",
      "OrderedDict([('weights', tensor([0.5116])), ('bias', tensor([0.3788]))])\n",
      "Loss: 0.03785243630409241\n",
      "Loss: 0.0375034399330616\n",
      "Loss: 0.037164121866226196\n",
      "Loss: 0.03681822493672371\n",
      "Loss: 0.03647511452436447\n",
      "Loss: 0.03613303601741791\n",
      "Loss: 0.03578609973192215\n",
      "Loss: 0.03544783592224121\n",
      "Loss: 0.035098835825920105\n",
      "Loss: 0.03476089984178543\n",
      "Epoch: 70 | Loss: 0.03476089984178543 | Test loss: 0.0805937647819519\n",
      "OrderedDict([('weights', tensor([0.5288])), ('bias', tensor([0.3718]))])\n",
      "Loss: 0.03441363573074341\n",
      "Loss: 0.03407188132405281\n",
      "Loss: 0.03372843936085701\n",
      "Loss: 0.03338287025690079\n",
      "Loss: 0.033043231815099716\n",
      "Loss: 0.03269423171877861\n",
      "Loss: 0.032357655465602875\n",
      "Loss: 0.03200903534889221\n",
      "Loss: 0.03166864812374115\n",
      "Loss: 0.03132382780313492\n",
      "Epoch: 80 | Loss: 0.03132382780313492 | Test loss: 0.07232122868299484\n",
      "OrderedDict([('weights', tensor([0.5459])), ('bias', tensor([0.3648]))])\n",
      "Loss: 0.030979642644524574\n",
      "Loss: 0.030638623982667923\n",
      "Loss: 0.0302906334400177\n",
      "Loss: 0.029953425750136375\n",
      "Loss: 0.02960442565381527\n",
      "Loss: 0.029265418648719788\n",
      "Loss: 0.028919223695993423\n",
      "Loss: 0.028576409444212914\n",
      "Loss: 0.028234025463461876\n",
      "Loss: 0.02788739837706089\n",
      "Epoch: 90 | Loss: 0.02788739837706089 | Test loss: 0.06473556160926819\n",
      "OrderedDict([('weights', tensor([0.5629])), ('bias', tensor([0.3573]))])\n",
      "Loss: 0.02754882536828518\n",
      "Loss: 0.027199819684028625\n",
      "Loss: 0.026862185448408127\n",
      "Loss: 0.02651461586356163\n",
      "Loss: 0.026173178106546402\n",
      "Loss: 0.025829419493675232\n",
      "Loss: 0.02548416517674923\n",
      "Loss: 0.025144213810563087\n",
      "Loss: 0.02479521557688713\n"
     ]
    }
   ],
   "source": [
    "torch.manual_seed(42)\n",
    "\n",
    "# an epoch is one loop though the data (#epochs is an hyperparameter)\n",
    "epochs = 100\n",
    "\n",
    "# loop though the data \n",
    "for epoch in range(epochs):\n",
    "    # set the model to training mode \n",
    "    model_0.train() # train mode in PyTorch sets all parameters that require gradients to require gradients\n",
    "\n",
    "    # 1. Forward pass \n",
    "    y_pred = model_0(X_train)\n",
    "\n",
    "    # 2. Calculate the loss\n",
    "    loss = loss_fn(y_pred, y_train)\n",
    "    print(f\"Loss: {loss}\")\n",
    "\n",
    "    # 3. Optimizer zero grad \n",
    "    optimizer.zero_grad()\n",
    "\n",
    "    # 4. Perform backpropagation on the loss wrt the parameters of the model\n",
    "    loss.backward()\n",
    "\n",
    "    # 5. Optimizer step: Perform gradient descent \n",
    "    optimizer.step() # by default how the optimizer changes will accumulate through the loop so we have to zero them above in step 3 for the next iteration of the loop\n",
    "\n",
    "    # Testing\n",
    "    model_0.eval() # turns off gradient tracking and other settings in the model not needed for evaluation/testing\n",
    "    with torch.inference_mode(): # turns off gradient tracking \n",
    "        # 1. Do the forward pass\n",
    "        test_pred = model_0(X_test)\n",
    "        # 2. Calculate the loss \n",
    "        test_loss = loss_fn(test_pred, y_test)\n",
    "\n",
    "    if epoch % 10 == 0:\n",
    "        print(f\"Epoch: {epoch} | Loss: {loss} | Test loss: {test_loss}\")\n",
    "    \n",
    "        print(model_0.state_dict())"
   ]
  },
  {
   "cell_type": "code",
   "execution_count": 19,
   "id": "ffb961dd",
   "metadata": {
    "execution": {
     "iopub.execute_input": "2025-08-31T12:00:13.945216Z",
     "iopub.status.busy": "2025-08-31T12:00:13.944355Z",
     "iopub.status.idle": "2025-08-31T12:00:14.582482Z",
     "shell.execute_reply": "2025-08-31T12:00:14.581255Z"
    },
    "papermill": {
     "duration": 0.649485,
     "end_time": "2025-08-31T12:00:14.584551",
     "exception": false,
     "start_time": "2025-08-31T12:00:13.935066",
     "status": "completed"
    },
    "tags": []
   },
   "outputs": [
    {
     "data": {
      "image/png": "[encoded data removed]",
      "text/plain": [
       "<Figure size 1000x700 with 1 Axes>"
      ]
     },
     "metadata": {},
     "output_type": "display_data"
    },
    {
     "data": {
      "image/png": "[encoded data removed]",
      "text/plain": [
       "<Figure size 1000x700 with 1 Axes>"
      ]
     },
     "metadata": {},
     "output_type": "display_data"
    }
   ],
   "source": [
    "with torch.inference_mode():\n",
    "    y_preds_new = model_0(X_test)\n",
    "\n",
    "plot_predictions(predictions=y_preds)\n",
    "plot_predictions(predictions=y_preds_new)"
   ]
  },
  {
   "cell_type": "code",
   "execution_count": 20,
   "id": "d0c29a5e",
   "metadata": {
    "execution": {
     "iopub.execute_input": "2025-08-31T12:00:14.605837Z",
     "iopub.status.busy": "2025-08-31T12:00:14.605370Z",
     "iopub.status.idle": "2025-08-31T12:00:14.613258Z",
     "shell.execute_reply": "2025-08-31T12:00:14.611790Z"
    },
    "papermill": {
     "duration": 0.020539,
     "end_time": "2025-08-31T12:00:14.615117",
     "exception": false,
     "start_time": "2025-08-31T12:00:14.594578",
     "status": "completed"
    },
    "tags": []
   },
   "outputs": [
    {
     "data": {
      "text/plain": [
       "(0.7, 0.3)"
      ]
     },
     "execution_count": 20,
     "metadata": {},
     "output_type": "execute_result"
    }
   ],
   "source": [
    "weight, bias"
   ]
  },
  {
   "cell_type": "code",
   "execution_count": null,
   "id": "aa3f6d0a",
   "metadata": {
    "papermill": {
     "duration": 0.008957,
     "end_time": "2025-08-31T12:00:14.634394",
     "exception": false,
     "start_time": "2025-08-31T12:00:14.625437",
     "status": "completed"
    },
    "tags": []
   },
   "outputs": [],
   "source": []
  },
  {
   "cell_type": "code",
   "execution_count": null,
   "id": "0fd60b67",
   "metadata": {
    "papermill": {
     "duration": 0.010947,
     "end_time": "2025-08-31T12:00:14.655381",
     "exception": false,
     "start_time": "2025-08-31T12:00:14.644434",
     "status": "completed"
    },
    "tags": []
   },
   "outputs": [],
   "source": []
  }
 ],
 "metadata": {
  "kaggle": {
   "accelerator": "none",
   "dataSources": [],
   "dockerImageVersionId": 31089,
   "isGpuEnabled": false,
   "isInternetEnabled": true,
   "language": "python",
   "sourceType": "notebook"
  },
  "kernelspec": {
   "display_name": "Python 3",
   "language": "python",
   "name": "python3"
  },
  "language_info": {
   "codemirror_mode": {
    "name": "ipython",
    "version": 3
   },
   "file_extension": ".py",
   "mimetype": "text/x-python",
   "name": "python",
   "nbconvert_exporter": "python",
   "pygments_lexer": "ipython3",
   "version": "3.11.13"
  },
  "papermill": {
   "default_parameters": {},
   "duration": 26.835574,
   "end_time": "2025-08-31T12:00:16.496126",
   "environment_variables": {},
   "exception": null,
   "input_path": "__notebook__.ipynb",
   "output_path": "__notebook__.ipynb",
   "parameters": {},
   "start_time": "2025-08-31T11:59:49.660552",
   "version": "2.6.0"
  }
 },
 "nbformat": 4,
 "nbformat_minor": 5
}
