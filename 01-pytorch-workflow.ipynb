{
 "cells": [
  {
   "cell_type": "code",
   "execution_count": 1,
   "id": "59e3b4bb",
   "metadata": {
    "_cell_guid": "b1076dfc-b9ad-4769-8c92-a6c4dae69d19",
    "_uuid": "8f2839f25d086af736a60e9eeb907d3b93b6e0e5",
    "execution": {
     "iopub.execute_input": "2025-08-31T08:38:46.008593Z",
     "iopub.status.busy": "2025-08-31T08:38:46.008222Z",
     "iopub.status.idle": "2025-08-31T08:38:51.956425Z",
     "shell.execute_reply": "2025-08-31T08:38:51.954157Z"
    },
    "papermill": {
     "duration": 5.958683,
     "end_time": "2025-08-31T08:38:51.959269",
     "exception": false,
     "start_time": "2025-08-31T08:38:46.000586",
     "status": "completed"
    },
    "tags": []
   },
   "outputs": [],
   "source": [
    "import torch"
   ]
  },
  {
   "cell_type": "markdown",
   "id": "7e1600fd",
   "metadata": {
    "papermill": {
     "duration": 0.006394,
     "end_time": "2025-08-31T08:38:51.971510",
     "exception": false,
     "start_time": "2025-08-31T08:38:51.965116",
     "status": "completed"
    },
    "tags": []
   },
   "source": [
    "## PyTorch Workflow "
   ]
  },
  {
   "cell_type": "code",
   "execution_count": 2,
   "id": "caec77fb",
   "metadata": {
    "execution": {
     "iopub.execute_input": "2025-08-31T08:38:51.984004Z",
     "iopub.status.busy": "2025-08-31T08:38:51.983571Z",
     "iopub.status.idle": "2025-08-31T08:38:51.989302Z",
     "shell.execute_reply": "2025-08-31T08:38:51.988130Z"
    },
    "papermill": {
     "duration": 0.01402,
     "end_time": "2025-08-31T08:38:51.991162",
     "exception": false,
     "start_time": "2025-08-31T08:38:51.977142",
     "status": "completed"
    },
    "tags": []
   },
   "outputs": [],
   "source": [
    "what_we_are_covering = {\n",
    "    1: \"data (prepare and load\",\n",
    "    2: \"build model\",\n",
    "    3: \"fitting the model to the  (training)\",\n",
    "    4: \"making predictions and evalating a model (inference)\", \n",
    "    5: \"saving and loading a model\",\n",
    "    6: \"putting it all together\"\n",
    "                       }"
   ]
  },
  {
   "cell_type": "code",
   "execution_count": 3,
   "id": "641b599f",
   "metadata": {
    "execution": {
     "iopub.execute_input": "2025-08-31T08:38:52.002834Z",
     "iopub.status.busy": "2025-08-31T08:38:52.002419Z",
     "iopub.status.idle": "2025-08-31T08:38:52.011476Z",
     "shell.execute_reply": "2025-08-31T08:38:52.010155Z"
    },
    "papermill": {
     "duration": 0.017003,
     "end_time": "2025-08-31T08:38:52.013308",
     "exception": false,
     "start_time": "2025-08-31T08:38:51.996305",
     "status": "completed"
    },
    "tags": []
   },
   "outputs": [
    {
     "data": {
      "text/plain": [
       "'2.6.0+cu124'"
      ]
     },
     "execution_count": 3,
     "metadata": {},
     "output_type": "execute_result"
    }
   ],
   "source": [
    "import torch \n",
    "from torch import nn # nn contains all of PyTorch's building blocks for neural networks \n",
    "import matplotlib.pyplot as plt \n",
    "\n",
    "torch.__version__"
   ]
  },
  {
   "cell_type": "markdown",
   "id": "bcf409bb",
   "metadata": {
    "papermill": {
     "duration": 0.004795,
     "end_time": "2025-08-31T08:38:52.023778",
     "exception": false,
     "start_time": "2025-08-31T08:38:52.018983",
     "status": "completed"
    },
    "tags": []
   },
   "source": [
    "## 1. Data (preparing and loading)\n",
    "\n",
    "ML is a game of two parts:\n",
    "1. get data into a numerical representation\n",
    "2. build a model to learn patterns in that numerical representation"
   ]
  },
  {
   "cell_type": "markdown",
   "id": "cb2f930e",
   "metadata": {
    "papermill": {
     "duration": 0.004749,
     "end_time": "2025-08-31T08:38:52.033373",
     "exception": false,
     "start_time": "2025-08-31T08:38:52.028624",
     "status": "completed"
    },
    "tags": []
   },
   "source": [
    "We'll use a linear regression formula to make a stright line with known **parameters**\n",
    "1. weight = 0.7\n",
    "2. bias = 0.3"
   ]
  },
  {
   "cell_type": "code",
   "execution_count": 4,
   "id": "2d163b22",
   "metadata": {
    "execution": {
     "iopub.execute_input": "2025-08-31T08:38:52.044564Z",
     "iopub.status.busy": "2025-08-31T08:38:52.044217Z",
     "iopub.status.idle": "2025-08-31T08:38:52.193106Z",
     "shell.execute_reply": "2025-08-31T08:38:52.191950Z"
    },
    "papermill": {
     "duration": 0.157081,
     "end_time": "2025-08-31T08:38:52.195574",
     "exception": false,
     "start_time": "2025-08-31T08:38:52.038493",
     "status": "completed"
    },
    "tags": []
   },
   "outputs": [
    {
     "data": {
      "text/plain": [
       "(tensor([[0.0000],\n",
       "         [0.0200],\n",
       "         [0.0400],\n",
       "         [0.0600],\n",
       "         [0.0800],\n",
       "         [0.1000],\n",
       "         [0.1200],\n",
       "         [0.1400],\n",
       "         [0.1600],\n",
       "         [0.1800]]),\n",
       " tensor([[0.3000],\n",
       "         [0.3140],\n",
       "         [0.3280],\n",
       "         [0.3420],\n",
       "         [0.3560],\n",
       "         [0.3700],\n",
       "         [0.3840],\n",
       "         [0.3980],\n",
       "         [0.4120],\n",
       "         [0.4260]]))"
      ]
     },
     "execution_count": 4,
     "metadata": {},
     "output_type": "execute_result"
    }
   ],
   "source": [
    "weight = 0.7 \n",
    "bias = 0.3 \n",
    "\n",
    "start = 0\n",
    "end = 1\n",
    "step = 0.02 \n",
    "X = torch.arange(start, end, step).unsqueeze(dim=1)\n",
    "y = weight * X + bias \n",
    "\n",
    "# input, output values \n",
    "X[:10], y[:10]"
   ]
  },
  {
   "cell_type": "code",
   "execution_count": 5,
   "id": "585cb18b",
   "metadata": {
    "execution": {
     "iopub.execute_input": "2025-08-31T08:38:52.208264Z",
     "iopub.status.busy": "2025-08-31T08:38:52.207946Z",
     "iopub.status.idle": "2025-08-31T08:38:52.214730Z",
     "shell.execute_reply": "2025-08-31T08:38:52.213581Z"
    },
    "papermill": {
     "duration": 0.015711,
     "end_time": "2025-08-31T08:38:52.216582",
     "exception": false,
     "start_time": "2025-08-31T08:38:52.200871",
     "status": "completed"
    },
    "tags": []
   },
   "outputs": [
    {
     "data": {
      "text/plain": [
       "(50, 50)"
      ]
     },
     "execution_count": 5,
     "metadata": {},
     "output_type": "execute_result"
    }
   ],
   "source": [
    "len(X), len(y)"
   ]
  },
  {
   "cell_type": "markdown",
   "id": "b959bd34",
   "metadata": {
    "papermill": {
     "duration": 0.004861,
     "end_time": "2025-08-31T08:38:52.226803",
     "exception": false,
     "start_time": "2025-08-31T08:38:52.221942",
     "status": "completed"
    },
    "tags": []
   },
   "source": [
    "## Splitting Data into Training and Test sets\n",
    "* training set : course material\n",
    "* validation set : practice exam\n",
    "* test set : final exam -> test generalization\n",
    "**Generalization**: the ability for a ML model to perform well on data it hasn't seen befor e"
   ]
  },
  {
   "cell_type": "code",
   "execution_count": 6,
   "id": "a1f8b8b4",
   "metadata": {
    "execution": {
     "iopub.execute_input": "2025-08-31T08:38:52.238644Z",
     "iopub.status.busy": "2025-08-31T08:38:52.238257Z",
     "iopub.status.idle": "2025-08-31T08:38:52.246931Z",
     "shell.execute_reply": "2025-08-31T08:38:52.245784Z"
    },
    "papermill": {
     "duration": 0.017126,
     "end_time": "2025-08-31T08:38:52.249109",
     "exception": false,
     "start_time": "2025-08-31T08:38:52.231983",
     "status": "completed"
    },
    "tags": []
   },
   "outputs": [
    {
     "data": {
      "text/plain": [
       "(40, 40, 10, 10)"
      ]
     },
     "execution_count": 6,
     "metadata": {},
     "output_type": "execute_result"
    }
   ],
   "source": [
    "train_split = int(0.8 * len(X))\n",
    "X_train, y_train = X[:train_split], y[:train_split]\n",
    "X_test, y_test = X[train_split:], y[train_split:]\n",
    "\n",
    "len(X_train), len(y_train), len(X_test), len(y_test)"
   ]
  },
  {
   "cell_type": "code",
   "execution_count": 7,
   "id": "dffb9a7a",
   "metadata": {
    "execution": {
     "iopub.execute_input": "2025-08-31T08:38:52.263011Z",
     "iopub.status.busy": "2025-08-31T08:38:52.262673Z",
     "iopub.status.idle": "2025-08-31T08:38:52.273944Z",
     "shell.execute_reply": "2025-08-31T08:38:52.272315Z"
    },
    "papermill": {
     "duration": 0.020985,
     "end_time": "2025-08-31T08:38:52.275969",
     "exception": false,
     "start_time": "2025-08-31T08:38:52.254984",
     "status": "completed"
    },
    "tags": []
   },
   "outputs": [
    {
     "data": {
      "text/plain": [
       "(tensor([[0.0000],\n",
       "         [0.0200],\n",
       "         [0.0400],\n",
       "         [0.0600],\n",
       "         [0.0800],\n",
       "         [0.1000],\n",
       "         [0.1200],\n",
       "         [0.1400],\n",
       "         [0.1600],\n",
       "         [0.1800],\n",
       "         [0.2000],\n",
       "         [0.2200],\n",
       "         [0.2400],\n",
       "         [0.2600],\n",
       "         [0.2800],\n",
       "         [0.3000],\n",
       "         [0.3200],\n",
       "         [0.3400],\n",
       "         [0.3600],\n",
       "         [0.3800],\n",
       "         [0.4000],\n",
       "         [0.4200],\n",
       "         [0.4400],\n",
       "         [0.4600],\n",
       "         [0.4800],\n",
       "         [0.5000],\n",
       "         [0.5200],\n",
       "         [0.5400],\n",
       "         [0.5600],\n",
       "         [0.5800],\n",
       "         [0.6000],\n",
       "         [0.6200],\n",
       "         [0.6400],\n",
       "         [0.6600],\n",
       "         [0.6800],\n",
       "         [0.7000],\n",
       "         [0.7200],\n",
       "         [0.7400],\n",
       "         [0.7600],\n",
       "         [0.7800]]),\n",
       " tensor([[0.3000],\n",
       "         [0.3140],\n",
       "         [0.3280],\n",
       "         [0.3420],\n",
       "         [0.3560],\n",
       "         [0.3700],\n",
       "         [0.3840],\n",
       "         [0.3980],\n",
       "         [0.4120],\n",
       "         [0.4260],\n",
       "         [0.4400],\n",
       "         [0.4540],\n",
       "         [0.4680],\n",
       "         [0.4820],\n",
       "         [0.4960],\n",
       "         [0.5100],\n",
       "         [0.5240],\n",
       "         [0.5380],\n",
       "         [0.5520],\n",
       "         [0.5660],\n",
       "         [0.5800],\n",
       "         [0.5940],\n",
       "         [0.6080],\n",
       "         [0.6220],\n",
       "         [0.6360],\n",
       "         [0.6500],\n",
       "         [0.6640],\n",
       "         [0.6780],\n",
       "         [0.6920],\n",
       "         [0.7060],\n",
       "         [0.7200],\n",
       "         [0.7340],\n",
       "         [0.7480],\n",
       "         [0.7620],\n",
       "         [0.7760],\n",
       "         [0.7900],\n",
       "         [0.8040],\n",
       "         [0.8180],\n",
       "         [0.8320],\n",
       "         [0.8460]]))"
      ]
     },
     "execution_count": 7,
     "metadata": {},
     "output_type": "execute_result"
    }
   ],
   "source": [
    "X_train, y_train"
   ]
  },
  {
   "cell_type": "markdown",
   "id": "0cfd2dcf",
   "metadata": {
    "papermill": {
     "duration": 0.005687,
     "end_time": "2025-08-31T08:38:52.287675",
     "exception": false,
     "start_time": "2025-08-31T08:38:52.281988",
     "status": "completed"
    },
    "tags": []
   },
   "source": [
    "How can we better visualiza our data?"
   ]
  },
  {
   "cell_type": "code",
   "execution_count": 8,
   "id": "4bc54ed7",
   "metadata": {
    "execution": {
     "iopub.execute_input": "2025-08-31T08:38:52.301847Z",
     "iopub.status.busy": "2025-08-31T08:38:52.301483Z",
     "iopub.status.idle": "2025-08-31T08:38:52.733509Z",
     "shell.execute_reply": "2025-08-31T08:38:52.732534Z"
    },
    "papermill": {
     "duration": 0.440533,
     "end_time": "2025-08-31T08:38:52.735089",
     "exception": false,
     "start_time": "2025-08-31T08:38:52.294556",
     "status": "completed"
    },
    "tags": []
   },
   "outputs": [
    {
     "data": {
      "image/png": "[encoded data removed]",
      "text/plain": [
       "<Figure size 1000x700 with 1 Axes>"
      ]
     },
     "metadata": {},
     "output_type": "display_data"
    }
   ],
   "source": [
    "def plot_predictions(train_data = X_train,\n",
    "                     train_labels = y_train,\n",
    "                     test_data = X_test,\n",
    "                     test_labels = y_test, \n",
    "                     predictions = None):\n",
    "    \"\"\"\n",
    "    Plots training data, test data and compares predictions\n",
    "    \"\"\"\n",
    "    \n",
    "    plt.figure(figsize=(10,7))\n",
    "    plt.scatter(train_data, train_labels, c=\"b\", s=4, label=\"Training Data\")\n",
    "\n",
    "    plt.scatter(test_data, test_labels, c=\"y\", s=4, label=\"Testing Data\")\n",
    "\n",
    "    if predictions is not None :\n",
    "        plt.scatter(test_data, predictions, c=\"r\", label=\"Predictions\")\n",
    "\n",
    "    plt.legend(prop={\"size\":14})\n",
    "\n",
    "\n",
    "plot_predictions()"
   ]
  },
  {
   "cell_type": "markdown",
   "id": "dc36d1b4",
   "metadata": {
    "papermill": {
     "duration": 0.005504,
     "end_time": "2025-08-31T08:38:52.746739",
     "exception": false,
     "start_time": "2025-08-31T08:38:52.741235",
     "status": "completed"
    },
    "tags": []
   },
   "source": [
    "# Model Building\n",
    "what our model does:\n",
    "* start with random values (weight and bias)\n",
    "* look at training data and adjust the random values to better represent the ideal values\n",
    "\n",
    "Two main algorithms: \n",
    "1. Gradient descent\n",
    "2. Backpropagation"
   ]
  },
  {
   "cell_type": "code",
   "execution_count": 9,
   "id": "b751a713",
   "metadata": {
    "execution": {
     "iopub.execute_input": "2025-08-31T08:38:52.760171Z",
     "iopub.status.busy": "2025-08-31T08:38:52.759062Z",
     "iopub.status.idle": "2025-08-31T08:38:52.766527Z",
     "shell.execute_reply": "2025-08-31T08:38:52.765346Z"
    },
    "papermill": {
     "duration": 0.015606,
     "end_time": "2025-08-31T08:38:52.768040",
     "exception": false,
     "start_time": "2025-08-31T08:38:52.752434",
     "status": "completed"
    },
    "tags": []
   },
   "outputs": [],
   "source": [
    "# Create a Linear Regression model class\n",
    "class LinearRegressionModel(nn.Module): # <- almost everything in PyTorch is a nn.Module (think of this as neural network lego blocks)\n",
    "    def __init__(self):\n",
    "        super().__init__() \n",
    "        self.weights = nn.Parameter(torch.randn(1, # <- start with random weights (this will get adjusted as the model learns)\n",
    "                                                dtype=torch.float), # <- PyTorch loves float32 by default\n",
    "                                   requires_grad=True) # <- can we update this value with gradient descent?)\n",
    "\n",
    "        self.bias = nn.Parameter(torch.randn(1, # <- start with random bias (this will get adjusted as the model learns)\n",
    "                                            dtype=torch.float), # <- PyTorch loves float32 by default\n",
    "                                requires_grad=True) # <- can we update this value with gradient descent?))\n",
    "\n",
    "    # Forward defines the computation in the model\n",
    "    def forward(self, x: torch.Tensor) -> torch.Tensor: # <- \"x\" is the input data (e.g. training/testing features)\n",
    "        return self.weights * x + self.bias # <- this is the linear regression formula (y = m*x + b)"
   ]
  },
  {
   "cell_type": "markdown",
   "id": "d3754b3d",
   "metadata": {
    "papermill": {
     "duration": 0.005943,
     "end_time": "2025-08-31T08:38:52.780074",
     "exception": false,
     "start_time": "2025-08-31T08:38:52.774131",
     "status": "completed"
    },
    "tags": []
   },
   "source": [
    "## PyTorch model building essentials \n",
    "\n",
    "* torch.nn contains all of the buildings for computational graphs (a NN can be considered a computational graph)\n",
    "* torch.nn.Parameter - what parameters should our model try and learn, oftern a PyTorch layer from torch.nn will set these for us\n",
    "* torch.nn.Module - The base class for all NN modules, if you subclass it, you should overwrite forward()\n",
    "* torch.optim - this is where the optimizers in PyTorch live, they will help with gradient descent"
   ]
  },
  {
   "cell_type": "markdown",
   "id": "ad6abb8a",
   "metadata": {
    "papermill": {
     "duration": 0.006248,
     "end_time": "2025-08-31T08:38:52.792232",
     "exception": false,
     "start_time": "2025-08-31T08:38:52.785984",
     "status": "completed"
    },
    "tags": []
   },
   "source": [
    "### let's take a look at what's *inside* the model"
   ]
  },
  {
   "cell_type": "code",
   "execution_count": 10,
   "id": "ac3c3c3f",
   "metadata": {
    "execution": {
     "iopub.execute_input": "2025-08-31T08:38:52.806559Z",
     "iopub.status.busy": "2025-08-31T08:38:52.805520Z",
     "iopub.status.idle": "2025-08-31T08:38:52.830103Z",
     "shell.execute_reply": "2025-08-31T08:38:52.828959Z"
    },
    "papermill": {
     "duration": 0.034534,
     "end_time": "2025-08-31T08:38:52.832920",
     "exception": false,
     "start_time": "2025-08-31T08:38:52.798386",
     "status": "completed"
    },
    "tags": []
   },
   "outputs": [
    {
     "data": {
      "text/plain": [
       "[Parameter containing:\n",
       " tensor([0.3367], requires_grad=True),\n",
       " Parameter containing:\n",
       " tensor([0.1288], requires_grad=True)]"
      ]
     },
     "execution_count": 10,
     "metadata": {},
     "output_type": "execute_result"
    }
   ],
   "source": [
    "# random seed \n",
    "torch.manual_seed(42)\n",
    "\n",
    "# create an instance of the model (subclass of nn.Module)\n",
    "model_0 = LinearRegressionModel()\n",
    "\n",
    "# check out the parameters \n",
    "list(model_0.parameters())"
   ]
  },
  {
   "cell_type": "code",
   "execution_count": 11,
   "id": "b95d62d8",
   "metadata": {
    "execution": {
     "iopub.execute_input": "2025-08-31T08:38:52.846226Z",
     "iopub.status.busy": "2025-08-31T08:38:52.845821Z",
     "iopub.status.idle": "2025-08-31T08:38:52.854716Z",
     "shell.execute_reply": "2025-08-31T08:38:52.853785Z"
    },
    "papermill": {
     "duration": 0.017512,
     "end_time": "2025-08-31T08:38:52.856492",
     "exception": false,
     "start_time": "2025-08-31T08:38:52.838980",
     "status": "completed"
    },
    "tags": []
   },
   "outputs": [
    {
     "data": {
      "text/plain": [
       "OrderedDict([('weights', tensor([0.3367])), ('bias', tensor([0.1288]))])"
      ]
     },
     "execution_count": 11,
     "metadata": {},
     "output_type": "execute_result"
    }
   ],
   "source": [
    "# List named parameters \n",
    "model_0.state_dict()"
   ]
  },
  {
   "cell_type": "code",
   "execution_count": 12,
   "id": "57b14496",
   "metadata": {
    "execution": {
     "iopub.execute_input": "2025-08-31T08:38:52.870435Z",
     "iopub.status.busy": "2025-08-31T08:38:52.870087Z",
     "iopub.status.idle": "2025-08-31T08:38:52.876427Z",
     "shell.execute_reply": "2025-08-31T08:38:52.875563Z"
    },
    "papermill": {
     "duration": 0.015269,
     "end_time": "2025-08-31T08:38:52.878295",
     "exception": false,
     "start_time": "2025-08-31T08:38:52.863026",
     "status": "completed"
    },
    "tags": []
   },
   "outputs": [
    {
     "data": {
      "text/plain": [
       "(0.7, 0.3)"
      ]
     },
     "execution_count": 12,
     "metadata": {},
     "output_type": "execute_result"
    }
   ],
   "source": [
    "# we want to get them as close as possible to\n",
    "weight, bias"
   ]
  },
  {
   "cell_type": "code",
   "execution_count": null,
   "id": "d9e2e7a5",
   "metadata": {
    "papermill": {
     "duration": 0.005742,
     "end_time": "2025-08-31T08:38:52.890415",
     "exception": false,
     "start_time": "2025-08-31T08:38:52.884673",
     "status": "completed"
    },
    "tags": []
   },
   "outputs": [],
   "source": []
  },
  {
   "cell_type": "code",
   "execution_count": null,
   "id": "dafc5a45",
   "metadata": {
    "papermill": {
     "duration": 0.006047,
     "end_time": "2025-08-31T08:38:52.902519",
     "exception": false,
     "start_time": "2025-08-31T08:38:52.896472",
     "status": "completed"
    },
    "tags": []
   },
   "outputs": [],
   "source": []
  },
  {
   "cell_type": "code",
   "execution_count": null,
   "id": "cd108acd",
   "metadata": {
    "papermill": {
     "duration": 0.006281,
     "end_time": "2025-08-31T08:38:52.915355",
     "exception": false,
     "start_time": "2025-08-31T08:38:52.909074",
     "status": "completed"
    },
    "tags": []
   },
   "outputs": [],
   "source": []
  },
  {
   "cell_type": "code",
   "execution_count": null,
   "id": "42a1457f",
   "metadata": {
    "papermill": {
     "duration": 0.005739,
     "end_time": "2025-08-31T08:38:52.928091",
     "exception": false,
     "start_time": "2025-08-31T08:38:52.922352",
     "status": "completed"
    },
    "tags": []
   },
   "outputs": [],
   "source": []
  },
  {
   "cell_type": "code",
   "execution_count": null,
   "id": "5743263e",
   "metadata": {
    "papermill": {
     "duration": 0.005855,
     "end_time": "2025-08-31T08:38:52.939912",
     "exception": false,
     "start_time": "2025-08-31T08:38:52.934057",
     "status": "completed"
    },
    "tags": []
   },
   "outputs": [],
   "source": []
  },
  {
   "cell_type": "code",
   "execution_count": null,
   "id": "fc3af0af",
   "metadata": {
    "papermill": {
     "duration": 0.005878,
     "end_time": "2025-08-31T08:38:52.951925",
     "exception": false,
     "start_time": "2025-08-31T08:38:52.946047",
     "status": "completed"
    },
    "tags": []
   },
   "outputs": [],
   "source": []
  },
  {
   "cell_type": "code",
   "execution_count": null,
   "id": "4914803f",
   "metadata": {
    "papermill": {
     "duration": 0.005593,
     "end_time": "2025-08-31T08:38:52.963404",
     "exception": false,
     "start_time": "2025-08-31T08:38:52.957811",
     "status": "completed"
    },
    "tags": []
   },
   "outputs": [],
   "source": []
  },
  {
   "cell_type": "code",
   "execution_count": null,
   "id": "8aa7786d",
   "metadata": {
    "papermill": {
     "duration": 0.005745,
     "end_time": "2025-08-31T08:38:52.975744",
     "exception": false,
     "start_time": "2025-08-31T08:38:52.969999",
     "status": "completed"
    },
    "tags": []
   },
   "outputs": [],
   "source": []
  }
 ],
 "metadata": {
  "kaggle": {
   "accelerator": "none",
   "dataSources": [],
   "dockerImageVersionId": 31089,
   "isGpuEnabled": false,
   "isInternetEnabled": true,
   "language": "python",
   "sourceType": "notebook"
  },
  "kernelspec": {
   "display_name": "Python 3",
   "language": "python",
   "name": "python3"
  },
  "language_info": {
   "codemirror_mode": {
    "name": "ipython",
    "version": 3
   },
   "file_extension": ".py",
   "mimetype": "text/x-python",
   "name": "python",
   "nbconvert_exporter": "python",
   "pygments_lexer": "ipython3",
   "version": "3.11.13"
  },
  "papermill": {
   "default_parameters": {},
   "duration": 16.060462,
   "end_time": "2025-08-31T08:38:55.296403",
   "environment_variables": {},
   "exception": null,
   "input_path": "__notebook__.ipynb",
   "output_path": "__notebook__.ipynb",
   "parameters": {},
   "start_time": "2025-08-31T08:38:39.235941",
   "version": "2.6.0"
  }
 },
 "nbformat": 4,
 "nbformat_minor": 5
}
