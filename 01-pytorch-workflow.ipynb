{
 "cells": [
  {
   "cell_type": "code",
   "execution_count": 1,
   "id": "45845e0a",
   "metadata": {
    "_cell_guid": "b1076dfc-b9ad-4769-8c92-a6c4dae69d19",
    "_uuid": "8f2839f25d086af736a60e9eeb907d3b93b6e0e5",
    "execution": {
     "iopub.execute_input": "2025-08-31T12:28:37.089387Z",
     "iopub.status.busy": "2025-08-31T12:28:37.089017Z",
     "iopub.status.idle": "2025-08-31T12:28:42.000450Z",
     "shell.execute_reply": "2025-08-31T12:28:41.999616Z"
    },
    "papermill": {
     "duration": 4.921601,
     "end_time": "2025-08-31T12:28:42.002020",
     "exception": false,
     "start_time": "2025-08-31T12:28:37.080419",
     "status": "completed"
    },
    "tags": []
   },
   "outputs": [],
   "source": [
    "import torch"
   ]
  },
  {
   "cell_type": "markdown",
   "id": "1fbeccb8",
   "metadata": {
    "papermill": {
     "duration": 0.006102,
     "end_time": "2025-08-31T12:28:42.014919",
     "exception": false,
     "start_time": "2025-08-31T12:28:42.008817",
     "status": "completed"
    },
    "tags": []
   },
   "source": [
    "## PyTorch Workflow "
   ]
  },
  {
   "cell_type": "code",
   "execution_count": 2,
   "id": "240f797c",
   "metadata": {
    "execution": {
     "iopub.execute_input": "2025-08-31T12:28:42.028736Z",
     "iopub.status.busy": "2025-08-31T12:28:42.028325Z",
     "iopub.status.idle": "2025-08-31T12:28:42.033044Z",
     "shell.execute_reply": "2025-08-31T12:28:42.032158Z"
    },
    "papermill": {
     "duration": 0.013211,
     "end_time": "2025-08-31T12:28:42.034413",
     "exception": false,
     "start_time": "2025-08-31T12:28:42.021202",
     "status": "completed"
    },
    "tags": []
   },
   "outputs": [],
   "source": [
    "what_we_are_covering = {\n",
    "    1: \"data (prepare and load\",\n",
    "    2: \"build model\",\n",
    "    3: \"fitting the model to the  (training)\",\n",
    "    4: \"making predictions and evalating a model (inference)\", \n",
    "    5: \"saving and loading a model\",\n",
    "    6: \"putting it all together\"\n",
    "                       }"
   ]
  },
  {
   "cell_type": "code",
   "execution_count": 3,
   "id": "ce8ff0ed",
   "metadata": {
    "execution": {
     "iopub.execute_input": "2025-08-31T12:28:42.048967Z",
     "iopub.status.busy": "2025-08-31T12:28:42.048329Z",
     "iopub.status.idle": "2025-08-31T12:28:42.054709Z",
     "shell.execute_reply": "2025-08-31T12:28:42.053884Z"
    },
    "papermill": {
     "duration": 0.014494,
     "end_time": "2025-08-31T12:28:42.055895",
     "exception": false,
     "start_time": "2025-08-31T12:28:42.041401",
     "status": "completed"
    },
    "tags": []
   },
   "outputs": [
    {
     "data": {
      "text/plain": [
       "'2.6.0+cu124'"
      ]
     },
     "execution_count": 3,
     "metadata": {},
     "output_type": "execute_result"
    }
   ],
   "source": [
    "import torch \n",
    "from torch import nn # nn contains all of PyTorch's building blocks for neural networks \n",
    "import matplotlib.pyplot as plt \n",
    "\n",
    "torch.__version__"
   ]
  },
  {
   "cell_type": "markdown",
   "id": "c195ce38",
   "metadata": {
    "papermill": {
     "duration": 0.006049,
     "end_time": "2025-08-31T12:28:42.068267",
     "exception": false,
     "start_time": "2025-08-31T12:28:42.062218",
     "status": "completed"
    },
    "tags": []
   },
   "source": [
    "## 1. Data (preparing and loading)\n",
    "\n",
    "ML is a game of two parts:\n",
    "1. get data into a numerical representation\n",
    "2. build a model to learn patterns in that numerical representation"
   ]
  },
  {
   "cell_type": "markdown",
   "id": "e0f81649",
   "metadata": {
    "papermill": {
     "duration": 0.006166,
     "end_time": "2025-08-31T12:28:42.081167",
     "exception": false,
     "start_time": "2025-08-31T12:28:42.075001",
     "status": "completed"
    },
    "tags": []
   },
   "source": [
    "We'll use a linear regression formula to make a stright line with known **parameters**\n",
    "1. weight = 0.7\n",
    "2. bias = 0.3"
   ]
  },
  {
   "cell_type": "code",
   "execution_count": 4,
   "id": "19a928a1",
   "metadata": {
    "execution": {
     "iopub.execute_input": "2025-08-31T12:28:42.096123Z",
     "iopub.status.busy": "2025-08-31T12:28:42.095805Z",
     "iopub.status.idle": "2025-08-31T12:28:42.210245Z",
     "shell.execute_reply": "2025-08-31T12:28:42.209342Z"
    },
    "papermill": {
     "duration": 0.123972,
     "end_time": "2025-08-31T12:28:42.211633",
     "exception": false,
     "start_time": "2025-08-31T12:28:42.087661",
     "status": "completed"
    },
    "tags": []
   },
   "outputs": [
    {
     "data": {
      "text/plain": [
       "(tensor([[0.0000],\n",
       "         [0.0200],\n",
       "         [0.0400],\n",
       "         [0.0600],\n",
       "         [0.0800],\n",
       "         [0.1000],\n",
       "         [0.1200],\n",
       "         [0.1400],\n",
       "         [0.1600],\n",
       "         [0.1800]]),\n",
       " tensor([[0.3000],\n",
       "         [0.3140],\n",
       "         [0.3280],\n",
       "         [0.3420],\n",
       "         [0.3560],\n",
       "         [0.3700],\n",
       "         [0.3840],\n",
       "         [0.3980],\n",
       "         [0.4120],\n",
       "         [0.4260]]))"
      ]
     },
     "execution_count": 4,
     "metadata": {},
     "output_type": "execute_result"
    }
   ],
   "source": [
    "weight = 0.7 \n",
    "bias = 0.3 \n",
    "\n",
    "start = 0\n",
    "end = 1\n",
    "step = 0.02 \n",
    "X = torch.arange(start, end, step).unsqueeze(dim=1)\n",
    "y = weight * X + bias \n",
    "\n",
    "# input, output values \n",
    "X[:10], y[:10]"
   ]
  },
  {
   "cell_type": "code",
   "execution_count": 5,
   "id": "95b4d557",
   "metadata": {
    "execution": {
     "iopub.execute_input": "2025-08-31T12:28:42.225971Z",
     "iopub.status.busy": "2025-08-31T12:28:42.225658Z",
     "iopub.status.idle": "2025-08-31T12:28:42.230810Z",
     "shell.execute_reply": "2025-08-31T12:28:42.230184Z"
    },
    "papermill": {
     "duration": 0.013785,
     "end_time": "2025-08-31T12:28:42.232075",
     "exception": false,
     "start_time": "2025-08-31T12:28:42.218290",
     "status": "completed"
    },
    "tags": []
   },
   "outputs": [
    {
     "data": {
      "text/plain": [
       "(50, 50)"
      ]
     },
     "execution_count": 5,
     "metadata": {},
     "output_type": "execute_result"
    }
   ],
   "source": [
    "len(X), len(y)"
   ]
  },
  {
   "cell_type": "markdown",
   "id": "a4c0ef92",
   "metadata": {
    "papermill": {
     "duration": 0.006328,
     "end_time": "2025-08-31T12:28:42.244920",
     "exception": false,
     "start_time": "2025-08-31T12:28:42.238592",
     "status": "completed"
    },
    "tags": []
   },
   "source": [
    "## Splitting Data into Training and Test sets\n",
    "* training set : course material\n",
    "* validation set : practice exam\n",
    "* test set : final exam -> test generalization\n",
    "**Generalization**: the ability for a ML model to perform well on data it hasn't seen befor e"
   ]
  },
  {
   "cell_type": "code",
   "execution_count": 6,
   "id": "c9a9a335",
   "metadata": {
    "execution": {
     "iopub.execute_input": "2025-08-31T12:28:42.258743Z",
     "iopub.status.busy": "2025-08-31T12:28:42.258427Z",
     "iopub.status.idle": "2025-08-31T12:28:42.264819Z",
     "shell.execute_reply": "2025-08-31T12:28:42.264028Z"
    },
    "papermill": {
     "duration": 0.015003,
     "end_time": "2025-08-31T12:28:42.266210",
     "exception": false,
     "start_time": "2025-08-31T12:28:42.251207",
     "status": "completed"
    },
    "tags": []
   },
   "outputs": [
    {
     "data": {
      "text/plain": [
       "(40, 40, 10, 10)"
      ]
     },
     "execution_count": 6,
     "metadata": {},
     "output_type": "execute_result"
    }
   ],
   "source": [
    "train_split = int(0.8 * len(X))\n",
    "X_train, y_train = X[:train_split], y[:train_split]\n",
    "X_test, y_test = X[train_split:], y[train_split:]\n",
    "\n",
    "len(X_train), len(y_train), len(X_test), len(y_test)"
   ]
  },
  {
   "cell_type": "code",
   "execution_count": 7,
   "id": "2ec8a513",
   "metadata": {
    "execution": {
     "iopub.execute_input": "2025-08-31T12:28:42.280581Z",
     "iopub.status.busy": "2025-08-31T12:28:42.280285Z",
     "iopub.status.idle": "2025-08-31T12:28:42.287850Z",
     "shell.execute_reply": "2025-08-31T12:28:42.287140Z"
    },
    "papermill": {
     "duration": 0.016444,
     "end_time": "2025-08-31T12:28:42.289192",
     "exception": false,
     "start_time": "2025-08-31T12:28:42.272748",
     "status": "completed"
    },
    "tags": []
   },
   "outputs": [
    {
     "data": {
      "text/plain": [
       "(tensor([[0.0000],\n",
       "         [0.0200],\n",
       "         [0.0400],\n",
       "         [0.0600],\n",
       "         [0.0800],\n",
       "         [0.1000],\n",
       "         [0.1200],\n",
       "         [0.1400],\n",
       "         [0.1600],\n",
       "         [0.1800],\n",
       "         [0.2000],\n",
       "         [0.2200],\n",
       "         [0.2400],\n",
       "         [0.2600],\n",
       "         [0.2800],\n",
       "         [0.3000],\n",
       "         [0.3200],\n",
       "         [0.3400],\n",
       "         [0.3600],\n",
       "         [0.3800],\n",
       "         [0.4000],\n",
       "         [0.4200],\n",
       "         [0.4400],\n",
       "         [0.4600],\n",
       "         [0.4800],\n",
       "         [0.5000],\n",
       "         [0.5200],\n",
       "         [0.5400],\n",
       "         [0.5600],\n",
       "         [0.5800],\n",
       "         [0.6000],\n",
       "         [0.6200],\n",
       "         [0.6400],\n",
       "         [0.6600],\n",
       "         [0.6800],\n",
       "         [0.7000],\n",
       "         [0.7200],\n",
       "         [0.7400],\n",
       "         [0.7600],\n",
       "         [0.7800]]),\n",
       " tensor([[0.3000],\n",
       "         [0.3140],\n",
       "         [0.3280],\n",
       "         [0.3420],\n",
       "         [0.3560],\n",
       "         [0.3700],\n",
       "         [0.3840],\n",
       "         [0.3980],\n",
       "         [0.4120],\n",
       "         [0.4260],\n",
       "         [0.4400],\n",
       "         [0.4540],\n",
       "         [0.4680],\n",
       "         [0.4820],\n",
       "         [0.4960],\n",
       "         [0.5100],\n",
       "         [0.5240],\n",
       "         [0.5380],\n",
       "         [0.5520],\n",
       "         [0.5660],\n",
       "         [0.5800],\n",
       "         [0.5940],\n",
       "         [0.6080],\n",
       "         [0.6220],\n",
       "         [0.6360],\n",
       "         [0.6500],\n",
       "         [0.6640],\n",
       "         [0.6780],\n",
       "         [0.6920],\n",
       "         [0.7060],\n",
       "         [0.7200],\n",
       "         [0.7340],\n",
       "         [0.7480],\n",
       "         [0.7620],\n",
       "         [0.7760],\n",
       "         [0.7900],\n",
       "         [0.8040],\n",
       "         [0.8180],\n",
       "         [0.8320],\n",
       "         [0.8460]]))"
      ]
     },
     "execution_count": 7,
     "metadata": {},
     "output_type": "execute_result"
    }
   ],
   "source": [
    "X_train, y_train"
   ]
  },
  {
   "cell_type": "markdown",
   "id": "e69f0be9",
   "metadata": {
    "papermill": {
     "duration": 0.006463,
     "end_time": "2025-08-31T12:28:42.302768",
     "exception": false,
     "start_time": "2025-08-31T12:28:42.296305",
     "status": "completed"
    },
    "tags": []
   },
   "source": [
    "How can we better visualiza our data?"
   ]
  },
  {
   "cell_type": "code",
   "execution_count": 8,
   "id": "8efb47c0",
   "metadata": {
    "execution": {
     "iopub.execute_input": "2025-08-31T12:28:42.317448Z",
     "iopub.status.busy": "2025-08-31T12:28:42.317139Z",
     "iopub.status.idle": "2025-08-31T12:28:42.646390Z",
     "shell.execute_reply": "2025-08-31T12:28:42.645624Z"
    },
    "papermill": {
     "duration": 0.338413,
     "end_time": "2025-08-31T12:28:42.647770",
     "exception": false,
     "start_time": "2025-08-31T12:28:42.309357",
     "status": "completed"
    },
    "tags": []
   },
   "outputs": [
    {
     "data": {
      "image/png": "[encoded data removed]",
      "text/plain": [
       "<Figure size 1000x700 with 1 Axes>"
      ]
     },
     "metadata": {},
     "output_type": "display_data"
    }
   ],
   "source": [
    "def plot_predictions(train_data = X_train,\n",
    "                     train_labels = y_train,\n",
    "                     test_data = X_test,\n",
    "                     test_labels = y_test, \n",
    "                     predictions = None):\n",
    "    \"\"\"\n",
    "    Plots training data, test data and compares predictions\n",
    "    \"\"\"\n",
    "    \n",
    "    plt.figure(figsize=(10,7))\n",
    "    plt.scatter(train_data, train_labels, c=\"b\", s=4, label=\"Training Data\")\n",
    "\n",
    "    plt.scatter(test_data, test_labels, c=\"y\", s=4, label=\"Testing Data\")\n",
    "\n",
    "    if predictions is not None :\n",
    "        plt.scatter(test_data, predictions, c=\"r\", label=\"Predictions\")\n",
    "\n",
    "    plt.legend(prop={\"size\":14})\n",
    "\n",
    "\n",
    "plot_predictions()"
   ]
  },
  {
   "cell_type": "markdown",
   "id": "6a38eed5",
   "metadata": {
    "papermill": {
     "duration": 0.006688,
     "end_time": "2025-08-31T12:28:42.661737",
     "exception": false,
     "start_time": "2025-08-31T12:28:42.655049",
     "status": "completed"
    },
    "tags": []
   },
   "source": [
    "# Model Building\n",
    "what our model does:\n",
    "* start with random values (weight and bias)\n",
    "* look at training data and adjust the random values to better represent the ideal values\n",
    "\n",
    "Two main algorithms: \n",
    "1. Gradient descent\n",
    "2. Backpropagation"
   ]
  },
  {
   "cell_type": "code",
   "execution_count": 9,
   "id": "dcc8eb6d",
   "metadata": {
    "execution": {
     "iopub.execute_input": "2025-08-31T12:28:42.676864Z",
     "iopub.status.busy": "2025-08-31T12:28:42.676547Z",
     "iopub.status.idle": "2025-08-31T12:28:42.682132Z",
     "shell.execute_reply": "2025-08-31T12:28:42.681426Z"
    },
    "papermill": {
     "duration": 0.014796,
     "end_time": "2025-08-31T12:28:42.683388",
     "exception": false,
     "start_time": "2025-08-31T12:28:42.668592",
     "status": "completed"
    },
    "tags": []
   },
   "outputs": [],
   "source": [
    "# Create a Linear Regression model class\n",
    "class LinearRegressionModel(nn.Module): # <- almost everything in PyTorch is a nn.Module (think of this as neural network lego blocks)\n",
    "    def __init__(self):\n",
    "        super().__init__() \n",
    "        self.weights = nn.Parameter(torch.randn(1, # <- start with random weights (this will get adjusted as the model learns)\n",
    "                                                dtype=torch.float), # <- PyTorch loves float32 by default\n",
    "                                   requires_grad=True) # <- can we update this value with gradient descent?)\n",
    "\n",
    "        self.bias = nn.Parameter(torch.randn(1, # <- start with random bias (this will get adjusted as the model learns)\n",
    "                                            dtype=torch.float), # <- PyTorch loves float32 by default\n",
    "                                requires_grad=True) # <- can we update this value with gradient descent?))\n",
    "\n",
    "    # Forward defines the computation in the model\n",
    "    def forward(self, x: torch.Tensor) -> torch.Tensor: # <- \"x\" is the input data (e.g. training/testing features)\n",
    "        return self.weights * x + self.bias # <- this is the linear regression formula (y = m*x + b)"
   ]
  },
  {
   "cell_type": "markdown",
   "id": "0d6a8d58",
   "metadata": {
    "papermill": {
     "duration": 0.006853,
     "end_time": "2025-08-31T12:28:42.697177",
     "exception": false,
     "start_time": "2025-08-31T12:28:42.690324",
     "status": "completed"
    },
    "tags": []
   },
   "source": [
    "## PyTorch model building essentials \n",
    "\n",
    "* torch.nn contains all of the buildings for computational graphs (a NN can be considered a computational graph)\n",
    "* torch.nn.Parameter - what parameters should our model try and learn, oftern a PyTorch layer from torch.nn will set these for us\n",
    "* torch.nn.Module - The base class for all NN modules, if you subclass it, you should overwrite forward()\n",
    "* torch.optim - this is where the optimizers in PyTorch live, they will help with gradient descent"
   ]
  },
  {
   "cell_type": "markdown",
   "id": "886538dc",
   "metadata": {
    "papermill": {
     "duration": 0.006745,
     "end_time": "2025-08-31T12:28:42.710790",
     "exception": false,
     "start_time": "2025-08-31T12:28:42.704045",
     "status": "completed"
    },
    "tags": []
   },
   "source": [
    "### let's take a look at what's *inside* the model"
   ]
  },
  {
   "cell_type": "code",
   "execution_count": 10,
   "id": "dbc69aaa",
   "metadata": {
    "execution": {
     "iopub.execute_input": "2025-08-31T12:28:42.726296Z",
     "iopub.status.busy": "2025-08-31T12:28:42.725498Z",
     "iopub.status.idle": "2025-08-31T12:28:42.741801Z",
     "shell.execute_reply": "2025-08-31T12:28:42.740967Z"
    },
    "papermill": {
     "duration": 0.025536,
     "end_time": "2025-08-31T12:28:42.743263",
     "exception": false,
     "start_time": "2025-08-31T12:28:42.717727",
     "status": "completed"
    },
    "tags": []
   },
   "outputs": [
    {
     "data": {
      "text/plain": [
       "[Parameter containing:\n",
       " tensor([0.3367], requires_grad=True),\n",
       " Parameter containing:\n",
       " tensor([0.1288], requires_grad=True)]"
      ]
     },
     "execution_count": 10,
     "metadata": {},
     "output_type": "execute_result"
    }
   ],
   "source": [
    "# random seed \n",
    "torch.manual_seed(42)\n",
    "\n",
    "# create an instance of the model (subclass of nn.Module)\n",
    "model_0 = LinearRegressionModel()\n",
    "\n",
    "# check out the parameters \n",
    "list(model_0.parameters())"
   ]
  },
  {
   "cell_type": "code",
   "execution_count": 11,
   "id": "6edaa678",
   "metadata": {
    "execution": {
     "iopub.execute_input": "2025-08-31T12:28:42.820074Z",
     "iopub.status.busy": "2025-08-31T12:28:42.819472Z",
     "iopub.status.idle": "2025-08-31T12:28:42.826186Z",
     "shell.execute_reply": "2025-08-31T12:28:42.825502Z"
    },
    "papermill": {
     "duration": 0.016291,
     "end_time": "2025-08-31T12:28:42.827447",
     "exception": false,
     "start_time": "2025-08-31T12:28:42.811156",
     "status": "completed"
    },
    "tags": []
   },
   "outputs": [
    {
     "data": {
      "text/plain": [
       "OrderedDict([('weights', tensor([0.3367])), ('bias', tensor([0.1288]))])"
      ]
     },
     "execution_count": 11,
     "metadata": {},
     "output_type": "execute_result"
    }
   ],
   "source": [
    "# List named parameters \n",
    "model_0.state_dict()"
   ]
  },
  {
   "cell_type": "markdown",
   "id": "2365d7c3",
   "metadata": {
    "papermill": {
     "duration": 0.007527,
     "end_time": "2025-08-31T12:28:42.842358",
     "exception": false,
     "start_time": "2025-08-31T12:28:42.834831",
     "status": "completed"
    },
    "tags": []
   },
   "source": [
    "### Making prediction using torch.inference_mode()\n",
    "To check our model's predictive power, let's see how well it predicts y_test based on X_test.\n",
    "When we pass data through our model, it's goind to run it through the forward method "
   ]
  },
  {
   "cell_type": "code",
   "execution_count": 12,
   "id": "2b4ff50b",
   "metadata": {
    "execution": {
     "iopub.execute_input": "2025-08-31T12:28:42.858611Z",
     "iopub.status.busy": "2025-08-31T12:28:42.857993Z",
     "iopub.status.idle": "2025-08-31T12:28:42.864029Z",
     "shell.execute_reply": "2025-08-31T12:28:42.863379Z"
    },
    "papermill": {
     "duration": 0.015546,
     "end_time": "2025-08-31T12:28:42.865258",
     "exception": false,
     "start_time": "2025-08-31T12:28:42.849712",
     "status": "completed"
    },
    "tags": []
   },
   "outputs": [
    {
     "data": {
      "text/plain": [
       "(tensor([[0.8000],\n",
       "         [0.8200],\n",
       "         [0.8400],\n",
       "         [0.8600],\n",
       "         [0.8800],\n",
       "         [0.9000],\n",
       "         [0.9200],\n",
       "         [0.9400],\n",
       "         [0.9600],\n",
       "         [0.9800]]),\n",
       " tensor([[0.8600],\n",
       "         [0.8740],\n",
       "         [0.8880],\n",
       "         [0.9020],\n",
       "         [0.9160],\n",
       "         [0.9300],\n",
       "         [0.9440],\n",
       "         [0.9580],\n",
       "         [0.9720],\n",
       "         [0.9860]]))"
      ]
     },
     "execution_count": 12,
     "metadata": {},
     "output_type": "execute_result"
    }
   ],
   "source": [
    "X_test, y_test"
   ]
  },
  {
   "cell_type": "markdown",
   "id": "2d0ca837",
   "metadata": {
    "papermill": {
     "duration": 0.00702,
     "end_time": "2025-08-31T12:28:42.879632",
     "exception": false,
     "start_time": "2025-08-31T12:28:42.872612",
     "status": "completed"
    },
    "tags": []
   },
   "source": [
    "*torch.inference_mode()* (== torch.no_grad()) -> it turns off the gradient tracking. The predictions will be faster. Stuff we don't need are not going to be tracked. Long story short: it makes things faster "
   ]
  },
  {
   "cell_type": "code",
   "execution_count": 13,
   "id": "8a90538a",
   "metadata": {
    "execution": {
     "iopub.execute_input": "2025-08-31T12:28:42.895394Z",
     "iopub.status.busy": "2025-08-31T12:28:42.894792Z",
     "iopub.status.idle": "2025-08-31T12:28:42.901493Z",
     "shell.execute_reply": "2025-08-31T12:28:42.900847Z"
    },
    "papermill": {
     "duration": 0.01598,
     "end_time": "2025-08-31T12:28:42.902695",
     "exception": false,
     "start_time": "2025-08-31T12:28:42.886715",
     "status": "completed"
    },
    "tags": []
   },
   "outputs": [
    {
     "data": {
      "text/plain": [
       "tensor([[0.3982],\n",
       "        [0.4049],\n",
       "        [0.4116],\n",
       "        [0.4184],\n",
       "        [0.4251],\n",
       "        [0.4318],\n",
       "        [0.4386],\n",
       "        [0.4453],\n",
       "        [0.4520],\n",
       "        [0.4588]])"
      ]
     },
     "execution_count": 13,
     "metadata": {},
     "output_type": "execute_result"
    }
   ],
   "source": [
    "# make predictions \n",
    "with torch.inference_mode():\n",
    "    y_preds = model_0(X_test) \n",
    "\n",
    "# we'd like to have y_preds as close as possible to y_test\n",
    "# but now the parameters of our model are just random numbers \n",
    "y_preds "
   ]
  },
  {
   "cell_type": "code",
   "execution_count": 14,
   "id": "54644707",
   "metadata": {
    "execution": {
     "iopub.execute_input": "2025-08-31T12:28:42.918703Z",
     "iopub.status.busy": "2025-08-31T12:28:42.918446Z",
     "iopub.status.idle": "2025-08-31T12:28:42.924665Z",
     "shell.execute_reply": "2025-08-31T12:28:42.923831Z"
    },
    "papermill": {
     "duration": 0.01574,
     "end_time": "2025-08-31T12:28:42.926040",
     "exception": false,
     "start_time": "2025-08-31T12:28:42.910300",
     "status": "completed"
    },
    "tags": []
   },
   "outputs": [
    {
     "data": {
      "text/plain": [
       "tensor([[0.8600],\n",
       "        [0.8740],\n",
       "        [0.8880],\n",
       "        [0.9020],\n",
       "        [0.9160],\n",
       "        [0.9300],\n",
       "        [0.9440],\n",
       "        [0.9580],\n",
       "        [0.9720],\n",
       "        [0.9860]])"
      ]
     },
     "execution_count": 14,
     "metadata": {},
     "output_type": "execute_result"
    }
   ],
   "source": [
    "y_test"
   ]
  },
  {
   "cell_type": "code",
   "execution_count": 15,
   "id": "a983ee6b",
   "metadata": {
    "execution": {
     "iopub.execute_input": "2025-08-31T12:28:42.943182Z",
     "iopub.status.busy": "2025-08-31T12:28:42.942336Z",
     "iopub.status.idle": "2025-08-31T12:28:43.204380Z",
     "shell.execute_reply": "2025-08-31T12:28:43.203474Z"
    },
    "papermill": {
     "duration": 0.271935,
     "end_time": "2025-08-31T12:28:43.205676",
     "exception": false,
     "start_time": "2025-08-31T12:28:42.933741",
     "status": "completed"
    },
    "tags": []
   },
   "outputs": [
    {
     "data": {
      "image/png": "[encoded data removed]",
      "text/plain": [
       "<Figure size 1000x700 with 1 Axes>"
      ]
     },
     "metadata": {},
     "output_type": "display_data"
    }
   ],
   "source": [
    "plot_predictions(predictions=y_preds)\n",
    "# we'd like red dots to be on top of yellow dots"
   ]
  },
  {
   "cell_type": "markdown",
   "id": "78c9cafe",
   "metadata": {
    "papermill": {
     "duration": 0.00767,
     "end_time": "2025-08-31T12:28:43.221566",
     "exception": false,
     "start_time": "2025-08-31T12:28:43.213896",
     "status": "completed"
    },
    "tags": []
   },
   "source": [
    "## [](http://)Train model \n",
    "The whole idea of training is for a model to move from some unknown parameters (these may be random) to some *known* parameters.\n",
    "\n",
    "## Loss functions\n",
    "may also be called cost functions or criteria in different areas. \n",
    "* **loss function** : it measures how wrong your model's predictions are to the ideal outputs, lower is better\n",
    "* **optimizer** : takes into account the loss of a model and adjusts the model's parameters (weight & bias) to improve the loss function\n",
    "\n",
    "And specifically for PyTorch we need \n",
    "* a training loop\n",
    "* a testing loop\n"
   ]
  },
  {
   "cell_type": "code",
   "execution_count": 16,
   "id": "529c1c79",
   "metadata": {
    "execution": {
     "iopub.execute_input": "2025-08-31T12:28:43.239276Z",
     "iopub.status.busy": "2025-08-31T12:28:43.238894Z",
     "iopub.status.idle": "2025-08-31T12:28:43.247119Z",
     "shell.execute_reply": "2025-08-31T12:28:43.246235Z"
    },
    "papermill": {
     "duration": 0.018637,
     "end_time": "2025-08-31T12:28:43.248549",
     "exception": false,
     "start_time": "2025-08-31T12:28:43.229912",
     "status": "completed"
    },
    "tags": []
   },
   "outputs": [
    {
     "data": {
      "text/plain": [
       "(OrderedDict([('weights', tensor([0.3367])), ('bias', tensor([0.1288]))]),\n",
       " [Parameter containing:\n",
       "  tensor([0.3367], requires_grad=True),\n",
       "  Parameter containing:\n",
       "  tensor([0.1288], requires_grad=True)])"
      ]
     },
     "execution_count": 16,
     "metadata": {},
     "output_type": "execute_result"
    }
   ],
   "source": [
    "model_0.state_dict(), list(model_0.parameters())"
   ]
  },
  {
   "cell_type": "markdown",
   "id": "afc8ae33",
   "metadata": {
    "papermill": {
     "duration": 0.007629,
     "end_time": "2025-08-31T12:28:43.264506",
     "exception": false,
     "start_time": "2025-08-31T12:28:43.256877",
     "status": "completed"
    },
    "tags": []
   },
   "source": [
    "## L1 Loss (MAE)\n",
    "mean absolute error : **torch.nn.L1Loss**\n",
    "\n",
    "## torch.optim : optimizers \n",
    "* SGD, Adam: probably the more popular\n",
    "* SGD: stochastic (random) gradient descent "
   ]
  },
  {
   "cell_type": "code",
   "execution_count": 17,
   "id": "363d8c31",
   "metadata": {
    "execution": {
     "iopub.execute_input": "2025-08-31T12:28:43.282041Z",
     "iopub.status.busy": "2025-08-31T12:28:43.281182Z",
     "iopub.status.idle": "2025-08-31T12:28:48.725853Z",
     "shell.execute_reply": "2025-08-31T12:28:48.725038Z"
    },
    "papermill": {
     "duration": 5.455226,
     "end_time": "2025-08-31T12:28:48.727497",
     "exception": false,
     "start_time": "2025-08-31T12:28:43.272271",
     "status": "completed"
    },
    "tags": []
   },
   "outputs": [],
   "source": [
    "# setup a loss function\n",
    "loss_fn = nn.L1Loss()\n",
    "\n",
    "# setup an optimizer -> find parameters to minimize the loss function\n",
    "# stochastic gradient descent \n",
    "optimizer = torch.optim.SGD(\n",
    "    params=model_0.parameters(),\n",
    "    lr=0.01 # learning rate = possibly the most important hyperparameter we can set\n",
    ")"
   ]
  },
  {
   "cell_type": "markdown",
   "id": "8f4080a1",
   "metadata": {
    "papermill": {
     "duration": 0.007689,
     "end_time": "2025-08-31T12:28:48.743448",
     "exception": false,
     "start_time": "2025-08-31T12:28:48.735759",
     "status": "completed"
    },
    "tags": []
   },
   "source": [
    "### Building a training loop in PyTorch\n",
    "0. Loop though the data and do :\n",
    "1. Forward pass: it involves data moving through our model's forward functions to make predictions on data - also called forward propagation\n",
    "2. Calculate the loss (compare forward pass predictions to ground truth labels)\n",
    "3. Optimizer zero grad\n",
    "4. Loss backward - move backwards through the network to calculate the gradients of each of the parameters of out model wrt the loss (**backpropagation**)\n",
    "5. Optimizer step - use the optimizer to adjust our model's parameters to try and improve the loss (**gradient descent**)"
   ]
  },
  {
   "cell_type": "code",
   "execution_count": 18,
   "id": "91e11c86",
   "metadata": {
    "execution": {
     "iopub.execute_input": "2025-08-31T12:28:48.761600Z",
     "iopub.status.busy": "2025-08-31T12:28:48.760724Z",
     "iopub.status.idle": "2025-08-31T12:28:48.902491Z",
     "shell.execute_reply": "2025-08-31T12:28:48.901573Z"
    },
    "papermill": {
     "duration": 0.152918,
     "end_time": "2025-08-31T12:28:48.904227",
     "exception": false,
     "start_time": "2025-08-31T12:28:48.751309",
     "status": "completed"
    },
    "tags": []
   },
   "outputs": [
    {
     "name": "stdout",
     "output_type": "stream",
     "text": [
      "Loss: 0.31288138031959534\n",
      "Epoch: 0 | Loss: 0.31288138031959534 | Test loss: 0.48106518387794495\n",
      "OrderedDict([('weights', tensor([0.3406])), ('bias', tensor([0.1388]))])\n",
      "Loss: 0.3013603389263153\n",
      "Loss: 0.28983935713768005\n",
      "Loss: 0.2783183455467224\n",
      "Loss: 0.26679736375808716\n",
      "Loss: 0.2552763521671295\n",
      "Loss: 0.24375534057617188\n",
      "Loss: 0.23223432898521423\n",
      "Loss: 0.22071333229541779\n",
      "Loss: 0.20919232070446014\n",
      "Loss: 0.1976713240146637\n",
      "Epoch: 10 | Loss: 0.1976713240146637 | Test loss: 0.3463551998138428\n",
      "OrderedDict([('weights', tensor([0.3796])), ('bias', tensor([0.2388]))])\n",
      "Loss: 0.18615034222602844\n",
      "Loss: 0.1746293306350708\n",
      "Loss: 0.16310831904411316\n",
      "Loss: 0.1515873372554779\n",
      "Loss: 0.14006635546684265\n",
      "Loss: 0.1285453587770462\n",
      "Loss: 0.11702437698841095\n",
      "Loss: 0.1060912236571312\n",
      "Loss: 0.09681284427642822\n",
      "Loss: 0.08908725529909134\n",
      "Epoch: 20 | Loss: 0.08908725529909134 | Test loss: 0.21729660034179688\n",
      "OrderedDict([('weights', tensor([0.4184])), ('bias', tensor([0.3333]))])\n",
      "Loss: 0.08227583020925522\n",
      "Loss: 0.07638873159885406\n",
      "Loss: 0.07160007208585739\n",
      "Loss: 0.06747635453939438\n",
      "Loss: 0.06395438313484192\n",
      "Loss: 0.06097004935145378\n",
      "Loss: 0.05845819041132927\n",
      "Loss: 0.05635259300470352\n",
      "Loss: 0.0545857772231102\n",
      "Loss: 0.053148526698350906\n",
      "Epoch: 30 | Loss: 0.053148526698350906 | Test loss: 0.14464017748832703\n",
      "OrderedDict([('weights', tensor([0.4512])), ('bias', tensor([0.3768]))])\n",
      "Loss: 0.05181945487856865\n",
      "Loss: 0.05069301277399063\n",
      "Loss: 0.0498228520154953\n",
      "Loss: 0.04895269125699997\n",
      "Loss: 0.04819351062178612\n",
      "Loss: 0.047531817108392715\n",
      "Loss: 0.04692792519927025\n",
      "Loss: 0.04642331600189209\n",
      "Loss: 0.04591871052980423\n",
      "Loss: 0.04543796554207802\n",
      "Epoch: 40 | Loss: 0.04543796554207802 | Test loss: 0.11360953003168106\n",
      "OrderedDict([('weights', tensor([0.4748])), ('bias', tensor([0.3868]))])\n",
      "Loss: 0.04503796249628067\n",
      "Loss: 0.04463795945048332\n",
      "Loss: 0.04423796385526657\n",
      "Loss: 0.04383796453475952\n",
      "Loss: 0.04343796148896217\n",
      "Loss: 0.043074630200862885\n",
      "Loss: 0.04272563382983208\n",
      "Loss: 0.04237663000822067\n",
      "Loss: 0.04202762991189957\n",
      "Loss: 0.04167863354086876\n",
      "Epoch: 50 | Loss: 0.04167863354086876 | Test loss: 0.09919948130846024\n",
      "OrderedDict([('weights', tensor([0.4938])), ('bias', tensor([0.3843]))])\n",
      "Loss: 0.04132963344454765\n",
      "Loss: 0.04098063334822655\n",
      "Loss: 0.04063162952661514\n",
      "Loss: 0.040282636880874634\n",
      "Loss: 0.039933640509843826\n",
      "Loss: 0.03958464413881302\n",
      "Loss: 0.03923564404249191\n",
      "Loss: 0.03888664394617081\n",
      "Loss: 0.0385376438498497\n",
      "Loss: 0.03818932920694351\n",
      "Epoch: 60 | Loss: 0.03818932920694351 | Test loss: 0.08886633068323135\n",
      "OrderedDict([('weights', tensor([0.5116])), ('bias', tensor([0.3788]))])\n",
      "Loss: 0.03785243630409241\n",
      "Loss: 0.0375034399330616\n",
      "Loss: 0.037164121866226196\n",
      "Loss: 0.03681822493672371\n",
      "Loss: 0.03647511452436447\n",
      "Loss: 0.03613303601741791\n",
      "Loss: 0.03578609973192215\n",
      "Loss: 0.03544783592224121\n",
      "Loss: 0.035098835825920105\n",
      "Loss: 0.03476089984178543\n",
      "Epoch: 70 | Loss: 0.03476089984178543 | Test loss: 0.0805937647819519\n",
      "OrderedDict([('weights', tensor([0.5288])), ('bias', tensor([0.3718]))])\n",
      "Loss: 0.03441363573074341\n",
      "Loss: 0.03407188132405281\n",
      "Loss: 0.03372843936085701\n",
      "Loss: 0.03338287025690079\n",
      "Loss: 0.033043231815099716\n",
      "Loss: 0.03269423171877861\n",
      "Loss: 0.032357655465602875\n",
      "Loss: 0.03200903534889221\n",
      "Loss: 0.03166864812374115\n",
      "Loss: 0.03132382780313492\n",
      "Epoch: 80 | Loss: 0.03132382780313492 | Test loss: 0.07232122868299484\n",
      "OrderedDict([('weights', tensor([0.5459])), ('bias', tensor([0.3648]))])\n",
      "Loss: 0.030979642644524574\n",
      "Loss: 0.030638623982667923\n",
      "Loss: 0.0302906334400177\n",
      "Loss: 0.029953425750136375\n",
      "Loss: 0.02960442565381527\n",
      "Loss: 0.029265418648719788\n",
      "Loss: 0.028919223695993423\n",
      "Loss: 0.028576409444212914\n",
      "Loss: 0.028234025463461876\n",
      "Loss: 0.02788739837706089\n",
      "Epoch: 90 | Loss: 0.02788739837706089 | Test loss: 0.06473556160926819\n",
      "OrderedDict([('weights', tensor([0.5629])), ('bias', tensor([0.3573]))])\n",
      "Loss: 0.02754882536828518\n",
      "Loss: 0.027199819684028625\n",
      "Loss: 0.026862185448408127\n",
      "Loss: 0.02651461586356163\n",
      "Loss: 0.026173178106546402\n",
      "Loss: 0.025829419493675232\n",
      "Loss: 0.02548416517674923\n",
      "Loss: 0.025144213810563087\n",
      "Loss: 0.02479521557688713\n",
      "Loss: 0.024458957836031914\n",
      "Epoch: 100 | Loss: 0.024458957836031914 | Test loss: 0.05646304413676262\n",
      "OrderedDict([('weights', tensor([0.5800])), ('bias', tensor([0.3503]))])\n",
      "Loss: 0.024110013619065285\n",
      "Loss: 0.02376994863152504\n",
      "Loss: 0.02342480979859829\n",
      "Loss: 0.023080935701727867\n",
      "Loss: 0.022739607840776443\n",
      "Loss: 0.022391926497220993\n",
      "Loss: 0.022054409608244896\n",
      "Loss: 0.02170540764927864\n",
      "Loss: 0.021366719156503677\n",
      "Loss: 0.021020207554101944\n",
      "Epoch: 110 | Loss: 0.021020207554101944 | Test loss: 0.04819049686193466\n",
      "OrderedDict([('weights', tensor([0.5972])), ('bias', tensor([0.3433]))])\n",
      "Loss: 0.020677709951996803\n",
      "Loss: 0.02033500373363495\n",
      "Loss: 0.01998869702219963\n",
      "Loss: 0.019649803638458252\n",
      "Loss: 0.019300809130072594\n",
      "Loss: 0.018963487818837166\n",
      "Loss: 0.01861560344696045\n",
      "Loss: 0.018274478614330292\n",
      "Loss: 0.017930403351783752\n",
      "Loss: 0.01758546568453312\n",
      "Epoch: 120 | Loss: 0.01758546568453312 | Test loss: 0.04060482233762741\n",
      "OrderedDict([('weights', tensor([0.6141])), ('bias', tensor([0.3358]))])\n",
      "Loss: 0.017245199531316757\n",
      "Loss: 0.016896454617381096\n",
      "Loss: 0.01656000316143036\n",
      "Loss: 0.016210997477173805\n",
      "Loss: 0.01587124727666378\n",
      "Loss: 0.015525798313319683\n",
      "Loss: 0.015182236209511757\n",
      "Loss: 0.014840595424175262\n",
      "Loss: 0.01449323259294033\n",
      "Loss: 0.014155393466353416\n",
      "Epoch: 130 | Loss: 0.014155393466353416 | Test loss: 0.03233227878808975\n",
      "OrderedDict([('weights', tensor([0.6313])), ('bias', tensor([0.3288]))])\n",
      "Loss: 0.013806397095322609\n",
      "Loss: 0.013468016870319843\n",
      "Loss: 0.013121193274855614\n",
      "Loss: 0.01277900766581297\n",
      "Loss: 0.012435992248356342\n",
      "Loss: 0.01208999752998352\n",
      "Loss: 0.011750795878469944\n",
      "Loss: 0.011401787400245667\n",
      "Loss: 0.011064787395298481\n",
      "Loss: 0.010716589167714119\n",
      "Epoch: 140 | Loss: 0.010716589167714119 | Test loss: 0.024059748277068138\n",
      "OrderedDict([('weights', tensor([0.6485])), ('bias', tensor([0.3218]))])\n",
      "Loss: 0.010375778190791607\n",
      "Loss: 0.010031387209892273\n",
      "Loss: 0.009686763398349285\n",
      "Loss: 0.009346187114715576\n",
      "Loss: 0.008997755125164986\n",
      "Loss: 0.008660981431603432\n",
      "Loss: 0.008311985060572624\n",
      "Loss: 0.007972544990479946\n",
      "Loss: 0.007626785431057215\n",
      "Loss: 0.0072835334576666355\n",
      "Epoch: 150 | Loss: 0.0072835334576666355 | Test loss: 0.016474086791276932\n",
      "OrderedDict([('weights', tensor([0.6654])), ('bias', tensor([0.3143]))])\n",
      "Loss: 0.006941580679267645\n",
      "Loss: 0.006594526115804911\n",
      "Loss: 0.006256377790123224\n",
      "Loss: 0.005907376762479544\n",
      "Loss: 0.005569315515458584\n",
      "Loss: 0.005222178064286709\n",
      "Loss: 0.004880306776612997\n",
      "Loss: 0.004536976106464863\n",
      "Loss: 0.00419129803776741\n",
      "Loss: 0.0038517764769494534\n",
      "Epoch: 160 | Loss: 0.0038517764769494534 | Test loss: 0.008201557211577892\n",
      "OrderedDict([('weights', tensor([0.6826])), ('bias', tensor([0.3073]))])\n",
      "Loss: 0.0035027749836444855\n",
      "Loss: 0.0031660839449614286\n",
      "Loss: 0.002817571861669421\n",
      "Loss: 0.0024770735763013363\n",
      "Loss: 0.0021323717664927244\n",
      "Loss: 0.0017880648374557495\n",
      "Loss: 0.0014518328243866563\n",
      "Loss: 0.0011887758737429976\n",
      "Loss: 0.0025885067880153656\n",
      "Loss: 0.008932482451200485\n",
      "Epoch: 170 | Loss: 0.008932482451200485 | Test loss: 0.005023092031478882\n",
      "OrderedDict([('weights', tensor([0.6951])), ('bias', tensor([0.2993]))])\n",
      "Loss: 0.0025885067880153656\n",
      "Loss: 0.008932482451200485\n",
      "Loss: 0.0025885067880153656\n",
      "Loss: 0.008932482451200485\n",
      "Loss: 0.0025885067880153656\n",
      "Loss: 0.008932482451200485\n",
      "Loss: 0.0025885067880153656\n",
      "Loss: 0.008932482451200485\n",
      "Loss: 0.0025885067880153656\n",
      "Loss: 0.008932482451200485\n",
      "Epoch: 180 | Loss: 0.008932482451200485 | Test loss: 0.005023092031478882\n",
      "OrderedDict([('weights', tensor([0.6951])), ('bias', tensor([0.2993]))])\n",
      "Loss: 0.0025885067880153656\n",
      "Loss: 0.008932482451200485\n",
      "Loss: 0.0025885067880153656\n",
      "Loss: 0.008932482451200485\n",
      "Loss: 0.0025885067880153656\n",
      "Loss: 0.008932482451200485\n",
      "Loss: 0.0025885067880153656\n",
      "Loss: 0.008932482451200485\n",
      "Loss: 0.0025885067880153656\n",
      "Loss: 0.008932482451200485\n",
      "Epoch: 190 | Loss: 0.008932482451200485 | Test loss: 0.005023092031478882\n",
      "OrderedDict([('weights', tensor([0.6951])), ('bias', tensor([0.2993]))])\n",
      "Loss: 0.0025885067880153656\n",
      "Loss: 0.008932482451200485\n",
      "Loss: 0.0025885067880153656\n",
      "Loss: 0.008932482451200485\n",
      "Loss: 0.0025885067880153656\n",
      "Loss: 0.008932482451200485\n",
      "Loss: 0.0025885067880153656\n",
      "Loss: 0.008932482451200485\n",
      "Loss: 0.0025885067880153656\n"
     ]
    }
   ],
   "source": [
    "torch.manual_seed(42)\n",
    "\n",
    "# an epoch is one loop though the data (#epochs is an hyperparameter)\n",
    "epochs = 200\n",
    "\n",
    "# track different values \n",
    "epoch_count = []\n",
    "loss_values = []\n",
    "test_loss_values = []\n",
    "\n",
    "# loop though the data \n",
    "for epoch in range(epochs):\n",
    "    # set the model to training mode \n",
    "    model_0.train() # train mode in PyTorch sets all parameters that require gradients to require gradients\n",
    "\n",
    "    # 1. Forward pass \n",
    "    y_pred = model_0(X_train)\n",
    "\n",
    "    # 2. Calculate the loss\n",
    "    loss = loss_fn(y_pred, y_train)\n",
    "    print(f\"Loss: {loss}\")\n",
    "\n",
    "    # 3. Optimizer zero grad \n",
    "    optimizer.zero_grad()\n",
    "\n",
    "    # 4. Perform backpropagation on the loss wrt the parameters of the model\n",
    "    loss.backward()\n",
    "\n",
    "    # 5. Optimizer step: Perform gradient descent \n",
    "    optimizer.step() # by default how the optimizer changes will accumulate through the loop so we have to zero them above in step 3 for the next iteration of the loop\n",
    "\n",
    "    # Testing\n",
    "    model_0.eval() # turns off gradient tracking and other settings in the model not needed for evaluation/testing\n",
    "    with torch.inference_mode(): # turns off gradient tracking \n",
    "        # 1. Do the forward pass\n",
    "        test_pred = model_0(X_test)\n",
    "        # 2. Calculate the loss \n",
    "        test_loss = loss_fn(test_pred, y_test)\n",
    "\n",
    "    if epoch % 10 == 0:\n",
    "        epoch_count.append(epoch)\n",
    "        loss_values.append(loss)\n",
    "        test_loss_values.append(test_loss)\n",
    "        print(f\"Epoch: {epoch} | Loss: {loss} | Test loss: {test_loss}\")\n",
    "    \n",
    "        print(model_0.state_dict())"
   ]
  },
  {
   "cell_type": "code",
   "execution_count": 19,
   "id": "0c7c774d",
   "metadata": {
    "execution": {
     "iopub.execute_input": "2025-08-31T12:28:48.923133Z",
     "iopub.status.busy": "2025-08-31T12:28:48.922243Z",
     "iopub.status.idle": "2025-08-31T12:28:49.439352Z",
     "shell.execute_reply": "2025-08-31T12:28:49.438490Z"
    },
    "papermill": {
     "duration": 0.527736,
     "end_time": "2025-08-31T12:28:49.440850",
     "exception": false,
     "start_time": "2025-08-31T12:28:48.913114",
     "status": "completed"
    },
    "tags": []
   },
   "outputs": [
    {
     "data": {
      "image/png": "[encoded data removed]",
      "text/plain": [
       "<Figure size 1000x700 with 1 Axes>"
      ]
     },
     "metadata": {},
     "output_type": "display_data"
    },
    {
     "data": {
      "image/png": "[encoded data removed]",
      "text/plain": [
       "<Figure size 1000x700 with 1 Axes>"
      ]
     },
     "metadata": {},
     "output_type": "display_data"
    }
   ],
   "source": [
    "with torch.inference_mode():\n",
    "    y_preds_new = model_0(X_test)\n",
    "\n",
    "plot_predictions(predictions=y_preds)\n",
    "plot_predictions(predictions=y_preds_new)"
   ]
  },
  {
   "cell_type": "code",
   "execution_count": 20,
   "id": "877ba235",
   "metadata": {
    "execution": {
     "iopub.execute_input": "2025-08-31T12:28:49.461318Z",
     "iopub.status.busy": "2025-08-31T12:28:49.460991Z",
     "iopub.status.idle": "2025-08-31T12:28:49.466564Z",
     "shell.execute_reply": "2025-08-31T12:28:49.465824Z"
    },
    "papermill": {
     "duration": 0.017033,
     "end_time": "2025-08-31T12:28:49.467953",
     "exception": false,
     "start_time": "2025-08-31T12:28:49.450920",
     "status": "completed"
    },
    "tags": []
   },
   "outputs": [
    {
     "data": {
      "text/plain": [
       "(0.7, 0.3)"
      ]
     },
     "execution_count": 20,
     "metadata": {},
     "output_type": "execute_result"
    }
   ],
   "source": [
    "weight, bias"
   ]
  },
  {
   "cell_type": "code",
   "execution_count": 21,
   "id": "4a550dd9",
   "metadata": {
    "execution": {
     "iopub.execute_input": "2025-08-31T12:28:49.487968Z",
     "iopub.status.busy": "2025-08-31T12:28:49.487657Z",
     "iopub.status.idle": "2025-08-31T12:28:49.708166Z",
     "shell.execute_reply": "2025-08-31T12:28:49.707285Z"
    },
    "papermill": {
     "duration": 0.232268,
     "end_time": "2025-08-31T12:28:49.709782",
     "exception": false,
     "start_time": "2025-08-31T12:28:49.477514",
     "status": "completed"
    },
    "tags": []
   },
   "outputs": [
    {
     "data": {
      "text/plain": [
       "<matplotlib.legend.Legend at 0x784324e48110>"
      ]
     },
     "execution_count": 21,
     "metadata": {},
     "output_type": "execute_result"
    },
    {
     "data": {
      "image/png": "[encoded data removed]",
      "text/plain": [
       "<Figure size 640x480 with 1 Axes>"
      ]
     },
     "metadata": {},
     "output_type": "display_data"
    }
   ],
   "source": [
    "import numpy as np \n",
    "\n",
    "# plot the loss curves\n",
    "plt.plot(epoch_count, np.array(torch.tensor(loss_values).numpy()), label=\"Train loss\")\n",
    "plt.plot(epoch_count, test_loss_values, label=\"Test loss\")\n",
    "plt.title(\"Training and test loss curves\")\n",
    "plt.ylabel(\"Loss\")\n",
    "plt.xlabel(\"Epochs\")\n",
    "plt.legend()"
   ]
  },
  {
   "cell_type": "markdown",
   "id": "298f60db",
   "metadata": {
    "papermill": {
     "duration": 0.009497,
     "end_time": "2025-08-31T12:28:49.729413",
     "exception": false,
     "start_time": "2025-08-31T12:28:49.719916",
     "status": "completed"
    },
    "tags": []
   },
   "source": [
    "## Saving a model in PyTorch\n",
    "There are three main methods for saving and loading models in PyTorch: \n",
    "1. torch.save() --> (pickle) allows to save a PyTorch object in pickle format\n",
    "2. torch.load() --> allows to load a saved PyTorch object\n",
    "3. torch.nn.Module.load_state_dict() --> allows to load a model's saved state dictionary "
   ]
  },
  {
   "cell_type": "code",
   "execution_count": 22,
   "id": "e8f7c4d9",
   "metadata": {
    "execution": {
     "iopub.execute_input": "2025-08-31T12:28:49.750601Z",
     "iopub.status.busy": "2025-08-31T12:28:49.749836Z",
     "iopub.status.idle": "2025-08-31T12:28:49.758268Z",
     "shell.execute_reply": "2025-08-31T12:28:49.757373Z"
    },
    "papermill": {
     "duration": 0.020553,
     "end_time": "2025-08-31T12:28:49.759791",
     "exception": false,
     "start_time": "2025-08-31T12:28:49.739238",
     "status": "completed"
    },
    "tags": []
   },
   "outputs": [
    {
     "name": "stdout",
     "output_type": "stream",
     "text": [
      "Saving model to: models/01_pytorch_workflow_model_0.pth\n"
     ]
    }
   ],
   "source": [
    "# saving the model \n",
    "from pathlib import Path\n",
    "\n",
    "# create models directory \n",
    "MODEL_PATH = Path(\"models\")\n",
    "MODEL_PATH.mkdir(parents=True, exist_ok=True)\n",
    "\n",
    "# create model save path \n",
    "MODEL_NAME = \"01_pytorch_workflow_model_0.pth\"\n",
    "MODEL_SAVE_PATH = MODEL_PATH / MODEL_NAME \n",
    "\n",
    "# save the model's state dict \n",
    "print(f\"Saving model to: {MODEL_SAVE_PATH}\")\n",
    "torch.save(obj=model_0.state_dict(),\n",
    "          f = MODEL_SAVE_PATH)"
   ]
  },
  {
   "cell_type": "code",
   "execution_count": 23,
   "id": "7638ee90",
   "metadata": {
    "execution": {
     "iopub.execute_input": "2025-08-31T12:28:49.780848Z",
     "iopub.status.busy": "2025-08-31T12:28:49.780531Z",
     "iopub.status.idle": "2025-08-31T12:28:49.914508Z",
     "shell.execute_reply": "2025-08-31T12:28:49.913452Z"
    },
    "papermill": {
     "duration": 0.146325,
     "end_time": "2025-08-31T12:28:49.916233",
     "exception": false,
     "start_time": "2025-08-31T12:28:49.769908",
     "status": "completed"
    },
    "tags": []
   },
   "outputs": [
    {
     "name": "stdout",
     "output_type": "stream",
     "text": [
      "total 4\r\n",
      "-rw-r--r-- 1 root root 1680 Aug 31 12:28 01_pytorch_workflow_model_0.pth\r\n"
     ]
    }
   ],
   "source": [
    "!ls -l models"
   ]
  },
  {
   "cell_type": "markdown",
   "id": "64bdd36c",
   "metadata": {
    "papermill": {
     "duration": 0.010291,
     "end_time": "2025-08-31T12:28:49.937320",
     "exception": false,
     "start_time": "2025-08-31T12:28:49.927029",
     "status": "completed"
    },
    "tags": []
   },
   "source": [
    "## Loading a PyTorch model \n",
    "since we saved our model's state_dict() rather than the entire model, we'll create a new instance of our model class and load the saved state_dict() into that"
   ]
  },
  {
   "cell_type": "code",
   "execution_count": 24,
   "id": "e0c22602",
   "metadata": {
    "execution": {
     "iopub.execute_input": "2025-08-31T12:28:49.959429Z",
     "iopub.status.busy": "2025-08-31T12:28:49.959100Z",
     "iopub.status.idle": "2025-08-31T12:28:49.967449Z",
     "shell.execute_reply": "2025-08-31T12:28:49.966726Z"
    },
    "papermill": {
     "duration": 0.020866,
     "end_time": "2025-08-31T12:28:49.968677",
     "exception": false,
     "start_time": "2025-08-31T12:28:49.947811",
     "status": "completed"
    },
    "tags": []
   },
   "outputs": [
    {
     "data": {
      "text/plain": [
       "OrderedDict([('weights', tensor([0.3367])), ('bias', tensor([0.1288]))])"
      ]
     },
     "execution_count": 24,
     "metadata": {},
     "output_type": "execute_result"
    }
   ],
   "source": [
    "loaded_model_0 = LinearRegressionModel()\n",
    "\n",
    "loaded_model_0.state_dict()"
   ]
  },
  {
   "cell_type": "code",
   "execution_count": 25,
   "id": "3a0d806a",
   "metadata": {
    "execution": {
     "iopub.execute_input": "2025-08-31T12:28:49.989900Z",
     "iopub.status.busy": "2025-08-31T12:28:49.989603Z",
     "iopub.status.idle": "2025-08-31T12:28:50.000287Z",
     "shell.execute_reply": "2025-08-31T12:28:49.999584Z"
    },
    "papermill": {
     "duration": 0.022851,
     "end_time": "2025-08-31T12:28:50.001690",
     "exception": false,
     "start_time": "2025-08-31T12:28:49.978839",
     "status": "completed"
    },
    "tags": []
   },
   "outputs": [
    {
     "data": {
      "text/plain": [
       "OrderedDict([('weights', tensor([0.6990])), ('bias', tensor([0.3093]))])"
      ]
     },
     "execution_count": 25,
     "metadata": {},
     "output_type": "execute_result"
    }
   ],
   "source": [
    "# load the saved state_dict of model_0 \n",
    "loaded_model_0.load_state_dict(torch.load(f=MODEL_SAVE_PATH))\n",
    "\n",
    "loaded_model_0.state_dict()"
   ]
  },
  {
   "cell_type": "code",
   "execution_count": 26,
   "id": "b912730c",
   "metadata": {
    "execution": {
     "iopub.execute_input": "2025-08-31T12:28:50.023666Z",
     "iopub.status.busy": "2025-08-31T12:28:50.022767Z",
     "iopub.status.idle": "2025-08-31T12:28:50.030130Z",
     "shell.execute_reply": "2025-08-31T12:28:50.029478Z"
    },
    "papermill": {
     "duration": 0.019608,
     "end_time": "2025-08-31T12:28:50.031558",
     "exception": false,
     "start_time": "2025-08-31T12:28:50.011950",
     "status": "completed"
    },
    "tags": []
   },
   "outputs": [
    {
     "data": {
      "text/plain": [
       "(tensor([[0.8685],\n",
       "         [0.8825],\n",
       "         [0.8965],\n",
       "         [0.9105],\n",
       "         [0.9245],\n",
       "         [0.9384],\n",
       "         [0.9524],\n",
       "         [0.9664],\n",
       "         [0.9804],\n",
       "         [0.9944]]),\n",
       " tensor([[True],\n",
       "         [True],\n",
       "         [True],\n",
       "         [True],\n",
       "         [True],\n",
       "         [True],\n",
       "         [True],\n",
       "         [True],\n",
       "         [True],\n",
       "         [True]]))"
      ]
     },
     "execution_count": 26,
     "metadata": {},
     "output_type": "execute_result"
    }
   ],
   "source": [
    "# make some predictions \n",
    "loaded_model_0.eval() \n",
    "with torch.inference_mode():\n",
    "    loaded_model_preds = loaded_model_0(X_test)\n",
    "\n",
    "loaded_model_preds, loaded_model_preds == y_preds_new"
   ]
  },
  {
   "cell_type": "code",
   "execution_count": null,
   "id": "45144dab",
   "metadata": {
    "papermill": {
     "duration": 0.010105,
     "end_time": "2025-08-31T12:28:50.052137",
     "exception": false,
     "start_time": "2025-08-31T12:28:50.042032",
     "status": "completed"
    },
    "tags": []
   },
   "outputs": [],
   "source": []
  },
  {
   "cell_type": "code",
   "execution_count": null,
   "id": "ad98a6ac",
   "metadata": {
    "papermill": {
     "duration": 0.01006,
     "end_time": "2025-08-31T12:28:50.073436",
     "exception": false,
     "start_time": "2025-08-31T12:28:50.063376",
     "status": "completed"
    },
    "tags": []
   },
   "outputs": [],
   "source": []
  },
  {
   "cell_type": "code",
   "execution_count": null,
   "id": "71fee332",
   "metadata": {
    "papermill": {
     "duration": 0.010003,
     "end_time": "2025-08-31T12:28:50.093529",
     "exception": false,
     "start_time": "2025-08-31T12:28:50.083526",
     "status": "completed"
    },
    "tags": []
   },
   "outputs": [],
   "source": []
  },
  {
   "cell_type": "code",
   "execution_count": null,
   "id": "b63094a6",
   "metadata": {
    "papermill": {
     "duration": 0.009822,
     "end_time": "2025-08-31T12:28:50.113482",
     "exception": false,
     "start_time": "2025-08-31T12:28:50.103660",
     "status": "completed"
    },
    "tags": []
   },
   "outputs": [],
   "source": []
  },
  {
   "cell_type": "code",
   "execution_count": null,
   "id": "aebc7380",
   "metadata": {
    "papermill": {
     "duration": 0.00992,
     "end_time": "2025-08-31T12:28:50.133577",
     "exception": false,
     "start_time": "2025-08-31T12:28:50.123657",
     "status": "completed"
    },
    "tags": []
   },
   "outputs": [],
   "source": []
  },
  {
   "cell_type": "code",
   "execution_count": null,
   "id": "965ff231",
   "metadata": {
    "papermill": {
     "duration": 0.009982,
     "end_time": "2025-08-31T12:28:50.153612",
     "exception": false,
     "start_time": "2025-08-31T12:28:50.143630",
     "status": "completed"
    },
    "tags": []
   },
   "outputs": [],
   "source": []
  },
  {
   "cell_type": "code",
   "execution_count": null,
   "id": "05d92f4f",
   "metadata": {
    "papermill": {
     "duration": 0.00978,
     "end_time": "2025-08-31T12:28:50.173394",
     "exception": false,
     "start_time": "2025-08-31T12:28:50.163614",
     "status": "completed"
    },
    "tags": []
   },
   "outputs": [],
   "source": []
  }
 ],
 "metadata": {
  "kaggle": {
   "accelerator": "none",
   "dataSources": [],
   "dockerImageVersionId": 31089,
   "isGpuEnabled": false,
   "isInternetEnabled": true,
   "language": "python",
   "sourceType": "notebook"
  },
  "kernelspec": {
   "display_name": "Python 3",
   "language": "python",
   "name": "python3"
  },
  "language_info": {
   "codemirror_mode": {
    "name": "ipython",
    "version": 3
   },
   "file_extension": ".py",
   "mimetype": "text/x-python",
   "name": "python",
   "nbconvert_exporter": "python",
   "pygments_lexer": "ipython3",
   "version": "3.11.13"
  },
  "papermill": {
   "default_parameters": {},
   "duration": 20.547552,
   "end_time": "2025-08-31T12:28:52.559421",
   "environment_variables": {},
   "exception": null,
   "input_path": "__notebook__.ipynb",
   "output_path": "__notebook__.ipynb",
   "parameters": {},
   "start_time": "2025-08-31T12:28:32.011869",
   "version": "2.6.0"
  }
 },
 "nbformat": 4,
 "nbformat_minor": 5
}
