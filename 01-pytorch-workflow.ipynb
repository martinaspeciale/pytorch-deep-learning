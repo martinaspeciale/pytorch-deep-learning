{
 "cells": [
  {
   "cell_type": "code",
   "execution_count": 1,
   "id": "23211ef2",
   "metadata": {
    "_cell_guid": "b1076dfc-b9ad-4769-8c92-a6c4dae69d19",
    "_uuid": "8f2839f25d086af736a60e9eeb907d3b93b6e0e5",
    "execution": {
     "iopub.execute_input": "2025-08-31T07:31:30.869699Z",
     "iopub.status.busy": "2025-08-31T07:31:30.868649Z",
     "iopub.status.idle": "2025-08-31T07:31:35.989485Z",
     "shell.execute_reply": "2025-08-31T07:31:35.988601Z"
    },
    "papermill": {
     "duration": 5.128638,
     "end_time": "2025-08-31T07:31:35.991240",
     "exception": false,
     "start_time": "2025-08-31T07:31:30.862602",
     "status": "completed"
    },
    "tags": []
   },
   "outputs": [],
   "source": [
    "import torch"
   ]
  },
  {
   "cell_type": "markdown",
   "id": "b5d2a732",
   "metadata": {
    "papermill": {
     "duration": 0.003595,
     "end_time": "2025-08-31T07:31:35.999419",
     "exception": false,
     "start_time": "2025-08-31T07:31:35.995824",
     "status": "completed"
    },
    "tags": []
   },
   "source": [
    "## PyTorch Workflow "
   ]
  },
  {
   "cell_type": "code",
   "execution_count": 2,
   "id": "c35ab9dd",
   "metadata": {
    "execution": {
     "iopub.execute_input": "2025-08-31T07:31:36.008349Z",
     "iopub.status.busy": "2025-08-31T07:31:36.007959Z",
     "iopub.status.idle": "2025-08-31T07:31:36.012487Z",
     "shell.execute_reply": "2025-08-31T07:31:36.011744Z"
    },
    "papermill": {
     "duration": 0.010344,
     "end_time": "2025-08-31T07:31:36.013905",
     "exception": false,
     "start_time": "2025-08-31T07:31:36.003561",
     "status": "completed"
    },
    "tags": []
   },
   "outputs": [],
   "source": [
    "what_we_are_covering = {\n",
    "    1: \"data (prepare and load\",\n",
    "    2: \"build model\",\n",
    "    3: \"fitting the model to the  (training)\",\n",
    "    4: \"making predictions and evalating a model (inference)\", \n",
    "    5: \"saving and loading a model\",\n",
    "    6: \"putting it all together\"\n",
    "                       }"
   ]
  },
  {
   "cell_type": "code",
   "execution_count": 3,
   "id": "2d9e5ef6",
   "metadata": {
    "execution": {
     "iopub.execute_input": "2025-08-31T07:31:36.022859Z",
     "iopub.status.busy": "2025-08-31T07:31:36.022546Z",
     "iopub.status.idle": "2025-08-31T07:31:36.028915Z",
     "shell.execute_reply": "2025-08-31T07:31:36.028226Z"
    },
    "papermill": {
     "duration": 0.012135,
     "end_time": "2025-08-31T07:31:36.030266",
     "exception": false,
     "start_time": "2025-08-31T07:31:36.018131",
     "status": "completed"
    },
    "tags": []
   },
   "outputs": [
    {
     "data": {
      "text/plain": [
       "'2.6.0+cu124'"
      ]
     },
     "execution_count": 3,
     "metadata": {},
     "output_type": "execute_result"
    }
   ],
   "source": [
    "import torch \n",
    "from torch import nn # nn contains all of PyTorch's building blocks for neural networks \n",
    "import matplotlib.pyplot as plt \n",
    "\n",
    "torch.__version__"
   ]
  },
  {
   "cell_type": "markdown",
   "id": "a7322bce",
   "metadata": {
    "papermill": {
     "duration": 0.003456,
     "end_time": "2025-08-31T07:31:36.037806",
     "exception": false,
     "start_time": "2025-08-31T07:31:36.034350",
     "status": "completed"
    },
    "tags": []
   },
   "source": [
    "## 1. Data (preparing and loading)\n",
    "\n",
    "ML is a game of two parts:\n",
    "1. get data into a numerical representation\n",
    "2. build a model to learn patterns in that numerical representation"
   ]
  },
  {
   "cell_type": "markdown",
   "id": "a533a0f4",
   "metadata": {
    "papermill": {
     "duration": 0.003426,
     "end_time": "2025-08-31T07:31:36.045101",
     "exception": false,
     "start_time": "2025-08-31T07:31:36.041675",
     "status": "completed"
    },
    "tags": []
   },
   "source": [
    "We'll use a linear regression formula to make a stright line with known **parameters**\n",
    "1. weight = 0.7\n",
    "2. bias = 0.3"
   ]
  },
  {
   "cell_type": "code",
   "execution_count": 4,
   "id": "513440a1",
   "metadata": {
    "execution": {
     "iopub.execute_input": "2025-08-31T07:31:36.053951Z",
     "iopub.status.busy": "2025-08-31T07:31:36.053591Z",
     "iopub.status.idle": "2025-08-31T07:31:36.172069Z",
     "shell.execute_reply": "2025-08-31T07:31:36.171143Z"
    },
    "papermill": {
     "duration": 0.124644,
     "end_time": "2025-08-31T07:31:36.173603",
     "exception": false,
     "start_time": "2025-08-31T07:31:36.048959",
     "status": "completed"
    },
    "tags": []
   },
   "outputs": [
    {
     "data": {
      "text/plain": [
       "(tensor([[0.0000],\n",
       "         [0.0200],\n",
       "         [0.0400],\n",
       "         [0.0600],\n",
       "         [0.0800],\n",
       "         [0.1000],\n",
       "         [0.1200],\n",
       "         [0.1400],\n",
       "         [0.1600],\n",
       "         [0.1800]]),\n",
       " tensor([[0.3000],\n",
       "         [0.3140],\n",
       "         [0.3280],\n",
       "         [0.3420],\n",
       "         [0.3560],\n",
       "         [0.3700],\n",
       "         [0.3840],\n",
       "         [0.3980],\n",
       "         [0.4120],\n",
       "         [0.4260]]))"
      ]
     },
     "execution_count": 4,
     "metadata": {},
     "output_type": "execute_result"
    }
   ],
   "source": [
    "weight = 0.7 \n",
    "bias = 0.3 \n",
    "\n",
    "start = 0\n",
    "end = 1\n",
    "step = 0.02 \n",
    "X = torch.arange(start, end, step).unsqueeze(dim=1)\n",
    "y = weight * X + bias \n",
    "\n",
    "# input, output values \n",
    "X[:10], y[:10]"
   ]
  },
  {
   "cell_type": "code",
   "execution_count": 5,
   "id": "5718c20e",
   "metadata": {
    "execution": {
     "iopub.execute_input": "2025-08-31T07:31:36.182849Z",
     "iopub.status.busy": "2025-08-31T07:31:36.182228Z",
     "iopub.status.idle": "2025-08-31T07:31:36.187940Z",
     "shell.execute_reply": "2025-08-31T07:31:36.187112Z"
    },
    "papermill": {
     "duration": 0.011704,
     "end_time": "2025-08-31T07:31:36.189276",
     "exception": false,
     "start_time": "2025-08-31T07:31:36.177572",
     "status": "completed"
    },
    "tags": []
   },
   "outputs": [
    {
     "data": {
      "text/plain": [
       "(50, 50)"
      ]
     },
     "execution_count": 5,
     "metadata": {},
     "output_type": "execute_result"
    }
   ],
   "source": [
    "len(X), len(y)"
   ]
  },
  {
   "cell_type": "markdown",
   "id": "615a76fd",
   "metadata": {
    "papermill": {
     "duration": 0.003607,
     "end_time": "2025-08-31T07:31:36.197697",
     "exception": false,
     "start_time": "2025-08-31T07:31:36.194090",
     "status": "completed"
    },
    "tags": []
   },
   "source": [
    "## Splitting Data into Training and Test sets\n",
    "* training set : course material\n",
    "* validation set : practice exam\n",
    "* test set : final exam -> test generalization\n",
    "**Generalization**: the ability for a ML model to perform well on data it hasn't seen befor e"
   ]
  },
  {
   "cell_type": "code",
   "execution_count": 6,
   "id": "f7d17a60",
   "metadata": {
    "execution": {
     "iopub.execute_input": "2025-08-31T07:31:36.206913Z",
     "iopub.status.busy": "2025-08-31T07:31:36.206057Z",
     "iopub.status.idle": "2025-08-31T07:31:36.213441Z",
     "shell.execute_reply": "2025-08-31T07:31:36.212500Z"
    },
    "papermill": {
     "duration": 0.013589,
     "end_time": "2025-08-31T07:31:36.214952",
     "exception": false,
     "start_time": "2025-08-31T07:31:36.201363",
     "status": "completed"
    },
    "tags": []
   },
   "outputs": [
    {
     "data": {
      "text/plain": [
       "(40, 40, 10, 10)"
      ]
     },
     "execution_count": 6,
     "metadata": {},
     "output_type": "execute_result"
    }
   ],
   "source": [
    "train_split = int(0.8 * len(X))\n",
    "X_train, y_train = X[:train_split], y[:train_split]\n",
    "X_test, y_test = X[train_split:], y[train_split:]\n",
    "\n",
    "len(X_train), len(y_train), len(X_test), len(y_test)"
   ]
  },
  {
   "cell_type": "code",
   "execution_count": null,
   "id": "59e80151",
   "metadata": {
    "papermill": {
     "duration": 0.003593,
     "end_time": "2025-08-31T07:31:36.222548",
     "exception": false,
     "start_time": "2025-08-31T07:31:36.218955",
     "status": "completed"
    },
    "tags": []
   },
   "outputs": [],
   "source": []
  },
  {
   "cell_type": "code",
   "execution_count": null,
   "id": "c27183a2",
   "metadata": {
    "papermill": {
     "duration": 0.003576,
     "end_time": "2025-08-31T07:31:36.229831",
     "exception": false,
     "start_time": "2025-08-31T07:31:36.226255",
     "status": "completed"
    },
    "tags": []
   },
   "outputs": [],
   "source": []
  },
  {
   "cell_type": "code",
   "execution_count": null,
   "id": "7feeeecd",
   "metadata": {
    "papermill": {
     "duration": 0.003431,
     "end_time": "2025-08-31T07:31:36.237218",
     "exception": false,
     "start_time": "2025-08-31T07:31:36.233787",
     "status": "completed"
    },
    "tags": []
   },
   "outputs": [],
   "source": []
  },
  {
   "cell_type": "code",
   "execution_count": null,
   "id": "dc37f30a",
   "metadata": {
    "papermill": {
     "duration": 0.003521,
     "end_time": "2025-08-31T07:31:36.244388",
     "exception": false,
     "start_time": "2025-08-31T07:31:36.240867",
     "status": "completed"
    },
    "tags": []
   },
   "outputs": [],
   "source": []
  },
  {
   "cell_type": "code",
   "execution_count": null,
   "id": "7a5323f6",
   "metadata": {
    "papermill": {
     "duration": 0.003408,
     "end_time": "2025-08-31T07:31:36.251541",
     "exception": false,
     "start_time": "2025-08-31T07:31:36.248133",
     "status": "completed"
    },
    "tags": []
   },
   "outputs": [],
   "source": []
  },
  {
   "cell_type": "code",
   "execution_count": null,
   "id": "7d6ddee9",
   "metadata": {
    "papermill": {
     "duration": 0.003421,
     "end_time": "2025-08-31T07:31:36.258623",
     "exception": false,
     "start_time": "2025-08-31T07:31:36.255202",
     "status": "completed"
    },
    "tags": []
   },
   "outputs": [],
   "source": []
  },
  {
   "cell_type": "code",
   "execution_count": null,
   "id": "6cc201ec",
   "metadata": {
    "papermill": {
     "duration": 0.003528,
     "end_time": "2025-08-31T07:31:36.265849",
     "exception": false,
     "start_time": "2025-08-31T07:31:36.262321",
     "status": "completed"
    },
    "tags": []
   },
   "outputs": [],
   "source": []
  },
  {
   "cell_type": "code",
   "execution_count": null,
   "id": "cb95ab48",
   "metadata": {
    "papermill": {
     "duration": 0.003396,
     "end_time": "2025-08-31T07:31:36.272871",
     "exception": false,
     "start_time": "2025-08-31T07:31:36.269475",
     "status": "completed"
    },
    "tags": []
   },
   "outputs": [],
   "source": []
  },
  {
   "cell_type": "code",
   "execution_count": null,
   "id": "a8c6fd39",
   "metadata": {
    "papermill": {
     "duration": 0.003458,
     "end_time": "2025-08-31T07:31:36.279984",
     "exception": false,
     "start_time": "2025-08-31T07:31:36.276526",
     "status": "completed"
    },
    "tags": []
   },
   "outputs": [],
   "source": []
  },
  {
   "cell_type": "code",
   "execution_count": null,
   "id": "298699a9",
   "metadata": {
    "papermill": {
     "duration": 0.00346,
     "end_time": "2025-08-31T07:31:36.287174",
     "exception": false,
     "start_time": "2025-08-31T07:31:36.283714",
     "status": "completed"
    },
    "tags": []
   },
   "outputs": [],
   "source": []
  },
  {
   "cell_type": "code",
   "execution_count": null,
   "id": "467ebb7d",
   "metadata": {
    "papermill": {
     "duration": 0.003442,
     "end_time": "2025-08-31T07:31:36.294285",
     "exception": false,
     "start_time": "2025-08-31T07:31:36.290843",
     "status": "completed"
    },
    "tags": []
   },
   "outputs": [],
   "source": []
  },
  {
   "cell_type": "code",
   "execution_count": null,
   "id": "c82680fb",
   "metadata": {
    "papermill": {
     "duration": 0.003587,
     "end_time": "2025-08-31T07:31:36.301525",
     "exception": false,
     "start_time": "2025-08-31T07:31:36.297938",
     "status": "completed"
    },
    "tags": []
   },
   "outputs": [],
   "source": []
  },
  {
   "cell_type": "code",
   "execution_count": null,
   "id": "94f1f1f6",
   "metadata": {
    "papermill": {
     "duration": 0.003426,
     "end_time": "2025-08-31T07:31:36.308597",
     "exception": false,
     "start_time": "2025-08-31T07:31:36.305171",
     "status": "completed"
    },
    "tags": []
   },
   "outputs": [],
   "source": []
  },
  {
   "cell_type": "code",
   "execution_count": null,
   "id": "e4d17d0e",
   "metadata": {
    "papermill": {
     "duration": 0.003462,
     "end_time": "2025-08-31T07:31:36.315706",
     "exception": false,
     "start_time": "2025-08-31T07:31:36.312244",
     "status": "completed"
    },
    "tags": []
   },
   "outputs": [],
   "source": []
  },
  {
   "cell_type": "code",
   "execution_count": null,
   "id": "ef24aa1d",
   "metadata": {
    "papermill": {
     "duration": 0.003409,
     "end_time": "2025-08-31T07:31:36.322819",
     "exception": false,
     "start_time": "2025-08-31T07:31:36.319410",
     "status": "completed"
    },
    "tags": []
   },
   "outputs": [],
   "source": []
  }
 ],
 "metadata": {
  "kaggle": {
   "accelerator": "none",
   "dataSources": [],
   "dockerImageVersionId": 31089,
   "isGpuEnabled": false,
   "isInternetEnabled": true,
   "language": "python",
   "sourceType": "notebook"
  },
  "kernelspec": {
   "display_name": "Python 3",
   "language": "python",
   "name": "python3"
  },
  "language_info": {
   "codemirror_mode": {
    "name": "ipython",
    "version": 3
   },
   "file_extension": ".py",
   "mimetype": "text/x-python",
   "name": "python",
   "nbconvert_exporter": "python",
   "pygments_lexer": "ipython3",
   "version": "3.11.13"
  },
  "papermill": {
   "default_parameters": {},
   "duration": 12.143911,
   "end_time": "2025-08-31T07:31:37.649140",
   "environment_variables": {},
   "exception": null,
   "input_path": "__notebook__.ipynb",
   "output_path": "__notebook__.ipynb",
   "parameters": {},
   "start_time": "2025-08-31T07:31:25.505229",
   "version": "2.6.0"
  }
 },
 "nbformat": 4,
 "nbformat_minor": 5
}
