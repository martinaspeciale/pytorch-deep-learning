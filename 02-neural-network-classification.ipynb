{
 "cells": [
  {
   "cell_type": "markdown",
   "id": "b74c511b",
   "metadata": {
    "papermill": {
     "duration": 0.008352,
     "end_time": "2025-09-01T08:58:46.467205",
     "exception": false,
     "start_time": "2025-09-01T08:58:46.458853",
     "status": "completed"
    },
    "tags": []
   },
   "source": [
    "## Neural Network classification with PyTorch"
   ]
  },
  {
   "cell_type": "code",
   "execution_count": 1,
   "id": "add7aa3b",
   "metadata": {
    "execution": {
     "iopub.execute_input": "2025-09-01T08:58:46.483161Z",
     "iopub.status.busy": "2025-09-01T08:58:46.482846Z",
     "iopub.status.idle": "2025-09-01T08:58:52.206220Z",
     "shell.execute_reply": "2025-09-01T08:58:52.205185Z"
    },
    "papermill": {
     "duration": 5.733556,
     "end_time": "2025-09-01T08:58:52.208233",
     "exception": false,
     "start_time": "2025-09-01T08:58:46.474677",
     "status": "completed"
    },
    "tags": []
   },
   "outputs": [],
   "source": [
    "import torch \n",
    "from torch import nn"
   ]
  },
  {
   "cell_type": "markdown",
   "id": "e8796f85",
   "metadata": {
    "papermill": {
     "duration": 0.007758,
     "end_time": "2025-09-01T08:58:52.224900",
     "exception": false,
     "start_time": "2025-09-01T08:58:52.217142",
     "status": "completed"
    },
    "tags": []
   },
   "source": [
    "## 1. Make classification data and get it ready"
   ]
  },
  {
   "cell_type": "code",
   "execution_count": 2,
   "id": "18cef442",
   "metadata": {
    "execution": {
     "iopub.execute_input": "2025-09-01T08:58:52.248017Z",
     "iopub.status.busy": "2025-09-01T08:58:52.247480Z",
     "iopub.status.idle": "2025-09-01T08:59:25.498995Z",
     "shell.execute_reply": "2025-09-01T08:59:25.497748Z"
    },
    "papermill": {
     "duration": 33.265294,
     "end_time": "2025-09-01T08:59:25.500823",
     "exception": false,
     "start_time": "2025-09-01T08:58:52.235529",
     "status": "completed"
    },
    "tags": []
   },
   "outputs": [
    {
     "name": "stdout",
     "output_type": "stream",
     "text": [
      "Requirement already satisfied: pip in /usr/local/lib/python3.11/dist-packages (24.1.2)\r\n",
      "Collecting pip\r\n",
      "  Downloading pip-25.2-py3-none-any.whl.metadata (4.7 kB)\r\n",
      "Requirement already satisfied: setuptools in /usr/local/lib/python3.11/dist-packages (75.2.0)\r\n",
      "Collecting setuptools\r\n",
      "  Downloading setuptools-80.9.0-py3-none-any.whl.metadata (6.6 kB)\r\n",
      "Requirement already satisfied: wheel in /usr/local/lib/python3.11/dist-packages (0.45.1)\r\n",
      "Downloading pip-25.2-py3-none-any.whl (1.8 MB)\r\n",
      "\u001b[2K   \u001b[90m━━━━━━━━━━━━━━━━━━━━━━━━━━━━━━━━━━━━━━━━\u001b[0m \u001b[32m1.8/1.8 MB\u001b[0m \u001b[31m35.3 MB/s\u001b[0m eta \u001b[36m0:00:00\u001b[0m\r\n",
      "\u001b[?25hDownloading setuptools-80.9.0-py3-none-any.whl (1.2 MB)\r\n",
      "\u001b[2K   \u001b[90m━━━━━━━━━━━━━━━━━━━━━━━━━━━━━━━━━━━━━━━━\u001b[0m \u001b[32m1.2/1.2 MB\u001b[0m \u001b[31m42.4 MB/s\u001b[0m eta \u001b[36m0:00:00\u001b[0m\r\n",
      "\u001b[?25hInstalling collected packages: setuptools, pip\r\n",
      "  Attempting uninstall: setuptools\r\n",
      "    Found existing installation: setuptools 75.2.0\r\n",
      "    Uninstalling setuptools-75.2.0:\r\n",
      "      Successfully uninstalled setuptools-75.2.0\r\n",
      "  Attempting uninstall: pip\r\n",
      "    Found existing installation: pip 24.1.2\r\n",
      "    Uninstalling pip-24.1.2:\r\n",
      "      Successfully uninstalled pip-24.1.2\r\n",
      "\u001b[31mERROR: pip's dependency resolver does not currently take into account all the packages that are installed. This behaviour is the source of the following dependency conflicts.\r\n",
      "bigframes 2.8.0 requires google-cloud-bigquery-storage<3.0.0,>=2.30.0, which is not installed.\r\n",
      "pandas-gbq 0.29.1 requires google-api-core<3.0.0,>=2.10.2, but you have google-api-core 1.34.1 which is incompatible.\r\n",
      "thinc 8.3.6 requires numpy<3.0.0,>=2.0.0, but you have numpy 1.26.4 which is incompatible.\r\n",
      "bigframes 2.8.0 requires google-cloud-bigquery[bqstorage,pandas]>=3.31.0, but you have google-cloud-bigquery 3.25.0 which is incompatible.\r\n",
      "bigframes 2.8.0 requires rich<14,>=12.4.4, but you have rich 14.0.0 which is incompatible.\u001b[0m\u001b[31m\r\n",
      "\u001b[0mSuccessfully installed pip-25.2 setuptools-80.9.0\r\n",
      "Requirement already satisfied: scikit-learn in /usr/local/lib/python3.11/dist-packages (1.2.2)\r\n",
      "Collecting scikit-learn\r\n",
      "  Downloading scikit_learn-1.7.1-cp311-cp311-manylinux2014_x86_64.manylinux_2_17_x86_64.whl.metadata (11 kB)\r\n",
      "Requirement already satisfied: numpy>=1.22.0 in /usr/local/lib/python3.11/dist-packages (from scikit-learn) (1.26.4)\r\n",
      "Requirement already satisfied: scipy>=1.8.0 in /usr/local/lib/python3.11/dist-packages (from scikit-learn) (1.15.3)\r\n",
      "Requirement already satisfied: joblib>=1.2.0 in /usr/local/lib/python3.11/dist-packages (from scikit-learn) (1.5.1)\r\n",
      "Requirement already satisfied: threadpoolctl>=3.1.0 in /usr/local/lib/python3.11/dist-packages (from scikit-learn) (3.6.0)\r\n",
      "Requirement already satisfied: mkl_fft in /usr/local/lib/python3.11/dist-packages (from numpy>=1.22.0->scikit-learn) (1.3.8)\r\n",
      "Requirement already satisfied: mkl_random in /usr/local/lib/python3.11/dist-packages (from numpy>=1.22.0->scikit-learn) (1.2.4)\r\n",
      "Requirement already satisfied: mkl_umath in /usr/local/lib/python3.11/dist-packages (from numpy>=1.22.0->scikit-learn) (0.1.1)\r\n",
      "Requirement already satisfied: mkl in /usr/local/lib/python3.11/dist-packages (from numpy>=1.22.0->scikit-learn) (2025.2.0)\r\n",
      "Requirement already satisfied: tbb4py in /usr/local/lib/python3.11/dist-packages (from numpy>=1.22.0->scikit-learn) (2022.2.0)\r\n",
      "Requirement already satisfied: mkl-service in /usr/local/lib/python3.11/dist-packages (from numpy>=1.22.0->scikit-learn) (2.4.1)\r\n",
      "Requirement already satisfied: intel-openmp<2026,>=2024 in /usr/local/lib/python3.11/dist-packages (from mkl->numpy>=1.22.0->scikit-learn) (2024.2.0)\r\n",
      "Requirement already satisfied: tbb==2022.* in /usr/local/lib/python3.11/dist-packages (from mkl->numpy>=1.22.0->scikit-learn) (2022.2.0)\r\n",
      "Requirement already satisfied: intel-cmplr-lib-ur==2024.2.0 in /usr/local/lib/python3.11/dist-packages (from intel-openmp<2026,>=2024->mkl->numpy>=1.22.0->scikit-learn) (2024.2.0)\r\n",
      "Requirement already satisfied: tcmlib==1.* in /usr/local/lib/python3.11/dist-packages (from tbb==2022.*->mkl->numpy>=1.22.0->scikit-learn) (1.4.0)\r\n",
      "Requirement already satisfied: intel-cmplr-lib-rt in /usr/local/lib/python3.11/dist-packages (from mkl_umath->numpy>=1.22.0->scikit-learn) (2024.2.0)\r\n",
      "Downloading scikit_learn-1.7.1-cp311-cp311-manylinux2014_x86_64.manylinux_2_17_x86_64.whl (9.7 MB)\r\n",
      "\u001b[2K   \u001b[90m━━━━━━━━━━━━━━━━━━━━━━━━━━━━━━━━━━━━━━━━\u001b[0m \u001b[32m9.7/9.7 MB\u001b[0m \u001b[31m119.6 MB/s\u001b[0m  \u001b[33m0:00:00\u001b[0m\r\n",
      "\u001b[?25hInstalling collected packages: scikit-learn\r\n",
      "  Attempting uninstall: scikit-learn\r\n",
      "    Found existing installation: scikit-learn 1.2.2\r\n",
      "    Uninstalling scikit-learn-1.2.2:\r\n",
      "      Successfully uninstalled scikit-learn-1.2.2\r\n",
      "\u001b[31mERROR: pip's dependency resolver does not currently take into account all the packages that are installed. This behaviour is the source of the following dependency conflicts.\r\n",
      "category-encoders 2.7.0 requires scikit-learn<1.6.0,>=1.0.0, but you have scikit-learn 1.7.1 which is incompatible.\r\n",
      "cesium 0.12.4 requires numpy<3.0,>=2.0, but you have numpy 1.26.4 which is incompatible.\r\n",
      "sklearn-compat 0.1.3 requires scikit-learn<1.7,>=1.2, but you have scikit-learn 1.7.1 which is incompatible.\u001b[0m\u001b[31m\r\n",
      "\u001b[0mSuccessfully installed scikit-learn-1.7.1\r\n"
     ]
    }
   ],
   "source": [
    "!pip install -U pip setuptools wheel\n",
    "!pip install -U scikit-learn\n",
    "# or pin a version:\n",
    "# !pip install scikit-learn==1.5.1\n"
   ]
  },
  {
   "cell_type": "code",
   "execution_count": 3,
   "id": "80881c8b",
   "metadata": {
    "execution": {
     "iopub.execute_input": "2025-09-01T08:59:25.520739Z",
     "iopub.status.busy": "2025-09-01T08:59:25.520335Z",
     "iopub.status.idle": "2025-09-01T08:59:28.900946Z",
     "shell.execute_reply": "2025-09-01T08:59:28.900011Z"
    },
    "papermill": {
     "duration": 3.392774,
     "end_time": "2025-09-01T08:59:28.902644",
     "exception": false,
     "start_time": "2025-09-01T08:59:25.509870",
     "status": "completed"
    },
    "tags": []
   },
   "outputs": [],
   "source": [
    "import sklearn\n",
    "from sklearn.datasets import make_circles"
   ]
  },
  {
   "cell_type": "code",
   "execution_count": 4,
   "id": "1425d30d",
   "metadata": {
    "execution": {
     "iopub.execute_input": "2025-09-01T08:59:28.922072Z",
     "iopub.status.busy": "2025-09-01T08:59:28.921536Z",
     "iopub.status.idle": "2025-09-01T08:59:28.949084Z",
     "shell.execute_reply": "2025-09-01T08:59:28.948131Z"
    },
    "papermill": {
     "duration": 0.039155,
     "end_time": "2025-09-01T08:59:28.950636",
     "exception": false,
     "start_time": "2025-09-01T08:59:28.911481",
     "status": "completed"
    },
    "tags": []
   },
   "outputs": [
    {
     "data": {
      "text/plain": [
       "(1000, 1000)"
      ]
     },
     "execution_count": 4,
     "metadata": {},
     "output_type": "execute_result"
    }
   ],
   "source": [
    "n_samples = 1000\n",
    "\n",
    "# create circles \n",
    "X, y = make_circles(n_samples, \n",
    "                    noise=0.03,\n",
    "                    random_state=42\n",
    "                   )\n",
    "len(X), len(y)"
   ]
  },
  {
   "cell_type": "code",
   "execution_count": 5,
   "id": "621f1de8",
   "metadata": {
    "execution": {
     "iopub.execute_input": "2025-09-01T08:59:28.969938Z",
     "iopub.status.busy": "2025-09-01T08:59:28.969498Z",
     "iopub.status.idle": "2025-09-01T08:59:28.975157Z",
     "shell.execute_reply": "2025-09-01T08:59:28.974134Z"
    },
    "papermill": {
     "duration": 0.016601,
     "end_time": "2025-09-01T08:59:28.976587",
     "exception": false,
     "start_time": "2025-09-01T08:59:28.959986",
     "status": "completed"
    },
    "tags": []
   },
   "outputs": [
    {
     "name": "stdout",
     "output_type": "stream",
     "text": [
      "First 5 samples of X:\n",
      " [[ 0.75424625  0.23148074]\n",
      " [-0.75615888  0.15325888]\n",
      " [-0.81539193  0.17328203]\n",
      " [-0.39373073  0.69288277]\n",
      " [ 0.44220765 -0.89672343]]\n",
      "First 5 samples of y:\n",
      " [1 1 1 1 0]\n"
     ]
    }
   ],
   "source": [
    "print(f\"First 5 samples of X:\\n {X[:5]}\")\n",
    "print(f\"First 5 samples of y:\\n {y[:5]}\")"
   ]
  },
  {
   "cell_type": "code",
   "execution_count": 6,
   "id": "b28c48a0",
   "metadata": {
    "execution": {
     "iopub.execute_input": "2025-09-01T08:59:28.996168Z",
     "iopub.status.busy": "2025-09-01T08:59:28.995847Z",
     "iopub.status.idle": "2025-09-01T08:59:29.023466Z",
     "shell.execute_reply": "2025-09-01T08:59:29.022459Z"
    },
    "papermill": {
     "duration": 0.039509,
     "end_time": "2025-09-01T08:59:29.025164",
     "exception": false,
     "start_time": "2025-09-01T08:59:28.985655",
     "status": "completed"
    },
    "tags": []
   },
   "outputs": [
    {
     "data": {
      "text/html": [
       "<div>\n",
       "<style scoped>\n",
       "    .dataframe tbody tr th:only-of-type {\n",
       "        vertical-align: middle;\n",
       "    }\n",
       "\n",
       "    .dataframe tbody tr th {\n",
       "        vertical-align: top;\n",
       "    }\n",
       "\n",
       "    .dataframe thead th {\n",
       "        text-align: right;\n",
       "    }\n",
       "</style>\n",
       "<table border=\"1\" class=\"dataframe\">\n",
       "  <thead>\n",
       "    <tr style=\"text-align: right;\">\n",
       "      <th></th>\n",
       "      <th>X1</th>\n",
       "      <th>X2</th>\n",
       "      <th>label</th>\n",
       "    </tr>\n",
       "  </thead>\n",
       "  <tbody>\n",
       "    <tr>\n",
       "      <th>0</th>\n",
       "      <td>0.754246</td>\n",
       "      <td>0.231481</td>\n",
       "      <td>1</td>\n",
       "    </tr>\n",
       "    <tr>\n",
       "      <th>1</th>\n",
       "      <td>-0.756159</td>\n",
       "      <td>0.153259</td>\n",
       "      <td>1</td>\n",
       "    </tr>\n",
       "    <tr>\n",
       "      <th>2</th>\n",
       "      <td>-0.815392</td>\n",
       "      <td>0.173282</td>\n",
       "      <td>1</td>\n",
       "    </tr>\n",
       "    <tr>\n",
       "      <th>3</th>\n",
       "      <td>-0.393731</td>\n",
       "      <td>0.692883</td>\n",
       "      <td>1</td>\n",
       "    </tr>\n",
       "    <tr>\n",
       "      <th>4</th>\n",
       "      <td>0.442208</td>\n",
       "      <td>-0.896723</td>\n",
       "      <td>0</td>\n",
       "    </tr>\n",
       "    <tr>\n",
       "      <th>5</th>\n",
       "      <td>-0.479646</td>\n",
       "      <td>0.676435</td>\n",
       "      <td>1</td>\n",
       "    </tr>\n",
       "    <tr>\n",
       "      <th>6</th>\n",
       "      <td>-0.013648</td>\n",
       "      <td>0.803349</td>\n",
       "      <td>1</td>\n",
       "    </tr>\n",
       "    <tr>\n",
       "      <th>7</th>\n",
       "      <td>0.771513</td>\n",
       "      <td>0.147760</td>\n",
       "      <td>1</td>\n",
       "    </tr>\n",
       "    <tr>\n",
       "      <th>8</th>\n",
       "      <td>-0.169322</td>\n",
       "      <td>-0.793456</td>\n",
       "      <td>1</td>\n",
       "    </tr>\n",
       "    <tr>\n",
       "      <th>9</th>\n",
       "      <td>-0.121486</td>\n",
       "      <td>1.021509</td>\n",
       "      <td>0</td>\n",
       "    </tr>\n",
       "  </tbody>\n",
       "</table>\n",
       "</div>"
      ],
      "text/plain": [
       "         X1        X2  label\n",
       "0  0.754246  0.231481      1\n",
       "1 -0.756159  0.153259      1\n",
       "2 -0.815392  0.173282      1\n",
       "3 -0.393731  0.692883      1\n",
       "4  0.442208 -0.896723      0\n",
       "5 -0.479646  0.676435      1\n",
       "6 -0.013648  0.803349      1\n",
       "7  0.771513  0.147760      1\n",
       "8 -0.169322 -0.793456      1\n",
       "9 -0.121486  1.021509      0"
      ]
     },
     "execution_count": 6,
     "metadata": {},
     "output_type": "execute_result"
    }
   ],
   "source": [
    "# make DataFrame of circle data \n",
    "import pandas as pd \n",
    "circles = pd.DataFrame({\"X1\": X[:,0],\n",
    "                        \"X2\": X[:,1],\n",
    "                        \"label\": y})\n",
    "circles.head(10)"
   ]
  },
  {
   "cell_type": "code",
   "execution_count": 7,
   "id": "e91aece8",
   "metadata": {
    "execution": {
     "iopub.execute_input": "2025-09-01T08:59:29.044558Z",
     "iopub.status.busy": "2025-09-01T08:59:29.044214Z",
     "iopub.status.idle": "2025-09-01T08:59:29.335498Z",
     "shell.execute_reply": "2025-09-01T08:59:29.334537Z"
    },
    "papermill": {
     "duration": 0.303328,
     "end_time": "2025-09-01T08:59:29.337592",
     "exception": false,
     "start_time": "2025-09-01T08:59:29.034264",
     "status": "completed"
    },
    "tags": []
   },
   "outputs": [
    {
     "data": {
      "text/plain": [
       "<matplotlib.collections.PathCollection at 0x7ac0e72be2d0>"
      ]
     },
     "execution_count": 7,
     "metadata": {},
     "output_type": "execute_result"
    },
    {
     "data": {
      "image/png": "[encoded data removed]",
      "text/plain": [
       "<Figure size 640x480 with 1 Axes>"
      ]
     },
     "metadata": {},
     "output_type": "display_data"
    }
   ],
   "source": [
    "# visualize \n",
    "import matplotlib.pyplot as plt \n",
    "\n",
    "plt.scatter(x=X[:,0], \n",
    "            y=X[:,1],\n",
    "            c=y,\n",
    "            cmap=plt.cm.RdYlBu\n",
    "           )"
   ]
  },
  {
   "cell_type": "markdown",
   "id": "053b0113",
   "metadata": {
    "papermill": {
     "duration": 0.010482,
     "end_time": "2025-09-01T08:59:29.358908",
     "exception": false,
     "start_time": "2025-09-01T08:59:29.348426",
     "status": "completed"
    },
    "tags": []
   },
   "source": [
    "### 1.1 Check input and output shapes"
   ]
  },
  {
   "cell_type": "code",
   "execution_count": 8,
   "id": "1f63e7d2",
   "metadata": {
    "execution": {
     "iopub.execute_input": "2025-09-01T08:59:29.380952Z",
     "iopub.status.busy": "2025-09-01T08:59:29.380587Z",
     "iopub.status.idle": "2025-09-01T08:59:29.386462Z",
     "shell.execute_reply": "2025-09-01T08:59:29.385508Z"
    },
    "papermill": {
     "duration": 0.019067,
     "end_time": "2025-09-01T08:59:29.388198",
     "exception": false,
     "start_time": "2025-09-01T08:59:29.369131",
     "status": "completed"
    },
    "tags": []
   },
   "outputs": [
    {
     "data": {
      "text/plain": [
       "((1000, 2), (1000,))"
      ]
     },
     "execution_count": 8,
     "metadata": {},
     "output_type": "execute_result"
    }
   ],
   "source": [
    "X.shape, y.shape"
   ]
  },
  {
   "cell_type": "code",
   "execution_count": 9,
   "id": "20b02993",
   "metadata": {
    "execution": {
     "iopub.execute_input": "2025-09-01T08:59:29.410305Z",
     "iopub.status.busy": "2025-09-01T08:59:29.409988Z",
     "iopub.status.idle": "2025-09-01T08:59:29.415359Z",
     "shell.execute_reply": "2025-09-01T08:59:29.414421Z"
    },
    "papermill": {
     "duration": 0.018254,
     "end_time": "2025-09-01T08:59:29.416905",
     "exception": false,
     "start_time": "2025-09-01T08:59:29.398651",
     "status": "completed"
    },
    "tags": []
   },
   "outputs": [
    {
     "name": "stdout",
     "output_type": "stream",
     "text": [
      "Values for one sample of X: [0.75424625 0.23148074] and the same for y: 1\n",
      "Shapes for one sample of X: (2,) and the same for y: ()\n"
     ]
    }
   ],
   "source": [
    "X_sample = X[0]\n",
    "y_sample = y[0]\n",
    "\n",
    "print(f\"Values for one sample of X: {X_sample} and the same for y: {y_sample}\")\n",
    "print(f\"Shapes for one sample of X: {X_sample.shape} and the same for y: {y_sample.shape}\")"
   ]
  },
  {
   "cell_type": "markdown",
   "id": "74d2e844",
   "metadata": {
    "papermill": {
     "duration": 0.010165,
     "end_time": "2025-09-01T08:59:29.437782",
     "exception": false,
     "start_time": "2025-09-01T08:59:29.427617",
     "status": "completed"
    },
    "tags": []
   },
   "source": [
    "### 1.2 Turn data into tensors and create train and test splits"
   ]
  },
  {
   "cell_type": "code",
   "execution_count": 10,
   "id": "1e2fd089",
   "metadata": {
    "execution": {
     "iopub.execute_input": "2025-09-01T08:59:29.460531Z",
     "iopub.status.busy": "2025-09-01T08:59:29.459632Z",
     "iopub.status.idle": "2025-09-01T08:59:29.465304Z",
     "shell.execute_reply": "2025-09-01T08:59:29.464431Z"
    },
    "papermill": {
     "duration": 0.018242,
     "end_time": "2025-09-01T08:59:29.466666",
     "exception": false,
     "start_time": "2025-09-01T08:59:29.448424",
     "status": "completed"
    },
    "tags": []
   },
   "outputs": [
    {
     "data": {
      "text/plain": [
       "'2.6.0+cu124'"
      ]
     },
     "execution_count": 10,
     "metadata": {},
     "output_type": "execute_result"
    }
   ],
   "source": [
    "import torch \n",
    "torch.__version__"
   ]
  },
  {
   "cell_type": "code",
   "execution_count": 11,
   "id": "48f69ef1",
   "metadata": {
    "execution": {
     "iopub.execute_input": "2025-09-01T08:59:29.488837Z",
     "iopub.status.busy": "2025-09-01T08:59:29.488492Z",
     "iopub.status.idle": "2025-09-01T08:59:29.516856Z",
     "shell.execute_reply": "2025-09-01T08:59:29.515853Z"
    },
    "papermill": {
     "duration": 0.041282,
     "end_time": "2025-09-01T08:59:29.518515",
     "exception": false,
     "start_time": "2025-09-01T08:59:29.477233",
     "status": "completed"
    },
    "tags": []
   },
   "outputs": [],
   "source": [
    "# turn data into tensors\n",
    "X = torch.from_numpy(X).type(torch.float)\n",
    "y = torch.from_numpy(y).type(torch.float)"
   ]
  },
  {
   "cell_type": "code",
   "execution_count": 12,
   "id": "1dfd2568",
   "metadata": {
    "execution": {
     "iopub.execute_input": "2025-09-01T08:59:29.606240Z",
     "iopub.status.busy": "2025-09-01T08:59:29.605892Z",
     "iopub.status.idle": "2025-09-01T08:59:29.678361Z",
     "shell.execute_reply": "2025-09-01T08:59:29.677401Z"
    },
    "papermill": {
     "duration": 0.086224,
     "end_time": "2025-09-01T08:59:29.680054",
     "exception": false,
     "start_time": "2025-09-01T08:59:29.593830",
     "status": "completed"
    },
    "tags": []
   },
   "outputs": [
    {
     "data": {
      "text/plain": [
       "(tensor([[ 0.7542,  0.2315],\n",
       "         [-0.7562,  0.1533],\n",
       "         [-0.8154,  0.1733],\n",
       "         [-0.3937,  0.6929],\n",
       "         [ 0.4422, -0.8967]]),\n",
       " tensor([1., 1., 1., 1., 0.]))"
      ]
     },
     "execution_count": 12,
     "metadata": {},
     "output_type": "execute_result"
    }
   ],
   "source": [
    "X[:5], y[:5]"
   ]
  },
  {
   "cell_type": "code",
   "execution_count": 13,
   "id": "673d6ff2",
   "metadata": {
    "execution": {
     "iopub.execute_input": "2025-09-01T08:59:29.703333Z",
     "iopub.status.busy": "2025-09-01T08:59:29.702464Z",
     "iopub.status.idle": "2025-09-01T08:59:29.744442Z",
     "shell.execute_reply": "2025-09-01T08:59:29.743508Z"
    },
    "papermill": {
     "duration": 0.055353,
     "end_time": "2025-09-01T08:59:29.746220",
     "exception": false,
     "start_time": "2025-09-01T08:59:29.690867",
     "status": "completed"
    },
    "tags": []
   },
   "outputs": [
    {
     "data": {
      "text/plain": [
       "(800, 200, 800, 200)"
      ]
     },
     "execution_count": 13,
     "metadata": {},
     "output_type": "execute_result"
    }
   ],
   "source": [
    "# split data into training and test set\n",
    "from sklearn.model_selection import train_test_split \n",
    "\n",
    "X_train, X_test, y_train, y_test = train_test_split(X,\n",
    "                                                    y,\n",
    "                                                    test_size=0.2,\n",
    "                                                    random_state=42)\n",
    "len(X_train), len(X_test), len(y_train), len(y_test)"
   ]
  },
  {
   "cell_type": "markdown",
   "id": "d9712f71",
   "metadata": {
    "papermill": {
     "duration": 0.010568,
     "end_time": "2025-09-01T08:59:29.767794",
     "exception": false,
     "start_time": "2025-09-01T08:59:29.757226",
     "status": "completed"
    },
    "tags": []
   },
   "source": [
    "## 2. Building a model\n",
    "To classify our blue and red dots\n",
    "1. setup device sgnostic code so our code will run on an accelerator (GPU) if there is one\n",
    "2. construct a model (by subclassing `nn.Module`)\n",
    "3. define a loss function and optimizer\n",
    "4. create a training and test loop"
   ]
  },
  {
   "cell_type": "code",
   "execution_count": 14,
   "id": "6bf89c79",
   "metadata": {
    "execution": {
     "iopub.execute_input": "2025-09-01T08:59:29.791101Z",
     "iopub.status.busy": "2025-09-01T08:59:29.790776Z",
     "iopub.status.idle": "2025-09-01T08:59:29.799937Z",
     "shell.execute_reply": "2025-09-01T08:59:29.799015Z"
    },
    "papermill": {
     "duration": 0.023036,
     "end_time": "2025-09-01T08:59:29.801651",
     "exception": false,
     "start_time": "2025-09-01T08:59:29.778615",
     "status": "completed"
    },
    "tags": []
   },
   "outputs": [
    {
     "data": {
      "text/plain": [
       "'cpu'"
      ]
     },
     "execution_count": 14,
     "metadata": {},
     "output_type": "execute_result"
    }
   ],
   "source": [
    "import torch \n",
    "from torch import nn \n",
    "\n",
    "device = \"cuda\" if torch.cuda.is_available() else \"cpu\"\n",
    "device"
   ]
  },
  {
   "cell_type": "markdown",
   "id": "82ba3d0b",
   "metadata": {
    "papermill": {
     "duration": 0.010802,
     "end_time": "2025-09-01T08:59:29.824237",
     "exception": false,
     "start_time": "2025-09-01T08:59:29.813435",
     "status": "completed"
    },
    "tags": []
   },
   "source": [
    "we've setup device agnostic code, now let's create a model that:\n",
    "1. subclasses `nn.Module`\n",
    "2. Create 2 `nn.Linear()`layers that are capable of handling the shapes of our data\n",
    "3. defines a `forward()` method that outlines the forward pass\n",
    "5. instantiate an instance of our model class and send it to the target `device`"
   ]
  },
  {
   "cell_type": "code",
   "execution_count": 15,
   "id": "a6f8945b",
   "metadata": {
    "execution": {
     "iopub.execute_input": "2025-09-01T08:59:29.847509Z",
     "iopub.status.busy": "2025-09-01T08:59:29.847230Z",
     "iopub.status.idle": "2025-09-01T08:59:29.860635Z",
     "shell.execute_reply": "2025-09-01T08:59:29.859661Z"
    },
    "papermill": {
     "duration": 0.027208,
     "end_time": "2025-09-01T08:59:29.862343",
     "exception": false,
     "start_time": "2025-09-01T08:59:29.835135",
     "status": "completed"
    },
    "tags": []
   },
   "outputs": [
    {
     "data": {
      "text/plain": [
       "CircleModelV0(\n",
       "  (layer_1): Linear(in_features=2, out_features=5, bias=True)\n",
       "  (layer_2): Linear(in_features=5, out_features=1, bias=True)\n",
       ")"
      ]
     },
     "execution_count": 15,
     "metadata": {},
     "output_type": "execute_result"
    }
   ],
   "source": [
    "class CircleModelV0(nn.Module):\n",
    "    def __init__(self):\n",
    "        super().__init__()\n",
    "        # 2. create 2 nn.Linear layers capable of handling the shapes of our data\n",
    "        self.layer_1 = nn.Linear(\n",
    "            in_features = 2, \n",
    "            out_features = 5 \n",
    "        )\n",
    "        self.layer_2 = nn.Linear(\n",
    "            in_features = 5, # takes in 5 features from previous layer\n",
    "            out_features = 1 # output layer for binary classification\n",
    "        )\n",
    "        # self.two_linear_layers = nn.Sequential(\n",
    "        #    nn.Linear(in_features=2, out_features=5),\n",
    "        #    nn.Linear(in_features=5, out_features=1)\n",
    "        # )\n",
    "    \n",
    "    # 3. define a forward() method that outlines forward pass\n",
    "    def forward(self, x):\n",
    "        # x(input) -> layer_1 -> layer_2 -> output\n",
    "        return self.layer_2(self.layer_1(x))\n",
    "        # return two_linear_layers(x)\n",
    "\n",
    "\n",
    "\n",
    "# 4. instantiate an instance of our model class and send it to the target device \n",
    "model_0 = CircleModelV0().to(device)\n",
    "model_0"
   ]
  },
  {
   "cell_type": "code",
   "execution_count": 16,
   "id": "6a94106c",
   "metadata": {
    "execution": {
     "iopub.execute_input": "2025-09-01T08:59:29.886453Z",
     "iopub.status.busy": "2025-09-01T08:59:29.885674Z",
     "iopub.status.idle": "2025-09-01T08:59:29.891454Z",
     "shell.execute_reply": "2025-09-01T08:59:29.890708Z"
    },
    "papermill": {
     "duration": 0.019175,
     "end_time": "2025-09-01T08:59:29.892690",
     "exception": false,
     "start_time": "2025-09-01T08:59:29.873515",
     "status": "completed"
    },
    "tags": []
   },
   "outputs": [
    {
     "data": {
      "text/plain": [
       "device(type='cpu')"
      ]
     },
     "execution_count": 16,
     "metadata": {},
     "output_type": "execute_result"
    }
   ],
   "source": [
    "next(model_0.parameters()).device"
   ]
  },
  {
   "cell_type": "code",
   "execution_count": 17,
   "id": "76262ce2",
   "metadata": {
    "execution": {
     "iopub.execute_input": "2025-09-01T08:59:29.916357Z",
     "iopub.status.busy": "2025-09-01T08:59:29.916049Z",
     "iopub.status.idle": "2025-09-01T08:59:29.923344Z",
     "shell.execute_reply": "2025-09-01T08:59:29.922486Z"
    },
    "papermill": {
     "duration": 0.020831,
     "end_time": "2025-09-01T08:59:29.924795",
     "exception": false,
     "start_time": "2025-09-01T08:59:29.903964",
     "status": "completed"
    },
    "tags": []
   },
   "outputs": [
    {
     "data": {
      "text/plain": [
       "Sequential(\n",
       "  (0): Linear(in_features=2, out_features=5, bias=True)\n",
       "  (1): Linear(in_features=5, out_features=1, bias=True)\n",
       ")"
      ]
     },
     "execution_count": 17,
     "metadata": {},
     "output_type": "execute_result"
    }
   ],
   "source": [
    "# let's replicate the model above using nn.Sequential\n",
    "model_0 = nn.Sequential(\n",
    "    nn.Linear(in_features=2, out_features=5),\n",
    "    nn.Linear(in_features=5, out_features=1)\n",
    ").to(device)\n",
    "\n",
    "model_0"
   ]
  },
  {
   "cell_type": "code",
   "execution_count": 18,
   "id": "d3d69847",
   "metadata": {
    "execution": {
     "iopub.execute_input": "2025-09-01T08:59:29.949187Z",
     "iopub.status.busy": "2025-09-01T08:59:29.948887Z",
     "iopub.status.idle": "2025-09-01T08:59:29.957561Z",
     "shell.execute_reply": "2025-09-01T08:59:29.956565Z"
    },
    "papermill": {
     "duration": 0.023127,
     "end_time": "2025-09-01T08:59:29.959310",
     "exception": false,
     "start_time": "2025-09-01T08:59:29.936183",
     "status": "completed"
    },
    "tags": []
   },
   "outputs": [
    {
     "data": {
      "text/plain": [
       "OrderedDict([('0.weight',\n",
       "              tensor([[-0.0200,  0.3559],\n",
       "                      [ 0.0189,  0.6911],\n",
       "                      [-0.5513,  0.6867],\n",
       "                      [-0.2225, -0.3828],\n",
       "                      [ 0.4589, -0.3599]])),\n",
       "             ('0.bias', tensor([ 0.6767, -0.3593,  0.6273,  0.0676,  0.0224])),\n",
       "             ('1.weight',\n",
       "              tensor([[ 0.0134,  0.2765, -0.2500,  0.1124, -0.0096]])),\n",
       "             ('1.bias', tensor([-0.4175]))])"
      ]
     },
     "execution_count": 18,
     "metadata": {},
     "output_type": "execute_result"
    }
   ],
   "source": [
    "model_0.state_dict()"
   ]
  },
  {
   "cell_type": "markdown",
   "id": "e0af29c8",
   "metadata": {
    "papermill": {
     "duration": 0.011485,
     "end_time": "2025-09-01T08:59:29.982146",
     "exception": false,
     "start_time": "2025-09-01T08:59:29.970661",
     "status": "completed"
    },
    "tags": []
   },
   "source": [
    "### 2.1 Setup loss function and optimizer \n",
    "\n",
    "Which loss function or optimizer should you use? This is problem specific \n",
    "\n",
    "* For example for regression we might want MAE or MSE \n",
    "* For classification we might want binary cross entropy or categorical cross entropy\n",
    "* For optimizers, two of the most common are Adam or SGD\n",
    "* For the loss function we're going to use `torch.nn.BECWithLositsLoss`\n",
    "    * **Logit** : the layer that feeds in to softmax"
   ]
  },
  {
   "cell_type": "code",
   "execution_count": 19,
   "id": "a6e490bc",
   "metadata": {
    "execution": {
     "iopub.execute_input": "2025-09-01T08:59:30.007404Z",
     "iopub.status.busy": "2025-09-01T08:59:30.006576Z",
     "iopub.status.idle": "2025-09-01T08:59:35.849173Z",
     "shell.execute_reply": "2025-09-01T08:59:35.848347Z"
    },
    "papermill": {
     "duration": 5.856523,
     "end_time": "2025-09-01T08:59:35.850872",
     "exception": false,
     "start_time": "2025-09-01T08:59:29.994349",
     "status": "completed"
    },
    "tags": []
   },
   "outputs": [],
   "source": [
    "# setup the loss function \n",
    "# loss_fn = nn.BCELoss() # BCELoss requires inputs to have gone through the sigmoid activation function prior to BCELoss\n",
    "loss_fn = nn.BCEWithLogitsLoss() # BCEWithLogitsLoss= with sigmoid activation function built-in \n",
    "\n",
    "# setup the optimizer \n",
    "optimizer = torch.optim.SGD(params=model_0.parameters(),\n",
    "                            lr=0.1)"
   ]
  },
  {
   "cell_type": "code",
   "execution_count": 20,
   "id": "528a0aab",
   "metadata": {
    "execution": {
     "iopub.execute_input": "2025-09-01T08:59:35.875840Z",
     "iopub.status.busy": "2025-09-01T08:59:35.875349Z",
     "iopub.status.idle": "2025-09-01T08:59:35.880463Z",
     "shell.execute_reply": "2025-09-01T08:59:35.879506Z"
    },
    "papermill": {
     "duration": 0.019352,
     "end_time": "2025-09-01T08:59:35.882006",
     "exception": false,
     "start_time": "2025-09-01T08:59:35.862654",
     "status": "completed"
    },
    "tags": []
   },
   "outputs": [],
   "source": [
    "# calculate accuracy = out of 100 examples, what percentage does our classifier get right?\n",
    "def accuracy_fn(y_pred, y_true):\n",
    "    correct = torch.eq(y_pred, y_true).sum().item()\n",
    "    acc = correct/len(y_pred) * 100 \n",
    "    return acc "
   ]
  },
  {
   "cell_type": "markdown",
   "id": "32f1b626",
   "metadata": {
    "papermill": {
     "duration": 0.010917,
     "end_time": "2025-09-01T08:59:35.904331",
     "exception": false,
     "start_time": "2025-09-01T08:59:35.893414",
     "status": "completed"
    },
    "tags": []
   },
   "source": [
    "## 3. Train Model \n",
    "To train our model, we're going to need to build a training loop: \n",
    "1. Forward pass\n",
    "2. Calculate the loss\n",
    "3. Optimizer to zero\n",
    "4. Loss backward (backpropagation)\n",
    "5. Optimizer step (gradient descent)\n"
   ]
  },
  {
   "cell_type": "markdown",
   "id": "fe94a4b5",
   "metadata": {
    "papermill": {
     "duration": 0.01105,
     "end_time": "2025-09-01T08:59:35.927108",
     "exception": false,
     "start_time": "2025-09-01T08:59:35.916058",
     "status": "completed"
    },
    "tags": []
   },
   "source": [
    "### 3.1 Going from raw logits -> prediction probabilities -> prediction labels \n",
    "\n",
    "* Our model outputs are going to be raw **logits**\n",
    "* We can convert these **logits** into **prediction probabilities** by passing them to some kind of activation function (e.g. sigmoid for binary classification and softmax for multiclass classification).\n",
    "* Then we can convert our model's prediction probabilities to **prediction labels**by either rounding them or taking the argmax()"
   ]
  },
  {
   "cell_type": "code",
   "execution_count": 21,
   "id": "845d1f35",
   "metadata": {
    "execution": {
     "iopub.execute_input": "2025-09-01T08:59:35.951127Z",
     "iopub.status.busy": "2025-09-01T08:59:35.950833Z",
     "iopub.status.idle": "2025-09-01T08:59:35.971006Z",
     "shell.execute_reply": "2025-09-01T08:59:35.970169Z"
    },
    "papermill": {
     "duration": 0.034199,
     "end_time": "2025-09-01T08:59:35.972707",
     "exception": false,
     "start_time": "2025-09-01T08:59:35.938508",
     "status": "completed"
    },
    "tags": []
   },
   "outputs": [
    {
     "data": {
      "text/plain": [
       "tensor([[-0.7102],\n",
       "        [-0.6702],\n",
       "        [-0.7320],\n",
       "        [-0.7044],\n",
       "        [-0.6002]], grad_fn=<SliceBackward0>)"
      ]
     },
     "execution_count": 21,
     "metadata": {},
     "output_type": "execute_result"
    }
   ],
   "source": [
    "# view the first 5 outputs of the forward pass on the test data \n",
    "model_0.eval()\n",
    "y_logits = model_0(X_test.to(device))[:5]\n",
    "y_logits"
   ]
  },
  {
   "cell_type": "code",
   "execution_count": 22,
   "id": "cdadf372",
   "metadata": {
    "execution": {
     "iopub.execute_input": "2025-09-01T08:59:35.997509Z",
     "iopub.status.busy": "2025-09-01T08:59:35.996606Z",
     "iopub.status.idle": "2025-09-01T08:59:36.003374Z",
     "shell.execute_reply": "2025-09-01T08:59:36.002410Z"
    },
    "papermill": {
     "duration": 0.020573,
     "end_time": "2025-09-01T08:59:36.004915",
     "exception": false,
     "start_time": "2025-09-01T08:59:35.984342",
     "status": "completed"
    },
    "tags": []
   },
   "outputs": [
    {
     "data": {
      "text/plain": [
       "tensor([1., 0., 1., 0., 1.])"
      ]
     },
     "execution_count": 22,
     "metadata": {},
     "output_type": "execute_result"
    }
   ],
   "source": [
    "y_test[:5]"
   ]
  },
  {
   "cell_type": "code",
   "execution_count": 23,
   "id": "a4f5a21f",
   "metadata": {
    "execution": {
     "iopub.execute_input": "2025-09-01T08:59:36.029703Z",
     "iopub.status.busy": "2025-09-01T08:59:36.028878Z",
     "iopub.status.idle": "2025-09-01T08:59:36.035612Z",
     "shell.execute_reply": "2025-09-01T08:59:36.034753Z"
    },
    "papermill": {
     "duration": 0.020669,
     "end_time": "2025-09-01T08:59:36.037280",
     "exception": false,
     "start_time": "2025-09-01T08:59:36.016611",
     "status": "completed"
    },
    "tags": []
   },
   "outputs": [
    {
     "data": {
      "text/plain": [
       "tensor([[0.3295],\n",
       "        [0.3384],\n",
       "        [0.3247],\n",
       "        [0.3308],\n",
       "        [0.3543]], grad_fn=<SigmoidBackward0>)"
      ]
     },
     "execution_count": 23,
     "metadata": {},
     "output_type": "execute_result"
    }
   ],
   "source": [
    "# use the sigmoid activation function on our model logits to turn them into prediction probabilities \n",
    "y_pred_probs = torch.sigmoid(y_logits)\n",
    "y_pred_probs"
   ]
  },
  {
   "cell_type": "markdown",
   "id": "dc9f218a",
   "metadata": {
    "papermill": {
     "duration": 0.011187,
     "end_time": "2025-09-01T08:59:36.060155",
     "exception": false,
     "start_time": "2025-09-01T08:59:36.048968",
     "status": "completed"
    },
    "tags": []
   },
   "source": [
    "For our prediction probability values, we need to perform a range-style rounding on them: \n",
    "* `y_pred_probs >= 0.5` --> `y=1` (class 1)\n",
    "* `y_pred_probs < 0.5` --> `y=0` (class 0)"
   ]
  },
  {
   "cell_type": "code",
   "execution_count": 24,
   "id": "5975036d",
   "metadata": {
    "execution": {
     "iopub.execute_input": "2025-09-01T08:59:36.084537Z",
     "iopub.status.busy": "2025-09-01T08:59:36.084219Z",
     "iopub.status.idle": "2025-09-01T08:59:36.090894Z",
     "shell.execute_reply": "2025-09-01T08:59:36.089983Z"
    },
    "papermill": {
     "duration": 0.020755,
     "end_time": "2025-09-01T08:59:36.092609",
     "exception": false,
     "start_time": "2025-09-01T08:59:36.071854",
     "status": "completed"
    },
    "tags": []
   },
   "outputs": [],
   "source": [
    "# find the predicted labels \n",
    "y_preds = torch.round(y_pred_probs)\n",
    "\n",
    "# in full \n",
    "y_pred_labels = torch.round(torch.sigmoid(model_0(X_test).to(device))[:5])"
   ]
  },
  {
   "cell_type": "code",
   "execution_count": 25,
   "id": "633b5bbe",
   "metadata": {
    "execution": {
     "iopub.execute_input": "2025-09-01T08:59:36.117349Z",
     "iopub.status.busy": "2025-09-01T08:59:36.116941Z",
     "iopub.status.idle": "2025-09-01T08:59:36.126534Z",
     "shell.execute_reply": "2025-09-01T08:59:36.125550Z"
    },
    "papermill": {
     "duration": 0.023869,
     "end_time": "2025-09-01T08:59:36.128071",
     "exception": false,
     "start_time": "2025-09-01T08:59:36.104202",
     "status": "completed"
    },
    "tags": []
   },
   "outputs": [
    {
     "name": "stdout",
     "output_type": "stream",
     "text": [
      "tensor([True, True, True, True, True])\n"
     ]
    },
    {
     "data": {
      "text/plain": [
       "tensor([0., 0., 0., 0., 0.], grad_fn=<SqueezeBackward0>)"
      ]
     },
     "execution_count": 25,
     "metadata": {},
     "output_type": "execute_result"
    }
   ],
   "source": [
    "y_pred_labels, y_preds\n",
    "# check for equality \n",
    "print(torch.eq(y_preds.squeeze(), y_pred_labels.squeeze()))\n",
    "\n",
    "# get rid of extra dimension \n",
    "y_preds.squeeze()"
   ]
  },
  {
   "cell_type": "code",
   "execution_count": 26,
   "id": "31e1ab87",
   "metadata": {
    "execution": {
     "iopub.execute_input": "2025-09-01T08:59:36.153915Z",
     "iopub.status.busy": "2025-09-01T08:59:36.153101Z",
     "iopub.status.idle": "2025-09-01T08:59:36.159470Z",
     "shell.execute_reply": "2025-09-01T08:59:36.158606Z"
    },
    "papermill": {
     "duration": 0.02076,
     "end_time": "2025-09-01T08:59:36.161107",
     "exception": false,
     "start_time": "2025-09-01T08:59:36.140347",
     "status": "completed"
    },
    "tags": []
   },
   "outputs": [
    {
     "data": {
      "text/plain": [
       "tensor([1., 0., 1., 0., 1.])"
      ]
     },
     "execution_count": 26,
     "metadata": {},
     "output_type": "execute_result"
    }
   ],
   "source": [
    "y_test[:5]"
   ]
  },
  {
   "cell_type": "markdown",
   "id": "d0ca87a4",
   "metadata": {
    "papermill": {
     "duration": 0.011995,
     "end_time": "2025-09-01T08:59:36.184853",
     "exception": false,
     "start_time": "2025-09-01T08:59:36.172858",
     "status": "completed"
    },
    "tags": []
   },
   "source": [
    "### 3.2 Building a training and testing loop"
   ]
  },
  {
   "cell_type": "code",
   "execution_count": 27,
   "id": "30a5a26d",
   "metadata": {
    "execution": {
     "iopub.execute_input": "2025-09-01T08:59:36.209655Z",
     "iopub.status.busy": "2025-09-01T08:59:36.209332Z",
     "iopub.status.idle": "2025-09-01T08:59:36.344940Z",
     "shell.execute_reply": "2025-09-01T08:59:36.344046Z"
    },
    "papermill": {
     "duration": 0.149943,
     "end_time": "2025-09-01T08:59:36.346464",
     "exception": false,
     "start_time": "2025-09-01T08:59:36.196521",
     "status": "completed"
    },
    "tags": []
   },
   "outputs": [
    {
     "name": "stdout",
     "output_type": "stream",
     "text": [
      "Epoch: 0 | Loss: 0.74661 | Acc: 50.00% | Test_loss: 0.7423359155654907 | Test_acc: 50.00\n",
      "Epoch: 10 | Loss: 0.71175 | Acc: 50.00% | Test_loss: 0.7114595770835876 | Test_acc: 50.00\n",
      "Epoch: 20 | Loss: 0.69967 | Acc: 50.00% | Test_loss: 0.7009968757629395 | Test_acc: 50.00\n",
      "Epoch: 30 | Loss: 0.69543 | Acc: 50.00% | Test_loss: 0.697435736656189 | Test_acc: 50.00\n",
      "Epoch: 40 | Loss: 0.69394 | Acc: 44.00% | Test_loss: 0.6961926817893982 | Test_acc: 40.50\n",
      "Epoch: 50 | Loss: 0.69339 | Acc: 46.88% | Test_loss: 0.6957162618637085 | Test_acc: 46.50\n",
      "Epoch: 60 | Loss: 0.69318 | Acc: 49.75% | Test_loss: 0.6954910159111023 | Test_acc: 45.50\n",
      "Epoch: 70 | Loss: 0.69310 | Acc: 49.50% | Test_loss: 0.6953506469726562 | Test_acc: 45.50\n",
      "Epoch: 80 | Loss: 0.69305 | Acc: 50.38% | Test_loss: 0.6952431201934814 | Test_acc: 46.00\n",
      "Epoch: 90 | Loss: 0.69303 | Acc: 50.50% | Test_loss: 0.695152997970581 | Test_acc: 47.00\n"
     ]
    }
   ],
   "source": [
    "torch.manual_seed(42)\n",
    "torch.cuda.manual_seed(42)\n",
    "\n",
    "# set the number of epochs\n",
    "epochs = 100 \n",
    "\n",
    "# put data to target device \n",
    "X_train, y_train = X_train.to(device), y_train.to(device)\n",
    "X_test, y_test = X_test.to(device), y_test.to(device)\n",
    "\n",
    "# build training and evaluation loop \n",
    "for epoch in range(epochs):\n",
    "    # training \n",
    "    model_0.train()\n",
    "\n",
    "    # forward pass \n",
    "    y_logits = model_0(X_train).squeeze()\n",
    "    y_pred = torch.round(torch.sigmoid(y_logits)) # turn logits -> pred probs -> pred labels \n",
    "    \n",
    "    # calculate loss/accuracy \n",
    "    loss = loss_fn(\n",
    "        y_logits, # because we are using loss_fn=BCEWithLogitsLoss, simple BCELoss would expect y_probs\n",
    "        y_train\n",
    "    )\n",
    "    # loss = BCELoss(torch.sigmoid(y_logits)) # we would use y_probs\n",
    "\n",
    "    acc = accuracy_fn(\n",
    "        y_pred=y_pred, \n",
    "        y_true=y_train\n",
    "    )\n",
    "\n",
    "    # Optimizer zero grad \n",
    "    optimizer.zero_grad()\n",
    "\n",
    "    # Loss Backward (backpropagation)\n",
    "    loss.backward()\n",
    "\n",
    "    # Optimizer step (gradient descent)\n",
    "    optimizer.step() \n",
    "\n",
    "    ### Testing \n",
    "    model_0.eval()\n",
    "    with torch.inference_mode():\n",
    "        # Forward pass\n",
    "        test_logits = model_0(X_test).squeeze()\n",
    "        test_preds = torch.round(torch.sigmoid(test_logits))\n",
    "\n",
    "        # calculate test loss/accuracy \n",
    "        test_loss = loss_fn(\n",
    "            test_logits,\n",
    "            y_test\n",
    "        )\n",
    "        test_accuracy = accuracy_fn(\n",
    "            test_preds, \n",
    "            y_test\n",
    "        )\n",
    "\n",
    "    if epoch % 10 == 0:\n",
    "        print(f\"Epoch: {epoch} | Loss: {loss:.5f} | Acc: {acc:.2f}% | Test_loss: {test_loss} | Test_acc: {test_accuracy:.2f}\")\n",
    "\n",
    "\n",
    "\n",
    "\n",
    "\n"
   ]
  },
  {
   "cell_type": "code",
   "execution_count": 28,
   "id": "179a4424",
   "metadata": {
    "execution": {
     "iopub.execute_input": "2025-09-01T08:59:36.371344Z",
     "iopub.status.busy": "2025-09-01T08:59:36.371040Z",
     "iopub.status.idle": "2025-09-01T08:59:36.385811Z",
     "shell.execute_reply": "2025-09-01T08:59:36.384834Z"
    },
    "papermill": {
     "duration": 0.028863,
     "end_time": "2025-09-01T08:59:36.387270",
     "exception": false,
     "start_time": "2025-09-01T08:59:36.358407",
     "status": "completed"
    },
    "tags": []
   },
   "outputs": [
    {
     "data": {
      "text/plain": [
       "label\n",
       "1    500\n",
       "0    500\n",
       "Name: count, dtype: int64"
      ]
     },
     "execution_count": 28,
     "metadata": {},
     "output_type": "execute_result"
    }
   ],
   "source": [
    "circles.label.value_counts()"
   ]
  },
  {
   "cell_type": "markdown",
   "id": "2ef500f9",
   "metadata": {
    "papermill": {
     "duration": 0.011384,
     "end_time": "2025-09-01T08:59:36.410528",
     "exception": false,
     "start_time": "2025-09-01T08:59:36.399144",
     "status": "completed"
    },
    "tags": []
   },
   "source": [
    "## 4.Make predictions and evaluate the model \n",
    "From metrics it looks like out model isn't learning anything. \n",
    "So to inspect it let's make some predictions and make them visual\n",
    "\n",
    "source: [helper_functions.py](https://github.com/mrdbourke/pytorch-deep-learning/blob/af6548e52663c8395fe2777bd0fbfd6ac85fd6f8/helper_functions.py#L4)"
   ]
  },
  {
   "cell_type": "code",
   "execution_count": 29,
   "id": "0fc12acf",
   "metadata": {
    "execution": {
     "iopub.execute_input": "2025-09-01T08:59:36.435249Z",
     "iopub.status.busy": "2025-09-01T08:59:36.434917Z",
     "iopub.status.idle": "2025-09-01T08:59:37.558052Z",
     "shell.execute_reply": "2025-09-01T08:59:37.556820Z"
    },
    "papermill": {
     "duration": 1.137731,
     "end_time": "2025-09-01T08:59:37.559912",
     "exception": false,
     "start_time": "2025-09-01T08:59:36.422181",
     "status": "completed"
    },
    "tags": []
   },
   "outputs": [
    {
     "name": "stdout",
     "output_type": "stream",
     "text": [
      "Download helper_functions.py\n"
     ]
    }
   ],
   "source": [
    "import requests \n",
    "from pathlib import Path \n",
    "\n",
    "## Download helper function \n",
    "if Path(\"helper_functions.py\").is_file():\n",
    "    print(\"helper functions.py already exists, skipping download\")\n",
    "else: \n",
    "    print(\"Download helper_functions.py\")\n",
    "    request = requests.get(\"https://raw.github.com/mrdbourke/pytorch-deep-learning/main/helper_functions.py\")\n",
    "    with open(\"helper_functions.py\", \"wb\") as f: # wb = write binary\n",
    "        f.write(request.content)\n",
    "        \n",
    "from helper_functions import plot_predictions, plot_decision_boundary\n"
   ]
  },
  {
   "cell_type": "code",
   "execution_count": 30,
   "id": "5ddc6d24",
   "metadata": {
    "execution": {
     "iopub.execute_input": "2025-09-01T08:59:37.585770Z",
     "iopub.status.busy": "2025-09-01T08:59:37.585437Z",
     "iopub.status.idle": "2025-09-01T08:59:38.126270Z",
     "shell.execute_reply": "2025-09-01T08:59:38.125429Z"
    },
    "papermill": {
     "duration": 0.556716,
     "end_time": "2025-09-01T08:59:38.129096",
     "exception": false,
     "start_time": "2025-09-01T08:59:37.572380",
     "status": "completed"
    },
    "tags": []
   },
   "outputs": [
    {
     "data": {
      "image/png": "[encoded data removed]",
      "text/plain": [
       "<Figure size 1200x600 with 2 Axes>"
      ]
     },
     "metadata": {},
     "output_type": "display_data"
    }
   ],
   "source": [
    " # plot decision boundary of the model \n",
    "plt.figure(figsize=(12,6))\n",
    "plt.subplot(1,2,1) # #rows, #cols, index the subplot will appear into\n",
    "plt.title(\"Train\")\n",
    "plot_decision_boundary(model_0, X_train, y_train)\n",
    "plt.subplot(1,2,2)\n",
    "plt.title(\"Test\")\n",
    "plot_decision_boundary(model_0, X_test, y_test)\n"
   ]
  },
  {
   "cell_type": "code",
   "execution_count": null,
   "id": "4eb0e610",
   "metadata": {
    "papermill": {
     "duration": 0.014234,
     "end_time": "2025-09-01T08:59:38.158831",
     "exception": false,
     "start_time": "2025-09-01T08:59:38.144597",
     "status": "completed"
    },
    "tags": []
   },
   "outputs": [],
   "source": []
  },
  {
   "cell_type": "code",
   "execution_count": null,
   "id": "6e63e670",
   "metadata": {
    "papermill": {
     "duration": 0.013981,
     "end_time": "2025-09-01T08:59:38.187317",
     "exception": false,
     "start_time": "2025-09-01T08:59:38.173336",
     "status": "completed"
    },
    "tags": []
   },
   "outputs": [],
   "source": []
  },
  {
   "cell_type": "code",
   "execution_count": null,
   "id": "2880f405",
   "metadata": {
    "papermill": {
     "duration": 0.014091,
     "end_time": "2025-09-01T08:59:38.216246",
     "exception": false,
     "start_time": "2025-09-01T08:59:38.202155",
     "status": "completed"
    },
    "tags": []
   },
   "outputs": [],
   "source": []
  },
  {
   "cell_type": "code",
   "execution_count": null,
   "id": "5fe21916",
   "metadata": {
    "papermill": {
     "duration": 0.014093,
     "end_time": "2025-09-01T08:59:38.244861",
     "exception": false,
     "start_time": "2025-09-01T08:59:38.230768",
     "status": "completed"
    },
    "tags": []
   },
   "outputs": [],
   "source": []
  },
  {
   "cell_type": "code",
   "execution_count": null,
   "id": "a1c6e456",
   "metadata": {
    "papermill": {
     "duration": 0.015454,
     "end_time": "2025-09-01T08:59:38.274959",
     "exception": false,
     "start_time": "2025-09-01T08:59:38.259505",
     "status": "completed"
    },
    "tags": []
   },
   "outputs": [],
   "source": []
  },
  {
   "cell_type": "code",
   "execution_count": null,
   "id": "e010aca4",
   "metadata": {
    "papermill": {
     "duration": 0.014651,
     "end_time": "2025-09-01T08:59:38.303956",
     "exception": false,
     "start_time": "2025-09-01T08:59:38.289305",
     "status": "completed"
    },
    "tags": []
   },
   "outputs": [],
   "source": []
  },
  {
   "cell_type": "code",
   "execution_count": null,
   "id": "257b2ca0",
   "metadata": {
    "papermill": {
     "duration": 0.014014,
     "end_time": "2025-09-01T08:59:38.332277",
     "exception": false,
     "start_time": "2025-09-01T08:59:38.318263",
     "status": "completed"
    },
    "tags": []
   },
   "outputs": [],
   "source": []
  },
  {
   "cell_type": "code",
   "execution_count": null,
   "id": "04e42734",
   "metadata": {
    "papermill": {
     "duration": 0.014028,
     "end_time": "2025-09-01T08:59:38.360687",
     "exception": false,
     "start_time": "2025-09-01T08:59:38.346659",
     "status": "completed"
    },
    "tags": []
   },
   "outputs": [],
   "source": []
  },
  {
   "cell_type": "code",
   "execution_count": null,
   "id": "1a0a5c55",
   "metadata": {
    "papermill": {
     "duration": 0.013964,
     "end_time": "2025-09-01T08:59:38.388987",
     "exception": false,
     "start_time": "2025-09-01T08:59:38.375023",
     "status": "completed"
    },
    "tags": []
   },
   "outputs": [],
   "source": []
  },
  {
   "cell_type": "code",
   "execution_count": null,
   "id": "a0db8f76",
   "metadata": {
    "papermill": {
     "duration": 0.014096,
     "end_time": "2025-09-01T08:59:38.417287",
     "exception": false,
     "start_time": "2025-09-01T08:59:38.403191",
     "status": "completed"
    },
    "tags": []
   },
   "outputs": [],
   "source": []
  },
  {
   "cell_type": "code",
   "execution_count": null,
   "id": "05eef45e",
   "metadata": {
    "papermill": {
     "duration": 0.014026,
     "end_time": "2025-09-01T08:59:38.445683",
     "exception": false,
     "start_time": "2025-09-01T08:59:38.431657",
     "status": "completed"
    },
    "tags": []
   },
   "outputs": [],
   "source": []
  }
 ],
 "metadata": {
  "kaggle": {
   "accelerator": "none",
   "dataSources": [],
   "dockerImageVersionId": 31089,
   "isGpuEnabled": false,
   "isInternetEnabled": true,
   "language": "python",
   "sourceType": "notebook"
  },
  "kernelspec": {
   "display_name": "Python 3",
   "language": "python",
   "name": "python3"
  },
  "language_info": {
   "codemirror_mode": {
    "name": "ipython",
    "version": 3
   },
   "file_extension": ".py",
   "mimetype": "text/x-python",
   "name": "python",
   "nbconvert_exporter": "python",
   "pygments_lexer": "ipython3",
   "version": "3.11.13"
  },
  "papermill": {
   "default_parameters": {},
   "duration": 60.865381,
   "end_time": "2025-09-01T08:59:41.614880",
   "environment_variables": {},
   "exception": null,
   "input_path": "__notebook__.ipynb",
   "output_path": "__notebook__.ipynb",
   "parameters": {},
   "start_time": "2025-09-01T08:58:40.749499",
   "version": "2.6.0"
  }
 },
 "nbformat": 4,
 "nbformat_minor": 5
}
