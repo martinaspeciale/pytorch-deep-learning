{
 "cells": [
  {
   "cell_type": "markdown",
   "id": "71b73ee7",
   "metadata": {
    "papermill": {
     "duration": 0.003318,
     "end_time": "2025-09-01T06:57:11.424264",
     "exception": false,
     "start_time": "2025-09-01T06:57:11.420946",
     "status": "completed"
    },
    "tags": []
   },
   "source": [
    "## Neural Network classification with PyTorch"
   ]
  },
  {
   "cell_type": "code",
   "execution_count": 1,
   "id": "c3543329",
   "metadata": {
    "execution": {
     "iopub.execute_input": "2025-09-01T06:57:11.431918Z",
     "iopub.status.busy": "2025-09-01T06:57:11.431600Z",
     "iopub.status.idle": "2025-09-01T06:57:17.087425Z",
     "shell.execute_reply": "2025-09-01T06:57:17.086527Z"
    },
    "papermill": {
     "duration": 5.661456,
     "end_time": "2025-09-01T06:57:17.089363",
     "exception": false,
     "start_time": "2025-09-01T06:57:11.427907",
     "status": "completed"
    },
    "tags": []
   },
   "outputs": [],
   "source": [
    "import torch \n",
    "from torch import nn"
   ]
  },
  {
   "cell_type": "markdown",
   "id": "4a6b7437",
   "metadata": {
    "papermill": {
     "duration": 0.00242,
     "end_time": "2025-09-01T06:57:17.094964",
     "exception": false,
     "start_time": "2025-09-01T06:57:17.092544",
     "status": "completed"
    },
    "tags": []
   },
   "source": [
    "## 1. Make classification data and get it ready"
   ]
  },
  {
   "cell_type": "code",
   "execution_count": 2,
   "id": "fb35cc92",
   "metadata": {
    "execution": {
     "iopub.execute_input": "2025-09-01T06:57:17.101367Z",
     "iopub.status.busy": "2025-09-01T06:57:17.100948Z",
     "iopub.status.idle": "2025-09-01T06:57:51.330607Z",
     "shell.execute_reply": "2025-09-01T06:57:51.328915Z"
    },
    "papermill": {
     "duration": 34.235426,
     "end_time": "2025-09-01T06:57:51.332976",
     "exception": false,
     "start_time": "2025-09-01T06:57:17.097550",
     "status": "completed"
    },
    "tags": []
   },
   "outputs": [
    {
     "name": "stdout",
     "output_type": "stream",
     "text": [
      "Requirement already satisfied: pip in /usr/local/lib/python3.11/dist-packages (24.1.2)\r\n",
      "Collecting pip\r\n",
      "  Downloading pip-25.2-py3-none-any.whl.metadata (4.7 kB)\r\n",
      "Requirement already satisfied: setuptools in /usr/local/lib/python3.11/dist-packages (75.2.0)\r\n",
      "Collecting setuptools\r\n",
      "  Downloading setuptools-80.9.0-py3-none-any.whl.metadata (6.6 kB)\r\n",
      "Requirement already satisfied: wheel in /usr/local/lib/python3.11/dist-packages (0.45.1)\r\n",
      "Downloading pip-25.2-py3-none-any.whl (1.8 MB)\r\n",
      "\u001b[2K   \u001b[90m━━━━━━━━━━━━━━━━━━━━━━━━━━━━━━━━━━━━━━━━\u001b[0m \u001b[32m1.8/1.8 MB\u001b[0m \u001b[31m32.3 MB/s\u001b[0m eta \u001b[36m0:00:00\u001b[0m\r\n",
      "\u001b[?25hDownloading setuptools-80.9.0-py3-none-any.whl (1.2 MB)\r\n",
      "\u001b[2K   \u001b[90m━━━━━━━━━━━━━━━━━━━━━━━━━━━━━━━━━━━━━━━━\u001b[0m \u001b[32m1.2/1.2 MB\u001b[0m \u001b[31m38.0 MB/s\u001b[0m eta \u001b[36m0:00:00\u001b[0m\r\n",
      "\u001b[?25hInstalling collected packages: setuptools, pip\r\n",
      "  Attempting uninstall: setuptools\r\n",
      "    Found existing installation: setuptools 75.2.0\r\n",
      "    Uninstalling setuptools-75.2.0:\r\n",
      "      Successfully uninstalled setuptools-75.2.0\r\n",
      "  Attempting uninstall: pip\r\n",
      "    Found existing installation: pip 24.1.2\r\n",
      "    Uninstalling pip-24.1.2:\r\n",
      "      Successfully uninstalled pip-24.1.2\r\n",
      "\u001b[31mERROR: pip's dependency resolver does not currently take into account all the packages that are installed. This behaviour is the source of the following dependency conflicts.\r\n",
      "bigframes 2.8.0 requires google-cloud-bigquery-storage<3.0.0,>=2.30.0, which is not installed.\r\n",
      "pandas-gbq 0.29.1 requires google-api-core<3.0.0,>=2.10.2, but you have google-api-core 1.34.1 which is incompatible.\r\n",
      "thinc 8.3.6 requires numpy<3.0.0,>=2.0.0, but you have numpy 1.26.4 which is incompatible.\r\n",
      "bigframes 2.8.0 requires google-cloud-bigquery[bqstorage,pandas]>=3.31.0, but you have google-cloud-bigquery 3.25.0 which is incompatible.\r\n",
      "bigframes 2.8.0 requires rich<14,>=12.4.4, but you have rich 14.0.0 which is incompatible.\u001b[0m\u001b[31m\r\n",
      "\u001b[0mSuccessfully installed pip-25.2 setuptools-80.9.0\r\n",
      "Requirement already satisfied: scikit-learn in /usr/local/lib/python3.11/dist-packages (1.2.2)\r\n",
      "Collecting scikit-learn\r\n",
      "  Downloading scikit_learn-1.7.1-cp311-cp311-manylinux2014_x86_64.manylinux_2_17_x86_64.whl.metadata (11 kB)\r\n",
      "Requirement already satisfied: numpy>=1.22.0 in /usr/local/lib/python3.11/dist-packages (from scikit-learn) (1.26.4)\r\n",
      "Requirement already satisfied: scipy>=1.8.0 in /usr/local/lib/python3.11/dist-packages (from scikit-learn) (1.15.3)\r\n",
      "Requirement already satisfied: joblib>=1.2.0 in /usr/local/lib/python3.11/dist-packages (from scikit-learn) (1.5.1)\r\n",
      "Requirement already satisfied: threadpoolctl>=3.1.0 in /usr/local/lib/python3.11/dist-packages (from scikit-learn) (3.6.0)\r\n",
      "Requirement already satisfied: mkl_fft in /usr/local/lib/python3.11/dist-packages (from numpy>=1.22.0->scikit-learn) (1.3.8)\r\n",
      "Requirement already satisfied: mkl_random in /usr/local/lib/python3.11/dist-packages (from numpy>=1.22.0->scikit-learn) (1.2.4)\r\n",
      "Requirement already satisfied: mkl_umath in /usr/local/lib/python3.11/dist-packages (from numpy>=1.22.0->scikit-learn) (0.1.1)\r\n",
      "Requirement already satisfied: mkl in /usr/local/lib/python3.11/dist-packages (from numpy>=1.22.0->scikit-learn) (2025.2.0)\r\n",
      "Requirement already satisfied: tbb4py in /usr/local/lib/python3.11/dist-packages (from numpy>=1.22.0->scikit-learn) (2022.2.0)\r\n",
      "Requirement already satisfied: mkl-service in /usr/local/lib/python3.11/dist-packages (from numpy>=1.22.0->scikit-learn) (2.4.1)\r\n",
      "Requirement already satisfied: intel-openmp<2026,>=2024 in /usr/local/lib/python3.11/dist-packages (from mkl->numpy>=1.22.0->scikit-learn) (2024.2.0)\r\n",
      "Requirement already satisfied: tbb==2022.* in /usr/local/lib/python3.11/dist-packages (from mkl->numpy>=1.22.0->scikit-learn) (2022.2.0)\r\n",
      "Requirement already satisfied: intel-cmplr-lib-ur==2024.2.0 in /usr/local/lib/python3.11/dist-packages (from intel-openmp<2026,>=2024->mkl->numpy>=1.22.0->scikit-learn) (2024.2.0)\r\n",
      "Requirement already satisfied: tcmlib==1.* in /usr/local/lib/python3.11/dist-packages (from tbb==2022.*->mkl->numpy>=1.22.0->scikit-learn) (1.4.0)\r\n",
      "Requirement already satisfied: intel-cmplr-lib-rt in /usr/local/lib/python3.11/dist-packages (from mkl_umath->numpy>=1.22.0->scikit-learn) (2024.2.0)\r\n",
      "Downloading scikit_learn-1.7.1-cp311-cp311-manylinux2014_x86_64.manylinux_2_17_x86_64.whl (9.7 MB)\r\n",
      "\u001b[2K   \u001b[90m━━━━━━━━━━━━━━━━━━━━━━━━━━━━━━━━━━━━━━━━\u001b[0m \u001b[32m9.7/9.7 MB\u001b[0m \u001b[31m102.9 MB/s\u001b[0m  \u001b[33m0:00:00\u001b[0m\r\n",
      "\u001b[?25hInstalling collected packages: scikit-learn\r\n",
      "  Attempting uninstall: scikit-learn\r\n",
      "    Found existing installation: scikit-learn 1.2.2\r\n",
      "    Uninstalling scikit-learn-1.2.2:\r\n",
      "      Successfully uninstalled scikit-learn-1.2.2\r\n",
      "\u001b[31mERROR: pip's dependency resolver does not currently take into account all the packages that are installed. This behaviour is the source of the following dependency conflicts.\r\n",
      "category-encoders 2.7.0 requires scikit-learn<1.6.0,>=1.0.0, but you have scikit-learn 1.7.1 which is incompatible.\r\n",
      "cesium 0.12.4 requires numpy<3.0,>=2.0, but you have numpy 1.26.4 which is incompatible.\r\n",
      "sklearn-compat 0.1.3 requires scikit-learn<1.7,>=1.2, but you have scikit-learn 1.7.1 which is incompatible.\u001b[0m\u001b[31m\r\n",
      "\u001b[0mSuccessfully installed scikit-learn-1.7.1\r\n"
     ]
    }
   ],
   "source": [
    "!pip install -U pip setuptools wheel\n",
    "!pip install -U scikit-learn\n",
    "# or pin a version:\n",
    "# !pip install scikit-learn==1.5.1\n"
   ]
  },
  {
   "cell_type": "code",
   "execution_count": 3,
   "id": "d9225581",
   "metadata": {
    "execution": {
     "iopub.execute_input": "2025-09-01T06:57:51.343886Z",
     "iopub.status.busy": "2025-09-01T06:57:51.343466Z",
     "iopub.status.idle": "2025-09-01T06:57:55.074757Z",
     "shell.execute_reply": "2025-09-01T06:57:55.073806Z"
    },
    "papermill": {
     "duration": 3.739091,
     "end_time": "2025-09-01T06:57:55.076653",
     "exception": false,
     "start_time": "2025-09-01T06:57:51.337562",
     "status": "completed"
    },
    "tags": []
   },
   "outputs": [],
   "source": [
    "import sklearn\n",
    "from sklearn.datasets import make_circles"
   ]
  },
  {
   "cell_type": "code",
   "execution_count": 4,
   "id": "92f25e06",
   "metadata": {
    "execution": {
     "iopub.execute_input": "2025-09-01T06:57:55.086623Z",
     "iopub.status.busy": "2025-09-01T06:57:55.085992Z",
     "iopub.status.idle": "2025-09-01T06:57:55.113094Z",
     "shell.execute_reply": "2025-09-01T06:57:55.112235Z"
    },
    "papermill": {
     "duration": 0.03379,
     "end_time": "2025-09-01T06:57:55.114635",
     "exception": false,
     "start_time": "2025-09-01T06:57:55.080845",
     "status": "completed"
    },
    "tags": []
   },
   "outputs": [
    {
     "data": {
      "text/plain": [
       "(1000, 1000)"
      ]
     },
     "execution_count": 4,
     "metadata": {},
     "output_type": "execute_result"
    }
   ],
   "source": [
    "n_samples = 1000\n",
    "\n",
    "# create circles \n",
    "X, y = make_circles(n_samples, \n",
    "                    noise=0.03,\n",
    "                    random_state=42\n",
    "                   )\n",
    "len(X), len(y)"
   ]
  },
  {
   "cell_type": "code",
   "execution_count": 5,
   "id": "84d4ee71",
   "metadata": {
    "execution": {
     "iopub.execute_input": "2025-09-01T06:57:55.124806Z",
     "iopub.status.busy": "2025-09-01T06:57:55.124476Z",
     "iopub.status.idle": "2025-09-01T06:57:55.130593Z",
     "shell.execute_reply": "2025-09-01T06:57:55.129542Z"
    },
    "papermill": {
     "duration": 0.012736,
     "end_time": "2025-09-01T06:57:55.131913",
     "exception": false,
     "start_time": "2025-09-01T06:57:55.119177",
     "status": "completed"
    },
    "tags": []
   },
   "outputs": [
    {
     "name": "stdout",
     "output_type": "stream",
     "text": [
      "First 5 samples of X:\n",
      " [[ 0.75424625  0.23148074]\n",
      " [-0.75615888  0.15325888]\n",
      " [-0.81539193  0.17328203]\n",
      " [-0.39373073  0.69288277]\n",
      " [ 0.44220765 -0.89672343]]\n",
      "First 5 samples of y:\n",
      " [1 1 1 1 0]\n"
     ]
    }
   ],
   "source": [
    "print(f\"First 5 samples of X:\\n {X[:5]}\")\n",
    "print(f\"First 5 samples of y:\\n {y[:5]}\")"
   ]
  },
  {
   "cell_type": "code",
   "execution_count": null,
   "id": "e8ed6bce",
   "metadata": {
    "papermill": {
     "duration": 0.004021,
     "end_time": "2025-09-01T06:57:55.140073",
     "exception": false,
     "start_time": "2025-09-01T06:57:55.136052",
     "status": "completed"
    },
    "tags": []
   },
   "outputs": [],
   "source": []
  },
  {
   "cell_type": "code",
   "execution_count": null,
   "id": "54e2745f",
   "metadata": {
    "papermill": {
     "duration": 0.003844,
     "end_time": "2025-09-01T06:57:55.148577",
     "exception": false,
     "start_time": "2025-09-01T06:57:55.144733",
     "status": "completed"
    },
    "tags": []
   },
   "outputs": [],
   "source": []
  },
  {
   "cell_type": "code",
   "execution_count": null,
   "id": "dcaf5bc7",
   "metadata": {
    "papermill": {
     "duration": 0.006423,
     "end_time": "2025-09-01T06:57:55.159145",
     "exception": false,
     "start_time": "2025-09-01T06:57:55.152722",
     "status": "completed"
    },
    "tags": []
   },
   "outputs": [],
   "source": []
  },
  {
   "cell_type": "code",
   "execution_count": null,
   "id": "4d04a58a",
   "metadata": {
    "papermill": {
     "duration": 0.0038,
     "end_time": "2025-09-01T06:57:55.167074",
     "exception": false,
     "start_time": "2025-09-01T06:57:55.163274",
     "status": "completed"
    },
    "tags": []
   },
   "outputs": [],
   "source": []
  },
  {
   "cell_type": "code",
   "execution_count": null,
   "id": "64626030",
   "metadata": {
    "papermill": {
     "duration": 0.00393,
     "end_time": "2025-09-01T06:57:55.175043",
     "exception": false,
     "start_time": "2025-09-01T06:57:55.171113",
     "status": "completed"
    },
    "tags": []
   },
   "outputs": [],
   "source": []
  },
  {
   "cell_type": "code",
   "execution_count": null,
   "id": "052f039b",
   "metadata": {
    "papermill": {
     "duration": 0.003772,
     "end_time": "2025-09-01T06:57:55.182781",
     "exception": false,
     "start_time": "2025-09-01T06:57:55.179009",
     "status": "completed"
    },
    "tags": []
   },
   "outputs": [],
   "source": []
  },
  {
   "cell_type": "code",
   "execution_count": null,
   "id": "d904fe5f",
   "metadata": {
    "papermill": {
     "duration": 0.00384,
     "end_time": "2025-09-01T06:57:55.190685",
     "exception": false,
     "start_time": "2025-09-01T06:57:55.186845",
     "status": "completed"
    },
    "tags": []
   },
   "outputs": [],
   "source": []
  },
  {
   "cell_type": "code",
   "execution_count": null,
   "id": "746c36ec",
   "metadata": {
    "papermill": {
     "duration": 0.003868,
     "end_time": "2025-09-01T06:57:55.198539",
     "exception": false,
     "start_time": "2025-09-01T06:57:55.194671",
     "status": "completed"
    },
    "tags": []
   },
   "outputs": [],
   "source": []
  }
 ],
 "metadata": {
  "kaggle": {
   "accelerator": "none",
   "dataSources": [],
   "dockerImageVersionId": 31089,
   "isGpuEnabled": false,
   "isInternetEnabled": true,
   "language": "python",
   "sourceType": "notebook"
  },
  "kernelspec": {
   "display_name": "Python 3",
   "language": "python",
   "name": "python3"
  },
  "language_info": {
   "codemirror_mode": {
    "name": "ipython",
    "version": 3
   },
   "file_extension": ".py",
   "mimetype": "text/x-python",
   "name": "python",
   "nbconvert_exporter": "python",
   "pygments_lexer": "ipython3",
   "version": "3.11.13"
  },
  "papermill": {
   "default_parameters": {},
   "duration": 51.84272,
   "end_time": "2025-09-01T06:57:57.428854",
   "environment_variables": {},
   "exception": null,
   "input_path": "__notebook__.ipynb",
   "output_path": "__notebook__.ipynb",
   "parameters": {},
   "start_time": "2025-09-01T06:57:05.586134",
   "version": "2.6.0"
  }
 },
 "nbformat": 4,
 "nbformat_minor": 5
}
