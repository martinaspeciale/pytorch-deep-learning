{
 "cells": [
  {
   "cell_type": "markdown",
   "id": "7ecc7bcf",
   "metadata": {
    "papermill": {
     "duration": 0.008683,
     "end_time": "2025-09-01T09:10:53.173686",
     "exception": false,
     "start_time": "2025-09-01T09:10:53.165003",
     "status": "completed"
    },
    "tags": []
   },
   "source": [
    "## Neural Network classification with PyTorch"
   ]
  },
  {
   "cell_type": "code",
   "execution_count": 1,
   "id": "113b256c",
   "metadata": {
    "execution": {
     "iopub.execute_input": "2025-09-01T09:10:53.190894Z",
     "iopub.status.busy": "2025-09-01T09:10:53.190435Z",
     "iopub.status.idle": "2025-09-01T09:10:59.259311Z",
     "shell.execute_reply": "2025-09-01T09:10:59.258016Z"
    },
    "papermill": {
     "duration": 6.080385,
     "end_time": "2025-09-01T09:10:59.261949",
     "exception": false,
     "start_time": "2025-09-01T09:10:53.181564",
     "status": "completed"
    },
    "tags": []
   },
   "outputs": [],
   "source": [
    "import torch \n",
    "from torch import nn"
   ]
  },
  {
   "cell_type": "markdown",
   "id": "cc114c31",
   "metadata": {
    "papermill": {
     "duration": 0.007389,
     "end_time": "2025-09-01T09:10:59.277384",
     "exception": false,
     "start_time": "2025-09-01T09:10:59.269995",
     "status": "completed"
    },
    "tags": []
   },
   "source": [
    "## 1. Make classification data and get it ready"
   ]
  },
  {
   "cell_type": "code",
   "execution_count": 2,
   "id": "04e40d2a",
   "metadata": {
    "execution": {
     "iopub.execute_input": "2025-09-01T09:10:59.297963Z",
     "iopub.status.busy": "2025-09-01T09:10:59.297440Z",
     "iopub.status.idle": "2025-09-01T09:11:40.254433Z",
     "shell.execute_reply": "2025-09-01T09:11:40.252703Z"
    },
    "papermill": {
     "duration": 40.969031,
     "end_time": "2025-09-01T09:11:40.257040",
     "exception": false,
     "start_time": "2025-09-01T09:10:59.288009",
     "status": "completed"
    },
    "tags": []
   },
   "outputs": [
    {
     "name": "stdout",
     "output_type": "stream",
     "text": [
      "Requirement already satisfied: pip in /usr/local/lib/python3.11/dist-packages (24.1.2)\r\n",
      "Collecting pip\r\n",
      "  Downloading pip-25.2-py3-none-any.whl.metadata (4.7 kB)\r\n",
      "Requirement already satisfied: setuptools in /usr/local/lib/python3.11/dist-packages (75.2.0)\r\n",
      "Collecting setuptools\r\n",
      "  Downloading setuptools-80.9.0-py3-none-any.whl.metadata (6.6 kB)\r\n",
      "Requirement already satisfied: wheel in /usr/local/lib/python3.11/dist-packages (0.45.1)\r\n",
      "Downloading pip-25.2-py3-none-any.whl (1.8 MB)\r\n",
      "\u001b[2K   \u001b[90m━━━━━━━━━━━━━━━━━━━━━━━━━━━━━━━━━━━━━━━━\u001b[0m \u001b[32m1.8/1.8 MB\u001b[0m \u001b[31m19.0 MB/s\u001b[0m eta \u001b[36m0:00:00\u001b[0m\r\n",
      "\u001b[?25hDownloading setuptools-80.9.0-py3-none-any.whl (1.2 MB)\r\n",
      "\u001b[2K   \u001b[90m━━━━━━━━━━━━━━━━━━━━━━━━━━━━━━━━━━━━━━━━\u001b[0m \u001b[32m1.2/1.2 MB\u001b[0m \u001b[31m37.1 MB/s\u001b[0m eta \u001b[36m0:00:00\u001b[0m\r\n",
      "\u001b[?25hInstalling collected packages: setuptools, pip\r\n",
      "  Attempting uninstall: setuptools\r\n",
      "    Found existing installation: setuptools 75.2.0\r\n",
      "    Uninstalling setuptools-75.2.0:\r\n",
      "      Successfully uninstalled setuptools-75.2.0\r\n",
      "  Attempting uninstall: pip\r\n",
      "    Found existing installation: pip 24.1.2\r\n",
      "    Uninstalling pip-24.1.2:\r\n",
      "      Successfully uninstalled pip-24.1.2\r\n",
      "\u001b[31mERROR: pip's dependency resolver does not currently take into account all the packages that are installed. This behaviour is the source of the following dependency conflicts.\r\n",
      "bigframes 2.8.0 requires google-cloud-bigquery-storage<3.0.0,>=2.30.0, which is not installed.\r\n",
      "pandas-gbq 0.29.1 requires google-api-core<3.0.0,>=2.10.2, but you have google-api-core 1.34.1 which is incompatible.\r\n",
      "thinc 8.3.6 requires numpy<3.0.0,>=2.0.0, but you have numpy 1.26.4 which is incompatible.\r\n",
      "bigframes 2.8.0 requires google-cloud-bigquery[bqstorage,pandas]>=3.31.0, but you have google-cloud-bigquery 3.25.0 which is incompatible.\r\n",
      "bigframes 2.8.0 requires rich<14,>=12.4.4, but you have rich 14.0.0 which is incompatible.\u001b[0m\u001b[31m\r\n",
      "\u001b[0mSuccessfully installed pip-25.2 setuptools-80.9.0\r\n",
      "Requirement already satisfied: scikit-learn in /usr/local/lib/python3.11/dist-packages (1.2.2)\r\n",
      "Collecting scikit-learn\r\n",
      "  Downloading scikit_learn-1.7.1-cp311-cp311-manylinux2014_x86_64.manylinux_2_17_x86_64.whl.metadata (11 kB)\r\n",
      "Requirement already satisfied: numpy>=1.22.0 in /usr/local/lib/python3.11/dist-packages (from scikit-learn) (1.26.4)\r\n",
      "Requirement already satisfied: scipy>=1.8.0 in /usr/local/lib/python3.11/dist-packages (from scikit-learn) (1.15.3)\r\n",
      "Requirement already satisfied: joblib>=1.2.0 in /usr/local/lib/python3.11/dist-packages (from scikit-learn) (1.5.1)\r\n",
      "Requirement already satisfied: threadpoolctl>=3.1.0 in /usr/local/lib/python3.11/dist-packages (from scikit-learn) (3.6.0)\r\n",
      "Requirement already satisfied: mkl_fft in /usr/local/lib/python3.11/dist-packages (from numpy>=1.22.0->scikit-learn) (1.3.8)\r\n",
      "Requirement already satisfied: mkl_random in /usr/local/lib/python3.11/dist-packages (from numpy>=1.22.0->scikit-learn) (1.2.4)\r\n",
      "Requirement already satisfied: mkl_umath in /usr/local/lib/python3.11/dist-packages (from numpy>=1.22.0->scikit-learn) (0.1.1)\r\n",
      "Requirement already satisfied: mkl in /usr/local/lib/python3.11/dist-packages (from numpy>=1.22.0->scikit-learn) (2025.2.0)\r\n",
      "Requirement already satisfied: tbb4py in /usr/local/lib/python3.11/dist-packages (from numpy>=1.22.0->scikit-learn) (2022.2.0)\r\n",
      "Requirement already satisfied: mkl-service in /usr/local/lib/python3.11/dist-packages (from numpy>=1.22.0->scikit-learn) (2.4.1)\r\n",
      "Requirement already satisfied: intel-openmp<2026,>=2024 in /usr/local/lib/python3.11/dist-packages (from mkl->numpy>=1.22.0->scikit-learn) (2024.2.0)\r\n",
      "Requirement already satisfied: tbb==2022.* in /usr/local/lib/python3.11/dist-packages (from mkl->numpy>=1.22.0->scikit-learn) (2022.2.0)\r\n",
      "Requirement already satisfied: intel-cmplr-lib-ur==2024.2.0 in /usr/local/lib/python3.11/dist-packages (from intel-openmp<2026,>=2024->mkl->numpy>=1.22.0->scikit-learn) (2024.2.0)\r\n",
      "Requirement already satisfied: tcmlib==1.* in /usr/local/lib/python3.11/dist-packages (from tbb==2022.*->mkl->numpy>=1.22.0->scikit-learn) (1.4.0)\r\n",
      "Requirement already satisfied: intel-cmplr-lib-rt in /usr/local/lib/python3.11/dist-packages (from mkl_umath->numpy>=1.22.0->scikit-learn) (2024.2.0)\r\n",
      "Downloading scikit_learn-1.7.1-cp311-cp311-manylinux2014_x86_64.manylinux_2_17_x86_64.whl (9.7 MB)\r\n",
      "\u001b[2K   \u001b[90m━━━━━━━━━━━━━━━━━━━━━━━━━━━━━━━━━━━━━━━━\u001b[0m \u001b[32m9.7/9.7 MB\u001b[0m \u001b[31m77.1 MB/s\u001b[0m  \u001b[33m0:00:00\u001b[0m\r\n",
      "\u001b[?25hInstalling collected packages: scikit-learn\r\n",
      "  Attempting uninstall: scikit-learn\r\n",
      "    Found existing installation: scikit-learn 1.2.2\r\n",
      "    Uninstalling scikit-learn-1.2.2:\r\n",
      "      Successfully uninstalled scikit-learn-1.2.2\r\n",
      "\u001b[31mERROR: pip's dependency resolver does not currently take into account all the packages that are installed. This behaviour is the source of the following dependency conflicts.\r\n",
      "category-encoders 2.7.0 requires scikit-learn<1.6.0,>=1.0.0, but you have scikit-learn 1.7.1 which is incompatible.\r\n",
      "cesium 0.12.4 requires numpy<3.0,>=2.0, but you have numpy 1.26.4 which is incompatible.\r\n",
      "sklearn-compat 0.1.3 requires scikit-learn<1.7,>=1.2, but you have scikit-learn 1.7.1 which is incompatible.\u001b[0m\u001b[31m\r\n",
      "\u001b[0mSuccessfully installed scikit-learn-1.7.1\r\n"
     ]
    }
   ],
   "source": [
    "!pip install -U pip setuptools wheel\n",
    "!pip install -U scikit-learn\n",
    "# or pin a version:\n",
    "# !pip install scikit-learn==1.5.1\n"
   ]
  },
  {
   "cell_type": "code",
   "execution_count": 3,
   "id": "d6fec03d",
   "metadata": {
    "execution": {
     "iopub.execute_input": "2025-09-01T09:11:40.279939Z",
     "iopub.status.busy": "2025-09-01T09:11:40.279398Z",
     "iopub.status.idle": "2025-09-01T09:11:44.279192Z",
     "shell.execute_reply": "2025-09-01T09:11:44.277649Z"
    },
    "papermill": {
     "duration": 4.012813,
     "end_time": "2025-09-01T09:11:44.281320",
     "exception": false,
     "start_time": "2025-09-01T09:11:40.268507",
     "status": "completed"
    },
    "tags": []
   },
   "outputs": [],
   "source": [
    "import sklearn\n",
    "from sklearn.datasets import make_circles"
   ]
  },
  {
   "cell_type": "code",
   "execution_count": 4,
   "id": "4a12291e",
   "metadata": {
    "execution": {
     "iopub.execute_input": "2025-09-01T09:11:44.303098Z",
     "iopub.status.busy": "2025-09-01T09:11:44.302558Z",
     "iopub.status.idle": "2025-09-01T09:11:44.324149Z",
     "shell.execute_reply": "2025-09-01T09:11:44.322789Z"
    },
    "papermill": {
     "duration": 0.03462,
     "end_time": "2025-09-01T09:11:44.326280",
     "exception": false,
     "start_time": "2025-09-01T09:11:44.291660",
     "status": "completed"
    },
    "tags": []
   },
   "outputs": [
    {
     "data": {
      "text/plain": [
       "(1000, 1000)"
      ]
     },
     "execution_count": 4,
     "metadata": {},
     "output_type": "execute_result"
    }
   ],
   "source": [
    "n_samples = 1000\n",
    "\n",
    "# create circles \n",
    "X, y = make_circles(n_samples, \n",
    "                    noise=0.03,\n",
    "                    random_state=42\n",
    "                   )\n",
    "len(X), len(y)"
   ]
  },
  {
   "cell_type": "code",
   "execution_count": 5,
   "id": "6ce7b947",
   "metadata": {
    "execution": {
     "iopub.execute_input": "2025-09-01T09:11:44.347649Z",
     "iopub.status.busy": "2025-09-01T09:11:44.347303Z",
     "iopub.status.idle": "2025-09-01T09:11:44.353392Z",
     "shell.execute_reply": "2025-09-01T09:11:44.352293Z"
    },
    "papermill": {
     "duration": 0.018364,
     "end_time": "2025-09-01T09:11:44.355239",
     "exception": false,
     "start_time": "2025-09-01T09:11:44.336875",
     "status": "completed"
    },
    "tags": []
   },
   "outputs": [
    {
     "name": "stdout",
     "output_type": "stream",
     "text": [
      "First 5 samples of X:\n",
      " [[ 0.75424625  0.23148074]\n",
      " [-0.75615888  0.15325888]\n",
      " [-0.81539193  0.17328203]\n",
      " [-0.39373073  0.69288277]\n",
      " [ 0.44220765 -0.89672343]]\n",
      "First 5 samples of y:\n",
      " [1 1 1 1 0]\n"
     ]
    }
   ],
   "source": [
    "print(f\"First 5 samples of X:\\n {X[:5]}\")\n",
    "print(f\"First 5 samples of y:\\n {y[:5]}\")"
   ]
  },
  {
   "cell_type": "code",
   "execution_count": 6,
   "id": "24ce7da7",
   "metadata": {
    "execution": {
     "iopub.execute_input": "2025-09-01T09:11:44.377142Z",
     "iopub.status.busy": "2025-09-01T09:11:44.376778Z",
     "iopub.status.idle": "2025-09-01T09:11:44.411611Z",
     "shell.execute_reply": "2025-09-01T09:11:44.410110Z"
    },
    "papermill": {
     "duration": 0.048489,
     "end_time": "2025-09-01T09:11:44.413377",
     "exception": false,
     "start_time": "2025-09-01T09:11:44.364888",
     "status": "completed"
    },
    "tags": []
   },
   "outputs": [
    {
     "data": {
      "text/html": [
       "<div>\n",
       "<style scoped>\n",
       "    .dataframe tbody tr th:only-of-type {\n",
       "        vertical-align: middle;\n",
       "    }\n",
       "\n",
       "    .dataframe tbody tr th {\n",
       "        vertical-align: top;\n",
       "    }\n",
       "\n",
       "    .dataframe thead th {\n",
       "        text-align: right;\n",
       "    }\n",
       "</style>\n",
       "<table border=\"1\" class=\"dataframe\">\n",
       "  <thead>\n",
       "    <tr style=\"text-align: right;\">\n",
       "      <th></th>\n",
       "      <th>X1</th>\n",
       "      <th>X2</th>\n",
       "      <th>label</th>\n",
       "    </tr>\n",
       "  </thead>\n",
       "  <tbody>\n",
       "    <tr>\n",
       "      <th>0</th>\n",
       "      <td>0.754246</td>\n",
       "      <td>0.231481</td>\n",
       "      <td>1</td>\n",
       "    </tr>\n",
       "    <tr>\n",
       "      <th>1</th>\n",
       "      <td>-0.756159</td>\n",
       "      <td>0.153259</td>\n",
       "      <td>1</td>\n",
       "    </tr>\n",
       "    <tr>\n",
       "      <th>2</th>\n",
       "      <td>-0.815392</td>\n",
       "      <td>0.173282</td>\n",
       "      <td>1</td>\n",
       "    </tr>\n",
       "    <tr>\n",
       "      <th>3</th>\n",
       "      <td>-0.393731</td>\n",
       "      <td>0.692883</td>\n",
       "      <td>1</td>\n",
       "    </tr>\n",
       "    <tr>\n",
       "      <th>4</th>\n",
       "      <td>0.442208</td>\n",
       "      <td>-0.896723</td>\n",
       "      <td>0</td>\n",
       "    </tr>\n",
       "    <tr>\n",
       "      <th>5</th>\n",
       "      <td>-0.479646</td>\n",
       "      <td>0.676435</td>\n",
       "      <td>1</td>\n",
       "    </tr>\n",
       "    <tr>\n",
       "      <th>6</th>\n",
       "      <td>-0.013648</td>\n",
       "      <td>0.803349</td>\n",
       "      <td>1</td>\n",
       "    </tr>\n",
       "    <tr>\n",
       "      <th>7</th>\n",
       "      <td>0.771513</td>\n",
       "      <td>0.147760</td>\n",
       "      <td>1</td>\n",
       "    </tr>\n",
       "    <tr>\n",
       "      <th>8</th>\n",
       "      <td>-0.169322</td>\n",
       "      <td>-0.793456</td>\n",
       "      <td>1</td>\n",
       "    </tr>\n",
       "    <tr>\n",
       "      <th>9</th>\n",
       "      <td>-0.121486</td>\n",
       "      <td>1.021509</td>\n",
       "      <td>0</td>\n",
       "    </tr>\n",
       "  </tbody>\n",
       "</table>\n",
       "</div>"
      ],
      "text/plain": [
       "         X1        X2  label\n",
       "0  0.754246  0.231481      1\n",
       "1 -0.756159  0.153259      1\n",
       "2 -0.815392  0.173282      1\n",
       "3 -0.393731  0.692883      1\n",
       "4  0.442208 -0.896723      0\n",
       "5 -0.479646  0.676435      1\n",
       "6 -0.013648  0.803349      1\n",
       "7  0.771513  0.147760      1\n",
       "8 -0.169322 -0.793456      1\n",
       "9 -0.121486  1.021509      0"
      ]
     },
     "execution_count": 6,
     "metadata": {},
     "output_type": "execute_result"
    }
   ],
   "source": [
    "# make DataFrame of circle data \n",
    "import pandas as pd \n",
    "circles = pd.DataFrame({\"X1\": X[:,0],\n",
    "                        \"X2\": X[:,1],\n",
    "                        \"label\": y})\n",
    "circles.head(10)"
   ]
  },
  {
   "cell_type": "code",
   "execution_count": 7,
   "id": "f2861286",
   "metadata": {
    "execution": {
     "iopub.execute_input": "2025-09-01T09:11:44.440886Z",
     "iopub.status.busy": "2025-09-01T09:11:44.440501Z",
     "iopub.status.idle": "2025-09-01T09:11:44.813878Z",
     "shell.execute_reply": "2025-09-01T09:11:44.811820Z"
    },
    "papermill": {
     "duration": 0.391134,
     "end_time": "2025-09-01T09:11:44.815981",
     "exception": false,
     "start_time": "2025-09-01T09:11:44.424847",
     "status": "completed"
    },
    "tags": []
   },
   "outputs": [
    {
     "data": {
      "text/plain": [
       "<matplotlib.collections.PathCollection at 0x799488667290>"
      ]
     },
     "execution_count": 7,
     "metadata": {},
     "output_type": "execute_result"
    },
    {
     "data": {
      "image/png": "[encoded data removed]",
      "text/plain": [
       "<Figure size 640x480 with 1 Axes>"
      ]
     },
     "metadata": {},
     "output_type": "display_data"
    }
   ],
   "source": [
    "# visualize \n",
    "import matplotlib.pyplot as plt \n",
    "\n",
    "plt.scatter(x=X[:,0], \n",
    "            y=X[:,1],\n",
    "            c=y,\n",
    "            cmap=plt.cm.RdYlBu\n",
    "           )"
   ]
  },
  {
   "cell_type": "markdown",
   "id": "d8c13efd",
   "metadata": {
    "papermill": {
     "duration": 0.011142,
     "end_time": "2025-09-01T09:11:44.839690",
     "exception": false,
     "start_time": "2025-09-01T09:11:44.828548",
     "status": "completed"
    },
    "tags": []
   },
   "source": [
    "### 1.1 Check input and output shapes"
   ]
  },
  {
   "cell_type": "code",
   "execution_count": 8,
   "id": "7bdff068",
   "metadata": {
    "execution": {
     "iopub.execute_input": "2025-09-01T09:11:44.864599Z",
     "iopub.status.busy": "2025-09-01T09:11:44.864095Z",
     "iopub.status.idle": "2025-09-01T09:11:44.871582Z",
     "shell.execute_reply": "2025-09-01T09:11:44.870614Z"
    },
    "papermill": {
     "duration": 0.023153,
     "end_time": "2025-09-01T09:11:44.873520",
     "exception": false,
     "start_time": "2025-09-01T09:11:44.850367",
     "status": "completed"
    },
    "tags": []
   },
   "outputs": [
    {
     "data": {
      "text/plain": [
       "((1000, 2), (1000,))"
      ]
     },
     "execution_count": 8,
     "metadata": {},
     "output_type": "execute_result"
    }
   ],
   "source": [
    "X.shape, y.shape"
   ]
  },
  {
   "cell_type": "code",
   "execution_count": 9,
   "id": "bc3286a7",
   "metadata": {
    "execution": {
     "iopub.execute_input": "2025-09-01T09:11:44.897263Z",
     "iopub.status.busy": "2025-09-01T09:11:44.896863Z",
     "iopub.status.idle": "2025-09-01T09:11:44.903958Z",
     "shell.execute_reply": "2025-09-01T09:11:44.902521Z"
    },
    "papermill": {
     "duration": 0.021134,
     "end_time": "2025-09-01T09:11:44.905748",
     "exception": false,
     "start_time": "2025-09-01T09:11:44.884614",
     "status": "completed"
    },
    "tags": []
   },
   "outputs": [
    {
     "name": "stdout",
     "output_type": "stream",
     "text": [
      "Values for one sample of X: [0.75424625 0.23148074] and the same for y: 1\n",
      "Shapes for one sample of X: (2,) and the same for y: ()\n"
     ]
    }
   ],
   "source": [
    "X_sample = X[0]\n",
    "y_sample = y[0]\n",
    "\n",
    "print(f\"Values for one sample of X: {X_sample} and the same for y: {y_sample}\")\n",
    "print(f\"Shapes for one sample of X: {X_sample.shape} and the same for y: {y_sample.shape}\")"
   ]
  },
  {
   "cell_type": "markdown",
   "id": "6e261066",
   "metadata": {
    "papermill": {
     "duration": 0.01095,
     "end_time": "2025-09-01T09:11:44.927990",
     "exception": false,
     "start_time": "2025-09-01T09:11:44.917040",
     "status": "completed"
    },
    "tags": []
   },
   "source": [
    "### 1.2 Turn data into tensors and create train and test splits"
   ]
  },
  {
   "cell_type": "code",
   "execution_count": 10,
   "id": "a7bb56ab",
   "metadata": {
    "execution": {
     "iopub.execute_input": "2025-09-01T09:11:44.952928Z",
     "iopub.status.busy": "2025-09-01T09:11:44.952558Z",
     "iopub.status.idle": "2025-09-01T09:11:44.959922Z",
     "shell.execute_reply": "2025-09-01T09:11:44.958993Z"
    },
    "papermill": {
     "duration": 0.021809,
     "end_time": "2025-09-01T09:11:44.961615",
     "exception": false,
     "start_time": "2025-09-01T09:11:44.939806",
     "status": "completed"
    },
    "tags": []
   },
   "outputs": [
    {
     "data": {
      "text/plain": [
       "'2.6.0+cu124'"
      ]
     },
     "execution_count": 10,
     "metadata": {},
     "output_type": "execute_result"
    }
   ],
   "source": [
    "import torch \n",
    "torch.__version__"
   ]
  },
  {
   "cell_type": "code",
   "execution_count": 11,
   "id": "3d77cfe9",
   "metadata": {
    "execution": {
     "iopub.execute_input": "2025-09-01T09:11:44.986304Z",
     "iopub.status.busy": "2025-09-01T09:11:44.985964Z",
     "iopub.status.idle": "2025-09-01T09:11:45.037477Z",
     "shell.execute_reply": "2025-09-01T09:11:45.036124Z"
    },
    "papermill": {
     "duration": 0.066086,
     "end_time": "2025-09-01T09:11:45.039313",
     "exception": false,
     "start_time": "2025-09-01T09:11:44.973227",
     "status": "completed"
    },
    "tags": []
   },
   "outputs": [],
   "source": [
    "# turn data into tensors\n",
    "X = torch.from_numpy(X).type(torch.float)\n",
    "y = torch.from_numpy(y).type(torch.float)"
   ]
  },
  {
   "cell_type": "code",
   "execution_count": 12,
   "id": "3a079bb5",
   "metadata": {
    "execution": {
     "iopub.execute_input": "2025-09-01T09:11:45.140506Z",
     "iopub.status.busy": "2025-09-01T09:11:45.140065Z",
     "iopub.status.idle": "2025-09-01T09:11:45.249614Z",
     "shell.execute_reply": "2025-09-01T09:11:45.248697Z"
    },
    "papermill": {
     "duration": 0.124532,
     "end_time": "2025-09-01T09:11:45.251401",
     "exception": false,
     "start_time": "2025-09-01T09:11:45.126869",
     "status": "completed"
    },
    "tags": []
   },
   "outputs": [
    {
     "data": {
      "text/plain": [
       "(tensor([[ 0.7542,  0.2315],\n",
       "         [-0.7562,  0.1533],\n",
       "         [-0.8154,  0.1733],\n",
       "         [-0.3937,  0.6929],\n",
       "         [ 0.4422, -0.8967]]),\n",
       " tensor([1., 1., 1., 1., 0.]))"
      ]
     },
     "execution_count": 12,
     "metadata": {},
     "output_type": "execute_result"
    }
   ],
   "source": [
    "X[:5], y[:5]"
   ]
  },
  {
   "cell_type": "code",
   "execution_count": 13,
   "id": "16b8280b",
   "metadata": {
    "execution": {
     "iopub.execute_input": "2025-09-01T09:11:45.278151Z",
     "iopub.status.busy": "2025-09-01T09:11:45.277686Z",
     "iopub.status.idle": "2025-09-01T09:11:45.328098Z",
     "shell.execute_reply": "2025-09-01T09:11:45.327125Z"
    },
    "papermill": {
     "duration": 0.065317,
     "end_time": "2025-09-01T09:11:45.329661",
     "exception": false,
     "start_time": "2025-09-01T09:11:45.264344",
     "status": "completed"
    },
    "tags": []
   },
   "outputs": [
    {
     "data": {
      "text/plain": [
       "(800, 200, 800, 200)"
      ]
     },
     "execution_count": 13,
     "metadata": {},
     "output_type": "execute_result"
    }
   ],
   "source": [
    "# split data into training and test set\n",
    "from sklearn.model_selection import train_test_split \n",
    "\n",
    "X_train, X_test, y_train, y_test = train_test_split(X,\n",
    "                                                    y,\n",
    "                                                    test_size=0.2,\n",
    "                                                    random_state=42)\n",
    "len(X_train), len(X_test), len(y_train), len(y_test)"
   ]
  },
  {
   "cell_type": "markdown",
   "id": "2e301e01",
   "metadata": {
    "papermill": {
     "duration": 0.012336,
     "end_time": "2025-09-01T09:11:45.353940",
     "exception": false,
     "start_time": "2025-09-01T09:11:45.341604",
     "status": "completed"
    },
    "tags": []
   },
   "source": [
    "## 2. Building a model\n",
    "To classify our blue and red dots\n",
    "1. setup device sgnostic code so our code will run on an accelerator (GPU) if there is one\n",
    "2. construct a model (by subclassing `nn.Module`)\n",
    "3. define a loss function and optimizer\n",
    "4. create a training and test loop"
   ]
  },
  {
   "cell_type": "code",
   "execution_count": 14,
   "id": "afca5352",
   "metadata": {
    "execution": {
     "iopub.execute_input": "2025-09-01T09:11:45.378452Z",
     "iopub.status.busy": "2025-09-01T09:11:45.378080Z",
     "iopub.status.idle": "2025-09-01T09:11:45.390116Z",
     "shell.execute_reply": "2025-09-01T09:11:45.389025Z"
    },
    "papermill": {
     "duration": 0.026456,
     "end_time": "2025-09-01T09:11:45.391850",
     "exception": false,
     "start_time": "2025-09-01T09:11:45.365394",
     "status": "completed"
    },
    "tags": []
   },
   "outputs": [
    {
     "data": {
      "text/plain": [
       "'cpu'"
      ]
     },
     "execution_count": 14,
     "metadata": {},
     "output_type": "execute_result"
    }
   ],
   "source": [
    "import torch \n",
    "from torch import nn \n",
    "\n",
    "device = \"cuda\" if torch.cuda.is_available() else \"cpu\"\n",
    "device"
   ]
  },
  {
   "cell_type": "markdown",
   "id": "1e731ae3",
   "metadata": {
    "papermill": {
     "duration": 0.012444,
     "end_time": "2025-09-01T09:11:45.417538",
     "exception": false,
     "start_time": "2025-09-01T09:11:45.405094",
     "status": "completed"
    },
    "tags": []
   },
   "source": [
    "we've setup device agnostic code, now let's create a model that:\n",
    "1. subclasses `nn.Module`\n",
    "2. Create 2 `nn.Linear()`layers that are capable of handling the shapes of our data\n",
    "3. defines a `forward()` method that outlines the forward pass\n",
    "5. instantiate an instance of our model class and send it to the target `device`"
   ]
  },
  {
   "cell_type": "code",
   "execution_count": 15,
   "id": "ae0a1ca1",
   "metadata": {
    "execution": {
     "iopub.execute_input": "2025-09-01T09:11:45.445089Z",
     "iopub.status.busy": "2025-09-01T09:11:45.444703Z",
     "iopub.status.idle": "2025-09-01T09:11:45.458862Z",
     "shell.execute_reply": "2025-09-01T09:11:45.458000Z"
    },
    "papermill": {
     "duration": 0.031075,
     "end_time": "2025-09-01T09:11:45.460887",
     "exception": false,
     "start_time": "2025-09-01T09:11:45.429812",
     "status": "completed"
    },
    "tags": []
   },
   "outputs": [
    {
     "data": {
      "text/plain": [
       "CircleModelV0(\n",
       "  (layer_1): Linear(in_features=2, out_features=5, bias=True)\n",
       "  (layer_2): Linear(in_features=5, out_features=1, bias=True)\n",
       ")"
      ]
     },
     "execution_count": 15,
     "metadata": {},
     "output_type": "execute_result"
    }
   ],
   "source": [
    "class CircleModelV0(nn.Module):\n",
    "    def __init__(self):\n",
    "        super().__init__()\n",
    "        # 2. create 2 nn.Linear layers capable of handling the shapes of our data\n",
    "        self.layer_1 = nn.Linear(\n",
    "            in_features = 2, \n",
    "            out_features = 5 \n",
    "        )\n",
    "        self.layer_2 = nn.Linear(\n",
    "            in_features = 5, # takes in 5 features from previous layer\n",
    "            out_features = 1 # output layer for binary classification\n",
    "        )\n",
    "        # self.two_linear_layers = nn.Sequential(\n",
    "        #    nn.Linear(in_features=2, out_features=5),\n",
    "        #    nn.Linear(in_features=5, out_features=1)\n",
    "        # )\n",
    "    \n",
    "    # 3. define a forward() method that outlines forward pass\n",
    "    def forward(self, x):\n",
    "        # x(input) -> layer_1 -> layer_2 -> output\n",
    "        return self.layer_2(self.layer_1(x))\n",
    "        # return two_linear_layers(x)\n",
    "\n",
    "\n",
    "\n",
    "# 4. instantiate an instance of our model class and send it to the target device \n",
    "model_0 = CircleModelV0().to(device)\n",
    "model_0"
   ]
  },
  {
   "cell_type": "code",
   "execution_count": 16,
   "id": "e6d5f1c3",
   "metadata": {
    "execution": {
     "iopub.execute_input": "2025-09-01T09:11:45.487277Z",
     "iopub.status.busy": "2025-09-01T09:11:45.486939Z",
     "iopub.status.idle": "2025-09-01T09:11:45.493374Z",
     "shell.execute_reply": "2025-09-01T09:11:45.492463Z"
    },
    "papermill": {
     "duration": 0.021372,
     "end_time": "2025-09-01T09:11:45.495196",
     "exception": false,
     "start_time": "2025-09-01T09:11:45.473824",
     "status": "completed"
    },
    "tags": []
   },
   "outputs": [
    {
     "data": {
      "text/plain": [
       "device(type='cpu')"
      ]
     },
     "execution_count": 16,
     "metadata": {},
     "output_type": "execute_result"
    }
   ],
   "source": [
    "next(model_0.parameters()).device"
   ]
  },
  {
   "cell_type": "code",
   "execution_count": 17,
   "id": "12df0cd4",
   "metadata": {
    "execution": {
     "iopub.execute_input": "2025-09-01T09:11:45.521516Z",
     "iopub.status.busy": "2025-09-01T09:11:45.520975Z",
     "iopub.status.idle": "2025-09-01T09:11:45.531101Z",
     "shell.execute_reply": "2025-09-01T09:11:45.529999Z"
    },
    "papermill": {
     "duration": 0.02523,
     "end_time": "2025-09-01T09:11:45.533039",
     "exception": false,
     "start_time": "2025-09-01T09:11:45.507809",
     "status": "completed"
    },
    "tags": []
   },
   "outputs": [
    {
     "data": {
      "text/plain": [
       "Sequential(\n",
       "  (0): Linear(in_features=2, out_features=5, bias=True)\n",
       "  (1): Linear(in_features=5, out_features=1, bias=True)\n",
       ")"
      ]
     },
     "execution_count": 17,
     "metadata": {},
     "output_type": "execute_result"
    }
   ],
   "source": [
    "# let's replicate the model above using nn.Sequential\n",
    "model_0 = nn.Sequential(\n",
    "    nn.Linear(in_features=2, out_features=5),\n",
    "    nn.Linear(in_features=5, out_features=1)\n",
    ").to(device)\n",
    "\n",
    "model_0"
   ]
  },
  {
   "cell_type": "code",
   "execution_count": 18,
   "id": "1ea55977",
   "metadata": {
    "execution": {
     "iopub.execute_input": "2025-09-01T09:11:45.558739Z",
     "iopub.status.busy": "2025-09-01T09:11:45.558356Z",
     "iopub.status.idle": "2025-09-01T09:11:45.568042Z",
     "shell.execute_reply": "2025-09-01T09:11:45.567158Z"
    },
    "papermill": {
     "duration": 0.024864,
     "end_time": "2025-09-01T09:11:45.569835",
     "exception": false,
     "start_time": "2025-09-01T09:11:45.544971",
     "status": "completed"
    },
    "tags": []
   },
   "outputs": [
    {
     "data": {
      "text/plain": [
       "OrderedDict([('0.weight',\n",
       "              tensor([[ 0.3884,  0.4883],\n",
       "                      [ 0.3953,  0.0841],\n",
       "                      [-0.1418, -0.1869],\n",
       "                      [-0.1748,  0.4755],\n",
       "                      [ 0.4614, -0.0980]])),\n",
       "             ('0.bias', tensor([-0.3194,  0.6491, -0.1966, -0.6238, -0.1572])),\n",
       "             ('1.weight',\n",
       "              tensor([[-0.0975, -0.0008,  0.1529, -0.1992,  0.0287]])),\n",
       "             ('1.bias', tensor([0.3379]))])"
      ]
     },
     "execution_count": 18,
     "metadata": {},
     "output_type": "execute_result"
    }
   ],
   "source": [
    "model_0.state_dict()"
   ]
  },
  {
   "cell_type": "markdown",
   "id": "17ab8fa7",
   "metadata": {
    "papermill": {
     "duration": 0.011733,
     "end_time": "2025-09-01T09:11:45.593503",
     "exception": false,
     "start_time": "2025-09-01T09:11:45.581770",
     "status": "completed"
    },
    "tags": []
   },
   "source": [
    "### 2.1 Setup loss function and optimizer \n",
    "\n",
    "Which loss function or optimizer should you use? This is problem specific \n",
    "\n",
    "* For example for regression we might want MAE or MSE \n",
    "* For classification we might want binary cross entropy or categorical cross entropy\n",
    "* For optimizers, two of the most common are Adam or SGD\n",
    "* For the loss function we're going to use `torch.nn.BECWithLositsLoss`\n",
    "    * **Logit** : the layer that feeds in to softmax"
   ]
  },
  {
   "cell_type": "code",
   "execution_count": 19,
   "id": "a766a058",
   "metadata": {
    "execution": {
     "iopub.execute_input": "2025-09-01T09:11:45.619131Z",
     "iopub.status.busy": "2025-09-01T09:11:45.618788Z",
     "iopub.status.idle": "2025-09-01T09:11:52.301795Z",
     "shell.execute_reply": "2025-09-01T09:11:52.300678Z"
    },
    "papermill": {
     "duration": 6.698259,
     "end_time": "2025-09-01T09:11:52.303874",
     "exception": false,
     "start_time": "2025-09-01T09:11:45.605615",
     "status": "completed"
    },
    "tags": []
   },
   "outputs": [],
   "source": [
    "# setup the loss function \n",
    "# loss_fn = nn.BCELoss() # BCELoss requires inputs to have gone through the sigmoid activation function prior to BCELoss\n",
    "loss_fn = nn.BCEWithLogitsLoss() # BCEWithLogitsLoss= with sigmoid activation function built-in \n",
    "\n",
    "# setup the optimizer \n",
    "optimizer = torch.optim.SGD(params=model_0.parameters(),\n",
    "                            lr=0.1)"
   ]
  },
  {
   "cell_type": "code",
   "execution_count": 20,
   "id": "df62711b",
   "metadata": {
    "execution": {
     "iopub.execute_input": "2025-09-01T09:11:52.329540Z",
     "iopub.status.busy": "2025-09-01T09:11:52.328917Z",
     "iopub.status.idle": "2025-09-01T09:11:52.334693Z",
     "shell.execute_reply": "2025-09-01T09:11:52.333607Z"
    },
    "papermill": {
     "duration": 0.020562,
     "end_time": "2025-09-01T09:11:52.336536",
     "exception": false,
     "start_time": "2025-09-01T09:11:52.315974",
     "status": "completed"
    },
    "tags": []
   },
   "outputs": [],
   "source": [
    "# calculate accuracy = out of 100 examples, what percentage does our classifier get right?\n",
    "def accuracy_fn(y_pred, y_true):\n",
    "    correct = torch.eq(y_pred, y_true).sum().item()\n",
    "    acc = correct/len(y_pred) * 100 \n",
    "    return acc "
   ]
  },
  {
   "cell_type": "markdown",
   "id": "5a2b95fe",
   "metadata": {
    "papermill": {
     "duration": 0.013047,
     "end_time": "2025-09-01T09:11:52.362921",
     "exception": false,
     "start_time": "2025-09-01T09:11:52.349874",
     "status": "completed"
    },
    "tags": []
   },
   "source": [
    "## 3. Train Model \n",
    "To train our model, we're going to need to build a training loop: \n",
    "1. Forward pass\n",
    "2. Calculate the loss\n",
    "3. Optimizer to zero\n",
    "4. Loss backward (backpropagation)\n",
    "5. Optimizer step (gradient descent)\n"
   ]
  },
  {
   "cell_type": "markdown",
   "id": "8579a3cd",
   "metadata": {
    "papermill": {
     "duration": 0.012957,
     "end_time": "2025-09-01T09:11:52.389545",
     "exception": false,
     "start_time": "2025-09-01T09:11:52.376588",
     "status": "completed"
    },
    "tags": []
   },
   "source": [
    "### 3.1 Going from raw logits -> prediction probabilities -> prediction labels \n",
    "\n",
    "* Our model outputs are going to be raw **logits**\n",
    "* We can convert these **logits** into **prediction probabilities** by passing them to some kind of activation function (e.g. sigmoid for binary classification and softmax for multiclass classification).\n",
    "* Then we can convert our model's prediction probabilities to **prediction labels**by either rounding them or taking the argmax()"
   ]
  },
  {
   "cell_type": "code",
   "execution_count": 21,
   "id": "451bed8e",
   "metadata": {
    "execution": {
     "iopub.execute_input": "2025-09-01T09:11:52.417841Z",
     "iopub.status.busy": "2025-09-01T09:11:52.417439Z",
     "iopub.status.idle": "2025-09-01T09:11:52.441541Z",
     "shell.execute_reply": "2025-09-01T09:11:52.440609Z"
    },
    "papermill": {
     "duration": 0.040006,
     "end_time": "2025-09-01T09:11:52.443121",
     "exception": false,
     "start_time": "2025-09-01T09:11:52.403115",
     "status": "completed"
    },
    "tags": []
   },
   "outputs": [
    {
     "data": {
      "text/plain": [
       "tensor([[0.3440],\n",
       "        [0.2912],\n",
       "        [0.5212],\n",
       "        [0.2936],\n",
       "        [0.5828]], grad_fn=<SliceBackward0>)"
      ]
     },
     "execution_count": 21,
     "metadata": {},
     "output_type": "execute_result"
    }
   ],
   "source": [
    "# view the first 5 outputs of the forward pass on the test data \n",
    "model_0.eval()\n",
    "y_logits = model_0(X_test.to(device))[:5]\n",
    "y_logits"
   ]
  },
  {
   "cell_type": "code",
   "execution_count": 22,
   "id": "1961177a",
   "metadata": {
    "execution": {
     "iopub.execute_input": "2025-09-01T09:11:52.471252Z",
     "iopub.status.busy": "2025-09-01T09:11:52.470938Z",
     "iopub.status.idle": "2025-09-01T09:11:52.478419Z",
     "shell.execute_reply": "2025-09-01T09:11:52.477612Z"
    },
    "papermill": {
     "duration": 0.024809,
     "end_time": "2025-09-01T09:11:52.480020",
     "exception": false,
     "start_time": "2025-09-01T09:11:52.455211",
     "status": "completed"
    },
    "tags": []
   },
   "outputs": [
    {
     "data": {
      "text/plain": [
       "tensor([1., 0., 1., 0., 1.])"
      ]
     },
     "execution_count": 22,
     "metadata": {},
     "output_type": "execute_result"
    }
   ],
   "source": [
    "y_test[:5]"
   ]
  },
  {
   "cell_type": "code",
   "execution_count": 23,
   "id": "16a8b63d",
   "metadata": {
    "execution": {
     "iopub.execute_input": "2025-09-01T09:11:52.507963Z",
     "iopub.status.busy": "2025-09-01T09:11:52.506657Z",
     "iopub.status.idle": "2025-09-01T09:11:52.515155Z",
     "shell.execute_reply": "2025-09-01T09:11:52.514023Z"
    },
    "papermill": {
     "duration": 0.024102,
     "end_time": "2025-09-01T09:11:52.516877",
     "exception": false,
     "start_time": "2025-09-01T09:11:52.492775",
     "status": "completed"
    },
    "tags": []
   },
   "outputs": [
    {
     "data": {
      "text/plain": [
       "tensor([[0.5852],\n",
       "        [0.5723],\n",
       "        [0.6274],\n",
       "        [0.5729],\n",
       "        [0.6417]], grad_fn=<SigmoidBackward0>)"
      ]
     },
     "execution_count": 23,
     "metadata": {},
     "output_type": "execute_result"
    }
   ],
   "source": [
    "# use the sigmoid activation function on our model logits to turn them into prediction probabilities \n",
    "y_pred_probs = torch.sigmoid(y_logits)\n",
    "y_pred_probs"
   ]
  },
  {
   "cell_type": "markdown",
   "id": "539a3f3e",
   "metadata": {
    "papermill": {
     "duration": 0.012085,
     "end_time": "2025-09-01T09:11:52.541436",
     "exception": false,
     "start_time": "2025-09-01T09:11:52.529351",
     "status": "completed"
    },
    "tags": []
   },
   "source": [
    "For our prediction probability values, we need to perform a range-style rounding on them: \n",
    "* `y_pred_probs >= 0.5` --> `y=1` (class 1)\n",
    "* `y_pred_probs < 0.5` --> `y=0` (class 0)"
   ]
  },
  {
   "cell_type": "code",
   "execution_count": 24,
   "id": "8d0b21b9",
   "metadata": {
    "execution": {
     "iopub.execute_input": "2025-09-01T09:11:52.567994Z",
     "iopub.status.busy": "2025-09-01T09:11:52.567649Z",
     "iopub.status.idle": "2025-09-01T09:11:52.575393Z",
     "shell.execute_reply": "2025-09-01T09:11:52.574558Z"
    },
    "papermill": {
     "duration": 0.023627,
     "end_time": "2025-09-01T09:11:52.577316",
     "exception": false,
     "start_time": "2025-09-01T09:11:52.553689",
     "status": "completed"
    },
    "tags": []
   },
   "outputs": [],
   "source": [
    "# find the predicted labels \n",
    "y_preds = torch.round(y_pred_probs)\n",
    "\n",
    "# in full \n",
    "y_pred_labels = torch.round(torch.sigmoid(model_0(X_test).to(device))[:5])"
   ]
  },
  {
   "cell_type": "code",
   "execution_count": 25,
   "id": "d6f70ba1",
   "metadata": {
    "execution": {
     "iopub.execute_input": "2025-09-01T09:11:52.603102Z",
     "iopub.status.busy": "2025-09-01T09:11:52.602813Z",
     "iopub.status.idle": "2025-09-01T09:11:52.613152Z",
     "shell.execute_reply": "2025-09-01T09:11:52.612005Z"
    },
    "papermill": {
     "duration": 0.025454,
     "end_time": "2025-09-01T09:11:52.615042",
     "exception": false,
     "start_time": "2025-09-01T09:11:52.589588",
     "status": "completed"
    },
    "tags": []
   },
   "outputs": [
    {
     "name": "stdout",
     "output_type": "stream",
     "text": [
      "tensor([True, True, True, True, True])\n"
     ]
    },
    {
     "data": {
      "text/plain": [
       "tensor([1., 1., 1., 1., 1.], grad_fn=<SqueezeBackward0>)"
      ]
     },
     "execution_count": 25,
     "metadata": {},
     "output_type": "execute_result"
    }
   ],
   "source": [
    "y_pred_labels, y_preds\n",
    "# check for equality \n",
    "print(torch.eq(y_preds.squeeze(), y_pred_labels.squeeze()))\n",
    "\n",
    "# get rid of extra dimension \n",
    "y_preds.squeeze()"
   ]
  },
  {
   "cell_type": "code",
   "execution_count": 26,
   "id": "c39bc34b",
   "metadata": {
    "execution": {
     "iopub.execute_input": "2025-09-01T09:11:52.641583Z",
     "iopub.status.busy": "2025-09-01T09:11:52.641291Z",
     "iopub.status.idle": "2025-09-01T09:11:52.649099Z",
     "shell.execute_reply": "2025-09-01T09:11:52.648057Z"
    },
    "papermill": {
     "duration": 0.023413,
     "end_time": "2025-09-01T09:11:52.650934",
     "exception": false,
     "start_time": "2025-09-01T09:11:52.627521",
     "status": "completed"
    },
    "tags": []
   },
   "outputs": [
    {
     "data": {
      "text/plain": [
       "tensor([1., 0., 1., 0., 1.])"
      ]
     },
     "execution_count": 26,
     "metadata": {},
     "output_type": "execute_result"
    }
   ],
   "source": [
    "y_test[:5]"
   ]
  },
  {
   "cell_type": "markdown",
   "id": "97b06f1b",
   "metadata": {
    "papermill": {
     "duration": 0.012852,
     "end_time": "2025-09-01T09:11:52.676327",
     "exception": false,
     "start_time": "2025-09-01T09:11:52.663475",
     "status": "completed"
    },
    "tags": []
   },
   "source": [
    "### 3.2 Building a training and testing loop"
   ]
  },
  {
   "cell_type": "code",
   "execution_count": 27,
   "id": "bb378efd",
   "metadata": {
    "execution": {
     "iopub.execute_input": "2025-09-01T09:11:52.703419Z",
     "iopub.status.busy": "2025-09-01T09:11:52.702913Z",
     "iopub.status.idle": "2025-09-01T09:11:52.856058Z",
     "shell.execute_reply": "2025-09-01T09:11:52.854400Z"
    },
    "papermill": {
     "duration": 0.169472,
     "end_time": "2025-09-01T09:11:52.858030",
     "exception": false,
     "start_time": "2025-09-01T09:11:52.688558",
     "status": "completed"
    },
    "tags": []
   },
   "outputs": [
    {
     "name": "stdout",
     "output_type": "stream",
     "text": [
      "Epoch: 0 | Loss: 0.72193 | Acc: 50.00% | Test_loss: 0.7131282687187195 | Test_acc: 50.00\n",
      "Epoch: 10 | Loss: 0.70387 | Acc: 50.00% | Test_loss: 0.6986064910888672 | Test_acc: 50.00\n",
      "Epoch: 20 | Loss: 0.69742 | Acc: 50.00% | Test_loss: 0.6937817335128784 | Test_acc: 50.00\n",
      "Epoch: 30 | Loss: 0.69508 | Acc: 51.12% | Test_loss: 0.6922947764396667 | Test_acc: 54.00\n",
      "Epoch: 40 | Loss: 0.69420 | Acc: 54.00% | Test_loss: 0.6919300556182861 | Test_acc: 54.00\n",
      "Epoch: 50 | Loss: 0.69383 | Acc: 51.12% | Test_loss: 0.6919264197349548 | Test_acc: 54.00\n",
      "Epoch: 60 | Loss: 0.69365 | Acc: 50.38% | Test_loss: 0.6920294165611267 | Test_acc: 54.00\n",
      "Epoch: 70 | Loss: 0.69355 | Acc: 49.62% | Test_loss: 0.6921571493148804 | Test_acc: 54.00\n",
      "Epoch: 80 | Loss: 0.69347 | Acc: 49.12% | Test_loss: 0.6922854781150818 | Test_acc: 54.00\n",
      "Epoch: 90 | Loss: 0.69341 | Acc: 48.75% | Test_loss: 0.6924079656600952 | Test_acc: 54.00\n"
     ]
    }
   ],
   "source": [
    "torch.manual_seed(42)\n",
    "torch.cuda.manual_seed(42)\n",
    "\n",
    "# set the number of epochs\n",
    "epochs = 100 \n",
    "\n",
    "# put data to target device \n",
    "X_train, y_train = X_train.to(device), y_train.to(device)\n",
    "X_test, y_test = X_test.to(device), y_test.to(device)\n",
    "\n",
    "# build training and evaluation loop \n",
    "for epoch in range(epochs):\n",
    "    # training \n",
    "    model_0.train()\n",
    "\n",
    "    # forward pass \n",
    "    y_logits = model_0(X_train).squeeze()\n",
    "    y_pred = torch.round(torch.sigmoid(y_logits)) # turn logits -> pred probs -> pred labels \n",
    "    \n",
    "    # calculate loss/accuracy \n",
    "    loss = loss_fn(\n",
    "        y_logits, # because we are using loss_fn=BCEWithLogitsLoss, simple BCELoss would expect y_probs\n",
    "        y_train\n",
    "    )\n",
    "    # loss = BCELoss(torch.sigmoid(y_logits)) # we would use y_probs\n",
    "\n",
    "    acc = accuracy_fn(\n",
    "        y_pred=y_pred, \n",
    "        y_true=y_train\n",
    "    )\n",
    "\n",
    "    # Optimizer zero grad \n",
    "    optimizer.zero_grad()\n",
    "\n",
    "    # Loss Backward (backpropagation)\n",
    "    loss.backward()\n",
    "\n",
    "    # Optimizer step (gradient descent)\n",
    "    optimizer.step() \n",
    "\n",
    "    ### Testing \n",
    "    model_0.eval()\n",
    "    with torch.inference_mode():\n",
    "        # Forward pass\n",
    "        test_logits = model_0(X_test).squeeze()\n",
    "        test_preds = torch.round(torch.sigmoid(test_logits))\n",
    "\n",
    "        # calculate test loss/accuracy \n",
    "        test_loss = loss_fn(\n",
    "            test_logits,\n",
    "            y_test\n",
    "        )\n",
    "        test_accuracy = accuracy_fn(\n",
    "            test_preds, \n",
    "            y_test\n",
    "        )\n",
    "\n",
    "    if epoch % 10 == 0:\n",
    "        print(f\"Epoch: {epoch} | Loss: {loss:.5f} | Acc: {acc:.2f}% | Test_loss: {test_loss} | Test_acc: {test_accuracy:.2f}\")\n",
    "\n",
    "\n",
    "\n",
    "\n",
    "\n"
   ]
  },
  {
   "cell_type": "code",
   "execution_count": 28,
   "id": "87de1fea",
   "metadata": {
    "execution": {
     "iopub.execute_input": "2025-09-01T09:11:52.885315Z",
     "iopub.status.busy": "2025-09-01T09:11:52.884963Z",
     "iopub.status.idle": "2025-09-01T09:11:52.901967Z",
     "shell.execute_reply": "2025-09-01T09:11:52.900927Z"
    },
    "papermill": {
     "duration": 0.032729,
     "end_time": "2025-09-01T09:11:52.904133",
     "exception": false,
     "start_time": "2025-09-01T09:11:52.871404",
     "status": "completed"
    },
    "tags": []
   },
   "outputs": [
    {
     "data": {
      "text/plain": [
       "label\n",
       "1    500\n",
       "0    500\n",
       "Name: count, dtype: int64"
      ]
     },
     "execution_count": 28,
     "metadata": {},
     "output_type": "execute_result"
    }
   ],
   "source": [
    "circles.label.value_counts()"
   ]
  },
  {
   "cell_type": "markdown",
   "id": "cbdbfe49",
   "metadata": {
    "papermill": {
     "duration": 0.012926,
     "end_time": "2025-09-01T09:11:52.929576",
     "exception": false,
     "start_time": "2025-09-01T09:11:52.916650",
     "status": "completed"
    },
    "tags": []
   },
   "source": [
    "## 4.Make predictions and evaluate the model \n",
    "From metrics it looks like out model isn't learning anything. \n",
    "So to inspect it let's make some predictions and make them visual\n",
    "\n",
    "source: [helper_functions.py](https://github.com/mrdbourke/pytorch-deep-learning/blob/af6548e52663c8395fe2777bd0fbfd6ac85fd6f8/helper_functions.py#L4)"
   ]
  },
  {
   "cell_type": "code",
   "execution_count": 29,
   "id": "d56d7739",
   "metadata": {
    "execution": {
     "iopub.execute_input": "2025-09-01T09:11:52.956376Z",
     "iopub.status.busy": "2025-09-01T09:11:52.956016Z",
     "iopub.status.idle": "2025-09-01T09:11:54.129414Z",
     "shell.execute_reply": "2025-09-01T09:11:54.128141Z"
    },
    "papermill": {
     "duration": 1.189099,
     "end_time": "2025-09-01T09:11:54.131292",
     "exception": false,
     "start_time": "2025-09-01T09:11:52.942193",
     "status": "completed"
    },
    "tags": []
   },
   "outputs": [
    {
     "name": "stdout",
     "output_type": "stream",
     "text": [
      "Download helper_functions.py\n"
     ]
    }
   ],
   "source": [
    "import requests \n",
    "from pathlib import Path \n",
    "\n",
    "## Download helper function \n",
    "if Path(\"helper_functions.py\").is_file():\n",
    "    print(\"helper functions.py already exists, skipping download\")\n",
    "else: \n",
    "    print(\"Download helper_functions.py\")\n",
    "    request = requests.get(\"https://raw.github.com/mrdbourke/pytorch-deep-learning/main/helper_functions.py\")\n",
    "    with open(\"helper_functions.py\", \"wb\") as f: # wb = write binary\n",
    "        f.write(request.content)\n",
    "        \n",
    "from helper_functions import plot_predictions, plot_decision_boundary\n"
   ]
  },
  {
   "cell_type": "code",
   "execution_count": 30,
   "id": "783dee57",
   "metadata": {
    "execution": {
     "iopub.execute_input": "2025-09-01T09:11:54.158656Z",
     "iopub.status.busy": "2025-09-01T09:11:54.157513Z",
     "iopub.status.idle": "2025-09-01T09:11:54.760045Z",
     "shell.execute_reply": "2025-09-01T09:11:54.758498Z"
    },
    "papermill": {
     "duration": 0.619391,
     "end_time": "2025-09-01T09:11:54.763618",
     "exception": false,
     "start_time": "2025-09-01T09:11:54.144227",
     "status": "completed"
    },
    "tags": []
   },
   "outputs": [
    {
     "data": {
      "image/png": "[encoded data removed]",
      "text/plain": [
       "<Figure size 1200x600 with 2 Axes>"
      ]
     },
     "metadata": {},
     "output_type": "display_data"
    }
   ],
   "source": [
    " # plot decision boundary of the model \n",
    "plt.figure(figsize=(12,6))\n",
    "plt.subplot(1,2,1) # #rows, #cols, index the subplot will appear into\n",
    "plt.title(\"Train\")\n",
    "plot_decision_boundary(model_0, X_train, y_train)\n",
    "plt.subplot(1,2,2)\n",
    "plt.title(\"Test\")\n",
    "plot_decision_boundary(model_0, X_test, y_test)\n"
   ]
  },
  {
   "cell_type": "markdown",
   "id": "443bfb1c",
   "metadata": {
    "papermill": {
     "duration": 0.015582,
     "end_time": "2025-09-01T09:11:54.798876",
     "exception": false,
     "start_time": "2025-09-01T09:11:54.783294",
     "status": "completed"
    },
    "tags": []
   },
   "source": [
    "## 5. Improving a model (from a model perspective)\n",
    "* Add more layers - give the model chances to learn about patterns in the data\n",
    "* Add more hidden units - e.g. go from 5 hidden units to 10 hidden units\n",
    "* Fit for longer (add epochs)\n",
    "* Changing the activation functions\n",
    "* Change the learning rate\n",
    "* Change the loss function\n",
    "\n",
    "These options are all from a model's perspective because they deal directly with the model, rather than the data.\n",
    "\n",
    "And because these options are all values we can change, they are referred to **hyperparameters**.\n"
   ]
  },
  {
   "cell_type": "markdown",
   "id": "7790d823",
   "metadata": {
    "papermill": {
     "duration": 0.015437,
     "end_time": "2025-09-01T09:11:54.830118",
     "exception": false,
     "start_time": "2025-09-01T09:11:54.814681",
     "status": "completed"
    },
    "tags": []
   },
   "source": [
    "Let's try to \n",
    "* Add more hidden units: 5->10\n",
    "* Increase the #layers: 2->3\n",
    "* Increase #epochs: 100->1000"
   ]
  },
  {
   "cell_type": "code",
   "execution_count": 31,
   "id": "76978e8e",
   "metadata": {
    "execution": {
     "iopub.execute_input": "2025-09-01T09:11:54.869119Z",
     "iopub.status.busy": "2025-09-01T09:11:54.867786Z",
     "iopub.status.idle": "2025-09-01T09:11:54.880981Z",
     "shell.execute_reply": "2025-09-01T09:11:54.879570Z"
    },
    "papermill": {
     "duration": 0.034209,
     "end_time": "2025-09-01T09:11:54.882953",
     "exception": false,
     "start_time": "2025-09-01T09:11:54.848744",
     "status": "completed"
    },
    "tags": []
   },
   "outputs": [
    {
     "data": {
      "text/plain": [
       "CircleModelV1(\n",
       "  (layer_1): Linear(in_features=2, out_features=10, bias=True)\n",
       "  (layer_2): Linear(in_features=10, out_features=10, bias=True)\n",
       "  (layer_3): Linear(in_features=10, out_features=1, bias=True)\n",
       ")"
      ]
     },
     "execution_count": 31,
     "metadata": {},
     "output_type": "execute_result"
    }
   ],
   "source": [
    "class CircleModelV1(nn.Module):\n",
    "    def __init__(self):\n",
    "        super().__init__()\n",
    "        self.layer_1 = nn.Linear(\n",
    "            in_features=2, \n",
    "            out_features=10\n",
    "        )\n",
    "        self.layer_2 = nn.Linear(\n",
    "            in_features=10,\n",
    "            out_features=10\n",
    "        )\n",
    "        self.layer_3 = nn.Linear(\n",
    "            in_features=10, \n",
    "            out_features=1\n",
    "        )\n",
    "\n",
    "    def forward(self, x):\n",
    "        return self.layer_3(self.layer_2(self.layer_1(x))) # this way of writing operations leverages speed up where possible behind the scenes\n",
    "        # z = self.layer_1(x)\n",
    "        # z = self.layer_2(z)\n",
    "        # z = self.layer_3(z)\n",
    "\n",
    "\n",
    "model_1 = CircleModelV1().to(device)\n",
    "model_1"
   ]
  },
  {
   "cell_type": "code",
   "execution_count": null,
   "id": "62d3f039",
   "metadata": {
    "papermill": {
     "duration": 0.016931,
     "end_time": "2025-09-01T09:11:54.921432",
     "exception": false,
     "start_time": "2025-09-01T09:11:54.904501",
     "status": "completed"
    },
    "tags": []
   },
   "outputs": [],
   "source": [
    "\n"
   ]
  },
  {
   "cell_type": "code",
   "execution_count": null,
   "id": "dfad4045",
   "metadata": {
    "papermill": {
     "duration": 0.016722,
     "end_time": "2025-09-01T09:11:54.953979",
     "exception": false,
     "start_time": "2025-09-01T09:11:54.937257",
     "status": "completed"
    },
    "tags": []
   },
   "outputs": [],
   "source": []
  },
  {
   "cell_type": "code",
   "execution_count": null,
   "id": "a38e330e",
   "metadata": {
    "papermill": {
     "duration": 0.015908,
     "end_time": "2025-09-01T09:11:54.985785",
     "exception": false,
     "start_time": "2025-09-01T09:11:54.969877",
     "status": "completed"
    },
    "tags": []
   },
   "outputs": [],
   "source": []
  },
  {
   "cell_type": "code",
   "execution_count": null,
   "id": "b2791565",
   "metadata": {
    "papermill": {
     "duration": 0.017527,
     "end_time": "2025-09-01T09:11:55.020970",
     "exception": false,
     "start_time": "2025-09-01T09:11:55.003443",
     "status": "completed"
    },
    "tags": []
   },
   "outputs": [],
   "source": []
  },
  {
   "cell_type": "code",
   "execution_count": null,
   "id": "707b7e25",
   "metadata": {
    "papermill": {
     "duration": 0.025797,
     "end_time": "2025-09-01T09:11:55.063096",
     "exception": false,
     "start_time": "2025-09-01T09:11:55.037299",
     "status": "completed"
    },
    "tags": []
   },
   "outputs": [],
   "source": []
  },
  {
   "cell_type": "code",
   "execution_count": null,
   "id": "b31d2785",
   "metadata": {
    "papermill": {
     "duration": 0.017215,
     "end_time": "2025-09-01T09:11:55.119101",
     "exception": false,
     "start_time": "2025-09-01T09:11:55.101886",
     "status": "completed"
    },
    "tags": []
   },
   "outputs": [],
   "source": []
  },
  {
   "cell_type": "code",
   "execution_count": null,
   "id": "9e0dcb26",
   "metadata": {
    "papermill": {
     "duration": 0.01572,
     "end_time": "2025-09-01T09:11:55.151816",
     "exception": false,
     "start_time": "2025-09-01T09:11:55.136096",
     "status": "completed"
    },
    "tags": []
   },
   "outputs": [],
   "source": []
  },
  {
   "cell_type": "code",
   "execution_count": null,
   "id": "d2ebf81d",
   "metadata": {
    "papermill": {
     "duration": 0.021015,
     "end_time": "2025-09-01T09:11:55.188328",
     "exception": false,
     "start_time": "2025-09-01T09:11:55.167313",
     "status": "completed"
    },
    "tags": []
   },
   "outputs": [],
   "source": []
  },
  {
   "cell_type": "code",
   "execution_count": null,
   "id": "5d39728b",
   "metadata": {
    "papermill": {
     "duration": 0.016213,
     "end_time": "2025-09-01T09:11:55.221327",
     "exception": false,
     "start_time": "2025-09-01T09:11:55.205114",
     "status": "completed"
    },
    "tags": []
   },
   "outputs": [],
   "source": []
  },
  {
   "cell_type": "code",
   "execution_count": null,
   "id": "cf93b5bf",
   "metadata": {
    "papermill": {
     "duration": 0.015629,
     "end_time": "2025-09-01T09:11:55.252832",
     "exception": false,
     "start_time": "2025-09-01T09:11:55.237203",
     "status": "completed"
    },
    "tags": []
   },
   "outputs": [],
   "source": []
  }
 ],
 "metadata": {
  "kaggle": {
   "accelerator": "none",
   "dataSources": [],
   "dockerImageVersionId": 31089,
   "isGpuEnabled": false,
   "isInternetEnabled": true,
   "language": "python",
   "sourceType": "notebook"
  },
  "kernelspec": {
   "display_name": "Python 3",
   "language": "python",
   "name": "python3"
  },
  "language_info": {
   "codemirror_mode": {
    "name": "ipython",
    "version": 3
   },
   "file_extension": ".py",
   "mimetype": "text/x-python",
   "name": "python",
   "nbconvert_exporter": "python",
   "pygments_lexer": "ipython3",
   "version": "3.11.13"
  },
  "papermill": {
   "default_parameters": {},
   "duration": 72.133168,
   "end_time": "2025-09-01T09:11:58.848646",
   "environment_variables": {},
   "exception": null,
   "input_path": "__notebook__.ipynb",
   "output_path": "__notebook__.ipynb",
   "parameters": {},
   "start_time": "2025-09-01T09:10:46.715478",
   "version": "2.6.0"
  }
 },
 "nbformat": 4,
 "nbformat_minor": 5
}
