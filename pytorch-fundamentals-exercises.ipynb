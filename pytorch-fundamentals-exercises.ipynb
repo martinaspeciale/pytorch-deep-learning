{
 "cells": [
  {
   "cell_type": "markdown",
   "id": "858ecb56",
   "metadata": {
    "id": "AzDBM_v4iMe7",
    "papermill": {
     "duration": 0.003425,
     "end_time": "2025-08-30T12:58:43.050840",
     "exception": false,
     "start_time": "2025-08-30T12:58:43.047415",
     "status": "completed"
    },
    "tags": []
   },
   "source": [
    "# 00. PyTorch Fundamentals Exercises\n",
    "\n",
    "### 1. Documentation reading \n",
    "\n",
    "A big part of deep learning (and learning to code in general) is getting familiar with the documentation of a certain framework you're using. We'll be using the PyTorch documentation a lot throughout the rest of this course. So I'd recommend spending 10-minutes reading the following (it's okay if you don't get some things for now, the focus is not yet full understanding, it's awareness):\n",
    "  * The documentation on [`torch.Tensor`](https://pytorch.org/docs/stable/tensors.html#torch-tensor).\n",
    "  * The documentation on [`torch.cuda`](https://pytorch.org/docs/master/notes/cuda.html#cuda-semantics).\n",
    "\n"
   ]
  },
  {
   "cell_type": "code",
   "execution_count": 1,
   "id": "de3e1afb",
   "metadata": {
    "execution": {
     "iopub.execute_input": "2025-08-30T12:58:43.057855Z",
     "iopub.status.busy": "2025-08-30T12:58:43.057530Z",
     "iopub.status.idle": "2025-08-30T12:58:43.062501Z",
     "shell.execute_reply": "2025-08-30T12:58:43.061740Z"
    },
    "id": "bGD0oD8Kizak",
    "papermill": {
     "duration": 0.0105,
     "end_time": "2025-08-30T12:58:43.064253",
     "exception": false,
     "start_time": "2025-08-30T12:58:43.053753",
     "status": "completed"
    },
    "tags": []
   },
   "outputs": [],
   "source": [
    "# No code solution (reading)"
   ]
  },
  {
   "cell_type": "markdown",
   "id": "4a008930",
   "metadata": {
    "id": "__iXqqz-ioUJ",
    "papermill": {
     "duration": 0.002499,
     "end_time": "2025-08-30T12:58:43.070112",
     "exception": false,
     "start_time": "2025-08-30T12:58:43.067613",
     "status": "completed"
    },
    "tags": []
   },
   "source": [
    "### 2. Create a random tensor with shape `(7, 7)`.\n"
   ]
  },
  {
   "cell_type": "code",
   "execution_count": 2,
   "id": "ce3d9c71",
   "metadata": {
    "execution": {
     "iopub.execute_input": "2025-08-30T12:58:43.076724Z",
     "iopub.status.busy": "2025-08-30T12:58:43.076346Z",
     "iopub.status.idle": "2025-08-30T12:58:43.080446Z",
     "shell.execute_reply": "2025-08-30T12:58:43.079517Z"
    },
    "id": "6pUq9Dc8i2L7",
    "papermill": {
     "duration": 0.00917,
     "end_time": "2025-08-30T12:58:43.081946",
     "exception": false,
     "start_time": "2025-08-30T12:58:43.072776",
     "status": "completed"
    },
    "tags": []
   },
   "outputs": [],
   "source": [
    "# Import torch\n",
    "\n",
    "\n",
    "# Create random tensor\n"
   ]
  },
  {
   "cell_type": "markdown",
   "id": "bcb4bfca",
   "metadata": {
    "id": "9-XxvRLfiqkR",
    "papermill": {
     "duration": 0.002886,
     "end_time": "2025-08-30T12:58:43.087973",
     "exception": false,
     "start_time": "2025-08-30T12:58:43.085087",
     "status": "completed"
    },
    "tags": []
   },
   "source": [
    "### 3. Perform a matrix multiplication on the tensor from 2 with another random tensor with shape `(1, 7)` (hint: you may have to transpose the second tensor)."
   ]
  },
  {
   "cell_type": "code",
   "execution_count": 3,
   "id": "6db2af15",
   "metadata": {
    "execution": {
     "iopub.execute_input": "2025-08-30T12:58:43.095072Z",
     "iopub.status.busy": "2025-08-30T12:58:43.094353Z",
     "iopub.status.idle": "2025-08-30T12:58:43.098187Z",
     "shell.execute_reply": "2025-08-30T12:58:43.097393Z"
    },
    "id": "NcLqR0Sbi_vT",
    "papermill": {
     "duration": 0.009065,
     "end_time": "2025-08-30T12:58:43.099781",
     "exception": false,
     "start_time": "2025-08-30T12:58:43.090716",
     "status": "completed"
    },
    "tags": []
   },
   "outputs": [],
   "source": [
    "# Create another random tensor\n",
    "\n",
    "# Perform matrix multiplication \n"
   ]
  },
  {
   "cell_type": "markdown",
   "id": "34df3207",
   "metadata": {
    "id": "eiutdKUFiryU",
    "papermill": {
     "duration": 0.002698,
     "end_time": "2025-08-30T12:58:43.105586",
     "exception": false,
     "start_time": "2025-08-30T12:58:43.102888",
     "status": "completed"
    },
    "tags": []
   },
   "source": [
    "### 4. Set the random seed to `0` and do 2 & 3 over again.\n",
    "\n",
    "The output should be:\n",
    "```\n",
    "(tensor([[1.8542],\n",
    "         [1.9611],\n",
    "         [2.2884],\n",
    "         [3.0481],\n",
    "         [1.7067],\n",
    "         [2.5290],\n",
    "         [1.7989]]), torch.Size([7, 1]))\n",
    "```"
   ]
  },
  {
   "cell_type": "code",
   "execution_count": 4,
   "id": "9c07027c",
   "metadata": {
    "execution": {
     "iopub.execute_input": "2025-08-30T12:58:43.112491Z",
     "iopub.status.busy": "2025-08-30T12:58:43.111956Z",
     "iopub.status.idle": "2025-08-30T12:58:43.116225Z",
     "shell.execute_reply": "2025-08-30T12:58:43.115139Z"
    },
    "id": "D-lOWI_1jRMm",
    "papermill": {
     "duration": 0.009748,
     "end_time": "2025-08-30T12:58:43.118057",
     "exception": false,
     "start_time": "2025-08-30T12:58:43.108309",
     "status": "completed"
    },
    "tags": []
   },
   "outputs": [],
   "source": [
    "# Set manual seed\n",
    "\n",
    "\n",
    "# Create two random tensors\n",
    "\n",
    "\n",
    "# Matrix multiply tensors\n"
   ]
  },
  {
   "cell_type": "markdown",
   "id": "a5ba4993",
   "metadata": {
    "id": "ezY6ks9Cis37",
    "papermill": {
     "duration": 0.002709,
     "end_time": "2025-08-30T12:58:43.123970",
     "exception": false,
     "start_time": "2025-08-30T12:58:43.121261",
     "status": "completed"
    },
    "tags": []
   },
   "source": [
    "### 5. Speaking of random seeds, we saw how to set it with `torch.manual_seed()` but is there a GPU equivalent? (hint: you'll need to look into the documentation for `torch.cuda` for this one)\n",
    "  * If there is, set the GPU random seed to `1234`."
   ]
  },
  {
   "cell_type": "code",
   "execution_count": 5,
   "id": "9bfd5e10",
   "metadata": {
    "execution": {
     "iopub.execute_input": "2025-08-30T12:58:43.130500Z",
     "iopub.status.busy": "2025-08-30T12:58:43.130264Z",
     "iopub.status.idle": "2025-08-30T12:58:43.134399Z",
     "shell.execute_reply": "2025-08-30T12:58:43.133436Z"
    },
    "id": "_LKWcfSTjp00",
    "papermill": {
     "duration": 0.009194,
     "end_time": "2025-08-30T12:58:43.135975",
     "exception": false,
     "start_time": "2025-08-30T12:58:43.126781",
     "status": "completed"
    },
    "tags": []
   },
   "outputs": [],
   "source": [
    "# Set random seed on the GPU\n"
   ]
  },
  {
   "cell_type": "markdown",
   "id": "6a3705a5",
   "metadata": {
    "id": "Ir9qSaj6it4n",
    "papermill": {
     "duration": 0.002675,
     "end_time": "2025-08-30T12:58:43.142442",
     "exception": false,
     "start_time": "2025-08-30T12:58:43.139767",
     "status": "completed"
    },
    "tags": []
   },
   "source": [
    "\n",
    "### 6. Create two random tensors of shape `(2, 3)` and send them both to the GPU (you'll need access to a GPU for this). Set `torch.manual_seed(1234)` when creating the tensors (this doesn't have to be the GPU random seed). The output should be something like:\n",
    "\n",
    "```\n",
    "Device: cuda\n",
    "(tensor([[0.0290, 0.4019, 0.2598],\n",
    "         [0.3666, 0.0583, 0.7006]], device='cuda:0'),\n",
    " tensor([[0.0518, 0.4681, 0.6738],\n",
    "         [0.3315, 0.7837, 0.5631]], device='cuda:0'))\n",
    "```"
   ]
  },
  {
   "cell_type": "code",
   "execution_count": 6,
   "id": "99000d24",
   "metadata": {
    "execution": {
     "iopub.execute_input": "2025-08-30T12:58:43.149874Z",
     "iopub.status.busy": "2025-08-30T12:58:43.149613Z",
     "iopub.status.idle": "2025-08-30T12:58:43.153363Z",
     "shell.execute_reply": "2025-08-30T12:58:43.152485Z"
    },
    "id": "azXExiFZj5nm",
    "papermill": {
     "duration": 0.009537,
     "end_time": "2025-08-30T12:58:43.154767",
     "exception": false,
     "start_time": "2025-08-30T12:58:43.145230",
     "status": "completed"
    },
    "tags": []
   },
   "outputs": [],
   "source": [
    "# Set random seed\n",
    "\n",
    "\n",
    "# Check for access to GPU\n",
    "\n",
    "# Create two random tensors on GPU\n"
   ]
  },
  {
   "cell_type": "markdown",
   "id": "c001e69a",
   "metadata": {
    "id": "5TlAxeiSiu1y",
    "papermill": {
     "duration": 0.002673,
     "end_time": "2025-08-30T12:58:43.160571",
     "exception": false,
     "start_time": "2025-08-30T12:58:43.157898",
     "status": "completed"
    },
    "tags": []
   },
   "source": [
    "\n",
    "### 7. Perform a matrix multiplication on the tensors you created in 6 (again, you may have to adjust the shapes of one of the tensors).\n",
    "\n",
    "The output should look like:\n",
    "```\n",
    "(tensor([[0.3647, 0.4709],\n",
    "         [0.5184, 0.5617]], device='cuda:0'), torch.Size([2, 2]))\n",
    "```"
   ]
  },
  {
   "cell_type": "code",
   "execution_count": 7,
   "id": "f17d2326",
   "metadata": {
    "execution": {
     "iopub.execute_input": "2025-08-30T12:58:43.167986Z",
     "iopub.status.busy": "2025-08-30T12:58:43.167149Z",
     "iopub.status.idle": "2025-08-30T12:58:43.171021Z",
     "shell.execute_reply": "2025-08-30T12:58:43.170090Z"
    },
    "id": "fAeG7ox0lHEO",
    "papermill": {
     "duration": 0.009296,
     "end_time": "2025-08-30T12:58:43.172689",
     "exception": false,
     "start_time": "2025-08-30T12:58:43.163393",
     "status": "completed"
    },
    "tags": []
   },
   "outputs": [],
   "source": [
    "# Perform matmul on tensor_A and tensor_B\n"
   ]
  },
  {
   "cell_type": "markdown",
   "id": "62f91a83",
   "metadata": {
    "id": "G7qfa5CSivwg",
    "papermill": {
     "duration": 0.002746,
     "end_time": "2025-08-30T12:58:43.178531",
     "exception": false,
     "start_time": "2025-08-30T12:58:43.175785",
     "status": "completed"
    },
    "tags": []
   },
   "source": [
    "### 8. Find the maximum and minimum values of the output of 7."
   ]
  },
  {
   "cell_type": "code",
   "execution_count": 8,
   "id": "dba52b0e",
   "metadata": {
    "execution": {
     "iopub.execute_input": "2025-08-30T12:58:43.185259Z",
     "iopub.status.busy": "2025-08-30T12:58:43.184979Z",
     "iopub.status.idle": "2025-08-30T12:58:43.189408Z",
     "shell.execute_reply": "2025-08-30T12:58:43.188299Z"
    },
    "id": "Fu8_3mZpllOd",
    "papermill": {
     "duration": 0.009614,
     "end_time": "2025-08-30T12:58:43.190942",
     "exception": false,
     "start_time": "2025-08-30T12:58:43.181328",
     "status": "completed"
    },
    "tags": []
   },
   "outputs": [],
   "source": [
    "# Find max\n",
    "\n",
    "# Find min\n"
   ]
  },
  {
   "cell_type": "markdown",
   "id": "ed46ebfb",
   "metadata": {
    "id": "wrTj5FgNiw47",
    "papermill": {
     "duration": 0.002975,
     "end_time": "2025-08-30T12:58:43.197068",
     "exception": false,
     "start_time": "2025-08-30T12:58:43.194093",
     "status": "completed"
    },
    "tags": []
   },
   "source": [
    "### 9. Find the maximum and minimum index values of the output of 7."
   ]
  },
  {
   "cell_type": "code",
   "execution_count": 9,
   "id": "6b65dd47",
   "metadata": {
    "execution": {
     "iopub.execute_input": "2025-08-30T12:58:43.204121Z",
     "iopub.status.busy": "2025-08-30T12:58:43.203835Z",
     "iopub.status.idle": "2025-08-30T12:58:43.207954Z",
     "shell.execute_reply": "2025-08-30T12:58:43.207010Z"
    },
    "id": "CCEKt4K2lsfQ",
    "papermill": {
     "duration": 0.009426,
     "end_time": "2025-08-30T12:58:43.209418",
     "exception": false,
     "start_time": "2025-08-30T12:58:43.199992",
     "status": "completed"
    },
    "tags": []
   },
   "outputs": [],
   "source": [
    "# Find arg max\n",
    "\n",
    "\n",
    "# Find arg min\n"
   ]
  },
  {
   "cell_type": "markdown",
   "id": "803de728",
   "metadata": {
    "id": "hmeybz4uixy7",
    "papermill": {
     "duration": 0.002776,
     "end_time": "2025-08-30T12:58:43.215378",
     "exception": false,
     "start_time": "2025-08-30T12:58:43.212602",
     "status": "completed"
    },
    "tags": []
   },
   "source": [
    "\n",
    "### 10. Make a random tensor with shape `(1, 1, 1, 10)` and then create a new tensor with all the `1` dimensions removed to be left with a tensor of shape `(10)`. Set the seed to `7` when you create it and print out the first tensor and it's shape as well as the second tensor and it's shape.\n",
    "\n",
    "The output should look like:\n",
    "\n",
    "```\n",
    "tensor([[[[0.5349, 0.1988, 0.6592, 0.6569, 0.2328, 0.4251, 0.2071, 0.6297,\n",
    "           0.3653, 0.8513]]]]) torch.Size([1, 1, 1, 10])\n",
    "tensor([0.5349, 0.1988, 0.6592, 0.6569, 0.2328, 0.4251, 0.2071, 0.6297, 0.3653,\n",
    "        0.8513]) torch.Size([10])\n",
    "```"
   ]
  },
  {
   "cell_type": "code",
   "execution_count": 10,
   "id": "ab9a9b77",
   "metadata": {
    "execution": {
     "iopub.execute_input": "2025-08-30T12:58:43.223247Z",
     "iopub.status.busy": "2025-08-30T12:58:43.222475Z",
     "iopub.status.idle": "2025-08-30T12:58:43.226449Z",
     "shell.execute_reply": "2025-08-30T12:58:43.225501Z"
    },
    "id": "TQ9zbRzVl1jV",
    "papermill": {
     "duration": 0.009426,
     "end_time": "2025-08-30T12:58:43.228116",
     "exception": false,
     "start_time": "2025-08-30T12:58:43.218690",
     "status": "completed"
    },
    "tags": []
   },
   "outputs": [],
   "source": [
    "# Set seed\n",
    "\n",
    "\n",
    "# Create random tensor\n",
    "\n",
    "\n",
    "# Remove single dimensions\n",
    "\n",
    "\n",
    "# Print out tensors and their shapes\n"
   ]
  }
 ],
 "metadata": {
  "accelerator": "GPU",
  "colab": {
   "collapsed_sections": [],
   "name": "00_pytorch_fundamentals_exercises.ipynb",
   "provenance": []
  },
  "kaggle": {
   "accelerator": "none",
   "dataSources": [],
   "isGpuEnabled": false,
   "isInternetEnabled": true,
   "language": "python",
   "sourceType": "notebook"
  },
  "kernelspec": {
   "display_name": "Python 3",
   "name": "python3"
  },
  "language_info": {
   "codemirror_mode": {
    "name": "ipython",
    "version": 3
   },
   "file_extension": ".py",
   "mimetype": "text/x-python",
   "name": "python",
   "nbconvert_exporter": "python",
   "pygments_lexer": "ipython3",
   "version": "3.11.13"
  },
  "papermill": {
   "default_parameters": {},
   "duration": 5.98311,
   "end_time": "2025-08-30T12:58:43.650194",
   "environment_variables": {},
   "exception": null,
   "input_path": "__notebook__.ipynb",
   "output_path": "__notebook__.ipynb",
   "parameters": {},
   "start_time": "2025-08-30T12:58:37.667084",
   "version": "2.6.0"
  }
 },
 "nbformat": 4,
 "nbformat_minor": 5
}
