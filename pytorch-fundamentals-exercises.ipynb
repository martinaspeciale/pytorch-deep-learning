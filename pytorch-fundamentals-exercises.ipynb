{
 "cells": [
  {
   "cell_type": "markdown",
   "id": "13c034b2",
   "metadata": {
    "id": "AzDBM_v4iMe7",
    "papermill": {
     "duration": 0.004099,
     "end_time": "2025-08-30T13:44:55.325262",
     "exception": false,
     "start_time": "2025-08-30T13:44:55.321163",
     "status": "completed"
    },
    "tags": []
   },
   "source": [
    "# 00. PyTorch Fundamentals Exercises\n",
    "\n",
    "### 1. Documentation reading \n",
    "\n",
    "A big part of deep learning (and learning to code in general) is getting familiar with the documentation of a certain framework you're using. We'll be using the PyTorch documentation a lot throughout the rest of this course. So I'd recommend spending 10-minutes reading the following (it's okay if you don't get some things for now, the focus is not yet full understanding, it's awareness):\n",
    "  * The documentation on [`torch.Tensor`](https://pytorch.org/docs/stable/tensors.html#torch-tensor).\n",
    "  * The documentation on [`torch.cuda`](https://pytorch.org/docs/master/notes/cuda.html#cuda-semantics).\n",
    "\n"
   ]
  },
  {
   "cell_type": "markdown",
   "id": "57955985",
   "metadata": {
    "id": "__iXqqz-ioUJ",
    "papermill": {
     "duration": 0.002895,
     "end_time": "2025-08-30T13:44:55.331662",
     "exception": false,
     "start_time": "2025-08-30T13:44:55.328767",
     "status": "completed"
    },
    "tags": []
   },
   "source": [
    "### 2. Create a random tensor with shape `(7, 7)`.\n"
   ]
  },
  {
   "cell_type": "code",
   "execution_count": 1,
   "id": "ecf16c5c",
   "metadata": {
    "execution": {
     "iopub.execute_input": "2025-08-30T13:44:55.340049Z",
     "iopub.status.busy": "2025-08-30T13:44:55.339675Z",
     "iopub.status.idle": "2025-08-30T13:45:00.980521Z",
     "shell.execute_reply": "2025-08-30T13:45:00.979299Z"
    },
    "id": "6pUq9Dc8i2L7",
    "papermill": {
     "duration": 5.647732,
     "end_time": "2025-08-30T13:45:00.982611",
     "exception": false,
     "start_time": "2025-08-30T13:44:55.334879",
     "status": "completed"
    },
    "tags": []
   },
   "outputs": [
    {
     "name": "stdout",
     "output_type": "stream",
     "text": [
      "random tensor x:\n",
      " tensor([[0.6585, 0.6246, 0.7033, 0.5537, 0.4633, 0.0746, 0.4449],\n",
      "        [0.3008, 0.9000, 0.1162, 0.6409, 0.6054, 0.4753, 0.2969],\n",
      "        [0.2717, 0.5480, 0.2586, 0.7424, 0.8416, 0.1262, 0.9941],\n",
      "        [0.3794, 0.6042, 0.0639, 0.3012, 0.6816, 0.6296, 0.7001],\n",
      "        [0.8899, 0.2781, 0.7030, 0.1497, 0.5769, 0.6498, 0.7579],\n",
      "        [0.4284, 0.9510, 0.6184, 0.0693, 0.0712, 0.9228, 0.1278],\n",
      "        [0.4492, 0.6728, 0.3052, 0.5883, 0.8318, 0.8253, 0.6128]])\n",
      "x's shape: torch.Size([7, 7])\n"
     ]
    }
   ],
   "source": [
    "# Import torch\n",
    "import torch\n",
    "\n",
    "# Create random tensor\n",
    "x = torch.rand(7,7)\n",
    "print(f\"random tensor x:\\n {x}\")\n",
    "print(f\"x's shape: {x.shape}\")"
   ]
  },
  {
   "cell_type": "markdown",
   "id": "3e693a77",
   "metadata": {
    "id": "9-XxvRLfiqkR",
    "papermill": {
     "duration": 0.003208,
     "end_time": "2025-08-30T13:45:00.989768",
     "exception": false,
     "start_time": "2025-08-30T13:45:00.986560",
     "status": "completed"
    },
    "tags": []
   },
   "source": [
    "### 3. Perform a matrix multiplication on the tensor from 2 with another random tensor with shape `(1, 7)` (hint: you may have to transpose the second tensor)."
   ]
  },
  {
   "cell_type": "code",
   "execution_count": 2,
   "id": "48384d45",
   "metadata": {
    "execution": {
     "iopub.execute_input": "2025-08-30T13:45:00.999109Z",
     "iopub.status.busy": "2025-08-30T13:45:00.998608Z",
     "iopub.status.idle": "2025-08-30T13:45:01.022685Z",
     "shell.execute_reply": "2025-08-30T13:45:01.021550Z"
    },
    "id": "NcLqR0Sbi_vT",
    "papermill": {
     "duration": 0.030596,
     "end_time": "2025-08-30T13:45:01.024253",
     "exception": false,
     "start_time": "2025-08-30T13:45:00.993657",
     "status": "completed"
    },
    "tags": []
   },
   "outputs": [
    {
     "name": "stdout",
     "output_type": "stream",
     "text": [
      "y:\n",
      " tensor([[0.4918, 0.8897, 0.3669, 0.0133, 0.1673, 0.8931, 0.6243]])\n",
      "x (torch.Size([7, 7])) @ y.T (torch.Size([7, 1])) --> torch.Size([7, 1])\n",
      "result: tensor([[1.5668],\n",
      "        [1.7109],\n",
      "        [1.5999],\n",
      "        [1.8651],\n",
      "        [2.0950],\n",
      "        [2.2005],\n",
      "        [2.1981]])\n"
     ]
    }
   ],
   "source": [
    "# Create another random tensor\n",
    "y = torch.rand(1,7)\n",
    "print(f\"y:\\n {y}\")\n",
    "\n",
    "# Perform matrix multiplication \n",
    "result = x @ y.T \n",
    "print(f\"x ({x.shape}) @ y.T ({y.T.shape}) --> {result.shape}\")\n",
    "print(f\"result: {result}\")"
   ]
  },
  {
   "cell_type": "markdown",
   "id": "e88fd8d9",
   "metadata": {
    "id": "eiutdKUFiryU",
    "papermill": {
     "duration": 0.003148,
     "end_time": "2025-08-30T13:45:01.030839",
     "exception": false,
     "start_time": "2025-08-30T13:45:01.027691",
     "status": "completed"
    },
    "tags": []
   },
   "source": [
    "### 4. Set the random seed to `0` and do 2 & 3 over again.\n",
    "\n",
    "The output should be:\n",
    "```\n",
    "(tensor([[1.8542],\n",
    "         [1.9611],\n",
    "         [2.2884],\n",
    "         [3.0481],\n",
    "         [1.7067],\n",
    "         [2.5290],\n",
    "         [1.7989]]), torch.Size([7, 1]))\n",
    "```"
   ]
  },
  {
   "cell_type": "code",
   "execution_count": 3,
   "id": "ad154ece",
   "metadata": {
    "execution": {
     "iopub.execute_input": "2025-08-30T13:45:01.038646Z",
     "iopub.status.busy": "2025-08-30T13:45:01.038350Z",
     "iopub.status.idle": "2025-08-30T13:45:01.051382Z",
     "shell.execute_reply": "2025-08-30T13:45:01.050265Z"
    },
    "id": "D-lOWI_1jRMm",
    "papermill": {
     "duration": 0.018961,
     "end_time": "2025-08-30T13:45:01.053067",
     "exception": false,
     "start_time": "2025-08-30T13:45:01.034106",
     "status": "completed"
    },
    "tags": []
   },
   "outputs": [
    {
     "name": "stdout",
     "output_type": "stream",
     "text": [
      "tensor([[1.8542],\n",
      "        [1.9611],\n",
      "        [2.2884],\n",
      "        [3.0481],\n",
      "        [1.7067],\n",
      "        [2.5290],\n",
      "        [1.7989]]) torch.Size([7, 1])\n"
     ]
    }
   ],
   "source": [
    "import torch \n",
    "\n",
    "# Set manual seed\n",
    "torch.manual_seed(0)\n",
    "\n",
    "# Create two random tensors\n",
    "x = torch.rand(7,7)\n",
    "y = torch.rand(1,7)\n",
    "\n",
    "# Matrix multiply tensors\n",
    "result = torch.matmul(x,y.T)\n",
    "print(result, result.shape)"
   ]
  },
  {
   "cell_type": "markdown",
   "id": "a72936ff",
   "metadata": {
    "id": "ezY6ks9Cis37",
    "papermill": {
     "duration": 0.003225,
     "end_time": "2025-08-30T13:45:01.060197",
     "exception": false,
     "start_time": "2025-08-30T13:45:01.056972",
     "status": "completed"
    },
    "tags": []
   },
   "source": [
    "### 5. Speaking of random seeds, we saw how to set it with `torch.manual_seed()` but is there a GPU equivalent? (hint: you'll need to look into the documentation for `torch.cuda` for this one)\n",
    "  * If there is, set the GPU random seed to `1234`."
   ]
  },
  {
   "cell_type": "code",
   "execution_count": 4,
   "id": "c85f9bb1",
   "metadata": {
    "execution": {
     "iopub.execute_input": "2025-08-30T13:45:01.068375Z",
     "iopub.status.busy": "2025-08-30T13:45:01.068054Z",
     "iopub.status.idle": "2025-08-30T13:45:01.072522Z",
     "shell.execute_reply": "2025-08-30T13:45:01.071386Z"
    },
    "id": "_LKWcfSTjp00",
    "papermill": {
     "duration": 0.010527,
     "end_time": "2025-08-30T13:45:01.074098",
     "exception": false,
     "start_time": "2025-08-30T13:45:01.063571",
     "status": "completed"
    },
    "tags": []
   },
   "outputs": [],
   "source": [
    "# Set random seed on the GPU\n"
   ]
  },
  {
   "cell_type": "markdown",
   "id": "4fce8154",
   "metadata": {
    "id": "Ir9qSaj6it4n",
    "papermill": {
     "duration": 0.003139,
     "end_time": "2025-08-30T13:45:01.080864",
     "exception": false,
     "start_time": "2025-08-30T13:45:01.077725",
     "status": "completed"
    },
    "tags": []
   },
   "source": [
    "\n",
    "### 6. Create two random tensors of shape `(2, 3)` and send them both to the GPU (you'll need access to a GPU for this). Set `torch.manual_seed(1234)` when creating the tensors (this doesn't have to be the GPU random seed). The output should be something like:\n",
    "\n",
    "```\n",
    "Device: cuda\n",
    "(tensor([[0.0290, 0.4019, 0.2598],\n",
    "         [0.3666, 0.0583, 0.7006]], device='cuda:0'),\n",
    " tensor([[0.0518, 0.4681, 0.6738],\n",
    "         [0.3315, 0.7837, 0.5631]], device='cuda:0'))\n",
    "```"
   ]
  },
  {
   "cell_type": "code",
   "execution_count": 5,
   "id": "08f99389",
   "metadata": {
    "execution": {
     "iopub.execute_input": "2025-08-30T13:45:01.090311Z",
     "iopub.status.busy": "2025-08-30T13:45:01.089972Z",
     "iopub.status.idle": "2025-08-30T13:45:01.094277Z",
     "shell.execute_reply": "2025-08-30T13:45:01.093308Z"
    },
    "id": "azXExiFZj5nm",
    "papermill": {
     "duration": 0.011214,
     "end_time": "2025-08-30T13:45:01.095879",
     "exception": false,
     "start_time": "2025-08-30T13:45:01.084665",
     "status": "completed"
    },
    "tags": []
   },
   "outputs": [],
   "source": [
    "# Set random seed\n",
    "\n",
    "\n",
    "# Check for access to GPU\n",
    "\n",
    "# Create two random tensors on GPU\n"
   ]
  },
  {
   "cell_type": "markdown",
   "id": "ce0ed482",
   "metadata": {
    "id": "5TlAxeiSiu1y",
    "papermill": {
     "duration": 0.003163,
     "end_time": "2025-08-30T13:45:01.102981",
     "exception": false,
     "start_time": "2025-08-30T13:45:01.099818",
     "status": "completed"
    },
    "tags": []
   },
   "source": [
    "\n",
    "### 7. Perform a matrix multiplication on the tensors you created in 6 (again, you may have to adjust the shapes of one of the tensors).\n",
    "\n",
    "The output should look like:\n",
    "```\n",
    "(tensor([[0.3647, 0.4709],\n",
    "         [0.5184, 0.5617]], device='cuda:0'), torch.Size([2, 2]))\n",
    "```"
   ]
  },
  {
   "cell_type": "code",
   "execution_count": 6,
   "id": "f6a00999",
   "metadata": {
    "execution": {
     "iopub.execute_input": "2025-08-30T13:45:01.111718Z",
     "iopub.status.busy": "2025-08-30T13:45:01.111423Z",
     "iopub.status.idle": "2025-08-30T13:45:01.115645Z",
     "shell.execute_reply": "2025-08-30T13:45:01.114810Z"
    },
    "id": "fAeG7ox0lHEO",
    "papermill": {
     "duration": 0.01038,
     "end_time": "2025-08-30T13:45:01.117264",
     "exception": false,
     "start_time": "2025-08-30T13:45:01.106884",
     "status": "completed"
    },
    "tags": []
   },
   "outputs": [],
   "source": [
    "# Perform matmul on tensor_A and tensor_B\n"
   ]
  },
  {
   "cell_type": "markdown",
   "id": "a2b9c701",
   "metadata": {
    "id": "G7qfa5CSivwg",
    "papermill": {
     "duration": 0.003095,
     "end_time": "2025-08-30T13:45:01.123980",
     "exception": false,
     "start_time": "2025-08-30T13:45:01.120885",
     "status": "completed"
    },
    "tags": []
   },
   "source": [
    "### 8. Find the maximum and minimum values of the output of 7."
   ]
  },
  {
   "cell_type": "code",
   "execution_count": 7,
   "id": "8085c14b",
   "metadata": {
    "execution": {
     "iopub.execute_input": "2025-08-30T13:45:01.132522Z",
     "iopub.status.busy": "2025-08-30T13:45:01.131441Z",
     "iopub.status.idle": "2025-08-30T13:45:01.135918Z",
     "shell.execute_reply": "2025-08-30T13:45:01.134803Z"
    },
    "id": "Fu8_3mZpllOd",
    "papermill": {
     "duration": 0.010225,
     "end_time": "2025-08-30T13:45:01.137468",
     "exception": false,
     "start_time": "2025-08-30T13:45:01.127243",
     "status": "completed"
    },
    "tags": []
   },
   "outputs": [],
   "source": [
    "# Find max\n",
    "\n",
    "# Find min\n"
   ]
  },
  {
   "cell_type": "markdown",
   "id": "cfa79a0a",
   "metadata": {
    "id": "wrTj5FgNiw47",
    "papermill": {
     "duration": 0.003246,
     "end_time": "2025-08-30T13:45:01.144430",
     "exception": false,
     "start_time": "2025-08-30T13:45:01.141184",
     "status": "completed"
    },
    "tags": []
   },
   "source": [
    "### 9. Find the maximum and minimum index values of the output of 7."
   ]
  },
  {
   "cell_type": "code",
   "execution_count": 8,
   "id": "bde99908",
   "metadata": {
    "execution": {
     "iopub.execute_input": "2025-08-30T13:45:01.153251Z",
     "iopub.status.busy": "2025-08-30T13:45:01.152861Z",
     "iopub.status.idle": "2025-08-30T13:45:01.157324Z",
     "shell.execute_reply": "2025-08-30T13:45:01.156399Z"
    },
    "id": "CCEKt4K2lsfQ",
    "papermill": {
     "duration": 0.011121,
     "end_time": "2025-08-30T13:45:01.159314",
     "exception": false,
     "start_time": "2025-08-30T13:45:01.148193",
     "status": "completed"
    },
    "tags": []
   },
   "outputs": [],
   "source": [
    "# Find arg max\n",
    "\n",
    "\n",
    "# Find arg min\n"
   ]
  },
  {
   "cell_type": "markdown",
   "id": "4b4d0af0",
   "metadata": {
    "id": "hmeybz4uixy7",
    "papermill": {
     "duration": 0.003283,
     "end_time": "2025-08-30T13:45:01.166349",
     "exception": false,
     "start_time": "2025-08-30T13:45:01.163066",
     "status": "completed"
    },
    "tags": []
   },
   "source": [
    "\n",
    "### 10. Make a random tensor with shape `(1, 1, 1, 10)` and then create a new tensor with all the `1` dimensions removed to be left with a tensor of shape `(10)`. Set the seed to `7` when you create it and print out the first tensor and it's shape as well as the second tensor and it's shape.\n",
    "\n",
    "The output should look like:\n",
    "\n",
    "```\n",
    "tensor([[[[0.5349, 0.1988, 0.6592, 0.6569, 0.2328, 0.4251, 0.2071, 0.6297,\n",
    "           0.3653, 0.8513]]]]) torch.Size([1, 1, 1, 10])\n",
    "tensor([0.5349, 0.1988, 0.6592, 0.6569, 0.2328, 0.4251, 0.2071, 0.6297, 0.3653,\n",
    "        0.8513]) torch.Size([10])\n",
    "```"
   ]
  },
  {
   "cell_type": "code",
   "execution_count": 9,
   "id": "62642764",
   "metadata": {
    "execution": {
     "iopub.execute_input": "2025-08-30T13:45:01.174842Z",
     "iopub.status.busy": "2025-08-30T13:45:01.174515Z",
     "iopub.status.idle": "2025-08-30T13:45:01.178903Z",
     "shell.execute_reply": "2025-08-30T13:45:01.178010Z"
    },
    "id": "TQ9zbRzVl1jV",
    "papermill": {
     "duration": 0.010403,
     "end_time": "2025-08-30T13:45:01.180416",
     "exception": false,
     "start_time": "2025-08-30T13:45:01.170013",
     "status": "completed"
    },
    "tags": []
   },
   "outputs": [],
   "source": [
    "# Set seed\n",
    "\n",
    "\n",
    "# Create random tensor\n",
    "\n",
    "\n",
    "# Remove single dimensions\n",
    "\n",
    "\n",
    "# Print out tensors and their shapes\n"
   ]
  }
 ],
 "metadata": {
  "accelerator": "GPU",
  "colab": {
   "collapsed_sections": [],
   "name": "00_pytorch_fundamentals_exercises.ipynb",
   "provenance": []
  },
  "kaggle": {
   "accelerator": "none",
   "dataSources": [],
   "dockerImageVersionId": 31089,
   "isGpuEnabled": false,
   "isInternetEnabled": true,
   "language": "python",
   "sourceType": "notebook"
  },
  "kernelspec": {
   "display_name": "Python 3",
   "language": "python",
   "name": "python3"
  },
  "language_info": {
   "codemirror_mode": {
    "name": "ipython",
    "version": 3
   },
   "file_extension": ".py",
   "mimetype": "text/x-python",
   "name": "python",
   "nbconvert_exporter": "python",
   "pygments_lexer": "ipython3",
   "version": "3.11.13"
  },
  "papermill": {
   "default_parameters": {},
   "duration": 13.742951,
   "end_time": "2025-08-30T13:45:03.396133",
   "environment_variables": {},
   "exception": null,
   "input_path": "__notebook__.ipynb",
   "output_path": "__notebook__.ipynb",
   "parameters": {},
   "start_time": "2025-08-30T13:44:49.653182",
   "version": "2.6.0"
  }
 },
 "nbformat": 4,
 "nbformat_minor": 5
}
