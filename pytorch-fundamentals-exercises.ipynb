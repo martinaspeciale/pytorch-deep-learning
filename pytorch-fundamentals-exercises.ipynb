{
 "cells": [
  {
   "cell_type": "markdown",
   "id": "0fce5d32",
   "metadata": {
    "id": "AzDBM_v4iMe7",
    "papermill": {
     "duration": 0.003246,
     "end_time": "2025-08-30T13:58:25.692575",
     "exception": false,
     "start_time": "2025-08-30T13:58:25.689329",
     "status": "completed"
    },
    "tags": []
   },
   "source": [
    "# 00. PyTorch Fundamentals Exercises\n",
    "\n",
    "### 1. Documentation reading \n",
    "\n",
    "A big part of deep learning (and learning to code in general) is getting familiar with the documentation of a certain framework you're using. We'll be using the PyTorch documentation a lot throughout the rest of this course. So I'd recommend spending 10-minutes reading the following (it's okay if you don't get some things for now, the focus is not yet full understanding, it's awareness):\n",
    "  * The documentation on [`torch.Tensor`](https://pytorch.org/docs/stable/tensors.html#torch-tensor).\n",
    "  * The documentation on [`torch.cuda`](https://pytorch.org/docs/master/notes/cuda.html#cuda-semantics).\n",
    "\n"
   ]
  },
  {
   "cell_type": "code",
   "execution_count": 1,
   "id": "2901163e",
   "metadata": {
    "execution": {
     "iopub.execute_input": "2025-08-30T13:58:25.698622Z",
     "iopub.status.busy": "2025-08-30T13:58:25.698401Z",
     "iopub.status.idle": "2025-08-30T13:58:25.702010Z",
     "shell.execute_reply": "2025-08-30T13:58:25.701338Z"
    },
    "id": "bGD0oD8Kizak",
    "papermill": {
     "duration": 0.007784,
     "end_time": "2025-08-30T13:58:25.703123",
     "exception": false,
     "start_time": "2025-08-30T13:58:25.695339",
     "status": "completed"
    },
    "tags": []
   },
   "outputs": [],
   "source": [
    "# No code solution (reading)"
   ]
  },
  {
   "cell_type": "markdown",
   "id": "276001b7",
   "metadata": {
    "id": "__iXqqz-ioUJ",
    "papermill": {
     "duration": 0.002482,
     "end_time": "2025-08-30T13:58:25.708317",
     "exception": false,
     "start_time": "2025-08-30T13:58:25.705835",
     "status": "completed"
    },
    "tags": []
   },
   "source": [
    "### 2. Create a random tensor with shape `(7, 7)`.\n"
   ]
  },
  {
   "cell_type": "code",
   "execution_count": 2,
   "id": "e8a789bc",
   "metadata": {
    "execution": {
     "iopub.execute_input": "2025-08-30T13:58:25.714108Z",
     "iopub.status.busy": "2025-08-30T13:58:25.713898Z",
     "iopub.status.idle": "2025-08-30T13:58:29.834977Z",
     "shell.execute_reply": "2025-08-30T13:58:29.834040Z"
    },
    "id": "6pUq9Dc8i2L7",
    "papermill": {
     "duration": 4.125418,
     "end_time": "2025-08-30T13:58:29.836248",
     "exception": false,
     "start_time": "2025-08-30T13:58:25.710830",
     "status": "completed"
    },
    "tags": []
   },
   "outputs": [
    {
     "name": "stdout",
     "output_type": "stream",
     "text": [
      "random tensor x:\n",
      " tensor([[0.0037, 0.1652, 0.6441, 0.7507, 0.3364, 0.6047, 0.9077],\n",
      "        [0.3593, 0.1724, 0.3059, 0.0573, 0.1145, 0.3951, 0.7585],\n",
      "        [0.6362, 0.2300, 0.7211, 0.6704, 0.9923, 0.6174, 0.4129],\n",
      "        [0.8317, 0.7466, 0.9329, 0.8597, 0.3790, 0.1239, 0.3963],\n",
      "        [0.8102, 0.3175, 0.1220, 0.9996, 0.6198, 0.1215, 0.2040],\n",
      "        [0.5927, 0.9933, 0.1125, 0.2959, 0.1027, 0.8674, 0.3128],\n",
      "        [0.8539, 0.7239, 0.0236, 0.8581, 0.5059, 0.0331, 0.9531]])\n",
      "x's shape: torch.Size([7, 7])\n"
     ]
    }
   ],
   "source": [
    "# Import torch\n",
    "import torch\n",
    "\n",
    "# Create random tensor\n",
    "x = torch.rand(7,7)\n",
    "print(f\"random tensor x:\\n {x}\")\n",
    "print(f\"x's shape: {x.shape}\")"
   ]
  },
  {
   "cell_type": "markdown",
   "id": "8592edaf",
   "metadata": {
    "id": "9-XxvRLfiqkR",
    "papermill": {
     "duration": 0.002581,
     "end_time": "2025-08-30T13:58:29.841810",
     "exception": false,
     "start_time": "2025-08-30T13:58:29.839229",
     "status": "completed"
    },
    "tags": []
   },
   "source": [
    "### 3. Perform a matrix multiplication on the tensor from 2 with another random tensor with shape `(1, 7)` (hint: you may have to transpose the second tensor)."
   ]
  },
  {
   "cell_type": "code",
   "execution_count": 3,
   "id": "688fdb89",
   "metadata": {
    "execution": {
     "iopub.execute_input": "2025-08-30T13:58:29.847820Z",
     "iopub.status.busy": "2025-08-30T13:58:29.847528Z",
     "iopub.status.idle": "2025-08-30T13:58:29.876751Z",
     "shell.execute_reply": "2025-08-30T13:58:29.876105Z"
    },
    "id": "NcLqR0Sbi_vT",
    "papermill": {
     "duration": 0.03331,
     "end_time": "2025-08-30T13:58:29.877720",
     "exception": false,
     "start_time": "2025-08-30T13:58:29.844410",
     "status": "completed"
    },
    "tags": []
   },
   "outputs": [
    {
     "name": "stdout",
     "output_type": "stream",
     "text": [
      "y:\n",
      " tensor([[0.0210, 0.4827, 0.9084, 0.8664, 0.1443, 0.0698, 0.0717]])\n",
      "x (torch.Size([7, 7])) @ y.T (torch.Size([7, 1])) --> torch.Size([7, 1])\n",
      "result: tensor([[1.4712],\n",
      "        [0.5168],\n",
      "        [1.5762],\n",
      "        [2.0620],\n",
      "        [1.2598],\n",
      "        [0.9484],\n",
      "        [1.2760]])\n"
     ]
    }
   ],
   "source": [
    "# Create another random tensor\n",
    "y = torch.rand(1,7)\n",
    "print(f\"y:\\n {y}\")\n",
    "\n",
    "# Perform matrix multiplication \n",
    "result = x @ y.T \n",
    "print(f\"x ({x.shape}) @ y.T ({y.T.shape}) --> {result.shape}\")\n",
    "print(f\"result: {result}\")"
   ]
  },
  {
   "cell_type": "markdown",
   "id": "825230e3",
   "metadata": {
    "id": "eiutdKUFiryU",
    "papermill": {
     "duration": 0.002499,
     "end_time": "2025-08-30T13:58:29.882987",
     "exception": false,
     "start_time": "2025-08-30T13:58:29.880488",
     "status": "completed"
    },
    "tags": []
   },
   "source": [
    "### 4. Set the random seed to `0` and do 2 & 3 over again.\n",
    "\n",
    "The output should be:\n",
    "```\n",
    "(tensor([[1.8542],\n",
    "         [1.9611],\n",
    "         [2.2884],\n",
    "         [3.0481],\n",
    "         [1.7067],\n",
    "         [2.5290],\n",
    "         [1.7989]]), torch.Size([7, 1]))\n",
    "```"
   ]
  },
  {
   "cell_type": "code",
   "execution_count": 4,
   "id": "cf5cf644",
   "metadata": {
    "execution": {
     "iopub.execute_input": "2025-08-30T13:58:29.889030Z",
     "iopub.status.busy": "2025-08-30T13:58:29.888825Z",
     "iopub.status.idle": "2025-08-30T13:58:29.897073Z",
     "shell.execute_reply": "2025-08-30T13:58:29.896338Z"
    },
    "id": "D-lOWI_1jRMm",
    "papermill": {
     "duration": 0.012592,
     "end_time": "2025-08-30T13:58:29.898213",
     "exception": false,
     "start_time": "2025-08-30T13:58:29.885621",
     "status": "completed"
    },
    "tags": []
   },
   "outputs": [
    {
     "name": "stdout",
     "output_type": "stream",
     "text": [
      "tensor([[1.8542],\n",
      "        [1.9611],\n",
      "        [2.2884],\n",
      "        [3.0481],\n",
      "        [1.7067],\n",
      "        [2.5290],\n",
      "        [1.7989]]) torch.Size([7, 1])\n"
     ]
    }
   ],
   "source": [
    "import torch \n",
    "\n",
    "# Set manual seed\n",
    "torch.manual_seed(0)\n",
    "\n",
    "# Create two random tensors\n",
    "x = torch.rand(7,7)\n",
    "y = torch.rand(1,7)\n",
    "\n",
    "# Matrix multiply tensors\n",
    "result = torch.matmul(x,y.T)\n",
    "print(result, result.shape)"
   ]
  },
  {
   "cell_type": "markdown",
   "id": "2d099a2d",
   "metadata": {
    "id": "ezY6ks9Cis37",
    "papermill": {
     "duration": 0.002521,
     "end_time": "2025-08-30T13:58:29.903494",
     "exception": false,
     "start_time": "2025-08-30T13:58:29.900973",
     "status": "completed"
    },
    "tags": []
   },
   "source": [
    "### 5. Speaking of random seeds, we saw how to set it with `torch.manual_seed()` but is there a GPU equivalent? (hint: you'll need to look into the documentation for `torch.cuda` for this one)\n",
    "  * If there is, set the GPU random seed to `1234`."
   ]
  },
  {
   "cell_type": "code",
   "execution_count": 5,
   "id": "cb3b95b1",
   "metadata": {
    "execution": {
     "iopub.execute_input": "2025-08-30T13:58:29.909768Z",
     "iopub.status.busy": "2025-08-30T13:58:29.909336Z",
     "iopub.status.idle": "2025-08-30T13:58:29.969262Z",
     "shell.execute_reply": "2025-08-30T13:58:29.968506Z"
    },
    "id": "_LKWcfSTjp00",
    "papermill": {
     "duration": 0.064353,
     "end_time": "2025-08-30T13:58:29.970542",
     "exception": false,
     "start_time": "2025-08-30T13:58:29.906189",
     "status": "completed"
    },
    "tags": []
   },
   "outputs": [],
   "source": [
    "import torch \n",
    "\n",
    "# Check for access to GPU\n",
    "device = \"cuda\" if torch.cuda.is_available() else \"cpu\"\n",
    "\n",
    "# Set random seed on the GPU\n",
    "torch.cuda.manual_seed(1234)"
   ]
  },
  {
   "cell_type": "markdown",
   "id": "0b872002",
   "metadata": {
    "id": "Ir9qSaj6it4n",
    "papermill": {
     "duration": 0.002557,
     "end_time": "2025-08-30T13:58:29.977012",
     "exception": false,
     "start_time": "2025-08-30T13:58:29.974455",
     "status": "completed"
    },
    "tags": []
   },
   "source": [
    "\n",
    "### 6. Create two random tensors of shape `(2, 3)` and send them both to the GPU (you'll need access to a GPU for this). Set `torch.manual_seed(1234)` when creating the tensors (this doesn't have to be the GPU random seed). The output should be something like:\n",
    "\n",
    "```\n",
    "Device: cuda\n",
    "(tensor([[0.0290, 0.4019, 0.2598],\n",
    "         [0.3666, 0.0583, 0.7006]], device='cuda:0'),\n",
    " tensor([[0.0518, 0.4681, 0.6738],\n",
    "         [0.3315, 0.7837, 0.5631]], device='cuda:0'))\n",
    "```"
   ]
  },
  {
   "cell_type": "code",
   "execution_count": 6,
   "id": "e3329e94",
   "metadata": {
    "execution": {
     "iopub.execute_input": "2025-08-30T13:58:29.983105Z",
     "iopub.status.busy": "2025-08-30T13:58:29.982871Z",
     "iopub.status.idle": "2025-08-30T13:58:30.425870Z",
     "shell.execute_reply": "2025-08-30T13:58:30.424911Z"
    },
    "id": "azXExiFZj5nm",
    "papermill": {
     "duration": 0.447467,
     "end_time": "2025-08-30T13:58:30.427111",
     "exception": false,
     "start_time": "2025-08-30T13:58:29.979644",
     "status": "completed"
    },
    "tags": []
   },
   "outputs": [
    {
     "name": "stdout",
     "output_type": "stream",
     "text": [
      "x:\n",
      " tensor([[0.0290, 0.4019, 0.2598],\n",
      "        [0.3666, 0.0583, 0.7006]], device='cuda:0')\n",
      "y:\n",
      " tensor([[0.0518, 0.4681, 0.6738],\n",
      "        [0.3315, 0.7837, 0.5631]], device='cuda:0')\n"
     ]
    }
   ],
   "source": [
    "# Set random seed\n",
    "torch.manual_seed(1234)\n",
    "\n",
    "# Create two random tensors on GPU\n",
    "x = torch.rand(2,3).to(device)\n",
    "y = torch.rand(2,3).to(device)\n",
    "print(f\"x:\\n {x}\")\n",
    "print(f\"y:\\n {y}\")"
   ]
  },
  {
   "cell_type": "markdown",
   "id": "fd51001a",
   "metadata": {
    "id": "5TlAxeiSiu1y",
    "papermill": {
     "duration": 0.002661,
     "end_time": "2025-08-30T13:58:30.432881",
     "exception": false,
     "start_time": "2025-08-30T13:58:30.430220",
     "status": "completed"
    },
    "tags": []
   },
   "source": [
    "\n",
    "### 7. Perform a matrix multiplication on the tensors you created in 6 (again, you may have to adjust the shapes of one of the tensors).\n",
    "\n",
    "The output should look like:\n",
    "```\n",
    "(tensor([[0.3647, 0.4709],\n",
    "         [0.5184, 0.5617]], device='cuda:0'), torch.Size([2, 2]))\n",
    "```"
   ]
  },
  {
   "cell_type": "code",
   "execution_count": 7,
   "id": "bebd640f",
   "metadata": {
    "execution": {
     "iopub.execute_input": "2025-08-30T13:58:30.439599Z",
     "iopub.status.busy": "2025-08-30T13:58:30.438992Z",
     "iopub.status.idle": "2025-08-30T13:58:30.513041Z",
     "shell.execute_reply": "2025-08-30T13:58:30.512185Z"
    },
    "id": "fAeG7ox0lHEO",
    "papermill": {
     "duration": 0.078537,
     "end_time": "2025-08-30T13:58:30.514198",
     "exception": false,
     "start_time": "2025-08-30T13:58:30.435661",
     "status": "completed"
    },
    "tags": []
   },
   "outputs": [
    {
     "name": "stdout",
     "output_type": "stream",
     "text": [
      "x @ y :\n",
      " tensor([[0.3647, 0.4709],\n",
      "        [0.5184, 0.5617]], device='cuda:0')\n"
     ]
    }
   ],
   "source": [
    "# Perform matmul on x and y \n",
    "result = torch.mm(x,y.T)\n",
    "print(f\"x @ y :\\n {result}\")"
   ]
  },
  {
   "cell_type": "markdown",
   "id": "078e0519",
   "metadata": {
    "id": "G7qfa5CSivwg",
    "papermill": {
     "duration": 0.002753,
     "end_time": "2025-08-30T13:58:30.519941",
     "exception": false,
     "start_time": "2025-08-30T13:58:30.517188",
     "status": "completed"
    },
    "tags": []
   },
   "source": [
    "### 8. Find the maximum and minimum values of the output of 7."
   ]
  },
  {
   "cell_type": "code",
   "execution_count": 8,
   "id": "1e2bbafe",
   "metadata": {
    "execution": {
     "iopub.execute_input": "2025-08-30T13:58:30.526807Z",
     "iopub.status.busy": "2025-08-30T13:58:30.526198Z",
     "iopub.status.idle": "2025-08-30T13:58:30.529466Z",
     "shell.execute_reply": "2025-08-30T13:58:30.528775Z"
    },
    "id": "Fu8_3mZpllOd",
    "papermill": {
     "duration": 0.008013,
     "end_time": "2025-08-30T13:58:30.530848",
     "exception": false,
     "start_time": "2025-08-30T13:58:30.522835",
     "status": "completed"
    },
    "tags": []
   },
   "outputs": [],
   "source": [
    "# Find max\n",
    "\n",
    "# Find min\n"
   ]
  },
  {
   "cell_type": "markdown",
   "id": "7161bd91",
   "metadata": {
    "id": "wrTj5FgNiw47",
    "papermill": {
     "duration": 0.002643,
     "end_time": "2025-08-30T13:58:30.536776",
     "exception": false,
     "start_time": "2025-08-30T13:58:30.534133",
     "status": "completed"
    },
    "tags": []
   },
   "source": [
    "### 9. Find the maximum and minimum index values of the output of 7."
   ]
  },
  {
   "cell_type": "code",
   "execution_count": 9,
   "id": "3ae3c052",
   "metadata": {
    "execution": {
     "iopub.execute_input": "2025-08-30T13:58:30.543715Z",
     "iopub.status.busy": "2025-08-30T13:58:30.543468Z",
     "iopub.status.idle": "2025-08-30T13:58:30.546579Z",
     "shell.execute_reply": "2025-08-30T13:58:30.545871Z"
    },
    "id": "CCEKt4K2lsfQ",
    "papermill": {
     "duration": 0.00818,
     "end_time": "2025-08-30T13:58:30.547721",
     "exception": false,
     "start_time": "2025-08-30T13:58:30.539541",
     "status": "completed"
    },
    "tags": []
   },
   "outputs": [],
   "source": [
    "# Find arg max\n",
    "\n",
    "\n",
    "# Find arg min\n"
   ]
  },
  {
   "cell_type": "markdown",
   "id": "b49fadc9",
   "metadata": {
    "id": "hmeybz4uixy7",
    "papermill": {
     "duration": 0.002642,
     "end_time": "2025-08-30T13:58:30.553324",
     "exception": false,
     "start_time": "2025-08-30T13:58:30.550682",
     "status": "completed"
    },
    "tags": []
   },
   "source": [
    "\n",
    "### 10. Make a random tensor with shape `(1, 1, 1, 10)` and then create a new tensor with all the `1` dimensions removed to be left with a tensor of shape `(10)`. Set the seed to `7` when you create it and print out the first tensor and it's shape as well as the second tensor and it's shape.\n",
    "\n",
    "The output should look like:\n",
    "\n",
    "```\n",
    "tensor([[[[0.5349, 0.1988, 0.6592, 0.6569, 0.2328, 0.4251, 0.2071, 0.6297,\n",
    "           0.3653, 0.8513]]]]) torch.Size([1, 1, 1, 10])\n",
    "tensor([0.5349, 0.1988, 0.6592, 0.6569, 0.2328, 0.4251, 0.2071, 0.6297, 0.3653,\n",
    "        0.8513]) torch.Size([10])\n",
    "```"
   ]
  },
  {
   "cell_type": "code",
   "execution_count": 10,
   "id": "0464ae28",
   "metadata": {
    "execution": {
     "iopub.execute_input": "2025-08-30T13:58:30.559969Z",
     "iopub.status.busy": "2025-08-30T13:58:30.559399Z",
     "iopub.status.idle": "2025-08-30T13:58:30.562692Z",
     "shell.execute_reply": "2025-08-30T13:58:30.562015Z"
    },
    "id": "TQ9zbRzVl1jV",
    "papermill": {
     "duration": 0.007728,
     "end_time": "2025-08-30T13:58:30.563802",
     "exception": false,
     "start_time": "2025-08-30T13:58:30.556074",
     "status": "completed"
    },
    "tags": []
   },
   "outputs": [],
   "source": [
    "# Set seed\n",
    "\n",
    "\n",
    "# Create random tensor\n",
    "\n",
    "\n",
    "# Remove single dimensions\n",
    "\n",
    "\n",
    "# Print out tensors and their shapes\n"
   ]
  }
 ],
 "metadata": {
  "accelerator": "GPU",
  "colab": {
   "collapsed_sections": [],
   "name": "00_pytorch_fundamentals_exercises.ipynb",
   "provenance": []
  },
  "kaggle": {
   "accelerator": "gpu",
   "dataSources": [],
   "dockerImageVersionId": 31089,
   "isGpuEnabled": true,
   "isInternetEnabled": true,
   "language": "python",
   "sourceType": "notebook"
  },
  "kernelspec": {
   "display_name": "Python 3",
   "language": "python",
   "name": "python3"
  },
  "language_info": {
   "codemirror_mode": {
    "name": "ipython",
    "version": 3
   },
   "file_extension": ".py",
   "mimetype": "text/x-python",
   "name": "python",
   "nbconvert_exporter": "python",
   "pygments_lexer": "ipython3",
   "version": "3.11.13"
  },
  "papermill": {
   "default_parameters": {},
   "duration": 9.983688,
   "end_time": "2025-08-30T13:58:31.585437",
   "environment_variables": {},
   "exception": null,
   "input_path": "__notebook__.ipynb",
   "output_path": "__notebook__.ipynb",
   "parameters": {},
   "start_time": "2025-08-30T13:58:21.601749",
   "version": "2.6.0"
  }
 },
 "nbformat": 4,
 "nbformat_minor": 5
}
