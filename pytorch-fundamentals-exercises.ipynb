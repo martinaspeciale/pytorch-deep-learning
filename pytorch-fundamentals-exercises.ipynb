{
 "cells": [
  {
   "cell_type": "markdown",
   "id": "d9232941",
   "metadata": {
    "id": "AzDBM_v4iMe7",
    "papermill": {
     "duration": 0.003475,
     "end_time": "2025-08-30T14:08:09.449054",
     "exception": false,
     "start_time": "2025-08-30T14:08:09.445579",
     "status": "completed"
    },
    "tags": []
   },
   "source": [
    "# 00. PyTorch Fundamentals Exercises\n",
    "\n",
    "### 1. Documentation reading \n",
    "\n",
    "A big part of deep learning (and learning to code in general) is getting familiar with the documentation of a certain framework you're using. We'll be using the PyTorch documentation a lot throughout the rest of this course. So I'd recommend spending 10-minutes reading the following (it's okay if you don't get some things for now, the focus is not yet full understanding, it's awareness):\n",
    "  * The documentation on [`torch.Tensor`](https://pytorch.org/docs/stable/tensors.html#torch-tensor).\n",
    "  * The documentation on [`torch.cuda`](https://pytorch.org/docs/master/notes/cuda.html#cuda-semantics).\n",
    "\n"
   ]
  },
  {
   "cell_type": "code",
   "execution_count": 1,
   "id": "0162b7fc",
   "metadata": {
    "execution": {
     "iopub.execute_input": "2025-08-30T14:08:09.455538Z",
     "iopub.status.busy": "2025-08-30T14:08:09.455278Z",
     "iopub.status.idle": "2025-08-30T14:08:09.459230Z",
     "shell.execute_reply": "2025-08-30T14:08:09.458548Z"
    },
    "id": "bGD0oD8Kizak",
    "papermill": {
     "duration": 0.008484,
     "end_time": "2025-08-30T14:08:09.460339",
     "exception": false,
     "start_time": "2025-08-30T14:08:09.451855",
     "status": "completed"
    },
    "tags": []
   },
   "outputs": [],
   "source": [
    "# No code solution (reading)"
   ]
  },
  {
   "cell_type": "markdown",
   "id": "0c52428e",
   "metadata": {
    "id": "__iXqqz-ioUJ",
    "papermill": {
     "duration": 0.002431,
     "end_time": "2025-08-30T14:08:09.465475",
     "exception": false,
     "start_time": "2025-08-30T14:08:09.463044",
     "status": "completed"
    },
    "tags": []
   },
   "source": [
    "### 2. Create a random tensor with shape `(7, 7)`.\n"
   ]
  },
  {
   "cell_type": "code",
   "execution_count": 2,
   "id": "03443aab",
   "metadata": {
    "execution": {
     "iopub.execute_input": "2025-08-30T14:08:09.471285Z",
     "iopub.status.busy": "2025-08-30T14:08:09.471088Z",
     "iopub.status.idle": "2025-08-30T14:08:13.397020Z",
     "shell.execute_reply": "2025-08-30T14:08:13.396114Z"
    },
    "id": "6pUq9Dc8i2L7",
    "papermill": {
     "duration": 3.930239,
     "end_time": "2025-08-30T14:08:13.398298",
     "exception": false,
     "start_time": "2025-08-30T14:08:09.468059",
     "status": "completed"
    },
    "tags": []
   },
   "outputs": [
    {
     "name": "stdout",
     "output_type": "stream",
     "text": [
      "random tensor x:\n",
      " tensor([[0.2290, 0.3617, 0.3709, 0.6532, 0.1315, 0.2009, 0.9977],\n",
      "        [0.3121, 0.8360, 0.9023, 0.0386, 0.9343, 0.0302, 0.9712],\n",
      "        [0.7598, 0.8045, 0.2558, 0.5525, 0.0790, 0.4237, 0.7821],\n",
      "        [0.1091, 0.1368, 0.6412, 0.0660, 0.8662, 0.5755, 0.7243],\n",
      "        [0.8316, 0.5883, 0.6583, 0.2246, 0.4479, 0.9833, 0.7643],\n",
      "        [0.0158, 0.8171, 0.3652, 0.4935, 0.9077, 0.4085, 0.0574],\n",
      "        [0.6372, 0.4634, 0.2565, 0.9088, 0.3915, 0.7723, 0.8700]])\n",
      "x's shape: torch.Size([7, 7])\n"
     ]
    }
   ],
   "source": [
    "# Import torch\n",
    "import torch\n",
    "\n",
    "# Create random tensor\n",
    "x = torch.rand(7,7)\n",
    "print(f\"random tensor x:\\n {x}\")\n",
    "print(f\"x's shape: {x.shape}\")"
   ]
  },
  {
   "cell_type": "markdown",
   "id": "6bee5364",
   "metadata": {
    "id": "9-XxvRLfiqkR",
    "papermill": {
     "duration": 0.002651,
     "end_time": "2025-08-30T14:08:13.404063",
     "exception": false,
     "start_time": "2025-08-30T14:08:13.401412",
     "status": "completed"
    },
    "tags": []
   },
   "source": [
    "### 3. Perform a matrix multiplication on the tensor from 2 with another random tensor with shape `(1, 7)` (hint: you may have to transpose the second tensor)."
   ]
  },
  {
   "cell_type": "code",
   "execution_count": 3,
   "id": "43f0fbcb",
   "metadata": {
    "execution": {
     "iopub.execute_input": "2025-08-30T14:08:13.410390Z",
     "iopub.status.busy": "2025-08-30T14:08:13.410104Z",
     "iopub.status.idle": "2025-08-30T14:08:13.431998Z",
     "shell.execute_reply": "2025-08-30T14:08:13.431192Z"
    },
    "id": "NcLqR0Sbi_vT",
    "papermill": {
     "duration": 0.026383,
     "end_time": "2025-08-30T14:08:13.433123",
     "exception": false,
     "start_time": "2025-08-30T14:08:13.406740",
     "status": "completed"
    },
    "tags": []
   },
   "outputs": [
    {
     "name": "stdout",
     "output_type": "stream",
     "text": [
      "y:\n",
      " tensor([[0.5537, 0.2195, 0.8248, 0.6679, 0.5250, 0.6986, 0.4581]])\n",
      "x (torch.Size([7, 7])) @ y.T (torch.Size([7, 1])) --> torch.Size([7, 1])\n",
      "result: tensor([[1.6149],\n",
      "        [2.0828],\n",
      "        [1.8731],\n",
      "        [1.8520],\n",
      "        [2.5547],\n",
      "        [1.6072],\n",
      "        [2.4167]])\n"
     ]
    }
   ],
   "source": [
    "# Create another random tensor\n",
    "y = torch.rand(1,7)\n",
    "print(f\"y:\\n {y}\")\n",
    "\n",
    "# Perform matrix multiplication \n",
    "result = x @ y.T \n",
    "print(f\"x ({x.shape}) @ y.T ({y.T.shape}) --> {result.shape}\")\n",
    "print(f\"result: {result}\")"
   ]
  },
  {
   "cell_type": "markdown",
   "id": "af3816f0",
   "metadata": {
    "id": "eiutdKUFiryU",
    "papermill": {
     "duration": 0.002581,
     "end_time": "2025-08-30T14:08:13.438586",
     "exception": false,
     "start_time": "2025-08-30T14:08:13.436005",
     "status": "completed"
    },
    "tags": []
   },
   "source": [
    "### 4. Set the random seed to `0` and do 2 & 3 over again.\n",
    "\n",
    "The output should be:\n",
    "```\n",
    "(tensor([[1.8542],\n",
    "         [1.9611],\n",
    "         [2.2884],\n",
    "         [3.0481],\n",
    "         [1.7067],\n",
    "         [2.5290],\n",
    "         [1.7989]]), torch.Size([7, 1]))\n",
    "```"
   ]
  },
  {
   "cell_type": "code",
   "execution_count": 4,
   "id": "70efb9cf",
   "metadata": {
    "execution": {
     "iopub.execute_input": "2025-08-30T14:08:13.444657Z",
     "iopub.status.busy": "2025-08-30T14:08:13.444459Z",
     "iopub.status.idle": "2025-08-30T14:08:13.454844Z",
     "shell.execute_reply": "2025-08-30T14:08:13.454082Z"
    },
    "id": "D-lOWI_1jRMm",
    "papermill": {
     "duration": 0.014655,
     "end_time": "2025-08-30T14:08:13.455907",
     "exception": false,
     "start_time": "2025-08-30T14:08:13.441252",
     "status": "completed"
    },
    "tags": []
   },
   "outputs": [
    {
     "name": "stdout",
     "output_type": "stream",
     "text": [
      "tensor([[1.8542],\n",
      "        [1.9611],\n",
      "        [2.2884],\n",
      "        [3.0481],\n",
      "        [1.7067],\n",
      "        [2.5290],\n",
      "        [1.7989]]) torch.Size([7, 1])\n"
     ]
    }
   ],
   "source": [
    "import torch \n",
    "\n",
    "# Set manual seed\n",
    "torch.manual_seed(0)\n",
    "\n",
    "# Create two random tensors\n",
    "x = torch.rand(7,7)\n",
    "y = torch.rand(1,7)\n",
    "\n",
    "# Matrix multiply tensors\n",
    "result = torch.matmul(x,y.T)\n",
    "print(result, result.shape)"
   ]
  },
  {
   "cell_type": "markdown",
   "id": "91b9be56",
   "metadata": {
    "id": "ezY6ks9Cis37",
    "papermill": {
     "duration": 0.002543,
     "end_time": "2025-08-30T14:08:13.461337",
     "exception": false,
     "start_time": "2025-08-30T14:08:13.458794",
     "status": "completed"
    },
    "tags": []
   },
   "source": [
    "### 5. Speaking of random seeds, we saw how to set it with `torch.manual_seed()` but is there a GPU equivalent? (hint: you'll need to look into the documentation for `torch.cuda` for this one)\n",
    "  * If there is, set the GPU random seed to `1234`."
   ]
  },
  {
   "cell_type": "code",
   "execution_count": 5,
   "id": "0d3f06e2",
   "metadata": {
    "execution": {
     "iopub.execute_input": "2025-08-30T14:08:13.467413Z",
     "iopub.status.busy": "2025-08-30T14:08:13.467228Z",
     "iopub.status.idle": "2025-08-30T14:08:13.524279Z",
     "shell.execute_reply": "2025-08-30T14:08:13.523690Z"
    },
    "id": "_LKWcfSTjp00",
    "papermill": {
     "duration": 0.061314,
     "end_time": "2025-08-30T14:08:13.525340",
     "exception": false,
     "start_time": "2025-08-30T14:08:13.464026",
     "status": "completed"
    },
    "tags": []
   },
   "outputs": [],
   "source": [
    "import torch \n",
    "\n",
    "# Check for access to GPU\n",
    "device = \"cuda\" if torch.cuda.is_available() else \"cpu\"\n",
    "\n",
    "# Set random seed on the GPU\n",
    "torch.cuda.manual_seed(1234)"
   ]
  },
  {
   "cell_type": "markdown",
   "id": "885357c9",
   "metadata": {
    "id": "Ir9qSaj6it4n",
    "papermill": {
     "duration": 0.002561,
     "end_time": "2025-08-30T14:08:13.531682",
     "exception": false,
     "start_time": "2025-08-30T14:08:13.529121",
     "status": "completed"
    },
    "tags": []
   },
   "source": [
    "\n",
    "### 6. Create two random tensors of shape `(2, 3)` and send them both to the GPU (you'll need access to a GPU for this). Set `torch.manual_seed(1234)` when creating the tensors (this doesn't have to be the GPU random seed). The output should be something like:\n",
    "\n",
    "```\n",
    "Device: cuda\n",
    "(tensor([[0.0290, 0.4019, 0.2598],\n",
    "         [0.3666, 0.0583, 0.7006]], device='cuda:0'),\n",
    " tensor([[0.0518, 0.4681, 0.6738],\n",
    "         [0.3315, 0.7837, 0.5631]], device='cuda:0'))\n",
    "```"
   ]
  },
  {
   "cell_type": "code",
   "execution_count": 6,
   "id": "37d90a4e",
   "metadata": {
    "execution": {
     "iopub.execute_input": "2025-08-30T14:08:13.538495Z",
     "iopub.status.busy": "2025-08-30T14:08:13.537709Z",
     "iopub.status.idle": "2025-08-30T14:08:14.005523Z",
     "shell.execute_reply": "2025-08-30T14:08:14.004629Z"
    },
    "id": "azXExiFZj5nm",
    "papermill": {
     "duration": 0.472143,
     "end_time": "2025-08-30T14:08:14.006603",
     "exception": false,
     "start_time": "2025-08-30T14:08:13.534460",
     "status": "completed"
    },
    "tags": []
   },
   "outputs": [
    {
     "name": "stdout",
     "output_type": "stream",
     "text": [
      "x:\n",
      " tensor([[0.0290, 0.4019, 0.2598],\n",
      "        [0.3666, 0.0583, 0.7006]], device='cuda:0')\n",
      "y:\n",
      " tensor([[0.0518, 0.4681, 0.6738],\n",
      "        [0.3315, 0.7837, 0.5631]], device='cuda:0')\n"
     ]
    }
   ],
   "source": [
    "# Set random seed\n",
    "torch.manual_seed(1234)\n",
    "\n",
    "# Create two random tensors on GPU\n",
    "x = torch.rand(2,3).to(device)\n",
    "y = torch.rand(2,3).to(device)\n",
    "print(f\"x:\\n {x}\")\n",
    "print(f\"y:\\n {y}\")"
   ]
  },
  {
   "cell_type": "markdown",
   "id": "365ab4a4",
   "metadata": {
    "id": "5TlAxeiSiu1y",
    "papermill": {
     "duration": 0.002688,
     "end_time": "2025-08-30T14:08:14.012597",
     "exception": false,
     "start_time": "2025-08-30T14:08:14.009909",
     "status": "completed"
    },
    "tags": []
   },
   "source": [
    "\n",
    "### 7. Perform a matrix multiplication on the tensors you created in 6 (again, you may have to adjust the shapes of one of the tensors).\n",
    "\n",
    "The output should look like:\n",
    "```\n",
    "(tensor([[0.3647, 0.4709],\n",
    "         [0.5184, 0.5617]], device='cuda:0'), torch.Size([2, 2]))\n",
    "```"
   ]
  },
  {
   "cell_type": "code",
   "execution_count": 7,
   "id": "4fc38ad9",
   "metadata": {
    "execution": {
     "iopub.execute_input": "2025-08-30T14:08:14.018926Z",
     "iopub.status.busy": "2025-08-30T14:08:14.018686Z",
     "iopub.status.idle": "2025-08-30T14:08:14.096608Z",
     "shell.execute_reply": "2025-08-30T14:08:14.095747Z"
    },
    "id": "fAeG7ox0lHEO",
    "papermill": {
     "duration": 0.082286,
     "end_time": "2025-08-30T14:08:14.097696",
     "exception": false,
     "start_time": "2025-08-30T14:08:14.015410",
     "status": "completed"
    },
    "tags": []
   },
   "outputs": [
    {
     "name": "stdout",
     "output_type": "stream",
     "text": [
      "x @ y :\n",
      " tensor([[0.3647, 0.4709],\n",
      "        [0.5184, 0.5617]], device='cuda:0')\n"
     ]
    }
   ],
   "source": [
    "# Perform matmul on x and y \n",
    "result = torch.mm(x,y.T)\n",
    "print(f\"x @ y :\\n {result}\")"
   ]
  },
  {
   "cell_type": "markdown",
   "id": "0f5d3a46",
   "metadata": {
    "id": "G7qfa5CSivwg",
    "papermill": {
     "duration": 0.002775,
     "end_time": "2025-08-30T14:08:14.103721",
     "exception": false,
     "start_time": "2025-08-30T14:08:14.100946",
     "status": "completed"
    },
    "tags": []
   },
   "source": [
    "### 8. Find the maximum and minimum values of the output of 7."
   ]
  },
  {
   "cell_type": "code",
   "execution_count": 8,
   "id": "ab77a955",
   "metadata": {
    "execution": {
     "iopub.execute_input": "2025-08-30T14:08:14.110686Z",
     "iopub.status.busy": "2025-08-30T14:08:14.110153Z",
     "iopub.status.idle": "2025-08-30T14:08:14.116267Z",
     "shell.execute_reply": "2025-08-30T14:08:14.115694Z"
    },
    "id": "Fu8_3mZpllOd",
    "papermill": {
     "duration": 0.010689,
     "end_time": "2025-08-30T14:08:14.117298",
     "exception": false,
     "start_time": "2025-08-30T14:08:14.106609",
     "status": "completed"
    },
    "tags": []
   },
   "outputs": [
    {
     "name": "stdout",
     "output_type": "stream",
     "text": [
      "max in result : 0.5617256760597229\n",
      "min in result : 0.3647301495075226\n"
     ]
    }
   ],
   "source": [
    "# Find max\n",
    "print(f\"max in result : {torch.max(result)}\")\n",
    "\n",
    "# Find min\n",
    "print(f\"min in result : {torch.min(result)}\")"
   ]
  },
  {
   "cell_type": "markdown",
   "id": "6d428ec4",
   "metadata": {
    "id": "wrTj5FgNiw47",
    "papermill": {
     "duration": 0.002676,
     "end_time": "2025-08-30T14:08:14.122906",
     "exception": false,
     "start_time": "2025-08-30T14:08:14.120230",
     "status": "completed"
    },
    "tags": []
   },
   "source": [
    "### 9. Find the maximum and minimum index values of the output of 7."
   ]
  },
  {
   "cell_type": "code",
   "execution_count": 9,
   "id": "55cc8cfe",
   "metadata": {
    "execution": {
     "iopub.execute_input": "2025-08-30T14:08:14.131094Z",
     "iopub.status.busy": "2025-08-30T14:08:14.130861Z",
     "iopub.status.idle": "2025-08-30T14:08:14.166758Z",
     "shell.execute_reply": "2025-08-30T14:08:14.166045Z"
    },
    "id": "CCEKt4K2lsfQ",
    "papermill": {
     "duration": 0.040572,
     "end_time": "2025-08-30T14:08:14.167960",
     "exception": false,
     "start_time": "2025-08-30T14:08:14.127388",
     "status": "completed"
    },
    "tags": []
   },
   "outputs": [
    {
     "name": "stdout",
     "output_type": "stream",
     "text": [
      "argmax in result : 3\n",
      "argmin in result : 0\n"
     ]
    }
   ],
   "source": [
    "# Find arg max\n",
    "print(f\"argmax in result : {torch.argmax(result)}\")\n",
    "\n",
    "# Find arg min\n",
    "print(f\"argmin in result : {torch.argmin(result)}\")\n"
   ]
  },
  {
   "cell_type": "markdown",
   "id": "59ed98ff",
   "metadata": {
    "id": "hmeybz4uixy7",
    "papermill": {
     "duration": 0.002752,
     "end_time": "2025-08-30T14:08:14.173892",
     "exception": false,
     "start_time": "2025-08-30T14:08:14.171140",
     "status": "completed"
    },
    "tags": []
   },
   "source": [
    "\n",
    "### 10. Make a random tensor with shape `(1, 1, 1, 10)` and then create a new tensor with all the `1` dimensions removed to be left with a tensor of shape `(10)`. Set the seed to `7` when you create it and print out the first tensor and it's shape as well as the second tensor and it's shape.\n",
    "\n",
    "The output should look like:\n",
    "\n",
    "```\n",
    "tensor([[[[0.5349, 0.1988, 0.6592, 0.6569, 0.2328, 0.4251, 0.2071, 0.6297,\n",
    "           0.3653, 0.8513]]]]) torch.Size([1, 1, 1, 10])\n",
    "tensor([0.5349, 0.1988, 0.6592, 0.6569, 0.2328, 0.4251, 0.2071, 0.6297, 0.3653,\n",
    "        0.8513]) torch.Size([10])\n",
    "```"
   ]
  },
  {
   "cell_type": "code",
   "execution_count": 10,
   "id": "89babb51",
   "metadata": {
    "execution": {
     "iopub.execute_input": "2025-08-30T14:08:14.180499Z",
     "iopub.status.busy": "2025-08-30T14:08:14.180104Z",
     "iopub.status.idle": "2025-08-30T14:08:14.186613Z",
     "shell.execute_reply": "2025-08-30T14:08:14.186007Z"
    },
    "id": "TQ9zbRzVl1jV",
    "papermill": {
     "duration": 0.010931,
     "end_time": "2025-08-30T14:08:14.187610",
     "exception": false,
     "start_time": "2025-08-30T14:08:14.176679",
     "status": "completed"
    },
    "tags": []
   },
   "outputs": [
    {
     "name": "stdout",
     "output_type": "stream",
     "text": [
      "tensor([[[[0.5349, 0.1988, 0.6592, 0.6569, 0.2328, 0.4251, 0.2071, 0.6297,\n",
      "           0.3653, 0.8513]]]]) torch.Size([1, 1, 1, 10])\n",
      "tensor([0.5349, 0.1988, 0.6592, 0.6569, 0.2328, 0.4251, 0.2071, 0.6297, 0.3653,\n",
      "        0.8513]) torch.Size([10])\n"
     ]
    }
   ],
   "source": [
    "# Set seed\n",
    "torch.manual_seed(7)\n",
    "\n",
    "# Create random tensor\n",
    "random_tensor = torch.rand(1,1,1,10)\n",
    "print(random_tensor, random_tensor.shape)\n",
    "\n",
    "# Remove single dimensions\n",
    "squeezed_tensor = random_tensor.squeeze()\n",
    "print(squeezed_tensor, squeezed_tensor.shape)"
   ]
  }
 ],
 "metadata": {
  "accelerator": "GPU",
  "colab": {
   "collapsed_sections": [],
   "name": "00_pytorch_fundamentals_exercises.ipynb",
   "provenance": []
  },
  "kaggle": {
   "accelerator": "gpu",
   "dataSources": [],
   "dockerImageVersionId": 31089,
   "isGpuEnabled": true,
   "isInternetEnabled": true,
   "language": "python",
   "sourceType": "notebook"
  },
  "kernelspec": {
   "display_name": "Python 3",
   "language": "python",
   "name": "python3"
  },
  "language_info": {
   "codemirror_mode": {
    "name": "ipython",
    "version": 3
   },
   "file_extension": ".py",
   "mimetype": "text/x-python",
   "name": "python",
   "nbconvert_exporter": "python",
   "pygments_lexer": "ipython3",
   "version": "3.11.13"
  },
  "papermill": {
   "default_parameters": {},
   "duration": 9.925798,
   "end_time": "2025-08-30T14:08:15.310338",
   "environment_variables": {},
   "exception": null,
   "input_path": "__notebook__.ipynb",
   "output_path": "__notebook__.ipynb",
   "parameters": {},
   "start_time": "2025-08-30T14:08:05.384540",
   "version": "2.6.0"
  }
 },
 "nbformat": 4,
 "nbformat_minor": 5
}
