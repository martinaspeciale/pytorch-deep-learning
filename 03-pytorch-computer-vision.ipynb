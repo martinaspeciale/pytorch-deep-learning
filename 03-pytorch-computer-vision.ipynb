{
 "cells": [
  {
   "cell_type": "markdown",
   "id": "8cd8a365",
   "metadata": {
    "papermill": {
     "duration": 0.006633,
     "end_time": "2025-09-02T12:02:19.120268",
     "exception": false,
     "start_time": "2025-09-02T12:02:19.113635",
     "status": "completed"
    },
    "tags": []
   },
   "source": [
    "# **PyTorch Computer Vision**"
   ]
  },
  {
   "cell_type": "markdown",
   "id": "3bf69198",
   "metadata": {
    "papermill": {
     "duration": 0.005469,
     "end_time": "2025-09-02T12:02:19.131866",
     "exception": false,
     "start_time": "2025-09-02T12:02:19.126397",
     "status": "completed"
    },
    "tags": []
   },
   "source": [
    "## 0. Computer Vision libraries in Python \n",
    "* `torchvision` : base domain library for PyTorch CV \n",
    "* `torchvision.datasets` : get datasets and data loading functions for CV \n",
    "* `torchvision.models` : get pretrained CV models we can leverage for new problems \n",
    "* `torchvision.transform` : functions for manipulating your vision data (images) to be suitable for use with an ML model\n",
    "* `torch.utils.data.Dataset` : base dataset class for PyTorch \n",
    "* `torch.utils.data.DataLoader` : creates a python iterable over a dataset "
   ]
  },
  {
   "cell_type": "code",
   "execution_count": 1,
   "id": "f5f179ee",
   "metadata": {
    "execution": {
     "iopub.execute_input": "2025-09-02T12:02:19.144868Z",
     "iopub.status.busy": "2025-09-02T12:02:19.144487Z",
     "iopub.status.idle": "2025-09-02T12:02:31.756328Z",
     "shell.execute_reply": "2025-09-02T12:02:31.755154Z"
    },
    "papermill": {
     "duration": 12.620297,
     "end_time": "2025-09-02T12:02:31.757910",
     "exception": false,
     "start_time": "2025-09-02T12:02:19.137613",
     "status": "completed"
    },
    "tags": []
   },
   "outputs": [
    {
     "name": "stdout",
     "output_type": "stream",
     "text": [
      "2.6.0+cu124\n",
      "0.21.0+cu124\n"
     ]
    }
   ],
   "source": [
    "import torch \n",
    "from torch import nn \n",
    "\n",
    "import torchvision \n",
    "from torchvision import datasets \n",
    "from torchvision import transforms \n",
    "from torchvision.transforms import ToTensor \n",
    "\n",
    "import matplotlib.pyplot as plt \n",
    "\n",
    "print(torch.__version__)\n",
    "print(torchvision.__version__)"
   ]
  },
  {
   "cell_type": "markdown",
   "id": "52134fd8",
   "metadata": {
    "papermill": {
     "duration": 0.005466,
     "end_time": "2025-09-02T12:02:31.769559",
     "exception": false,
     "start_time": "2025-09-02T12:02:31.764093",
     "status": "completed"
    },
    "tags": []
   },
   "source": [
    "## 1. Getting a dataset : Fashion MNIST  "
   ]
  },
  {
   "cell_type": "code",
   "execution_count": 2,
   "id": "65331bf2",
   "metadata": {
    "execution": {
     "iopub.execute_input": "2025-09-02T12:02:31.782984Z",
     "iopub.status.busy": "2025-09-02T12:02:31.782577Z",
     "iopub.status.idle": "2025-09-02T12:02:36.704029Z",
     "shell.execute_reply": "2025-09-02T12:02:36.702722Z"
    },
    "papermill": {
     "duration": 4.930654,
     "end_time": "2025-09-02T12:02:36.705998",
     "exception": false,
     "start_time": "2025-09-02T12:02:31.775344",
     "status": "completed"
    },
    "tags": []
   },
   "outputs": [
    {
     "name": "stderr",
     "output_type": "stream",
     "text": [
      "100%|██████████| 26.4M/26.4M [00:01<00:00, 18.9MB/s]\n",
      "100%|██████████| 29.5k/29.5k [00:00<00:00, 305kB/s]\n",
      "100%|██████████| 4.42M/4.42M [00:00<00:00, 5.62MB/s]\n",
      "100%|██████████| 5.15k/5.15k [00:00<00:00, 8.69MB/s]\n"
     ]
    }
   ],
   "source": [
    "# setup training data \n",
    "from torchvision import datasets \n",
    "train_data = datasets.FashionMNIST(\n",
    "    root=\"data\", # where to download data to\n",
    "    train=True,  # do we want the training dataset?\n",
    "    download=True, # do we want to download it?\n",
    "    transform=torchvision.transforms.ToTensor(), # how do we want to transform the data\n",
    "    target_transform=None # how do we want to transform the label \n",
    ")\n",
    "\n",
    "test_data = datasets.FashionMNIST(\n",
    "    root=\"data\", \n",
    "    train=False, \n",
    "    download=True,\n",
    "    transform=torchvision.transforms.ToTensor(),\n",
    "    target_transform=None\n",
    ")"
   ]
  },
  {
   "cell_type": "code",
   "execution_count": 3,
   "id": "f516d6dd",
   "metadata": {
    "execution": {
     "iopub.execute_input": "2025-09-02T12:02:36.722800Z",
     "iopub.status.busy": "2025-09-02T12:02:36.722487Z",
     "iopub.status.idle": "2025-09-02T12:02:36.729483Z",
     "shell.execute_reply": "2025-09-02T12:02:36.728405Z"
    },
    "papermill": {
     "duration": 0.017692,
     "end_time": "2025-09-02T12:02:36.731140",
     "exception": false,
     "start_time": "2025-09-02T12:02:36.713448",
     "status": "completed"
    },
    "tags": []
   },
   "outputs": [
    {
     "data": {
      "text/plain": [
       "(60000, 10000)"
      ]
     },
     "execution_count": 3,
     "metadata": {},
     "output_type": "execute_result"
    }
   ],
   "source": [
    "len(train_data), len(test_data)"
   ]
  },
  {
   "cell_type": "code",
   "execution_count": 4,
   "id": "ae8df8c8",
   "metadata": {
    "execution": {
     "iopub.execute_input": "2025-09-02T12:02:36.748992Z",
     "iopub.status.busy": "2025-09-02T12:02:36.748631Z",
     "iopub.status.idle": "2025-09-02T12:02:36.788270Z",
     "shell.execute_reply": "2025-09-02T12:02:36.787102Z"
    },
    "papermill": {
     "duration": 0.050774,
     "end_time": "2025-09-02T12:02:36.789933",
     "exception": false,
     "start_time": "2025-09-02T12:02:36.739159",
     "status": "completed"
    },
    "tags": []
   },
   "outputs": [
    {
     "data": {
      "text/plain": [
       "(tensor([[[0.0000, 0.0000, 0.0000, 0.0000, 0.0000, 0.0000, 0.0000, 0.0000,\n",
       "           0.0000, 0.0000, 0.0000, 0.0000, 0.0000, 0.0000, 0.0000, 0.0000,\n",
       "           0.0000, 0.0000, 0.0000, 0.0000, 0.0000, 0.0000, 0.0000, 0.0000,\n",
       "           0.0000, 0.0000, 0.0000, 0.0000],\n",
       "          [0.0000, 0.0000, 0.0000, 0.0000, 0.0000, 0.0000, 0.0000, 0.0000,\n",
       "           0.0000, 0.0000, 0.0000, 0.0000, 0.0000, 0.0000, 0.0000, 0.0000,\n",
       "           0.0000, 0.0000, 0.0000, 0.0000, 0.0000, 0.0000, 0.0000, 0.0000,\n",
       "           0.0000, 0.0000, 0.0000, 0.0000],\n",
       "          [0.0000, 0.0000, 0.0000, 0.0000, 0.0000, 0.0000, 0.0000, 0.0000,\n",
       "           0.0000, 0.0000, 0.0000, 0.0000, 0.0000, 0.0000, 0.0000, 0.0000,\n",
       "           0.0000, 0.0000, 0.0000, 0.0000, 0.0000, 0.0000, 0.0000, 0.0000,\n",
       "           0.0000, 0.0000, 0.0000, 0.0000],\n",
       "          [0.0000, 0.0000, 0.0000, 0.0000, 0.0000, 0.0000, 0.0000, 0.0000,\n",
       "           0.0000, 0.0000, 0.0000, 0.0000, 0.0039, 0.0000, 0.0000, 0.0510,\n",
       "           0.2863, 0.0000, 0.0000, 0.0039, 0.0157, 0.0000, 0.0000, 0.0000,\n",
       "           0.0000, 0.0039, 0.0039, 0.0000],\n",
       "          [0.0000, 0.0000, 0.0000, 0.0000, 0.0000, 0.0000, 0.0000, 0.0000,\n",
       "           0.0000, 0.0000, 0.0000, 0.0000, 0.0118, 0.0000, 0.1412, 0.5333,\n",
       "           0.4980, 0.2431, 0.2118, 0.0000, 0.0000, 0.0000, 0.0039, 0.0118,\n",
       "           0.0157, 0.0000, 0.0000, 0.0118],\n",
       "          [0.0000, 0.0000, 0.0000, 0.0000, 0.0000, 0.0000, 0.0000, 0.0000,\n",
       "           0.0000, 0.0000, 0.0000, 0.0000, 0.0235, 0.0000, 0.4000, 0.8000,\n",
       "           0.6902, 0.5255, 0.5647, 0.4824, 0.0902, 0.0000, 0.0000, 0.0000,\n",
       "           0.0000, 0.0471, 0.0392, 0.0000],\n",
       "          [0.0000, 0.0000, 0.0000, 0.0000, 0.0000, 0.0000, 0.0000, 0.0000,\n",
       "           0.0000, 0.0000, 0.0000, 0.0000, 0.0000, 0.0000, 0.6078, 0.9255,\n",
       "           0.8118, 0.6980, 0.4196, 0.6118, 0.6314, 0.4275, 0.2510, 0.0902,\n",
       "           0.3020, 0.5098, 0.2824, 0.0588],\n",
       "          [0.0000, 0.0000, 0.0000, 0.0000, 0.0000, 0.0000, 0.0000, 0.0000,\n",
       "           0.0000, 0.0000, 0.0000, 0.0039, 0.0000, 0.2706, 0.8118, 0.8745,\n",
       "           0.8549, 0.8471, 0.8471, 0.6392, 0.4980, 0.4745, 0.4784, 0.5725,\n",
       "           0.5529, 0.3451, 0.6745, 0.2588],\n",
       "          [0.0000, 0.0000, 0.0000, 0.0000, 0.0000, 0.0000, 0.0000, 0.0000,\n",
       "           0.0000, 0.0039, 0.0039, 0.0039, 0.0000, 0.7843, 0.9098, 0.9098,\n",
       "           0.9137, 0.8980, 0.8745, 0.8745, 0.8431, 0.8353, 0.6431, 0.4980,\n",
       "           0.4824, 0.7686, 0.8980, 0.0000],\n",
       "          [0.0000, 0.0000, 0.0000, 0.0000, 0.0000, 0.0000, 0.0000, 0.0000,\n",
       "           0.0000, 0.0000, 0.0000, 0.0000, 0.0000, 0.7176, 0.8824, 0.8471,\n",
       "           0.8745, 0.8941, 0.9216, 0.8902, 0.8784, 0.8706, 0.8784, 0.8667,\n",
       "           0.8745, 0.9608, 0.6784, 0.0000],\n",
       "          [0.0000, 0.0000, 0.0000, 0.0000, 0.0000, 0.0000, 0.0000, 0.0000,\n",
       "           0.0000, 0.0000, 0.0000, 0.0000, 0.0000, 0.7569, 0.8941, 0.8549,\n",
       "           0.8353, 0.7765, 0.7059, 0.8314, 0.8235, 0.8275, 0.8353, 0.8745,\n",
       "           0.8627, 0.9529, 0.7922, 0.0000],\n",
       "          [0.0000, 0.0000, 0.0000, 0.0000, 0.0000, 0.0000, 0.0000, 0.0000,\n",
       "           0.0000, 0.0039, 0.0118, 0.0000, 0.0471, 0.8588, 0.8627, 0.8314,\n",
       "           0.8549, 0.7529, 0.6627, 0.8902, 0.8157, 0.8549, 0.8784, 0.8314,\n",
       "           0.8863, 0.7725, 0.8196, 0.2039],\n",
       "          [0.0000, 0.0000, 0.0000, 0.0000, 0.0000, 0.0000, 0.0000, 0.0000,\n",
       "           0.0000, 0.0000, 0.0235, 0.0000, 0.3882, 0.9569, 0.8706, 0.8627,\n",
       "           0.8549, 0.7961, 0.7765, 0.8667, 0.8431, 0.8353, 0.8706, 0.8627,\n",
       "           0.9608, 0.4667, 0.6549, 0.2196],\n",
       "          [0.0000, 0.0000, 0.0000, 0.0000, 0.0000, 0.0000, 0.0000, 0.0000,\n",
       "           0.0000, 0.0157, 0.0000, 0.0000, 0.2157, 0.9255, 0.8941, 0.9020,\n",
       "           0.8941, 0.9412, 0.9098, 0.8353, 0.8549, 0.8745, 0.9176, 0.8510,\n",
       "           0.8510, 0.8196, 0.3608, 0.0000],\n",
       "          [0.0000, 0.0000, 0.0039, 0.0157, 0.0235, 0.0275, 0.0078, 0.0000,\n",
       "           0.0000, 0.0000, 0.0000, 0.0000, 0.9294, 0.8863, 0.8510, 0.8745,\n",
       "           0.8706, 0.8588, 0.8706, 0.8667, 0.8471, 0.8745, 0.8980, 0.8431,\n",
       "           0.8549, 1.0000, 0.3020, 0.0000],\n",
       "          [0.0000, 0.0118, 0.0000, 0.0000, 0.0000, 0.0000, 0.0000, 0.0000,\n",
       "           0.0000, 0.2431, 0.5686, 0.8000, 0.8941, 0.8118, 0.8353, 0.8667,\n",
       "           0.8549, 0.8157, 0.8275, 0.8549, 0.8784, 0.8745, 0.8588, 0.8431,\n",
       "           0.8784, 0.9569, 0.6235, 0.0000],\n",
       "          [0.0000, 0.0000, 0.0000, 0.0000, 0.0706, 0.1725, 0.3216, 0.4196,\n",
       "           0.7412, 0.8941, 0.8627, 0.8706, 0.8510, 0.8863, 0.7843, 0.8039,\n",
       "           0.8275, 0.9020, 0.8784, 0.9176, 0.6902, 0.7373, 0.9804, 0.9725,\n",
       "           0.9137, 0.9333, 0.8431, 0.0000],\n",
       "          [0.0000, 0.2235, 0.7333, 0.8157, 0.8784, 0.8667, 0.8784, 0.8157,\n",
       "           0.8000, 0.8392, 0.8157, 0.8196, 0.7843, 0.6235, 0.9608, 0.7569,\n",
       "           0.8078, 0.8745, 1.0000, 1.0000, 0.8667, 0.9176, 0.8667, 0.8275,\n",
       "           0.8627, 0.9098, 0.9647, 0.0000],\n",
       "          [0.0118, 0.7922, 0.8941, 0.8784, 0.8667, 0.8275, 0.8275, 0.8392,\n",
       "           0.8039, 0.8039, 0.8039, 0.8627, 0.9412, 0.3137, 0.5882, 1.0000,\n",
       "           0.8980, 0.8667, 0.7373, 0.6039, 0.7490, 0.8235, 0.8000, 0.8196,\n",
       "           0.8706, 0.8941, 0.8824, 0.0000],\n",
       "          [0.3843, 0.9137, 0.7765, 0.8235, 0.8706, 0.8980, 0.8980, 0.9176,\n",
       "           0.9765, 0.8627, 0.7608, 0.8431, 0.8510, 0.9451, 0.2549, 0.2863,\n",
       "           0.4157, 0.4588, 0.6588, 0.8588, 0.8667, 0.8431, 0.8510, 0.8745,\n",
       "           0.8745, 0.8784, 0.8980, 0.1137],\n",
       "          [0.2941, 0.8000, 0.8314, 0.8000, 0.7569, 0.8039, 0.8275, 0.8824,\n",
       "           0.8471, 0.7255, 0.7725, 0.8078, 0.7765, 0.8353, 0.9412, 0.7647,\n",
       "           0.8902, 0.9608, 0.9373, 0.8745, 0.8549, 0.8314, 0.8196, 0.8706,\n",
       "           0.8627, 0.8667, 0.9020, 0.2627],\n",
       "          [0.1882, 0.7961, 0.7176, 0.7608, 0.8353, 0.7725, 0.7255, 0.7451,\n",
       "           0.7608, 0.7529, 0.7922, 0.8392, 0.8588, 0.8667, 0.8627, 0.9255,\n",
       "           0.8824, 0.8471, 0.7804, 0.8078, 0.7294, 0.7098, 0.6941, 0.6745,\n",
       "           0.7098, 0.8039, 0.8078, 0.4510],\n",
       "          [0.0000, 0.4784, 0.8588, 0.7569, 0.7020, 0.6706, 0.7176, 0.7686,\n",
       "           0.8000, 0.8235, 0.8353, 0.8118, 0.8275, 0.8235, 0.7843, 0.7686,\n",
       "           0.7608, 0.7490, 0.7647, 0.7490, 0.7765, 0.7529, 0.6902, 0.6118,\n",
       "           0.6549, 0.6941, 0.8235, 0.3608],\n",
       "          [0.0000, 0.0000, 0.2902, 0.7412, 0.8314, 0.7490, 0.6863, 0.6745,\n",
       "           0.6863, 0.7098, 0.7255, 0.7373, 0.7412, 0.7373, 0.7569, 0.7765,\n",
       "           0.8000, 0.8196, 0.8235, 0.8235, 0.8275, 0.7373, 0.7373, 0.7608,\n",
       "           0.7529, 0.8471, 0.6667, 0.0000],\n",
       "          [0.0078, 0.0000, 0.0000, 0.0000, 0.2588, 0.7843, 0.8706, 0.9294,\n",
       "           0.9373, 0.9490, 0.9647, 0.9529, 0.9569, 0.8667, 0.8627, 0.7569,\n",
       "           0.7490, 0.7020, 0.7137, 0.7137, 0.7098, 0.6902, 0.6510, 0.6588,\n",
       "           0.3882, 0.2275, 0.0000, 0.0000],\n",
       "          [0.0000, 0.0000, 0.0000, 0.0000, 0.0000, 0.0000, 0.0000, 0.1569,\n",
       "           0.2392, 0.1725, 0.2824, 0.1608, 0.1373, 0.0000, 0.0000, 0.0000,\n",
       "           0.0000, 0.0000, 0.0000, 0.0000, 0.0000, 0.0000, 0.0000, 0.0000,\n",
       "           0.0000, 0.0000, 0.0000, 0.0000],\n",
       "          [0.0000, 0.0000, 0.0000, 0.0000, 0.0000, 0.0000, 0.0000, 0.0000,\n",
       "           0.0000, 0.0000, 0.0000, 0.0000, 0.0000, 0.0000, 0.0000, 0.0000,\n",
       "           0.0000, 0.0000, 0.0000, 0.0000, 0.0000, 0.0000, 0.0000, 0.0000,\n",
       "           0.0000, 0.0000, 0.0000, 0.0000],\n",
       "          [0.0000, 0.0000, 0.0000, 0.0000, 0.0000, 0.0000, 0.0000, 0.0000,\n",
       "           0.0000, 0.0000, 0.0000, 0.0000, 0.0000, 0.0000, 0.0000, 0.0000,\n",
       "           0.0000, 0.0000, 0.0000, 0.0000, 0.0000, 0.0000, 0.0000, 0.0000,\n",
       "           0.0000, 0.0000, 0.0000, 0.0000]]]),\n",
       " 9)"
      ]
     },
     "execution_count": 4,
     "metadata": {},
     "output_type": "execute_result"
    }
   ],
   "source": [
    "image, label = train_data[0]\n",
    "image, label"
   ]
  },
  {
   "cell_type": "code",
   "execution_count": 5,
   "id": "aeb0a9e4",
   "metadata": {
    "execution": {
     "iopub.execute_input": "2025-09-02T12:02:36.807734Z",
     "iopub.status.busy": "2025-09-02T12:02:36.807400Z",
     "iopub.status.idle": "2025-09-02T12:02:36.813827Z",
     "shell.execute_reply": "2025-09-02T12:02:36.812854Z"
    },
    "papermill": {
     "duration": 0.017313,
     "end_time": "2025-09-02T12:02:36.815609",
     "exception": false,
     "start_time": "2025-09-02T12:02:36.798296",
     "status": "completed"
    },
    "tags": []
   },
   "outputs": [
    {
     "data": {
      "text/plain": [
       "['T-shirt/top',\n",
       " 'Trouser',\n",
       " 'Pullover',\n",
       " 'Dress',\n",
       " 'Coat',\n",
       " 'Sandal',\n",
       " 'Shirt',\n",
       " 'Sneaker',\n",
       " 'Bag',\n",
       " 'Ankle boot']"
      ]
     },
     "execution_count": 5,
     "metadata": {},
     "output_type": "execute_result"
    }
   ],
   "source": [
    "class_names = train_data.classes\n",
    "class_names"
   ]
  },
  {
   "cell_type": "code",
   "execution_count": 6,
   "id": "e8790fdd",
   "metadata": {
    "execution": {
     "iopub.execute_input": "2025-09-02T12:02:36.832738Z",
     "iopub.status.busy": "2025-09-02T12:02:36.831670Z",
     "iopub.status.idle": "2025-09-02T12:02:36.838482Z",
     "shell.execute_reply": "2025-09-02T12:02:36.837627Z"
    },
    "papermill": {
     "duration": 0.016642,
     "end_time": "2025-09-02T12:02:36.839889",
     "exception": false,
     "start_time": "2025-09-02T12:02:36.823247",
     "status": "completed"
    },
    "tags": []
   },
   "outputs": [
    {
     "data": {
      "text/plain": [
       "{'T-shirt/top': 0,\n",
       " 'Trouser': 1,\n",
       " 'Pullover': 2,\n",
       " 'Dress': 3,\n",
       " 'Coat': 4,\n",
       " 'Sandal': 5,\n",
       " 'Shirt': 6,\n",
       " 'Sneaker': 7,\n",
       " 'Bag': 8,\n",
       " 'Ankle boot': 9}"
      ]
     },
     "execution_count": 6,
     "metadata": {},
     "output_type": "execute_result"
    }
   ],
   "source": [
    "class_to_idx = train_data.class_to_idx \n",
    "class_to_idx"
   ]
  },
  {
   "cell_type": "code",
   "execution_count": 7,
   "id": "bd7be113",
   "metadata": {
    "execution": {
     "iopub.execute_input": "2025-09-02T12:02:36.857078Z",
     "iopub.status.busy": "2025-09-02T12:02:36.856704Z",
     "iopub.status.idle": "2025-09-02T12:02:36.862576Z",
     "shell.execute_reply": "2025-09-02T12:02:36.861190Z"
    },
    "papermill": {
     "duration": 0.016304,
     "end_time": "2025-09-02T12:02:36.864369",
     "exception": false,
     "start_time": "2025-09-02T12:02:36.848065",
     "status": "completed"
    },
    "tags": []
   },
   "outputs": [
    {
     "name": "stdout",
     "output_type": "stream",
     "text": [
      "Image shape: torch.Size([1, 28, 28]) -> [color_cannels, height, width]\n",
      "image label: Ankle boot\n"
     ]
    }
   ],
   "source": [
    "print(f\"Image shape: {image.shape} -> [color_cannels, height, width]\")\n",
    "print(f\"image label: {class_names[label]}\")"
   ]
  },
  {
   "cell_type": "markdown",
   "id": "40460358",
   "metadata": {
    "papermill": {
     "duration": 0.008142,
     "end_time": "2025-09-02T12:02:36.881372",
     "exception": false,
     "start_time": "2025-09-02T12:02:36.873230",
     "status": "completed"
    },
    "tags": []
   },
   "source": [
    "### 1.2 Visualizing data"
   ]
  },
  {
   "cell_type": "code",
   "execution_count": 8,
   "id": "892d1cbb",
   "metadata": {
    "execution": {
     "iopub.execute_input": "2025-09-02T12:02:36.898524Z",
     "iopub.status.busy": "2025-09-02T12:02:36.898214Z",
     "iopub.status.idle": "2025-09-02T12:02:37.204201Z",
     "shell.execute_reply": "2025-09-02T12:02:37.202867Z"
    },
    "papermill": {
     "duration": 0.316527,
     "end_time": "2025-09-02T12:02:37.206261",
     "exception": false,
     "start_time": "2025-09-02T12:02:36.889734",
     "status": "completed"
    },
    "tags": []
   },
   "outputs": [
    {
     "data": {
      "text/plain": [
       "<matplotlib.image.AxesImage at 0x7c79f6f3b710>"
      ]
     },
     "execution_count": 8,
     "metadata": {},
     "output_type": "execute_result"
    },
    {
     "data": {
      "image/png": "[encoded data removed]",
      "text/plain": [
       "<Figure size 640x480 with 1 Axes>"
      ]
     },
     "metadata": {},
     "output_type": "display_data"
    }
   ],
   "source": [
    "import matplotlib.pyplot as plt \n",
    "\n",
    "image, label = train_data[0]\n",
    "plt.imshow(image.squeeze()) # we need squeeze to remove the color channel dimension"
   ]
  },
  {
   "cell_type": "code",
   "execution_count": 9,
   "id": "111a6977",
   "metadata": {
    "execution": {
     "iopub.execute_input": "2025-09-02T12:02:37.225155Z",
     "iopub.status.busy": "2025-09-02T12:02:37.224792Z",
     "iopub.status.idle": "2025-09-02T12:02:37.331624Z",
     "shell.execute_reply": "2025-09-02T12:02:37.330699Z"
    },
    "papermill": {
     "duration": 0.118235,
     "end_time": "2025-09-02T12:02:37.333223",
     "exception": false,
     "start_time": "2025-09-02T12:02:37.214988",
     "status": "completed"
    },
    "tags": []
   },
   "outputs": [
    {
     "data": {
      "text/plain": [
       "(-0.5, 27.5, 27.5, -0.5)"
      ]
     },
     "execution_count": 9,
     "metadata": {},
     "output_type": "execute_result"
    },
    {
     "data": {
      "image/png": "[encoded data removed]",
      "text/plain": [
       "<Figure size 640x480 with 1 Axes>"
      ]
     },
     "metadata": {},
     "output_type": "display_data"
    }
   ],
   "source": [
    "plt.imshow(image.squeeze(), cmap=\"gray\")\n",
    "plt.title(class_names[label])\n",
    "plt.axis(False)"
   ]
  },
  {
   "cell_type": "code",
   "execution_count": 10,
   "id": "a4e4408d",
   "metadata": {
    "execution": {
     "iopub.execute_input": "2025-09-02T12:02:37.351367Z",
     "iopub.status.busy": "2025-09-02T12:02:37.350951Z",
     "iopub.status.idle": "2025-09-02T12:02:38.402648Z",
     "shell.execute_reply": "2025-09-02T12:02:38.401656Z"
    },
    "papermill": {
     "duration": 1.063654,
     "end_time": "2025-09-02T12:02:38.405310",
     "exception": false,
     "start_time": "2025-09-02T12:02:37.341656",
     "status": "completed"
    },
    "tags": []
   },
   "outputs": [
    {
     "data": {
      "image/png": "[encoded data removed]",
      "text/plain": [
       "<Figure size 900x900 with 16 Axes>"
      ]
     },
     "metadata": {},
     "output_type": "display_data"
    }
   ],
   "source": [
    "# plot more images \n",
    "# torch.manual_seed(42)\n",
    "\n",
    "fig = plt.figure(figsize=(9,9))\n",
    "rows, cols = 4,4 \n",
    "for i in range(1, rows*cols+1):\n",
    "    random_idx = torch.randint(0, len(train_data), size=[1]).item()\n",
    "    # print(random_idx)\n",
    "    img, label = train_data[random_idx]\n",
    "    fig.add_subplot(rows,cols,i)\n",
    "    plt.imshow(img.squeeze(), cmap=\"gray\")\n",
    "    plt.title(class_names[label])\n",
    "    plt.axis(False)"
   ]
  },
  {
   "cell_type": "code",
   "execution_count": 11,
   "id": "22a1236b",
   "metadata": {
    "execution": {
     "iopub.execute_input": "2025-09-02T12:02:38.431141Z",
     "iopub.status.busy": "2025-09-02T12:02:38.430774Z",
     "iopub.status.idle": "2025-09-02T12:02:38.437450Z",
     "shell.execute_reply": "2025-09-02T12:02:38.436337Z"
    },
    "papermill": {
     "duration": 0.02009,
     "end_time": "2025-09-02T12:02:38.439267",
     "exception": false,
     "start_time": "2025-09-02T12:02:38.419177",
     "status": "completed"
    },
    "tags": []
   },
   "outputs": [
    {
     "data": {
      "text/plain": [
       "(Dataset FashionMNIST\n",
       "     Number of datapoints: 60000\n",
       "     Root location: data\n",
       "     Split: Train\n",
       "     StandardTransform\n",
       " Transform: ToTensor(),\n",
       " Dataset FashionMNIST\n",
       "     Number of datapoints: 10000\n",
       "     Root location: data\n",
       "     Split: Test\n",
       "     StandardTransform\n",
       " Transform: ToTensor())"
      ]
     },
     "execution_count": 11,
     "metadata": {},
     "output_type": "execute_result"
    }
   ],
   "source": [
    "train_data, test_data"
   ]
  },
  {
   "cell_type": "markdown",
   "id": "c48a321f",
   "metadata": {
    "papermill": {
     "duration": 0.009825,
     "end_time": "2025-09-02T12:02:38.459991",
     "exception": false,
     "start_time": "2025-09-02T12:02:38.450166",
     "status": "completed"
    },
    "tags": []
   },
   "source": [
    "## 2. Prepare DataLoader\n",
    "\n",
    "* Right now data is in the form of PyTorch Datasets\n",
    "* DataLoader turns the dataset into a Python iterable\n",
    "* more specifically, we want to turn our data into batches (or mini batches)\n",
    "  1. it is more computationally efficient, as in the computing hardware may not be able to look (store in memory) at 6000 images in one hit. So we break it down to 32 images at a time (batch size = 32)\n",
    "    2. it gives our NN more chances to update its ggradients per epoch (every 32 images)"
   ]
  },
  {
   "cell_type": "code",
   "execution_count": 12,
   "id": "f6b7f3b8",
   "metadata": {
    "execution": {
     "iopub.execute_input": "2025-09-02T12:02:38.480817Z",
     "iopub.status.busy": "2025-09-02T12:02:38.480126Z",
     "iopub.status.idle": "2025-09-02T12:02:38.487885Z",
     "shell.execute_reply": "2025-09-02T12:02:38.486746Z"
    },
    "papermill": {
     "duration": 0.02034,
     "end_time": "2025-09-02T12:02:38.489502",
     "exception": false,
     "start_time": "2025-09-02T12:02:38.469162",
     "status": "completed"
    },
    "tags": []
   },
   "outputs": [
    {
     "data": {
      "text/plain": [
       "(<torch.utils.data.dataloader.DataLoader at 0x7c79f5ca7710>,\n",
       " <torch.utils.data.dataloader.DataLoader at 0x7c79f5b4d050>)"
      ]
     },
     "execution_count": 12,
     "metadata": {},
     "output_type": "execute_result"
    }
   ],
   "source": [
    "from torch.utils.data import DataLoader \n",
    "\n",
    "# setup the batch size hyperparameter \n",
    "BATCH_SIZE = 32 \n",
    "\n",
    "# turn dataset into iterables (batches)\n",
    "train_dataloader = DataLoader(\n",
    "    dataset=train_data,\n",
    "    batch_size=BATCH_SIZE,\n",
    "    shuffle=True\n",
    ")\n",
    "\n",
    "test_dataloader = DataLoader(\n",
    "    dataset=test_data, \n",
    "    batch_size=BATCH_SIZE,\n",
    "    shuffle=False\n",
    ")\n",
    "\n",
    "train_dataloader, test_dataloader"
   ]
  },
  {
   "cell_type": "code",
   "execution_count": 13,
   "id": "12bc361f",
   "metadata": {
    "execution": {
     "iopub.execute_input": "2025-09-02T12:02:38.510501Z",
     "iopub.status.busy": "2025-09-02T12:02:38.510215Z",
     "iopub.status.idle": "2025-09-02T12:02:38.515708Z",
     "shell.execute_reply": "2025-09-02T12:02:38.514611Z"
    },
    "papermill": {
     "duration": 0.018139,
     "end_time": "2025-09-02T12:02:38.517599",
     "exception": false,
     "start_time": "2025-09-02T12:02:38.499460",
     "status": "completed"
    },
    "tags": []
   },
   "outputs": [
    {
     "name": "stdout",
     "output_type": "stream",
     "text": [
      "Dataloaders: (<torch.utils.data.dataloader.DataLoader object at 0x7c79f5ca7710>, <torch.utils.data.dataloader.DataLoader object at 0x7c79f5b4d050>)\n",
      "Length of train_dataloader: 1875,batches of 32...\n",
      "Length of test_dataloader: 313, batches of 32\n"
     ]
    }
   ],
   "source": [
    "print(f\"Dataloaders: {train_dataloader, test_dataloader}\")\n",
    "print(f\"Length of train_dataloader: {len(train_dataloader)},batches of {BATCH_SIZE}...\")\n",
    "print(f\"Length of test_dataloader: {len(test_dataloader)}, batches of {BATCH_SIZE}\")"
   ]
  },
  {
   "cell_type": "code",
   "execution_count": 14,
   "id": "f681f66f",
   "metadata": {
    "execution": {
     "iopub.execute_input": "2025-09-02T12:02:38.537636Z",
     "iopub.status.busy": "2025-09-02T12:02:38.537314Z",
     "iopub.status.idle": "2025-09-02T12:02:38.543329Z",
     "shell.execute_reply": "2025-09-02T12:02:38.542564Z"
    },
    "papermill": {
     "duration": 0.017839,
     "end_time": "2025-09-02T12:02:38.544806",
     "exception": false,
     "start_time": "2025-09-02T12:02:38.526967",
     "status": "completed"
    },
    "tags": []
   },
   "outputs": [
    {
     "data": {
      "text/plain": [
       "(312.5, 10000.0)"
      ]
     },
     "execution_count": 14,
     "metadata": {},
     "output_type": "execute_result"
    }
   ],
   "source": [
    "10000/32, 32*312.5"
   ]
  },
  {
   "cell_type": "code",
   "execution_count": 15,
   "id": "e5a29ba9",
   "metadata": {
    "execution": {
     "iopub.execute_input": "2025-09-02T12:02:38.564717Z",
     "iopub.status.busy": "2025-09-02T12:02:38.564399Z",
     "iopub.status.idle": "2025-09-02T12:02:38.587828Z",
     "shell.execute_reply": "2025-09-02T12:02:38.587046Z"
    },
    "papermill": {
     "duration": 0.035157,
     "end_time": "2025-09-02T12:02:38.589489",
     "exception": false,
     "start_time": "2025-09-02T12:02:38.554332",
     "status": "completed"
    },
    "tags": []
   },
   "outputs": [
    {
     "data": {
      "text/plain": [
       "(torch.Size([32, 1, 28, 28]), torch.Size([32]))"
      ]
     },
     "execution_count": 15,
     "metadata": {},
     "output_type": "execute_result"
    }
   ],
   "source": [
    "train_features_batch, train_labels_batch = next(iter(train_dataloader)) # iter turns train_dataloader into an iterable and next gets us the next batch\n",
    "train_features_batch.shape, train_labels_batch.shape"
   ]
  },
  {
   "cell_type": "code",
   "execution_count": 16,
   "id": "b41f6576",
   "metadata": {
    "execution": {
     "iopub.execute_input": "2025-09-02T12:02:38.610902Z",
     "iopub.status.busy": "2025-09-02T12:02:38.610036Z",
     "iopub.status.idle": "2025-09-02T12:02:38.719179Z",
     "shell.execute_reply": "2025-09-02T12:02:38.717839Z"
    },
    "papermill": {
     "duration": 0.121995,
     "end_time": "2025-09-02T12:02:38.721247",
     "exception": false,
     "start_time": "2025-09-02T12:02:38.599252",
     "status": "completed"
    },
    "tags": []
   },
   "outputs": [
    {
     "name": "stdout",
     "output_type": "stream",
     "text": [
      "Image size: torch.Size([1, 28, 28])\n",
      "Label: 5, label size: torch.Size([])\n"
     ]
    },
    {
     "data": {
      "image/png": "[encoded data removed]",
      "text/plain": [
       "<Figure size 640x480 with 1 Axes>"
      ]
     },
     "metadata": {},
     "output_type": "display_data"
    }
   ],
   "source": [
    "# show a sample \n",
    "torch.manual_seed(42)\n",
    "random_idx = torch.randint(0,len(train_features_batch), size=[1]).item()\n",
    "img, label = train_features_batch[random_idx], train_labels_batch[random_idx]\n",
    "plt.imshow(img.squeeze(), cmap=\"gray\")\n",
    "plt.title(class_names[label])\n",
    "plt.axis(False)\n",
    "print(f\"Image size: {img.shape}\")\n",
    "print(f\"Label: {label}, label size: {label.shape}\")"
   ]
  },
  {
   "cell_type": "markdown",
   "id": "415e896c",
   "metadata": {
    "papermill": {
     "duration": 0.009976,
     "end_time": "2025-09-02T12:02:38.741123",
     "exception": false,
     "start_time": "2025-09-02T12:02:38.731147",
     "status": "completed"
    },
    "tags": []
   },
   "source": [
    "## 3. Model 0: baseline model "
   ]
  },
  {
   "cell_type": "code",
   "execution_count": 17,
   "id": "ee45437f",
   "metadata": {
    "execution": {
     "iopub.execute_input": "2025-09-02T12:02:38.829157Z",
     "iopub.status.busy": "2025-09-02T12:02:38.828780Z",
     "iopub.status.idle": "2025-09-02T12:02:38.835127Z",
     "shell.execute_reply": "2025-09-02T12:02:38.834183Z"
    },
    "papermill": {
     "duration": 0.018672,
     "end_time": "2025-09-02T12:02:38.836655",
     "exception": false,
     "start_time": "2025-09-02T12:02:38.817983",
     "status": "completed"
    },
    "tags": []
   },
   "outputs": [
    {
     "data": {
      "text/plain": [
       "torch.Size([1, 28, 28])"
      ]
     },
     "execution_count": 17,
     "metadata": {},
     "output_type": "execute_result"
    }
   ],
   "source": [
    "# create a flatten layer \n",
    "flatten_model = nn.Flatten()\n",
    "\n",
    "# get a single sample \n",
    "x = train_features_batch[0]\n",
    "x.shape"
   ]
  },
  {
   "cell_type": "code",
   "execution_count": 18,
   "id": "486855fa",
   "metadata": {
    "execution": {
     "iopub.execute_input": "2025-09-02T12:02:38.857697Z",
     "iopub.status.busy": "2025-09-02T12:02:38.857374Z",
     "iopub.status.idle": "2025-09-02T12:02:38.863652Z",
     "shell.execute_reply": "2025-09-02T12:02:38.862732Z"
    },
    "papermill": {
     "duration": 0.018329,
     "end_time": "2025-09-02T12:02:38.864927",
     "exception": false,
     "start_time": "2025-09-02T12:02:38.846598",
     "status": "completed"
    },
    "tags": []
   },
   "outputs": [
    {
     "name": "stdout",
     "output_type": "stream",
     "text": [
      "Shape before flattening: torch.Size([1, 28, 28]) -> [C, H, W]\n",
      "Shape after flattening: torch.Size([1, 784]) -> [C, H*W]\n"
     ]
    }
   ],
   "source": [
    "# flatten the sample \n",
    "output = flatten_model(x)\n",
    "print(f\"Shape before flattening: {x.shape} -> [C, H, W]\")\n",
    "print(f\"Shape after flattening: {output.shape} -> [C, H*W]\")"
   ]
  },
  {
   "cell_type": "code",
   "execution_count": 19,
   "id": "31d9a8ee",
   "metadata": {
    "execution": {
     "iopub.execute_input": "2025-09-02T12:02:38.885891Z",
     "iopub.status.busy": "2025-09-02T12:02:38.885576Z",
     "iopub.status.idle": "2025-09-02T12:02:38.891652Z",
     "shell.execute_reply": "2025-09-02T12:02:38.890645Z"
    },
    "papermill": {
     "duration": 0.018667,
     "end_time": "2025-09-02T12:02:38.893541",
     "exception": false,
     "start_time": "2025-09-02T12:02:38.874874",
     "status": "completed"
    },
    "tags": []
   },
   "outputs": [],
   "source": [
    "from torch import nn \n",
    "class FashionMNISTModelV0(nn.Module):\n",
    "    def __init__(\n",
    "        self, \n",
    "        input_shape: int, \n",
    "        hidden_units: int,\n",
    "        output_shape: int\n",
    "    ) :\n",
    "        super().__init__()\n",
    "        self.layer_stack = nn.Sequential(\n",
    "            nn.Flatten(),\n",
    "            nn.Linear(\n",
    "                in_features = input_shape,\n",
    "                out_features = hidden_units\n",
    "            ),\n",
    "            nn.Linear(\n",
    "                in_features = hidden_units,\n",
    "                out_features = output_shape\n",
    "            )\n",
    "        )\n",
    "\n",
    "    def forward(self, x):\n",
    "        return self.layer_stack(x)"
   ]
  },
  {
   "cell_type": "code",
   "execution_count": 20,
   "id": "ce7673e4",
   "metadata": {
    "execution": {
     "iopub.execute_input": "2025-09-02T12:02:38.915792Z",
     "iopub.status.busy": "2025-09-02T12:02:38.915483Z",
     "iopub.status.idle": "2025-09-02T12:02:38.924599Z",
     "shell.execute_reply": "2025-09-02T12:02:38.923694Z"
    },
    "papermill": {
     "duration": 0.022201,
     "end_time": "2025-09-02T12:02:38.926335",
     "exception": false,
     "start_time": "2025-09-02T12:02:38.904134",
     "status": "completed"
    },
    "tags": []
   },
   "outputs": [
    {
     "data": {
      "text/plain": [
       "FashionMNISTModelV0(\n",
       "  (layer_stack): Sequential(\n",
       "    (0): Flatten(start_dim=1, end_dim=-1)\n",
       "    (1): Linear(in_features=784, out_features=10, bias=True)\n",
       "    (2): Linear(in_features=10, out_features=10, bias=True)\n",
       "  )\n",
       ")"
      ]
     },
     "execution_count": 20,
     "metadata": {},
     "output_type": "execute_result"
    }
   ],
   "source": [
    "torch.manual_seed(42)\n",
    "\n",
    "# setup model with input parameters \n",
    "model_0 = FashionMNISTModelV0(\n",
    "    input_shape = 28*28, # 784\n",
    "    hidden_units = 10, \n",
    "    output_shape= len(class_names) # one for each class\n",
    ")\n",
    "\n",
    "model_0"
   ]
  },
  {
   "cell_type": "code",
   "execution_count": 21,
   "id": "80227f33",
   "metadata": {
    "execution": {
     "iopub.execute_input": "2025-09-02T12:02:38.947560Z",
     "iopub.status.busy": "2025-09-02T12:02:38.947268Z",
     "iopub.status.idle": "2025-09-02T12:02:38.965455Z",
     "shell.execute_reply": "2025-09-02T12:02:38.964462Z"
    },
    "papermill": {
     "duration": 0.03072,
     "end_time": "2025-09-02T12:02:38.967084",
     "exception": false,
     "start_time": "2025-09-02T12:02:38.936364",
     "status": "completed"
    },
    "tags": []
   },
   "outputs": [
    {
     "data": {
      "text/plain": [
       "tensor([[-0.0315,  0.3171,  0.0531, -0.2525,  0.5959,  0.2112,  0.3233,  0.2694,\n",
       "         -0.1004,  0.0157]], grad_fn=<AddmmBackward0>)"
      ]
     },
     "execution_count": 21,
     "metadata": {},
     "output_type": "execute_result"
    }
   ],
   "source": [
    "dummy_x = torch.rand([1,1,28,28])\n",
    "model_0(dummy_x)"
   ]
  },
  {
   "cell_type": "code",
   "execution_count": 22,
   "id": "6c77eaef",
   "metadata": {
    "execution": {
     "iopub.execute_input": "2025-09-02T12:02:38.988722Z",
     "iopub.status.busy": "2025-09-02T12:02:38.988446Z",
     "iopub.status.idle": "2025-09-02T12:02:38.999435Z",
     "shell.execute_reply": "2025-09-02T12:02:38.998552Z"
    },
    "papermill": {
     "duration": 0.023485,
     "end_time": "2025-09-02T12:02:39.000879",
     "exception": false,
     "start_time": "2025-09-02T12:02:38.977394",
     "status": "completed"
    },
    "tags": []
   },
   "outputs": [
    {
     "data": {
      "text/plain": [
       "OrderedDict([('layer_stack.1.weight',\n",
       "              tensor([[ 0.0273,  0.0296, -0.0084,  ..., -0.0142,  0.0093,  0.0135],\n",
       "                      [-0.0188, -0.0354,  0.0187,  ..., -0.0106, -0.0001,  0.0115],\n",
       "                      [-0.0008,  0.0017,  0.0045,  ..., -0.0127, -0.0188,  0.0059],\n",
       "                      ...,\n",
       "                      [-0.0116,  0.0273, -0.0344,  ...,  0.0176,  0.0283, -0.0011],\n",
       "                      [-0.0230,  0.0257,  0.0291,  ..., -0.0187, -0.0087,  0.0001],\n",
       "                      [ 0.0176, -0.0147,  0.0053,  ..., -0.0336, -0.0221,  0.0205]])),\n",
       "             ('layer_stack.1.bias',\n",
       "              tensor([-0.0093,  0.0283, -0.0033,  0.0255,  0.0017,  0.0037, -0.0302, -0.0123,\n",
       "                       0.0018,  0.0163])),\n",
       "             ('layer_stack.2.weight',\n",
       "              tensor([[ 0.0614, -0.0687,  0.0021,  0.2718,  0.2109,  0.1079, -0.2279, -0.1063,\n",
       "                        0.2019,  0.2847],\n",
       "                      [-0.1495,  0.1344, -0.0740,  0.2006, -0.0475, -0.2514, -0.3130, -0.0118,\n",
       "                        0.0932, -0.1864],\n",
       "                      [ 0.2488,  0.1500,  0.1907,  0.1457, -0.3050, -0.0580,  0.1643,  0.1565,\n",
       "                       -0.2877, -0.1792],\n",
       "                      [ 0.2305, -0.2618,  0.2397, -0.0610,  0.0232,  0.1542,  0.0851, -0.2027,\n",
       "                        0.1030, -0.2715],\n",
       "                      [-0.1596, -0.0555, -0.0633,  0.2302, -0.1726,  0.2654,  0.1473,  0.1029,\n",
       "                        0.2252, -0.2160],\n",
       "                      [-0.2725,  0.0118,  0.1559,  0.1596,  0.0132,  0.3024,  0.1124,  0.1366,\n",
       "                       -0.1533,  0.0965],\n",
       "                      [-0.1184, -0.2555, -0.2057, -0.1909, -0.0477, -0.1324,  0.2905,  0.1307,\n",
       "                       -0.2629,  0.0133],\n",
       "                      [ 0.2727, -0.0127,  0.0513,  0.0863, -0.1043, -0.2047, -0.1185, -0.0825,\n",
       "                        0.2488, -0.2571],\n",
       "                      [ 0.0425, -0.1209, -0.0336, -0.0281, -0.1227,  0.0730,  0.0747, -0.1816,\n",
       "                        0.1943,  0.2853],\n",
       "                      [-0.1310,  0.0645, -0.1171,  0.2168, -0.0245, -0.2820,  0.0736,  0.2621,\n",
       "                        0.0012, -0.0810]])),\n",
       "             ('layer_stack.2.bias',\n",
       "              tensor([-0.0087,  0.1791,  0.2712, -0.0791,  0.1685,  0.1762,  0.2825,  0.2266,\n",
       "                      -0.2612, -0.2613]))])"
      ]
     },
     "execution_count": 22,
     "metadata": {},
     "output_type": "execute_result"
    }
   ],
   "source": [
    "model_0.state_dict()"
   ]
  },
  {
   "cell_type": "markdown",
   "id": "e4b0554f",
   "metadata": {
    "papermill": {
     "duration": 0.010068,
     "end_time": "2025-09-02T12:02:39.021379",
     "exception": false,
     "start_time": "2025-09-02T12:02:39.011311",
     "status": "completed"
    },
    "tags": []
   },
   "source": [
    "### 3.1 Setup loss, optimizer and evaluation metrics \n",
    "* Loss function : since we're working with multi-class data -> `nn.CrossEntropyLoss()`\n",
    "* Optimizer : stochastic gradient descent -> `torch.optim.SGD()`\n",
    "* Evaluation metric : since we are working on a classification problem, let's use accuracy "
   ]
  },
  {
   "cell_type": "code",
   "execution_count": 23,
   "id": "d3946258",
   "metadata": {
    "execution": {
     "iopub.execute_input": "2025-09-02T12:02:39.046541Z",
     "iopub.status.busy": "2025-09-02T12:02:39.045731Z",
     "iopub.status.idle": "2025-09-02T12:02:39.544712Z",
     "shell.execute_reply": "2025-09-02T12:02:39.543919Z"
    },
    "papermill": {
     "duration": 0.512277,
     "end_time": "2025-09-02T12:02:39.546487",
     "exception": false,
     "start_time": "2025-09-02T12:02:39.034210",
     "status": "completed"
    },
    "tags": []
   },
   "outputs": [
    {
     "name": "stdout",
     "output_type": "stream",
     "text": [
      "Downloading helper_functions.py\n"
     ]
    }
   ],
   "source": [
    "import requests \n",
    "from pathlib import Path \n",
    "\n",
    "if Path(\"helper_functions.py\").is_file() :\n",
    "    print(\"helper_functions.py already exists, skipping download\")\n",
    "else : \n",
    "    print(\"Downloading helper_functions.py\")\n",
    "    request = requests.get(\"https://raw.githubusercontent.com/mrdbourke/pytorch-deep-learning/af6548e52663c8395fe2777bd0fbfd6ac85fd6f8/helper_functions.py\")\n",
    "    with open(\"helper_functions.py\", \"wb\") as f:\n",
    "        f.write(request.content)"
   ]
  },
  {
   "cell_type": "code",
   "execution_count": 24,
   "id": "251c3c64",
   "metadata": {
    "execution": {
     "iopub.execute_input": "2025-09-02T12:02:39.569315Z",
     "iopub.status.busy": "2025-09-02T12:02:39.568969Z",
     "iopub.status.idle": "2025-09-02T12:02:39.708620Z",
     "shell.execute_reply": "2025-09-02T12:02:39.707337Z"
    },
    "papermill": {
     "duration": 0.153124,
     "end_time": "2025-09-02T12:02:39.710403",
     "exception": false,
     "start_time": "2025-09-02T12:02:39.557279",
     "status": "completed"
    },
    "tags": []
   },
   "outputs": [
    {
     "name": "stdout",
     "output_type": "stream",
     "text": [
      "data  helper_functions.py  __notebook__.ipynb\r\n"
     ]
    }
   ],
   "source": [
    "!ls"
   ]
  },
  {
   "cell_type": "code",
   "execution_count": 25,
   "id": "dd76acd8",
   "metadata": {
    "execution": {
     "iopub.execute_input": "2025-09-02T12:02:39.733195Z",
     "iopub.status.busy": "2025-09-02T12:02:39.732766Z",
     "iopub.status.idle": "2025-09-02T12:02:39.747514Z",
     "shell.execute_reply": "2025-09-02T12:02:39.746452Z"
    },
    "papermill": {
     "duration": 0.028221,
     "end_time": "2025-09-02T12:02:39.749341",
     "exception": false,
     "start_time": "2025-09-02T12:02:39.721120",
     "status": "completed"
    },
    "tags": []
   },
   "outputs": [],
   "source": [
    "from helper_functions import accuracy_fn \n",
    "\n",
    "# setup loss function and optimizer \n",
    "loss_fn = nn.CrossEntropyLoss()\n",
    "optimizer = torch.optim.SGD(\n",
    "    params=model_0.parameters(),\n",
    "    lr=0.1\n",
    ")"
   ]
  },
  {
   "cell_type": "markdown",
   "id": "21bf7dcd",
   "metadata": {
    "papermill": {
     "duration": 0.010036,
     "end_time": "2025-09-02T12:02:39.770133",
     "exception": false,
     "start_time": "2025-09-02T12:02:39.760097",
     "status": "completed"
    },
    "tags": []
   },
   "source": [
    "### 3.2 Creating a function to time our experiments\n",
    "\n",
    "ML is very experimental. Two of the main things we want to track are:\n",
    "1. Model's performance (e.g. loss and accuracy)\n",
    "2. How fast it runs "
   ]
  },
  {
   "cell_type": "code",
   "execution_count": 26,
   "id": "8f7aee52",
   "metadata": {
    "execution": {
     "iopub.execute_input": "2025-09-02T12:02:39.791684Z",
     "iopub.status.busy": "2025-09-02T12:02:39.791400Z",
     "iopub.status.idle": "2025-09-02T12:02:39.796882Z",
     "shell.execute_reply": "2025-09-02T12:02:39.795934Z"
    },
    "papermill": {
     "duration": 0.018182,
     "end_time": "2025-09-02T12:02:39.798534",
     "exception": false,
     "start_time": "2025-09-02T12:02:39.780352",
     "status": "completed"
    },
    "tags": []
   },
   "outputs": [],
   "source": [
    "from timeit import default_timer as timer \n",
    "def print_train_time(\n",
    "    start: float, \n",
    "    end: float, \n",
    "    device: torch.device = None\n",
    "):\n",
    "    \"\"\"\n",
    "    Prints difference between start and end time\n",
    "    \"\"\"\n",
    "    total_time = end - start\n",
    "    print(f\"Train time on {device}: {total_time:.3f} seconds\")\n",
    "    return total_time "
   ]
  },
  {
   "cell_type": "code",
   "execution_count": 27,
   "id": "ebfc9005",
   "metadata": {
    "execution": {
     "iopub.execute_input": "2025-09-02T12:02:39.821371Z",
     "iopub.status.busy": "2025-09-02T12:02:39.820592Z",
     "iopub.status.idle": "2025-09-02T12:02:39.827588Z",
     "shell.execute_reply": "2025-09-02T12:02:39.826683Z"
    },
    "papermill": {
     "duration": 0.020173,
     "end_time": "2025-09-02T12:02:39.829092",
     "exception": false,
     "start_time": "2025-09-02T12:02:39.808919",
     "status": "completed"
    },
    "tags": []
   },
   "outputs": [
    {
     "name": "stdout",
     "output_type": "stream",
     "text": [
      "Train time on cpu: 0.000 seconds\n"
     ]
    },
    {
     "data": {
      "text/plain": [
       "3.121700001429417e-05"
      ]
     },
     "execution_count": 27,
     "metadata": {},
     "output_type": "execute_result"
    }
   ],
   "source": [
    "start_time = timer()\n",
    "# code \n",
    "end_time = timer()\n",
    "print_train_time(start_time, end_time, \"cpu\")"
   ]
  },
  {
   "cell_type": "markdown",
   "id": "1a92f55c",
   "metadata": {
    "papermill": {
     "duration": 0.01021,
     "end_time": "2025-09-02T12:02:39.849908",
     "exception": false,
     "start_time": "2025-09-02T12:02:39.839698",
     "status": "completed"
    },
    "tags": []
   },
   "source": [
    "### "
   ]
  },
  {
   "cell_type": "code",
   "execution_count": null,
   "id": "afa32cd3",
   "metadata": {
    "papermill": {
     "duration": 0.01044,
     "end_time": "2025-09-02T12:02:39.871023",
     "exception": false,
     "start_time": "2025-09-02T12:02:39.860583",
     "status": "completed"
    },
    "tags": []
   },
   "outputs": [],
   "source": []
  },
  {
   "cell_type": "code",
   "execution_count": null,
   "id": "9af98aaf",
   "metadata": {
    "papermill": {
     "duration": 0.010369,
     "end_time": "2025-09-02T12:02:39.891798",
     "exception": false,
     "start_time": "2025-09-02T12:02:39.881429",
     "status": "completed"
    },
    "tags": []
   },
   "outputs": [],
   "source": []
  }
 ],
 "metadata": {
  "kaggle": {
   "accelerator": "none",
   "dataSources": [],
   "dockerImageVersionId": 31089,
   "isGpuEnabled": false,
   "isInternetEnabled": true,
   "language": "python",
   "sourceType": "notebook"
  },
  "kernelspec": {
   "display_name": "Python 3",
   "language": "python",
   "name": "python3"
  },
  "language_info": {
   "codemirror_mode": {
    "name": "ipython",
    "version": 3
   },
   "file_extension": ".py",
   "mimetype": "text/x-python",
   "name": "python",
   "nbconvert_exporter": "python",
   "pygments_lexer": "ipython3",
   "version": "3.11.13"
  },
  "papermill": {
   "default_parameters": {},
   "duration": 28.812333,
   "end_time": "2025-09-02T12:02:42.030232",
   "environment_variables": {},
   "exception": null,
   "input_path": "__notebook__.ipynb",
   "output_path": "__notebook__.ipynb",
   "parameters": {},
   "start_time": "2025-09-02T12:02:13.217899",
   "version": "2.6.0"
  }
 },
 "nbformat": 4,
 "nbformat_minor": 5
}
