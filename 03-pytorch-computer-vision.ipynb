{
 "cells": [
  {
   "cell_type": "markdown",
   "id": "07ba614c",
   "metadata": {
    "papermill": {
     "duration": 0.003779,
     "end_time": "2025-09-02T09:01:03.531856",
     "exception": false,
     "start_time": "2025-09-02T09:01:03.528077",
     "status": "completed"
    },
    "tags": []
   },
   "source": [
    "# **PyTorch Computer Vision**"
   ]
  },
  {
   "cell_type": "markdown",
   "id": "22d46f3f",
   "metadata": {
    "papermill": {
     "duration": 0.002807,
     "end_time": "2025-09-02T09:01:03.537987",
     "exception": false,
     "start_time": "2025-09-02T09:01:03.535180",
     "status": "completed"
    },
    "tags": []
   },
   "source": [
    "## 0. Computer Vision libraries in Python \n",
    "* `torchvision` : base domain library for PyTorch CV \n",
    "* `torchvision.datasets` : get datasets and data loading functions for CV \n",
    "* `torchvision.models` : get pretrained CV models we can leverage for new problems \n",
    "* `torchvision.transform` : functions for manipulating your vision data (images) to be suitable for use with an ML model\n",
    "* `torch.utils.data.Dataset` : base dataset class for PyTorch \n",
    "* `torch.utils.data.DataLoader` : creates a python iterable over a dataset "
   ]
  },
  {
   "cell_type": "code",
   "execution_count": 1,
   "id": "82b86a10",
   "metadata": {
    "execution": {
     "iopub.execute_input": "2025-09-02T09:01:03.545283Z",
     "iopub.status.busy": "2025-09-02T09:01:03.544926Z",
     "iopub.status.idle": "2025-09-02T09:01:15.185762Z",
     "shell.execute_reply": "2025-09-02T09:01:15.184797Z"
    },
    "papermill": {
     "duration": 11.64656,
     "end_time": "2025-09-02T09:01:15.187554",
     "exception": false,
     "start_time": "2025-09-02T09:01:03.540994",
     "status": "completed"
    },
    "tags": []
   },
   "outputs": [
    {
     "name": "stdout",
     "output_type": "stream",
     "text": [
      "2.6.0+cu124\n",
      "0.21.0+cu124\n"
     ]
    }
   ],
   "source": [
    "import torch \n",
    "from torch import nn \n",
    "\n",
    "import torchvision \n",
    "from torchvision import datasets \n",
    "from torchvision import transforms \n",
    "from torchvision.transforms import ToTensor \n",
    "\n",
    "import matplotlib.pyplot as plt \n",
    "\n",
    "print(torch.__version__)\n",
    "print(torchvision.__version__)"
   ]
  },
  {
   "cell_type": "code",
   "execution_count": null,
   "id": "adeb49fe",
   "metadata": {
    "papermill": {
     "duration": 0.002929,
     "end_time": "2025-09-02T09:01:15.193801",
     "exception": false,
     "start_time": "2025-09-02T09:01:15.190872",
     "status": "completed"
    },
    "tags": []
   },
   "outputs": [],
   "source": []
  },
  {
   "cell_type": "code",
   "execution_count": null,
   "id": "d64adca0",
   "metadata": {
    "papermill": {
     "duration": 0.002757,
     "end_time": "2025-09-02T09:01:15.200026",
     "exception": false,
     "start_time": "2025-09-02T09:01:15.197269",
     "status": "completed"
    },
    "tags": []
   },
   "outputs": [],
   "source": []
  },
  {
   "cell_type": "code",
   "execution_count": null,
   "id": "5e0fd1b6",
   "metadata": {
    "papermill": {
     "duration": 0.002734,
     "end_time": "2025-09-02T09:01:15.205743",
     "exception": false,
     "start_time": "2025-09-02T09:01:15.203009",
     "status": "completed"
    },
    "tags": []
   },
   "outputs": [],
   "source": []
  },
  {
   "cell_type": "code",
   "execution_count": null,
   "id": "6d08779f",
   "metadata": {
    "papermill": {
     "duration": 0.002699,
     "end_time": "2025-09-02T09:01:15.211391",
     "exception": false,
     "start_time": "2025-09-02T09:01:15.208692",
     "status": "completed"
    },
    "tags": []
   },
   "outputs": [],
   "source": []
  },
  {
   "cell_type": "code",
   "execution_count": null,
   "id": "6861a5a1",
   "metadata": {
    "papermill": {
     "duration": 0.002596,
     "end_time": "2025-09-02T09:01:15.216832",
     "exception": false,
     "start_time": "2025-09-02T09:01:15.214236",
     "status": "completed"
    },
    "tags": []
   },
   "outputs": [],
   "source": []
  },
  {
   "cell_type": "code",
   "execution_count": null,
   "id": "e865fbc9",
   "metadata": {
    "papermill": {
     "duration": 0.002679,
     "end_time": "2025-09-02T09:01:15.222638",
     "exception": false,
     "start_time": "2025-09-02T09:01:15.219959",
     "status": "completed"
    },
    "tags": []
   },
   "outputs": [],
   "source": []
  },
  {
   "cell_type": "code",
   "execution_count": null,
   "id": "1f45e08d",
   "metadata": {
    "papermill": {
     "duration": 0.002658,
     "end_time": "2025-09-02T09:01:15.228114",
     "exception": false,
     "start_time": "2025-09-02T09:01:15.225456",
     "status": "completed"
    },
    "tags": []
   },
   "outputs": [],
   "source": []
  },
  {
   "cell_type": "code",
   "execution_count": null,
   "id": "280b8de8",
   "metadata": {
    "papermill": {
     "duration": 0.002651,
     "end_time": "2025-09-02T09:01:15.234526",
     "exception": false,
     "start_time": "2025-09-02T09:01:15.231875",
     "status": "completed"
    },
    "tags": []
   },
   "outputs": [],
   "source": []
  },
  {
   "cell_type": "code",
   "execution_count": null,
   "id": "0b232223",
   "metadata": {
    "papermill": {
     "duration": 0.002634,
     "end_time": "2025-09-02T09:01:15.239938",
     "exception": false,
     "start_time": "2025-09-02T09:01:15.237304",
     "status": "completed"
    },
    "tags": []
   },
   "outputs": [],
   "source": []
  },
  {
   "cell_type": "code",
   "execution_count": null,
   "id": "f8d5c617",
   "metadata": {
    "papermill": {
     "duration": 0.002652,
     "end_time": "2025-09-02T09:01:15.245531",
     "exception": false,
     "start_time": "2025-09-02T09:01:15.242879",
     "status": "completed"
    },
    "tags": []
   },
   "outputs": [],
   "source": []
  },
  {
   "cell_type": "code",
   "execution_count": null,
   "id": "c66a2bc8",
   "metadata": {
    "papermill": {
     "duration": 0.002628,
     "end_time": "2025-09-02T09:01:15.251036",
     "exception": false,
     "start_time": "2025-09-02T09:01:15.248408",
     "status": "completed"
    },
    "tags": []
   },
   "outputs": [],
   "source": []
  },
  {
   "cell_type": "code",
   "execution_count": null,
   "id": "684be3e9",
   "metadata": {
    "papermill": {
     "duration": 0.002827,
     "end_time": "2025-09-02T09:01:15.257052",
     "exception": false,
     "start_time": "2025-09-02T09:01:15.254225",
     "status": "completed"
    },
    "tags": []
   },
   "outputs": [],
   "source": []
  },
  {
   "cell_type": "code",
   "execution_count": null,
   "id": "073621ad",
   "metadata": {
    "papermill": {
     "duration": 0.002617,
     "end_time": "2025-09-02T09:01:15.262567",
     "exception": false,
     "start_time": "2025-09-02T09:01:15.259950",
     "status": "completed"
    },
    "tags": []
   },
   "outputs": [],
   "source": []
  },
  {
   "cell_type": "code",
   "execution_count": null,
   "id": "72a24fef",
   "metadata": {
    "papermill": {
     "duration": 0.002635,
     "end_time": "2025-09-02T09:01:15.268001",
     "exception": false,
     "start_time": "2025-09-02T09:01:15.265366",
     "status": "completed"
    },
    "tags": []
   },
   "outputs": [],
   "source": []
  },
  {
   "cell_type": "code",
   "execution_count": null,
   "id": "c6b4005e",
   "metadata": {
    "papermill": {
     "duration": 0.002732,
     "end_time": "2025-09-02T09:01:15.273552",
     "exception": false,
     "start_time": "2025-09-02T09:01:15.270820",
     "status": "completed"
    },
    "tags": []
   },
   "outputs": [],
   "source": []
  },
  {
   "cell_type": "code",
   "execution_count": null,
   "id": "54c7344d",
   "metadata": {
    "papermill": {
     "duration": 0.00268,
     "end_time": "2025-09-02T09:01:15.279015",
     "exception": false,
     "start_time": "2025-09-02T09:01:15.276335",
     "status": "completed"
    },
    "tags": []
   },
   "outputs": [],
   "source": []
  },
  {
   "cell_type": "code",
   "execution_count": null,
   "id": "5abe9c69",
   "metadata": {
    "papermill": {
     "duration": 0.002602,
     "end_time": "2025-09-02T09:01:15.284408",
     "exception": false,
     "start_time": "2025-09-02T09:01:15.281806",
     "status": "completed"
    },
    "tags": []
   },
   "outputs": [],
   "source": []
  },
  {
   "cell_type": "code",
   "execution_count": null,
   "id": "d5b809ec",
   "metadata": {
    "papermill": {
     "duration": 0.002725,
     "end_time": "2025-09-02T09:01:15.289925",
     "exception": false,
     "start_time": "2025-09-02T09:01:15.287200",
     "status": "completed"
    },
    "tags": []
   },
   "outputs": [],
   "source": []
  }
 ],
 "metadata": {
  "kaggle": {
   "accelerator": "none",
   "dataSources": [],
   "dockerImageVersionId": 31089,
   "isGpuEnabled": false,
   "isInternetEnabled": true,
   "language": "python",
   "sourceType": "notebook"
  },
  "kernelspec": {
   "display_name": "Python 3",
   "language": "python",
   "name": "python3"
  },
  "language_info": {
   "codemirror_mode": {
    "name": "ipython",
    "version": 3
   },
   "file_extension": ".py",
   "mimetype": "text/x-python",
   "name": "python",
   "nbconvert_exporter": "python",
   "pygments_lexer": "ipython3",
   "version": "3.11.13"
  },
  "papermill": {
   "default_parameters": {},
   "duration": 19.607281,
   "end_time": "2025-09-02T09:01:17.822889",
   "environment_variables": {},
   "exception": null,
   "input_path": "__notebook__.ipynb",
   "output_path": "__notebook__.ipynb",
   "parameters": {},
   "start_time": "2025-09-02T09:00:58.215608",
   "version": "2.6.0"
  }
 },
 "nbformat": 4,
 "nbformat_minor": 5
}
