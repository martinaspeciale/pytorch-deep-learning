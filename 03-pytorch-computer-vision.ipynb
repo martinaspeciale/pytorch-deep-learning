{
 "cells": [
  {
   "cell_type": "markdown",
   "id": "48c5907f",
   "metadata": {
    "papermill": {
     "duration": 0.010305,
     "end_time": "2025-09-03T09:05:19.514146",
     "exception": false,
     "start_time": "2025-09-03T09:05:19.503841",
     "status": "completed"
    },
    "tags": []
   },
   "source": [
    "# **PyTorch Computer Vision**"
   ]
  },
  {
   "cell_type": "markdown",
   "id": "b4a680cb",
   "metadata": {
    "papermill": {
     "duration": 0.007072,
     "end_time": "2025-09-03T09:05:19.530202",
     "exception": false,
     "start_time": "2025-09-03T09:05:19.523130",
     "status": "completed"
    },
    "tags": []
   },
   "source": [
    "## 0. Computer Vision libraries in Python \n",
    "* `torchvision` : base domain library for PyTorch CV \n",
    "* `torchvision.datasets` : get datasets and data loading functions for CV \n",
    "* `torchvision.models` : get pretrained CV models we can leverage for new problems \n",
    "* `torchvision.transform` : functions for manipulating your vision data (images) to be suitable for use with an ML model\n",
    "* `torch.utils.data.Dataset` : base dataset class for PyTorch \n",
    "* `torch.utils.data.DataLoader` : creates a python iterable over a dataset "
   ]
  },
  {
   "cell_type": "code",
   "execution_count": 1,
   "id": "a569fb89",
   "metadata": {
    "execution": {
     "iopub.execute_input": "2025-09-03T09:05:19.545951Z",
     "iopub.status.busy": "2025-09-03T09:05:19.545654Z",
     "iopub.status.idle": "2025-09-03T09:05:29.819657Z",
     "shell.execute_reply": "2025-09-03T09:05:29.818550Z"
    },
    "papermill": {
     "duration": 10.283779,
     "end_time": "2025-09-03T09:05:29.821167",
     "exception": false,
     "start_time": "2025-09-03T09:05:19.537388",
     "status": "completed"
    },
    "tags": []
   },
   "outputs": [
    {
     "name": "stdout",
     "output_type": "stream",
     "text": [
      "2.6.0+cu124\n",
      "0.21.0+cu124\n"
     ]
    }
   ],
   "source": [
    "import torch \n",
    "from torch import nn \n",
    "\n",
    "import torchvision \n",
    "from torchvision import datasets \n",
    "from torchvision import transforms \n",
    "from torchvision.transforms import ToTensor \n",
    "\n",
    "import matplotlib.pyplot as plt \n",
    "\n",
    "print(torch.__version__)\n",
    "print(torchvision.__version__)"
   ]
  },
  {
   "cell_type": "markdown",
   "id": "16f78c8b",
   "metadata": {
    "papermill": {
     "duration": 0.007341,
     "end_time": "2025-09-03T09:05:29.836402",
     "exception": false,
     "start_time": "2025-09-03T09:05:29.829061",
     "status": "completed"
    },
    "tags": []
   },
   "source": [
    "## 1. Getting a dataset : Fashion MNIST  "
   ]
  },
  {
   "cell_type": "code",
   "execution_count": 2,
   "id": "642a39e8",
   "metadata": {
    "execution": {
     "iopub.execute_input": "2025-09-03T09:05:29.853135Z",
     "iopub.status.busy": "2025-09-03T09:05:29.852413Z",
     "iopub.status.idle": "2025-09-03T09:05:35.083499Z",
     "shell.execute_reply": "2025-09-03T09:05:35.082568Z"
    },
    "papermill": {
     "duration": 5.241159,
     "end_time": "2025-09-03T09:05:35.085099",
     "exception": false,
     "start_time": "2025-09-03T09:05:29.843940",
     "status": "completed"
    },
    "tags": []
   },
   "outputs": [
    {
     "name": "stderr",
     "output_type": "stream",
     "text": [
      "100%|██████████| 26.4M/26.4M [00:01<00:00, 15.8MB/s]\n",
      "100%|██████████| 29.5k/29.5k [00:00<00:00, 304kB/s]\n",
      "100%|██████████| 4.42M/4.42M [00:00<00:00, 5.01MB/s]\n",
      "100%|██████████| 5.15k/5.15k [00:00<00:00, 9.41MB/s]\n"
     ]
    }
   ],
   "source": [
    "# setup training data \n",
    "from torchvision import datasets \n",
    "train_data = datasets.FashionMNIST(\n",
    "    root=\"data\", # where to download data to\n",
    "    train=True,  # do we want the training dataset?\n",
    "    download=True, # do we want to download it?\n",
    "    transform=torchvision.transforms.ToTensor(), # how do we want to transform the data\n",
    "    target_transform=None # how do we want to transform the label \n",
    ")\n",
    "\n",
    "test_data = datasets.FashionMNIST(\n",
    "    root=\"data\", \n",
    "    train=False, \n",
    "    download=True,\n",
    "    transform=torchvision.transforms.ToTensor(),\n",
    "    target_transform=None\n",
    ")"
   ]
  },
  {
   "cell_type": "code",
   "execution_count": 3,
   "id": "6917a5cc",
   "metadata": {
    "execution": {
     "iopub.execute_input": "2025-09-03T09:05:35.112567Z",
     "iopub.status.busy": "2025-09-03T09:05:35.112141Z",
     "iopub.status.idle": "2025-09-03T09:05:35.119710Z",
     "shell.execute_reply": "2025-09-03T09:05:35.118850Z"
    },
    "papermill": {
     "duration": 0.027011,
     "end_time": "2025-09-03T09:05:35.121596",
     "exception": false,
     "start_time": "2025-09-03T09:05:35.094585",
     "status": "completed"
    },
    "tags": []
   },
   "outputs": [
    {
     "data": {
      "text/plain": [
       "(60000, 10000)"
      ]
     },
     "execution_count": 3,
     "metadata": {},
     "output_type": "execute_result"
    }
   ],
   "source": [
    "len(train_data), len(test_data)"
   ]
  },
  {
   "cell_type": "code",
   "execution_count": 4,
   "id": "c8189109",
   "metadata": {
    "execution": {
     "iopub.execute_input": "2025-09-03T09:05:35.157916Z",
     "iopub.status.busy": "2025-09-03T09:05:35.157521Z",
     "iopub.status.idle": "2025-09-03T09:05:35.191773Z",
     "shell.execute_reply": "2025-09-03T09:05:35.190678Z"
    },
    "papermill": {
     "duration": 0.049206,
     "end_time": "2025-09-03T09:05:35.193961",
     "exception": false,
     "start_time": "2025-09-03T09:05:35.144755",
     "status": "completed"
    },
    "tags": []
   },
   "outputs": [
    {
     "data": {
      "text/plain": [
       "(tensor([[[0.0000, 0.0000, 0.0000, 0.0000, 0.0000, 0.0000, 0.0000, 0.0000,\n",
       "           0.0000, 0.0000, 0.0000, 0.0000, 0.0000, 0.0000, 0.0000, 0.0000,\n",
       "           0.0000, 0.0000, 0.0000, 0.0000, 0.0000, 0.0000, 0.0000, 0.0000,\n",
       "           0.0000, 0.0000, 0.0000, 0.0000],\n",
       "          [0.0000, 0.0000, 0.0000, 0.0000, 0.0000, 0.0000, 0.0000, 0.0000,\n",
       "           0.0000, 0.0000, 0.0000, 0.0000, 0.0000, 0.0000, 0.0000, 0.0000,\n",
       "           0.0000, 0.0000, 0.0000, 0.0000, 0.0000, 0.0000, 0.0000, 0.0000,\n",
       "           0.0000, 0.0000, 0.0000, 0.0000],\n",
       "          [0.0000, 0.0000, 0.0000, 0.0000, 0.0000, 0.0000, 0.0000, 0.0000,\n",
       "           0.0000, 0.0000, 0.0000, 0.0000, 0.0000, 0.0000, 0.0000, 0.0000,\n",
       "           0.0000, 0.0000, 0.0000, 0.0000, 0.0000, 0.0000, 0.0000, 0.0000,\n",
       "           0.0000, 0.0000, 0.0000, 0.0000],\n",
       "          [0.0000, 0.0000, 0.0000, 0.0000, 0.0000, 0.0000, 0.0000, 0.0000,\n",
       "           0.0000, 0.0000, 0.0000, 0.0000, 0.0039, 0.0000, 0.0000, 0.0510,\n",
       "           0.2863, 0.0000, 0.0000, 0.0039, 0.0157, 0.0000, 0.0000, 0.0000,\n",
       "           0.0000, 0.0039, 0.0039, 0.0000],\n",
       "          [0.0000, 0.0000, 0.0000, 0.0000, 0.0000, 0.0000, 0.0000, 0.0000,\n",
       "           0.0000, 0.0000, 0.0000, 0.0000, 0.0118, 0.0000, 0.1412, 0.5333,\n",
       "           0.4980, 0.2431, 0.2118, 0.0000, 0.0000, 0.0000, 0.0039, 0.0118,\n",
       "           0.0157, 0.0000, 0.0000, 0.0118],\n",
       "          [0.0000, 0.0000, 0.0000, 0.0000, 0.0000, 0.0000, 0.0000, 0.0000,\n",
       "           0.0000, 0.0000, 0.0000, 0.0000, 0.0235, 0.0000, 0.4000, 0.8000,\n",
       "           0.6902, 0.5255, 0.5647, 0.4824, 0.0902, 0.0000, 0.0000, 0.0000,\n",
       "           0.0000, 0.0471, 0.0392, 0.0000],\n",
       "          [0.0000, 0.0000, 0.0000, 0.0000, 0.0000, 0.0000, 0.0000, 0.0000,\n",
       "           0.0000, 0.0000, 0.0000, 0.0000, 0.0000, 0.0000, 0.6078, 0.9255,\n",
       "           0.8118, 0.6980, 0.4196, 0.6118, 0.6314, 0.4275, 0.2510, 0.0902,\n",
       "           0.3020, 0.5098, 0.2824, 0.0588],\n",
       "          [0.0000, 0.0000, 0.0000, 0.0000, 0.0000, 0.0000, 0.0000, 0.0000,\n",
       "           0.0000, 0.0000, 0.0000, 0.0039, 0.0000, 0.2706, 0.8118, 0.8745,\n",
       "           0.8549, 0.8471, 0.8471, 0.6392, 0.4980, 0.4745, 0.4784, 0.5725,\n",
       "           0.5529, 0.3451, 0.6745, 0.2588],\n",
       "          [0.0000, 0.0000, 0.0000, 0.0000, 0.0000, 0.0000, 0.0000, 0.0000,\n",
       "           0.0000, 0.0039, 0.0039, 0.0039, 0.0000, 0.7843, 0.9098, 0.9098,\n",
       "           0.9137, 0.8980, 0.8745, 0.8745, 0.8431, 0.8353, 0.6431, 0.4980,\n",
       "           0.4824, 0.7686, 0.8980, 0.0000],\n",
       "          [0.0000, 0.0000, 0.0000, 0.0000, 0.0000, 0.0000, 0.0000, 0.0000,\n",
       "           0.0000, 0.0000, 0.0000, 0.0000, 0.0000, 0.7176, 0.8824, 0.8471,\n",
       "           0.8745, 0.8941, 0.9216, 0.8902, 0.8784, 0.8706, 0.8784, 0.8667,\n",
       "           0.8745, 0.9608, 0.6784, 0.0000],\n",
       "          [0.0000, 0.0000, 0.0000, 0.0000, 0.0000, 0.0000, 0.0000, 0.0000,\n",
       "           0.0000, 0.0000, 0.0000, 0.0000, 0.0000, 0.7569, 0.8941, 0.8549,\n",
       "           0.8353, 0.7765, 0.7059, 0.8314, 0.8235, 0.8275, 0.8353, 0.8745,\n",
       "           0.8627, 0.9529, 0.7922, 0.0000],\n",
       "          [0.0000, 0.0000, 0.0000, 0.0000, 0.0000, 0.0000, 0.0000, 0.0000,\n",
       "           0.0000, 0.0039, 0.0118, 0.0000, 0.0471, 0.8588, 0.8627, 0.8314,\n",
       "           0.8549, 0.7529, 0.6627, 0.8902, 0.8157, 0.8549, 0.8784, 0.8314,\n",
       "           0.8863, 0.7725, 0.8196, 0.2039],\n",
       "          [0.0000, 0.0000, 0.0000, 0.0000, 0.0000, 0.0000, 0.0000, 0.0000,\n",
       "           0.0000, 0.0000, 0.0235, 0.0000, 0.3882, 0.9569, 0.8706, 0.8627,\n",
       "           0.8549, 0.7961, 0.7765, 0.8667, 0.8431, 0.8353, 0.8706, 0.8627,\n",
       "           0.9608, 0.4667, 0.6549, 0.2196],\n",
       "          [0.0000, 0.0000, 0.0000, 0.0000, 0.0000, 0.0000, 0.0000, 0.0000,\n",
       "           0.0000, 0.0157, 0.0000, 0.0000, 0.2157, 0.9255, 0.8941, 0.9020,\n",
       "           0.8941, 0.9412, 0.9098, 0.8353, 0.8549, 0.8745, 0.9176, 0.8510,\n",
       "           0.8510, 0.8196, 0.3608, 0.0000],\n",
       "          [0.0000, 0.0000, 0.0039, 0.0157, 0.0235, 0.0275, 0.0078, 0.0000,\n",
       "           0.0000, 0.0000, 0.0000, 0.0000, 0.9294, 0.8863, 0.8510, 0.8745,\n",
       "           0.8706, 0.8588, 0.8706, 0.8667, 0.8471, 0.8745, 0.8980, 0.8431,\n",
       "           0.8549, 1.0000, 0.3020, 0.0000],\n",
       "          [0.0000, 0.0118, 0.0000, 0.0000, 0.0000, 0.0000, 0.0000, 0.0000,\n",
       "           0.0000, 0.2431, 0.5686, 0.8000, 0.8941, 0.8118, 0.8353, 0.8667,\n",
       "           0.8549, 0.8157, 0.8275, 0.8549, 0.8784, 0.8745, 0.8588, 0.8431,\n",
       "           0.8784, 0.9569, 0.6235, 0.0000],\n",
       "          [0.0000, 0.0000, 0.0000, 0.0000, 0.0706, 0.1725, 0.3216, 0.4196,\n",
       "           0.7412, 0.8941, 0.8627, 0.8706, 0.8510, 0.8863, 0.7843, 0.8039,\n",
       "           0.8275, 0.9020, 0.8784, 0.9176, 0.6902, 0.7373, 0.9804, 0.9725,\n",
       "           0.9137, 0.9333, 0.8431, 0.0000],\n",
       "          [0.0000, 0.2235, 0.7333, 0.8157, 0.8784, 0.8667, 0.8784, 0.8157,\n",
       "           0.8000, 0.8392, 0.8157, 0.8196, 0.7843, 0.6235, 0.9608, 0.7569,\n",
       "           0.8078, 0.8745, 1.0000, 1.0000, 0.8667, 0.9176, 0.8667, 0.8275,\n",
       "           0.8627, 0.9098, 0.9647, 0.0000],\n",
       "          [0.0118, 0.7922, 0.8941, 0.8784, 0.8667, 0.8275, 0.8275, 0.8392,\n",
       "           0.8039, 0.8039, 0.8039, 0.8627, 0.9412, 0.3137, 0.5882, 1.0000,\n",
       "           0.8980, 0.8667, 0.7373, 0.6039, 0.7490, 0.8235, 0.8000, 0.8196,\n",
       "           0.8706, 0.8941, 0.8824, 0.0000],\n",
       "          [0.3843, 0.9137, 0.7765, 0.8235, 0.8706, 0.8980, 0.8980, 0.9176,\n",
       "           0.9765, 0.8627, 0.7608, 0.8431, 0.8510, 0.9451, 0.2549, 0.2863,\n",
       "           0.4157, 0.4588, 0.6588, 0.8588, 0.8667, 0.8431, 0.8510, 0.8745,\n",
       "           0.8745, 0.8784, 0.8980, 0.1137],\n",
       "          [0.2941, 0.8000, 0.8314, 0.8000, 0.7569, 0.8039, 0.8275, 0.8824,\n",
       "           0.8471, 0.7255, 0.7725, 0.8078, 0.7765, 0.8353, 0.9412, 0.7647,\n",
       "           0.8902, 0.9608, 0.9373, 0.8745, 0.8549, 0.8314, 0.8196, 0.8706,\n",
       "           0.8627, 0.8667, 0.9020, 0.2627],\n",
       "          [0.1882, 0.7961, 0.7176, 0.7608, 0.8353, 0.7725, 0.7255, 0.7451,\n",
       "           0.7608, 0.7529, 0.7922, 0.8392, 0.8588, 0.8667, 0.8627, 0.9255,\n",
       "           0.8824, 0.8471, 0.7804, 0.8078, 0.7294, 0.7098, 0.6941, 0.6745,\n",
       "           0.7098, 0.8039, 0.8078, 0.4510],\n",
       "          [0.0000, 0.4784, 0.8588, 0.7569, 0.7020, 0.6706, 0.7176, 0.7686,\n",
       "           0.8000, 0.8235, 0.8353, 0.8118, 0.8275, 0.8235, 0.7843, 0.7686,\n",
       "           0.7608, 0.7490, 0.7647, 0.7490, 0.7765, 0.7529, 0.6902, 0.6118,\n",
       "           0.6549, 0.6941, 0.8235, 0.3608],\n",
       "          [0.0000, 0.0000, 0.2902, 0.7412, 0.8314, 0.7490, 0.6863, 0.6745,\n",
       "           0.6863, 0.7098, 0.7255, 0.7373, 0.7412, 0.7373, 0.7569, 0.7765,\n",
       "           0.8000, 0.8196, 0.8235, 0.8235, 0.8275, 0.7373, 0.7373, 0.7608,\n",
       "           0.7529, 0.8471, 0.6667, 0.0000],\n",
       "          [0.0078, 0.0000, 0.0000, 0.0000, 0.2588, 0.7843, 0.8706, 0.9294,\n",
       "           0.9373, 0.9490, 0.9647, 0.9529, 0.9569, 0.8667, 0.8627, 0.7569,\n",
       "           0.7490, 0.7020, 0.7137, 0.7137, 0.7098, 0.6902, 0.6510, 0.6588,\n",
       "           0.3882, 0.2275, 0.0000, 0.0000],\n",
       "          [0.0000, 0.0000, 0.0000, 0.0000, 0.0000, 0.0000, 0.0000, 0.1569,\n",
       "           0.2392, 0.1725, 0.2824, 0.1608, 0.1373, 0.0000, 0.0000, 0.0000,\n",
       "           0.0000, 0.0000, 0.0000, 0.0000, 0.0000, 0.0000, 0.0000, 0.0000,\n",
       "           0.0000, 0.0000, 0.0000, 0.0000],\n",
       "          [0.0000, 0.0000, 0.0000, 0.0000, 0.0000, 0.0000, 0.0000, 0.0000,\n",
       "           0.0000, 0.0000, 0.0000, 0.0000, 0.0000, 0.0000, 0.0000, 0.0000,\n",
       "           0.0000, 0.0000, 0.0000, 0.0000, 0.0000, 0.0000, 0.0000, 0.0000,\n",
       "           0.0000, 0.0000, 0.0000, 0.0000],\n",
       "          [0.0000, 0.0000, 0.0000, 0.0000, 0.0000, 0.0000, 0.0000, 0.0000,\n",
       "           0.0000, 0.0000, 0.0000, 0.0000, 0.0000, 0.0000, 0.0000, 0.0000,\n",
       "           0.0000, 0.0000, 0.0000, 0.0000, 0.0000, 0.0000, 0.0000, 0.0000,\n",
       "           0.0000, 0.0000, 0.0000, 0.0000]]]),\n",
       " 9)"
      ]
     },
     "execution_count": 4,
     "metadata": {},
     "output_type": "execute_result"
    }
   ],
   "source": [
    "image, label = train_data[0]\n",
    "image, label"
   ]
  },
  {
   "cell_type": "code",
   "execution_count": 5,
   "id": "d159d1a5",
   "metadata": {
    "execution": {
     "iopub.execute_input": "2025-09-03T09:05:35.217799Z",
     "iopub.status.busy": "2025-09-03T09:05:35.216946Z",
     "iopub.status.idle": "2025-09-03T09:05:35.222435Z",
     "shell.execute_reply": "2025-09-03T09:05:35.221660Z"
    },
    "papermill": {
     "duration": 0.016688,
     "end_time": "2025-09-03T09:05:35.223812",
     "exception": false,
     "start_time": "2025-09-03T09:05:35.207124",
     "status": "completed"
    },
    "tags": []
   },
   "outputs": [
    {
     "data": {
      "text/plain": [
       "['T-shirt/top',\n",
       " 'Trouser',\n",
       " 'Pullover',\n",
       " 'Dress',\n",
       " 'Coat',\n",
       " 'Sandal',\n",
       " 'Shirt',\n",
       " 'Sneaker',\n",
       " 'Bag',\n",
       " 'Ankle boot']"
      ]
     },
     "execution_count": 5,
     "metadata": {},
     "output_type": "execute_result"
    }
   ],
   "source": [
    "class_names = train_data.classes\n",
    "class_names"
   ]
  },
  {
   "cell_type": "code",
   "execution_count": 6,
   "id": "cfa86289",
   "metadata": {
    "execution": {
     "iopub.execute_input": "2025-09-03T09:05:35.243068Z",
     "iopub.status.busy": "2025-09-03T09:05:35.242777Z",
     "iopub.status.idle": "2025-09-03T09:05:35.248024Z",
     "shell.execute_reply": "2025-09-03T09:05:35.247392Z"
    },
    "papermill": {
     "duration": 0.016302,
     "end_time": "2025-09-03T09:05:35.249272",
     "exception": false,
     "start_time": "2025-09-03T09:05:35.232970",
     "status": "completed"
    },
    "tags": []
   },
   "outputs": [
    {
     "data": {
      "text/plain": [
       "{'T-shirt/top': 0,\n",
       " 'Trouser': 1,\n",
       " 'Pullover': 2,\n",
       " 'Dress': 3,\n",
       " 'Coat': 4,\n",
       " 'Sandal': 5,\n",
       " 'Shirt': 6,\n",
       " 'Sneaker': 7,\n",
       " 'Bag': 8,\n",
       " 'Ankle boot': 9}"
      ]
     },
     "execution_count": 6,
     "metadata": {},
     "output_type": "execute_result"
    }
   ],
   "source": [
    "class_to_idx = train_data.class_to_idx \n",
    "class_to_idx"
   ]
  },
  {
   "cell_type": "code",
   "execution_count": 7,
   "id": "6ca83bdf",
   "metadata": {
    "execution": {
     "iopub.execute_input": "2025-09-03T09:05:35.268642Z",
     "iopub.status.busy": "2025-09-03T09:05:35.268133Z",
     "iopub.status.idle": "2025-09-03T09:05:35.272686Z",
     "shell.execute_reply": "2025-09-03T09:05:35.271802Z"
    },
    "papermill": {
     "duration": 0.01538,
     "end_time": "2025-09-03T09:05:35.273953",
     "exception": false,
     "start_time": "2025-09-03T09:05:35.258573",
     "status": "completed"
    },
    "tags": []
   },
   "outputs": [
    {
     "name": "stdout",
     "output_type": "stream",
     "text": [
      "Image shape: torch.Size([1, 28, 28]) -> [color_cannels, height, width]\n",
      "image label: Ankle boot\n"
     ]
    }
   ],
   "source": [
    "print(f\"Image shape: {image.shape} -> [color_cannels, height, width]\")\n",
    "print(f\"image label: {class_names[label]}\")"
   ]
  },
  {
   "cell_type": "markdown",
   "id": "11826b83",
   "metadata": {
    "papermill": {
     "duration": 0.008926,
     "end_time": "2025-09-03T09:05:35.291971",
     "exception": false,
     "start_time": "2025-09-03T09:05:35.283045",
     "status": "completed"
    },
    "tags": []
   },
   "source": [
    "### 1.2 Visualizing data"
   ]
  },
  {
   "cell_type": "code",
   "execution_count": 8,
   "id": "67bf1cf7",
   "metadata": {
    "execution": {
     "iopub.execute_input": "2025-09-03T09:05:35.311642Z",
     "iopub.status.busy": "2025-09-03T09:05:35.311096Z",
     "iopub.status.idle": "2025-09-03T09:05:35.553978Z",
     "shell.execute_reply": "2025-09-03T09:05:35.553144Z"
    },
    "papermill": {
     "duration": 0.254318,
     "end_time": "2025-09-03T09:05:35.555277",
     "exception": false,
     "start_time": "2025-09-03T09:05:35.300959",
     "status": "completed"
    },
    "tags": []
   },
   "outputs": [
    {
     "data": {
      "text/plain": [
       "<matplotlib.image.AxesImage at 0x7ee50de2d510>"
      ]
     },
     "execution_count": 8,
     "metadata": {},
     "output_type": "execute_result"
    },
    {
     "data": {
      "image/png": "[encoded data removed]",
      "text/plain": [
       "<Figure size 640x480 with 1 Axes>"
      ]
     },
     "metadata": {},
     "output_type": "display_data"
    }
   ],
   "source": [
    "import matplotlib.pyplot as plt \n",
    "\n",
    "image, label = train_data[0]\n",
    "plt.imshow(image.squeeze()) # we need squeeze to remove the color channel dimension"
   ]
  },
  {
   "cell_type": "code",
   "execution_count": 9,
   "id": "74dd3a69",
   "metadata": {
    "execution": {
     "iopub.execute_input": "2025-09-03T09:05:35.575415Z",
     "iopub.status.busy": "2025-09-03T09:05:35.575132Z",
     "iopub.status.idle": "2025-09-03T09:05:35.684545Z",
     "shell.execute_reply": "2025-09-03T09:05:35.683764Z"
    },
    "papermill": {
     "duration": 0.121255,
     "end_time": "2025-09-03T09:05:35.686115",
     "exception": false,
     "start_time": "2025-09-03T09:05:35.564860",
     "status": "completed"
    },
    "tags": []
   },
   "outputs": [
    {
     "data": {
      "text/plain": [
       "(-0.5, 27.5, 27.5, -0.5)"
      ]
     },
     "execution_count": 9,
     "metadata": {},
     "output_type": "execute_result"
    },
    {
     "data": {
      "image/png": "[encoded data removed]",
      "text/plain": [
       "<Figure size 640x480 with 1 Axes>"
      ]
     },
     "metadata": {},
     "output_type": "display_data"
    }
   ],
   "source": [
    "plt.imshow(image.squeeze(), cmap=\"gray\")\n",
    "plt.title(class_names[label])\n",
    "plt.axis(False)"
   ]
  },
  {
   "cell_type": "code",
   "execution_count": 10,
   "id": "f614b57f",
   "metadata": {
    "execution": {
     "iopub.execute_input": "2025-09-03T09:05:35.707202Z",
     "iopub.status.busy": "2025-09-03T09:05:35.706911Z",
     "iopub.status.idle": "2025-09-03T09:05:36.741383Z",
     "shell.execute_reply": "2025-09-03T09:05:36.740567Z"
    },
    "papermill": {
     "duration": 1.046679,
     "end_time": "2025-09-03T09:05:36.742832",
     "exception": false,
     "start_time": "2025-09-03T09:05:35.696153",
     "status": "completed"
    },
    "tags": []
   },
   "outputs": [
    {
     "data": {
      "image/png": "[encoded data removed]",
      "text/plain": [
       "<Figure size 900x900 with 16 Axes>"
      ]
     },
     "metadata": {},
     "output_type": "display_data"
    }
   ],
   "source": [
    "# plot more images \n",
    "# torch.manual_seed(42)\n",
    "\n",
    "fig = plt.figure(figsize=(9,9))\n",
    "rows, cols = 4,4 \n",
    "for i in range(1, rows*cols+1):\n",
    "    random_idx = torch.randint(0, len(train_data), size=[1]).item()\n",
    "    # print(random_idx)\n",
    "    img, label = train_data[random_idx]\n",
    "    fig.add_subplot(rows,cols,i)\n",
    "    plt.imshow(img.squeeze(), cmap=\"gray\")\n",
    "    plt.title(class_names[label])\n",
    "    plt.axis(False)"
   ]
  },
  {
   "cell_type": "code",
   "execution_count": 11,
   "id": "5f2b6425",
   "metadata": {
    "execution": {
     "iopub.execute_input": "2025-09-03T09:05:36.765660Z",
     "iopub.status.busy": "2025-09-03T09:05:36.765344Z",
     "iopub.status.idle": "2025-09-03T09:05:36.770737Z",
     "shell.execute_reply": "2025-09-03T09:05:36.770024Z"
    },
    "papermill": {
     "duration": 0.017959,
     "end_time": "2025-09-03T09:05:36.772078",
     "exception": false,
     "start_time": "2025-09-03T09:05:36.754119",
     "status": "completed"
    },
    "tags": []
   },
   "outputs": [
    {
     "data": {
      "text/plain": [
       "(Dataset FashionMNIST\n",
       "     Number of datapoints: 60000\n",
       "     Root location: data\n",
       "     Split: Train\n",
       "     StandardTransform\n",
       " Transform: ToTensor(),\n",
       " Dataset FashionMNIST\n",
       "     Number of datapoints: 10000\n",
       "     Root location: data\n",
       "     Split: Test\n",
       "     StandardTransform\n",
       " Transform: ToTensor())"
      ]
     },
     "execution_count": 11,
     "metadata": {},
     "output_type": "execute_result"
    }
   ],
   "source": [
    "train_data, test_data"
   ]
  },
  {
   "cell_type": "markdown",
   "id": "72be672e",
   "metadata": {
    "papermill": {
     "duration": 0.010656,
     "end_time": "2025-09-03T09:05:36.854385",
     "exception": false,
     "start_time": "2025-09-03T09:05:36.843729",
     "status": "completed"
    },
    "tags": []
   },
   "source": [
    "## 2. Prepare DataLoader\n",
    "\n",
    "* Right now data is in the form of PyTorch Datasets\n",
    "* DataLoader turns the dataset into a Python iterable\n",
    "* more specifically, we want to turn our data into batches (or mini batches)\n",
    "  1. it is more computationally efficient, as in the computing hardware may not be able to look (store in memory) at 6000 images in one hit. So we break it down to 32 images at a time (batch size = 32)\n",
    "    2. it gives our NN more chances to update its ggradients per epoch (every 32 images)"
   ]
  },
  {
   "cell_type": "code",
   "execution_count": 12,
   "id": "8b20794c",
   "metadata": {
    "execution": {
     "iopub.execute_input": "2025-09-03T09:05:36.876769Z",
     "iopub.status.busy": "2025-09-03T09:05:36.876444Z",
     "iopub.status.idle": "2025-09-03T09:05:36.883420Z",
     "shell.execute_reply": "2025-09-03T09:05:36.882617Z"
    },
    "papermill": {
     "duration": 0.01969,
     "end_time": "2025-09-03T09:05:36.884817",
     "exception": false,
     "start_time": "2025-09-03T09:05:36.865127",
     "status": "completed"
    },
    "tags": []
   },
   "outputs": [
    {
     "data": {
      "text/plain": [
       "(<torch.utils.data.dataloader.DataLoader at 0x7ee50cb187d0>,\n",
       " <torch.utils.data.dataloader.DataLoader at 0x7ee50c846b90>)"
      ]
     },
     "execution_count": 12,
     "metadata": {},
     "output_type": "execute_result"
    }
   ],
   "source": [
    "from torch.utils.data import DataLoader \n",
    "\n",
    "# setup the batch size hyperparameter \n",
    "BATCH_SIZE = 32 \n",
    "\n",
    "# turn dataset into iterables (batches)\n",
    "train_dataloader = DataLoader(\n",
    "    dataset=train_data,\n",
    "    batch_size=BATCH_SIZE,\n",
    "    shuffle=True\n",
    ")\n",
    "\n",
    "test_dataloader = DataLoader(\n",
    "    dataset=test_data, \n",
    "    batch_size=BATCH_SIZE,\n",
    "    shuffle=False\n",
    ")\n",
    "\n",
    "train_dataloader, test_dataloader"
   ]
  },
  {
   "cell_type": "code",
   "execution_count": 13,
   "id": "df12d24b",
   "metadata": {
    "execution": {
     "iopub.execute_input": "2025-09-03T09:05:36.907901Z",
     "iopub.status.busy": "2025-09-03T09:05:36.907341Z",
     "iopub.status.idle": "2025-09-03T09:05:36.912474Z",
     "shell.execute_reply": "2025-09-03T09:05:36.911536Z"
    },
    "papermill": {
     "duration": 0.017808,
     "end_time": "2025-09-03T09:05:36.913726",
     "exception": false,
     "start_time": "2025-09-03T09:05:36.895918",
     "status": "completed"
    },
    "tags": []
   },
   "outputs": [
    {
     "name": "stdout",
     "output_type": "stream",
     "text": [
      "Dataloaders: (<torch.utils.data.dataloader.DataLoader object at 0x7ee50cb187d0>, <torch.utils.data.dataloader.DataLoader object at 0x7ee50c846b90>)\n",
      "Length of train_dataloader: 1875,batches of 32...\n",
      "Length of test_dataloader: 313, batches of 32\n"
     ]
    }
   ],
   "source": [
    "print(f\"Dataloaders: {train_dataloader, test_dataloader}\")\n",
    "print(f\"Length of train_dataloader: {len(train_dataloader)},batches of {BATCH_SIZE}...\")\n",
    "print(f\"Length of test_dataloader: {len(test_dataloader)}, batches of {BATCH_SIZE}\")"
   ]
  },
  {
   "cell_type": "code",
   "execution_count": 14,
   "id": "3aafee58",
   "metadata": {
    "execution": {
     "iopub.execute_input": "2025-09-03T09:05:36.937048Z",
     "iopub.status.busy": "2025-09-03T09:05:36.936417Z",
     "iopub.status.idle": "2025-09-03T09:05:36.941729Z",
     "shell.execute_reply": "2025-09-03T09:05:36.940858Z"
    },
    "papermill": {
     "duration": 0.018402,
     "end_time": "2025-09-03T09:05:36.943046",
     "exception": false,
     "start_time": "2025-09-03T09:05:36.924644",
     "status": "completed"
    },
    "tags": []
   },
   "outputs": [
    {
     "data": {
      "text/plain": [
       "(312.5, 10000.0)"
      ]
     },
     "execution_count": 14,
     "metadata": {},
     "output_type": "execute_result"
    }
   ],
   "source": [
    "10000/32, 32*312.5"
   ]
  },
  {
   "cell_type": "code",
   "execution_count": 15,
   "id": "43372d7a",
   "metadata": {
    "execution": {
     "iopub.execute_input": "2025-09-03T09:05:36.966061Z",
     "iopub.status.busy": "2025-09-03T09:05:36.965488Z",
     "iopub.status.idle": "2025-09-03T09:05:36.985446Z",
     "shell.execute_reply": "2025-09-03T09:05:36.984682Z"
    },
    "papermill": {
     "duration": 0.032927,
     "end_time": "2025-09-03T09:05:36.986807",
     "exception": false,
     "start_time": "2025-09-03T09:05:36.953880",
     "status": "completed"
    },
    "tags": []
   },
   "outputs": [
    {
     "data": {
      "text/plain": [
       "(torch.Size([32, 1, 28, 28]), torch.Size([32]))"
      ]
     },
     "execution_count": 15,
     "metadata": {},
     "output_type": "execute_result"
    }
   ],
   "source": [
    "train_features_batch, train_labels_batch = next(iter(train_dataloader)) # iter turns train_dataloader into an iterable and next gets us the next batch\n",
    "train_features_batch.shape, train_labels_batch.shape"
   ]
  },
  {
   "cell_type": "code",
   "execution_count": 16,
   "id": "7afa37bd",
   "metadata": {
    "execution": {
     "iopub.execute_input": "2025-09-03T09:05:37.011053Z",
     "iopub.status.busy": "2025-09-03T09:05:37.010274Z",
     "iopub.status.idle": "2025-09-03T09:05:37.114193Z",
     "shell.execute_reply": "2025-09-03T09:05:37.113367Z"
    },
    "papermill": {
     "duration": 0.117385,
     "end_time": "2025-09-03T09:05:37.115565",
     "exception": false,
     "start_time": "2025-09-03T09:05:36.998180",
     "status": "completed"
    },
    "tags": []
   },
   "outputs": [
    {
     "name": "stdout",
     "output_type": "stream",
     "text": [
      "Image size: torch.Size([1, 28, 28])\n",
      "Label: 5, label size: torch.Size([])\n"
     ]
    },
    {
     "data": {
      "image/png": "[encoded data removed]",
      "text/plain": [
       "<Figure size 640x480 with 1 Axes>"
      ]
     },
     "metadata": {},
     "output_type": "display_data"
    }
   ],
   "source": [
    "# show a sample \n",
    "torch.manual_seed(42)\n",
    "random_idx = torch.randint(0,len(train_features_batch), size=[1]).item()\n",
    "img, label = train_features_batch[random_idx], train_labels_batch[random_idx]\n",
    "plt.imshow(img.squeeze(), cmap=\"gray\")\n",
    "plt.title(class_names[label])\n",
    "plt.axis(False)\n",
    "print(f\"Image size: {img.shape}\")\n",
    "print(f\"Label: {label}, label size: {label.shape}\")"
   ]
  },
  {
   "cell_type": "markdown",
   "id": "86d95070",
   "metadata": {
    "papermill": {
     "duration": 0.011195,
     "end_time": "2025-09-03T09:05:37.138449",
     "exception": false,
     "start_time": "2025-09-03T09:05:37.127254",
     "status": "completed"
    },
    "tags": []
   },
   "source": [
    "## 3. Model 0: baseline model "
   ]
  },
  {
   "cell_type": "code",
   "execution_count": 17,
   "id": "5d10332a",
   "metadata": {
    "execution": {
     "iopub.execute_input": "2025-09-03T09:05:37.162380Z",
     "iopub.status.busy": "2025-09-03T09:05:37.161856Z",
     "iopub.status.idle": "2025-09-03T09:05:37.167647Z",
     "shell.execute_reply": "2025-09-03T09:05:37.166820Z"
    },
    "papermill": {
     "duration": 0.01951,
     "end_time": "2025-09-03T09:05:37.169101",
     "exception": false,
     "start_time": "2025-09-03T09:05:37.149591",
     "status": "completed"
    },
    "tags": []
   },
   "outputs": [
    {
     "data": {
      "text/plain": [
       "torch.Size([1, 28, 28])"
      ]
     },
     "execution_count": 17,
     "metadata": {},
     "output_type": "execute_result"
    }
   ],
   "source": [
    "# create a flatten layer \n",
    "flatten_model = nn.Flatten()\n",
    "\n",
    "# get a single sample \n",
    "x = train_features_batch[0]\n",
    "x.shape"
   ]
  },
  {
   "cell_type": "code",
   "execution_count": 18,
   "id": "91f99d41",
   "metadata": {
    "execution": {
     "iopub.execute_input": "2025-09-03T09:05:37.192924Z",
     "iopub.status.busy": "2025-09-03T09:05:37.192635Z",
     "iopub.status.idle": "2025-09-03T09:05:37.197453Z",
     "shell.execute_reply": "2025-09-03T09:05:37.196663Z"
    },
    "papermill": {
     "duration": 0.01833,
     "end_time": "2025-09-03T09:05:37.198789",
     "exception": false,
     "start_time": "2025-09-03T09:05:37.180459",
     "status": "completed"
    },
    "tags": []
   },
   "outputs": [
    {
     "name": "stdout",
     "output_type": "stream",
     "text": [
      "Shape before flattening: torch.Size([1, 28, 28]) -> [C, H, W]\n",
      "Shape after flattening: torch.Size([1, 784]) -> [C, H*W]\n"
     ]
    }
   ],
   "source": [
    "# flatten the sample \n",
    "output = flatten_model(x)\n",
    "print(f\"Shape before flattening: {x.shape} -> [C, H, W]\")\n",
    "print(f\"Shape after flattening: {output.shape} -> [C, H*W]\")"
   ]
  },
  {
   "cell_type": "code",
   "execution_count": 19,
   "id": "8d4fcd22",
   "metadata": {
    "execution": {
     "iopub.execute_input": "2025-09-03T09:05:37.222286Z",
     "iopub.status.busy": "2025-09-03T09:05:37.222014Z",
     "iopub.status.idle": "2025-09-03T09:05:37.227346Z",
     "shell.execute_reply": "2025-09-03T09:05:37.226508Z"
    },
    "papermill": {
     "duration": 0.018755,
     "end_time": "2025-09-03T09:05:37.228644",
     "exception": false,
     "start_time": "2025-09-03T09:05:37.209889",
     "status": "completed"
    },
    "tags": []
   },
   "outputs": [],
   "source": [
    "from torch import nn \n",
    "class FashionMNISTModelV0(nn.Module):\n",
    "    def __init__(\n",
    "        self, \n",
    "        input_shape: int, \n",
    "        hidden_units: int,\n",
    "        output_shape: int\n",
    "    ) :\n",
    "        super().__init__()\n",
    "        self.layer_stack = nn.Sequential(\n",
    "            nn.Flatten(),\n",
    "            nn.Linear(\n",
    "                in_features = input_shape,\n",
    "                out_features = hidden_units\n",
    "            ),\n",
    "            nn.Linear(\n",
    "                in_features = hidden_units,\n",
    "                out_features = output_shape\n",
    "            )\n",
    "        )\n",
    "\n",
    "    def forward(self, x):\n",
    "        return self.layer_stack(x)"
   ]
  },
  {
   "cell_type": "code",
   "execution_count": 20,
   "id": "200b32e3",
   "metadata": {
    "execution": {
     "iopub.execute_input": "2025-09-03T09:05:37.252578Z",
     "iopub.status.busy": "2025-09-03T09:05:37.252281Z",
     "iopub.status.idle": "2025-09-03T09:05:37.260152Z",
     "shell.execute_reply": "2025-09-03T09:05:37.259339Z"
    },
    "papermill": {
     "duration": 0.021475,
     "end_time": "2025-09-03T09:05:37.261575",
     "exception": false,
     "start_time": "2025-09-03T09:05:37.240100",
     "status": "completed"
    },
    "tags": []
   },
   "outputs": [
    {
     "data": {
      "text/plain": [
       "FashionMNISTModelV0(\n",
       "  (layer_stack): Sequential(\n",
       "    (0): Flatten(start_dim=1, end_dim=-1)\n",
       "    (1): Linear(in_features=784, out_features=10, bias=True)\n",
       "    (2): Linear(in_features=10, out_features=10, bias=True)\n",
       "  )\n",
       ")"
      ]
     },
     "execution_count": 20,
     "metadata": {},
     "output_type": "execute_result"
    }
   ],
   "source": [
    "torch.manual_seed(42)\n",
    "\n",
    "# setup model with input parameters \n",
    "model_0 = FashionMNISTModelV0(\n",
    "    input_shape = 28*28, # 784\n",
    "    hidden_units = 10, \n",
    "    output_shape= len(class_names) # one for each class\n",
    ")\n",
    "\n",
    "model_0"
   ]
  },
  {
   "cell_type": "code",
   "execution_count": 21,
   "id": "b3f5788d",
   "metadata": {
    "execution": {
     "iopub.execute_input": "2025-09-03T09:05:37.285850Z",
     "iopub.status.busy": "2025-09-03T09:05:37.285159Z",
     "iopub.status.idle": "2025-09-03T09:05:37.302077Z",
     "shell.execute_reply": "2025-09-03T09:05:37.301225Z"
    },
    "papermill": {
     "duration": 0.030452,
     "end_time": "2025-09-03T09:05:37.303498",
     "exception": false,
     "start_time": "2025-09-03T09:05:37.273046",
     "status": "completed"
    },
    "tags": []
   },
   "outputs": [
    {
     "data": {
      "text/plain": [
       "tensor([[-0.0315,  0.3171,  0.0531, -0.2525,  0.5959,  0.2112,  0.3233,  0.2694,\n",
       "         -0.1004,  0.0157]], grad_fn=<AddmmBackward0>)"
      ]
     },
     "execution_count": 21,
     "metadata": {},
     "output_type": "execute_result"
    }
   ],
   "source": [
    "dummy_x = torch.rand([1,1,28,28])\n",
    "model_0(dummy_x)"
   ]
  },
  {
   "cell_type": "code",
   "execution_count": 22,
   "id": "205becf0",
   "metadata": {
    "execution": {
     "iopub.execute_input": "2025-09-03T09:05:37.327904Z",
     "iopub.status.busy": "2025-09-03T09:05:37.327168Z",
     "iopub.status.idle": "2025-09-03T09:05:37.336855Z",
     "shell.execute_reply": "2025-09-03T09:05:37.336016Z"
    },
    "papermill": {
     "duration": 0.023067,
     "end_time": "2025-09-03T09:05:37.338163",
     "exception": false,
     "start_time": "2025-09-03T09:05:37.315096",
     "status": "completed"
    },
    "tags": []
   },
   "outputs": [
    {
     "data": {
      "text/plain": [
       "OrderedDict([('layer_stack.1.weight',\n",
       "              tensor([[ 0.0273,  0.0296, -0.0084,  ..., -0.0142,  0.0093,  0.0135],\n",
       "                      [-0.0188, -0.0354,  0.0187,  ..., -0.0106, -0.0001,  0.0115],\n",
       "                      [-0.0008,  0.0017,  0.0045,  ..., -0.0127, -0.0188,  0.0059],\n",
       "                      ...,\n",
       "                      [-0.0116,  0.0273, -0.0344,  ...,  0.0176,  0.0283, -0.0011],\n",
       "                      [-0.0230,  0.0257,  0.0291,  ..., -0.0187, -0.0087,  0.0001],\n",
       "                      [ 0.0176, -0.0147,  0.0053,  ..., -0.0336, -0.0221,  0.0205]])),\n",
       "             ('layer_stack.1.bias',\n",
       "              tensor([-0.0093,  0.0283, -0.0033,  0.0255,  0.0017,  0.0037, -0.0302, -0.0123,\n",
       "                       0.0018,  0.0163])),\n",
       "             ('layer_stack.2.weight',\n",
       "              tensor([[ 0.0614, -0.0687,  0.0021,  0.2718,  0.2109,  0.1079, -0.2279, -0.1063,\n",
       "                        0.2019,  0.2847],\n",
       "                      [-0.1495,  0.1344, -0.0740,  0.2006, -0.0475, -0.2514, -0.3130, -0.0118,\n",
       "                        0.0932, -0.1864],\n",
       "                      [ 0.2488,  0.1500,  0.1907,  0.1457, -0.3050, -0.0580,  0.1643,  0.1565,\n",
       "                       -0.2877, -0.1792],\n",
       "                      [ 0.2305, -0.2618,  0.2397, -0.0610,  0.0232,  0.1542,  0.0851, -0.2027,\n",
       "                        0.1030, -0.2715],\n",
       "                      [-0.1596, -0.0555, -0.0633,  0.2302, -0.1726,  0.2654,  0.1473,  0.1029,\n",
       "                        0.2252, -0.2160],\n",
       "                      [-0.2725,  0.0118,  0.1559,  0.1596,  0.0132,  0.3024,  0.1124,  0.1366,\n",
       "                       -0.1533,  0.0965],\n",
       "                      [-0.1184, -0.2555, -0.2057, -0.1909, -0.0477, -0.1324,  0.2905,  0.1307,\n",
       "                       -0.2629,  0.0133],\n",
       "                      [ 0.2727, -0.0127,  0.0513,  0.0863, -0.1043, -0.2047, -0.1185, -0.0825,\n",
       "                        0.2488, -0.2571],\n",
       "                      [ 0.0425, -0.1209, -0.0336, -0.0281, -0.1227,  0.0730,  0.0747, -0.1816,\n",
       "                        0.1943,  0.2853],\n",
       "                      [-0.1310,  0.0645, -0.1171,  0.2168, -0.0245, -0.2820,  0.0736,  0.2621,\n",
       "                        0.0012, -0.0810]])),\n",
       "             ('layer_stack.2.bias',\n",
       "              tensor([-0.0087,  0.1791,  0.2712, -0.0791,  0.1685,  0.1762,  0.2825,  0.2266,\n",
       "                      -0.2612, -0.2613]))])"
      ]
     },
     "execution_count": 22,
     "metadata": {},
     "output_type": "execute_result"
    }
   ],
   "source": [
    "model_0.state_dict()"
   ]
  },
  {
   "cell_type": "markdown",
   "id": "3e9e5e04",
   "metadata": {
    "papermill": {
     "duration": 0.011199,
     "end_time": "2025-09-03T09:05:37.361064",
     "exception": false,
     "start_time": "2025-09-03T09:05:37.349865",
     "status": "completed"
    },
    "tags": []
   },
   "source": [
    "### 3.1 Setup loss, optimizer and evaluation metrics \n",
    "* Loss function : since we're working with multi-class data -> `nn.CrossEntropyLoss()`\n",
    "* Optimizer : stochastic gradient descent -> `torch.optim.SGD()`\n",
    "* Evaluation metric : since we are working on a classification problem, let's use accuracy "
   ]
  },
  {
   "cell_type": "code",
   "execution_count": 23,
   "id": "08453960",
   "metadata": {
    "execution": {
     "iopub.execute_input": "2025-09-03T09:05:37.386179Z",
     "iopub.status.busy": "2025-09-03T09:05:37.385912Z",
     "iopub.status.idle": "2025-09-03T09:05:37.591623Z",
     "shell.execute_reply": "2025-09-03T09:05:37.590803Z"
    },
    "papermill": {
     "duration": 0.220187,
     "end_time": "2025-09-03T09:05:37.593009",
     "exception": false,
     "start_time": "2025-09-03T09:05:37.372822",
     "status": "completed"
    },
    "tags": []
   },
   "outputs": [
    {
     "name": "stdout",
     "output_type": "stream",
     "text": [
      "Downloading helper_functions.py\n"
     ]
    }
   ],
   "source": [
    "import requests \n",
    "from pathlib import Path \n",
    "\n",
    "if Path(\"helper_functions.py\").is_file() :\n",
    "    print(\"helper_functions.py already exists, skipping download\")\n",
    "else : \n",
    "    print(\"Downloading helper_functions.py\")\n",
    "    request = requests.get(\"https://raw.githubusercontent.com/mrdbourke/pytorch-deep-learning/af6548e52663c8395fe2777bd0fbfd6ac85fd6f8/helper_functions.py\")\n",
    "    with open(\"helper_functions.py\", \"wb\") as f:\n",
    "        f.write(request.content)"
   ]
  },
  {
   "cell_type": "code",
   "execution_count": 24,
   "id": "58e0a489",
   "metadata": {
    "execution": {
     "iopub.execute_input": "2025-09-03T09:05:37.618140Z",
     "iopub.status.busy": "2025-09-03T09:05:37.617530Z",
     "iopub.status.idle": "2025-09-03T09:05:37.753050Z",
     "shell.execute_reply": "2025-09-03T09:05:37.751878Z"
    },
    "papermill": {
     "duration": 0.149614,
     "end_time": "2025-09-03T09:05:37.754809",
     "exception": false,
     "start_time": "2025-09-03T09:05:37.605195",
     "status": "completed"
    },
    "tags": []
   },
   "outputs": [
    {
     "name": "stdout",
     "output_type": "stream",
     "text": [
      "data  helper_functions.py  __notebook__.ipynb\r\n"
     ]
    }
   ],
   "source": [
    "!ls"
   ]
  },
  {
   "cell_type": "code",
   "execution_count": 25,
   "id": "72c9a391",
   "metadata": {
    "execution": {
     "iopub.execute_input": "2025-09-03T09:05:37.780100Z",
     "iopub.status.busy": "2025-09-03T09:05:37.779802Z",
     "iopub.status.idle": "2025-09-03T09:05:37.860581Z",
     "shell.execute_reply": "2025-09-03T09:05:37.859791Z"
    },
    "papermill": {
     "duration": 0.095168,
     "end_time": "2025-09-03T09:05:37.862159",
     "exception": false,
     "start_time": "2025-09-03T09:05:37.766991",
     "status": "completed"
    },
    "tags": []
   },
   "outputs": [],
   "source": [
    "from helper_functions import accuracy_fn \n",
    "\n",
    "# setup loss function and optimizer \n",
    "loss_fn = nn.CrossEntropyLoss()\n",
    "optimizer = torch.optim.SGD(\n",
    "    params=model_0.parameters(),\n",
    "    lr=0.1\n",
    ")"
   ]
  },
  {
   "cell_type": "markdown",
   "id": "ef5a8a9c",
   "metadata": {
    "papermill": {
     "duration": 0.011528,
     "end_time": "2025-09-03T09:05:37.886088",
     "exception": false,
     "start_time": "2025-09-03T09:05:37.874560",
     "status": "completed"
    },
    "tags": []
   },
   "source": [
    "### 3.2 Creating a function to time our experiments\n",
    "\n",
    "ML is very experimental. Two of the main things we want to track are:\n",
    "1. Model's performance (e.g. loss and accuracy)\n",
    "2. How fast it runs "
   ]
  },
  {
   "cell_type": "code",
   "execution_count": 26,
   "id": "3a68c76f",
   "metadata": {
    "execution": {
     "iopub.execute_input": "2025-09-03T09:05:37.910671Z",
     "iopub.status.busy": "2025-09-03T09:05:37.910332Z",
     "iopub.status.idle": "2025-09-03T09:05:37.915087Z",
     "shell.execute_reply": "2025-09-03T09:05:37.914388Z"
    },
    "papermill": {
     "duration": 0.018382,
     "end_time": "2025-09-03T09:05:37.916492",
     "exception": false,
     "start_time": "2025-09-03T09:05:37.898110",
     "status": "completed"
    },
    "tags": []
   },
   "outputs": [],
   "source": [
    "from timeit import default_timer as timer \n",
    "def print_train_time(\n",
    "    start: float, \n",
    "    end: float, \n",
    "    device: torch.device = None\n",
    "):\n",
    "    \"\"\"\n",
    "    Prints difference between start and end time\n",
    "    \"\"\"\n",
    "    total_time = end - start\n",
    "    print(f\"Train time on {device}: {total_time:.3f} seconds\")\n",
    "    return total_time "
   ]
  },
  {
   "cell_type": "code",
   "execution_count": 27,
   "id": "1c0c9bf8",
   "metadata": {
    "execution": {
     "iopub.execute_input": "2025-09-03T09:05:37.942673Z",
     "iopub.status.busy": "2025-09-03T09:05:37.942353Z",
     "iopub.status.idle": "2025-09-03T09:05:37.948956Z",
     "shell.execute_reply": "2025-09-03T09:05:37.948252Z"
    },
    "papermill": {
     "duration": 0.021733,
     "end_time": "2025-09-03T09:05:37.950257",
     "exception": false,
     "start_time": "2025-09-03T09:05:37.928524",
     "status": "completed"
    },
    "tags": []
   },
   "outputs": [
    {
     "name": "stdout",
     "output_type": "stream",
     "text": [
      "Train time on cpu: 0.000 seconds\n"
     ]
    },
    {
     "data": {
      "text/plain": [
       "4.089599997314508e-05"
      ]
     },
     "execution_count": 27,
     "metadata": {},
     "output_type": "execute_result"
    }
   ],
   "source": [
    "start_time = timer()\n",
    "# code \n",
    "end_time = timer()\n",
    "print_train_time(start_time, end_time, \"cpu\")"
   ]
  },
  {
   "cell_type": "markdown",
   "id": "764cae40",
   "metadata": {
    "papermill": {
     "duration": 0.0119,
     "end_time": "2025-09-03T09:05:37.974163",
     "exception": false,
     "start_time": "2025-09-03T09:05:37.962263",
     "status": "completed"
    },
    "tags": []
   },
   "source": [
    "### 3.3 Creating a training loop and training the model on batches of data \n",
    "1. Loop through epochs\n",
    "2. Loop through training batches, perform training steps, calculate the train loss *per batch*\n",
    "3. Loop through testing batches, perform testing steps, calculate the test loss *per batch*\n",
    "4. Print out what's happning\n",
    "5. Time it all\n",
    "\n",
    "The **optimizer** will update a model's parameters **once per batch rather than once per epoch**"
   ]
  },
  {
   "cell_type": "code",
   "execution_count": 28,
   "id": "7c49f5a1",
   "metadata": {
    "execution": {
     "iopub.execute_input": "2025-09-03T09:05:38.001171Z",
     "iopub.status.busy": "2025-09-03T09:05:38.000872Z",
     "iopub.status.idle": "2025-09-03T09:06:05.310645Z",
     "shell.execute_reply": "2025-09-03T09:06:05.309703Z"
    },
    "papermill": {
     "duration": 27.324883,
     "end_time": "2025-09-03T09:06:05.312179",
     "exception": false,
     "start_time": "2025-09-03T09:05:37.987296",
     "status": "completed"
    },
    "tags": []
   },
   "outputs": [
    {
     "data": {
      "application/vnd.jupyter.widget-view+json": {
       "model_id": "60f5c4a972b242ca8769d0263ccd58c0",
       "version_major": 2,
       "version_minor": 0
      },
      "text/plain": [
       "  0%|          | 0/3 [00:00<?, ?it/s]"
      ]
     },
     "metadata": {},
     "output_type": "display_data"
    },
    {
     "name": "stdout",
     "output_type": "stream",
     "text": [
      "Epoch: 0\n",
      "-------\n",
      "Looked at 0/60000 samples\n",
      "Looked at 12800/60000 samples\n",
      "Looked at 25600/60000 samples\n",
      "Looked at 38400/60000 samples\n",
      "Looked at 51200/60000 samples\n",
      "\n",
      "Train loss: 0.59039 | Test loss: 0.50954, Test acc: 82.04%\n",
      "\n",
      "Epoch: 1\n",
      "-------\n",
      "Looked at 0/60000 samples\n",
      "Looked at 12800/60000 samples\n",
      "Looked at 25600/60000 samples\n",
      "Looked at 38400/60000 samples\n",
      "Looked at 51200/60000 samples\n",
      "\n",
      "Train loss: 0.47633 | Test loss: 0.47989, Test acc: 83.20%\n",
      "\n",
      "Epoch: 2\n",
      "-------\n",
      "Looked at 0/60000 samples\n",
      "Looked at 12800/60000 samples\n",
      "Looked at 25600/60000 samples\n",
      "Looked at 38400/60000 samples\n",
      "Looked at 51200/60000 samples\n",
      "\n",
      "Train loss: 0.45503 | Test loss: 0.47664, Test acc: 83.43%\n",
      "\n",
      "Train time on cpu: 27.154 seconds\n"
     ]
    }
   ],
   "source": [
    "# Import tqdm for progress bar\n",
    "from tqdm.auto import tqdm\n",
    "\n",
    "# Set the seed and start the timer\n",
    "torch.manual_seed(42)\n",
    "train_time_start_on_cpu = timer()\n",
    "\n",
    "# Set the number of epochs (we'll keep this small for faster training times)\n",
    "epochs = 3\n",
    "\n",
    "# Create training and testing loop\n",
    "for epoch in tqdm(range(epochs)):\n",
    "    print(f\"Epoch: {epoch}\\n-------\")\n",
    "    ### Training\n",
    "    train_loss = 0\n",
    "    # Add a loop to loop through training batches\n",
    "    for batch, (X, y) in enumerate(train_dataloader):\n",
    "        model_0.train() \n",
    "        # 1. Forward pass\n",
    "        y_pred = model_0(X)\n",
    "\n",
    "        # 2. Calculate loss (per batch)\n",
    "        loss = loss_fn(y_pred, y)\n",
    "        train_loss += loss # accumulatively add up the loss per epoch \n",
    "\n",
    "        # 3. Optimizer zero grad\n",
    "        optimizer.zero_grad()\n",
    "\n",
    "        # 4. Loss backward\n",
    "        loss.backward()\n",
    "\n",
    "        # 5. Optimizer step\n",
    "        optimizer.step()\n",
    "\n",
    "        # Print out how many samples have been seen\n",
    "        if batch % 400 == 0:\n",
    "            print(f\"Looked at {batch * len(X)}/{len(train_dataloader.dataset)} samples\")\n",
    "\n",
    "    # Divide total train loss by length of train dataloader (average loss per batch per epoch)\n",
    "    train_loss /= len(train_dataloader)\n",
    "    \n",
    "    ### Testing\n",
    "    # Setup variables for accumulatively adding up loss and accuracy \n",
    "    test_loss, test_acc = 0, 0 \n",
    "    model_0.eval()\n",
    "    with torch.inference_mode():\n",
    "        for X, y in test_dataloader:\n",
    "            # 1. Forward pass\n",
    "            test_pred = model_0(X)\n",
    "           \n",
    "            # 2. Calculate loss (accumulatively)\n",
    "            test_loss += loss_fn(test_pred, y) # accumulatively add up the loss per epoch\n",
    "\n",
    "            # 3. Calculate accuracy (preds need to be same as y_true)\n",
    "            test_acc += accuracy_fn(y_true=y, y_pred=test_pred.argmax(dim=1))\n",
    "        \n",
    "        # Calculations on test metrics need to happen inside torch.inference_mode()\n",
    "        # Divide total test loss by length of test dataloader (per batch)\n",
    "        test_loss /= len(test_dataloader)\n",
    "\n",
    "        # Divide total accuracy by length of test dataloader (per batch)\n",
    "        test_acc /= len(test_dataloader)\n",
    "\n",
    "    ## Print out what's happening\n",
    "    print(f\"\\nTrain loss: {train_loss:.5f} | Test loss: {test_loss:.5f}, Test acc: {test_acc:.2f}%\\n\")\n",
    "\n",
    "# Calculate training time      \n",
    "train_time_end_on_cpu = timer()\n",
    "total_train_time_model_0 = print_train_time(start=train_time_start_on_cpu, \n",
    "                                           end=train_time_end_on_cpu,\n",
    "                                           device=str(next(model_0.parameters()).device))"
   ]
  },
  {
   "cell_type": "markdown",
   "id": "04cdebaa",
   "metadata": {
    "papermill": {
     "duration": 0.012558,
     "end_time": "2025-09-03T09:06:05.340712",
     "exception": false,
     "start_time": "2025-09-03T09:06:05.328154",
     "status": "completed"
    },
    "tags": []
   },
   "source": [
    "## 4. Make predicions and get model_0 results"
   ]
  },
  {
   "cell_type": "code",
   "execution_count": 29,
   "id": "88fb630d",
   "metadata": {
    "execution": {
     "iopub.execute_input": "2025-09-03T09:06:05.367121Z",
     "iopub.status.busy": "2025-09-03T09:06:05.366802Z",
     "iopub.status.idle": "2025-09-03T09:06:06.406354Z",
     "shell.execute_reply": "2025-09-03T09:06:06.405448Z"
    },
    "papermill": {
     "duration": 1.054262,
     "end_time": "2025-09-03T09:06:06.407712",
     "exception": false,
     "start_time": "2025-09-03T09:06:05.353450",
     "status": "completed"
    },
    "tags": []
   },
   "outputs": [
    {
     "data": {
      "text/plain": [
       "{'model_name': 'FashionMNISTModelV0',\n",
       " 'model_loss': 0.47663894295692444,\n",
       " 'model_acc': 83.42651757188499}"
      ]
     },
     "execution_count": 29,
     "metadata": {},
     "output_type": "execute_result"
    }
   ],
   "source": [
    "torch.manual_seed(42)\n",
    "def eval_model(model: torch.nn.Module, \n",
    "               data_loader: torch.utils.data.DataLoader, \n",
    "               loss_fn: torch.nn.Module, \n",
    "               accuracy_fn):\n",
    "    \"\"\"Returns a dictionary containing the results of model predicting on data_loader.\n",
    "\n",
    "    Args:\n",
    "        model (torch.nn.Module): A PyTorch model capable of making predictions on data_loader.\n",
    "        data_loader (torch.utils.data.DataLoader): The target dataset to predict on.\n",
    "        loss_fn (torch.nn.Module): The loss function of model.\n",
    "        accuracy_fn: An accuracy function to compare the models predictions to the truth labels.\n",
    "\n",
    "    Returns:\n",
    "        (dict): Results of model making predictions on data_loader.\n",
    "    \"\"\"\n",
    "    loss, acc = 0, 0\n",
    "    model.eval()\n",
    "    with torch.inference_mode():\n",
    "        for X, y in data_loader:\n",
    "            # Make predictions with the model\n",
    "            y_pred = model(X)\n",
    "            \n",
    "            # Accumulate the loss and accuracy values per batch\n",
    "            loss += loss_fn(y_pred, y)\n",
    "            acc += accuracy_fn(y_true=y, \n",
    "                                y_pred=y_pred.argmax(dim=1)) # For accuracy, need the prediction labels (logits -> pred_prob -> pred_labels)\n",
    "        \n",
    "        # Scale loss and acc to find the average loss/acc per batch\n",
    "        loss /= len(data_loader)\n",
    "        acc /= len(data_loader)\n",
    "        \n",
    "    return {\"model_name\": model.__class__.__name__, # only works when model was created with a class\n",
    "            \"model_loss\": loss.item(),\n",
    "            \"model_acc\": acc}\n",
    "\n",
    "# Calculate model 0 results on test dataset\n",
    "model_0_results = eval_model(model=model_0, data_loader=test_dataloader,\n",
    "    loss_fn=loss_fn, accuracy_fn=accuracy_fn\n",
    ")\n",
    "model_0_results"
   ]
  },
  {
   "cell_type": "markdown",
   "id": "3812e2b9",
   "metadata": {
    "papermill": {
     "duration": 0.011853,
     "end_time": "2025-09-03T09:06:06.432752",
     "exception": false,
     "start_time": "2025-09-03T09:06:06.420899",
     "status": "completed"
    },
    "tags": []
   },
   "source": [
    "### 5. Setup device agnostic-code (for using a GPU if there is one available)"
   ]
  },
  {
   "cell_type": "code",
   "execution_count": 30,
   "id": "11f124c7",
   "metadata": {
    "execution": {
     "iopub.execute_input": "2025-09-03T09:06:06.459211Z",
     "iopub.status.busy": "2025-09-03T09:06:06.458893Z",
     "iopub.status.idle": "2025-09-03T09:06:06.643037Z",
     "shell.execute_reply": "2025-09-03T09:06:06.641912Z"
    },
    "papermill": {
     "duration": 0.199607,
     "end_time": "2025-09-03T09:06:06.644670",
     "exception": false,
     "start_time": "2025-09-03T09:06:06.445063",
     "status": "completed"
    },
    "tags": []
   },
   "outputs": [
    {
     "name": "stdout",
     "output_type": "stream",
     "text": [
      "Wed Sep  3 09:06:06 2025       \r\n",
      "+-----------------------------------------------------------------------------------------+\r\n",
      "| NVIDIA-SMI 560.35.03              Driver Version: 560.35.03      CUDA Version: 12.6     |\r\n",
      "|-----------------------------------------+------------------------+----------------------+\r\n",
      "| GPU  Name                 Persistence-M | Bus-Id          Disp.A | Volatile Uncorr. ECC |\r\n",
      "| Fan  Temp   Perf          Pwr:Usage/Cap |           Memory-Usage | GPU-Util  Compute M. |\r\n",
      "|                                         |                        |               MIG M. |\r\n",
      "|=========================================+========================+======================|\r\n",
      "|   0  Tesla P100-PCIE-16GB           Off |   00000000:00:04.0 Off |                    0 |\r\n",
      "| N/A   36C    P0             26W /  250W |       3MiB /  16384MiB |      0%      Default |\r\n",
      "|                                         |                        |                  N/A |\r\n",
      "+-----------------------------------------+------------------------+----------------------+\r\n",
      "                                                                                         \r\n",
      "+-----------------------------------------------------------------------------------------+\r\n",
      "| Processes:                                                                              |\r\n",
      "|  GPU   GI   CI        PID   Type   Process name                              GPU Memory |\r\n",
      "|        ID   ID                                                               Usage      |\r\n",
      "|=========================================================================================|\r\n",
      "|  No running processes found                                                             |\r\n",
      "+-----------------------------------------------------------------------------------------+\r\n"
     ]
    }
   ],
   "source": [
    "!nvidia-smi"
   ]
  },
  {
   "cell_type": "code",
   "execution_count": 31,
   "id": "72a466e7",
   "metadata": {
    "execution": {
     "iopub.execute_input": "2025-09-03T09:06:06.673269Z",
     "iopub.status.busy": "2025-09-03T09:06:06.672942Z",
     "iopub.status.idle": "2025-09-03T09:06:06.679167Z",
     "shell.execute_reply": "2025-09-03T09:06:06.678395Z"
    },
    "papermill": {
     "duration": 0.022156,
     "end_time": "2025-09-03T09:06:06.680413",
     "exception": false,
     "start_time": "2025-09-03T09:06:06.658257",
     "status": "completed"
    },
    "tags": []
   },
   "outputs": [
    {
     "data": {
      "text/plain": [
       "True"
      ]
     },
     "execution_count": 31,
     "metadata": {},
     "output_type": "execute_result"
    }
   ],
   "source": [
    "torch.cuda.is_available()"
   ]
  },
  {
   "cell_type": "code",
   "execution_count": 32,
   "id": "9afe524f",
   "metadata": {
    "execution": {
     "iopub.execute_input": "2025-09-03T09:06:06.710197Z",
     "iopub.status.busy": "2025-09-03T09:06:06.709900Z",
     "iopub.status.idle": "2025-09-03T09:06:06.715588Z",
     "shell.execute_reply": "2025-09-03T09:06:06.714745Z"
    },
    "papermill": {
     "duration": 0.022825,
     "end_time": "2025-09-03T09:06:06.716942",
     "exception": false,
     "start_time": "2025-09-03T09:06:06.694117",
     "status": "completed"
    },
    "tags": []
   },
   "outputs": [
    {
     "data": {
      "text/plain": [
       "'cuda'"
      ]
     },
     "execution_count": 32,
     "metadata": {},
     "output_type": "execute_result"
    }
   ],
   "source": [
    "# setup device-agnostic code\n",
    "import torch \n",
    "\n",
    "device = \"cuda\" if torch.cuda.is_available() else \"cpu\"\n",
    "device"
   ]
  },
  {
   "cell_type": "markdown",
   "id": "02825f01",
   "metadata": {
    "papermill": {
     "duration": 0.013027,
     "end_time": "2025-09-03T09:06:06.743307",
     "exception": false,
     "start_time": "2025-09-03T09:06:06.730280",
     "status": "completed"
    },
    "tags": []
   },
   "source": [
    "## 6. Model 1 : Building a better model with non-linearity \n",
    "\n",
    "Let's leverage non-linearity's power"
   ]
  },
  {
   "cell_type": "code",
   "execution_count": 33,
   "id": "9357bd75",
   "metadata": {
    "execution": {
     "iopub.execute_input": "2025-09-03T09:06:06.772180Z",
     "iopub.status.busy": "2025-09-03T09:06:06.771389Z",
     "iopub.status.idle": "2025-09-03T09:06:06.777109Z",
     "shell.execute_reply": "2025-09-03T09:06:06.776437Z"
    },
    "papermill": {
     "duration": 0.020878,
     "end_time": "2025-09-03T09:06:06.778360",
     "exception": false,
     "start_time": "2025-09-03T09:06:06.757482",
     "status": "completed"
    },
    "tags": []
   },
   "outputs": [],
   "source": [
    "# create a model with non-linear and linear layers \n",
    "\n",
    "class FashionMNISTModelV1(nn.Module):\n",
    "    def __init__(self, input_shape: int, hidden_units: int, output_shape: int):\n",
    "        super().__init__() \n",
    "        self.layer_stark = nn.Sequential(\n",
    "            nn.Flatten(), \n",
    "            nn.Linear(\n",
    "                in_features = input_shape, \n",
    "                out_features = hidden_units\n",
    "            ),\n",
    "            nn.ReLU(),\n",
    "            nn.Linear(\n",
    "                in_features = hidden_units, \n",
    "                out_features = output_shape\n",
    "            ),\n",
    "            nn.ReLU(),\n",
    "        )\n",
    "\n",
    "    def forward(self, x: torch.Tensor):\n",
    "        return self.layer_stark(x)\n"
   ]
  },
  {
   "cell_type": "code",
   "execution_count": 34,
   "id": "e0939585",
   "metadata": {
    "execution": {
     "iopub.execute_input": "2025-09-03T09:06:06.806464Z",
     "iopub.status.busy": "2025-09-03T09:06:06.806168Z",
     "iopub.status.idle": "2025-09-03T09:06:06.811744Z",
     "shell.execute_reply": "2025-09-03T09:06:06.810987Z"
    },
    "papermill": {
     "duration": 0.021119,
     "end_time": "2025-09-03T09:06:06.812989",
     "exception": false,
     "start_time": "2025-09-03T09:06:06.791870",
     "status": "completed"
    },
    "tags": []
   },
   "outputs": [
    {
     "data": {
      "text/plain": [
       "device(type='cpu')"
      ]
     },
     "execution_count": 34,
     "metadata": {},
     "output_type": "execute_result"
    }
   ],
   "source": [
    "next(model_0.parameters()).device"
   ]
  },
  {
   "cell_type": "code",
   "execution_count": 35,
   "id": "c3e62335",
   "metadata": {
    "execution": {
     "iopub.execute_input": "2025-09-03T09:06:06.841218Z",
     "iopub.status.busy": "2025-09-03T09:06:06.840911Z",
     "iopub.status.idle": "2025-09-03T09:06:06.845923Z",
     "shell.execute_reply": "2025-09-03T09:06:06.844945Z"
    },
    "papermill": {
     "duration": 0.020779,
     "end_time": "2025-09-03T09:06:06.847400",
     "exception": false,
     "start_time": "2025-09-03T09:06:06.826621",
     "status": "completed"
    },
    "tags": []
   },
   "outputs": [
    {
     "data": {
      "text/plain": [
       "'cuda'"
      ]
     },
     "execution_count": 35,
     "metadata": {},
     "output_type": "execute_result"
    }
   ],
   "source": [
    "device"
   ]
  },
  {
   "cell_type": "code",
   "execution_count": 36,
   "id": "255cf318",
   "metadata": {
    "execution": {
     "iopub.execute_input": "2025-09-03T09:06:06.874895Z",
     "iopub.status.busy": "2025-09-03T09:06:06.874564Z",
     "iopub.status.idle": "2025-09-03T09:06:07.057147Z",
     "shell.execute_reply": "2025-09-03T09:06:07.056379Z"
    },
    "papermill": {
     "duration": 0.197654,
     "end_time": "2025-09-03T09:06:07.058529",
     "exception": false,
     "start_time": "2025-09-03T09:06:06.860875",
     "status": "completed"
    },
    "tags": []
   },
   "outputs": [
    {
     "data": {
      "text/plain": [
       "device(type='cuda', index=0)"
      ]
     },
     "execution_count": 36,
     "metadata": {},
     "output_type": "execute_result"
    }
   ],
   "source": [
    "model_1 = FashionMNISTModelV1(\n",
    "    input_shape = 28*28, # 784\n",
    "    hidden_units = 10, \n",
    "    output_shape = len(class_names)\n",
    ").to(device)\n",
    "\n",
    "next(model_1.parameters()).device"
   ]
  },
  {
   "cell_type": "markdown",
   "id": "06708f50",
   "metadata": {
    "papermill": {
     "duration": 0.012886,
     "end_time": "2025-09-03T09:06:07.085836",
     "exception": false,
     "start_time": "2025-09-03T09:06:07.072950",
     "status": "completed"
    },
    "tags": []
   },
   "source": [
    "### 6.1 Setup loss, optimizer and evaluation metrics"
   ]
  },
  {
   "cell_type": "code",
   "execution_count": 37,
   "id": "0b39217a",
   "metadata": {
    "execution": {
     "iopub.execute_input": "2025-09-03T09:06:07.113876Z",
     "iopub.status.busy": "2025-09-03T09:06:07.113161Z",
     "iopub.status.idle": "2025-09-03T09:06:07.117982Z",
     "shell.execute_reply": "2025-09-03T09:06:07.117132Z"
    },
    "papermill": {
     "duration": 0.020654,
     "end_time": "2025-09-03T09:06:07.119317",
     "exception": false,
     "start_time": "2025-09-03T09:06:07.098663",
     "status": "completed"
    },
    "tags": []
   },
   "outputs": [],
   "source": [
    "from helper_functions import accuracy_fn \n",
    "\n",
    "loss_fn = nn.CrossEntropyLoss()\n",
    "optimizer = torch.optim.SGD(\n",
    "    params=model_1.parameters(),\n",
    "    lr=0.1\n",
    ")"
   ]
  },
  {
   "cell_type": "markdown",
   "id": "40ec6de5",
   "metadata": {
    "papermill": {
     "duration": 0.013614,
     "end_time": "2025-09-03T09:06:07.146135",
     "exception": false,
     "start_time": "2025-09-03T09:06:07.132521",
     "status": "completed"
    },
    "tags": []
   },
   "source": [
    "### 6.2 Functionizing training and evaluation/teting loops\n",
    "1. training loop - `train_step()`\n",
    "2. test loop - `test_step()`"
   ]
  },
  {
   "cell_type": "code",
   "execution_count": 38,
   "id": "ebc45f3d",
   "metadata": {
    "execution": {
     "iopub.execute_input": "2025-09-03T09:06:07.173707Z",
     "iopub.status.busy": "2025-09-03T09:06:07.173014Z",
     "iopub.status.idle": "2025-09-03T09:06:07.179700Z",
     "shell.execute_reply": "2025-09-03T09:06:07.178920Z"
    },
    "papermill": {
     "duration": 0.022107,
     "end_time": "2025-09-03T09:06:07.181166",
     "exception": false,
     "start_time": "2025-09-03T09:06:07.159059",
     "status": "completed"
    },
    "tags": []
   },
   "outputs": [],
   "source": [
    "def train_step(\n",
    "    model: torch.nn.Module, \n",
    "    data_loader: torch.utils.data.DataLoader, \n",
    "    loss_fn: torch.nn.Module, \n",
    "    optimizer: torch.optim.Optimizer, \n",
    "    accuracy_fn, \n",
    "    device: torch.device = device \n",
    "):\n",
    "    \"\"\"\n",
    "    Performs a training with model trying to learn on data_loader \n",
    "    \"\"\"\n",
    "    train_loss, train_acc = 0,0 \n",
    "\n",
    "    # put model into training mode \n",
    "    model.train() \n",
    "\n",
    "    # add a loop to loop through the training batches \n",
    "    for batch, (X,y) in enumerate(data_loader):\n",
    "        # put data to target device \n",
    "        X,y = X.to(device), y.to(device)\n",
    "\n",
    "        # 1. forward pass \n",
    "        y_pred = model(X)\n",
    "\n",
    "        # 2. calculate loss and accuracy per batch and accumulate them into train_loss and train_acc\n",
    "        loss = loss_fn(y_pred, y)\n",
    "        train_loss += loss \n",
    "\n",
    "        train_acc += accuracy_fn(\n",
    "            y_true = y,\n",
    "            y_pred = y_pred.argmax(dim=1) # logits -> prediction labels \n",
    "        )\n",
    "\n",
    "        # 3. optimizer zero grad \n",
    "        optimizer.zero_grad() \n",
    "\n",
    "        # 4. backpropagation\n",
    "        loss.backward()\n",
    "\n",
    "        # 5. optimizer step (update the model's parameters once per batch)\n",
    "        optimizer.step()\n",
    "\n",
    "    # divite total train loss and accuracy by length of train dataloader \n",
    "    train_loss /= len(data_loader)\n",
    "    train_acc /= len(data_loader)\n",
    "    \n",
    "    print(f\"Train loss: {train_loss:.5f} | Train acc: {train_acc:.2f}%\")\n",
    "\n"
   ]
  },
  {
   "cell_type": "code",
   "execution_count": null,
   "id": "7d327942",
   "metadata": {
    "papermill": {
     "duration": 0.013349,
     "end_time": "2025-09-03T09:06:07.208058",
     "exception": false,
     "start_time": "2025-09-03T09:06:07.194709",
     "status": "completed"
    },
    "tags": []
   },
   "outputs": [],
   "source": []
  },
  {
   "cell_type": "code",
   "execution_count": null,
   "id": "c108ec0c",
   "metadata": {
    "papermill": {
     "duration": 0.012724,
     "end_time": "2025-09-03T09:06:07.234052",
     "exception": false,
     "start_time": "2025-09-03T09:06:07.221328",
     "status": "completed"
    },
    "tags": []
   },
   "outputs": [],
   "source": []
  },
  {
   "cell_type": "code",
   "execution_count": null,
   "id": "b16c2dfd",
   "metadata": {
    "papermill": {
     "duration": 0.012723,
     "end_time": "2025-09-03T09:06:07.259763",
     "exception": false,
     "start_time": "2025-09-03T09:06:07.247040",
     "status": "completed"
    },
    "tags": []
   },
   "outputs": [],
   "source": []
  }
 ],
 "metadata": {
  "kaggle": {
   "accelerator": "gpu",
   "dataSources": [],
   "dockerImageVersionId": 31089,
   "isGpuEnabled": true,
   "isInternetEnabled": true,
   "language": "python",
   "sourceType": "notebook"
  },
  "kernelspec": {
   "display_name": "Python 3",
   "language": "python",
   "name": "python3"
  },
  "language_info": {
   "codemirror_mode": {
    "name": "ipython",
    "version": 3
   },
   "file_extension": ".py",
   "mimetype": "text/x-python",
   "name": "python",
   "nbconvert_exporter": "python",
   "pygments_lexer": "ipython3",
   "version": "3.11.13"
  },
  "papermill": {
   "default_parameters": {},
   "duration": 55.431777,
   "end_time": "2025-09-03T09:06:10.112350",
   "environment_variables": {},
   "exception": null,
   "input_path": "__notebook__.ipynb",
   "output_path": "__notebook__.ipynb",
   "parameters": {},
   "start_time": "2025-09-03T09:05:14.680573",
   "version": "2.6.0"
  },
  "widgets": {
   "application/vnd.jupyter.widget-state+json": {
    "state": {
     "0dc8bccad86e4ab78979671d53c48147": {
      "model_module": "@jupyter-widgets/controls",
      "model_module_version": "2.0.0",
      "model_name": "FloatProgressModel",
      "state": {
       "_dom_classes": [],
       "_model_module": "@jupyter-widgets/controls",
       "_model_module_version": "2.0.0",
       "_model_name": "FloatProgressModel",
       "_view_count": null,
       "_view_module": "@jupyter-widgets/controls",
       "_view_module_version": "2.0.0",
       "_view_name": "ProgressView",
       "bar_style": "success",
       "description": "",
       "description_allow_html": false,
       "layout": "IPY_MODEL_c55886edc6a948fcb03b288ddda90cfd",
       "max": 3.0,
       "min": 0.0,
       "orientation": "horizontal",
       "style": "IPY_MODEL_333f182a7d3242099a0165d1a65cdfe8",
       "tabbable": null,
       "tooltip": null,
       "value": 3.0
      }
     },
     "2c802b2e8e3041eaafa0fc56b9cc7bda": {
      "model_module": "@jupyter-widgets/base",
      "model_module_version": "2.0.0",
      "model_name": "LayoutModel",
      "state": {
       "_model_module": "@jupyter-widgets/base",
       "_model_module_version": "2.0.0",
       "_model_name": "LayoutModel",
       "_view_count": null,
       "_view_module": "@jupyter-widgets/base",
       "_view_module_version": "2.0.0",
       "_view_name": "LayoutView",
       "align_content": null,
       "align_items": null,
       "align_self": null,
       "border_bottom": null,
       "border_left": null,
       "border_right": null,
       "border_top": null,
       "bottom": null,
       "display": null,
       "flex": null,
       "flex_flow": null,
       "grid_area": null,
       "grid_auto_columns": null,
       "grid_auto_flow": null,
       "grid_auto_rows": null,
       "grid_column": null,
       "grid_gap": null,
       "grid_row": null,
       "grid_template_areas": null,
       "grid_template_columns": null,
       "grid_template_rows": null,
       "height": null,
       "justify_content": null,
       "justify_items": null,
       "left": null,
       "margin": null,
       "max_height": null,
       "max_width": null,
       "min_height": null,
       "min_width": null,
       "object_fit": null,
       "object_position": null,
       "order": null,
       "overflow": null,
       "padding": null,
       "right": null,
       "top": null,
       "visibility": null,
       "width": null
      }
     },
     "333f182a7d3242099a0165d1a65cdfe8": {
      "model_module": "@jupyter-widgets/controls",
      "model_module_version": "2.0.0",
      "model_name": "ProgressStyleModel",
      "state": {
       "_model_module": "@jupyter-widgets/controls",
       "_model_module_version": "2.0.0",
       "_model_name": "ProgressStyleModel",
       "_view_count": null,
       "_view_module": "@jupyter-widgets/base",
       "_view_module_version": "2.0.0",
       "_view_name": "StyleView",
       "bar_color": null,
       "description_width": ""
      }
     },
     "4900332148f347478d0e6d6176d13cc4": {
      "model_module": "@jupyter-widgets/controls",
      "model_module_version": "2.0.0",
      "model_name": "HTMLStyleModel",
      "state": {
       "_model_module": "@jupyter-widgets/controls",
       "_model_module_version": "2.0.0",
       "_model_name": "HTMLStyleModel",
       "_view_count": null,
       "_view_module": "@jupyter-widgets/base",
       "_view_module_version": "2.0.0",
       "_view_name": "StyleView",
       "background": null,
       "description_width": "",
       "font_size": null,
       "text_color": null
      }
     },
     "4d7c23085d9b4ac2a51f1c2089af673f": {
      "model_module": "@jupyter-widgets/base",
      "model_module_version": "2.0.0",
      "model_name": "LayoutModel",
      "state": {
       "_model_module": "@jupyter-widgets/base",
       "_model_module_version": "2.0.0",
       "_model_name": "LayoutModel",
       "_view_count": null,
       "_view_module": "@jupyter-widgets/base",
       "_view_module_version": "2.0.0",
       "_view_name": "LayoutView",
       "align_content": null,
       "align_items": null,
       "align_self": null,
       "border_bottom": null,
       "border_left": null,
       "border_right": null,
       "border_top": null,
       "bottom": null,
       "display": null,
       "flex": null,
       "flex_flow": null,
       "grid_area": null,
       "grid_auto_columns": null,
       "grid_auto_flow": null,
       "grid_auto_rows": null,
       "grid_column": null,
       "grid_gap": null,
       "grid_row": null,
       "grid_template_areas": null,
       "grid_template_columns": null,
       "grid_template_rows": null,
       "height": null,
       "justify_content": null,
       "justify_items": null,
       "left": null,
       "margin": null,
       "max_height": null,
       "max_width": null,
       "min_height": null,
       "min_width": null,
       "object_fit": null,
       "object_position": null,
       "order": null,
       "overflow": null,
       "padding": null,
       "right": null,
       "top": null,
       "visibility": null,
       "width": null
      }
     },
     "60f5c4a972b242ca8769d0263ccd58c0": {
      "model_module": "@jupyter-widgets/controls",
      "model_module_version": "2.0.0",
      "model_name": "HBoxModel",
      "state": {
       "_dom_classes": [],
       "_model_module": "@jupyter-widgets/controls",
       "_model_module_version": "2.0.0",
       "_model_name": "HBoxModel",
       "_view_count": null,
       "_view_module": "@jupyter-widgets/controls",
       "_view_module_version": "2.0.0",
       "_view_name": "HBoxView",
       "box_style": "",
       "children": [
        "IPY_MODEL_97c6d9b668e8484cabb8e306824db8ce",
        "IPY_MODEL_0dc8bccad86e4ab78979671d53c48147",
        "IPY_MODEL_bc56a26e9c1b4e1aad572044c92095eb"
       ],
       "layout": "IPY_MODEL_2c802b2e8e3041eaafa0fc56b9cc7bda",
       "tabbable": null,
       "tooltip": null
      }
     },
     "97c6d9b668e8484cabb8e306824db8ce": {
      "model_module": "@jupyter-widgets/controls",
      "model_module_version": "2.0.0",
      "model_name": "HTMLModel",
      "state": {
       "_dom_classes": [],
       "_model_module": "@jupyter-widgets/controls",
       "_model_module_version": "2.0.0",
       "_model_name": "HTMLModel",
       "_view_count": null,
       "_view_module": "@jupyter-widgets/controls",
       "_view_module_version": "2.0.0",
       "_view_name": "HTMLView",
       "description": "",
       "description_allow_html": false,
       "layout": "IPY_MODEL_b1887b434fb242dda9762d94c77ebdba",
       "placeholder": "​",
       "style": "IPY_MODEL_d7596822743d4a4f9aead4f6ddb3405b",
       "tabbable": null,
       "tooltip": null,
       "value": "100%"
      }
     },
     "b1887b434fb242dda9762d94c77ebdba": {
      "model_module": "@jupyter-widgets/base",
      "model_module_version": "2.0.0",
      "model_name": "LayoutModel",
      "state": {
       "_model_module": "@jupyter-widgets/base",
       "_model_module_version": "2.0.0",
       "_model_name": "LayoutModel",
       "_view_count": null,
       "_view_module": "@jupyter-widgets/base",
       "_view_module_version": "2.0.0",
       "_view_name": "LayoutView",
       "align_content": null,
       "align_items": null,
       "align_self": null,
       "border_bottom": null,
       "border_left": null,
       "border_right": null,
       "border_top": null,
       "bottom": null,
       "display": null,
       "flex": null,
       "flex_flow": null,
       "grid_area": null,
       "grid_auto_columns": null,
       "grid_auto_flow": null,
       "grid_auto_rows": null,
       "grid_column": null,
       "grid_gap": null,
       "grid_row": null,
       "grid_template_areas": null,
       "grid_template_columns": null,
       "grid_template_rows": null,
       "height": null,
       "justify_content": null,
       "justify_items": null,
       "left": null,
       "margin": null,
       "max_height": null,
       "max_width": null,
       "min_height": null,
       "min_width": null,
       "object_fit": null,
       "object_position": null,
       "order": null,
       "overflow": null,
       "padding": null,
       "right": null,
       "top": null,
       "visibility": null,
       "width": null
      }
     },
     "bc56a26e9c1b4e1aad572044c92095eb": {
      "model_module": "@jupyter-widgets/controls",
      "model_module_version": "2.0.0",
      "model_name": "HTMLModel",
      "state": {
       "_dom_classes": [],
       "_model_module": "@jupyter-widgets/controls",
       "_model_module_version": "2.0.0",
       "_model_name": "HTMLModel",
       "_view_count": null,
       "_view_module": "@jupyter-widgets/controls",
       "_view_module_version": "2.0.0",
       "_view_name": "HTMLView",
       "description": "",
       "description_allow_html": false,
       "layout": "IPY_MODEL_4d7c23085d9b4ac2a51f1c2089af673f",
       "placeholder": "​",
       "style": "IPY_MODEL_4900332148f347478d0e6d6176d13cc4",
       "tabbable": null,
       "tooltip": null,
       "value": " 3/3 [00:27&lt;00:00,  9.00s/it]"
      }
     },
     "c55886edc6a948fcb03b288ddda90cfd": {
      "model_module": "@jupyter-widgets/base",
      "model_module_version": "2.0.0",
      "model_name": "LayoutModel",
      "state": {
       "_model_module": "@jupyter-widgets/base",
       "_model_module_version": "2.0.0",
       "_model_name": "LayoutModel",
       "_view_count": null,
       "_view_module": "@jupyter-widgets/base",
       "_view_module_version": "2.0.0",
       "_view_name": "LayoutView",
       "align_content": null,
       "align_items": null,
       "align_self": null,
       "border_bottom": null,
       "border_left": null,
       "border_right": null,
       "border_top": null,
       "bottom": null,
       "display": null,
       "flex": null,
       "flex_flow": null,
       "grid_area": null,
       "grid_auto_columns": null,
       "grid_auto_flow": null,
       "grid_auto_rows": null,
       "grid_column": null,
       "grid_gap": null,
       "grid_row": null,
       "grid_template_areas": null,
       "grid_template_columns": null,
       "grid_template_rows": null,
       "height": null,
       "justify_content": null,
       "justify_items": null,
       "left": null,
       "margin": null,
       "max_height": null,
       "max_width": null,
       "min_height": null,
       "min_width": null,
       "object_fit": null,
       "object_position": null,
       "order": null,
       "overflow": null,
       "padding": null,
       "right": null,
       "top": null,
       "visibility": null,
       "width": null
      }
     },
     "d7596822743d4a4f9aead4f6ddb3405b": {
      "model_module": "@jupyter-widgets/controls",
      "model_module_version": "2.0.0",
      "model_name": "HTMLStyleModel",
      "state": {
       "_model_module": "@jupyter-widgets/controls",
       "_model_module_version": "2.0.0",
       "_model_name": "HTMLStyleModel",
       "_view_count": null,
       "_view_module": "@jupyter-widgets/base",
       "_view_module_version": "2.0.0",
       "_view_name": "StyleView",
       "background": null,
       "description_width": "",
       "font_size": null,
       "text_color": null
      }
     }
    },
    "version_major": 2,
    "version_minor": 0
   }
  }
 },
 "nbformat": 4,
 "nbformat_minor": 5
}
