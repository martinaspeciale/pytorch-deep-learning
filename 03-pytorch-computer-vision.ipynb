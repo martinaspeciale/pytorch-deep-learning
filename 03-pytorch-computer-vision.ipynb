{
 "cells": [
  {
   "cell_type": "markdown",
   "id": "3b3d0756",
   "metadata": {
    "papermill": {
     "duration": 0.004014,
     "end_time": "2025-09-02T08:59:03.724190",
     "exception": false,
     "start_time": "2025-09-02T08:59:03.720176",
     "status": "completed"
    },
    "tags": []
   },
   "source": [
    "# **PyTorch Computer Vision**"
   ]
  },
  {
   "cell_type": "markdown",
   "id": "3eab1c1b",
   "metadata": {
    "papermill": {
     "duration": 0.003059,
     "end_time": "2025-09-02T08:59:03.730805",
     "exception": false,
     "start_time": "2025-09-02T08:59:03.727746",
     "status": "completed"
    },
    "tags": []
   },
   "source": [
    "## 0. Computer Vision libraries in Python \n",
    "* `torchvision` : base domain library for PyTorch CV \n",
    "* `torchvision.datasets` : get datasets and data loading functions for CV \n",
    "* `torchvision.models` : get pretrained CV models we can leverage for new problems \n",
    "* `torchvision.transform` : functions for manipulating your vision data (images) to be suitable for use with an ML model\n",
    "* `torch.utils.data.Dataset` : base dataset class for PyTorch \n",
    "* `torch.utils.data.DataLoader` : creates a python iterable over a dataset "
   ]
  },
  {
   "cell_type": "code",
   "execution_count": null,
   "id": "997315d2",
   "metadata": {
    "papermill": {
     "duration": 0.003101,
     "end_time": "2025-09-02T08:59:03.737175",
     "exception": false,
     "start_time": "2025-09-02T08:59:03.734074",
     "status": "completed"
    },
    "tags": []
   },
   "outputs": [],
   "source": []
  },
  {
   "cell_type": "code",
   "execution_count": null,
   "id": "5f5bf55f",
   "metadata": {
    "papermill": {
     "duration": 0.00359,
     "end_time": "2025-09-02T08:59:03.743962",
     "exception": false,
     "start_time": "2025-09-02T08:59:03.740372",
     "status": "completed"
    },
    "tags": []
   },
   "outputs": [],
   "source": []
  },
  {
   "cell_type": "code",
   "execution_count": null,
   "id": "7bf980b9",
   "metadata": {
    "papermill": {
     "duration": 0.002986,
     "end_time": "2025-09-02T08:59:03.750322",
     "exception": false,
     "start_time": "2025-09-02T08:59:03.747336",
     "status": "completed"
    },
    "tags": []
   },
   "outputs": [],
   "source": []
  },
  {
   "cell_type": "code",
   "execution_count": null,
   "id": "003e2a4c",
   "metadata": {
    "papermill": {
     "duration": 0.002864,
     "end_time": "2025-09-02T08:59:03.756355",
     "exception": false,
     "start_time": "2025-09-02T08:59:03.753491",
     "status": "completed"
    },
    "tags": []
   },
   "outputs": [],
   "source": []
  },
  {
   "cell_type": "code",
   "execution_count": null,
   "id": "8ab5e6ce",
   "metadata": {
    "papermill": {
     "duration": 0.003231,
     "end_time": "2025-09-02T08:59:03.763103",
     "exception": false,
     "start_time": "2025-09-02T08:59:03.759872",
     "status": "completed"
    },
    "tags": []
   },
   "outputs": [],
   "source": []
  },
  {
   "cell_type": "code",
   "execution_count": null,
   "id": "3d86189d",
   "metadata": {
    "papermill": {
     "duration": 0.002841,
     "end_time": "2025-09-02T08:59:03.769174",
     "exception": false,
     "start_time": "2025-09-02T08:59:03.766333",
     "status": "completed"
    },
    "tags": []
   },
   "outputs": [],
   "source": []
  },
  {
   "cell_type": "code",
   "execution_count": null,
   "id": "0c8b0d44",
   "metadata": {
    "papermill": {
     "duration": 0.003142,
     "end_time": "2025-09-02T08:59:03.776137",
     "exception": false,
     "start_time": "2025-09-02T08:59:03.772995",
     "status": "completed"
    },
    "tags": []
   },
   "outputs": [],
   "source": []
  },
  {
   "cell_type": "code",
   "execution_count": null,
   "id": "9374957d",
   "metadata": {
    "papermill": {
     "duration": 0.002814,
     "end_time": "2025-09-02T08:59:03.782116",
     "exception": false,
     "start_time": "2025-09-02T08:59:03.779302",
     "status": "completed"
    },
    "tags": []
   },
   "outputs": [],
   "source": []
  },
  {
   "cell_type": "code",
   "execution_count": null,
   "id": "7776ad80",
   "metadata": {
    "papermill": {
     "duration": 0.004128,
     "end_time": "2025-09-02T08:59:03.790015",
     "exception": false,
     "start_time": "2025-09-02T08:59:03.785887",
     "status": "completed"
    },
    "tags": []
   },
   "outputs": [],
   "source": []
  },
  {
   "cell_type": "code",
   "execution_count": null,
   "id": "154dda7d",
   "metadata": {
    "papermill": {
     "duration": 0.004649,
     "end_time": "2025-09-02T08:59:03.798270",
     "exception": false,
     "start_time": "2025-09-02T08:59:03.793621",
     "status": "completed"
    },
    "tags": []
   },
   "outputs": [],
   "source": []
  },
  {
   "cell_type": "code",
   "execution_count": null,
   "id": "24e4063e",
   "metadata": {
    "papermill": {
     "duration": 0.003074,
     "end_time": "2025-09-02T08:59:03.804736",
     "exception": false,
     "start_time": "2025-09-02T08:59:03.801662",
     "status": "completed"
    },
    "tags": []
   },
   "outputs": [],
   "source": []
  },
  {
   "cell_type": "code",
   "execution_count": null,
   "id": "59d22dd9",
   "metadata": {
    "papermill": {
     "duration": 0.002985,
     "end_time": "2025-09-02T08:59:03.810924",
     "exception": false,
     "start_time": "2025-09-02T08:59:03.807939",
     "status": "completed"
    },
    "tags": []
   },
   "outputs": [],
   "source": []
  },
  {
   "cell_type": "code",
   "execution_count": null,
   "id": "5c106d2b",
   "metadata": {
    "papermill": {
     "duration": 0.002885,
     "end_time": "2025-09-02T08:59:03.817094",
     "exception": false,
     "start_time": "2025-09-02T08:59:03.814209",
     "status": "completed"
    },
    "tags": []
   },
   "outputs": [],
   "source": []
  },
  {
   "cell_type": "code",
   "execution_count": null,
   "id": "13dec88e",
   "metadata": {
    "papermill": {
     "duration": 0.00396,
     "end_time": "2025-09-02T08:59:03.824347",
     "exception": false,
     "start_time": "2025-09-02T08:59:03.820387",
     "status": "completed"
    },
    "tags": []
   },
   "outputs": [],
   "source": []
  },
  {
   "cell_type": "code",
   "execution_count": null,
   "id": "5a2e6de1",
   "metadata": {
    "papermill": {
     "duration": 0.002922,
     "end_time": "2025-09-02T08:59:03.830575",
     "exception": false,
     "start_time": "2025-09-02T08:59:03.827653",
     "status": "completed"
    },
    "tags": []
   },
   "outputs": [],
   "source": []
  },
  {
   "cell_type": "code",
   "execution_count": null,
   "id": "16bf3587",
   "metadata": {
    "papermill": {
     "duration": 0.003253,
     "end_time": "2025-09-02T08:59:03.836975",
     "exception": false,
     "start_time": "2025-09-02T08:59:03.833722",
     "status": "completed"
    },
    "tags": []
   },
   "outputs": [],
   "source": []
  },
  {
   "cell_type": "code",
   "execution_count": null,
   "id": "8b7bc25a",
   "metadata": {
    "papermill": {
     "duration": 0.00388,
     "end_time": "2025-09-02T08:59:03.844579",
     "exception": false,
     "start_time": "2025-09-02T08:59:03.840699",
     "status": "completed"
    },
    "tags": []
   },
   "outputs": [],
   "source": []
  },
  {
   "cell_type": "code",
   "execution_count": null,
   "id": "1c776ec3",
   "metadata": {
    "papermill": {
     "duration": 0.002941,
     "end_time": "2025-09-02T08:59:03.850948",
     "exception": false,
     "start_time": "2025-09-02T08:59:03.848007",
     "status": "completed"
    },
    "tags": []
   },
   "outputs": [],
   "source": []
  }
 ],
 "metadata": {
  "kaggle": {
   "accelerator": "none",
   "dataSources": [],
   "dockerImageVersionId": 31089,
   "isGpuEnabled": false,
   "isInternetEnabled": true,
   "language": "python",
   "sourceType": "notebook"
  },
  "kernelspec": {
   "display_name": "Python 3",
   "language": "python",
   "name": "python3"
  },
  "language_info": {
   "codemirror_mode": {
    "name": "ipython",
    "version": 3
   },
   "file_extension": ".py",
   "mimetype": "text/x-python",
   "name": "python",
   "nbconvert_exporter": "python",
   "pygments_lexer": "ipython3",
   "version": "3.11.13"
  },
  "papermill": {
   "default_parameters": {},
   "duration": 7.571929,
   "end_time": "2025-09-02T08:59:04.276272",
   "environment_variables": {},
   "exception": null,
   "input_path": "__notebook__.ipynb",
   "output_path": "__notebook__.ipynb",
   "parameters": {},
   "start_time": "2025-09-02T08:58:56.704343",
   "version": "2.6.0"
  }
 },
 "nbformat": 4,
 "nbformat_minor": 5
}
