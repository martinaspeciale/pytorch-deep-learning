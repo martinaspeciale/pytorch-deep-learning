{
 "cells": [
  {
   "cell_type": "markdown",
   "id": "1862eff9",
   "metadata": {
    "papermill": {
     "duration": 0.005412,
     "end_time": "2025-09-02T09:47:54.721445",
     "exception": false,
     "start_time": "2025-09-02T09:47:54.716033",
     "status": "completed"
    },
    "tags": []
   },
   "source": [
    "# **PyTorch Computer Vision**"
   ]
  },
  {
   "cell_type": "markdown",
   "id": "74a90b77",
   "metadata": {
    "papermill": {
     "duration": 0.004262,
     "end_time": "2025-09-02T09:47:54.730486",
     "exception": false,
     "start_time": "2025-09-02T09:47:54.726224",
     "status": "completed"
    },
    "tags": []
   },
   "source": [
    "## 0. Computer Vision libraries in Python \n",
    "* `torchvision` : base domain library for PyTorch CV \n",
    "* `torchvision.datasets` : get datasets and data loading functions for CV \n",
    "* `torchvision.models` : get pretrained CV models we can leverage for new problems \n",
    "* `torchvision.transform` : functions for manipulating your vision data (images) to be suitable for use with an ML model\n",
    "* `torch.utils.data.Dataset` : base dataset class for PyTorch \n",
    "* `torch.utils.data.DataLoader` : creates a python iterable over a dataset "
   ]
  },
  {
   "cell_type": "code",
   "execution_count": 1,
   "id": "913b3708",
   "metadata": {
    "execution": {
     "iopub.execute_input": "2025-09-02T09:47:54.740752Z",
     "iopub.status.busy": "2025-09-02T09:47:54.740449Z",
     "iopub.status.idle": "2025-09-02T09:48:06.306205Z",
     "shell.execute_reply": "2025-09-02T09:48:06.305229Z"
    },
    "papermill": {
     "duration": 11.572793,
     "end_time": "2025-09-02T09:48:06.307772",
     "exception": false,
     "start_time": "2025-09-02T09:47:54.734979",
     "status": "completed"
    },
    "tags": []
   },
   "outputs": [
    {
     "name": "stdout",
     "output_type": "stream",
     "text": [
      "2.6.0+cu124\n",
      "0.21.0+cu124\n"
     ]
    }
   ],
   "source": [
    "import torch \n",
    "from torch import nn \n",
    "\n",
    "import torchvision \n",
    "from torchvision import datasets \n",
    "from torchvision import transforms \n",
    "from torchvision.transforms import ToTensor \n",
    "\n",
    "import matplotlib.pyplot as plt \n",
    "\n",
    "print(torch.__version__)\n",
    "print(torchvision.__version__)"
   ]
  },
  {
   "cell_type": "markdown",
   "id": "82daf920",
   "metadata": {
    "papermill": {
     "duration": 0.004463,
     "end_time": "2025-09-02T09:48:06.317036",
     "exception": false,
     "start_time": "2025-09-02T09:48:06.312573",
     "status": "completed"
    },
    "tags": []
   },
   "source": [
    "## 1. Getting a dataset : Fashion MNIST  "
   ]
  },
  {
   "cell_type": "code",
   "execution_count": 2,
   "id": "b23d9b74",
   "metadata": {
    "execution": {
     "iopub.execute_input": "2025-09-02T09:48:06.327694Z",
     "iopub.status.busy": "2025-09-02T09:48:06.327206Z",
     "iopub.status.idle": "2025-09-02T09:48:07.759292Z",
     "shell.execute_reply": "2025-09-02T09:48:07.758463Z"
    },
    "papermill": {
     "duration": 1.439334,
     "end_time": "2025-09-02T09:48:07.760981",
     "exception": false,
     "start_time": "2025-09-02T09:48:06.321647",
     "status": "completed"
    },
    "tags": []
   },
   "outputs": [
    {
     "name": "stderr",
     "output_type": "stream",
     "text": [
      "100%|██████████| 26.4M/26.4M [00:00<00:00, 115MB/s]\n",
      "100%|██████████| 29.5k/29.5k [00:00<00:00, 3.77MB/s]\n",
      "100%|██████████| 4.42M/4.42M [00:00<00:00, 62.6MB/s]\n",
      "100%|██████████| 5.15k/5.15k [00:00<00:00, 11.4MB/s]\n"
     ]
    }
   ],
   "source": [
    "# setup training data \n",
    "from torchvision import datasets \n",
    "train_data = datasets.FashionMNIST(\n",
    "    root=\"data\", # where to download data to\n",
    "    train=True,  # do we want the training dataset?\n",
    "    download=True, # do we want to download it?\n",
    "    transform=torchvision.transforms.ToTensor(), # how do we want to transform the data\n",
    "    target_transform=None # how do we want to transform the label \n",
    ")\n",
    "\n",
    "test_data = datasets.FashionMNIST(\n",
    "    root=\"data\", \n",
    "    train=False, \n",
    "    download=True,\n",
    "    transform=torchvision.transforms.ToTensor(),\n",
    "    target_transform=None\n",
    ")"
   ]
  },
  {
   "cell_type": "code",
   "execution_count": 3,
   "id": "625d8f17",
   "metadata": {
    "execution": {
     "iopub.execute_input": "2025-09-02T09:48:07.772945Z",
     "iopub.status.busy": "2025-09-02T09:48:07.772656Z",
     "iopub.status.idle": "2025-09-02T09:48:07.779840Z",
     "shell.execute_reply": "2025-09-02T09:48:07.778964Z"
    },
    "papermill": {
     "duration": 0.014709,
     "end_time": "2025-09-02T09:48:07.781283",
     "exception": false,
     "start_time": "2025-09-02T09:48:07.766574",
     "status": "completed"
    },
    "tags": []
   },
   "outputs": [
    {
     "data": {
      "text/plain": [
       "(60000, 10000)"
      ]
     },
     "execution_count": 3,
     "metadata": {},
     "output_type": "execute_result"
    }
   ],
   "source": [
    "len(train_data), len(test_data)"
   ]
  },
  {
   "cell_type": "code",
   "execution_count": 4,
   "id": "bb6728e2",
   "metadata": {
    "execution": {
     "iopub.execute_input": "2025-09-02T09:48:07.793946Z",
     "iopub.status.busy": "2025-09-02T09:48:07.793095Z",
     "iopub.status.idle": "2025-09-02T09:48:07.827680Z",
     "shell.execute_reply": "2025-09-02T09:48:07.826420Z"
    },
    "papermill": {
     "duration": 0.042724,
     "end_time": "2025-09-02T09:48:07.829490",
     "exception": false,
     "start_time": "2025-09-02T09:48:07.786766",
     "status": "completed"
    },
    "tags": []
   },
   "outputs": [
    {
     "data": {
      "text/plain": [
       "(tensor([[[0.0000, 0.0000, 0.0000, 0.0000, 0.0000, 0.0000, 0.0000, 0.0000,\n",
       "           0.0000, 0.0000, 0.0000, 0.0000, 0.0000, 0.0000, 0.0000, 0.0000,\n",
       "           0.0000, 0.0000, 0.0000, 0.0000, 0.0000, 0.0000, 0.0000, 0.0000,\n",
       "           0.0000, 0.0000, 0.0000, 0.0000],\n",
       "          [0.0000, 0.0000, 0.0000, 0.0000, 0.0000, 0.0000, 0.0000, 0.0000,\n",
       "           0.0000, 0.0000, 0.0000, 0.0000, 0.0000, 0.0000, 0.0000, 0.0000,\n",
       "           0.0000, 0.0000, 0.0000, 0.0000, 0.0000, 0.0000, 0.0000, 0.0000,\n",
       "           0.0000, 0.0000, 0.0000, 0.0000],\n",
       "          [0.0000, 0.0000, 0.0000, 0.0000, 0.0000, 0.0000, 0.0000, 0.0000,\n",
       "           0.0000, 0.0000, 0.0000, 0.0000, 0.0000, 0.0000, 0.0000, 0.0000,\n",
       "           0.0000, 0.0000, 0.0000, 0.0000, 0.0000, 0.0000, 0.0000, 0.0000,\n",
       "           0.0000, 0.0000, 0.0000, 0.0000],\n",
       "          [0.0000, 0.0000, 0.0000, 0.0000, 0.0000, 0.0000, 0.0000, 0.0000,\n",
       "           0.0000, 0.0000, 0.0000, 0.0000, 0.0039, 0.0000, 0.0000, 0.0510,\n",
       "           0.2863, 0.0000, 0.0000, 0.0039, 0.0157, 0.0000, 0.0000, 0.0000,\n",
       "           0.0000, 0.0039, 0.0039, 0.0000],\n",
       "          [0.0000, 0.0000, 0.0000, 0.0000, 0.0000, 0.0000, 0.0000, 0.0000,\n",
       "           0.0000, 0.0000, 0.0000, 0.0000, 0.0118, 0.0000, 0.1412, 0.5333,\n",
       "           0.4980, 0.2431, 0.2118, 0.0000, 0.0000, 0.0000, 0.0039, 0.0118,\n",
       "           0.0157, 0.0000, 0.0000, 0.0118],\n",
       "          [0.0000, 0.0000, 0.0000, 0.0000, 0.0000, 0.0000, 0.0000, 0.0000,\n",
       "           0.0000, 0.0000, 0.0000, 0.0000, 0.0235, 0.0000, 0.4000, 0.8000,\n",
       "           0.6902, 0.5255, 0.5647, 0.4824, 0.0902, 0.0000, 0.0000, 0.0000,\n",
       "           0.0000, 0.0471, 0.0392, 0.0000],\n",
       "          [0.0000, 0.0000, 0.0000, 0.0000, 0.0000, 0.0000, 0.0000, 0.0000,\n",
       "           0.0000, 0.0000, 0.0000, 0.0000, 0.0000, 0.0000, 0.6078, 0.9255,\n",
       "           0.8118, 0.6980, 0.4196, 0.6118, 0.6314, 0.4275, 0.2510, 0.0902,\n",
       "           0.3020, 0.5098, 0.2824, 0.0588],\n",
       "          [0.0000, 0.0000, 0.0000, 0.0000, 0.0000, 0.0000, 0.0000, 0.0000,\n",
       "           0.0000, 0.0000, 0.0000, 0.0039, 0.0000, 0.2706, 0.8118, 0.8745,\n",
       "           0.8549, 0.8471, 0.8471, 0.6392, 0.4980, 0.4745, 0.4784, 0.5725,\n",
       "           0.5529, 0.3451, 0.6745, 0.2588],\n",
       "          [0.0000, 0.0000, 0.0000, 0.0000, 0.0000, 0.0000, 0.0000, 0.0000,\n",
       "           0.0000, 0.0039, 0.0039, 0.0039, 0.0000, 0.7843, 0.9098, 0.9098,\n",
       "           0.9137, 0.8980, 0.8745, 0.8745, 0.8431, 0.8353, 0.6431, 0.4980,\n",
       "           0.4824, 0.7686, 0.8980, 0.0000],\n",
       "          [0.0000, 0.0000, 0.0000, 0.0000, 0.0000, 0.0000, 0.0000, 0.0000,\n",
       "           0.0000, 0.0000, 0.0000, 0.0000, 0.0000, 0.7176, 0.8824, 0.8471,\n",
       "           0.8745, 0.8941, 0.9216, 0.8902, 0.8784, 0.8706, 0.8784, 0.8667,\n",
       "           0.8745, 0.9608, 0.6784, 0.0000],\n",
       "          [0.0000, 0.0000, 0.0000, 0.0000, 0.0000, 0.0000, 0.0000, 0.0000,\n",
       "           0.0000, 0.0000, 0.0000, 0.0000, 0.0000, 0.7569, 0.8941, 0.8549,\n",
       "           0.8353, 0.7765, 0.7059, 0.8314, 0.8235, 0.8275, 0.8353, 0.8745,\n",
       "           0.8627, 0.9529, 0.7922, 0.0000],\n",
       "          [0.0000, 0.0000, 0.0000, 0.0000, 0.0000, 0.0000, 0.0000, 0.0000,\n",
       "           0.0000, 0.0039, 0.0118, 0.0000, 0.0471, 0.8588, 0.8627, 0.8314,\n",
       "           0.8549, 0.7529, 0.6627, 0.8902, 0.8157, 0.8549, 0.8784, 0.8314,\n",
       "           0.8863, 0.7725, 0.8196, 0.2039],\n",
       "          [0.0000, 0.0000, 0.0000, 0.0000, 0.0000, 0.0000, 0.0000, 0.0000,\n",
       "           0.0000, 0.0000, 0.0235, 0.0000, 0.3882, 0.9569, 0.8706, 0.8627,\n",
       "           0.8549, 0.7961, 0.7765, 0.8667, 0.8431, 0.8353, 0.8706, 0.8627,\n",
       "           0.9608, 0.4667, 0.6549, 0.2196],\n",
       "          [0.0000, 0.0000, 0.0000, 0.0000, 0.0000, 0.0000, 0.0000, 0.0000,\n",
       "           0.0000, 0.0157, 0.0000, 0.0000, 0.2157, 0.9255, 0.8941, 0.9020,\n",
       "           0.8941, 0.9412, 0.9098, 0.8353, 0.8549, 0.8745, 0.9176, 0.8510,\n",
       "           0.8510, 0.8196, 0.3608, 0.0000],\n",
       "          [0.0000, 0.0000, 0.0039, 0.0157, 0.0235, 0.0275, 0.0078, 0.0000,\n",
       "           0.0000, 0.0000, 0.0000, 0.0000, 0.9294, 0.8863, 0.8510, 0.8745,\n",
       "           0.8706, 0.8588, 0.8706, 0.8667, 0.8471, 0.8745, 0.8980, 0.8431,\n",
       "           0.8549, 1.0000, 0.3020, 0.0000],\n",
       "          [0.0000, 0.0118, 0.0000, 0.0000, 0.0000, 0.0000, 0.0000, 0.0000,\n",
       "           0.0000, 0.2431, 0.5686, 0.8000, 0.8941, 0.8118, 0.8353, 0.8667,\n",
       "           0.8549, 0.8157, 0.8275, 0.8549, 0.8784, 0.8745, 0.8588, 0.8431,\n",
       "           0.8784, 0.9569, 0.6235, 0.0000],\n",
       "          [0.0000, 0.0000, 0.0000, 0.0000, 0.0706, 0.1725, 0.3216, 0.4196,\n",
       "           0.7412, 0.8941, 0.8627, 0.8706, 0.8510, 0.8863, 0.7843, 0.8039,\n",
       "           0.8275, 0.9020, 0.8784, 0.9176, 0.6902, 0.7373, 0.9804, 0.9725,\n",
       "           0.9137, 0.9333, 0.8431, 0.0000],\n",
       "          [0.0000, 0.2235, 0.7333, 0.8157, 0.8784, 0.8667, 0.8784, 0.8157,\n",
       "           0.8000, 0.8392, 0.8157, 0.8196, 0.7843, 0.6235, 0.9608, 0.7569,\n",
       "           0.8078, 0.8745, 1.0000, 1.0000, 0.8667, 0.9176, 0.8667, 0.8275,\n",
       "           0.8627, 0.9098, 0.9647, 0.0000],\n",
       "          [0.0118, 0.7922, 0.8941, 0.8784, 0.8667, 0.8275, 0.8275, 0.8392,\n",
       "           0.8039, 0.8039, 0.8039, 0.8627, 0.9412, 0.3137, 0.5882, 1.0000,\n",
       "           0.8980, 0.8667, 0.7373, 0.6039, 0.7490, 0.8235, 0.8000, 0.8196,\n",
       "           0.8706, 0.8941, 0.8824, 0.0000],\n",
       "          [0.3843, 0.9137, 0.7765, 0.8235, 0.8706, 0.8980, 0.8980, 0.9176,\n",
       "           0.9765, 0.8627, 0.7608, 0.8431, 0.8510, 0.9451, 0.2549, 0.2863,\n",
       "           0.4157, 0.4588, 0.6588, 0.8588, 0.8667, 0.8431, 0.8510, 0.8745,\n",
       "           0.8745, 0.8784, 0.8980, 0.1137],\n",
       "          [0.2941, 0.8000, 0.8314, 0.8000, 0.7569, 0.8039, 0.8275, 0.8824,\n",
       "           0.8471, 0.7255, 0.7725, 0.8078, 0.7765, 0.8353, 0.9412, 0.7647,\n",
       "           0.8902, 0.9608, 0.9373, 0.8745, 0.8549, 0.8314, 0.8196, 0.8706,\n",
       "           0.8627, 0.8667, 0.9020, 0.2627],\n",
       "          [0.1882, 0.7961, 0.7176, 0.7608, 0.8353, 0.7725, 0.7255, 0.7451,\n",
       "           0.7608, 0.7529, 0.7922, 0.8392, 0.8588, 0.8667, 0.8627, 0.9255,\n",
       "           0.8824, 0.8471, 0.7804, 0.8078, 0.7294, 0.7098, 0.6941, 0.6745,\n",
       "           0.7098, 0.8039, 0.8078, 0.4510],\n",
       "          [0.0000, 0.4784, 0.8588, 0.7569, 0.7020, 0.6706, 0.7176, 0.7686,\n",
       "           0.8000, 0.8235, 0.8353, 0.8118, 0.8275, 0.8235, 0.7843, 0.7686,\n",
       "           0.7608, 0.7490, 0.7647, 0.7490, 0.7765, 0.7529, 0.6902, 0.6118,\n",
       "           0.6549, 0.6941, 0.8235, 0.3608],\n",
       "          [0.0000, 0.0000, 0.2902, 0.7412, 0.8314, 0.7490, 0.6863, 0.6745,\n",
       "           0.6863, 0.7098, 0.7255, 0.7373, 0.7412, 0.7373, 0.7569, 0.7765,\n",
       "           0.8000, 0.8196, 0.8235, 0.8235, 0.8275, 0.7373, 0.7373, 0.7608,\n",
       "           0.7529, 0.8471, 0.6667, 0.0000],\n",
       "          [0.0078, 0.0000, 0.0000, 0.0000, 0.2588, 0.7843, 0.8706, 0.9294,\n",
       "           0.9373, 0.9490, 0.9647, 0.9529, 0.9569, 0.8667, 0.8627, 0.7569,\n",
       "           0.7490, 0.7020, 0.7137, 0.7137, 0.7098, 0.6902, 0.6510, 0.6588,\n",
       "           0.3882, 0.2275, 0.0000, 0.0000],\n",
       "          [0.0000, 0.0000, 0.0000, 0.0000, 0.0000, 0.0000, 0.0000, 0.1569,\n",
       "           0.2392, 0.1725, 0.2824, 0.1608, 0.1373, 0.0000, 0.0000, 0.0000,\n",
       "           0.0000, 0.0000, 0.0000, 0.0000, 0.0000, 0.0000, 0.0000, 0.0000,\n",
       "           0.0000, 0.0000, 0.0000, 0.0000],\n",
       "          [0.0000, 0.0000, 0.0000, 0.0000, 0.0000, 0.0000, 0.0000, 0.0000,\n",
       "           0.0000, 0.0000, 0.0000, 0.0000, 0.0000, 0.0000, 0.0000, 0.0000,\n",
       "           0.0000, 0.0000, 0.0000, 0.0000, 0.0000, 0.0000, 0.0000, 0.0000,\n",
       "           0.0000, 0.0000, 0.0000, 0.0000],\n",
       "          [0.0000, 0.0000, 0.0000, 0.0000, 0.0000, 0.0000, 0.0000, 0.0000,\n",
       "           0.0000, 0.0000, 0.0000, 0.0000, 0.0000, 0.0000, 0.0000, 0.0000,\n",
       "           0.0000, 0.0000, 0.0000, 0.0000, 0.0000, 0.0000, 0.0000, 0.0000,\n",
       "           0.0000, 0.0000, 0.0000, 0.0000]]]),\n",
       " 9)"
      ]
     },
     "execution_count": 4,
     "metadata": {},
     "output_type": "execute_result"
    }
   ],
   "source": [
    "image, label = train_data[0]\n",
    "image, label"
   ]
  },
  {
   "cell_type": "code",
   "execution_count": 5,
   "id": "759910cf",
   "metadata": {
    "execution": {
     "iopub.execute_input": "2025-09-02T09:48:07.843043Z",
     "iopub.status.busy": "2025-09-02T09:48:07.842725Z",
     "iopub.status.idle": "2025-09-02T09:48:07.848918Z",
     "shell.execute_reply": "2025-09-02T09:48:07.848081Z"
    },
    "papermill": {
     "duration": 0.014318,
     "end_time": "2025-09-02T09:48:07.850410",
     "exception": false,
     "start_time": "2025-09-02T09:48:07.836092",
     "status": "completed"
    },
    "tags": []
   },
   "outputs": [
    {
     "data": {
      "text/plain": [
       "['T-shirt/top',\n",
       " 'Trouser',\n",
       " 'Pullover',\n",
       " 'Dress',\n",
       " 'Coat',\n",
       " 'Sandal',\n",
       " 'Shirt',\n",
       " 'Sneaker',\n",
       " 'Bag',\n",
       " 'Ankle boot']"
      ]
     },
     "execution_count": 5,
     "metadata": {},
     "output_type": "execute_result"
    }
   ],
   "source": [
    "class_names = train_data.classes\n",
    "class_names"
   ]
  },
  {
   "cell_type": "code",
   "execution_count": 6,
   "id": "a3af5907",
   "metadata": {
    "execution": {
     "iopub.execute_input": "2025-09-02T09:48:07.863527Z",
     "iopub.status.busy": "2025-09-02T09:48:07.862528Z",
     "iopub.status.idle": "2025-09-02T09:48:07.868333Z",
     "shell.execute_reply": "2025-09-02T09:48:07.867473Z"
    },
    "papermill": {
     "duration": 0.013652,
     "end_time": "2025-09-02T09:48:07.869787",
     "exception": false,
     "start_time": "2025-09-02T09:48:07.856135",
     "status": "completed"
    },
    "tags": []
   },
   "outputs": [
    {
     "data": {
      "text/plain": [
       "{'T-shirt/top': 0,\n",
       " 'Trouser': 1,\n",
       " 'Pullover': 2,\n",
       " 'Dress': 3,\n",
       " 'Coat': 4,\n",
       " 'Sandal': 5,\n",
       " 'Shirt': 6,\n",
       " 'Sneaker': 7,\n",
       " 'Bag': 8,\n",
       " 'Ankle boot': 9}"
      ]
     },
     "execution_count": 6,
     "metadata": {},
     "output_type": "execute_result"
    }
   ],
   "source": [
    "class_to_idx = train_data.class_to_idx \n",
    "class_to_idx"
   ]
  },
  {
   "cell_type": "code",
   "execution_count": 7,
   "id": "04560563",
   "metadata": {
    "execution": {
     "iopub.execute_input": "2025-09-02T09:48:07.882693Z",
     "iopub.status.busy": "2025-09-02T09:48:07.882368Z",
     "iopub.status.idle": "2025-09-02T09:48:07.887233Z",
     "shell.execute_reply": "2025-09-02T09:48:07.886118Z"
    },
    "papermill": {
     "duration": 0.012979,
     "end_time": "2025-09-02T09:48:07.888628",
     "exception": false,
     "start_time": "2025-09-02T09:48:07.875649",
     "status": "completed"
    },
    "tags": []
   },
   "outputs": [
    {
     "name": "stdout",
     "output_type": "stream",
     "text": [
      "Image shape: torch.Size([1, 28, 28]) -> [color_cannels, height, width]\n",
      "image label: Ankle boot\n"
     ]
    }
   ],
   "source": [
    "print(f\"Image shape: {image.shape} -> [color_cannels, height, width]\")\n",
    "print(f\"image label: {class_names[label]}\")"
   ]
  },
  {
   "cell_type": "markdown",
   "id": "5bb656c1",
   "metadata": {
    "papermill": {
     "duration": 0.005336,
     "end_time": "2025-09-02T09:48:07.899707",
     "exception": false,
     "start_time": "2025-09-02T09:48:07.894371",
     "status": "completed"
    },
    "tags": []
   },
   "source": [
    "### 1.2 Visualizing data"
   ]
  },
  {
   "cell_type": "code",
   "execution_count": 8,
   "id": "25e75740",
   "metadata": {
    "execution": {
     "iopub.execute_input": "2025-09-02T09:48:07.912083Z",
     "iopub.status.busy": "2025-09-02T09:48:07.911789Z",
     "iopub.status.idle": "2025-09-02T09:48:08.223509Z",
     "shell.execute_reply": "2025-09-02T09:48:08.222530Z"
    },
    "papermill": {
     "duration": 0.319782,
     "end_time": "2025-09-02T09:48:08.225088",
     "exception": false,
     "start_time": "2025-09-02T09:48:07.905306",
     "status": "completed"
    },
    "tags": []
   },
   "outputs": [
    {
     "data": {
      "text/plain": [
       "<matplotlib.image.AxesImage at 0x790397ec2590>"
      ]
     },
     "execution_count": 8,
     "metadata": {},
     "output_type": "execute_result"
    },
    {
     "data": {
      "image/png": "[encoded data removed]",
      "text/plain": [
       "<Figure size 640x480 with 1 Axes>"
      ]
     },
     "metadata": {},
     "output_type": "display_data"
    }
   ],
   "source": [
    "import matplotlib.pyplot as plt \n",
    "\n",
    "image, label = train_data[0]\n",
    "plt.imshow(image.squeeze()) # we need squeeze to remove the color channel dimension"
   ]
  },
  {
   "cell_type": "code",
   "execution_count": 9,
   "id": "a32cc230",
   "metadata": {
    "execution": {
     "iopub.execute_input": "2025-09-02T09:48:08.238653Z",
     "iopub.status.busy": "2025-09-02T09:48:08.238367Z",
     "iopub.status.idle": "2025-09-02T09:48:08.340924Z",
     "shell.execute_reply": "2025-09-02T09:48:08.340007Z"
    },
    "papermill": {
     "duration": 0.111289,
     "end_time": "2025-09-02T09:48:08.342606",
     "exception": false,
     "start_time": "2025-09-02T09:48:08.231317",
     "status": "completed"
    },
    "tags": []
   },
   "outputs": [
    {
     "data": {
      "text/plain": [
       "(-0.5, 27.5, 27.5, -0.5)"
      ]
     },
     "execution_count": 9,
     "metadata": {},
     "output_type": "execute_result"
    },
    {
     "data": {
      "image/png": "[encoded data removed]",
      "text/plain": [
       "<Figure size 640x480 with 1 Axes>"
      ]
     },
     "metadata": {},
     "output_type": "display_data"
    }
   ],
   "source": [
    "plt.imshow(image.squeeze(), cmap=\"gray\")\n",
    "plt.title(class_names[label])\n",
    "plt.axis(False)"
   ]
  },
  {
   "cell_type": "code",
   "execution_count": 10,
   "id": "668683af",
   "metadata": {
    "execution": {
     "iopub.execute_input": "2025-09-02T09:48:08.356752Z",
     "iopub.status.busy": "2025-09-02T09:48:08.356434Z",
     "iopub.status.idle": "2025-09-02T09:48:09.373051Z",
     "shell.execute_reply": "2025-09-02T09:48:09.372102Z"
    },
    "papermill": {
     "duration": 1.025637,
     "end_time": "2025-09-02T09:48:09.374715",
     "exception": false,
     "start_time": "2025-09-02T09:48:08.349078",
     "status": "completed"
    },
    "tags": []
   },
   "outputs": [
    {
     "data": {
      "image/png": "[encoded data removed]",
      "text/plain": [
       "<Figure size 900x900 with 16 Axes>"
      ]
     },
     "metadata": {},
     "output_type": "display_data"
    }
   ],
   "source": [
    "# plot more images \n",
    "# torch.manual_seed(42)\n",
    "\n",
    "fig = plt.figure(figsize=(9,9))\n",
    "rows, cols = 4,4 \n",
    "for i in range(1, rows*cols+1):\n",
    "    random_idx = torch.randint(0, len(train_data), size=[1]).item()\n",
    "    # print(random_idx)\n",
    "    img, label = train_data[random_idx]\n",
    "    fig.add_subplot(rows,cols,i)\n",
    "    plt.imshow(img.squeeze(), cmap=\"gray\")\n",
    "    plt.title(class_names[label])\n",
    "    plt.axis(False)"
   ]
  },
  {
   "cell_type": "code",
   "execution_count": 11,
   "id": "a53b3e36",
   "metadata": {
    "execution": {
     "iopub.execute_input": "2025-09-02T09:48:09.390718Z",
     "iopub.status.busy": "2025-09-02T09:48:09.390385Z",
     "iopub.status.idle": "2025-09-02T09:48:09.396273Z",
     "shell.execute_reply": "2025-09-02T09:48:09.395487Z"
    },
    "papermill": {
     "duration": 0.015458,
     "end_time": "2025-09-02T09:48:09.397756",
     "exception": false,
     "start_time": "2025-09-02T09:48:09.382298",
     "status": "completed"
    },
    "tags": []
   },
   "outputs": [
    {
     "data": {
      "text/plain": [
       "(Dataset FashionMNIST\n",
       "     Number of datapoints: 60000\n",
       "     Root location: data\n",
       "     Split: Train\n",
       "     StandardTransform\n",
       " Transform: ToTensor(),\n",
       " Dataset FashionMNIST\n",
       "     Number of datapoints: 10000\n",
       "     Root location: data\n",
       "     Split: Test\n",
       "     StandardTransform\n",
       " Transform: ToTensor())"
      ]
     },
     "execution_count": 11,
     "metadata": {},
     "output_type": "execute_result"
    }
   ],
   "source": [
    "train_data, test_data"
   ]
  },
  {
   "cell_type": "markdown",
   "id": "b1bbfc4c",
   "metadata": {
    "papermill": {
     "duration": 0.006886,
     "end_time": "2025-09-02T09:48:09.411918",
     "exception": false,
     "start_time": "2025-09-02T09:48:09.405032",
     "status": "completed"
    },
    "tags": []
   },
   "source": [
    "## 2. Prepare DataLoader\n",
    "\n",
    "* Right now data is in the form of PyTorch Datasets\n",
    "* DataLoader turns the dataset into a Python iterable\n",
    "* more specifically, we want to turn our data into batches (or mini batches)\n",
    "  1. it is more computationally efficient, as in the computing hardware may not be able to look (store in memory) at 6000 images in one hit. So we break it down to 32 images at a time (batch size = 32)\n",
    "    2. it gives our NN more chances to update its ggradients per epoch (every 32 images)"
   ]
  },
  {
   "cell_type": "code",
   "execution_count": 12,
   "id": "6a8d09b3",
   "metadata": {
    "execution": {
     "iopub.execute_input": "2025-09-02T09:48:09.427773Z",
     "iopub.status.busy": "2025-09-02T09:48:09.427420Z",
     "iopub.status.idle": "2025-09-02T09:48:09.434528Z",
     "shell.execute_reply": "2025-09-02T09:48:09.433577Z"
    },
    "papermill": {
     "duration": 0.017032,
     "end_time": "2025-09-02T09:48:09.436026",
     "exception": false,
     "start_time": "2025-09-02T09:48:09.418994",
     "status": "completed"
    },
    "tags": []
   },
   "outputs": [
    {
     "data": {
      "text/plain": [
       "(<torch.utils.data.dataloader.DataLoader at 0x7902931066d0>,\n",
       " <torch.utils.data.dataloader.DataLoader at 0x7902932a82d0>)"
      ]
     },
     "execution_count": 12,
     "metadata": {},
     "output_type": "execute_result"
    }
   ],
   "source": [
    "from torch.utils.data import DataLoader \n",
    "\n",
    "# setup the batch size hyperparameter \n",
    "BATCH_SIZE = 32 \n",
    "\n",
    "# turn dataset into iterables (batches)\n",
    "train_dataloader = DataLoader(\n",
    "    dataset=train_data,\n",
    "    batch_size=BATCH_SIZE,\n",
    "    shuffle=True\n",
    ")\n",
    "\n",
    "test_dataloader = DataLoader(\n",
    "    dataset=test_data, \n",
    "    batch_size=BATCH_SIZE,\n",
    "    shuffle=False\n",
    ")\n",
    "\n",
    "train_dataloader, test_dataloader"
   ]
  },
  {
   "cell_type": "code",
   "execution_count": 13,
   "id": "3221aab7",
   "metadata": {
    "execution": {
     "iopub.execute_input": "2025-09-02T09:48:09.452030Z",
     "iopub.status.busy": "2025-09-02T09:48:09.451728Z",
     "iopub.status.idle": "2025-09-02T09:48:09.456825Z",
     "shell.execute_reply": "2025-09-02T09:48:09.455787Z"
    },
    "papermill": {
     "duration": 0.014686,
     "end_time": "2025-09-02T09:48:09.458270",
     "exception": false,
     "start_time": "2025-09-02T09:48:09.443584",
     "status": "completed"
    },
    "tags": []
   },
   "outputs": [
    {
     "name": "stdout",
     "output_type": "stream",
     "text": [
      "Dataloaders: (<torch.utils.data.dataloader.DataLoader object at 0x7902931066d0>, <torch.utils.data.dataloader.DataLoader object at 0x7902932a82d0>)\n",
      "Length of train_dataloader: 1875,batches of 32...\n",
      "Length of test_dataloader: 313, batches of 32\n"
     ]
    }
   ],
   "source": [
    "print(f\"Dataloaders: {train_dataloader, test_dataloader}\")\n",
    "print(f\"Length of train_dataloader: {len(train_dataloader)},batches of {BATCH_SIZE}...\")\n",
    "print(f\"Length of test_dataloader: {len(test_dataloader)}, batches of {BATCH_SIZE}\")"
   ]
  },
  {
   "cell_type": "code",
   "execution_count": 14,
   "id": "2998971e",
   "metadata": {
    "execution": {
     "iopub.execute_input": "2025-09-02T09:48:09.474508Z",
     "iopub.status.busy": "2025-09-02T09:48:09.474180Z",
     "iopub.status.idle": "2025-09-02T09:48:09.479983Z",
     "shell.execute_reply": "2025-09-02T09:48:09.479084Z"
    },
    "papermill": {
     "duration": 0.01564,
     "end_time": "2025-09-02T09:48:09.481448",
     "exception": false,
     "start_time": "2025-09-02T09:48:09.465808",
     "status": "completed"
    },
    "tags": []
   },
   "outputs": [
    {
     "data": {
      "text/plain": [
       "(312.5, 10000.0)"
      ]
     },
     "execution_count": 14,
     "metadata": {},
     "output_type": "execute_result"
    }
   ],
   "source": [
    "10000/32, 32*312.5"
   ]
  },
  {
   "cell_type": "code",
   "execution_count": 15,
   "id": "28158a34",
   "metadata": {
    "execution": {
     "iopub.execute_input": "2025-09-02T09:48:09.497603Z",
     "iopub.status.busy": "2025-09-02T09:48:09.497017Z",
     "iopub.status.idle": "2025-09-02T09:48:09.518458Z",
     "shell.execute_reply": "2025-09-02T09:48:09.517529Z"
    },
    "papermill": {
     "duration": 0.031282,
     "end_time": "2025-09-02T09:48:09.520120",
     "exception": false,
     "start_time": "2025-09-02T09:48:09.488838",
     "status": "completed"
    },
    "tags": []
   },
   "outputs": [
    {
     "data": {
      "text/plain": [
       "(torch.Size([32, 1, 28, 28]), torch.Size([32]))"
      ]
     },
     "execution_count": 15,
     "metadata": {},
     "output_type": "execute_result"
    }
   ],
   "source": [
    "train_features_batch, train_labels_batch = next(iter(train_dataloader)) # iter turns train_dataloader into an iterable and next gets us the next batch\n",
    "train_features_batch.shape, train_labels_batch.shape"
   ]
  },
  {
   "cell_type": "code",
   "execution_count": 16,
   "id": "7d7be4c1",
   "metadata": {
    "execution": {
     "iopub.execute_input": "2025-09-02T09:48:09.536337Z",
     "iopub.status.busy": "2025-09-02T09:48:09.535989Z",
     "iopub.status.idle": "2025-09-02T09:48:09.644014Z",
     "shell.execute_reply": "2025-09-02T09:48:09.643109Z"
    },
    "papermill": {
     "duration": 0.117981,
     "end_time": "2025-09-02T09:48:09.645703",
     "exception": false,
     "start_time": "2025-09-02T09:48:09.527722",
     "status": "completed"
    },
    "tags": []
   },
   "outputs": [
    {
     "name": "stdout",
     "output_type": "stream",
     "text": [
      "Image size: torch.Size([1, 28, 28])\n",
      "Label: 3, label size: torch.Size([])\n"
     ]
    },
    {
     "data": {
      "image/png": "[encoded data removed]",
      "text/plain": [
       "<Figure size 640x480 with 1 Axes>"
      ]
     },
     "metadata": {},
     "output_type": "display_data"
    }
   ],
   "source": [
    "# show a sample \n",
    "torch.manual_seed(42)\n",
    "random_idx = torch.randint(0,len(train_features_batch), size=[1]).item()\n",
    "img, label = train_features_batch[random_idx], train_labels_batch[random_idx]\n",
    "plt.imshow(img.squeeze(), cmap=\"gray\")\n",
    "plt.title(class_names[label])\n",
    "plt.axis(False)\n",
    "print(f\"Image size: {img.shape}\")\n",
    "print(f\"Label: {label}, label size: {label.shape}\")"
   ]
  },
  {
   "cell_type": "code",
   "execution_count": null,
   "id": "2dc69228",
   "metadata": {
    "papermill": {
     "duration": 0.00749,
     "end_time": "2025-09-02T09:48:09.661739",
     "exception": false,
     "start_time": "2025-09-02T09:48:09.654249",
     "status": "completed"
    },
    "tags": []
   },
   "outputs": [],
   "source": []
  },
  {
   "cell_type": "code",
   "execution_count": null,
   "id": "b3826f33",
   "metadata": {
    "papermill": {
     "duration": 0.007801,
     "end_time": "2025-09-02T09:48:09.677629",
     "exception": false,
     "start_time": "2025-09-02T09:48:09.669828",
     "status": "completed"
    },
    "tags": []
   },
   "outputs": [],
   "source": []
  },
  {
   "cell_type": "code",
   "execution_count": null,
   "id": "f4da52c8",
   "metadata": {
    "papermill": {
     "duration": 0.007349,
     "end_time": "2025-09-02T09:48:09.692642",
     "exception": false,
     "start_time": "2025-09-02T09:48:09.685293",
     "status": "completed"
    },
    "tags": []
   },
   "outputs": [],
   "source": []
  },
  {
   "cell_type": "code",
   "execution_count": null,
   "id": "dfc1848f",
   "metadata": {
    "papermill": {
     "duration": 0.007383,
     "end_time": "2025-09-02T09:48:09.707717",
     "exception": false,
     "start_time": "2025-09-02T09:48:09.700334",
     "status": "completed"
    },
    "tags": []
   },
   "outputs": [],
   "source": []
  },
  {
   "cell_type": "code",
   "execution_count": null,
   "id": "f4c39c59",
   "metadata": {
    "papermill": {
     "duration": 0.007367,
     "end_time": "2025-09-02T09:48:09.722719",
     "exception": false,
     "start_time": "2025-09-02T09:48:09.715352",
     "status": "completed"
    },
    "tags": []
   },
   "outputs": [],
   "source": []
  },
  {
   "cell_type": "code",
   "execution_count": null,
   "id": "e4466d04",
   "metadata": {
    "papermill": {
     "duration": 0.008066,
     "end_time": "2025-09-02T09:48:09.738496",
     "exception": false,
     "start_time": "2025-09-02T09:48:09.730430",
     "status": "completed"
    },
    "tags": []
   },
   "outputs": [],
   "source": []
  },
  {
   "cell_type": "code",
   "execution_count": null,
   "id": "dd717efa",
   "metadata": {
    "papermill": {
     "duration": 0.007359,
     "end_time": "2025-09-02T09:48:09.753709",
     "exception": false,
     "start_time": "2025-09-02T09:48:09.746350",
     "status": "completed"
    },
    "tags": []
   },
   "outputs": [],
   "source": []
  },
  {
   "cell_type": "code",
   "execution_count": null,
   "id": "91df967a",
   "metadata": {
    "papermill": {
     "duration": 0.007362,
     "end_time": "2025-09-02T09:48:09.768837",
     "exception": false,
     "start_time": "2025-09-02T09:48:09.761475",
     "status": "completed"
    },
    "tags": []
   },
   "outputs": [],
   "source": []
  },
  {
   "cell_type": "code",
   "execution_count": null,
   "id": "72f2c0dd",
   "metadata": {
    "papermill": {
     "duration": 0.007246,
     "end_time": "2025-09-02T09:48:09.783762",
     "exception": false,
     "start_time": "2025-09-02T09:48:09.776516",
     "status": "completed"
    },
    "tags": []
   },
   "outputs": [],
   "source": []
  }
 ],
 "metadata": {
  "kaggle": {
   "accelerator": "none",
   "dataSources": [],
   "dockerImageVersionId": 31089,
   "isGpuEnabled": false,
   "isInternetEnabled": true,
   "language": "python",
   "sourceType": "notebook"
  },
  "kernelspec": {
   "display_name": "Python 3",
   "language": "python",
   "name": "python3"
  },
  "language_info": {
   "codemirror_mode": {
    "name": "ipython",
    "version": 3
   },
   "file_extension": ".py",
   "mimetype": "text/x-python",
   "name": "python",
   "nbconvert_exporter": "python",
   "pygments_lexer": "ipython3",
   "version": "3.11.13"
  },
  "papermill": {
   "default_parameters": {},
   "duration": 22.341314,
   "end_time": "2025-09-02T09:48:11.615547",
   "environment_variables": {},
   "exception": null,
   "input_path": "__notebook__.ipynb",
   "output_path": "__notebook__.ipynb",
   "parameters": {},
   "start_time": "2025-09-02T09:47:49.274233",
   "version": "2.6.0"
  }
 },
 "nbformat": 4,
 "nbformat_minor": 5
}
