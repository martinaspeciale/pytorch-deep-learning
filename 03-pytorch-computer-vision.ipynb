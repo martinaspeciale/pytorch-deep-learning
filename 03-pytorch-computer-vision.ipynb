{
 "cells": [
  {
   "cell_type": "markdown",
   "id": "4f28aee0",
   "metadata": {
    "papermill": {
     "duration": 0.007338,
     "end_time": "2025-09-03T09:11:06.392809",
     "exception": false,
     "start_time": "2025-09-03T09:11:06.385471",
     "status": "completed"
    },
    "tags": []
   },
   "source": [
    "# **PyTorch Computer Vision**"
   ]
  },
  {
   "cell_type": "markdown",
   "id": "f71aecef",
   "metadata": {
    "papermill": {
     "duration": 0.006205,
     "end_time": "2025-09-03T09:11:06.405446",
     "exception": false,
     "start_time": "2025-09-03T09:11:06.399241",
     "status": "completed"
    },
    "tags": []
   },
   "source": [
    "## 0. Computer Vision libraries in Python \n",
    "* `torchvision` : base domain library for PyTorch CV \n",
    "* `torchvision.datasets` : get datasets and data loading functions for CV \n",
    "* `torchvision.models` : get pretrained CV models we can leverage for new problems \n",
    "* `torchvision.transform` : functions for manipulating your vision data (images) to be suitable for use with an ML model\n",
    "* `torch.utils.data.Dataset` : base dataset class for PyTorch \n",
    "* `torch.utils.data.DataLoader` : creates a python iterable over a dataset "
   ]
  },
  {
   "cell_type": "code",
   "execution_count": 1,
   "id": "6a428fae",
   "metadata": {
    "execution": {
     "iopub.execute_input": "2025-09-03T09:11:06.419425Z",
     "iopub.status.busy": "2025-09-03T09:11:06.419160Z",
     "iopub.status.idle": "2025-09-03T09:11:15.298283Z",
     "shell.execute_reply": "2025-09-03T09:11:15.297457Z"
    },
    "papermill": {
     "duration": 8.888081,
     "end_time": "2025-09-03T09:11:15.299706",
     "exception": false,
     "start_time": "2025-09-03T09:11:06.411625",
     "status": "completed"
    },
    "tags": []
   },
   "outputs": [
    {
     "name": "stdout",
     "output_type": "stream",
     "text": [
      "2.6.0+cu124\n",
      "0.21.0+cu124\n"
     ]
    }
   ],
   "source": [
    "import torch \n",
    "from torch import nn \n",
    "\n",
    "import torchvision \n",
    "from torchvision import datasets \n",
    "from torchvision import transforms \n",
    "from torchvision.transforms import ToTensor \n",
    "\n",
    "import matplotlib.pyplot as plt \n",
    "\n",
    "print(torch.__version__)\n",
    "print(torchvision.__version__)"
   ]
  },
  {
   "cell_type": "markdown",
   "id": "2bb3a3d5",
   "metadata": {
    "papermill": {
     "duration": 0.006096,
     "end_time": "2025-09-03T09:11:15.312367",
     "exception": false,
     "start_time": "2025-09-03T09:11:15.306271",
     "status": "completed"
    },
    "tags": []
   },
   "source": [
    "## 1. Getting a dataset : Fashion MNIST  "
   ]
  },
  {
   "cell_type": "code",
   "execution_count": 2,
   "id": "308f0ef4",
   "metadata": {
    "execution": {
     "iopub.execute_input": "2025-09-03T09:11:15.325833Z",
     "iopub.status.busy": "2025-09-03T09:11:15.325539Z",
     "iopub.status.idle": "2025-09-03T09:11:21.793679Z",
     "shell.execute_reply": "2025-09-03T09:11:21.792759Z"
    },
    "papermill": {
     "duration": 6.476418,
     "end_time": "2025-09-03T09:11:21.795030",
     "exception": false,
     "start_time": "2025-09-03T09:11:15.318612",
     "status": "completed"
    },
    "tags": []
   },
   "outputs": [
    {
     "name": "stderr",
     "output_type": "stream",
     "text": [
      "100%|██████████| 26.4M/26.4M [00:02<00:00, 12.5MB/s]\n",
      "100%|██████████| 29.5k/29.5k [00:00<00:00, 213kB/s]\n",
      "100%|██████████| 4.42M/4.42M [00:01<00:00, 3.97MB/s]\n",
      "100%|██████████| 5.15k/5.15k [00:00<00:00, 12.2MB/s]\n"
     ]
    }
   ],
   "source": [
    "# setup training data \n",
    "from torchvision import datasets \n",
    "train_data = datasets.FashionMNIST(\n",
    "    root=\"data\", # where to download data to\n",
    "    train=True,  # do we want the training dataset?\n",
    "    download=True, # do we want to download it?\n",
    "    transform=torchvision.transforms.ToTensor(), # how do we want to transform the data\n",
    "    target_transform=None # how do we want to transform the label \n",
    ")\n",
    "\n",
    "test_data = datasets.FashionMNIST(\n",
    "    root=\"data\", \n",
    "    train=False, \n",
    "    download=True,\n",
    "    transform=torchvision.transforms.ToTensor(),\n",
    "    target_transform=None\n",
    ")"
   ]
  },
  {
   "cell_type": "code",
   "execution_count": 3,
   "id": "c37a266a",
   "metadata": {
    "execution": {
     "iopub.execute_input": "2025-09-03T09:11:21.811604Z",
     "iopub.status.busy": "2025-09-03T09:11:21.811356Z",
     "iopub.status.idle": "2025-09-03T09:11:21.816568Z",
     "shell.execute_reply": "2025-09-03T09:11:21.815871Z"
    },
    "papermill": {
     "duration": 0.014522,
     "end_time": "2025-09-03T09:11:21.817729",
     "exception": false,
     "start_time": "2025-09-03T09:11:21.803207",
     "status": "completed"
    },
    "tags": []
   },
   "outputs": [
    {
     "data": {
      "text/plain": [
       "(60000, 10000)"
      ]
     },
     "execution_count": 3,
     "metadata": {},
     "output_type": "execute_result"
    }
   ],
   "source": [
    "len(train_data), len(test_data)"
   ]
  },
  {
   "cell_type": "code",
   "execution_count": 4,
   "id": "3006a922",
   "metadata": {
    "execution": {
     "iopub.execute_input": "2025-09-03T09:11:21.833987Z",
     "iopub.status.busy": "2025-09-03T09:11:21.833774Z",
     "iopub.status.idle": "2025-09-03T09:11:21.859751Z",
     "shell.execute_reply": "2025-09-03T09:11:21.859044Z"
    },
    "papermill": {
     "duration": 0.035469,
     "end_time": "2025-09-03T09:11:21.860842",
     "exception": false,
     "start_time": "2025-09-03T09:11:21.825373",
     "status": "completed"
    },
    "tags": []
   },
   "outputs": [
    {
     "data": {
      "text/plain": [
       "(tensor([[[0.0000, 0.0000, 0.0000, 0.0000, 0.0000, 0.0000, 0.0000, 0.0000,\n",
       "           0.0000, 0.0000, 0.0000, 0.0000, 0.0000, 0.0000, 0.0000, 0.0000,\n",
       "           0.0000, 0.0000, 0.0000, 0.0000, 0.0000, 0.0000, 0.0000, 0.0000,\n",
       "           0.0000, 0.0000, 0.0000, 0.0000],\n",
       "          [0.0000, 0.0000, 0.0000, 0.0000, 0.0000, 0.0000, 0.0000, 0.0000,\n",
       "           0.0000, 0.0000, 0.0000, 0.0000, 0.0000, 0.0000, 0.0000, 0.0000,\n",
       "           0.0000, 0.0000, 0.0000, 0.0000, 0.0000, 0.0000, 0.0000, 0.0000,\n",
       "           0.0000, 0.0000, 0.0000, 0.0000],\n",
       "          [0.0000, 0.0000, 0.0000, 0.0000, 0.0000, 0.0000, 0.0000, 0.0000,\n",
       "           0.0000, 0.0000, 0.0000, 0.0000, 0.0000, 0.0000, 0.0000, 0.0000,\n",
       "           0.0000, 0.0000, 0.0000, 0.0000, 0.0000, 0.0000, 0.0000, 0.0000,\n",
       "           0.0000, 0.0000, 0.0000, 0.0000],\n",
       "          [0.0000, 0.0000, 0.0000, 0.0000, 0.0000, 0.0000, 0.0000, 0.0000,\n",
       "           0.0000, 0.0000, 0.0000, 0.0000, 0.0039, 0.0000, 0.0000, 0.0510,\n",
       "           0.2863, 0.0000, 0.0000, 0.0039, 0.0157, 0.0000, 0.0000, 0.0000,\n",
       "           0.0000, 0.0039, 0.0039, 0.0000],\n",
       "          [0.0000, 0.0000, 0.0000, 0.0000, 0.0000, 0.0000, 0.0000, 0.0000,\n",
       "           0.0000, 0.0000, 0.0000, 0.0000, 0.0118, 0.0000, 0.1412, 0.5333,\n",
       "           0.4980, 0.2431, 0.2118, 0.0000, 0.0000, 0.0000, 0.0039, 0.0118,\n",
       "           0.0157, 0.0000, 0.0000, 0.0118],\n",
       "          [0.0000, 0.0000, 0.0000, 0.0000, 0.0000, 0.0000, 0.0000, 0.0000,\n",
       "           0.0000, 0.0000, 0.0000, 0.0000, 0.0235, 0.0000, 0.4000, 0.8000,\n",
       "           0.6902, 0.5255, 0.5647, 0.4824, 0.0902, 0.0000, 0.0000, 0.0000,\n",
       "           0.0000, 0.0471, 0.0392, 0.0000],\n",
       "          [0.0000, 0.0000, 0.0000, 0.0000, 0.0000, 0.0000, 0.0000, 0.0000,\n",
       "           0.0000, 0.0000, 0.0000, 0.0000, 0.0000, 0.0000, 0.6078, 0.9255,\n",
       "           0.8118, 0.6980, 0.4196, 0.6118, 0.6314, 0.4275, 0.2510, 0.0902,\n",
       "           0.3020, 0.5098, 0.2824, 0.0588],\n",
       "          [0.0000, 0.0000, 0.0000, 0.0000, 0.0000, 0.0000, 0.0000, 0.0000,\n",
       "           0.0000, 0.0000, 0.0000, 0.0039, 0.0000, 0.2706, 0.8118, 0.8745,\n",
       "           0.8549, 0.8471, 0.8471, 0.6392, 0.4980, 0.4745, 0.4784, 0.5725,\n",
       "           0.5529, 0.3451, 0.6745, 0.2588],\n",
       "          [0.0000, 0.0000, 0.0000, 0.0000, 0.0000, 0.0000, 0.0000, 0.0000,\n",
       "           0.0000, 0.0039, 0.0039, 0.0039, 0.0000, 0.7843, 0.9098, 0.9098,\n",
       "           0.9137, 0.8980, 0.8745, 0.8745, 0.8431, 0.8353, 0.6431, 0.4980,\n",
       "           0.4824, 0.7686, 0.8980, 0.0000],\n",
       "          [0.0000, 0.0000, 0.0000, 0.0000, 0.0000, 0.0000, 0.0000, 0.0000,\n",
       "           0.0000, 0.0000, 0.0000, 0.0000, 0.0000, 0.7176, 0.8824, 0.8471,\n",
       "           0.8745, 0.8941, 0.9216, 0.8902, 0.8784, 0.8706, 0.8784, 0.8667,\n",
       "           0.8745, 0.9608, 0.6784, 0.0000],\n",
       "          [0.0000, 0.0000, 0.0000, 0.0000, 0.0000, 0.0000, 0.0000, 0.0000,\n",
       "           0.0000, 0.0000, 0.0000, 0.0000, 0.0000, 0.7569, 0.8941, 0.8549,\n",
       "           0.8353, 0.7765, 0.7059, 0.8314, 0.8235, 0.8275, 0.8353, 0.8745,\n",
       "           0.8627, 0.9529, 0.7922, 0.0000],\n",
       "          [0.0000, 0.0000, 0.0000, 0.0000, 0.0000, 0.0000, 0.0000, 0.0000,\n",
       "           0.0000, 0.0039, 0.0118, 0.0000, 0.0471, 0.8588, 0.8627, 0.8314,\n",
       "           0.8549, 0.7529, 0.6627, 0.8902, 0.8157, 0.8549, 0.8784, 0.8314,\n",
       "           0.8863, 0.7725, 0.8196, 0.2039],\n",
       "          [0.0000, 0.0000, 0.0000, 0.0000, 0.0000, 0.0000, 0.0000, 0.0000,\n",
       "           0.0000, 0.0000, 0.0235, 0.0000, 0.3882, 0.9569, 0.8706, 0.8627,\n",
       "           0.8549, 0.7961, 0.7765, 0.8667, 0.8431, 0.8353, 0.8706, 0.8627,\n",
       "           0.9608, 0.4667, 0.6549, 0.2196],\n",
       "          [0.0000, 0.0000, 0.0000, 0.0000, 0.0000, 0.0000, 0.0000, 0.0000,\n",
       "           0.0000, 0.0157, 0.0000, 0.0000, 0.2157, 0.9255, 0.8941, 0.9020,\n",
       "           0.8941, 0.9412, 0.9098, 0.8353, 0.8549, 0.8745, 0.9176, 0.8510,\n",
       "           0.8510, 0.8196, 0.3608, 0.0000],\n",
       "          [0.0000, 0.0000, 0.0039, 0.0157, 0.0235, 0.0275, 0.0078, 0.0000,\n",
       "           0.0000, 0.0000, 0.0000, 0.0000, 0.9294, 0.8863, 0.8510, 0.8745,\n",
       "           0.8706, 0.8588, 0.8706, 0.8667, 0.8471, 0.8745, 0.8980, 0.8431,\n",
       "           0.8549, 1.0000, 0.3020, 0.0000],\n",
       "          [0.0000, 0.0118, 0.0000, 0.0000, 0.0000, 0.0000, 0.0000, 0.0000,\n",
       "           0.0000, 0.2431, 0.5686, 0.8000, 0.8941, 0.8118, 0.8353, 0.8667,\n",
       "           0.8549, 0.8157, 0.8275, 0.8549, 0.8784, 0.8745, 0.8588, 0.8431,\n",
       "           0.8784, 0.9569, 0.6235, 0.0000],\n",
       "          [0.0000, 0.0000, 0.0000, 0.0000, 0.0706, 0.1725, 0.3216, 0.4196,\n",
       "           0.7412, 0.8941, 0.8627, 0.8706, 0.8510, 0.8863, 0.7843, 0.8039,\n",
       "           0.8275, 0.9020, 0.8784, 0.9176, 0.6902, 0.7373, 0.9804, 0.9725,\n",
       "           0.9137, 0.9333, 0.8431, 0.0000],\n",
       "          [0.0000, 0.2235, 0.7333, 0.8157, 0.8784, 0.8667, 0.8784, 0.8157,\n",
       "           0.8000, 0.8392, 0.8157, 0.8196, 0.7843, 0.6235, 0.9608, 0.7569,\n",
       "           0.8078, 0.8745, 1.0000, 1.0000, 0.8667, 0.9176, 0.8667, 0.8275,\n",
       "           0.8627, 0.9098, 0.9647, 0.0000],\n",
       "          [0.0118, 0.7922, 0.8941, 0.8784, 0.8667, 0.8275, 0.8275, 0.8392,\n",
       "           0.8039, 0.8039, 0.8039, 0.8627, 0.9412, 0.3137, 0.5882, 1.0000,\n",
       "           0.8980, 0.8667, 0.7373, 0.6039, 0.7490, 0.8235, 0.8000, 0.8196,\n",
       "           0.8706, 0.8941, 0.8824, 0.0000],\n",
       "          [0.3843, 0.9137, 0.7765, 0.8235, 0.8706, 0.8980, 0.8980, 0.9176,\n",
       "           0.9765, 0.8627, 0.7608, 0.8431, 0.8510, 0.9451, 0.2549, 0.2863,\n",
       "           0.4157, 0.4588, 0.6588, 0.8588, 0.8667, 0.8431, 0.8510, 0.8745,\n",
       "           0.8745, 0.8784, 0.8980, 0.1137],\n",
       "          [0.2941, 0.8000, 0.8314, 0.8000, 0.7569, 0.8039, 0.8275, 0.8824,\n",
       "           0.8471, 0.7255, 0.7725, 0.8078, 0.7765, 0.8353, 0.9412, 0.7647,\n",
       "           0.8902, 0.9608, 0.9373, 0.8745, 0.8549, 0.8314, 0.8196, 0.8706,\n",
       "           0.8627, 0.8667, 0.9020, 0.2627],\n",
       "          [0.1882, 0.7961, 0.7176, 0.7608, 0.8353, 0.7725, 0.7255, 0.7451,\n",
       "           0.7608, 0.7529, 0.7922, 0.8392, 0.8588, 0.8667, 0.8627, 0.9255,\n",
       "           0.8824, 0.8471, 0.7804, 0.8078, 0.7294, 0.7098, 0.6941, 0.6745,\n",
       "           0.7098, 0.8039, 0.8078, 0.4510],\n",
       "          [0.0000, 0.4784, 0.8588, 0.7569, 0.7020, 0.6706, 0.7176, 0.7686,\n",
       "           0.8000, 0.8235, 0.8353, 0.8118, 0.8275, 0.8235, 0.7843, 0.7686,\n",
       "           0.7608, 0.7490, 0.7647, 0.7490, 0.7765, 0.7529, 0.6902, 0.6118,\n",
       "           0.6549, 0.6941, 0.8235, 0.3608],\n",
       "          [0.0000, 0.0000, 0.2902, 0.7412, 0.8314, 0.7490, 0.6863, 0.6745,\n",
       "           0.6863, 0.7098, 0.7255, 0.7373, 0.7412, 0.7373, 0.7569, 0.7765,\n",
       "           0.8000, 0.8196, 0.8235, 0.8235, 0.8275, 0.7373, 0.7373, 0.7608,\n",
       "           0.7529, 0.8471, 0.6667, 0.0000],\n",
       "          [0.0078, 0.0000, 0.0000, 0.0000, 0.2588, 0.7843, 0.8706, 0.9294,\n",
       "           0.9373, 0.9490, 0.9647, 0.9529, 0.9569, 0.8667, 0.8627, 0.7569,\n",
       "           0.7490, 0.7020, 0.7137, 0.7137, 0.7098, 0.6902, 0.6510, 0.6588,\n",
       "           0.3882, 0.2275, 0.0000, 0.0000],\n",
       "          [0.0000, 0.0000, 0.0000, 0.0000, 0.0000, 0.0000, 0.0000, 0.1569,\n",
       "           0.2392, 0.1725, 0.2824, 0.1608, 0.1373, 0.0000, 0.0000, 0.0000,\n",
       "           0.0000, 0.0000, 0.0000, 0.0000, 0.0000, 0.0000, 0.0000, 0.0000,\n",
       "           0.0000, 0.0000, 0.0000, 0.0000],\n",
       "          [0.0000, 0.0000, 0.0000, 0.0000, 0.0000, 0.0000, 0.0000, 0.0000,\n",
       "           0.0000, 0.0000, 0.0000, 0.0000, 0.0000, 0.0000, 0.0000, 0.0000,\n",
       "           0.0000, 0.0000, 0.0000, 0.0000, 0.0000, 0.0000, 0.0000, 0.0000,\n",
       "           0.0000, 0.0000, 0.0000, 0.0000],\n",
       "          [0.0000, 0.0000, 0.0000, 0.0000, 0.0000, 0.0000, 0.0000, 0.0000,\n",
       "           0.0000, 0.0000, 0.0000, 0.0000, 0.0000, 0.0000, 0.0000, 0.0000,\n",
       "           0.0000, 0.0000, 0.0000, 0.0000, 0.0000, 0.0000, 0.0000, 0.0000,\n",
       "           0.0000, 0.0000, 0.0000, 0.0000]]]),\n",
       " 9)"
      ]
     },
     "execution_count": 4,
     "metadata": {},
     "output_type": "execute_result"
    }
   ],
   "source": [
    "image, label = train_data[0]\n",
    "image, label"
   ]
  },
  {
   "cell_type": "code",
   "execution_count": 5,
   "id": "e319860e",
   "metadata": {
    "execution": {
     "iopub.execute_input": "2025-09-03T09:11:21.877273Z",
     "iopub.status.busy": "2025-09-03T09:11:21.877059Z",
     "iopub.status.idle": "2025-09-03T09:11:21.881163Z",
     "shell.execute_reply": "2025-09-03T09:11:21.880652Z"
    },
    "papermill": {
     "duration": 0.013528,
     "end_time": "2025-09-03T09:11:21.882185",
     "exception": false,
     "start_time": "2025-09-03T09:11:21.868657",
     "status": "completed"
    },
    "tags": []
   },
   "outputs": [
    {
     "data": {
      "text/plain": [
       "['T-shirt/top',\n",
       " 'Trouser',\n",
       " 'Pullover',\n",
       " 'Dress',\n",
       " 'Coat',\n",
       " 'Sandal',\n",
       " 'Shirt',\n",
       " 'Sneaker',\n",
       " 'Bag',\n",
       " 'Ankle boot']"
      ]
     },
     "execution_count": 5,
     "metadata": {},
     "output_type": "execute_result"
    }
   ],
   "source": [
    "class_names = train_data.classes\n",
    "class_names"
   ]
  },
  {
   "cell_type": "code",
   "execution_count": 6,
   "id": "f975510c",
   "metadata": {
    "execution": {
     "iopub.execute_input": "2025-09-03T09:11:21.898600Z",
     "iopub.status.busy": "2025-09-03T09:11:21.898375Z",
     "iopub.status.idle": "2025-09-03T09:11:21.902864Z",
     "shell.execute_reply": "2025-09-03T09:11:21.902230Z"
    },
    "papermill": {
     "duration": 0.013918,
     "end_time": "2025-09-03T09:11:21.904009",
     "exception": false,
     "start_time": "2025-09-03T09:11:21.890091",
     "status": "completed"
    },
    "tags": []
   },
   "outputs": [
    {
     "data": {
      "text/plain": [
       "{'T-shirt/top': 0,\n",
       " 'Trouser': 1,\n",
       " 'Pullover': 2,\n",
       " 'Dress': 3,\n",
       " 'Coat': 4,\n",
       " 'Sandal': 5,\n",
       " 'Shirt': 6,\n",
       " 'Sneaker': 7,\n",
       " 'Bag': 8,\n",
       " 'Ankle boot': 9}"
      ]
     },
     "execution_count": 6,
     "metadata": {},
     "output_type": "execute_result"
    }
   ],
   "source": [
    "class_to_idx = train_data.class_to_idx \n",
    "class_to_idx"
   ]
  },
  {
   "cell_type": "code",
   "execution_count": 7,
   "id": "d0e1e944",
   "metadata": {
    "execution": {
     "iopub.execute_input": "2025-09-03T09:11:21.920603Z",
     "iopub.status.busy": "2025-09-03T09:11:21.920421Z",
     "iopub.status.idle": "2025-09-03T09:11:21.924129Z",
     "shell.execute_reply": "2025-09-03T09:11:21.923375Z"
    },
    "papermill": {
     "duration": 0.013035,
     "end_time": "2025-09-03T09:11:21.925152",
     "exception": false,
     "start_time": "2025-09-03T09:11:21.912117",
     "status": "completed"
    },
    "tags": []
   },
   "outputs": [
    {
     "name": "stdout",
     "output_type": "stream",
     "text": [
      "Image shape: torch.Size([1, 28, 28]) -> [color_cannels, height, width]\n",
      "image label: Ankle boot\n"
     ]
    }
   ],
   "source": [
    "print(f\"Image shape: {image.shape} -> [color_cannels, height, width]\")\n",
    "print(f\"image label: {class_names[label]}\")"
   ]
  },
  {
   "cell_type": "markdown",
   "id": "55f579fe",
   "metadata": {
    "papermill": {
     "duration": 0.007684,
     "end_time": "2025-09-03T09:11:21.940719",
     "exception": false,
     "start_time": "2025-09-03T09:11:21.933035",
     "status": "completed"
    },
    "tags": []
   },
   "source": [
    "### 1.2 Visualizing data"
   ]
  },
  {
   "cell_type": "code",
   "execution_count": 8,
   "id": "e65b6728",
   "metadata": {
    "execution": {
     "iopub.execute_input": "2025-09-03T09:11:21.957143Z",
     "iopub.status.busy": "2025-09-03T09:11:21.956938Z",
     "iopub.status.idle": "2025-09-03T09:11:22.186663Z",
     "shell.execute_reply": "2025-09-03T09:11:22.185966Z"
    },
    "papermill": {
     "duration": 0.239336,
     "end_time": "2025-09-03T09:11:22.187889",
     "exception": false,
     "start_time": "2025-09-03T09:11:21.948553",
     "status": "completed"
    },
    "tags": []
   },
   "outputs": [
    {
     "data": {
      "text/plain": [
       "<matplotlib.image.AxesImage at 0x7921122d97d0>"
      ]
     },
     "execution_count": 8,
     "metadata": {},
     "output_type": "execute_result"
    },
    {
     "data": {
      "image/png": "[encoded data removed]",
      "text/plain": [
       "<Figure size 640x480 with 1 Axes>"
      ]
     },
     "metadata": {},
     "output_type": "display_data"
    }
   ],
   "source": [
    "import matplotlib.pyplot as plt \n",
    "\n",
    "image, label = train_data[0]\n",
    "plt.imshow(image.squeeze()) # we need squeeze to remove the color channel dimension"
   ]
  },
  {
   "cell_type": "code",
   "execution_count": 9,
   "id": "e25eb19f",
   "metadata": {
    "execution": {
     "iopub.execute_input": "2025-09-03T09:11:22.205981Z",
     "iopub.status.busy": "2025-09-03T09:11:22.205413Z",
     "iopub.status.idle": "2025-09-03T09:11:22.288831Z",
     "shell.execute_reply": "2025-09-03T09:11:22.288051Z"
    },
    "papermill": {
     "duration": 0.093477,
     "end_time": "2025-09-03T09:11:22.290021",
     "exception": false,
     "start_time": "2025-09-03T09:11:22.196544",
     "status": "completed"
    },
    "tags": []
   },
   "outputs": [
    {
     "data": {
      "text/plain": [
       "(-0.5, 27.5, 27.5, -0.5)"
      ]
     },
     "execution_count": 9,
     "metadata": {},
     "output_type": "execute_result"
    },
    {
     "data": {
      "image/png": "[encoded data removed]",
      "text/plain": [
       "<Figure size 640x480 with 1 Axes>"
      ]
     },
     "metadata": {},
     "output_type": "display_data"
    }
   ],
   "source": [
    "plt.imshow(image.squeeze(), cmap=\"gray\")\n",
    "plt.title(class_names[label])\n",
    "plt.axis(False)"
   ]
  },
  {
   "cell_type": "code",
   "execution_count": 10,
   "id": "3b170b80",
   "metadata": {
    "execution": {
     "iopub.execute_input": "2025-09-03T09:11:22.307759Z",
     "iopub.status.busy": "2025-09-03T09:11:22.307530Z",
     "iopub.status.idle": "2025-09-03T09:11:23.139045Z",
     "shell.execute_reply": "2025-09-03T09:11:23.138334Z"
    },
    "papermill": {
     "duration": 0.84166,
     "end_time": "2025-09-03T09:11:23.140278",
     "exception": false,
     "start_time": "2025-09-03T09:11:22.298618",
     "status": "completed"
    },
    "tags": []
   },
   "outputs": [
    {
     "data": {
      "image/png": "[encoded data removed]",
      "text/plain": [
       "<Figure size 900x900 with 16 Axes>"
      ]
     },
     "metadata": {},
     "output_type": "display_data"
    }
   ],
   "source": [
    "# plot more images \n",
    "# torch.manual_seed(42)\n",
    "\n",
    "fig = plt.figure(figsize=(9,9))\n",
    "rows, cols = 4,4 \n",
    "for i in range(1, rows*cols+1):\n",
    "    random_idx = torch.randint(0, len(train_data), size=[1]).item()\n",
    "    # print(random_idx)\n",
    "    img, label = train_data[random_idx]\n",
    "    fig.add_subplot(rows,cols,i)\n",
    "    plt.imshow(img.squeeze(), cmap=\"gray\")\n",
    "    plt.title(class_names[label])\n",
    "    plt.axis(False)"
   ]
  },
  {
   "cell_type": "code",
   "execution_count": 11,
   "id": "38db209c",
   "metadata": {
    "execution": {
     "iopub.execute_input": "2025-09-03T09:11:23.160311Z",
     "iopub.status.busy": "2025-09-03T09:11:23.159767Z",
     "iopub.status.idle": "2025-09-03T09:11:23.164301Z",
     "shell.execute_reply": "2025-09-03T09:11:23.163730Z"
    },
    "papermill": {
     "duration": 0.015598,
     "end_time": "2025-09-03T09:11:23.165494",
     "exception": false,
     "start_time": "2025-09-03T09:11:23.149896",
     "status": "completed"
    },
    "tags": []
   },
   "outputs": [
    {
     "data": {
      "text/plain": [
       "(Dataset FashionMNIST\n",
       "     Number of datapoints: 60000\n",
       "     Root location: data\n",
       "     Split: Train\n",
       "     StandardTransform\n",
       " Transform: ToTensor(),\n",
       " Dataset FashionMNIST\n",
       "     Number of datapoints: 10000\n",
       "     Root location: data\n",
       "     Split: Test\n",
       "     StandardTransform\n",
       " Transform: ToTensor())"
      ]
     },
     "execution_count": 11,
     "metadata": {},
     "output_type": "execute_result"
    }
   ],
   "source": [
    "train_data, test_data"
   ]
  },
  {
   "cell_type": "markdown",
   "id": "c4290281",
   "metadata": {
    "papermill": {
     "duration": 0.009339,
     "end_time": "2025-09-03T09:11:23.229708",
     "exception": false,
     "start_time": "2025-09-03T09:11:23.220369",
     "status": "completed"
    },
    "tags": []
   },
   "source": [
    "## 2. Prepare DataLoader\n",
    "\n",
    "* Right now data is in the form of PyTorch Datasets\n",
    "* DataLoader turns the dataset into a Python iterable\n",
    "* more specifically, we want to turn our data into batches (or mini batches)\n",
    "  1. it is more computationally efficient, as in the computing hardware may not be able to look (store in memory) at 6000 images in one hit. So we break it down to 32 images at a time (batch size = 32)\n",
    "    2. it gives our NN more chances to update its ggradients per epoch (every 32 images)"
   ]
  },
  {
   "cell_type": "code",
   "execution_count": 12,
   "id": "2d0f4573",
   "metadata": {
    "execution": {
     "iopub.execute_input": "2025-09-03T09:11:23.249252Z",
     "iopub.status.busy": "2025-09-03T09:11:23.248979Z",
     "iopub.status.idle": "2025-09-03T09:11:23.254768Z",
     "shell.execute_reply": "2025-09-03T09:11:23.254097Z"
    },
    "papermill": {
     "duration": 0.017075,
     "end_time": "2025-09-03T09:11:23.255922",
     "exception": false,
     "start_time": "2025-09-03T09:11:23.238847",
     "status": "completed"
    },
    "tags": []
   },
   "outputs": [
    {
     "data": {
      "text/plain": [
       "(<torch.utils.data.dataloader.DataLoader at 0x7921116b33d0>,\n",
       " <torch.utils.data.dataloader.DataLoader at 0x79210817d750>)"
      ]
     },
     "execution_count": 12,
     "metadata": {},
     "output_type": "execute_result"
    }
   ],
   "source": [
    "from torch.utils.data import DataLoader \n",
    "\n",
    "# setup the batch size hyperparameter \n",
    "BATCH_SIZE = 32 \n",
    "\n",
    "# turn dataset into iterables (batches)\n",
    "train_dataloader = DataLoader(\n",
    "    dataset=train_data,\n",
    "    batch_size=BATCH_SIZE,\n",
    "    shuffle=True\n",
    ")\n",
    "\n",
    "test_dataloader = DataLoader(\n",
    "    dataset=test_data, \n",
    "    batch_size=BATCH_SIZE,\n",
    "    shuffle=False\n",
    ")\n",
    "\n",
    "train_dataloader, test_dataloader"
   ]
  },
  {
   "cell_type": "code",
   "execution_count": 13,
   "id": "6688286f",
   "metadata": {
    "execution": {
     "iopub.execute_input": "2025-09-03T09:11:23.275252Z",
     "iopub.status.busy": "2025-09-03T09:11:23.275033Z",
     "iopub.status.idle": "2025-09-03T09:11:23.279433Z",
     "shell.execute_reply": "2025-09-03T09:11:23.278703Z"
    },
    "papermill": {
     "duration": 0.015436,
     "end_time": "2025-09-03T09:11:23.280605",
     "exception": false,
     "start_time": "2025-09-03T09:11:23.265169",
     "status": "completed"
    },
    "tags": []
   },
   "outputs": [
    {
     "name": "stdout",
     "output_type": "stream",
     "text": [
      "Dataloaders: (<torch.utils.data.dataloader.DataLoader object at 0x7921116b33d0>, <torch.utils.data.dataloader.DataLoader object at 0x79210817d750>)\n",
      "Length of train_dataloader: 1875,batches of 32...\n",
      "Length of test_dataloader: 313, batches of 32\n"
     ]
    }
   ],
   "source": [
    "print(f\"Dataloaders: {train_dataloader, test_dataloader}\")\n",
    "print(f\"Length of train_dataloader: {len(train_dataloader)},batches of {BATCH_SIZE}...\")\n",
    "print(f\"Length of test_dataloader: {len(test_dataloader)}, batches of {BATCH_SIZE}\")"
   ]
  },
  {
   "cell_type": "code",
   "execution_count": 14,
   "id": "76d2b76a",
   "metadata": {
    "execution": {
     "iopub.execute_input": "2025-09-03T09:11:23.300253Z",
     "iopub.status.busy": "2025-09-03T09:11:23.299851Z",
     "iopub.status.idle": "2025-09-03T09:11:23.304236Z",
     "shell.execute_reply": "2025-09-03T09:11:23.303526Z"
    },
    "papermill": {
     "duration": 0.015316,
     "end_time": "2025-09-03T09:11:23.305300",
     "exception": false,
     "start_time": "2025-09-03T09:11:23.289984",
     "status": "completed"
    },
    "tags": []
   },
   "outputs": [
    {
     "data": {
      "text/plain": [
       "(312.5, 10000.0)"
      ]
     },
     "execution_count": 14,
     "metadata": {},
     "output_type": "execute_result"
    }
   ],
   "source": [
    "10000/32, 32*312.5"
   ]
  },
  {
   "cell_type": "code",
   "execution_count": 15,
   "id": "b7169a0b",
   "metadata": {
    "execution": {
     "iopub.execute_input": "2025-09-03T09:11:23.324905Z",
     "iopub.status.busy": "2025-09-03T09:11:23.324239Z",
     "iopub.status.idle": "2025-09-03T09:11:23.341859Z",
     "shell.execute_reply": "2025-09-03T09:11:23.341310Z"
    },
    "papermill": {
     "duration": 0.028308,
     "end_time": "2025-09-03T09:11:23.342876",
     "exception": false,
     "start_time": "2025-09-03T09:11:23.314568",
     "status": "completed"
    },
    "tags": []
   },
   "outputs": [
    {
     "data": {
      "text/plain": [
       "(torch.Size([32, 1, 28, 28]), torch.Size([32]))"
      ]
     },
     "execution_count": 15,
     "metadata": {},
     "output_type": "execute_result"
    }
   ],
   "source": [
    "train_features_batch, train_labels_batch = next(iter(train_dataloader)) # iter turns train_dataloader into an iterable and next gets us the next batch\n",
    "train_features_batch.shape, train_labels_batch.shape"
   ]
  },
  {
   "cell_type": "code",
   "execution_count": 16,
   "id": "d2cd80f6",
   "metadata": {
    "execution": {
     "iopub.execute_input": "2025-09-03T09:11:23.362809Z",
     "iopub.status.busy": "2025-09-03T09:11:23.362230Z",
     "iopub.status.idle": "2025-09-03T09:11:23.447592Z",
     "shell.execute_reply": "2025-09-03T09:11:23.446806Z"
    },
    "papermill": {
     "duration": 0.096408,
     "end_time": "2025-09-03T09:11:23.448748",
     "exception": false,
     "start_time": "2025-09-03T09:11:23.352340",
     "status": "completed"
    },
    "tags": []
   },
   "outputs": [
    {
     "name": "stdout",
     "output_type": "stream",
     "text": [
      "Image size: torch.Size([1, 28, 28])\n",
      "Label: 6, label size: torch.Size([])\n"
     ]
    },
    {
     "data": {
      "image/png": "[encoded data removed]",
      "text/plain": [
       "<Figure size 640x480 with 1 Axes>"
      ]
     },
     "metadata": {},
     "output_type": "display_data"
    }
   ],
   "source": [
    "# show a sample \n",
    "torch.manual_seed(42)\n",
    "random_idx = torch.randint(0,len(train_features_batch), size=[1]).item()\n",
    "img, label = train_features_batch[random_idx], train_labels_batch[random_idx]\n",
    "plt.imshow(img.squeeze(), cmap=\"gray\")\n",
    "plt.title(class_names[label])\n",
    "plt.axis(False)\n",
    "print(f\"Image size: {img.shape}\")\n",
    "print(f\"Label: {label}, label size: {label.shape}\")"
   ]
  },
  {
   "cell_type": "markdown",
   "id": "80d83636",
   "metadata": {
    "papermill": {
     "duration": 0.009352,
     "end_time": "2025-09-03T09:11:23.468098",
     "exception": false,
     "start_time": "2025-09-03T09:11:23.458746",
     "status": "completed"
    },
    "tags": []
   },
   "source": [
    "## 3. Model 0: baseline model "
   ]
  },
  {
   "cell_type": "code",
   "execution_count": 17,
   "id": "53cf7c25",
   "metadata": {
    "execution": {
     "iopub.execute_input": "2025-09-03T09:11:23.487922Z",
     "iopub.status.busy": "2025-09-03T09:11:23.487671Z",
     "iopub.status.idle": "2025-09-03T09:11:23.492226Z",
     "shell.execute_reply": "2025-09-03T09:11:23.491722Z"
    },
    "papermill": {
     "duration": 0.01571,
     "end_time": "2025-09-03T09:11:23.493251",
     "exception": false,
     "start_time": "2025-09-03T09:11:23.477541",
     "status": "completed"
    },
    "tags": []
   },
   "outputs": [
    {
     "data": {
      "text/plain": [
       "torch.Size([1, 28, 28])"
      ]
     },
     "execution_count": 17,
     "metadata": {},
     "output_type": "execute_result"
    }
   ],
   "source": [
    "# create a flatten layer \n",
    "flatten_model = nn.Flatten()\n",
    "\n",
    "# get a single sample \n",
    "x = train_features_batch[0]\n",
    "x.shape"
   ]
  },
  {
   "cell_type": "code",
   "execution_count": 18,
   "id": "6cfba35e",
   "metadata": {
    "execution": {
     "iopub.execute_input": "2025-09-03T09:11:23.513848Z",
     "iopub.status.busy": "2025-09-03T09:11:23.513580Z",
     "iopub.status.idle": "2025-09-03T09:11:23.517877Z",
     "shell.execute_reply": "2025-09-03T09:11:23.517342Z"
    },
    "papermill": {
     "duration": 0.015935,
     "end_time": "2025-09-03T09:11:23.518958",
     "exception": false,
     "start_time": "2025-09-03T09:11:23.503023",
     "status": "completed"
    },
    "tags": []
   },
   "outputs": [
    {
     "name": "stdout",
     "output_type": "stream",
     "text": [
      "Shape before flattening: torch.Size([1, 28, 28]) -> [C, H, W]\n",
      "Shape after flattening: torch.Size([1, 784]) -> [C, H*W]\n"
     ]
    }
   ],
   "source": [
    "# flatten the sample \n",
    "output = flatten_model(x)\n",
    "print(f\"Shape before flattening: {x.shape} -> [C, H, W]\")\n",
    "print(f\"Shape after flattening: {output.shape} -> [C, H*W]\")"
   ]
  },
  {
   "cell_type": "code",
   "execution_count": 19,
   "id": "f2801b40",
   "metadata": {
    "execution": {
     "iopub.execute_input": "2025-09-03T09:11:23.539728Z",
     "iopub.status.busy": "2025-09-03T09:11:23.539525Z",
     "iopub.status.idle": "2025-09-03T09:11:23.543854Z",
     "shell.execute_reply": "2025-09-03T09:11:23.543175Z"
    },
    "papermill": {
     "duration": 0.016249,
     "end_time": "2025-09-03T09:11:23.544968",
     "exception": false,
     "start_time": "2025-09-03T09:11:23.528719",
     "status": "completed"
    },
    "tags": []
   },
   "outputs": [],
   "source": [
    "from torch import nn \n",
    "class FashionMNISTModelV0(nn.Module):\n",
    "    def __init__(\n",
    "        self, \n",
    "        input_shape: int, \n",
    "        hidden_units: int,\n",
    "        output_shape: int\n",
    "    ) :\n",
    "        super().__init__()\n",
    "        self.layer_stack = nn.Sequential(\n",
    "            nn.Flatten(),\n",
    "            nn.Linear(\n",
    "                in_features = input_shape,\n",
    "                out_features = hidden_units\n",
    "            ),\n",
    "            nn.Linear(\n",
    "                in_features = hidden_units,\n",
    "                out_features = output_shape\n",
    "            )\n",
    "        )\n",
    "\n",
    "    def forward(self, x):\n",
    "        return self.layer_stack(x)"
   ]
  },
  {
   "cell_type": "code",
   "execution_count": 20,
   "id": "65e8a971",
   "metadata": {
    "execution": {
     "iopub.execute_input": "2025-09-03T09:11:23.565548Z",
     "iopub.status.busy": "2025-09-03T09:11:23.565063Z",
     "iopub.status.idle": "2025-09-03T09:11:23.571661Z",
     "shell.execute_reply": "2025-09-03T09:11:23.570952Z"
    },
    "papermill": {
     "duration": 0.018001,
     "end_time": "2025-09-03T09:11:23.572809",
     "exception": false,
     "start_time": "2025-09-03T09:11:23.554808",
     "status": "completed"
    },
    "tags": []
   },
   "outputs": [
    {
     "data": {
      "text/plain": [
       "FashionMNISTModelV0(\n",
       "  (layer_stack): Sequential(\n",
       "    (0): Flatten(start_dim=1, end_dim=-1)\n",
       "    (1): Linear(in_features=784, out_features=10, bias=True)\n",
       "    (2): Linear(in_features=10, out_features=10, bias=True)\n",
       "  )\n",
       ")"
      ]
     },
     "execution_count": 20,
     "metadata": {},
     "output_type": "execute_result"
    }
   ],
   "source": [
    "torch.manual_seed(42)\n",
    "\n",
    "# setup model with input parameters \n",
    "model_0 = FashionMNISTModelV0(\n",
    "    input_shape = 28*28, # 784\n",
    "    hidden_units = 10, \n",
    "    output_shape= len(class_names) # one for each class\n",
    ")\n",
    "\n",
    "model_0"
   ]
  },
  {
   "cell_type": "code",
   "execution_count": 21,
   "id": "986702fb",
   "metadata": {
    "execution": {
     "iopub.execute_input": "2025-09-03T09:11:23.592975Z",
     "iopub.status.busy": "2025-09-03T09:11:23.592781Z",
     "iopub.status.idle": "2025-09-03T09:11:23.606866Z",
     "shell.execute_reply": "2025-09-03T09:11:23.606302Z"
    },
    "papermill": {
     "duration": 0.025424,
     "end_time": "2025-09-03T09:11:23.607968",
     "exception": false,
     "start_time": "2025-09-03T09:11:23.582544",
     "status": "completed"
    },
    "tags": []
   },
   "outputs": [
    {
     "data": {
      "text/plain": [
       "tensor([[-0.0315,  0.3171,  0.0531, -0.2525,  0.5959,  0.2112,  0.3233,  0.2694,\n",
       "         -0.1004,  0.0157]], grad_fn=<AddmmBackward0>)"
      ]
     },
     "execution_count": 21,
     "metadata": {},
     "output_type": "execute_result"
    }
   ],
   "source": [
    "dummy_x = torch.rand([1,1,28,28])\n",
    "model_0(dummy_x)"
   ]
  },
  {
   "cell_type": "code",
   "execution_count": 22,
   "id": "5fd7fc02",
   "metadata": {
    "execution": {
     "iopub.execute_input": "2025-09-03T09:11:23.629046Z",
     "iopub.status.busy": "2025-09-03T09:11:23.628463Z",
     "iopub.status.idle": "2025-09-03T09:11:23.637177Z",
     "shell.execute_reply": "2025-09-03T09:11:23.636647Z"
    },
    "papermill": {
     "duration": 0.02043,
     "end_time": "2025-09-03T09:11:23.638182",
     "exception": false,
     "start_time": "2025-09-03T09:11:23.617752",
     "status": "completed"
    },
    "tags": []
   },
   "outputs": [
    {
     "data": {
      "text/plain": [
       "OrderedDict([('layer_stack.1.weight',\n",
       "              tensor([[ 0.0273,  0.0296, -0.0084,  ..., -0.0142,  0.0093,  0.0135],\n",
       "                      [-0.0188, -0.0354,  0.0187,  ..., -0.0106, -0.0001,  0.0115],\n",
       "                      [-0.0008,  0.0017,  0.0045,  ..., -0.0127, -0.0188,  0.0059],\n",
       "                      ...,\n",
       "                      [-0.0116,  0.0273, -0.0344,  ...,  0.0176,  0.0283, -0.0011],\n",
       "                      [-0.0230,  0.0257,  0.0291,  ..., -0.0187, -0.0087,  0.0001],\n",
       "                      [ 0.0176, -0.0147,  0.0053,  ..., -0.0336, -0.0221,  0.0205]])),\n",
       "             ('layer_stack.1.bias',\n",
       "              tensor([-0.0093,  0.0283, -0.0033,  0.0255,  0.0017,  0.0037, -0.0302, -0.0123,\n",
       "                       0.0018,  0.0163])),\n",
       "             ('layer_stack.2.weight',\n",
       "              tensor([[ 0.0614, -0.0687,  0.0021,  0.2718,  0.2109,  0.1079, -0.2279, -0.1063,\n",
       "                        0.2019,  0.2847],\n",
       "                      [-0.1495,  0.1344, -0.0740,  0.2006, -0.0475, -0.2514, -0.3130, -0.0118,\n",
       "                        0.0932, -0.1864],\n",
       "                      [ 0.2488,  0.1500,  0.1907,  0.1457, -0.3050, -0.0580,  0.1643,  0.1565,\n",
       "                       -0.2877, -0.1792],\n",
       "                      [ 0.2305, -0.2618,  0.2397, -0.0610,  0.0232,  0.1542,  0.0851, -0.2027,\n",
       "                        0.1030, -0.2715],\n",
       "                      [-0.1596, -0.0555, -0.0633,  0.2302, -0.1726,  0.2654,  0.1473,  0.1029,\n",
       "                        0.2252, -0.2160],\n",
       "                      [-0.2725,  0.0118,  0.1559,  0.1596,  0.0132,  0.3024,  0.1124,  0.1366,\n",
       "                       -0.1533,  0.0965],\n",
       "                      [-0.1184, -0.2555, -0.2057, -0.1909, -0.0477, -0.1324,  0.2905,  0.1307,\n",
       "                       -0.2629,  0.0133],\n",
       "                      [ 0.2727, -0.0127,  0.0513,  0.0863, -0.1043, -0.2047, -0.1185, -0.0825,\n",
       "                        0.2488, -0.2571],\n",
       "                      [ 0.0425, -0.1209, -0.0336, -0.0281, -0.1227,  0.0730,  0.0747, -0.1816,\n",
       "                        0.1943,  0.2853],\n",
       "                      [-0.1310,  0.0645, -0.1171,  0.2168, -0.0245, -0.2820,  0.0736,  0.2621,\n",
       "                        0.0012, -0.0810]])),\n",
       "             ('layer_stack.2.bias',\n",
       "              tensor([-0.0087,  0.1791,  0.2712, -0.0791,  0.1685,  0.1762,  0.2825,  0.2266,\n",
       "                      -0.2612, -0.2613]))])"
      ]
     },
     "execution_count": 22,
     "metadata": {},
     "output_type": "execute_result"
    }
   ],
   "source": [
    "model_0.state_dict()"
   ]
  },
  {
   "cell_type": "markdown",
   "id": "c4d86e5c",
   "metadata": {
    "papermill": {
     "duration": 0.010012,
     "end_time": "2025-09-03T09:11:23.658152",
     "exception": false,
     "start_time": "2025-09-03T09:11:23.648140",
     "status": "completed"
    },
    "tags": []
   },
   "source": [
    "### 3.1 Setup loss, optimizer and evaluation metrics \n",
    "* Loss function : since we're working with multi-class data -> `nn.CrossEntropyLoss()`\n",
    "* Optimizer : stochastic gradient descent -> `torch.optim.SGD()`\n",
    "* Evaluation metric : since we are working on a classification problem, let's use accuracy "
   ]
  },
  {
   "cell_type": "code",
   "execution_count": 23,
   "id": "d4a958e2",
   "metadata": {
    "execution": {
     "iopub.execute_input": "2025-09-03T09:11:23.678785Z",
     "iopub.status.busy": "2025-09-03T09:11:23.678592Z",
     "iopub.status.idle": "2025-09-03T09:11:23.908072Z",
     "shell.execute_reply": "2025-09-03T09:11:23.907293Z"
    },
    "papermill": {
     "duration": 0.241295,
     "end_time": "2025-09-03T09:11:23.909147",
     "exception": false,
     "start_time": "2025-09-03T09:11:23.667852",
     "status": "completed"
    },
    "tags": []
   },
   "outputs": [
    {
     "name": "stdout",
     "output_type": "stream",
     "text": [
      "Downloading helper_functions.py\n"
     ]
    }
   ],
   "source": [
    "import requests \n",
    "from pathlib import Path \n",
    "\n",
    "if Path(\"helper_functions.py\").is_file() :\n",
    "    print(\"helper_functions.py already exists, skipping download\")\n",
    "else : \n",
    "    print(\"Downloading helper_functions.py\")\n",
    "    request = requests.get(\"https://raw.githubusercontent.com/mrdbourke/pytorch-deep-learning/af6548e52663c8395fe2777bd0fbfd6ac85fd6f8/helper_functions.py\")\n",
    "    with open(\"helper_functions.py\", \"wb\") as f:\n",
    "        f.write(request.content)"
   ]
  },
  {
   "cell_type": "code",
   "execution_count": 24,
   "id": "ca4f613c",
   "metadata": {
    "execution": {
     "iopub.execute_input": "2025-09-03T09:11:23.931122Z",
     "iopub.status.busy": "2025-09-03T09:11:23.930914Z",
     "iopub.status.idle": "2025-09-03T09:11:24.060554Z",
     "shell.execute_reply": "2025-09-03T09:11:24.059828Z"
    },
    "papermill": {
     "duration": 0.141935,
     "end_time": "2025-09-03T09:11:24.061877",
     "exception": false,
     "start_time": "2025-09-03T09:11:23.919942",
     "status": "completed"
    },
    "tags": []
   },
   "outputs": [
    {
     "name": "stdout",
     "output_type": "stream",
     "text": [
      "data  helper_functions.py  __notebook__.ipynb\r\n"
     ]
    }
   ],
   "source": [
    "!ls"
   ]
  },
  {
   "cell_type": "code",
   "execution_count": 25,
   "id": "c990c228",
   "metadata": {
    "execution": {
     "iopub.execute_input": "2025-09-03T09:11:24.083267Z",
     "iopub.status.busy": "2025-09-03T09:11:24.083057Z",
     "iopub.status.idle": "2025-09-03T09:11:24.150282Z",
     "shell.execute_reply": "2025-09-03T09:11:24.149491Z"
    },
    "papermill": {
     "duration": 0.079647,
     "end_time": "2025-09-03T09:11:24.151766",
     "exception": false,
     "start_time": "2025-09-03T09:11:24.072119",
     "status": "completed"
    },
    "tags": []
   },
   "outputs": [],
   "source": [
    "from helper_functions import accuracy_fn \n",
    "\n",
    "# setup loss function and optimizer \n",
    "loss_fn = nn.CrossEntropyLoss()\n",
    "optimizer = torch.optim.SGD(\n",
    "    params=model_0.parameters(),\n",
    "    lr=0.1\n",
    ")"
   ]
  },
  {
   "cell_type": "markdown",
   "id": "2a984228",
   "metadata": {
    "papermill": {
     "duration": 0.009917,
     "end_time": "2025-09-03T09:11:24.172423",
     "exception": false,
     "start_time": "2025-09-03T09:11:24.162506",
     "status": "completed"
    },
    "tags": []
   },
   "source": [
    "### 3.2 Creating a function to time our experiments\n",
    "\n",
    "ML is very experimental. Two of the main things we want to track are:\n",
    "1. Model's performance (e.g. loss and accuracy)\n",
    "2. How fast it runs "
   ]
  },
  {
   "cell_type": "code",
   "execution_count": 26,
   "id": "7d888ac6",
   "metadata": {
    "execution": {
     "iopub.execute_input": "2025-09-03T09:11:24.193425Z",
     "iopub.status.busy": "2025-09-03T09:11:24.193175Z",
     "iopub.status.idle": "2025-09-03T09:11:24.197155Z",
     "shell.execute_reply": "2025-09-03T09:11:24.196469Z"
    },
    "papermill": {
     "duration": 0.016,
     "end_time": "2025-09-03T09:11:24.198335",
     "exception": false,
     "start_time": "2025-09-03T09:11:24.182335",
     "status": "completed"
    },
    "tags": []
   },
   "outputs": [],
   "source": [
    "from timeit import default_timer as timer \n",
    "def print_train_time(\n",
    "    start: float, \n",
    "    end: float, \n",
    "    device: torch.device = None\n",
    "):\n",
    "    \"\"\"\n",
    "    Prints difference between start and end time\n",
    "    \"\"\"\n",
    "    total_time = end - start\n",
    "    print(f\"Train time on {device}: {total_time:.3f} seconds\")\n",
    "    return total_time "
   ]
  },
  {
   "cell_type": "code",
   "execution_count": 27,
   "id": "927a1441",
   "metadata": {
    "execution": {
     "iopub.execute_input": "2025-09-03T09:11:24.218862Z",
     "iopub.status.busy": "2025-09-03T09:11:24.218652Z",
     "iopub.status.idle": "2025-09-03T09:11:24.223661Z",
     "shell.execute_reply": "2025-09-03T09:11:24.223101Z"
    },
    "papermill": {
     "duration": 0.016571,
     "end_time": "2025-09-03T09:11:24.224664",
     "exception": false,
     "start_time": "2025-09-03T09:11:24.208093",
     "status": "completed"
    },
    "tags": []
   },
   "outputs": [
    {
     "name": "stdout",
     "output_type": "stream",
     "text": [
      "Train time on cpu: 0.000 seconds\n"
     ]
    },
    {
     "data": {
      "text/plain": [
       "2.4400000029345392e-05"
      ]
     },
     "execution_count": 27,
     "metadata": {},
     "output_type": "execute_result"
    }
   ],
   "source": [
    "start_time = timer()\n",
    "# code \n",
    "end_time = timer()\n",
    "print_train_time(start_time, end_time, \"cpu\")"
   ]
  },
  {
   "cell_type": "markdown",
   "id": "84bdd46b",
   "metadata": {
    "papermill": {
     "duration": 0.009893,
     "end_time": "2025-09-03T09:11:24.244677",
     "exception": false,
     "start_time": "2025-09-03T09:11:24.234784",
     "status": "completed"
    },
    "tags": []
   },
   "source": [
    "### 3.3 Creating a training loop and training the model on batches of data \n",
    "1. Loop through epochs\n",
    "2. Loop through training batches, perform training steps, calculate the train loss *per batch*\n",
    "3. Loop through testing batches, perform testing steps, calculate the test loss *per batch*\n",
    "4. Print out what's happning\n",
    "5. Time it all\n",
    "\n",
    "The **optimizer** will update a model's parameters **once per batch rather than once per epoch**"
   ]
  },
  {
   "cell_type": "code",
   "execution_count": 28,
   "id": "ae65612a",
   "metadata": {
    "execution": {
     "iopub.execute_input": "2025-09-03T09:11:24.271143Z",
     "iopub.status.busy": "2025-09-03T09:11:24.270566Z",
     "iopub.status.idle": "2025-09-03T09:11:47.181060Z",
     "shell.execute_reply": "2025-09-03T09:11:47.180248Z"
    },
    "papermill": {
     "duration": 22.924438,
     "end_time": "2025-09-03T09:11:47.182604",
     "exception": false,
     "start_time": "2025-09-03T09:11:24.258166",
     "status": "completed"
    },
    "tags": []
   },
   "outputs": [
    {
     "data": {
      "application/vnd.jupyter.widget-view+json": {
       "model_id": "d93bbcac128a4638a9968467230fa823",
       "version_major": 2,
       "version_minor": 0
      },
      "text/plain": [
       "  0%|          | 0/3 [00:00<?, ?it/s]"
      ]
     },
     "metadata": {},
     "output_type": "display_data"
    },
    {
     "name": "stdout",
     "output_type": "stream",
     "text": [
      "Epoch: 0\n",
      "-------\n",
      "Looked at 0/60000 samples\n",
      "Looked at 12800/60000 samples\n",
      "Looked at 25600/60000 samples\n",
      "Looked at 38400/60000 samples\n",
      "Looked at 51200/60000 samples\n",
      "\n",
      "Train loss: 0.59039 | Test loss: 0.50954, Test acc: 82.04%\n",
      "\n",
      "Epoch: 1\n",
      "-------\n",
      "Looked at 0/60000 samples\n",
      "Looked at 12800/60000 samples\n",
      "Looked at 25600/60000 samples\n",
      "Looked at 38400/60000 samples\n",
      "Looked at 51200/60000 samples\n",
      "\n",
      "Train loss: 0.47633 | Test loss: 0.47989, Test acc: 83.20%\n",
      "\n",
      "Epoch: 2\n",
      "-------\n",
      "Looked at 0/60000 samples\n",
      "Looked at 12800/60000 samples\n",
      "Looked at 25600/60000 samples\n",
      "Looked at 38400/60000 samples\n",
      "Looked at 51200/60000 samples\n",
      "\n",
      "Train loss: 0.45503 | Test loss: 0.47664, Test acc: 83.43%\n",
      "\n",
      "Train time on cpu: 22.783 seconds\n"
     ]
    }
   ],
   "source": [
    "# Import tqdm for progress bar\n",
    "from tqdm.auto import tqdm\n",
    "\n",
    "# Set the seed and start the timer\n",
    "torch.manual_seed(42)\n",
    "train_time_start_on_cpu = timer()\n",
    "\n",
    "# Set the number of epochs (we'll keep this small for faster training times)\n",
    "epochs = 3\n",
    "\n",
    "# Create training and testing loop\n",
    "for epoch in tqdm(range(epochs)):\n",
    "    print(f\"Epoch: {epoch}\\n-------\")\n",
    "    ### Training\n",
    "    train_loss = 0\n",
    "    # Add a loop to loop through training batches\n",
    "    for batch, (X, y) in enumerate(train_dataloader):\n",
    "        model_0.train() \n",
    "        # 1. Forward pass\n",
    "        y_pred = model_0(X)\n",
    "\n",
    "        # 2. Calculate loss (per batch)\n",
    "        loss = loss_fn(y_pred, y)\n",
    "        train_loss += loss # accumulatively add up the loss per epoch \n",
    "\n",
    "        # 3. Optimizer zero grad\n",
    "        optimizer.zero_grad()\n",
    "\n",
    "        # 4. Loss backward\n",
    "        loss.backward()\n",
    "\n",
    "        # 5. Optimizer step\n",
    "        optimizer.step()\n",
    "\n",
    "        # Print out how many samples have been seen\n",
    "        if batch % 400 == 0:\n",
    "            print(f\"Looked at {batch * len(X)}/{len(train_dataloader.dataset)} samples\")\n",
    "\n",
    "    # Divide total train loss by length of train dataloader (average loss per batch per epoch)\n",
    "    train_loss /= len(train_dataloader)\n",
    "    \n",
    "    ### Testing\n",
    "    # Setup variables for accumulatively adding up loss and accuracy \n",
    "    test_loss, test_acc = 0, 0 \n",
    "    model_0.eval()\n",
    "    with torch.inference_mode():\n",
    "        for X, y in test_dataloader:\n",
    "            # 1. Forward pass\n",
    "            test_pred = model_0(X)\n",
    "           \n",
    "            # 2. Calculate loss (accumulatively)\n",
    "            test_loss += loss_fn(test_pred, y) # accumulatively add up the loss per epoch\n",
    "\n",
    "            # 3. Calculate accuracy (preds need to be same as y_true)\n",
    "            test_acc += accuracy_fn(y_true=y, y_pred=test_pred.argmax(dim=1))\n",
    "        \n",
    "        # Calculations on test metrics need to happen inside torch.inference_mode()\n",
    "        # Divide total test loss by length of test dataloader (per batch)\n",
    "        test_loss /= len(test_dataloader)\n",
    "\n",
    "        # Divide total accuracy by length of test dataloader (per batch)\n",
    "        test_acc /= len(test_dataloader)\n",
    "\n",
    "    ## Print out what's happening\n",
    "    print(f\"\\nTrain loss: {train_loss:.5f} | Test loss: {test_loss:.5f}, Test acc: {test_acc:.2f}%\\n\")\n",
    "\n",
    "# Calculate training time      \n",
    "train_time_end_on_cpu = timer()\n",
    "total_train_time_model_0 = print_train_time(start=train_time_start_on_cpu, \n",
    "                                           end=train_time_end_on_cpu,\n",
    "                                           device=str(next(model_0.parameters()).device))"
   ]
  },
  {
   "cell_type": "markdown",
   "id": "9d9d6aad",
   "metadata": {
    "papermill": {
     "duration": 0.011062,
     "end_time": "2025-09-03T09:11:47.205977",
     "exception": false,
     "start_time": "2025-09-03T09:11:47.194915",
     "status": "completed"
    },
    "tags": []
   },
   "source": [
    "## 4. Make predicions and get model_0 results"
   ]
  },
  {
   "cell_type": "code",
   "execution_count": 29,
   "id": "17b60241",
   "metadata": {
    "execution": {
     "iopub.execute_input": "2025-09-03T09:11:47.230247Z",
     "iopub.status.busy": "2025-09-03T09:11:47.229800Z",
     "iopub.status.idle": "2025-09-03T09:11:48.111225Z",
     "shell.execute_reply": "2025-09-03T09:11:48.110391Z"
    },
    "papermill": {
     "duration": 0.89485,
     "end_time": "2025-09-03T09:11:48.112488",
     "exception": false,
     "start_time": "2025-09-03T09:11:47.217638",
     "status": "completed"
    },
    "tags": []
   },
   "outputs": [
    {
     "data": {
      "text/plain": [
       "{'model_name': 'FashionMNISTModelV0',\n",
       " 'model_loss': 0.47663894295692444,\n",
       " 'model_acc': 83.42651757188499}"
      ]
     },
     "execution_count": 29,
     "metadata": {},
     "output_type": "execute_result"
    }
   ],
   "source": [
    "torch.manual_seed(42)\n",
    "def eval_model(model: torch.nn.Module, \n",
    "               data_loader: torch.utils.data.DataLoader, \n",
    "               loss_fn: torch.nn.Module, \n",
    "               accuracy_fn):\n",
    "    \"\"\"Returns a dictionary containing the results of model predicting on data_loader.\n",
    "\n",
    "    Args:\n",
    "        model (torch.nn.Module): A PyTorch model capable of making predictions on data_loader.\n",
    "        data_loader (torch.utils.data.DataLoader): The target dataset to predict on.\n",
    "        loss_fn (torch.nn.Module): The loss function of model.\n",
    "        accuracy_fn: An accuracy function to compare the models predictions to the truth labels.\n",
    "\n",
    "    Returns:\n",
    "        (dict): Results of model making predictions on data_loader.\n",
    "    \"\"\"\n",
    "    loss, acc = 0, 0\n",
    "    model.eval()\n",
    "    with torch.inference_mode():\n",
    "        for X, y in data_loader:\n",
    "            # Make predictions with the model\n",
    "            y_pred = model(X)\n",
    "            \n",
    "            # Accumulate the loss and accuracy values per batch\n",
    "            loss += loss_fn(y_pred, y)\n",
    "            acc += accuracy_fn(y_true=y, \n",
    "                                y_pred=y_pred.argmax(dim=1)) # For accuracy, need the prediction labels (logits -> pred_prob -> pred_labels)\n",
    "        \n",
    "        # Scale loss and acc to find the average loss/acc per batch\n",
    "        loss /= len(data_loader)\n",
    "        acc /= len(data_loader)\n",
    "        \n",
    "    return {\"model_name\": model.__class__.__name__, # only works when model was created with a class\n",
    "            \"model_loss\": loss.item(),\n",
    "            \"model_acc\": acc}\n",
    "\n",
    "# Calculate model 0 results on test dataset\n",
    "model_0_results = eval_model(model=model_0, data_loader=test_dataloader,\n",
    "    loss_fn=loss_fn, accuracy_fn=accuracy_fn\n",
    ")\n",
    "model_0_results"
   ]
  },
  {
   "cell_type": "markdown",
   "id": "fe93dd47",
   "metadata": {
    "papermill": {
     "duration": 0.010839,
     "end_time": "2025-09-03T09:11:48.134932",
     "exception": false,
     "start_time": "2025-09-03T09:11:48.124093",
     "status": "completed"
    },
    "tags": []
   },
   "source": [
    "### 5. Setup device agnostic-code (for using a GPU if there is one available)"
   ]
  },
  {
   "cell_type": "code",
   "execution_count": 30,
   "id": "faea5d1f",
   "metadata": {
    "execution": {
     "iopub.execute_input": "2025-09-03T09:11:48.157934Z",
     "iopub.status.busy": "2025-09-03T09:11:48.157696Z",
     "iopub.status.idle": "2025-09-03T09:11:48.334002Z",
     "shell.execute_reply": "2025-09-03T09:11:48.333251Z"
    },
    "papermill": {
     "duration": 0.189514,
     "end_time": "2025-09-03T09:11:48.335312",
     "exception": false,
     "start_time": "2025-09-03T09:11:48.145798",
     "status": "completed"
    },
    "tags": []
   },
   "outputs": [
    {
     "name": "stdout",
     "output_type": "stream",
     "text": [
      "Wed Sep  3 09:11:48 2025       \r\n",
      "+-----------------------------------------------------------------------------------------+\r\n",
      "| NVIDIA-SMI 560.35.03              Driver Version: 560.35.03      CUDA Version: 12.6     |\r\n",
      "|-----------------------------------------+------------------------+----------------------+\r\n",
      "| GPU  Name                 Persistence-M | Bus-Id          Disp.A | Volatile Uncorr. ECC |\r\n",
      "| Fan  Temp   Perf          Pwr:Usage/Cap |           Memory-Usage | GPU-Util  Compute M. |\r\n",
      "|                                         |                        |               MIG M. |\r\n",
      "|=========================================+========================+======================|\r\n",
      "|   0  Tesla P100-PCIE-16GB           Off |   00000000:00:04.0 Off |                    0 |\r\n",
      "| N/A   33C    P0             29W /  250W |       3MiB /  16384MiB |      0%      Default |\r\n",
      "|                                         |                        |                  N/A |\r\n",
      "+-----------------------------------------+------------------------+----------------------+\r\n",
      "                                                                                         \r\n",
      "+-----------------------------------------------------------------------------------------+\r\n",
      "| Processes:                                                                              |\r\n",
      "|  GPU   GI   CI        PID   Type   Process name                              GPU Memory |\r\n",
      "|        ID   ID                                                               Usage      |\r\n",
      "|=========================================================================================|\r\n",
      "|  No running processes found                                                             |\r\n",
      "+-----------------------------------------------------------------------------------------+\r\n"
     ]
    }
   ],
   "source": [
    "!nvidia-smi"
   ]
  },
  {
   "cell_type": "code",
   "execution_count": 31,
   "id": "e7f39cb6",
   "metadata": {
    "execution": {
     "iopub.execute_input": "2025-09-03T09:11:48.358915Z",
     "iopub.status.busy": "2025-09-03T09:11:48.358667Z",
     "iopub.status.idle": "2025-09-03T09:11:48.363656Z",
     "shell.execute_reply": "2025-09-03T09:11:48.363113Z"
    },
    "papermill": {
     "duration": 0.017635,
     "end_time": "2025-09-03T09:11:48.364641",
     "exception": false,
     "start_time": "2025-09-03T09:11:48.347006",
     "status": "completed"
    },
    "tags": []
   },
   "outputs": [
    {
     "data": {
      "text/plain": [
       "True"
      ]
     },
     "execution_count": 31,
     "metadata": {},
     "output_type": "execute_result"
    }
   ],
   "source": [
    "torch.cuda.is_available()"
   ]
  },
  {
   "cell_type": "code",
   "execution_count": 32,
   "id": "ab69b548",
   "metadata": {
    "execution": {
     "iopub.execute_input": "2025-09-03T09:11:48.388040Z",
     "iopub.status.busy": "2025-09-03T09:11:48.387488Z",
     "iopub.status.idle": "2025-09-03T09:11:48.392140Z",
     "shell.execute_reply": "2025-09-03T09:11:48.391450Z"
    },
    "papermill": {
     "duration": 0.01729,
     "end_time": "2025-09-03T09:11:48.393155",
     "exception": false,
     "start_time": "2025-09-03T09:11:48.375865",
     "status": "completed"
    },
    "tags": []
   },
   "outputs": [
    {
     "data": {
      "text/plain": [
       "'cuda'"
      ]
     },
     "execution_count": 32,
     "metadata": {},
     "output_type": "execute_result"
    }
   ],
   "source": [
    "# setup device-agnostic code\n",
    "import torch \n",
    "\n",
    "device = \"cuda\" if torch.cuda.is_available() else \"cpu\"\n",
    "device"
   ]
  },
  {
   "cell_type": "markdown",
   "id": "eec11a65",
   "metadata": {
    "papermill": {
     "duration": 0.010746,
     "end_time": "2025-09-03T09:11:48.414818",
     "exception": false,
     "start_time": "2025-09-03T09:11:48.404072",
     "status": "completed"
    },
    "tags": []
   },
   "source": [
    "## 6. Model 1 : Building a better model with non-linearity \n",
    "\n",
    "Let's leverage non-linearity's power"
   ]
  },
  {
   "cell_type": "code",
   "execution_count": 33,
   "id": "003d3049",
   "metadata": {
    "execution": {
     "iopub.execute_input": "2025-09-03T09:11:48.437787Z",
     "iopub.status.busy": "2025-09-03T09:11:48.437118Z",
     "iopub.status.idle": "2025-09-03T09:11:48.441618Z",
     "shell.execute_reply": "2025-09-03T09:11:48.441091Z"
    },
    "papermill": {
     "duration": 0.01701,
     "end_time": "2025-09-03T09:11:48.442681",
     "exception": false,
     "start_time": "2025-09-03T09:11:48.425671",
     "status": "completed"
    },
    "tags": []
   },
   "outputs": [],
   "source": [
    "# create a model with non-linear and linear layers \n",
    "\n",
    "class FashionMNISTModelV1(nn.Module):\n",
    "    def __init__(self, input_shape: int, hidden_units: int, output_shape: int):\n",
    "        super().__init__() \n",
    "        self.layer_stark = nn.Sequential(\n",
    "            nn.Flatten(), \n",
    "            nn.Linear(\n",
    "                in_features = input_shape, \n",
    "                out_features = hidden_units\n",
    "            ),\n",
    "            nn.ReLU(),\n",
    "            nn.Linear(\n",
    "                in_features = hidden_units, \n",
    "                out_features = output_shape\n",
    "            ),\n",
    "            nn.ReLU(),\n",
    "        )\n",
    "\n",
    "    def forward(self, x: torch.Tensor):\n",
    "        return self.layer_stark(x)\n"
   ]
  },
  {
   "cell_type": "code",
   "execution_count": 34,
   "id": "371aa444",
   "metadata": {
    "execution": {
     "iopub.execute_input": "2025-09-03T09:11:48.465791Z",
     "iopub.status.busy": "2025-09-03T09:11:48.465141Z",
     "iopub.status.idle": "2025-09-03T09:11:48.469993Z",
     "shell.execute_reply": "2025-09-03T09:11:48.469316Z"
    },
    "papermill": {
     "duration": 0.017364,
     "end_time": "2025-09-03T09:11:48.471107",
     "exception": false,
     "start_time": "2025-09-03T09:11:48.453743",
     "status": "completed"
    },
    "tags": []
   },
   "outputs": [
    {
     "data": {
      "text/plain": [
       "device(type='cpu')"
      ]
     },
     "execution_count": 34,
     "metadata": {},
     "output_type": "execute_result"
    }
   ],
   "source": [
    "next(model_0.parameters()).device"
   ]
  },
  {
   "cell_type": "code",
   "execution_count": 35,
   "id": "75972cce",
   "metadata": {
    "execution": {
     "iopub.execute_input": "2025-09-03T09:11:48.493923Z",
     "iopub.status.busy": "2025-09-03T09:11:48.493697Z",
     "iopub.status.idle": "2025-09-03T09:11:48.497667Z",
     "shell.execute_reply": "2025-09-03T09:11:48.497023Z"
    },
    "papermill": {
     "duration": 0.016624,
     "end_time": "2025-09-03T09:11:48.498794",
     "exception": false,
     "start_time": "2025-09-03T09:11:48.482170",
     "status": "completed"
    },
    "tags": []
   },
   "outputs": [
    {
     "data": {
      "text/plain": [
       "'cuda'"
      ]
     },
     "execution_count": 35,
     "metadata": {},
     "output_type": "execute_result"
    }
   ],
   "source": [
    "device"
   ]
  },
  {
   "cell_type": "code",
   "execution_count": 36,
   "id": "b0054297",
   "metadata": {
    "execution": {
     "iopub.execute_input": "2025-09-03T09:11:48.522160Z",
     "iopub.status.busy": "2025-09-03T09:11:48.521587Z",
     "iopub.status.idle": "2025-09-03T09:11:48.680813Z",
     "shell.execute_reply": "2025-09-03T09:11:48.680143Z"
    },
    "papermill": {
     "duration": 0.172012,
     "end_time": "2025-09-03T09:11:48.681924",
     "exception": false,
     "start_time": "2025-09-03T09:11:48.509912",
     "status": "completed"
    },
    "tags": []
   },
   "outputs": [
    {
     "data": {
      "text/plain": [
       "device(type='cuda', index=0)"
      ]
     },
     "execution_count": 36,
     "metadata": {},
     "output_type": "execute_result"
    }
   ],
   "source": [
    "model_1 = FashionMNISTModelV1(\n",
    "    input_shape = 28*28, # 784\n",
    "    hidden_units = 10, \n",
    "    output_shape = len(class_names)\n",
    ").to(device)\n",
    "\n",
    "next(model_1.parameters()).device"
   ]
  },
  {
   "cell_type": "markdown",
   "id": "f1848bdb",
   "metadata": {
    "papermill": {
     "duration": 0.012589,
     "end_time": "2025-09-03T09:11:48.706480",
     "exception": false,
     "start_time": "2025-09-03T09:11:48.693891",
     "status": "completed"
    },
    "tags": []
   },
   "source": [
    "### 6.1 Setup loss, optimizer and evaluation metrics"
   ]
  },
  {
   "cell_type": "code",
   "execution_count": 37,
   "id": "000e8db8",
   "metadata": {
    "execution": {
     "iopub.execute_input": "2025-09-03T09:11:48.736133Z",
     "iopub.status.busy": "2025-09-03T09:11:48.735501Z",
     "iopub.status.idle": "2025-09-03T09:11:48.739790Z",
     "shell.execute_reply": "2025-09-03T09:11:48.739071Z"
    },
    "papermill": {
     "duration": 0.019478,
     "end_time": "2025-09-03T09:11:48.740908",
     "exception": false,
     "start_time": "2025-09-03T09:11:48.721430",
     "status": "completed"
    },
    "tags": []
   },
   "outputs": [],
   "source": [
    "from helper_functions import accuracy_fn \n",
    "\n",
    "loss_fn = nn.CrossEntropyLoss()\n",
    "optimizer = torch.optim.SGD(\n",
    "    params=model_1.parameters(),\n",
    "    lr=0.1\n",
    ")"
   ]
  },
  {
   "cell_type": "markdown",
   "id": "b5ec9cc8",
   "metadata": {
    "papermill": {
     "duration": 0.013654,
     "end_time": "2025-09-03T09:11:48.772650",
     "exception": false,
     "start_time": "2025-09-03T09:11:48.758996",
     "status": "completed"
    },
    "tags": []
   },
   "source": [
    "### 6.2 Functionizing training and evaluation/teting loops\n",
    "1. training loop - `train_step()`\n",
    "2. test loop - `test_step()`"
   ]
  },
  {
   "cell_type": "code",
   "execution_count": 38,
   "id": "29185b5f",
   "metadata": {
    "execution": {
     "iopub.execute_input": "2025-09-03T09:11:48.802113Z",
     "iopub.status.busy": "2025-09-03T09:11:48.801861Z",
     "iopub.status.idle": "2025-09-03T09:11:48.807268Z",
     "shell.execute_reply": "2025-09-03T09:11:48.806719Z"
    },
    "papermill": {
     "duration": 0.019878,
     "end_time": "2025-09-03T09:11:48.808387",
     "exception": false,
     "start_time": "2025-09-03T09:11:48.788509",
     "status": "completed"
    },
    "tags": []
   },
   "outputs": [],
   "source": [
    "def train_step(\n",
    "    model: torch.nn.Module, \n",
    "    data_loader: torch.utils.data.DataLoader, \n",
    "    loss_fn: torch.nn.Module, \n",
    "    optimizer: torch.optim.Optimizer, \n",
    "    accuracy_fn, \n",
    "    device: torch.device = device \n",
    "):\n",
    "    \"\"\"\n",
    "    Performs a training with model trying to learn on data_loader \n",
    "    \"\"\"\n",
    "    train_loss, train_acc = 0,0 \n",
    "\n",
    "    # put model into training mode \n",
    "    model.train() \n",
    "\n",
    "    # add a loop to loop through the training batches \n",
    "    for batch, (X,y) in enumerate(data_loader):\n",
    "        # put data to target device \n",
    "        X,y = X.to(device), y.to(device)\n",
    "\n",
    "        # 1. forward pass \n",
    "        y_pred = model(X)\n",
    "\n",
    "        # 2. calculate loss and accuracy per batch and accumulate them into train_loss and train_acc\n",
    "        loss = loss_fn(y_pred, y)\n",
    "        train_loss += loss \n",
    "\n",
    "        train_acc += accuracy_fn(\n",
    "            y_true = y,\n",
    "            y_pred = y_pred.argmax(dim=1) # logits -> prediction labels \n",
    "        )\n",
    "\n",
    "        # 3. optimizer zero grad \n",
    "        optimizer.zero_grad() \n",
    "\n",
    "        # 4. backpropagation\n",
    "        loss.backward()\n",
    "\n",
    "        # 5. optimizer step (update the model's parameters once per batch)\n",
    "        optimizer.step()\n",
    "\n",
    "    # divite total train loss and accuracy by length of train dataloader \n",
    "    train_loss /= len(data_loader)\n",
    "    train_acc /= len(data_loader)\n",
    "    \n",
    "    print(f\"Train loss: {train_loss:.5f} | Train acc: {train_acc:.2f}%\")\n",
    "\n"
   ]
  },
  {
   "cell_type": "code",
   "execution_count": 39,
   "id": "363314ce",
   "metadata": {
    "execution": {
     "iopub.execute_input": "2025-09-03T09:11:48.831895Z",
     "iopub.status.busy": "2025-09-03T09:11:48.831686Z",
     "iopub.status.idle": "2025-09-03T09:11:48.836528Z",
     "shell.execute_reply": "2025-09-03T09:11:48.836045Z"
    },
    "papermill": {
     "duration": 0.017857,
     "end_time": "2025-09-03T09:11:48.837596",
     "exception": false,
     "start_time": "2025-09-03T09:11:48.819739",
     "status": "completed"
    },
    "tags": []
   },
   "outputs": [],
   "source": [
    "def test_loop(\n",
    "    model: torch.nn.Module, \n",
    "    data_loader: torch.utils.data.DataLoader, \n",
    "    loss_fn: torch.nn.Module, \n",
    "    accuracy_fn, \n",
    "    device: torch.device = device \n",
    "):\n",
    "    \"\"\"\n",
    "    Performs a testing loop step on model going over data_loader \n",
    "    \"\"\"\n",
    "\n",
    "    # put the model in eval mode \n",
    "    model.eval()\n",
    "\n",
    "    # turn on inference mode context manager \n",
    "    with torch.inference_mode():\n",
    "        for X, y in data_loader: \n",
    "            #send the data to the target device \n",
    "            X, y = X.to(device), y.to(device)\n",
    "\n",
    "            # 1. forward pass \n",
    "            test_pred = model(X) \n",
    "\n",
    "            # 2. calculate loss and accuracy \n",
    "            test_loss += loss_fn(test_pred, y)\n",
    "            test_acc += accuracy_fn(\n",
    "                y_true=y,\n",
    "                y_pred=test_pred.argmax(dim=1) # logits -> prediction labels\n",
    "            )\n",
    "\n",
    "    # adjust metrics and print out \n",
    "    test_loss /= len(data_loader)\n",
    "    tets_acc /= len(data_loader)\n",
    "    print(f\"Test loss: {test_loss:.5f} | Test acc: {test_acc:.2f}%\")"
   ]
  },
  {
   "cell_type": "code",
   "execution_count": null,
   "id": "0a799059",
   "metadata": {
    "papermill": {
     "duration": 0.011001,
     "end_time": "2025-09-03T09:11:48.859802",
     "exception": false,
     "start_time": "2025-09-03T09:11:48.848801",
     "status": "completed"
    },
    "tags": []
   },
   "outputs": [],
   "source": []
  },
  {
   "cell_type": "code",
   "execution_count": null,
   "id": "f73b8a0d",
   "metadata": {
    "papermill": {
     "duration": 0.01088,
     "end_time": "2025-09-03T09:11:48.881695",
     "exception": false,
     "start_time": "2025-09-03T09:11:48.870815",
     "status": "completed"
    },
    "tags": []
   },
   "outputs": [],
   "source": []
  }
 ],
 "metadata": {
  "kaggle": {
   "accelerator": "gpu",
   "dataSources": [],
   "dockerImageVersionId": 31089,
   "isGpuEnabled": true,
   "isInternetEnabled": true,
   "language": "python",
   "sourceType": "notebook"
  },
  "kernelspec": {
   "display_name": "Python 3",
   "language": "python",
   "name": "python3"
  },
  "language_info": {
   "codemirror_mode": {
    "name": "ipython",
    "version": 3
   },
   "file_extension": ".py",
   "mimetype": "text/x-python",
   "name": "python",
   "nbconvert_exporter": "python",
   "pygments_lexer": "ipython3",
   "version": "3.11.13"
  },
  "papermill": {
   "default_parameters": {},
   "duration": 47.957193,
   "end_time": "2025-09-03T09:11:50.413404",
   "environment_variables": {},
   "exception": null,
   "input_path": "__notebook__.ipynb",
   "output_path": "__notebook__.ipynb",
   "parameters": {},
   "start_time": "2025-09-03T09:11:02.456211",
   "version": "2.6.0"
  },
  "widgets": {
   "application/vnd.jupyter.widget-state+json": {
    "state": {
     "036aec27492046eba6cfa637dd561082": {
      "model_module": "@jupyter-widgets/controls",
      "model_module_version": "2.0.0",
      "model_name": "HTMLModel",
      "state": {
       "_dom_classes": [],
       "_model_module": "@jupyter-widgets/controls",
       "_model_module_version": "2.0.0",
       "_model_name": "HTMLModel",
       "_view_count": null,
       "_view_module": "@jupyter-widgets/controls",
       "_view_module_version": "2.0.0",
       "_view_name": "HTMLView",
       "description": "",
       "description_allow_html": false,
       "layout": "IPY_MODEL_f33ad4c9541c44f0a3c9fccf4a4b5476",
       "placeholder": "​",
       "style": "IPY_MODEL_f94d0ee6246840f898b6dbd1db6c92d5",
       "tabbable": null,
       "tooltip": null,
       "value": "100%"
      }
     },
     "528d347e894441dd9eee16c40105bd94": {
      "model_module": "@jupyter-widgets/controls",
      "model_module_version": "2.0.0",
      "model_name": "HTMLStyleModel",
      "state": {
       "_model_module": "@jupyter-widgets/controls",
       "_model_module_version": "2.0.0",
       "_model_name": "HTMLStyleModel",
       "_view_count": null,
       "_view_module": "@jupyter-widgets/base",
       "_view_module_version": "2.0.0",
       "_view_name": "StyleView",
       "background": null,
       "description_width": "",
       "font_size": null,
       "text_color": null
      }
     },
     "73aa28e032ce4a8984dbbb3af79f03de": {
      "model_module": "@jupyter-widgets/controls",
      "model_module_version": "2.0.0",
      "model_name": "ProgressStyleModel",
      "state": {
       "_model_module": "@jupyter-widgets/controls",
       "_model_module_version": "2.0.0",
       "_model_name": "ProgressStyleModel",
       "_view_count": null,
       "_view_module": "@jupyter-widgets/base",
       "_view_module_version": "2.0.0",
       "_view_name": "StyleView",
       "bar_color": null,
       "description_width": ""
      }
     },
     "94c9c3415b954d60a1de6a4143c410fa": {
      "model_module": "@jupyter-widgets/controls",
      "model_module_version": "2.0.0",
      "model_name": "FloatProgressModel",
      "state": {
       "_dom_classes": [],
       "_model_module": "@jupyter-widgets/controls",
       "_model_module_version": "2.0.0",
       "_model_name": "FloatProgressModel",
       "_view_count": null,
       "_view_module": "@jupyter-widgets/controls",
       "_view_module_version": "2.0.0",
       "_view_name": "ProgressView",
       "bar_style": "success",
       "description": "",
       "description_allow_html": false,
       "layout": "IPY_MODEL_d5fb60cec82c4f31a1e64d06737f8219",
       "max": 3.0,
       "min": 0.0,
       "orientation": "horizontal",
       "style": "IPY_MODEL_73aa28e032ce4a8984dbbb3af79f03de",
       "tabbable": null,
       "tooltip": null,
       "value": 3.0
      }
     },
     "9b3c4fe56a494a0eaf24d4dc8978f44c": {
      "model_module": "@jupyter-widgets/controls",
      "model_module_version": "2.0.0",
      "model_name": "HTMLModel",
      "state": {
       "_dom_classes": [],
       "_model_module": "@jupyter-widgets/controls",
       "_model_module_version": "2.0.0",
       "_model_name": "HTMLModel",
       "_view_count": null,
       "_view_module": "@jupyter-widgets/controls",
       "_view_module_version": "2.0.0",
       "_view_name": "HTMLView",
       "description": "",
       "description_allow_html": false,
       "layout": "IPY_MODEL_f4c6dd57447645f99504a5d7cfa44229",
       "placeholder": "​",
       "style": "IPY_MODEL_528d347e894441dd9eee16c40105bd94",
       "tabbable": null,
       "tooltip": null,
       "value": " 3/3 [00:22&lt;00:00,  7.57s/it]"
      }
     },
     "d5fb60cec82c4f31a1e64d06737f8219": {
      "model_module": "@jupyter-widgets/base",
      "model_module_version": "2.0.0",
      "model_name": "LayoutModel",
      "state": {
       "_model_module": "@jupyter-widgets/base",
       "_model_module_version": "2.0.0",
       "_model_name": "LayoutModel",
       "_view_count": null,
       "_view_module": "@jupyter-widgets/base",
       "_view_module_version": "2.0.0",
       "_view_name": "LayoutView",
       "align_content": null,
       "align_items": null,
       "align_self": null,
       "border_bottom": null,
       "border_left": null,
       "border_right": null,
       "border_top": null,
       "bottom": null,
       "display": null,
       "flex": null,
       "flex_flow": null,
       "grid_area": null,
       "grid_auto_columns": null,
       "grid_auto_flow": null,
       "grid_auto_rows": null,
       "grid_column": null,
       "grid_gap": null,
       "grid_row": null,
       "grid_template_areas": null,
       "grid_template_columns": null,
       "grid_template_rows": null,
       "height": null,
       "justify_content": null,
       "justify_items": null,
       "left": null,
       "margin": null,
       "max_height": null,
       "max_width": null,
       "min_height": null,
       "min_width": null,
       "object_fit": null,
       "object_position": null,
       "order": null,
       "overflow": null,
       "padding": null,
       "right": null,
       "top": null,
       "visibility": null,
       "width": null
      }
     },
     "d93bbcac128a4638a9968467230fa823": {
      "model_module": "@jupyter-widgets/controls",
      "model_module_version": "2.0.0",
      "model_name": "HBoxModel",
      "state": {
       "_dom_classes": [],
       "_model_module": "@jupyter-widgets/controls",
       "_model_module_version": "2.0.0",
       "_model_name": "HBoxModel",
       "_view_count": null,
       "_view_module": "@jupyter-widgets/controls",
       "_view_module_version": "2.0.0",
       "_view_name": "HBoxView",
       "box_style": "",
       "children": [
        "IPY_MODEL_036aec27492046eba6cfa637dd561082",
        "IPY_MODEL_94c9c3415b954d60a1de6a4143c410fa",
        "IPY_MODEL_9b3c4fe56a494a0eaf24d4dc8978f44c"
       ],
       "layout": "IPY_MODEL_f973076bac814a94a3eb8d02b5d08956",
       "tabbable": null,
       "tooltip": null
      }
     },
     "f33ad4c9541c44f0a3c9fccf4a4b5476": {
      "model_module": "@jupyter-widgets/base",
      "model_module_version": "2.0.0",
      "model_name": "LayoutModel",
      "state": {
       "_model_module": "@jupyter-widgets/base",
       "_model_module_version": "2.0.0",
       "_model_name": "LayoutModel",
       "_view_count": null,
       "_view_module": "@jupyter-widgets/base",
       "_view_module_version": "2.0.0",
       "_view_name": "LayoutView",
       "align_content": null,
       "align_items": null,
       "align_self": null,
       "border_bottom": null,
       "border_left": null,
       "border_right": null,
       "border_top": null,
       "bottom": null,
       "display": null,
       "flex": null,
       "flex_flow": null,
       "grid_area": null,
       "grid_auto_columns": null,
       "grid_auto_flow": null,
       "grid_auto_rows": null,
       "grid_column": null,
       "grid_gap": null,
       "grid_row": null,
       "grid_template_areas": null,
       "grid_template_columns": null,
       "grid_template_rows": null,
       "height": null,
       "justify_content": null,
       "justify_items": null,
       "left": null,
       "margin": null,
       "max_height": null,
       "max_width": null,
       "min_height": null,
       "min_width": null,
       "object_fit": null,
       "object_position": null,
       "order": null,
       "overflow": null,
       "padding": null,
       "right": null,
       "top": null,
       "visibility": null,
       "width": null
      }
     },
     "f4c6dd57447645f99504a5d7cfa44229": {
      "model_module": "@jupyter-widgets/base",
      "model_module_version": "2.0.0",
      "model_name": "LayoutModel",
      "state": {
       "_model_module": "@jupyter-widgets/base",
       "_model_module_version": "2.0.0",
       "_model_name": "LayoutModel",
       "_view_count": null,
       "_view_module": "@jupyter-widgets/base",
       "_view_module_version": "2.0.0",
       "_view_name": "LayoutView",
       "align_content": null,
       "align_items": null,
       "align_self": null,
       "border_bottom": null,
       "border_left": null,
       "border_right": null,
       "border_top": null,
       "bottom": null,
       "display": null,
       "flex": null,
       "flex_flow": null,
       "grid_area": null,
       "grid_auto_columns": null,
       "grid_auto_flow": null,
       "grid_auto_rows": null,
       "grid_column": null,
       "grid_gap": null,
       "grid_row": null,
       "grid_template_areas": null,
       "grid_template_columns": null,
       "grid_template_rows": null,
       "height": null,
       "justify_content": null,
       "justify_items": null,
       "left": null,
       "margin": null,
       "max_height": null,
       "max_width": null,
       "min_height": null,
       "min_width": null,
       "object_fit": null,
       "object_position": null,
       "order": null,
       "overflow": null,
       "padding": null,
       "right": null,
       "top": null,
       "visibility": null,
       "width": null
      }
     },
     "f94d0ee6246840f898b6dbd1db6c92d5": {
      "model_module": "@jupyter-widgets/controls",
      "model_module_version": "2.0.0",
      "model_name": "HTMLStyleModel",
      "state": {
       "_model_module": "@jupyter-widgets/controls",
       "_model_module_version": "2.0.0",
       "_model_name": "HTMLStyleModel",
       "_view_count": null,
       "_view_module": "@jupyter-widgets/base",
       "_view_module_version": "2.0.0",
       "_view_name": "StyleView",
       "background": null,
       "description_width": "",
       "font_size": null,
       "text_color": null
      }
     },
     "f973076bac814a94a3eb8d02b5d08956": {
      "model_module": "@jupyter-widgets/base",
      "model_module_version": "2.0.0",
      "model_name": "LayoutModel",
      "state": {
       "_model_module": "@jupyter-widgets/base",
       "_model_module_version": "2.0.0",
       "_model_name": "LayoutModel",
       "_view_count": null,
       "_view_module": "@jupyter-widgets/base",
       "_view_module_version": "2.0.0",
       "_view_name": "LayoutView",
       "align_content": null,
       "align_items": null,
       "align_self": null,
       "border_bottom": null,
       "border_left": null,
       "border_right": null,
       "border_top": null,
       "bottom": null,
       "display": null,
       "flex": null,
       "flex_flow": null,
       "grid_area": null,
       "grid_auto_columns": null,
       "grid_auto_flow": null,
       "grid_auto_rows": null,
       "grid_column": null,
       "grid_gap": null,
       "grid_row": null,
       "grid_template_areas": null,
       "grid_template_columns": null,
       "grid_template_rows": null,
       "height": null,
       "justify_content": null,
       "justify_items": null,
       "left": null,
       "margin": null,
       "max_height": null,
       "max_width": null,
       "min_height": null,
       "min_width": null,
       "object_fit": null,
       "object_position": null,
       "order": null,
       "overflow": null,
       "padding": null,
       "right": null,
       "top": null,
       "visibility": null,
       "width": null
      }
     }
    },
    "version_major": 2,
    "version_minor": 0
   }
  }
 },
 "nbformat": 4,
 "nbformat_minor": 5
}
