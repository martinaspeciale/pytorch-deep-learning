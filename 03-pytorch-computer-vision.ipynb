{
 "cells": [
  {
   "cell_type": "markdown",
   "id": "4b763be2",
   "metadata": {
    "papermill": {
     "duration": 0.005305,
     "end_time": "2025-09-02T09:19:28.029774",
     "exception": false,
     "start_time": "2025-09-02T09:19:28.024469",
     "status": "completed"
    },
    "tags": []
   },
   "source": [
    "# **PyTorch Computer Vision**"
   ]
  },
  {
   "cell_type": "markdown",
   "id": "dfe3df26",
   "metadata": {
    "papermill": {
     "duration": 0.004077,
     "end_time": "2025-09-02T09:19:28.038534",
     "exception": false,
     "start_time": "2025-09-02T09:19:28.034457",
     "status": "completed"
    },
    "tags": []
   },
   "source": [
    "## 0. Computer Vision libraries in Python \n",
    "* `torchvision` : base domain library for PyTorch CV \n",
    "* `torchvision.datasets` : get datasets and data loading functions for CV \n",
    "* `torchvision.models` : get pretrained CV models we can leverage for new problems \n",
    "* `torchvision.transform` : functions for manipulating your vision data (images) to be suitable for use with an ML model\n",
    "* `torch.utils.data.Dataset` : base dataset class for PyTorch \n",
    "* `torch.utils.data.DataLoader` : creates a python iterable over a dataset "
   ]
  },
  {
   "cell_type": "code",
   "execution_count": 1,
   "id": "61b13c68",
   "metadata": {
    "execution": {
     "iopub.execute_input": "2025-09-02T09:19:28.049013Z",
     "iopub.status.busy": "2025-09-02T09:19:28.048599Z",
     "iopub.status.idle": "2025-09-02T09:19:43.841099Z",
     "shell.execute_reply": "2025-09-02T09:19:43.839655Z"
    },
    "papermill": {
     "duration": 15.799998,
     "end_time": "2025-09-02T09:19:43.843131",
     "exception": false,
     "start_time": "2025-09-02T09:19:28.043133",
     "status": "completed"
    },
    "tags": []
   },
   "outputs": [
    {
     "name": "stdout",
     "output_type": "stream",
     "text": [
      "2.6.0+cu124\n",
      "0.21.0+cu124\n"
     ]
    }
   ],
   "source": [
    "import torch \n",
    "from torch import nn \n",
    "\n",
    "import torchvision \n",
    "from torchvision import datasets \n",
    "from torchvision import transforms \n",
    "from torchvision.transforms import ToTensor \n",
    "\n",
    "import matplotlib.pyplot as plt \n",
    "\n",
    "print(torch.__version__)\n",
    "print(torchvision.__version__)"
   ]
  },
  {
   "cell_type": "markdown",
   "id": "38bb27d6",
   "metadata": {
    "papermill": {
     "duration": 0.004239,
     "end_time": "2025-09-02T09:19:43.852364",
     "exception": false,
     "start_time": "2025-09-02T09:19:43.848125",
     "status": "completed"
    },
    "tags": []
   },
   "source": [
    "## 1. Getting a dataset : Fashion MNIST  "
   ]
  },
  {
   "cell_type": "code",
   "execution_count": 2,
   "id": "74c15827",
   "metadata": {
    "execution": {
     "iopub.execute_input": "2025-09-02T09:19:43.862635Z",
     "iopub.status.busy": "2025-09-02T09:19:43.862195Z",
     "iopub.status.idle": "2025-09-02T09:19:45.484441Z",
     "shell.execute_reply": "2025-09-02T09:19:45.483125Z"
    },
    "papermill": {
     "duration": 1.629244,
     "end_time": "2025-09-02T09:19:45.486057",
     "exception": false,
     "start_time": "2025-09-02T09:19:43.856813",
     "status": "completed"
    },
    "tags": []
   },
   "outputs": [
    {
     "name": "stderr",
     "output_type": "stream",
     "text": [
      "100%|██████████| 26.4M/26.4M [00:00<00:00, 115MB/s]\n",
      "100%|██████████| 29.5k/29.5k [00:00<00:00, 3.77MB/s]\n",
      "100%|██████████| 4.42M/4.42M [00:00<00:00, 60.6MB/s]\n",
      "100%|██████████| 5.15k/5.15k [00:00<00:00, 7.69MB/s]\n"
     ]
    }
   ],
   "source": [
    "# setup training data \n",
    "from torchvision import datasets \n",
    "train_data = datasets.FashionMNIST(\n",
    "    root=\"data\", # where to download data to\n",
    "    train=True,  # do we want the training dataset?\n",
    "    download=True, # do we want to download it?\n",
    "    transform=torchvision.transforms.ToTensor(), # how do we want to transform the data\n",
    "    target_transform=None # how do we want to transform the label \n",
    ")\n",
    "\n",
    "test_data = datasets.FashionMNIST(\n",
    "    root=\"data\", \n",
    "    train=False, \n",
    "    download=True,\n",
    "    transform=torchvision.transforms.ToTensor(),\n",
    "    target_transform=None\n",
    ")"
   ]
  },
  {
   "cell_type": "code",
   "execution_count": 3,
   "id": "e493cc02",
   "metadata": {
    "execution": {
     "iopub.execute_input": "2025-09-02T09:19:45.498430Z",
     "iopub.status.busy": "2025-09-02T09:19:45.498050Z",
     "iopub.status.idle": "2025-09-02T09:19:45.505733Z",
     "shell.execute_reply": "2025-09-02T09:19:45.504535Z"
    },
    "papermill": {
     "duration": 0.016031,
     "end_time": "2025-09-02T09:19:45.507659",
     "exception": false,
     "start_time": "2025-09-02T09:19:45.491628",
     "status": "completed"
    },
    "tags": []
   },
   "outputs": [
    {
     "data": {
      "text/plain": [
       "(60000, 10000)"
      ]
     },
     "execution_count": 3,
     "metadata": {},
     "output_type": "execute_result"
    }
   ],
   "source": [
    "len(train_data), len(test_data)"
   ]
  },
  {
   "cell_type": "code",
   "execution_count": 4,
   "id": "29342cf7",
   "metadata": {
    "execution": {
     "iopub.execute_input": "2025-09-02T09:19:45.520692Z",
     "iopub.status.busy": "2025-09-02T09:19:45.519858Z",
     "iopub.status.idle": "2025-09-02T09:19:45.567595Z",
     "shell.execute_reply": "2025-09-02T09:19:45.566412Z"
    },
    "papermill": {
     "duration": 0.056117,
     "end_time": "2025-09-02T09:19:45.569574",
     "exception": false,
     "start_time": "2025-09-02T09:19:45.513457",
     "status": "completed"
    },
    "tags": []
   },
   "outputs": [
    {
     "data": {
      "text/plain": [
       "(tensor([[[0.0000, 0.0000, 0.0000, 0.0000, 0.0000, 0.0000, 0.0000, 0.0000,\n",
       "           0.0000, 0.0000, 0.0000, 0.0000, 0.0000, 0.0000, 0.0000, 0.0000,\n",
       "           0.0000, 0.0000, 0.0000, 0.0000, 0.0000, 0.0000, 0.0000, 0.0000,\n",
       "           0.0000, 0.0000, 0.0000, 0.0000],\n",
       "          [0.0000, 0.0000, 0.0000, 0.0000, 0.0000, 0.0000, 0.0000, 0.0000,\n",
       "           0.0000, 0.0000, 0.0000, 0.0000, 0.0000, 0.0000, 0.0000, 0.0000,\n",
       "           0.0000, 0.0000, 0.0000, 0.0000, 0.0000, 0.0000, 0.0000, 0.0000,\n",
       "           0.0000, 0.0000, 0.0000, 0.0000],\n",
       "          [0.0000, 0.0000, 0.0000, 0.0000, 0.0000, 0.0000, 0.0000, 0.0000,\n",
       "           0.0000, 0.0000, 0.0000, 0.0000, 0.0000, 0.0000, 0.0000, 0.0000,\n",
       "           0.0000, 0.0000, 0.0000, 0.0000, 0.0000, 0.0000, 0.0000, 0.0000,\n",
       "           0.0000, 0.0000, 0.0000, 0.0000],\n",
       "          [0.0000, 0.0000, 0.0000, 0.0000, 0.0000, 0.0000, 0.0000, 0.0000,\n",
       "           0.0000, 0.0000, 0.0000, 0.0000, 0.0039, 0.0000, 0.0000, 0.0510,\n",
       "           0.2863, 0.0000, 0.0000, 0.0039, 0.0157, 0.0000, 0.0000, 0.0000,\n",
       "           0.0000, 0.0039, 0.0039, 0.0000],\n",
       "          [0.0000, 0.0000, 0.0000, 0.0000, 0.0000, 0.0000, 0.0000, 0.0000,\n",
       "           0.0000, 0.0000, 0.0000, 0.0000, 0.0118, 0.0000, 0.1412, 0.5333,\n",
       "           0.4980, 0.2431, 0.2118, 0.0000, 0.0000, 0.0000, 0.0039, 0.0118,\n",
       "           0.0157, 0.0000, 0.0000, 0.0118],\n",
       "          [0.0000, 0.0000, 0.0000, 0.0000, 0.0000, 0.0000, 0.0000, 0.0000,\n",
       "           0.0000, 0.0000, 0.0000, 0.0000, 0.0235, 0.0000, 0.4000, 0.8000,\n",
       "           0.6902, 0.5255, 0.5647, 0.4824, 0.0902, 0.0000, 0.0000, 0.0000,\n",
       "           0.0000, 0.0471, 0.0392, 0.0000],\n",
       "          [0.0000, 0.0000, 0.0000, 0.0000, 0.0000, 0.0000, 0.0000, 0.0000,\n",
       "           0.0000, 0.0000, 0.0000, 0.0000, 0.0000, 0.0000, 0.6078, 0.9255,\n",
       "           0.8118, 0.6980, 0.4196, 0.6118, 0.6314, 0.4275, 0.2510, 0.0902,\n",
       "           0.3020, 0.5098, 0.2824, 0.0588],\n",
       "          [0.0000, 0.0000, 0.0000, 0.0000, 0.0000, 0.0000, 0.0000, 0.0000,\n",
       "           0.0000, 0.0000, 0.0000, 0.0039, 0.0000, 0.2706, 0.8118, 0.8745,\n",
       "           0.8549, 0.8471, 0.8471, 0.6392, 0.4980, 0.4745, 0.4784, 0.5725,\n",
       "           0.5529, 0.3451, 0.6745, 0.2588],\n",
       "          [0.0000, 0.0000, 0.0000, 0.0000, 0.0000, 0.0000, 0.0000, 0.0000,\n",
       "           0.0000, 0.0039, 0.0039, 0.0039, 0.0000, 0.7843, 0.9098, 0.9098,\n",
       "           0.9137, 0.8980, 0.8745, 0.8745, 0.8431, 0.8353, 0.6431, 0.4980,\n",
       "           0.4824, 0.7686, 0.8980, 0.0000],\n",
       "          [0.0000, 0.0000, 0.0000, 0.0000, 0.0000, 0.0000, 0.0000, 0.0000,\n",
       "           0.0000, 0.0000, 0.0000, 0.0000, 0.0000, 0.7176, 0.8824, 0.8471,\n",
       "           0.8745, 0.8941, 0.9216, 0.8902, 0.8784, 0.8706, 0.8784, 0.8667,\n",
       "           0.8745, 0.9608, 0.6784, 0.0000],\n",
       "          [0.0000, 0.0000, 0.0000, 0.0000, 0.0000, 0.0000, 0.0000, 0.0000,\n",
       "           0.0000, 0.0000, 0.0000, 0.0000, 0.0000, 0.7569, 0.8941, 0.8549,\n",
       "           0.8353, 0.7765, 0.7059, 0.8314, 0.8235, 0.8275, 0.8353, 0.8745,\n",
       "           0.8627, 0.9529, 0.7922, 0.0000],\n",
       "          [0.0000, 0.0000, 0.0000, 0.0000, 0.0000, 0.0000, 0.0000, 0.0000,\n",
       "           0.0000, 0.0039, 0.0118, 0.0000, 0.0471, 0.8588, 0.8627, 0.8314,\n",
       "           0.8549, 0.7529, 0.6627, 0.8902, 0.8157, 0.8549, 0.8784, 0.8314,\n",
       "           0.8863, 0.7725, 0.8196, 0.2039],\n",
       "          [0.0000, 0.0000, 0.0000, 0.0000, 0.0000, 0.0000, 0.0000, 0.0000,\n",
       "           0.0000, 0.0000, 0.0235, 0.0000, 0.3882, 0.9569, 0.8706, 0.8627,\n",
       "           0.8549, 0.7961, 0.7765, 0.8667, 0.8431, 0.8353, 0.8706, 0.8627,\n",
       "           0.9608, 0.4667, 0.6549, 0.2196],\n",
       "          [0.0000, 0.0000, 0.0000, 0.0000, 0.0000, 0.0000, 0.0000, 0.0000,\n",
       "           0.0000, 0.0157, 0.0000, 0.0000, 0.2157, 0.9255, 0.8941, 0.9020,\n",
       "           0.8941, 0.9412, 0.9098, 0.8353, 0.8549, 0.8745, 0.9176, 0.8510,\n",
       "           0.8510, 0.8196, 0.3608, 0.0000],\n",
       "          [0.0000, 0.0000, 0.0039, 0.0157, 0.0235, 0.0275, 0.0078, 0.0000,\n",
       "           0.0000, 0.0000, 0.0000, 0.0000, 0.9294, 0.8863, 0.8510, 0.8745,\n",
       "           0.8706, 0.8588, 0.8706, 0.8667, 0.8471, 0.8745, 0.8980, 0.8431,\n",
       "           0.8549, 1.0000, 0.3020, 0.0000],\n",
       "          [0.0000, 0.0118, 0.0000, 0.0000, 0.0000, 0.0000, 0.0000, 0.0000,\n",
       "           0.0000, 0.2431, 0.5686, 0.8000, 0.8941, 0.8118, 0.8353, 0.8667,\n",
       "           0.8549, 0.8157, 0.8275, 0.8549, 0.8784, 0.8745, 0.8588, 0.8431,\n",
       "           0.8784, 0.9569, 0.6235, 0.0000],\n",
       "          [0.0000, 0.0000, 0.0000, 0.0000, 0.0706, 0.1725, 0.3216, 0.4196,\n",
       "           0.7412, 0.8941, 0.8627, 0.8706, 0.8510, 0.8863, 0.7843, 0.8039,\n",
       "           0.8275, 0.9020, 0.8784, 0.9176, 0.6902, 0.7373, 0.9804, 0.9725,\n",
       "           0.9137, 0.9333, 0.8431, 0.0000],\n",
       "          [0.0000, 0.2235, 0.7333, 0.8157, 0.8784, 0.8667, 0.8784, 0.8157,\n",
       "           0.8000, 0.8392, 0.8157, 0.8196, 0.7843, 0.6235, 0.9608, 0.7569,\n",
       "           0.8078, 0.8745, 1.0000, 1.0000, 0.8667, 0.9176, 0.8667, 0.8275,\n",
       "           0.8627, 0.9098, 0.9647, 0.0000],\n",
       "          [0.0118, 0.7922, 0.8941, 0.8784, 0.8667, 0.8275, 0.8275, 0.8392,\n",
       "           0.8039, 0.8039, 0.8039, 0.8627, 0.9412, 0.3137, 0.5882, 1.0000,\n",
       "           0.8980, 0.8667, 0.7373, 0.6039, 0.7490, 0.8235, 0.8000, 0.8196,\n",
       "           0.8706, 0.8941, 0.8824, 0.0000],\n",
       "          [0.3843, 0.9137, 0.7765, 0.8235, 0.8706, 0.8980, 0.8980, 0.9176,\n",
       "           0.9765, 0.8627, 0.7608, 0.8431, 0.8510, 0.9451, 0.2549, 0.2863,\n",
       "           0.4157, 0.4588, 0.6588, 0.8588, 0.8667, 0.8431, 0.8510, 0.8745,\n",
       "           0.8745, 0.8784, 0.8980, 0.1137],\n",
       "          [0.2941, 0.8000, 0.8314, 0.8000, 0.7569, 0.8039, 0.8275, 0.8824,\n",
       "           0.8471, 0.7255, 0.7725, 0.8078, 0.7765, 0.8353, 0.9412, 0.7647,\n",
       "           0.8902, 0.9608, 0.9373, 0.8745, 0.8549, 0.8314, 0.8196, 0.8706,\n",
       "           0.8627, 0.8667, 0.9020, 0.2627],\n",
       "          [0.1882, 0.7961, 0.7176, 0.7608, 0.8353, 0.7725, 0.7255, 0.7451,\n",
       "           0.7608, 0.7529, 0.7922, 0.8392, 0.8588, 0.8667, 0.8627, 0.9255,\n",
       "           0.8824, 0.8471, 0.7804, 0.8078, 0.7294, 0.7098, 0.6941, 0.6745,\n",
       "           0.7098, 0.8039, 0.8078, 0.4510],\n",
       "          [0.0000, 0.4784, 0.8588, 0.7569, 0.7020, 0.6706, 0.7176, 0.7686,\n",
       "           0.8000, 0.8235, 0.8353, 0.8118, 0.8275, 0.8235, 0.7843, 0.7686,\n",
       "           0.7608, 0.7490, 0.7647, 0.7490, 0.7765, 0.7529, 0.6902, 0.6118,\n",
       "           0.6549, 0.6941, 0.8235, 0.3608],\n",
       "          [0.0000, 0.0000, 0.2902, 0.7412, 0.8314, 0.7490, 0.6863, 0.6745,\n",
       "           0.6863, 0.7098, 0.7255, 0.7373, 0.7412, 0.7373, 0.7569, 0.7765,\n",
       "           0.8000, 0.8196, 0.8235, 0.8235, 0.8275, 0.7373, 0.7373, 0.7608,\n",
       "           0.7529, 0.8471, 0.6667, 0.0000],\n",
       "          [0.0078, 0.0000, 0.0000, 0.0000, 0.2588, 0.7843, 0.8706, 0.9294,\n",
       "           0.9373, 0.9490, 0.9647, 0.9529, 0.9569, 0.8667, 0.8627, 0.7569,\n",
       "           0.7490, 0.7020, 0.7137, 0.7137, 0.7098, 0.6902, 0.6510, 0.6588,\n",
       "           0.3882, 0.2275, 0.0000, 0.0000],\n",
       "          [0.0000, 0.0000, 0.0000, 0.0000, 0.0000, 0.0000, 0.0000, 0.1569,\n",
       "           0.2392, 0.1725, 0.2824, 0.1608, 0.1373, 0.0000, 0.0000, 0.0000,\n",
       "           0.0000, 0.0000, 0.0000, 0.0000, 0.0000, 0.0000, 0.0000, 0.0000,\n",
       "           0.0000, 0.0000, 0.0000, 0.0000],\n",
       "          [0.0000, 0.0000, 0.0000, 0.0000, 0.0000, 0.0000, 0.0000, 0.0000,\n",
       "           0.0000, 0.0000, 0.0000, 0.0000, 0.0000, 0.0000, 0.0000, 0.0000,\n",
       "           0.0000, 0.0000, 0.0000, 0.0000, 0.0000, 0.0000, 0.0000, 0.0000,\n",
       "           0.0000, 0.0000, 0.0000, 0.0000],\n",
       "          [0.0000, 0.0000, 0.0000, 0.0000, 0.0000, 0.0000, 0.0000, 0.0000,\n",
       "           0.0000, 0.0000, 0.0000, 0.0000, 0.0000, 0.0000, 0.0000, 0.0000,\n",
       "           0.0000, 0.0000, 0.0000, 0.0000, 0.0000, 0.0000, 0.0000, 0.0000,\n",
       "           0.0000, 0.0000, 0.0000, 0.0000]]]),\n",
       " 9)"
      ]
     },
     "execution_count": 4,
     "metadata": {},
     "output_type": "execute_result"
    }
   ],
   "source": [
    "image, label = train_data[0]\n",
    "image, label"
   ]
  },
  {
   "cell_type": "code",
   "execution_count": 5,
   "id": "0ec32116",
   "metadata": {
    "execution": {
     "iopub.execute_input": "2025-09-02T09:19:45.583742Z",
     "iopub.status.busy": "2025-09-02T09:19:45.582833Z",
     "iopub.status.idle": "2025-09-02T09:19:45.590507Z",
     "shell.execute_reply": "2025-09-02T09:19:45.589346Z"
    },
    "papermill": {
     "duration": 0.017183,
     "end_time": "2025-09-02T09:19:45.592513",
     "exception": false,
     "start_time": "2025-09-02T09:19:45.575330",
     "status": "completed"
    },
    "tags": []
   },
   "outputs": [
    {
     "data": {
      "text/plain": [
       "['T-shirt/top',\n",
       " 'Trouser',\n",
       " 'Pullover',\n",
       " 'Dress',\n",
       " 'Coat',\n",
       " 'Sandal',\n",
       " 'Shirt',\n",
       " 'Sneaker',\n",
       " 'Bag',\n",
       " 'Ankle boot']"
      ]
     },
     "execution_count": 5,
     "metadata": {},
     "output_type": "execute_result"
    }
   ],
   "source": [
    "class_names = train_data.classes\n",
    "class_names"
   ]
  },
  {
   "cell_type": "code",
   "execution_count": 6,
   "id": "dd242e2b",
   "metadata": {
    "execution": {
     "iopub.execute_input": "2025-09-02T09:19:45.605686Z",
     "iopub.status.busy": "2025-09-02T09:19:45.605376Z",
     "iopub.status.idle": "2025-09-02T09:19:45.612983Z",
     "shell.execute_reply": "2025-09-02T09:19:45.611762Z"
    },
    "papermill": {
     "duration": 0.016128,
     "end_time": "2025-09-02T09:19:45.614764",
     "exception": false,
     "start_time": "2025-09-02T09:19:45.598636",
     "status": "completed"
    },
    "tags": []
   },
   "outputs": [
    {
     "data": {
      "text/plain": [
       "{'T-shirt/top': 0,\n",
       " 'Trouser': 1,\n",
       " 'Pullover': 2,\n",
       " 'Dress': 3,\n",
       " 'Coat': 4,\n",
       " 'Sandal': 5,\n",
       " 'Shirt': 6,\n",
       " 'Sneaker': 7,\n",
       " 'Bag': 8,\n",
       " 'Ankle boot': 9}"
      ]
     },
     "execution_count": 6,
     "metadata": {},
     "output_type": "execute_result"
    }
   ],
   "source": [
    "class_to_idx = train_data.class_to_idx \n",
    "class_to_idx"
   ]
  },
  {
   "cell_type": "code",
   "execution_count": 7,
   "id": "bd3a48a3",
   "metadata": {
    "execution": {
     "iopub.execute_input": "2025-09-02T09:19:45.627830Z",
     "iopub.status.busy": "2025-09-02T09:19:45.627473Z",
     "iopub.status.idle": "2025-09-02T09:19:45.633308Z",
     "shell.execute_reply": "2025-09-02T09:19:45.632226Z"
    },
    "papermill": {
     "duration": 0.014339,
     "end_time": "2025-09-02T09:19:45.635022",
     "exception": false,
     "start_time": "2025-09-02T09:19:45.620683",
     "status": "completed"
    },
    "tags": []
   },
   "outputs": [
    {
     "name": "stdout",
     "output_type": "stream",
     "text": [
      "Image shape: torch.Size([1, 28, 28]) -> [color_cannels, height, width]\n",
      "image label: Ankle boot\n"
     ]
    }
   ],
   "source": [
    "print(f\"Image shape: {image.shape} -> [color_cannels, height, width]\")\n",
    "print(f\"image label: {class_names[label]}\")"
   ]
  },
  {
   "cell_type": "markdown",
   "id": "624305a4",
   "metadata": {
    "papermill": {
     "duration": 0.006249,
     "end_time": "2025-09-02T09:19:45.647422",
     "exception": false,
     "start_time": "2025-09-02T09:19:45.641173",
     "status": "completed"
    },
    "tags": []
   },
   "source": [
    "### 1.2 Visualizing data"
   ]
  },
  {
   "cell_type": "code",
   "execution_count": 8,
   "id": "d7f0de28",
   "metadata": {
    "execution": {
     "iopub.execute_input": "2025-09-02T09:19:45.661421Z",
     "iopub.status.busy": "2025-09-02T09:19:45.661075Z",
     "iopub.status.idle": "2025-09-02T09:19:46.016373Z",
     "shell.execute_reply": "2025-09-02T09:19:46.015314Z"
    },
    "papermill": {
     "duration": 0.363892,
     "end_time": "2025-09-02T09:19:46.018183",
     "exception": false,
     "start_time": "2025-09-02T09:19:45.654291",
     "status": "completed"
    },
    "tags": []
   },
   "outputs": [
    {
     "data": {
      "text/plain": [
       "<matplotlib.image.AxesImage at 0x794ee1ce4e90>"
      ]
     },
     "execution_count": 8,
     "metadata": {},
     "output_type": "execute_result"
    },
    {
     "data": {
      "image/png": "[encoded data removed]",
      "text/plain": [
       "<Figure size 640x480 with 1 Axes>"
      ]
     },
     "metadata": {},
     "output_type": "display_data"
    }
   ],
   "source": [
    "import matplotlib.pyplot as plt \n",
    "\n",
    "image, label = train_data[0]\n",
    "plt.imshow(image.squeeze()) # we need squeeze to remove the color channel dimension"
   ]
  },
  {
   "cell_type": "code",
   "execution_count": 9,
   "id": "78081e26",
   "metadata": {
    "execution": {
     "iopub.execute_input": "2025-09-02T09:19:46.032486Z",
     "iopub.status.busy": "2025-09-02T09:19:46.032143Z",
     "iopub.status.idle": "2025-09-02T09:19:46.144662Z",
     "shell.execute_reply": "2025-09-02T09:19:46.143532Z"
    },
    "papermill": {
     "duration": 0.121702,
     "end_time": "2025-09-02T09:19:46.146491",
     "exception": false,
     "start_time": "2025-09-02T09:19:46.024789",
     "status": "completed"
    },
    "tags": []
   },
   "outputs": [
    {
     "data": {
      "text/plain": [
       "(-0.5, 27.5, 27.5, -0.5)"
      ]
     },
     "execution_count": 9,
     "metadata": {},
     "output_type": "execute_result"
    },
    {
     "data": {
      "image/png": "[encoded data removed]",
      "text/plain": [
       "<Figure size 640x480 with 1 Axes>"
      ]
     },
     "metadata": {},
     "output_type": "display_data"
    }
   ],
   "source": [
    "plt.imshow(image.squeeze(), cmap=\"gray\")\n",
    "plt.title(class_names[label])\n",
    "plt.axis(False)"
   ]
  },
  {
   "cell_type": "code",
   "execution_count": 10,
   "id": "f1bcdfcd",
   "metadata": {
    "execution": {
     "iopub.execute_input": "2025-09-02T09:19:46.161129Z",
     "iopub.status.busy": "2025-09-02T09:19:46.160712Z",
     "iopub.status.idle": "2025-09-02T09:19:47.280951Z",
     "shell.execute_reply": "2025-09-02T09:19:47.279877Z"
    },
    "papermill": {
     "duration": 1.129393,
     "end_time": "2025-09-02T09:19:47.282618",
     "exception": false,
     "start_time": "2025-09-02T09:19:46.153225",
     "status": "completed"
    },
    "tags": []
   },
   "outputs": [
    {
     "data": {
      "image/png": "[encoded data removed]",
      "text/plain": [
       "<Figure size 900x900 with 16 Axes>"
      ]
     },
     "metadata": {},
     "output_type": "display_data"
    }
   ],
   "source": [
    "# plot more images \n",
    "# torch.manual_seed(42)\n",
    "\n",
    "fig = plt.figure(figsize=(9,9))\n",
    "rows, cols = 4,4 \n",
    "for i in range(1, rows*cols+1):\n",
    "    random_idx = torch.randint(0, len(train_data), size=[1]).item()\n",
    "    # print(random_idx)\n",
    "    img, label = train_data[random_idx]\n",
    "    fig.add_subplot(rows,cols,i)\n",
    "    plt.imshow(img.squeeze(), cmap=\"gray\")\n",
    "    plt.title(class_names[label])\n",
    "    plt.axis(False)"
   ]
  },
  {
   "cell_type": "code",
   "execution_count": null,
   "id": "86c364a8",
   "metadata": {
    "papermill": {
     "duration": 0.007066,
     "end_time": "2025-09-02T09:19:47.297489",
     "exception": false,
     "start_time": "2025-09-02T09:19:47.290423",
     "status": "completed"
    },
    "tags": []
   },
   "outputs": [],
   "source": []
  },
  {
   "cell_type": "code",
   "execution_count": null,
   "id": "7cbc4b0a",
   "metadata": {
    "papermill": {
     "duration": 0.007738,
     "end_time": "2025-09-02T09:19:47.312543",
     "exception": false,
     "start_time": "2025-09-02T09:19:47.304805",
     "status": "completed"
    },
    "tags": []
   },
   "outputs": [],
   "source": []
  },
  {
   "cell_type": "code",
   "execution_count": null,
   "id": "f98171e4",
   "metadata": {
    "papermill": {
     "duration": 0.007015,
     "end_time": "2025-09-02T09:19:47.327212",
     "exception": false,
     "start_time": "2025-09-02T09:19:47.320197",
     "status": "completed"
    },
    "tags": []
   },
   "outputs": [],
   "source": []
  },
  {
   "cell_type": "code",
   "execution_count": null,
   "id": "16fbbea6",
   "metadata": {
    "papermill": {
     "duration": 0.006995,
     "end_time": "2025-09-02T09:19:47.341481",
     "exception": false,
     "start_time": "2025-09-02T09:19:47.334486",
     "status": "completed"
    },
    "tags": []
   },
   "outputs": [],
   "source": []
  },
  {
   "cell_type": "code",
   "execution_count": null,
   "id": "3cd650d0",
   "metadata": {
    "papermill": {
     "duration": 0.007031,
     "end_time": "2025-09-02T09:19:47.355915",
     "exception": false,
     "start_time": "2025-09-02T09:19:47.348884",
     "status": "completed"
    },
    "tags": []
   },
   "outputs": [],
   "source": []
  },
  {
   "cell_type": "code",
   "execution_count": null,
   "id": "ef5ed970",
   "metadata": {
    "papermill": {
     "duration": 0.007127,
     "end_time": "2025-09-02T09:19:47.370322",
     "exception": false,
     "start_time": "2025-09-02T09:19:47.363195",
     "status": "completed"
    },
    "tags": []
   },
   "outputs": [],
   "source": []
  },
  {
   "cell_type": "code",
   "execution_count": null,
   "id": "6e6d8966",
   "metadata": {
    "papermill": {
     "duration": 0.007176,
     "end_time": "2025-09-02T09:19:47.385923",
     "exception": false,
     "start_time": "2025-09-02T09:19:47.378747",
     "status": "completed"
    },
    "tags": []
   },
   "outputs": [],
   "source": []
  },
  {
   "cell_type": "code",
   "execution_count": null,
   "id": "b0f8d60c",
   "metadata": {
    "papermill": {
     "duration": 0.00717,
     "end_time": "2025-09-02T09:19:47.400756",
     "exception": false,
     "start_time": "2025-09-02T09:19:47.393586",
     "status": "completed"
    },
    "tags": []
   },
   "outputs": [],
   "source": []
  },
  {
   "cell_type": "code",
   "execution_count": null,
   "id": "0b0a79b2",
   "metadata": {
    "papermill": {
     "duration": 0.006936,
     "end_time": "2025-09-02T09:19:47.415103",
     "exception": false,
     "start_time": "2025-09-02T09:19:47.408167",
     "status": "completed"
    },
    "tags": []
   },
   "outputs": [],
   "source": []
  },
  {
   "cell_type": "code",
   "execution_count": null,
   "id": "ba5386e4",
   "metadata": {
    "papermill": {
     "duration": 0.00715,
     "end_time": "2025-09-02T09:19:47.429495",
     "exception": false,
     "start_time": "2025-09-02T09:19:47.422345",
     "status": "completed"
    },
    "tags": []
   },
   "outputs": [],
   "source": []
  },
  {
   "cell_type": "code",
   "execution_count": null,
   "id": "9779f2c3",
   "metadata": {
    "papermill": {
     "duration": 0.006897,
     "end_time": "2025-09-02T09:19:47.443659",
     "exception": false,
     "start_time": "2025-09-02T09:19:47.436762",
     "status": "completed"
    },
    "tags": []
   },
   "outputs": [],
   "source": []
  },
  {
   "cell_type": "code",
   "execution_count": null,
   "id": "862f37db",
   "metadata": {
    "papermill": {
     "duration": 0.007433,
     "end_time": "2025-09-02T09:19:47.458217",
     "exception": false,
     "start_time": "2025-09-02T09:19:47.450784",
     "status": "completed"
    },
    "tags": []
   },
   "outputs": [],
   "source": []
  }
 ],
 "metadata": {
  "kaggle": {
   "accelerator": "none",
   "dataSources": [],
   "dockerImageVersionId": 31089,
   "isGpuEnabled": false,
   "isInternetEnabled": true,
   "language": "python",
   "sourceType": "notebook"
  },
  "kernelspec": {
   "display_name": "Python 3",
   "language": "python",
   "name": "python3"
  },
  "language_info": {
   "codemirror_mode": {
    "name": "ipython",
    "version": 3
   },
   "file_extension": ".py",
   "mimetype": "text/x-python",
   "name": "python",
   "nbconvert_exporter": "python",
   "pygments_lexer": "ipython3",
   "version": "3.11.13"
  },
  "papermill": {
   "default_parameters": {},
   "duration": 29.421604,
   "end_time": "2025-09-02T09:19:50.314543",
   "environment_variables": {},
   "exception": null,
   "input_path": "__notebook__.ipynb",
   "output_path": "__notebook__.ipynb",
   "parameters": {},
   "start_time": "2025-09-02T09:19:20.892939",
   "version": "2.6.0"
  }
 },
 "nbformat": 4,
 "nbformat_minor": 5
}
