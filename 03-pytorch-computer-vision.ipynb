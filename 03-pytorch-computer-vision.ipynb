{
 "cells": [
  {
   "cell_type": "markdown",
   "id": "257cd1ec",
   "metadata": {
    "papermill": {
     "duration": 0.004688,
     "end_time": "2025-09-02T09:08:18.431799",
     "exception": false,
     "start_time": "2025-09-02T09:08:18.427111",
     "status": "completed"
    },
    "tags": []
   },
   "source": [
    "# **PyTorch Computer Vision**"
   ]
  },
  {
   "cell_type": "markdown",
   "id": "b1ef7b9f",
   "metadata": {
    "papermill": {
     "duration": 0.003089,
     "end_time": "2025-09-02T09:08:18.438698",
     "exception": false,
     "start_time": "2025-09-02T09:08:18.435609",
     "status": "completed"
    },
    "tags": []
   },
   "source": [
    "## 0. Computer Vision libraries in Python \n",
    "* `torchvision` : base domain library for PyTorch CV \n",
    "* `torchvision.datasets` : get datasets and data loading functions for CV \n",
    "* `torchvision.models` : get pretrained CV models we can leverage for new problems \n",
    "* `torchvision.transform` : functions for manipulating your vision data (images) to be suitable for use with an ML model\n",
    "* `torch.utils.data.Dataset` : base dataset class for PyTorch \n",
    "* `torch.utils.data.DataLoader` : creates a python iterable over a dataset "
   ]
  },
  {
   "cell_type": "code",
   "execution_count": 1,
   "id": "5618c933",
   "metadata": {
    "execution": {
     "iopub.execute_input": "2025-09-02T09:08:18.446628Z",
     "iopub.status.busy": "2025-09-02T09:08:18.446306Z",
     "iopub.status.idle": "2025-09-02T09:08:30.913656Z",
     "shell.execute_reply": "2025-09-02T09:08:30.912560Z"
    },
    "papermill": {
     "duration": 12.473318,
     "end_time": "2025-09-02T09:08:30.915366",
     "exception": false,
     "start_time": "2025-09-02T09:08:18.442048",
     "status": "completed"
    },
    "tags": []
   },
   "outputs": [
    {
     "name": "stdout",
     "output_type": "stream",
     "text": [
      "2.6.0+cu124\n",
      "0.21.0+cu124\n"
     ]
    }
   ],
   "source": [
    "import torch \n",
    "from torch import nn \n",
    "\n",
    "import torchvision \n",
    "from torchvision import datasets \n",
    "from torchvision import transforms \n",
    "from torchvision.transforms import ToTensor \n",
    "\n",
    "import matplotlib.pyplot as plt \n",
    "\n",
    "print(torch.__version__)\n",
    "print(torchvision.__version__)"
   ]
  },
  {
   "cell_type": "markdown",
   "id": "90e48e30",
   "metadata": {
    "papermill": {
     "duration": 0.003268,
     "end_time": "2025-09-02T09:08:30.922514",
     "exception": false,
     "start_time": "2025-09-02T09:08:30.919246",
     "status": "completed"
    },
    "tags": []
   },
   "source": [
    "## 1. Getting a dataset : Fashion MNIST  "
   ]
  },
  {
   "cell_type": "code",
   "execution_count": 2,
   "id": "1376f116",
   "metadata": {
    "execution": {
     "iopub.execute_input": "2025-09-02T09:08:30.931306Z",
     "iopub.status.busy": "2025-09-02T09:08:30.930860Z",
     "iopub.status.idle": "2025-09-02T09:08:38.130080Z",
     "shell.execute_reply": "2025-09-02T09:08:38.129065Z"
    },
    "papermill": {
     "duration": 7.205646,
     "end_time": "2025-09-02T09:08:38.131723",
     "exception": false,
     "start_time": "2025-09-02T09:08:30.926077",
     "status": "completed"
    },
    "tags": []
   },
   "outputs": [
    {
     "name": "stderr",
     "output_type": "stream",
     "text": [
      "100%|██████████| 26.4M/26.4M [00:02<00:00, 10.3MB/s]\n",
      "100%|██████████| 29.5k/29.5k [00:00<00:00, 212kB/s]\n",
      "100%|██████████| 4.42M/4.42M [00:01<00:00, 3.88MB/s]\n",
      "100%|██████████| 5.15k/5.15k [00:00<00:00, 10.4MB/s]\n"
     ]
    }
   ],
   "source": [
    "# setup training data \n",
    "from torchvision import datasets \n",
    "train_data = datasets.FashionMNIST(\n",
    "    root=\"data\", # where to download data to\n",
    "    train=True,  # do we want the training dataset?\n",
    "    download=True, # do we want to download it?\n",
    "    transform=torchvision.transforms.ToTensor(), # how do we want to transform the data\n",
    "    target_transform=None # how do we want to transform the label \n",
    ")\n",
    "\n",
    "test_data = datasets.FashionMNIST(\n",
    "    root=\"data\", \n",
    "    train=False, \n",
    "    download=True,\n",
    "    transform=torchvision.transforms.ToTensor(),\n",
    "    target_transform=None\n",
    ")"
   ]
  },
  {
   "cell_type": "code",
   "execution_count": 3,
   "id": "18b63acc",
   "metadata": {
    "execution": {
     "iopub.execute_input": "2025-09-02T09:08:38.144304Z",
     "iopub.status.busy": "2025-09-02T09:08:38.143939Z",
     "iopub.status.idle": "2025-09-02T09:08:38.150601Z",
     "shell.execute_reply": "2025-09-02T09:08:38.149798Z"
    },
    "papermill": {
     "duration": 0.014638,
     "end_time": "2025-09-02T09:08:38.152176",
     "exception": false,
     "start_time": "2025-09-02T09:08:38.137538",
     "status": "completed"
    },
    "tags": []
   },
   "outputs": [
    {
     "data": {
      "text/plain": [
       "(60000, 10000)"
      ]
     },
     "execution_count": 3,
     "metadata": {},
     "output_type": "execute_result"
    }
   ],
   "source": [
    "len(train_data), len(test_data)"
   ]
  },
  {
   "cell_type": "code",
   "execution_count": null,
   "id": "3b1265d9",
   "metadata": {
    "papermill": {
     "duration": 0.00518,
     "end_time": "2025-09-02T09:08:38.163037",
     "exception": false,
     "start_time": "2025-09-02T09:08:38.157857",
     "status": "completed"
    },
    "tags": []
   },
   "outputs": [],
   "source": []
  },
  {
   "cell_type": "code",
   "execution_count": null,
   "id": "3938f855",
   "metadata": {
    "papermill": {
     "duration": 0.0051,
     "end_time": "2025-09-02T09:08:38.174386",
     "exception": false,
     "start_time": "2025-09-02T09:08:38.169286",
     "status": "completed"
    },
    "tags": []
   },
   "outputs": [],
   "source": []
  },
  {
   "cell_type": "code",
   "execution_count": null,
   "id": "3a5ea1bc",
   "metadata": {
    "papermill": {
     "duration": 0.005186,
     "end_time": "2025-09-02T09:08:38.185106",
     "exception": false,
     "start_time": "2025-09-02T09:08:38.179920",
     "status": "completed"
    },
    "tags": []
   },
   "outputs": [],
   "source": []
  },
  {
   "cell_type": "code",
   "execution_count": null,
   "id": "2cd89918",
   "metadata": {
    "papermill": {
     "duration": 0.005118,
     "end_time": "2025-09-02T09:08:38.195557",
     "exception": false,
     "start_time": "2025-09-02T09:08:38.190439",
     "status": "completed"
    },
    "tags": []
   },
   "outputs": [],
   "source": []
  },
  {
   "cell_type": "code",
   "execution_count": null,
   "id": "e52844c3",
   "metadata": {
    "papermill": {
     "duration": 0.00588,
     "end_time": "2025-09-02T09:08:38.206809",
     "exception": false,
     "start_time": "2025-09-02T09:08:38.200929",
     "status": "completed"
    },
    "tags": []
   },
   "outputs": [],
   "source": []
  },
  {
   "cell_type": "code",
   "execution_count": null,
   "id": "4a469866",
   "metadata": {
    "papermill": {
     "duration": 0.005107,
     "end_time": "2025-09-02T09:08:38.217538",
     "exception": false,
     "start_time": "2025-09-02T09:08:38.212431",
     "status": "completed"
    },
    "tags": []
   },
   "outputs": [],
   "source": []
  },
  {
   "cell_type": "code",
   "execution_count": null,
   "id": "4a7cb0c9",
   "metadata": {
    "papermill": {
     "duration": 0.005199,
     "end_time": "2025-09-02T09:08:38.228088",
     "exception": false,
     "start_time": "2025-09-02T09:08:38.222889",
     "status": "completed"
    },
    "tags": []
   },
   "outputs": [],
   "source": []
  },
  {
   "cell_type": "code",
   "execution_count": null,
   "id": "25a04207",
   "metadata": {
    "papermill": {
     "duration": 0.004987,
     "end_time": "2025-09-02T09:08:38.238795",
     "exception": false,
     "start_time": "2025-09-02T09:08:38.233808",
     "status": "completed"
    },
    "tags": []
   },
   "outputs": [],
   "source": []
  },
  {
   "cell_type": "code",
   "execution_count": null,
   "id": "adca7578",
   "metadata": {
    "papermill": {
     "duration": 0.005021,
     "end_time": "2025-09-02T09:08:38.249050",
     "exception": false,
     "start_time": "2025-09-02T09:08:38.244029",
     "status": "completed"
    },
    "tags": []
   },
   "outputs": [],
   "source": []
  },
  {
   "cell_type": "code",
   "execution_count": null,
   "id": "c200f051",
   "metadata": {
    "papermill": {
     "duration": 0.004995,
     "end_time": "2025-09-02T09:08:38.259347",
     "exception": false,
     "start_time": "2025-09-02T09:08:38.254352",
     "status": "completed"
    },
    "tags": []
   },
   "outputs": [],
   "source": []
  },
  {
   "cell_type": "code",
   "execution_count": null,
   "id": "238b3d0a",
   "metadata": {
    "papermill": {
     "duration": 0.005121,
     "end_time": "2025-09-02T09:08:38.269927",
     "exception": false,
     "start_time": "2025-09-02T09:08:38.264806",
     "status": "completed"
    },
    "tags": []
   },
   "outputs": [],
   "source": []
  },
  {
   "cell_type": "code",
   "execution_count": null,
   "id": "fd1340be",
   "metadata": {
    "papermill": {
     "duration": 0.004992,
     "end_time": "2025-09-02T09:08:38.280471",
     "exception": false,
     "start_time": "2025-09-02T09:08:38.275479",
     "status": "completed"
    },
    "tags": []
   },
   "outputs": [],
   "source": []
  },
  {
   "cell_type": "code",
   "execution_count": null,
   "id": "75eaacf7",
   "metadata": {
    "papermill": {
     "duration": 0.004941,
     "end_time": "2025-09-02T09:08:38.290594",
     "exception": false,
     "start_time": "2025-09-02T09:08:38.285653",
     "status": "completed"
    },
    "tags": []
   },
   "outputs": [],
   "source": []
  },
  {
   "cell_type": "code",
   "execution_count": null,
   "id": "27246a88",
   "metadata": {
    "papermill": {
     "duration": 0.004995,
     "end_time": "2025-09-02T09:08:38.301145",
     "exception": false,
     "start_time": "2025-09-02T09:08:38.296150",
     "status": "completed"
    },
    "tags": []
   },
   "outputs": [],
   "source": []
  },
  {
   "cell_type": "code",
   "execution_count": null,
   "id": "5ee8aa4f",
   "metadata": {
    "papermill": {
     "duration": 0.005002,
     "end_time": "2025-09-02T09:08:38.311384",
     "exception": false,
     "start_time": "2025-09-02T09:08:38.306382",
     "status": "completed"
    },
    "tags": []
   },
   "outputs": [],
   "source": []
  },
  {
   "cell_type": "code",
   "execution_count": null,
   "id": "12f731e5",
   "metadata": {
    "papermill": {
     "duration": 0.005021,
     "end_time": "2025-09-02T09:08:38.321719",
     "exception": false,
     "start_time": "2025-09-02T09:08:38.316698",
     "status": "completed"
    },
    "tags": []
   },
   "outputs": [],
   "source": []
  },
  {
   "cell_type": "code",
   "execution_count": null,
   "id": "3d2515b0",
   "metadata": {
    "papermill": {
     "duration": 0.005071,
     "end_time": "2025-09-02T09:08:38.332295",
     "exception": false,
     "start_time": "2025-09-02T09:08:38.327224",
     "status": "completed"
    },
    "tags": []
   },
   "outputs": [],
   "source": []
  }
 ],
 "metadata": {
  "kaggle": {
   "accelerator": "none",
   "dataSources": [],
   "dockerImageVersionId": 31089,
   "isGpuEnabled": false,
   "isInternetEnabled": true,
   "language": "python",
   "sourceType": "notebook"
  },
  "kernelspec": {
   "display_name": "Python 3",
   "language": "python",
   "name": "python3"
  },
  "language_info": {
   "codemirror_mode": {
    "name": "ipython",
    "version": 3
   },
   "file_extension": ".py",
   "mimetype": "text/x-python",
   "name": "python",
   "nbconvert_exporter": "python",
   "pygments_lexer": "ipython3",
   "version": "3.11.13"
  },
  "papermill": {
   "default_parameters": {},
   "duration": 27.684952,
   "end_time": "2025-09-02T09:08:40.263485",
   "environment_variables": {},
   "exception": null,
   "input_path": "__notebook__.ipynb",
   "output_path": "__notebook__.ipynb",
   "parameters": {},
   "start_time": "2025-09-02T09:08:12.578533",
   "version": "2.6.0"
  }
 },
 "nbformat": 4,
 "nbformat_minor": 5
}
