{
 "cells": [
  {
   "cell_type": "markdown",
   "id": "a503dc99",
   "metadata": {
    "papermill": {
     "duration": 0.009158,
     "end_time": "2025-09-03T09:20:35.984576",
     "exception": false,
     "start_time": "2025-09-03T09:20:35.975418",
     "status": "completed"
    },
    "tags": []
   },
   "source": [
    "# **PyTorch Computer Vision**"
   ]
  },
  {
   "cell_type": "markdown",
   "id": "d93c9d49",
   "metadata": {
    "papermill": {
     "duration": 0.007573,
     "end_time": "2025-09-03T09:20:36.000348",
     "exception": false,
     "start_time": "2025-09-03T09:20:35.992775",
     "status": "completed"
    },
    "tags": []
   },
   "source": [
    "## 0. Computer Vision libraries in Python \n",
    "* `torchvision` : base domain library for PyTorch CV \n",
    "* `torchvision.datasets` : get datasets and data loading functions for CV \n",
    "* `torchvision.models` : get pretrained CV models we can leverage for new problems \n",
    "* `torchvision.transform` : functions for manipulating your vision data (images) to be suitable for use with an ML model\n",
    "* `torch.utils.data.Dataset` : base dataset class for PyTorch \n",
    "* `torch.utils.data.DataLoader` : creates a python iterable over a dataset "
   ]
  },
  {
   "cell_type": "code",
   "execution_count": 1,
   "id": "82cf1410",
   "metadata": {
    "execution": {
     "iopub.execute_input": "2025-09-03T09:20:36.018987Z",
     "iopub.status.busy": "2025-09-03T09:20:36.018588Z",
     "iopub.status.idle": "2025-09-03T09:20:48.935467Z",
     "shell.execute_reply": "2025-09-03T09:20:48.934230Z"
    },
    "papermill": {
     "duration": 12.928454,
     "end_time": "2025-09-03T09:20:48.937214",
     "exception": false,
     "start_time": "2025-09-03T09:20:36.008760",
     "status": "completed"
    },
    "tags": []
   },
   "outputs": [
    {
     "name": "stdout",
     "output_type": "stream",
     "text": [
      "2.6.0+cu124\n",
      "0.21.0+cu124\n"
     ]
    }
   ],
   "source": [
    "import torch \n",
    "from torch import nn \n",
    "\n",
    "import torchvision \n",
    "from torchvision import datasets \n",
    "from torchvision import transforms \n",
    "from torchvision.transforms import ToTensor \n",
    "\n",
    "import matplotlib.pyplot as plt \n",
    "\n",
    "print(torch.__version__)\n",
    "print(torchvision.__version__)"
   ]
  },
  {
   "cell_type": "markdown",
   "id": "f3fa937d",
   "metadata": {
    "papermill": {
     "duration": 0.007592,
     "end_time": "2025-09-03T09:20:48.953230",
     "exception": false,
     "start_time": "2025-09-03T09:20:48.945638",
     "status": "completed"
    },
    "tags": []
   },
   "source": [
    "## 1. Getting a dataset : Fashion MNIST  "
   ]
  },
  {
   "cell_type": "code",
   "execution_count": 2,
   "id": "e99708ef",
   "metadata": {
    "execution": {
     "iopub.execute_input": "2025-09-03T09:20:48.970589Z",
     "iopub.status.busy": "2025-09-03T09:20:48.970189Z",
     "iopub.status.idle": "2025-09-03T09:20:50.458230Z",
     "shell.execute_reply": "2025-09-03T09:20:50.457239Z"
    },
    "papermill": {
     "duration": 1.499471,
     "end_time": "2025-09-03T09:20:50.460663",
     "exception": false,
     "start_time": "2025-09-03T09:20:48.961192",
     "status": "completed"
    },
    "tags": []
   },
   "outputs": [
    {
     "name": "stderr",
     "output_type": "stream",
     "text": [
      "100%|██████████| 26.4M/26.4M [00:00<00:00, 114MB/s]\n",
      "100%|██████████| 29.5k/29.5k [00:00<00:00, 4.18MB/s]\n",
      "100%|██████████| 4.42M/4.42M [00:00<00:00, 63.2MB/s]\n",
      "100%|██████████| 5.15k/5.15k [00:00<00:00, 6.24MB/s]\n"
     ]
    }
   ],
   "source": [
    "# setup training data \n",
    "from torchvision import datasets \n",
    "train_data = datasets.FashionMNIST(\n",
    "    root=\"data\", # where to download data to\n",
    "    train=True,  # do we want the training dataset?\n",
    "    download=True, # do we want to download it?\n",
    "    transform=torchvision.transforms.ToTensor(), # how do we want to transform the data\n",
    "    target_transform=None # how do we want to transform the label \n",
    ")\n",
    "\n",
    "test_data = datasets.FashionMNIST(\n",
    "    root=\"data\", \n",
    "    train=False, \n",
    "    download=True,\n",
    "    transform=torchvision.transforms.ToTensor(),\n",
    "    target_transform=None\n",
    ")"
   ]
  },
  {
   "cell_type": "code",
   "execution_count": 3,
   "id": "a35e9e0a",
   "metadata": {
    "execution": {
     "iopub.execute_input": "2025-09-03T09:20:50.480359Z",
     "iopub.status.busy": "2025-09-03T09:20:50.480046Z",
     "iopub.status.idle": "2025-09-03T09:20:50.487659Z",
     "shell.execute_reply": "2025-09-03T09:20:50.486259Z"
    },
    "papermill": {
     "duration": 0.020382,
     "end_time": "2025-09-03T09:20:50.490184",
     "exception": false,
     "start_time": "2025-09-03T09:20:50.469802",
     "status": "completed"
    },
    "tags": []
   },
   "outputs": [
    {
     "data": {
      "text/plain": [
       "(60000, 10000)"
      ]
     },
     "execution_count": 3,
     "metadata": {},
     "output_type": "execute_result"
    }
   ],
   "source": [
    "len(train_data), len(test_data)"
   ]
  },
  {
   "cell_type": "code",
   "execution_count": 4,
   "id": "5c08895d",
   "metadata": {
    "execution": {
     "iopub.execute_input": "2025-09-03T09:20:50.512451Z",
     "iopub.status.busy": "2025-09-03T09:20:50.512156Z",
     "iopub.status.idle": "2025-09-03T09:20:50.556049Z",
     "shell.execute_reply": "2025-09-03T09:20:50.555031Z"
    },
    "papermill": {
     "duration": 0.058463,
     "end_time": "2025-09-03T09:20:50.557760",
     "exception": false,
     "start_time": "2025-09-03T09:20:50.499297",
     "status": "completed"
    },
    "tags": []
   },
   "outputs": [
    {
     "data": {
      "text/plain": [
       "(tensor([[[0.0000, 0.0000, 0.0000, 0.0000, 0.0000, 0.0000, 0.0000, 0.0000,\n",
       "           0.0000, 0.0000, 0.0000, 0.0000, 0.0000, 0.0000, 0.0000, 0.0000,\n",
       "           0.0000, 0.0000, 0.0000, 0.0000, 0.0000, 0.0000, 0.0000, 0.0000,\n",
       "           0.0000, 0.0000, 0.0000, 0.0000],\n",
       "          [0.0000, 0.0000, 0.0000, 0.0000, 0.0000, 0.0000, 0.0000, 0.0000,\n",
       "           0.0000, 0.0000, 0.0000, 0.0000, 0.0000, 0.0000, 0.0000, 0.0000,\n",
       "           0.0000, 0.0000, 0.0000, 0.0000, 0.0000, 0.0000, 0.0000, 0.0000,\n",
       "           0.0000, 0.0000, 0.0000, 0.0000],\n",
       "          [0.0000, 0.0000, 0.0000, 0.0000, 0.0000, 0.0000, 0.0000, 0.0000,\n",
       "           0.0000, 0.0000, 0.0000, 0.0000, 0.0000, 0.0000, 0.0000, 0.0000,\n",
       "           0.0000, 0.0000, 0.0000, 0.0000, 0.0000, 0.0000, 0.0000, 0.0000,\n",
       "           0.0000, 0.0000, 0.0000, 0.0000],\n",
       "          [0.0000, 0.0000, 0.0000, 0.0000, 0.0000, 0.0000, 0.0000, 0.0000,\n",
       "           0.0000, 0.0000, 0.0000, 0.0000, 0.0039, 0.0000, 0.0000, 0.0510,\n",
       "           0.2863, 0.0000, 0.0000, 0.0039, 0.0157, 0.0000, 0.0000, 0.0000,\n",
       "           0.0000, 0.0039, 0.0039, 0.0000],\n",
       "          [0.0000, 0.0000, 0.0000, 0.0000, 0.0000, 0.0000, 0.0000, 0.0000,\n",
       "           0.0000, 0.0000, 0.0000, 0.0000, 0.0118, 0.0000, 0.1412, 0.5333,\n",
       "           0.4980, 0.2431, 0.2118, 0.0000, 0.0000, 0.0000, 0.0039, 0.0118,\n",
       "           0.0157, 0.0000, 0.0000, 0.0118],\n",
       "          [0.0000, 0.0000, 0.0000, 0.0000, 0.0000, 0.0000, 0.0000, 0.0000,\n",
       "           0.0000, 0.0000, 0.0000, 0.0000, 0.0235, 0.0000, 0.4000, 0.8000,\n",
       "           0.6902, 0.5255, 0.5647, 0.4824, 0.0902, 0.0000, 0.0000, 0.0000,\n",
       "           0.0000, 0.0471, 0.0392, 0.0000],\n",
       "          [0.0000, 0.0000, 0.0000, 0.0000, 0.0000, 0.0000, 0.0000, 0.0000,\n",
       "           0.0000, 0.0000, 0.0000, 0.0000, 0.0000, 0.0000, 0.6078, 0.9255,\n",
       "           0.8118, 0.6980, 0.4196, 0.6118, 0.6314, 0.4275, 0.2510, 0.0902,\n",
       "           0.3020, 0.5098, 0.2824, 0.0588],\n",
       "          [0.0000, 0.0000, 0.0000, 0.0000, 0.0000, 0.0000, 0.0000, 0.0000,\n",
       "           0.0000, 0.0000, 0.0000, 0.0039, 0.0000, 0.2706, 0.8118, 0.8745,\n",
       "           0.8549, 0.8471, 0.8471, 0.6392, 0.4980, 0.4745, 0.4784, 0.5725,\n",
       "           0.5529, 0.3451, 0.6745, 0.2588],\n",
       "          [0.0000, 0.0000, 0.0000, 0.0000, 0.0000, 0.0000, 0.0000, 0.0000,\n",
       "           0.0000, 0.0039, 0.0039, 0.0039, 0.0000, 0.7843, 0.9098, 0.9098,\n",
       "           0.9137, 0.8980, 0.8745, 0.8745, 0.8431, 0.8353, 0.6431, 0.4980,\n",
       "           0.4824, 0.7686, 0.8980, 0.0000],\n",
       "          [0.0000, 0.0000, 0.0000, 0.0000, 0.0000, 0.0000, 0.0000, 0.0000,\n",
       "           0.0000, 0.0000, 0.0000, 0.0000, 0.0000, 0.7176, 0.8824, 0.8471,\n",
       "           0.8745, 0.8941, 0.9216, 0.8902, 0.8784, 0.8706, 0.8784, 0.8667,\n",
       "           0.8745, 0.9608, 0.6784, 0.0000],\n",
       "          [0.0000, 0.0000, 0.0000, 0.0000, 0.0000, 0.0000, 0.0000, 0.0000,\n",
       "           0.0000, 0.0000, 0.0000, 0.0000, 0.0000, 0.7569, 0.8941, 0.8549,\n",
       "           0.8353, 0.7765, 0.7059, 0.8314, 0.8235, 0.8275, 0.8353, 0.8745,\n",
       "           0.8627, 0.9529, 0.7922, 0.0000],\n",
       "          [0.0000, 0.0000, 0.0000, 0.0000, 0.0000, 0.0000, 0.0000, 0.0000,\n",
       "           0.0000, 0.0039, 0.0118, 0.0000, 0.0471, 0.8588, 0.8627, 0.8314,\n",
       "           0.8549, 0.7529, 0.6627, 0.8902, 0.8157, 0.8549, 0.8784, 0.8314,\n",
       "           0.8863, 0.7725, 0.8196, 0.2039],\n",
       "          [0.0000, 0.0000, 0.0000, 0.0000, 0.0000, 0.0000, 0.0000, 0.0000,\n",
       "           0.0000, 0.0000, 0.0235, 0.0000, 0.3882, 0.9569, 0.8706, 0.8627,\n",
       "           0.8549, 0.7961, 0.7765, 0.8667, 0.8431, 0.8353, 0.8706, 0.8627,\n",
       "           0.9608, 0.4667, 0.6549, 0.2196],\n",
       "          [0.0000, 0.0000, 0.0000, 0.0000, 0.0000, 0.0000, 0.0000, 0.0000,\n",
       "           0.0000, 0.0157, 0.0000, 0.0000, 0.2157, 0.9255, 0.8941, 0.9020,\n",
       "           0.8941, 0.9412, 0.9098, 0.8353, 0.8549, 0.8745, 0.9176, 0.8510,\n",
       "           0.8510, 0.8196, 0.3608, 0.0000],\n",
       "          [0.0000, 0.0000, 0.0039, 0.0157, 0.0235, 0.0275, 0.0078, 0.0000,\n",
       "           0.0000, 0.0000, 0.0000, 0.0000, 0.9294, 0.8863, 0.8510, 0.8745,\n",
       "           0.8706, 0.8588, 0.8706, 0.8667, 0.8471, 0.8745, 0.8980, 0.8431,\n",
       "           0.8549, 1.0000, 0.3020, 0.0000],\n",
       "          [0.0000, 0.0118, 0.0000, 0.0000, 0.0000, 0.0000, 0.0000, 0.0000,\n",
       "           0.0000, 0.2431, 0.5686, 0.8000, 0.8941, 0.8118, 0.8353, 0.8667,\n",
       "           0.8549, 0.8157, 0.8275, 0.8549, 0.8784, 0.8745, 0.8588, 0.8431,\n",
       "           0.8784, 0.9569, 0.6235, 0.0000],\n",
       "          [0.0000, 0.0000, 0.0000, 0.0000, 0.0706, 0.1725, 0.3216, 0.4196,\n",
       "           0.7412, 0.8941, 0.8627, 0.8706, 0.8510, 0.8863, 0.7843, 0.8039,\n",
       "           0.8275, 0.9020, 0.8784, 0.9176, 0.6902, 0.7373, 0.9804, 0.9725,\n",
       "           0.9137, 0.9333, 0.8431, 0.0000],\n",
       "          [0.0000, 0.2235, 0.7333, 0.8157, 0.8784, 0.8667, 0.8784, 0.8157,\n",
       "           0.8000, 0.8392, 0.8157, 0.8196, 0.7843, 0.6235, 0.9608, 0.7569,\n",
       "           0.8078, 0.8745, 1.0000, 1.0000, 0.8667, 0.9176, 0.8667, 0.8275,\n",
       "           0.8627, 0.9098, 0.9647, 0.0000],\n",
       "          [0.0118, 0.7922, 0.8941, 0.8784, 0.8667, 0.8275, 0.8275, 0.8392,\n",
       "           0.8039, 0.8039, 0.8039, 0.8627, 0.9412, 0.3137, 0.5882, 1.0000,\n",
       "           0.8980, 0.8667, 0.7373, 0.6039, 0.7490, 0.8235, 0.8000, 0.8196,\n",
       "           0.8706, 0.8941, 0.8824, 0.0000],\n",
       "          [0.3843, 0.9137, 0.7765, 0.8235, 0.8706, 0.8980, 0.8980, 0.9176,\n",
       "           0.9765, 0.8627, 0.7608, 0.8431, 0.8510, 0.9451, 0.2549, 0.2863,\n",
       "           0.4157, 0.4588, 0.6588, 0.8588, 0.8667, 0.8431, 0.8510, 0.8745,\n",
       "           0.8745, 0.8784, 0.8980, 0.1137],\n",
       "          [0.2941, 0.8000, 0.8314, 0.8000, 0.7569, 0.8039, 0.8275, 0.8824,\n",
       "           0.8471, 0.7255, 0.7725, 0.8078, 0.7765, 0.8353, 0.9412, 0.7647,\n",
       "           0.8902, 0.9608, 0.9373, 0.8745, 0.8549, 0.8314, 0.8196, 0.8706,\n",
       "           0.8627, 0.8667, 0.9020, 0.2627],\n",
       "          [0.1882, 0.7961, 0.7176, 0.7608, 0.8353, 0.7725, 0.7255, 0.7451,\n",
       "           0.7608, 0.7529, 0.7922, 0.8392, 0.8588, 0.8667, 0.8627, 0.9255,\n",
       "           0.8824, 0.8471, 0.7804, 0.8078, 0.7294, 0.7098, 0.6941, 0.6745,\n",
       "           0.7098, 0.8039, 0.8078, 0.4510],\n",
       "          [0.0000, 0.4784, 0.8588, 0.7569, 0.7020, 0.6706, 0.7176, 0.7686,\n",
       "           0.8000, 0.8235, 0.8353, 0.8118, 0.8275, 0.8235, 0.7843, 0.7686,\n",
       "           0.7608, 0.7490, 0.7647, 0.7490, 0.7765, 0.7529, 0.6902, 0.6118,\n",
       "           0.6549, 0.6941, 0.8235, 0.3608],\n",
       "          [0.0000, 0.0000, 0.2902, 0.7412, 0.8314, 0.7490, 0.6863, 0.6745,\n",
       "           0.6863, 0.7098, 0.7255, 0.7373, 0.7412, 0.7373, 0.7569, 0.7765,\n",
       "           0.8000, 0.8196, 0.8235, 0.8235, 0.8275, 0.7373, 0.7373, 0.7608,\n",
       "           0.7529, 0.8471, 0.6667, 0.0000],\n",
       "          [0.0078, 0.0000, 0.0000, 0.0000, 0.2588, 0.7843, 0.8706, 0.9294,\n",
       "           0.9373, 0.9490, 0.9647, 0.9529, 0.9569, 0.8667, 0.8627, 0.7569,\n",
       "           0.7490, 0.7020, 0.7137, 0.7137, 0.7098, 0.6902, 0.6510, 0.6588,\n",
       "           0.3882, 0.2275, 0.0000, 0.0000],\n",
       "          [0.0000, 0.0000, 0.0000, 0.0000, 0.0000, 0.0000, 0.0000, 0.1569,\n",
       "           0.2392, 0.1725, 0.2824, 0.1608, 0.1373, 0.0000, 0.0000, 0.0000,\n",
       "           0.0000, 0.0000, 0.0000, 0.0000, 0.0000, 0.0000, 0.0000, 0.0000,\n",
       "           0.0000, 0.0000, 0.0000, 0.0000],\n",
       "          [0.0000, 0.0000, 0.0000, 0.0000, 0.0000, 0.0000, 0.0000, 0.0000,\n",
       "           0.0000, 0.0000, 0.0000, 0.0000, 0.0000, 0.0000, 0.0000, 0.0000,\n",
       "           0.0000, 0.0000, 0.0000, 0.0000, 0.0000, 0.0000, 0.0000, 0.0000,\n",
       "           0.0000, 0.0000, 0.0000, 0.0000],\n",
       "          [0.0000, 0.0000, 0.0000, 0.0000, 0.0000, 0.0000, 0.0000, 0.0000,\n",
       "           0.0000, 0.0000, 0.0000, 0.0000, 0.0000, 0.0000, 0.0000, 0.0000,\n",
       "           0.0000, 0.0000, 0.0000, 0.0000, 0.0000, 0.0000, 0.0000, 0.0000,\n",
       "           0.0000, 0.0000, 0.0000, 0.0000]]]),\n",
       " 9)"
      ]
     },
     "execution_count": 4,
     "metadata": {},
     "output_type": "execute_result"
    }
   ],
   "source": [
    "image, label = train_data[0]\n",
    "image, label"
   ]
  },
  {
   "cell_type": "code",
   "execution_count": 5,
   "id": "78044c9e",
   "metadata": {
    "execution": {
     "iopub.execute_input": "2025-09-03T09:20:50.579011Z",
     "iopub.status.busy": "2025-09-03T09:20:50.578631Z",
     "iopub.status.idle": "2025-09-03T09:20:50.584967Z",
     "shell.execute_reply": "2025-09-03T09:20:50.583795Z"
    },
    "papermill": {
     "duration": 0.019249,
     "end_time": "2025-09-03T09:20:50.587308",
     "exception": false,
     "start_time": "2025-09-03T09:20:50.568059",
     "status": "completed"
    },
    "tags": []
   },
   "outputs": [
    {
     "data": {
      "text/plain": [
       "['T-shirt/top',\n",
       " 'Trouser',\n",
       " 'Pullover',\n",
       " 'Dress',\n",
       " 'Coat',\n",
       " 'Sandal',\n",
       " 'Shirt',\n",
       " 'Sneaker',\n",
       " 'Bag',\n",
       " 'Ankle boot']"
      ]
     },
     "execution_count": 5,
     "metadata": {},
     "output_type": "execute_result"
    }
   ],
   "source": [
    "class_names = train_data.classes\n",
    "class_names"
   ]
  },
  {
   "cell_type": "code",
   "execution_count": 6,
   "id": "9527d069",
   "metadata": {
    "execution": {
     "iopub.execute_input": "2025-09-03T09:20:50.606922Z",
     "iopub.status.busy": "2025-09-03T09:20:50.606529Z",
     "iopub.status.idle": "2025-09-03T09:20:50.612533Z",
     "shell.execute_reply": "2025-09-03T09:20:50.611580Z"
    },
    "papermill": {
     "duration": 0.017757,
     "end_time": "2025-09-03T09:20:50.614213",
     "exception": false,
     "start_time": "2025-09-03T09:20:50.596456",
     "status": "completed"
    },
    "tags": []
   },
   "outputs": [
    {
     "data": {
      "text/plain": [
       "{'T-shirt/top': 0,\n",
       " 'Trouser': 1,\n",
       " 'Pullover': 2,\n",
       " 'Dress': 3,\n",
       " 'Coat': 4,\n",
       " 'Sandal': 5,\n",
       " 'Shirt': 6,\n",
       " 'Sneaker': 7,\n",
       " 'Bag': 8,\n",
       " 'Ankle boot': 9}"
      ]
     },
     "execution_count": 6,
     "metadata": {},
     "output_type": "execute_result"
    }
   ],
   "source": [
    "class_to_idx = train_data.class_to_idx \n",
    "class_to_idx"
   ]
  },
  {
   "cell_type": "code",
   "execution_count": 7,
   "id": "efcca276",
   "metadata": {
    "execution": {
     "iopub.execute_input": "2025-09-03T09:20:50.634083Z",
     "iopub.status.busy": "2025-09-03T09:20:50.633693Z",
     "iopub.status.idle": "2025-09-03T09:20:50.638869Z",
     "shell.execute_reply": "2025-09-03T09:20:50.637910Z"
    },
    "papermill": {
     "duration": 0.016878,
     "end_time": "2025-09-03T09:20:50.640459",
     "exception": false,
     "start_time": "2025-09-03T09:20:50.623581",
     "status": "completed"
    },
    "tags": []
   },
   "outputs": [
    {
     "name": "stdout",
     "output_type": "stream",
     "text": [
      "Image shape: torch.Size([1, 28, 28]) -> [color_cannels, height, width]\n",
      "image label: Ankle boot\n"
     ]
    }
   ],
   "source": [
    "print(f\"Image shape: {image.shape} -> [color_cannels, height, width]\")\n",
    "print(f\"image label: {class_names[label]}\")"
   ]
  },
  {
   "cell_type": "markdown",
   "id": "f5ad943e",
   "metadata": {
    "papermill": {
     "duration": 0.009466,
     "end_time": "2025-09-03T09:20:50.659452",
     "exception": false,
     "start_time": "2025-09-03T09:20:50.649986",
     "status": "completed"
    },
    "tags": []
   },
   "source": [
    "### 1.2 Visualizing data"
   ]
  },
  {
   "cell_type": "code",
   "execution_count": 8,
   "id": "292196ea",
   "metadata": {
    "execution": {
     "iopub.execute_input": "2025-09-03T09:20:50.683112Z",
     "iopub.status.busy": "2025-09-03T09:20:50.682778Z",
     "iopub.status.idle": "2025-09-03T09:20:51.016557Z",
     "shell.execute_reply": "2025-09-03T09:20:51.015615Z"
    },
    "papermill": {
     "duration": 0.34799,
     "end_time": "2025-09-03T09:20:51.018441",
     "exception": false,
     "start_time": "2025-09-03T09:20:50.670451",
     "status": "completed"
    },
    "tags": []
   },
   "outputs": [
    {
     "data": {
      "text/plain": [
       "<matplotlib.image.AxesImage at 0x7a4c1d7aa610>"
      ]
     },
     "execution_count": 8,
     "metadata": {},
     "output_type": "execute_result"
    },
    {
     "data": {
      "image/png": "[encoded data removed]",
      "text/plain": [
       "<Figure size 640x480 with 1 Axes>"
      ]
     },
     "metadata": {},
     "output_type": "display_data"
    }
   ],
   "source": [
    "import matplotlib.pyplot as plt \n",
    "\n",
    "image, label = train_data[0]\n",
    "plt.imshow(image.squeeze()) # we need squeeze to remove the color channel dimension"
   ]
  },
  {
   "cell_type": "code",
   "execution_count": 9,
   "id": "d769b271",
   "metadata": {
    "execution": {
     "iopub.execute_input": "2025-09-03T09:20:51.041118Z",
     "iopub.status.busy": "2025-09-03T09:20:51.040775Z",
     "iopub.status.idle": "2025-09-03T09:20:51.157900Z",
     "shell.execute_reply": "2025-09-03T09:20:51.156824Z"
    },
    "papermill": {
     "duration": 0.130845,
     "end_time": "2025-09-03T09:20:51.159489",
     "exception": false,
     "start_time": "2025-09-03T09:20:51.028644",
     "status": "completed"
    },
    "tags": []
   },
   "outputs": [
    {
     "data": {
      "text/plain": [
       "(-0.5, 27.5, 27.5, -0.5)"
      ]
     },
     "execution_count": 9,
     "metadata": {},
     "output_type": "execute_result"
    },
    {
     "data": {
      "image/png": "[encoded data removed]",
      "text/plain": [
       "<Figure size 640x480 with 1 Axes>"
      ]
     },
     "metadata": {},
     "output_type": "display_data"
    }
   ],
   "source": [
    "plt.imshow(image.squeeze(), cmap=\"gray\")\n",
    "plt.title(class_names[label])\n",
    "plt.axis(False)"
   ]
  },
  {
   "cell_type": "code",
   "execution_count": 10,
   "id": "e26a1559",
   "metadata": {
    "execution": {
     "iopub.execute_input": "2025-09-03T09:20:51.181005Z",
     "iopub.status.busy": "2025-09-03T09:20:51.180648Z",
     "iopub.status.idle": "2025-09-03T09:20:52.310302Z",
     "shell.execute_reply": "2025-09-03T09:20:52.308779Z"
    },
    "papermill": {
     "duration": 1.142298,
     "end_time": "2025-09-03T09:20:52.312094",
     "exception": false,
     "start_time": "2025-09-03T09:20:51.169796",
     "status": "completed"
    },
    "tags": []
   },
   "outputs": [
    {
     "data": {
      "image/png": "[encoded data removed]",
      "text/plain": [
       "<Figure size 900x900 with 16 Axes>"
      ]
     },
     "metadata": {},
     "output_type": "display_data"
    }
   ],
   "source": [
    "# plot more images \n",
    "# torch.manual_seed(42)\n",
    "\n",
    "fig = plt.figure(figsize=(9,9))\n",
    "rows, cols = 4,4 \n",
    "for i in range(1, rows*cols+1):\n",
    "    random_idx = torch.randint(0, len(train_data), size=[1]).item()\n",
    "    # print(random_idx)\n",
    "    img, label = train_data[random_idx]\n",
    "    fig.add_subplot(rows,cols,i)\n",
    "    plt.imshow(img.squeeze(), cmap=\"gray\")\n",
    "    plt.title(class_names[label])\n",
    "    plt.axis(False)"
   ]
  },
  {
   "cell_type": "code",
   "execution_count": 11,
   "id": "14f9ff70",
   "metadata": {
    "execution": {
     "iopub.execute_input": "2025-09-03T09:20:52.336890Z",
     "iopub.status.busy": "2025-09-03T09:20:52.336583Z",
     "iopub.status.idle": "2025-09-03T09:20:52.344144Z",
     "shell.execute_reply": "2025-09-03T09:20:52.342995Z"
    },
    "papermill": {
     "duration": 0.022519,
     "end_time": "2025-09-03T09:20:52.345764",
     "exception": false,
     "start_time": "2025-09-03T09:20:52.323245",
     "status": "completed"
    },
    "tags": []
   },
   "outputs": [
    {
     "data": {
      "text/plain": [
       "(Dataset FashionMNIST\n",
       "     Number of datapoints: 60000\n",
       "     Root location: data\n",
       "     Split: Train\n",
       "     StandardTransform\n",
       " Transform: ToTensor(),\n",
       " Dataset FashionMNIST\n",
       "     Number of datapoints: 10000\n",
       "     Root location: data\n",
       "     Split: Test\n",
       "     StandardTransform\n",
       " Transform: ToTensor())"
      ]
     },
     "execution_count": 11,
     "metadata": {},
     "output_type": "execute_result"
    }
   ],
   "source": [
    "train_data, test_data"
   ]
  },
  {
   "cell_type": "markdown",
   "id": "b19a7aca",
   "metadata": {
    "papermill": {
     "duration": 0.010582,
     "end_time": "2025-09-03T09:20:52.435737",
     "exception": false,
     "start_time": "2025-09-03T09:20:52.425155",
     "status": "completed"
    },
    "tags": []
   },
   "source": [
    "## 2. Prepare DataLoader\n",
    "\n",
    "* Right now data is in the form of PyTorch Datasets\n",
    "* DataLoader turns the dataset into a Python iterable\n",
    "* more specifically, we want to turn our data into batches (or mini batches)\n",
    "  1. it is more computationally efficient, as in the computing hardware may not be able to look (store in memory) at 6000 images in one hit. So we break it down to 32 images at a time (batch size = 32)\n",
    "    2. it gives our NN more chances to update its ggradients per epoch (every 32 images)"
   ]
  },
  {
   "cell_type": "code",
   "execution_count": 12,
   "id": "e4aeacf0",
   "metadata": {
    "execution": {
     "iopub.execute_input": "2025-09-03T09:20:52.458835Z",
     "iopub.status.busy": "2025-09-03T09:20:52.458486Z",
     "iopub.status.idle": "2025-09-03T09:20:52.466900Z",
     "shell.execute_reply": "2025-09-03T09:20:52.465696Z"
    },
    "papermill": {
     "duration": 0.022401,
     "end_time": "2025-09-03T09:20:52.468934",
     "exception": false,
     "start_time": "2025-09-03T09:20:52.446533",
     "status": "completed"
    },
    "tags": []
   },
   "outputs": [
    {
     "data": {
      "text/plain": [
       "(<torch.utils.data.dataloader.DataLoader at 0x7a4c14ba3f50>,\n",
       " <torch.utils.data.dataloader.DataLoader at 0x7a4c13114610>)"
      ]
     },
     "execution_count": 12,
     "metadata": {},
     "output_type": "execute_result"
    }
   ],
   "source": [
    "from torch.utils.data import DataLoader \n",
    "\n",
    "# setup the batch size hyperparameter \n",
    "BATCH_SIZE = 32 \n",
    "\n",
    "# turn dataset into iterables (batches)\n",
    "train_dataloader = DataLoader(\n",
    "    dataset=train_data,\n",
    "    batch_size=BATCH_SIZE,\n",
    "    shuffle=True\n",
    ")\n",
    "\n",
    "test_dataloader = DataLoader(\n",
    "    dataset=test_data, \n",
    "    batch_size=BATCH_SIZE,\n",
    "    shuffle=False\n",
    ")\n",
    "\n",
    "train_dataloader, test_dataloader"
   ]
  },
  {
   "cell_type": "code",
   "execution_count": 13,
   "id": "a6d4ff57",
   "metadata": {
    "execution": {
     "iopub.execute_input": "2025-09-03T09:20:52.494337Z",
     "iopub.status.busy": "2025-09-03T09:20:52.494023Z",
     "iopub.status.idle": "2025-09-03T09:20:52.499359Z",
     "shell.execute_reply": "2025-09-03T09:20:52.498252Z"
    },
    "papermill": {
     "duration": 0.01985,
     "end_time": "2025-09-03T09:20:52.500924",
     "exception": false,
     "start_time": "2025-09-03T09:20:52.481074",
     "status": "completed"
    },
    "tags": []
   },
   "outputs": [
    {
     "name": "stdout",
     "output_type": "stream",
     "text": [
      "Dataloaders: (<torch.utils.data.dataloader.DataLoader object at 0x7a4c14ba3f50>, <torch.utils.data.dataloader.DataLoader object at 0x7a4c13114610>)\n",
      "Length of train_dataloader: 1875,batches of 32...\n",
      "Length of test_dataloader: 313, batches of 32\n"
     ]
    }
   ],
   "source": [
    "print(f\"Dataloaders: {train_dataloader, test_dataloader}\")\n",
    "print(f\"Length of train_dataloader: {len(train_dataloader)},batches of {BATCH_SIZE}...\")\n",
    "print(f\"Length of test_dataloader: {len(test_dataloader)}, batches of {BATCH_SIZE}\")"
   ]
  },
  {
   "cell_type": "code",
   "execution_count": 14,
   "id": "bcb86a34",
   "metadata": {
    "execution": {
     "iopub.execute_input": "2025-09-03T09:20:52.527708Z",
     "iopub.status.busy": "2025-09-03T09:20:52.527344Z",
     "iopub.status.idle": "2025-09-03T09:20:52.534537Z",
     "shell.execute_reply": "2025-09-03T09:20:52.533612Z"
    },
    "papermill": {
     "duration": 0.023258,
     "end_time": "2025-09-03T09:20:52.536284",
     "exception": false,
     "start_time": "2025-09-03T09:20:52.513026",
     "status": "completed"
    },
    "tags": []
   },
   "outputs": [
    {
     "data": {
      "text/plain": [
       "(312.5, 10000.0)"
      ]
     },
     "execution_count": 14,
     "metadata": {},
     "output_type": "execute_result"
    }
   ],
   "source": [
    "10000/32, 32*312.5"
   ]
  },
  {
   "cell_type": "code",
   "execution_count": 15,
   "id": "62df5326",
   "metadata": {
    "execution": {
     "iopub.execute_input": "2025-09-03T09:20:52.561381Z",
     "iopub.status.busy": "2025-09-03T09:20:52.561085Z",
     "iopub.status.idle": "2025-09-03T09:20:52.584844Z",
     "shell.execute_reply": "2025-09-03T09:20:52.583603Z"
    },
    "papermill": {
     "duration": 0.038638,
     "end_time": "2025-09-03T09:20:52.586614",
     "exception": false,
     "start_time": "2025-09-03T09:20:52.547976",
     "status": "completed"
    },
    "tags": []
   },
   "outputs": [
    {
     "data": {
      "text/plain": [
       "(torch.Size([32, 1, 28, 28]), torch.Size([32]))"
      ]
     },
     "execution_count": 15,
     "metadata": {},
     "output_type": "execute_result"
    }
   ],
   "source": [
    "train_features_batch, train_labels_batch = next(iter(train_dataloader)) # iter turns train_dataloader into an iterable and next gets us the next batch\n",
    "train_features_batch.shape, train_labels_batch.shape"
   ]
  },
  {
   "cell_type": "code",
   "execution_count": 16,
   "id": "75d35fa1",
   "metadata": {
    "execution": {
     "iopub.execute_input": "2025-09-03T09:20:52.612004Z",
     "iopub.status.busy": "2025-09-03T09:20:52.611607Z",
     "iopub.status.idle": "2025-09-03T09:20:52.731700Z",
     "shell.execute_reply": "2025-09-03T09:20:52.730697Z"
    },
    "papermill": {
     "duration": 0.134697,
     "end_time": "2025-09-03T09:20:52.733549",
     "exception": false,
     "start_time": "2025-09-03T09:20:52.598852",
     "status": "completed"
    },
    "tags": []
   },
   "outputs": [
    {
     "name": "stdout",
     "output_type": "stream",
     "text": [
      "Image size: torch.Size([1, 28, 28])\n",
      "Label: 6, label size: torch.Size([])\n"
     ]
    },
    {
     "data": {
      "image/png": "[encoded data removed]",
      "text/plain": [
       "<Figure size 640x480 with 1 Axes>"
      ]
     },
     "metadata": {},
     "output_type": "display_data"
    }
   ],
   "source": [
    "# show a sample \n",
    "torch.manual_seed(42)\n",
    "random_idx = torch.randint(0,len(train_features_batch), size=[1]).item()\n",
    "img, label = train_features_batch[random_idx], train_labels_batch[random_idx]\n",
    "plt.imshow(img.squeeze(), cmap=\"gray\")\n",
    "plt.title(class_names[label])\n",
    "plt.axis(False)\n",
    "print(f\"Image size: {img.shape}\")\n",
    "print(f\"Label: {label}, label size: {label.shape}\")"
   ]
  },
  {
   "cell_type": "markdown",
   "id": "df04776f",
   "metadata": {
    "papermill": {
     "duration": 0.011339,
     "end_time": "2025-09-03T09:20:52.757369",
     "exception": false,
     "start_time": "2025-09-03T09:20:52.746030",
     "status": "completed"
    },
    "tags": []
   },
   "source": [
    "## 3. Model 0: baseline model "
   ]
  },
  {
   "cell_type": "code",
   "execution_count": 17,
   "id": "3fc8127e",
   "metadata": {
    "execution": {
     "iopub.execute_input": "2025-09-03T09:20:52.787538Z",
     "iopub.status.busy": "2025-09-03T09:20:52.787216Z",
     "iopub.status.idle": "2025-09-03T09:20:52.795993Z",
     "shell.execute_reply": "2025-09-03T09:20:52.794567Z"
    },
    "papermill": {
     "duration": 0.027408,
     "end_time": "2025-09-03T09:20:52.798406",
     "exception": false,
     "start_time": "2025-09-03T09:20:52.770998",
     "status": "completed"
    },
    "tags": []
   },
   "outputs": [
    {
     "data": {
      "text/plain": [
       "torch.Size([1, 28, 28])"
      ]
     },
     "execution_count": 17,
     "metadata": {},
     "output_type": "execute_result"
    }
   ],
   "source": [
    "# create a flatten layer \n",
    "flatten_model = nn.Flatten()\n",
    "\n",
    "# get a single sample \n",
    "x = train_features_batch[0]\n",
    "x.shape"
   ]
  },
  {
   "cell_type": "code",
   "execution_count": 18,
   "id": "d9072661",
   "metadata": {
    "execution": {
     "iopub.execute_input": "2025-09-03T09:20:52.831139Z",
     "iopub.status.busy": "2025-09-03T09:20:52.830820Z",
     "iopub.status.idle": "2025-09-03T09:20:52.837232Z",
     "shell.execute_reply": "2025-09-03T09:20:52.836056Z"
    },
    "papermill": {
     "duration": 0.023953,
     "end_time": "2025-09-03T09:20:52.839151",
     "exception": false,
     "start_time": "2025-09-03T09:20:52.815198",
     "status": "completed"
    },
    "tags": []
   },
   "outputs": [
    {
     "name": "stdout",
     "output_type": "stream",
     "text": [
      "Shape before flattening: torch.Size([1, 28, 28]) -> [C, H, W]\n",
      "Shape after flattening: torch.Size([1, 784]) -> [C, H*W]\n"
     ]
    }
   ],
   "source": [
    "# flatten the sample \n",
    "output = flatten_model(x)\n",
    "print(f\"Shape before flattening: {x.shape} -> [C, H, W]\")\n",
    "print(f\"Shape after flattening: {output.shape} -> [C, H*W]\")"
   ]
  },
  {
   "cell_type": "code",
   "execution_count": 19,
   "id": "21ec0487",
   "metadata": {
    "execution": {
     "iopub.execute_input": "2025-09-03T09:20:52.872539Z",
     "iopub.status.busy": "2025-09-03T09:20:52.872251Z",
     "iopub.status.idle": "2025-09-03T09:20:52.878984Z",
     "shell.execute_reply": "2025-09-03T09:20:52.877773Z"
    },
    "papermill": {
     "duration": 0.025322,
     "end_time": "2025-09-03T09:20:52.880969",
     "exception": false,
     "start_time": "2025-09-03T09:20:52.855647",
     "status": "completed"
    },
    "tags": []
   },
   "outputs": [],
   "source": [
    "from torch import nn \n",
    "class FashionMNISTModelV0(nn.Module):\n",
    "    def __init__(\n",
    "        self, \n",
    "        input_shape: int, \n",
    "        hidden_units: int,\n",
    "        output_shape: int\n",
    "    ) :\n",
    "        super().__init__()\n",
    "        self.layer_stack = nn.Sequential(\n",
    "            nn.Flatten(),\n",
    "            nn.Linear(\n",
    "                in_features = input_shape,\n",
    "                out_features = hidden_units\n",
    "            ),\n",
    "            nn.Linear(\n",
    "                in_features = hidden_units,\n",
    "                out_features = output_shape\n",
    "            )\n",
    "        )\n",
    "\n",
    "    def forward(self, x):\n",
    "        return self.layer_stack(x)"
   ]
  },
  {
   "cell_type": "code",
   "execution_count": 20,
   "id": "13d6f5c6",
   "metadata": {
    "execution": {
     "iopub.execute_input": "2025-09-03T09:20:52.907907Z",
     "iopub.status.busy": "2025-09-03T09:20:52.907589Z",
     "iopub.status.idle": "2025-09-03T09:20:52.917246Z",
     "shell.execute_reply": "2025-09-03T09:20:52.916038Z"
    },
    "papermill": {
     "duration": 0.025974,
     "end_time": "2025-09-03T09:20:52.918990",
     "exception": false,
     "start_time": "2025-09-03T09:20:52.893016",
     "status": "completed"
    },
    "tags": []
   },
   "outputs": [
    {
     "data": {
      "text/plain": [
       "FashionMNISTModelV0(\n",
       "  (layer_stack): Sequential(\n",
       "    (0): Flatten(start_dim=1, end_dim=-1)\n",
       "    (1): Linear(in_features=784, out_features=10, bias=True)\n",
       "    (2): Linear(in_features=10, out_features=10, bias=True)\n",
       "  )\n",
       ")"
      ]
     },
     "execution_count": 20,
     "metadata": {},
     "output_type": "execute_result"
    }
   ],
   "source": [
    "torch.manual_seed(42)\n",
    "\n",
    "# setup model with input parameters \n",
    "model_0 = FashionMNISTModelV0(\n",
    "    input_shape = 28*28, # 784\n",
    "    hidden_units = 10, \n",
    "    output_shape= len(class_names) # one for each class\n",
    ")\n",
    "\n",
    "model_0"
   ]
  },
  {
   "cell_type": "code",
   "execution_count": 21,
   "id": "1bb78f0d",
   "metadata": {
    "execution": {
     "iopub.execute_input": "2025-09-03T09:20:52.943837Z",
     "iopub.status.busy": "2025-09-03T09:20:52.943558Z",
     "iopub.status.idle": "2025-09-03T09:20:52.961608Z",
     "shell.execute_reply": "2025-09-03T09:20:52.960692Z"
    },
    "papermill": {
     "duration": 0.032568,
     "end_time": "2025-09-03T09:20:52.963326",
     "exception": false,
     "start_time": "2025-09-03T09:20:52.930758",
     "status": "completed"
    },
    "tags": []
   },
   "outputs": [
    {
     "data": {
      "text/plain": [
       "tensor([[-0.0315,  0.3171,  0.0531, -0.2525,  0.5959,  0.2112,  0.3233,  0.2694,\n",
       "         -0.1004,  0.0157]], grad_fn=<AddmmBackward0>)"
      ]
     },
     "execution_count": 21,
     "metadata": {},
     "output_type": "execute_result"
    }
   ],
   "source": [
    "dummy_x = torch.rand([1,1,28,28])\n",
    "model_0(dummy_x)"
   ]
  },
  {
   "cell_type": "code",
   "execution_count": 22,
   "id": "e8f70811",
   "metadata": {
    "execution": {
     "iopub.execute_input": "2025-09-03T09:20:52.992474Z",
     "iopub.status.busy": "2025-09-03T09:20:52.992182Z",
     "iopub.status.idle": "2025-09-03T09:20:53.004901Z",
     "shell.execute_reply": "2025-09-03T09:20:53.003807Z"
    },
    "papermill": {
     "duration": 0.030054,
     "end_time": "2025-09-03T09:20:53.006672",
     "exception": false,
     "start_time": "2025-09-03T09:20:52.976618",
     "status": "completed"
    },
    "tags": []
   },
   "outputs": [
    {
     "data": {
      "text/plain": [
       "OrderedDict([('layer_stack.1.weight',\n",
       "              tensor([[ 0.0273,  0.0296, -0.0084,  ..., -0.0142,  0.0093,  0.0135],\n",
       "                      [-0.0188, -0.0354,  0.0187,  ..., -0.0106, -0.0001,  0.0115],\n",
       "                      [-0.0008,  0.0017,  0.0045,  ..., -0.0127, -0.0188,  0.0059],\n",
       "                      ...,\n",
       "                      [-0.0116,  0.0273, -0.0344,  ...,  0.0176,  0.0283, -0.0011],\n",
       "                      [-0.0230,  0.0257,  0.0291,  ..., -0.0187, -0.0087,  0.0001],\n",
       "                      [ 0.0176, -0.0147,  0.0053,  ..., -0.0336, -0.0221,  0.0205]])),\n",
       "             ('layer_stack.1.bias',\n",
       "              tensor([-0.0093,  0.0283, -0.0033,  0.0255,  0.0017,  0.0037, -0.0302, -0.0123,\n",
       "                       0.0018,  0.0163])),\n",
       "             ('layer_stack.2.weight',\n",
       "              tensor([[ 0.0614, -0.0687,  0.0021,  0.2718,  0.2109,  0.1079, -0.2279, -0.1063,\n",
       "                        0.2019,  0.2847],\n",
       "                      [-0.1495,  0.1344, -0.0740,  0.2006, -0.0475, -0.2514, -0.3130, -0.0118,\n",
       "                        0.0932, -0.1864],\n",
       "                      [ 0.2488,  0.1500,  0.1907,  0.1457, -0.3050, -0.0580,  0.1643,  0.1565,\n",
       "                       -0.2877, -0.1792],\n",
       "                      [ 0.2305, -0.2618,  0.2397, -0.0610,  0.0232,  0.1542,  0.0851, -0.2027,\n",
       "                        0.1030, -0.2715],\n",
       "                      [-0.1596, -0.0555, -0.0633,  0.2302, -0.1726,  0.2654,  0.1473,  0.1029,\n",
       "                        0.2252, -0.2160],\n",
       "                      [-0.2725,  0.0118,  0.1559,  0.1596,  0.0132,  0.3024,  0.1124,  0.1366,\n",
       "                       -0.1533,  0.0965],\n",
       "                      [-0.1184, -0.2555, -0.2057, -0.1909, -0.0477, -0.1324,  0.2905,  0.1307,\n",
       "                       -0.2629,  0.0133],\n",
       "                      [ 0.2727, -0.0127,  0.0513,  0.0863, -0.1043, -0.2047, -0.1185, -0.0825,\n",
       "                        0.2488, -0.2571],\n",
       "                      [ 0.0425, -0.1209, -0.0336, -0.0281, -0.1227,  0.0730,  0.0747, -0.1816,\n",
       "                        0.1943,  0.2853],\n",
       "                      [-0.1310,  0.0645, -0.1171,  0.2168, -0.0245, -0.2820,  0.0736,  0.2621,\n",
       "                        0.0012, -0.0810]])),\n",
       "             ('layer_stack.2.bias',\n",
       "              tensor([-0.0087,  0.1791,  0.2712, -0.0791,  0.1685,  0.1762,  0.2825,  0.2266,\n",
       "                      -0.2612, -0.2613]))])"
      ]
     },
     "execution_count": 22,
     "metadata": {},
     "output_type": "execute_result"
    }
   ],
   "source": [
    "model_0.state_dict()"
   ]
  },
  {
   "cell_type": "markdown",
   "id": "2d503628",
   "metadata": {
    "papermill": {
     "duration": 0.012381,
     "end_time": "2025-09-03T09:20:53.032259",
     "exception": false,
     "start_time": "2025-09-03T09:20:53.019878",
     "status": "completed"
    },
    "tags": []
   },
   "source": [
    "### 3.1 Setup loss, optimizer and evaluation metrics \n",
    "* Loss function : since we're working with multi-class data -> `nn.CrossEntropyLoss()`\n",
    "* Optimizer : stochastic gradient descent -> `torch.optim.SGD()`\n",
    "* Evaluation metric : since we are working on a classification problem, let's use accuracy "
   ]
  },
  {
   "cell_type": "code",
   "execution_count": 23,
   "id": "37b02081",
   "metadata": {
    "execution": {
     "iopub.execute_input": "2025-09-03T09:20:53.059095Z",
     "iopub.status.busy": "2025-09-03T09:20:53.058773Z",
     "iopub.status.idle": "2025-09-03T09:20:53.339652Z",
     "shell.execute_reply": "2025-09-03T09:20:53.338287Z"
    },
    "papermill": {
     "duration": 0.29675,
     "end_time": "2025-09-03T09:20:53.341532",
     "exception": false,
     "start_time": "2025-09-03T09:20:53.044782",
     "status": "completed"
    },
    "tags": []
   },
   "outputs": [
    {
     "name": "stdout",
     "output_type": "stream",
     "text": [
      "Downloading helper_functions.py\n"
     ]
    }
   ],
   "source": [
    "import requests \n",
    "from pathlib import Path \n",
    "\n",
    "if Path(\"helper_functions.py\").is_file() :\n",
    "    print(\"helper_functions.py already exists, skipping download\")\n",
    "else : \n",
    "    print(\"Downloading helper_functions.py\")\n",
    "    request = requests.get(\"https://raw.githubusercontent.com/mrdbourke/pytorch-deep-learning/af6548e52663c8395fe2777bd0fbfd6ac85fd6f8/helper_functions.py\")\n",
    "    with open(\"helper_functions.py\", \"wb\") as f:\n",
    "        f.write(request.content)"
   ]
  },
  {
   "cell_type": "code",
   "execution_count": 24,
   "id": "c58ef51a",
   "metadata": {
    "execution": {
     "iopub.execute_input": "2025-09-03T09:20:53.366601Z",
     "iopub.status.busy": "2025-09-03T09:20:53.366287Z",
     "iopub.status.idle": "2025-09-03T09:20:53.501882Z",
     "shell.execute_reply": "2025-09-03T09:20:53.500449Z"
    },
    "papermill": {
     "duration": 0.150368,
     "end_time": "2025-09-03T09:20:53.503926",
     "exception": false,
     "start_time": "2025-09-03T09:20:53.353558",
     "status": "completed"
    },
    "tags": []
   },
   "outputs": [
    {
     "name": "stdout",
     "output_type": "stream",
     "text": [
      "data  helper_functions.py  __notebook__.ipynb\r\n"
     ]
    }
   ],
   "source": [
    "!ls"
   ]
  },
  {
   "cell_type": "code",
   "execution_count": 25,
   "id": "ebe62de7",
   "metadata": {
    "execution": {
     "iopub.execute_input": "2025-09-03T09:20:53.534801Z",
     "iopub.status.busy": "2025-09-03T09:20:53.533554Z",
     "iopub.status.idle": "2025-09-03T09:20:53.549696Z",
     "shell.execute_reply": "2025-09-03T09:20:53.548369Z"
    },
    "papermill": {
     "duration": 0.034439,
     "end_time": "2025-09-03T09:20:53.552603",
     "exception": false,
     "start_time": "2025-09-03T09:20:53.518164",
     "status": "completed"
    },
    "tags": []
   },
   "outputs": [],
   "source": [
    "from helper_functions import accuracy_fn \n",
    "\n",
    "# setup loss function and optimizer \n",
    "loss_fn = nn.CrossEntropyLoss()\n",
    "optimizer = torch.optim.SGD(\n",
    "    params=model_0.parameters(),\n",
    "    lr=0.1\n",
    ")"
   ]
  },
  {
   "cell_type": "markdown",
   "id": "19ddd19e",
   "metadata": {
    "papermill": {
     "duration": 0.015198,
     "end_time": "2025-09-03T09:20:53.585970",
     "exception": false,
     "start_time": "2025-09-03T09:20:53.570772",
     "status": "completed"
    },
    "tags": []
   },
   "source": [
    "### 3.2 Creating a function to time our experiments\n",
    "\n",
    "ML is very experimental. Two of the main things we want to track are:\n",
    "1. Model's performance (e.g. loss and accuracy)\n",
    "2. How fast it runs "
   ]
  },
  {
   "cell_type": "code",
   "execution_count": 26,
   "id": "97f5f058",
   "metadata": {
    "execution": {
     "iopub.execute_input": "2025-09-03T09:20:53.625862Z",
     "iopub.status.busy": "2025-09-03T09:20:53.625471Z",
     "iopub.status.idle": "2025-09-03T09:20:53.633481Z",
     "shell.execute_reply": "2025-09-03T09:20:53.632178Z"
    },
    "papermill": {
     "duration": 0.029119,
     "end_time": "2025-09-03T09:20:53.635747",
     "exception": false,
     "start_time": "2025-09-03T09:20:53.606628",
     "status": "completed"
    },
    "tags": []
   },
   "outputs": [],
   "source": [
    "from timeit import default_timer as timer \n",
    "def print_train_time(\n",
    "    start: float, \n",
    "    end: float, \n",
    "    device: torch.device = None\n",
    "):\n",
    "    \"\"\"\n",
    "    Prints difference between start and end time\n",
    "    \"\"\"\n",
    "    total_time = end - start\n",
    "    print(f\"Train time on {device}: {total_time:.3f} seconds\")\n",
    "    return total_time "
   ]
  },
  {
   "cell_type": "code",
   "execution_count": 27,
   "id": "edc66696",
   "metadata": {
    "execution": {
     "iopub.execute_input": "2025-09-03T09:20:53.668832Z",
     "iopub.status.busy": "2025-09-03T09:20:53.667840Z",
     "iopub.status.idle": "2025-09-03T09:20:53.676195Z",
     "shell.execute_reply": "2025-09-03T09:20:53.674736Z"
    },
    "papermill": {
     "duration": 0.024278,
     "end_time": "2025-09-03T09:20:53.678048",
     "exception": false,
     "start_time": "2025-09-03T09:20:53.653770",
     "status": "completed"
    },
    "tags": []
   },
   "outputs": [
    {
     "name": "stdout",
     "output_type": "stream",
     "text": [
      "Train time on cpu: 0.000 seconds\n"
     ]
    },
    {
     "data": {
      "text/plain": [
       "3.1590999924446805e-05"
      ]
     },
     "execution_count": 27,
     "metadata": {},
     "output_type": "execute_result"
    }
   ],
   "source": [
    "start_time = timer()\n",
    "# code \n",
    "end_time = timer()\n",
    "print_train_time(start_time, end_time, \"cpu\")"
   ]
  },
  {
   "cell_type": "markdown",
   "id": "9543c864",
   "metadata": {
    "papermill": {
     "duration": 0.011862,
     "end_time": "2025-09-03T09:20:53.703997",
     "exception": false,
     "start_time": "2025-09-03T09:20:53.692135",
     "status": "completed"
    },
    "tags": []
   },
   "source": [
    "### 3.3 Creating a training loop and training the model on batches of data \n",
    "1. Loop through epochs\n",
    "2. Loop through training batches, perform training steps, calculate the train loss *per batch*\n",
    "3. Loop through testing batches, perform testing steps, calculate the test loss *per batch*\n",
    "4. Print out what's happning\n",
    "5. Time it all\n",
    "\n",
    "The **optimizer** will update a model's parameters **once per batch rather than once per epoch**"
   ]
  },
  {
   "cell_type": "code",
   "execution_count": 28,
   "id": "70d11905",
   "metadata": {
    "execution": {
     "iopub.execute_input": "2025-09-03T09:20:53.731867Z",
     "iopub.status.busy": "2025-09-03T09:20:53.731554Z",
     "iopub.status.idle": "2025-09-03T09:21:24.673624Z",
     "shell.execute_reply": "2025-09-03T09:21:24.672504Z"
    },
    "papermill": {
     "duration": 30.972095,
     "end_time": "2025-09-03T09:21:24.688873",
     "exception": false,
     "start_time": "2025-09-03T09:20:53.716778",
     "status": "completed"
    },
    "tags": []
   },
   "outputs": [
    {
     "data": {
      "application/vnd.jupyter.widget-view+json": {
       "model_id": "80febdd754464a75863f8d4b8d9e468a",
       "version_major": 2,
       "version_minor": 0
      },
      "text/plain": [
       "  0%|          | 0/3 [00:00<?, ?it/s]"
      ]
     },
     "metadata": {},
     "output_type": "display_data"
    },
    {
     "name": "stdout",
     "output_type": "stream",
     "text": [
      "Epoch: 0\n",
      "-------\n",
      "Looked at 0/60000 samples\n",
      "Looked at 12800/60000 samples\n",
      "Looked at 25600/60000 samples\n",
      "Looked at 38400/60000 samples\n",
      "Looked at 51200/60000 samples\n",
      "\n",
      "Train loss: 0.59039 | Test loss: 0.50954, Test acc: 82.04%\n",
      "\n",
      "Epoch: 1\n",
      "-------\n",
      "Looked at 0/60000 samples\n",
      "Looked at 12800/60000 samples\n",
      "Looked at 25600/60000 samples\n",
      "Looked at 38400/60000 samples\n",
      "Looked at 51200/60000 samples\n",
      "\n",
      "Train loss: 0.47633 | Test loss: 0.47989, Test acc: 83.20%\n",
      "\n",
      "Epoch: 2\n",
      "-------\n",
      "Looked at 0/60000 samples\n",
      "Looked at 12800/60000 samples\n",
      "Looked at 25600/60000 samples\n",
      "Looked at 38400/60000 samples\n",
      "Looked at 51200/60000 samples\n",
      "\n",
      "Train loss: 0.45503 | Test loss: 0.47664, Test acc: 83.43%\n",
      "\n",
      "Train time on cpu: 30.743 seconds\n"
     ]
    }
   ],
   "source": [
    "# Import tqdm for progress bar\n",
    "from tqdm.auto import tqdm\n",
    "\n",
    "# Set the seed and start the timer\n",
    "torch.manual_seed(42)\n",
    "train_time_start_on_cpu = timer()\n",
    "\n",
    "# Set the number of epochs (we'll keep this small for faster training times)\n",
    "epochs = 3\n",
    "\n",
    "# Create training and testing loop\n",
    "for epoch in tqdm(range(epochs)):\n",
    "    print(f\"Epoch: {epoch}\\n-------\")\n",
    "    ### Training\n",
    "    train_loss = 0\n",
    "    # Add a loop to loop through training batches\n",
    "    for batch, (X, y) in enumerate(train_dataloader):\n",
    "        model_0.train() \n",
    "        # 1. Forward pass\n",
    "        y_pred = model_0(X)\n",
    "\n",
    "        # 2. Calculate loss (per batch)\n",
    "        loss = loss_fn(y_pred, y)\n",
    "        train_loss += loss # accumulatively add up the loss per epoch \n",
    "\n",
    "        # 3. Optimizer zero grad\n",
    "        optimizer.zero_grad()\n",
    "\n",
    "        # 4. Loss backward\n",
    "        loss.backward()\n",
    "\n",
    "        # 5. Optimizer step\n",
    "        optimizer.step()\n",
    "\n",
    "        # Print out how many samples have been seen\n",
    "        if batch % 400 == 0:\n",
    "            print(f\"Looked at {batch * len(X)}/{len(train_dataloader.dataset)} samples\")\n",
    "\n",
    "    # Divide total train loss by length of train dataloader (average loss per batch per epoch)\n",
    "    train_loss /= len(train_dataloader)\n",
    "    \n",
    "    ### Testing\n",
    "    # Setup variables for accumulatively adding up loss and accuracy \n",
    "    test_loss, test_acc = 0, 0 \n",
    "    model_0.eval()\n",
    "    with torch.inference_mode():\n",
    "        for X, y in test_dataloader:\n",
    "            # 1. Forward pass\n",
    "            test_pred = model_0(X)\n",
    "           \n",
    "            # 2. Calculate loss (accumulatively)\n",
    "            test_loss += loss_fn(test_pred, y) # accumulatively add up the loss per epoch\n",
    "\n",
    "            # 3. Calculate accuracy (preds need to be same as y_true)\n",
    "            test_acc += accuracy_fn(y_true=y, y_pred=test_pred.argmax(dim=1))\n",
    "        \n",
    "        # Calculations on test metrics need to happen inside torch.inference_mode()\n",
    "        # Divide total test loss by length of test dataloader (per batch)\n",
    "        test_loss /= len(test_dataloader)\n",
    "\n",
    "        # Divide total accuracy by length of test dataloader (per batch)\n",
    "        test_acc /= len(test_dataloader)\n",
    "\n",
    "    ## Print out what's happening\n",
    "    print(f\"\\nTrain loss: {train_loss:.5f} | Test loss: {test_loss:.5f}, Test acc: {test_acc:.2f}%\\n\")\n",
    "\n",
    "# Calculate training time      \n",
    "train_time_end_on_cpu = timer()\n",
    "total_train_time_model_0 = print_train_time(start=train_time_start_on_cpu, \n",
    "                                           end=train_time_end_on_cpu,\n",
    "                                           device=str(next(model_0.parameters()).device))"
   ]
  },
  {
   "cell_type": "markdown",
   "id": "816cc7e2",
   "metadata": {
    "papermill": {
     "duration": 0.013201,
     "end_time": "2025-09-03T09:21:24.715713",
     "exception": false,
     "start_time": "2025-09-03T09:21:24.702512",
     "status": "completed"
    },
    "tags": []
   },
   "source": [
    "## 4. Make predicions and get model_0 results"
   ]
  },
  {
   "cell_type": "code",
   "execution_count": 29,
   "id": "b6f924c1",
   "metadata": {
    "execution": {
     "iopub.execute_input": "2025-09-03T09:21:24.744452Z",
     "iopub.status.busy": "2025-09-03T09:21:24.744141Z",
     "iopub.status.idle": "2025-09-03T09:21:25.878674Z",
     "shell.execute_reply": "2025-09-03T09:21:25.877724Z"
    },
    "papermill": {
     "duration": 1.150956,
     "end_time": "2025-09-03T09:21:25.880329",
     "exception": false,
     "start_time": "2025-09-03T09:21:24.729373",
     "status": "completed"
    },
    "tags": []
   },
   "outputs": [
    {
     "data": {
      "text/plain": [
       "{'model_name': 'FashionMNISTModelV0',\n",
       " 'model_loss': 0.4766390025615692,\n",
       " 'model_acc': 83.42651757188499}"
      ]
     },
     "execution_count": 29,
     "metadata": {},
     "output_type": "execute_result"
    }
   ],
   "source": [
    "torch.manual_seed(42)\n",
    "def eval_model(model: torch.nn.Module, \n",
    "               data_loader: torch.utils.data.DataLoader, \n",
    "               loss_fn: torch.nn.Module, \n",
    "               accuracy_fn):\n",
    "    \"\"\"Returns a dictionary containing the results of model predicting on data_loader.\n",
    "\n",
    "    Args:\n",
    "        model (torch.nn.Module): A PyTorch model capable of making predictions on data_loader.\n",
    "        data_loader (torch.utils.data.DataLoader): The target dataset to predict on.\n",
    "        loss_fn (torch.nn.Module): The loss function of model.\n",
    "        accuracy_fn: An accuracy function to compare the models predictions to the truth labels.\n",
    "\n",
    "    Returns:\n",
    "        (dict): Results of model making predictions on data_loader.\n",
    "    \"\"\"\n",
    "    loss, acc = 0, 0\n",
    "    model.eval()\n",
    "    with torch.inference_mode():\n",
    "        for X, y in data_loader:\n",
    "            # Make predictions with the model\n",
    "            y_pred = model(X)\n",
    "            \n",
    "            # Accumulate the loss and accuracy values per batch\n",
    "            loss += loss_fn(y_pred, y)\n",
    "            acc += accuracy_fn(y_true=y, \n",
    "                                y_pred=y_pred.argmax(dim=1)) # For accuracy, need the prediction labels (logits -> pred_prob -> pred_labels)\n",
    "        \n",
    "        # Scale loss and acc to find the average loss/acc per batch\n",
    "        loss /= len(data_loader)\n",
    "        acc /= len(data_loader)\n",
    "        \n",
    "    return {\"model_name\": model.__class__.__name__, # only works when model was created with a class\n",
    "            \"model_loss\": loss.item(),\n",
    "            \"model_acc\": acc}\n",
    "\n",
    "# Calculate model 0 results on test dataset\n",
    "model_0_results = eval_model(model=model_0, data_loader=test_dataloader,\n",
    "    loss_fn=loss_fn, accuracy_fn=accuracy_fn\n",
    ")\n",
    "model_0_results"
   ]
  },
  {
   "cell_type": "markdown",
   "id": "e7c37a6c",
   "metadata": {
    "papermill": {
     "duration": 0.01269,
     "end_time": "2025-09-03T09:21:25.906535",
     "exception": false,
     "start_time": "2025-09-03T09:21:25.893845",
     "status": "completed"
    },
    "tags": []
   },
   "source": [
    "### 5. Setup device agnostic-code (for using a GPU if there is one available)"
   ]
  },
  {
   "cell_type": "code",
   "execution_count": 30,
   "id": "5e15493e",
   "metadata": {
    "execution": {
     "iopub.execute_input": "2025-09-03T09:21:25.935079Z",
     "iopub.status.busy": "2025-09-03T09:21:25.934749Z",
     "iopub.status.idle": "2025-09-03T09:21:26.074187Z",
     "shell.execute_reply": "2025-09-03T09:21:26.072921Z"
    },
    "papermill": {
     "duration": 0.155331,
     "end_time": "2025-09-03T09:21:26.076069",
     "exception": false,
     "start_time": "2025-09-03T09:21:25.920738",
     "status": "completed"
    },
    "tags": []
   },
   "outputs": [
    {
     "name": "stdout",
     "output_type": "stream",
     "text": [
      "/bin/bash: line 1: nvidia-smi: command not found\r\n"
     ]
    }
   ],
   "source": [
    "!nvidia-smi"
   ]
  },
  {
   "cell_type": "code",
   "execution_count": 31,
   "id": "8bc60bf3",
   "metadata": {
    "execution": {
     "iopub.execute_input": "2025-09-03T09:21:26.104851Z",
     "iopub.status.busy": "2025-09-03T09:21:26.104036Z",
     "iopub.status.idle": "2025-09-03T09:21:26.110726Z",
     "shell.execute_reply": "2025-09-03T09:21:26.109798Z"
    },
    "papermill": {
     "duration": 0.022779,
     "end_time": "2025-09-03T09:21:26.112508",
     "exception": false,
     "start_time": "2025-09-03T09:21:26.089729",
     "status": "completed"
    },
    "tags": []
   },
   "outputs": [
    {
     "data": {
      "text/plain": [
       "False"
      ]
     },
     "execution_count": 31,
     "metadata": {},
     "output_type": "execute_result"
    }
   ],
   "source": [
    "torch.cuda.is_available()"
   ]
  },
  {
   "cell_type": "code",
   "execution_count": 32,
   "id": "50c57703",
   "metadata": {
    "execution": {
     "iopub.execute_input": "2025-09-03T09:21:26.141096Z",
     "iopub.status.busy": "2025-09-03T09:21:26.140743Z",
     "iopub.status.idle": "2025-09-03T09:21:26.146916Z",
     "shell.execute_reply": "2025-09-03T09:21:26.146013Z"
    },
    "papermill": {
     "duration": 0.022403,
     "end_time": "2025-09-03T09:21:26.148670",
     "exception": false,
     "start_time": "2025-09-03T09:21:26.126267",
     "status": "completed"
    },
    "tags": []
   },
   "outputs": [
    {
     "data": {
      "text/plain": [
       "'cpu'"
      ]
     },
     "execution_count": 32,
     "metadata": {},
     "output_type": "execute_result"
    }
   ],
   "source": [
    "# setup device-agnostic code\n",
    "import torch \n",
    "\n",
    "device = \"cuda\" if torch.cuda.is_available() else \"cpu\"\n",
    "device"
   ]
  },
  {
   "cell_type": "markdown",
   "id": "e2a1da84",
   "metadata": {
    "papermill": {
     "duration": 0.013241,
     "end_time": "2025-09-03T09:21:26.175299",
     "exception": false,
     "start_time": "2025-09-03T09:21:26.162058",
     "status": "completed"
    },
    "tags": []
   },
   "source": [
    "## 6. Model 1 : Building a better model with non-linearity \n",
    "\n",
    "Let's leverage non-linearity's power"
   ]
  },
  {
   "cell_type": "code",
   "execution_count": 33,
   "id": "e4cabc80",
   "metadata": {
    "execution": {
     "iopub.execute_input": "2025-09-03T09:21:26.205508Z",
     "iopub.status.busy": "2025-09-03T09:21:26.205175Z",
     "iopub.status.idle": "2025-09-03T09:21:26.211739Z",
     "shell.execute_reply": "2025-09-03T09:21:26.210860Z"
    },
    "papermill": {
     "duration": 0.023265,
     "end_time": "2025-09-03T09:21:26.213456",
     "exception": false,
     "start_time": "2025-09-03T09:21:26.190191",
     "status": "completed"
    },
    "tags": []
   },
   "outputs": [],
   "source": [
    "# create a model with non-linear and linear layers \n",
    "\n",
    "class FashionMNISTModelV1(nn.Module):\n",
    "    def __init__(self, input_shape: int, hidden_units: int, output_shape: int):\n",
    "        super().__init__() \n",
    "        self.layer_stark = nn.Sequential(\n",
    "            nn.Flatten(), \n",
    "            nn.Linear(\n",
    "                in_features = input_shape, \n",
    "                out_features = hidden_units\n",
    "            ),\n",
    "            nn.ReLU(),\n",
    "            nn.Linear(\n",
    "                in_features = hidden_units, \n",
    "                out_features = output_shape\n",
    "            ),\n",
    "            nn.ReLU(),\n",
    "        )\n",
    "\n",
    "    def forward(self, x: torch.Tensor):\n",
    "        return self.layer_stark(x)\n"
   ]
  },
  {
   "cell_type": "code",
   "execution_count": 34,
   "id": "118bfdba",
   "metadata": {
    "execution": {
     "iopub.execute_input": "2025-09-03T09:21:26.241595Z",
     "iopub.status.busy": "2025-09-03T09:21:26.241281Z",
     "iopub.status.idle": "2025-09-03T09:21:26.248327Z",
     "shell.execute_reply": "2025-09-03T09:21:26.247454Z"
    },
    "papermill": {
     "duration": 0.022825,
     "end_time": "2025-09-03T09:21:26.250102",
     "exception": false,
     "start_time": "2025-09-03T09:21:26.227277",
     "status": "completed"
    },
    "tags": []
   },
   "outputs": [
    {
     "data": {
      "text/plain": [
       "device(type='cpu')"
      ]
     },
     "execution_count": 34,
     "metadata": {},
     "output_type": "execute_result"
    }
   ],
   "source": [
    "next(model_0.parameters()).device"
   ]
  },
  {
   "cell_type": "code",
   "execution_count": 35,
   "id": "7a4e4793",
   "metadata": {
    "execution": {
     "iopub.execute_input": "2025-09-03T09:21:26.279095Z",
     "iopub.status.busy": "2025-09-03T09:21:26.278779Z",
     "iopub.status.idle": "2025-09-03T09:21:26.283969Z",
     "shell.execute_reply": "2025-09-03T09:21:26.283013Z"
    },
    "papermill": {
     "duration": 0.020936,
     "end_time": "2025-09-03T09:21:26.285377",
     "exception": false,
     "start_time": "2025-09-03T09:21:26.264441",
     "status": "completed"
    },
    "tags": []
   },
   "outputs": [
    {
     "data": {
      "text/plain": [
       "'cpu'"
      ]
     },
     "execution_count": 35,
     "metadata": {},
     "output_type": "execute_result"
    }
   ],
   "source": [
    "device"
   ]
  },
  {
   "cell_type": "code",
   "execution_count": 36,
   "id": "bde38714",
   "metadata": {
    "execution": {
     "iopub.execute_input": "2025-09-03T09:21:26.314491Z",
     "iopub.status.busy": "2025-09-03T09:21:26.314195Z",
     "iopub.status.idle": "2025-09-03T09:21:26.324615Z",
     "shell.execute_reply": "2025-09-03T09:21:26.323683Z"
    },
    "papermill": {
     "duration": 0.027455,
     "end_time": "2025-09-03T09:21:26.326278",
     "exception": false,
     "start_time": "2025-09-03T09:21:26.298823",
     "status": "completed"
    },
    "tags": []
   },
   "outputs": [
    {
     "data": {
      "text/plain": [
       "device(type='cpu')"
      ]
     },
     "execution_count": 36,
     "metadata": {},
     "output_type": "execute_result"
    }
   ],
   "source": [
    "model_1 = FashionMNISTModelV1(\n",
    "    input_shape = 28*28, # 784\n",
    "    hidden_units = 10, \n",
    "    output_shape = len(class_names)\n",
    ").to(device)\n",
    "\n",
    "next(model_1.parameters()).device"
   ]
  },
  {
   "cell_type": "markdown",
   "id": "3ca823e6",
   "metadata": {
    "papermill": {
     "duration": 0.013334,
     "end_time": "2025-09-03T09:21:26.353854",
     "exception": false,
     "start_time": "2025-09-03T09:21:26.340520",
     "status": "completed"
    },
    "tags": []
   },
   "source": [
    "### 6.1 Setup loss, optimizer and evaluation metrics"
   ]
  },
  {
   "cell_type": "code",
   "execution_count": 37,
   "id": "4e34d28a",
   "metadata": {
    "execution": {
     "iopub.execute_input": "2025-09-03T09:21:26.382120Z",
     "iopub.status.busy": "2025-09-03T09:21:26.381793Z",
     "iopub.status.idle": "2025-09-03T09:21:26.387056Z",
     "shell.execute_reply": "2025-09-03T09:21:26.386204Z"
    },
    "papermill": {
     "duration": 0.021477,
     "end_time": "2025-09-03T09:21:26.388593",
     "exception": false,
     "start_time": "2025-09-03T09:21:26.367116",
     "status": "completed"
    },
    "tags": []
   },
   "outputs": [],
   "source": [
    "from helper_functions import accuracy_fn \n",
    "\n",
    "loss_fn = nn.CrossEntropyLoss()\n",
    "optimizer = torch.optim.SGD(\n",
    "    params=model_1.parameters(),\n",
    "    lr=0.1\n",
    ")"
   ]
  },
  {
   "cell_type": "markdown",
   "id": "f3aba5f8",
   "metadata": {
    "papermill": {
     "duration": 0.013033,
     "end_time": "2025-09-03T09:21:26.415174",
     "exception": false,
     "start_time": "2025-09-03T09:21:26.402141",
     "status": "completed"
    },
    "tags": []
   },
   "source": [
    "### 6.2 Functionizing training and evaluation/teting loops\n",
    "1. training loop - `train_step()`\n",
    "2. test loop - `test_step()`"
   ]
  },
  {
   "cell_type": "code",
   "execution_count": 38,
   "id": "6a4d0e29",
   "metadata": {
    "execution": {
     "iopub.execute_input": "2025-09-03T09:21:26.444299Z",
     "iopub.status.busy": "2025-09-03T09:21:26.443977Z",
     "iopub.status.idle": "2025-09-03T09:21:26.451667Z",
     "shell.execute_reply": "2025-09-03T09:21:26.450566Z"
    },
    "papermill": {
     "duration": 0.024126,
     "end_time": "2025-09-03T09:21:26.453353",
     "exception": false,
     "start_time": "2025-09-03T09:21:26.429227",
     "status": "completed"
    },
    "tags": []
   },
   "outputs": [],
   "source": [
    "def train_step(\n",
    "    model: torch.nn.Module, \n",
    "    data_loader: torch.utils.data.DataLoader, \n",
    "    loss_fn: torch.nn.Module, \n",
    "    optimizer: torch.optim.Optimizer, \n",
    "    accuracy_fn, \n",
    "    device: torch.device = device \n",
    "):\n",
    "    \"\"\"\n",
    "    Performs a training with model trying to learn on data_loader \n",
    "    \"\"\"\n",
    "    train_loss, train_acc = 0,0 \n",
    "\n",
    "    # put model into training mode \n",
    "    model.train() \n",
    "\n",
    "    # add a loop to loop through the training batches \n",
    "    for batch, (X,y) in enumerate(data_loader):\n",
    "        # put data to target device \n",
    "        X,y = X.to(device), y.to(device)\n",
    "\n",
    "        # 1. forward pass \n",
    "        y_pred = model(X)\n",
    "\n",
    "        # 2. calculate loss and accuracy per batch and accumulate them into train_loss and train_acc\n",
    "        loss = loss_fn(y_pred, y)\n",
    "        train_loss += loss \n",
    "\n",
    "        train_acc += accuracy_fn(\n",
    "            y_true = y,\n",
    "            y_pred = y_pred.argmax(dim=1) # logits -> prediction labels \n",
    "        )\n",
    "\n",
    "        # 3. optimizer zero grad \n",
    "        optimizer.zero_grad() \n",
    "\n",
    "        # 4. backpropagation\n",
    "        loss.backward()\n",
    "\n",
    "        # 5. optimizer step (update the model's parameters once per batch)\n",
    "        optimizer.step()\n",
    "\n",
    "    # divite total train loss and accuracy by length of train dataloader \n",
    "    train_loss /= len(data_loader)\n",
    "    train_acc /= len(data_loader)\n",
    "    \n",
    "    print(f\"Train loss: {train_loss:.5f} | Train acc: {train_acc:.2f}%\")\n",
    "\n"
   ]
  },
  {
   "cell_type": "code",
   "execution_count": 39,
   "id": "af0e2f2e",
   "metadata": {
    "execution": {
     "iopub.execute_input": "2025-09-03T09:21:26.482854Z",
     "iopub.status.busy": "2025-09-03T09:21:26.482475Z",
     "iopub.status.idle": "2025-09-03T09:21:26.489163Z",
     "shell.execute_reply": "2025-09-03T09:21:26.488218Z"
    },
    "papermill": {
     "duration": 0.023315,
     "end_time": "2025-09-03T09:21:26.490930",
     "exception": false,
     "start_time": "2025-09-03T09:21:26.467615",
     "status": "completed"
    },
    "tags": []
   },
   "outputs": [],
   "source": [
    "def test_step(\n",
    "    model: torch.nn.Module, \n",
    "    data_loader: torch.utils.data.DataLoader, \n",
    "    loss_fn: torch.nn.Module, \n",
    "    accuracy_fn, \n",
    "    device: torch.device = device \n",
    "):\n",
    "    \"\"\"\n",
    "    Performs a testing loop step on model going over data_loader \n",
    "    \"\"\"\n",
    "\n",
    "    test_loss, test_acc = 0, 0\n",
    "\n",
    "    # put the model in eval mode \n",
    "    model.eval()\n",
    "\n",
    "    # turn on inference mode context manager \n",
    "    with torch.inference_mode():\n",
    "        for X, y in data_loader: \n",
    "            #send the data to the target device \n",
    "            X, y = X.to(device), y.to(device)\n",
    "\n",
    "            # 1. forward pass \n",
    "            test_pred = model(X) \n",
    "\n",
    "            # 2. calculate loss and accuracy \n",
    "            test_loss += loss_fn(test_pred, y)\n",
    "            test_acc += accuracy_fn(\n",
    "                y_true=y,\n",
    "                y_pred=test_pred.argmax(dim=1) # logits -> prediction labels\n",
    "            )\n",
    "\n",
    "        # adjust metrics and print out \n",
    "        test_loss /= len(data_loader)\n",
    "        test_acc /= len(data_loader)\n",
    "        print(f\"Test loss: {test_loss:.5f} | Test acc: {test_acc:.2f}%\")"
   ]
  },
  {
   "cell_type": "code",
   "execution_count": 40,
   "id": "f80eabac",
   "metadata": {
    "execution": {
     "iopub.execute_input": "2025-09-03T09:21:26.519654Z",
     "iopub.status.busy": "2025-09-03T09:21:26.519326Z",
     "iopub.status.idle": "2025-09-03T09:21:56.827476Z",
     "shell.execute_reply": "2025-09-03T09:21:56.826513Z"
    },
    "papermill": {
     "duration": 30.338182,
     "end_time": "2025-09-03T09:21:56.843216",
     "exception": false,
     "start_time": "2025-09-03T09:21:26.505034",
     "status": "completed"
    },
    "tags": []
   },
   "outputs": [
    {
     "data": {
      "application/vnd.jupyter.widget-view+json": {
       "model_id": "df843b47dc3149cc9da4fdf5817fbcce",
       "version_major": 2,
       "version_minor": 0
      },
      "text/plain": [
       "  0%|          | 0/3 [00:00<?, ?it/s]"
      ]
     },
     "metadata": {},
     "output_type": "display_data"
    },
    {
     "name": "stdout",
     "output_type": "stream",
     "text": [
      "Epoch: 0\n",
      "Train loss: 0.98248 | Train acc: 65.06%\n",
      "Test loss: 0.76060 | Test acc: 72.80%\n",
      "Epoch: 1\n",
      "Train loss: 0.70366 | Train acc: 74.48%\n",
      "Test loss: 0.71731 | Test acc: 73.67%\n",
      "Epoch: 2\n",
      "Train loss: 0.67375 | Train acc: 75.31%\n",
      "Test loss: 0.69170 | Test acc: 74.81%\n",
      "Train time on cpu: 30.299 seconds\n"
     ]
    }
   ],
   "source": [
    "torch.manual_seed(42)\n",
    "\n",
    "# measure time\n",
    "from timeit import default_timer as timer \n",
    "\n",
    "train_time_start_on_gpu = timer() \n",
    "\n",
    "epochs = 3 \n",
    "\n",
    "# create a optimization and evaluation loop using train and test sets \n",
    "for epoch in tqdm(range(epochs)):\n",
    "    print(f\"Epoch: {epoch}\")\n",
    "    train_step(\n",
    "        model=model_1,\n",
    "        data_loader=train_dataloader,\n",
    "        loss_fn=loss_fn,\n",
    "        optimizer=optimizer,\n",
    "        accuracy_fn=accuracy_fn, \n",
    "        device=device\n",
    "    )\n",
    "    test_step(\n",
    "        model=model_1,\n",
    "        data_loader=test_dataloader,\n",
    "        loss_fn=loss_fn,\n",
    "        accuracy_fn=accuracy_fn,\n",
    "        device=device\n",
    "    )\n",
    "\n",
    "train_time_end_on_gpu = timer() \n",
    "total_train_time_model_1 = print_train_time(\n",
    "    start=train_time_start_on_gpu, \n",
    "    end=train_time_end_on_gpu,\n",
    "    device=device\n",
    ")"
   ]
  },
  {
   "cell_type": "code",
   "execution_count": 41,
   "id": "ea9fa67e",
   "metadata": {
    "execution": {
     "iopub.execute_input": "2025-09-03T09:21:56.872494Z",
     "iopub.status.busy": "2025-09-03T09:21:56.872174Z",
     "iopub.status.idle": "2025-09-03T09:21:56.878210Z",
     "shell.execute_reply": "2025-09-03T09:21:56.877264Z"
    },
    "papermill": {
     "duration": 0.022423,
     "end_time": "2025-09-03T09:21:56.879757",
     "exception": false,
     "start_time": "2025-09-03T09:21:56.857334",
     "status": "completed"
    },
    "tags": []
   },
   "outputs": [
    {
     "data": {
      "text/plain": [
       "({'model_name': 'FashionMNISTModelV0',\n",
       "  'model_loss': 0.4766390025615692,\n",
       "  'model_acc': 83.42651757188499},\n",
       " 30.74302835700007)"
      ]
     },
     "execution_count": 41,
     "metadata": {},
     "output_type": "execute_result"
    }
   ],
   "source": [
    "model_0_results, total_train_time_model_0"
   ]
  }
 ],
 "metadata": {
  "kaggle": {
   "accelerator": "none",
   "dataSources": [],
   "dockerImageVersionId": 31089,
   "isGpuEnabled": false,
   "isInternetEnabled": true,
   "language": "python",
   "sourceType": "notebook"
  },
  "kernelspec": {
   "display_name": "Python 3",
   "language": "python",
   "name": "python3"
  },
  "language_info": {
   "codemirror_mode": {
    "name": "ipython",
    "version": 3
   },
   "file_extension": ".py",
   "mimetype": "text/x-python",
   "name": "python",
   "nbconvert_exporter": "python",
   "pygments_lexer": "ipython3",
   "version": "3.11.13"
  },
  "papermill": {
   "default_parameters": {},
   "duration": 89.954777,
   "end_time": "2025-09-03T09:21:59.818376",
   "environment_variables": {},
   "exception": null,
   "input_path": "__notebook__.ipynb",
   "output_path": "__notebook__.ipynb",
   "parameters": {},
   "start_time": "2025-09-03T09:20:29.863599",
   "version": "2.6.0"
  },
  "widgets": {
   "application/vnd.jupyter.widget-state+json": {
    "state": {
     "0065dcf8805c41d4add3f6dfb1de7c05": {
      "model_module": "@jupyter-widgets/base",
      "model_module_version": "2.0.0",
      "model_name": "LayoutModel",
      "state": {
       "_model_module": "@jupyter-widgets/base",
       "_model_module_version": "2.0.0",
       "_model_name": "LayoutModel",
       "_view_count": null,
       "_view_module": "@jupyter-widgets/base",
       "_view_module_version": "2.0.0",
       "_view_name": "LayoutView",
       "align_content": null,
       "align_items": null,
       "align_self": null,
       "border_bottom": null,
       "border_left": null,
       "border_right": null,
       "border_top": null,
       "bottom": null,
       "display": null,
       "flex": null,
       "flex_flow": null,
       "grid_area": null,
       "grid_auto_columns": null,
       "grid_auto_flow": null,
       "grid_auto_rows": null,
       "grid_column": null,
       "grid_gap": null,
       "grid_row": null,
       "grid_template_areas": null,
       "grid_template_columns": null,
       "grid_template_rows": null,
       "height": null,
       "justify_content": null,
       "justify_items": null,
       "left": null,
       "margin": null,
       "max_height": null,
       "max_width": null,
       "min_height": null,
       "min_width": null,
       "object_fit": null,
       "object_position": null,
       "order": null,
       "overflow": null,
       "padding": null,
       "right": null,
       "top": null,
       "visibility": null,
       "width": null
      }
     },
     "057b20f55286452b9606e858b015600b": {
      "model_module": "@jupyter-widgets/controls",
      "model_module_version": "2.0.0",
      "model_name": "HTMLModel",
      "state": {
       "_dom_classes": [],
       "_model_module": "@jupyter-widgets/controls",
       "_model_module_version": "2.0.0",
       "_model_name": "HTMLModel",
       "_view_count": null,
       "_view_module": "@jupyter-widgets/controls",
       "_view_module_version": "2.0.0",
       "_view_name": "HTMLView",
       "description": "",
       "description_allow_html": false,
       "layout": "IPY_MODEL_8c49c384312841f594ea17357f837918",
       "placeholder": "​",
       "style": "IPY_MODEL_848a5405e05d481aa8b3f04630772104",
       "tabbable": null,
       "tooltip": null,
       "value": " 3/3 [00:30&lt;00:00, 10.18s/it]"
      }
     },
     "190ab05a620d498a915488b39c6c2c6b": {
      "model_module": "@jupyter-widgets/base",
      "model_module_version": "2.0.0",
      "model_name": "LayoutModel",
      "state": {
       "_model_module": "@jupyter-widgets/base",
       "_model_module_version": "2.0.0",
       "_model_name": "LayoutModel",
       "_view_count": null,
       "_view_module": "@jupyter-widgets/base",
       "_view_module_version": "2.0.0",
       "_view_name": "LayoutView",
       "align_content": null,
       "align_items": null,
       "align_self": null,
       "border_bottom": null,
       "border_left": null,
       "border_right": null,
       "border_top": null,
       "bottom": null,
       "display": null,
       "flex": null,
       "flex_flow": null,
       "grid_area": null,
       "grid_auto_columns": null,
       "grid_auto_flow": null,
       "grid_auto_rows": null,
       "grid_column": null,
       "grid_gap": null,
       "grid_row": null,
       "grid_template_areas": null,
       "grid_template_columns": null,
       "grid_template_rows": null,
       "height": null,
       "justify_content": null,
       "justify_items": null,
       "left": null,
       "margin": null,
       "max_height": null,
       "max_width": null,
       "min_height": null,
       "min_width": null,
       "object_fit": null,
       "object_position": null,
       "order": null,
       "overflow": null,
       "padding": null,
       "right": null,
       "top": null,
       "visibility": null,
       "width": null
      }
     },
     "2888acdfa66f40d8b14ec1026351de0a": {
      "model_module": "@jupyter-widgets/controls",
      "model_module_version": "2.0.0",
      "model_name": "HTMLModel",
      "state": {
       "_dom_classes": [],
       "_model_module": "@jupyter-widgets/controls",
       "_model_module_version": "2.0.0",
       "_model_name": "HTMLModel",
       "_view_count": null,
       "_view_module": "@jupyter-widgets/controls",
       "_view_module_version": "2.0.0",
       "_view_name": "HTMLView",
       "description": "",
       "description_allow_html": false,
       "layout": "IPY_MODEL_0065dcf8805c41d4add3f6dfb1de7c05",
       "placeholder": "​",
       "style": "IPY_MODEL_d1077d8d5f314b72bb99550adf7ad619",
       "tabbable": null,
       "tooltip": null,
       "value": "100%"
      }
     },
     "5edbb4bebbe64dde9918b501b920e8e3": {
      "model_module": "@jupyter-widgets/controls",
      "model_module_version": "2.0.0",
      "model_name": "ProgressStyleModel",
      "state": {
       "_model_module": "@jupyter-widgets/controls",
       "_model_module_version": "2.0.0",
       "_model_name": "ProgressStyleModel",
       "_view_count": null,
       "_view_module": "@jupyter-widgets/base",
       "_view_module_version": "2.0.0",
       "_view_name": "StyleView",
       "bar_color": null,
       "description_width": ""
      }
     },
     "7873b686e8214405ad42b6bc384c0ffd": {
      "model_module": "@jupyter-widgets/controls",
      "model_module_version": "2.0.0",
      "model_name": "FloatProgressModel",
      "state": {
       "_dom_classes": [],
       "_model_module": "@jupyter-widgets/controls",
       "_model_module_version": "2.0.0",
       "_model_name": "FloatProgressModel",
       "_view_count": null,
       "_view_module": "@jupyter-widgets/controls",
       "_view_module_version": "2.0.0",
       "_view_name": "ProgressView",
       "bar_style": "success",
       "description": "",
       "description_allow_html": false,
       "layout": "IPY_MODEL_cb76f10d31294cc4ba3d74ccc2468157",
       "max": 3.0,
       "min": 0.0,
       "orientation": "horizontal",
       "style": "IPY_MODEL_afc30b5edd644944ba6296f296b2f66e",
       "tabbable": null,
       "tooltip": null,
       "value": 3.0
      }
     },
     "80febdd754464a75863f8d4b8d9e468a": {
      "model_module": "@jupyter-widgets/controls",
      "model_module_version": "2.0.0",
      "model_name": "HBoxModel",
      "state": {
       "_dom_classes": [],
       "_model_module": "@jupyter-widgets/controls",
       "_model_module_version": "2.0.0",
       "_model_name": "HBoxModel",
       "_view_count": null,
       "_view_module": "@jupyter-widgets/controls",
       "_view_module_version": "2.0.0",
       "_view_name": "HBoxView",
       "box_style": "",
       "children": [
        "IPY_MODEL_849a704c57d64b8383ed1d04b305f346",
        "IPY_MODEL_7873b686e8214405ad42b6bc384c0ffd",
        "IPY_MODEL_057b20f55286452b9606e858b015600b"
       ],
       "layout": "IPY_MODEL_db4d0238ea874e4caa4714d48b2380bc",
       "tabbable": null,
       "tooltip": null
      }
     },
     "82044a8181234967bd3e72b383181f4a": {
      "model_module": "@jupyter-widgets/controls",
      "model_module_version": "2.0.0",
      "model_name": "HTMLStyleModel",
      "state": {
       "_model_module": "@jupyter-widgets/controls",
       "_model_module_version": "2.0.0",
       "_model_name": "HTMLStyleModel",
       "_view_count": null,
       "_view_module": "@jupyter-widgets/base",
       "_view_module_version": "2.0.0",
       "_view_name": "StyleView",
       "background": null,
       "description_width": "",
       "font_size": null,
       "text_color": null
      }
     },
     "848a5405e05d481aa8b3f04630772104": {
      "model_module": "@jupyter-widgets/controls",
      "model_module_version": "2.0.0",
      "model_name": "HTMLStyleModel",
      "state": {
       "_model_module": "@jupyter-widgets/controls",
       "_model_module_version": "2.0.0",
       "_model_name": "HTMLStyleModel",
       "_view_count": null,
       "_view_module": "@jupyter-widgets/base",
       "_view_module_version": "2.0.0",
       "_view_name": "StyleView",
       "background": null,
       "description_width": "",
       "font_size": null,
       "text_color": null
      }
     },
     "849a704c57d64b8383ed1d04b305f346": {
      "model_module": "@jupyter-widgets/controls",
      "model_module_version": "2.0.0",
      "model_name": "HTMLModel",
      "state": {
       "_dom_classes": [],
       "_model_module": "@jupyter-widgets/controls",
       "_model_module_version": "2.0.0",
       "_model_name": "HTMLModel",
       "_view_count": null,
       "_view_module": "@jupyter-widgets/controls",
       "_view_module_version": "2.0.0",
       "_view_name": "HTMLView",
       "description": "",
       "description_allow_html": false,
       "layout": "IPY_MODEL_190ab05a620d498a915488b39c6c2c6b",
       "placeholder": "​",
       "style": "IPY_MODEL_82044a8181234967bd3e72b383181f4a",
       "tabbable": null,
       "tooltip": null,
       "value": "100%"
      }
     },
     "8c49c384312841f594ea17357f837918": {
      "model_module": "@jupyter-widgets/base",
      "model_module_version": "2.0.0",
      "model_name": "LayoutModel",
      "state": {
       "_model_module": "@jupyter-widgets/base",
       "_model_module_version": "2.0.0",
       "_model_name": "LayoutModel",
       "_view_count": null,
       "_view_module": "@jupyter-widgets/base",
       "_view_module_version": "2.0.0",
       "_view_name": "LayoutView",
       "align_content": null,
       "align_items": null,
       "align_self": null,
       "border_bottom": null,
       "border_left": null,
       "border_right": null,
       "border_top": null,
       "bottom": null,
       "display": null,
       "flex": null,
       "flex_flow": null,
       "grid_area": null,
       "grid_auto_columns": null,
       "grid_auto_flow": null,
       "grid_auto_rows": null,
       "grid_column": null,
       "grid_gap": null,
       "grid_row": null,
       "grid_template_areas": null,
       "grid_template_columns": null,
       "grid_template_rows": null,
       "height": null,
       "justify_content": null,
       "justify_items": null,
       "left": null,
       "margin": null,
       "max_height": null,
       "max_width": null,
       "min_height": null,
       "min_width": null,
       "object_fit": null,
       "object_position": null,
       "order": null,
       "overflow": null,
       "padding": null,
       "right": null,
       "top": null,
       "visibility": null,
       "width": null
      }
     },
     "9b7eb9f0d9dd405f90a458c7cdfd6981": {
      "model_module": "@jupyter-widgets/base",
      "model_module_version": "2.0.0",
      "model_name": "LayoutModel",
      "state": {
       "_model_module": "@jupyter-widgets/base",
       "_model_module_version": "2.0.0",
       "_model_name": "LayoutModel",
       "_view_count": null,
       "_view_module": "@jupyter-widgets/base",
       "_view_module_version": "2.0.0",
       "_view_name": "LayoutView",
       "align_content": null,
       "align_items": null,
       "align_self": null,
       "border_bottom": null,
       "border_left": null,
       "border_right": null,
       "border_top": null,
       "bottom": null,
       "display": null,
       "flex": null,
       "flex_flow": null,
       "grid_area": null,
       "grid_auto_columns": null,
       "grid_auto_flow": null,
       "grid_auto_rows": null,
       "grid_column": null,
       "grid_gap": null,
       "grid_row": null,
       "grid_template_areas": null,
       "grid_template_columns": null,
       "grid_template_rows": null,
       "height": null,
       "justify_content": null,
       "justify_items": null,
       "left": null,
       "margin": null,
       "max_height": null,
       "max_width": null,
       "min_height": null,
       "min_width": null,
       "object_fit": null,
       "object_position": null,
       "order": null,
       "overflow": null,
       "padding": null,
       "right": null,
       "top": null,
       "visibility": null,
       "width": null
      }
     },
     "9ff1d9b5c60c48458064abde7e6e4e67": {
      "model_module": "@jupyter-widgets/controls",
      "model_module_version": "2.0.0",
      "model_name": "HTMLModel",
      "state": {
       "_dom_classes": [],
       "_model_module": "@jupyter-widgets/controls",
       "_model_module_version": "2.0.0",
       "_model_name": "HTMLModel",
       "_view_count": null,
       "_view_module": "@jupyter-widgets/controls",
       "_view_module_version": "2.0.0",
       "_view_name": "HTMLView",
       "description": "",
       "description_allow_html": false,
       "layout": "IPY_MODEL_a1095600f7024f46a536b159e7d59cd0",
       "placeholder": "​",
       "style": "IPY_MODEL_fb83753da547453981cf94bde0fd7e7a",
       "tabbable": null,
       "tooltip": null,
       "value": " 3/3 [00:30&lt;00:00, 10.05s/it]"
      }
     },
     "a1095600f7024f46a536b159e7d59cd0": {
      "model_module": "@jupyter-widgets/base",
      "model_module_version": "2.0.0",
      "model_name": "LayoutModel",
      "state": {
       "_model_module": "@jupyter-widgets/base",
       "_model_module_version": "2.0.0",
       "_model_name": "LayoutModel",
       "_view_count": null,
       "_view_module": "@jupyter-widgets/base",
       "_view_module_version": "2.0.0",
       "_view_name": "LayoutView",
       "align_content": null,
       "align_items": null,
       "align_self": null,
       "border_bottom": null,
       "border_left": null,
       "border_right": null,
       "border_top": null,
       "bottom": null,
       "display": null,
       "flex": null,
       "flex_flow": null,
       "grid_area": null,
       "grid_auto_columns": null,
       "grid_auto_flow": null,
       "grid_auto_rows": null,
       "grid_column": null,
       "grid_gap": null,
       "grid_row": null,
       "grid_template_areas": null,
       "grid_template_columns": null,
       "grid_template_rows": null,
       "height": null,
       "justify_content": null,
       "justify_items": null,
       "left": null,
       "margin": null,
       "max_height": null,
       "max_width": null,
       "min_height": null,
       "min_width": null,
       "object_fit": null,
       "object_position": null,
       "order": null,
       "overflow": null,
       "padding": null,
       "right": null,
       "top": null,
       "visibility": null,
       "width": null
      }
     },
     "ae442a8f07ee4609a6106c62a8ac701a": {
      "model_module": "@jupyter-widgets/controls",
      "model_module_version": "2.0.0",
      "model_name": "FloatProgressModel",
      "state": {
       "_dom_classes": [],
       "_model_module": "@jupyter-widgets/controls",
       "_model_module_version": "2.0.0",
       "_model_name": "FloatProgressModel",
       "_view_count": null,
       "_view_module": "@jupyter-widgets/controls",
       "_view_module_version": "2.0.0",
       "_view_name": "ProgressView",
       "bar_style": "success",
       "description": "",
       "description_allow_html": false,
       "layout": "IPY_MODEL_9b7eb9f0d9dd405f90a458c7cdfd6981",
       "max": 3.0,
       "min": 0.0,
       "orientation": "horizontal",
       "style": "IPY_MODEL_5edbb4bebbe64dde9918b501b920e8e3",
       "tabbable": null,
       "tooltip": null,
       "value": 3.0
      }
     },
     "afc30b5edd644944ba6296f296b2f66e": {
      "model_module": "@jupyter-widgets/controls",
      "model_module_version": "2.0.0",
      "model_name": "ProgressStyleModel",
      "state": {
       "_model_module": "@jupyter-widgets/controls",
       "_model_module_version": "2.0.0",
       "_model_name": "ProgressStyleModel",
       "_view_count": null,
       "_view_module": "@jupyter-widgets/base",
       "_view_module_version": "2.0.0",
       "_view_name": "StyleView",
       "bar_color": null,
       "description_width": ""
      }
     },
     "bf3dd472852d401c967bb6882f678fe6": {
      "model_module": "@jupyter-widgets/base",
      "model_module_version": "2.0.0",
      "model_name": "LayoutModel",
      "state": {
       "_model_module": "@jupyter-widgets/base",
       "_model_module_version": "2.0.0",
       "_model_name": "LayoutModel",
       "_view_count": null,
       "_view_module": "@jupyter-widgets/base",
       "_view_module_version": "2.0.0",
       "_view_name": "LayoutView",
       "align_content": null,
       "align_items": null,
       "align_self": null,
       "border_bottom": null,
       "border_left": null,
       "border_right": null,
       "border_top": null,
       "bottom": null,
       "display": null,
       "flex": null,
       "flex_flow": null,
       "grid_area": null,
       "grid_auto_columns": null,
       "grid_auto_flow": null,
       "grid_auto_rows": null,
       "grid_column": null,
       "grid_gap": null,
       "grid_row": null,
       "grid_template_areas": null,
       "grid_template_columns": null,
       "grid_template_rows": null,
       "height": null,
       "justify_content": null,
       "justify_items": null,
       "left": null,
       "margin": null,
       "max_height": null,
       "max_width": null,
       "min_height": null,
       "min_width": null,
       "object_fit": null,
       "object_position": null,
       "order": null,
       "overflow": null,
       "padding": null,
       "right": null,
       "top": null,
       "visibility": null,
       "width": null
      }
     },
     "cb76f10d31294cc4ba3d74ccc2468157": {
      "model_module": "@jupyter-widgets/base",
      "model_module_version": "2.0.0",
      "model_name": "LayoutModel",
      "state": {
       "_model_module": "@jupyter-widgets/base",
       "_model_module_version": "2.0.0",
       "_model_name": "LayoutModel",
       "_view_count": null,
       "_view_module": "@jupyter-widgets/base",
       "_view_module_version": "2.0.0",
       "_view_name": "LayoutView",
       "align_content": null,
       "align_items": null,
       "align_self": null,
       "border_bottom": null,
       "border_left": null,
       "border_right": null,
       "border_top": null,
       "bottom": null,
       "display": null,
       "flex": null,
       "flex_flow": null,
       "grid_area": null,
       "grid_auto_columns": null,
       "grid_auto_flow": null,
       "grid_auto_rows": null,
       "grid_column": null,
       "grid_gap": null,
       "grid_row": null,
       "grid_template_areas": null,
       "grid_template_columns": null,
       "grid_template_rows": null,
       "height": null,
       "justify_content": null,
       "justify_items": null,
       "left": null,
       "margin": null,
       "max_height": null,
       "max_width": null,
       "min_height": null,
       "min_width": null,
       "object_fit": null,
       "object_position": null,
       "order": null,
       "overflow": null,
       "padding": null,
       "right": null,
       "top": null,
       "visibility": null,
       "width": null
      }
     },
     "d1077d8d5f314b72bb99550adf7ad619": {
      "model_module": "@jupyter-widgets/controls",
      "model_module_version": "2.0.0",
      "model_name": "HTMLStyleModel",
      "state": {
       "_model_module": "@jupyter-widgets/controls",
       "_model_module_version": "2.0.0",
       "_model_name": "HTMLStyleModel",
       "_view_count": null,
       "_view_module": "@jupyter-widgets/base",
       "_view_module_version": "2.0.0",
       "_view_name": "StyleView",
       "background": null,
       "description_width": "",
       "font_size": null,
       "text_color": null
      }
     },
     "db4d0238ea874e4caa4714d48b2380bc": {
      "model_module": "@jupyter-widgets/base",
      "model_module_version": "2.0.0",
      "model_name": "LayoutModel",
      "state": {
       "_model_module": "@jupyter-widgets/base",
       "_model_module_version": "2.0.0",
       "_model_name": "LayoutModel",
       "_view_count": null,
       "_view_module": "@jupyter-widgets/base",
       "_view_module_version": "2.0.0",
       "_view_name": "LayoutView",
       "align_content": null,
       "align_items": null,
       "align_self": null,
       "border_bottom": null,
       "border_left": null,
       "border_right": null,
       "border_top": null,
       "bottom": null,
       "display": null,
       "flex": null,
       "flex_flow": null,
       "grid_area": null,
       "grid_auto_columns": null,
       "grid_auto_flow": null,
       "grid_auto_rows": null,
       "grid_column": null,
       "grid_gap": null,
       "grid_row": null,
       "grid_template_areas": null,
       "grid_template_columns": null,
       "grid_template_rows": null,
       "height": null,
       "justify_content": null,
       "justify_items": null,
       "left": null,
       "margin": null,
       "max_height": null,
       "max_width": null,
       "min_height": null,
       "min_width": null,
       "object_fit": null,
       "object_position": null,
       "order": null,
       "overflow": null,
       "padding": null,
       "right": null,
       "top": null,
       "visibility": null,
       "width": null
      }
     },
     "df843b47dc3149cc9da4fdf5817fbcce": {
      "model_module": "@jupyter-widgets/controls",
      "model_module_version": "2.0.0",
      "model_name": "HBoxModel",
      "state": {
       "_dom_classes": [],
       "_model_module": "@jupyter-widgets/controls",
       "_model_module_version": "2.0.0",
       "_model_name": "HBoxModel",
       "_view_count": null,
       "_view_module": "@jupyter-widgets/controls",
       "_view_module_version": "2.0.0",
       "_view_name": "HBoxView",
       "box_style": "",
       "children": [
        "IPY_MODEL_2888acdfa66f40d8b14ec1026351de0a",
        "IPY_MODEL_ae442a8f07ee4609a6106c62a8ac701a",
        "IPY_MODEL_9ff1d9b5c60c48458064abde7e6e4e67"
       ],
       "layout": "IPY_MODEL_bf3dd472852d401c967bb6882f678fe6",
       "tabbable": null,
       "tooltip": null
      }
     },
     "fb83753da547453981cf94bde0fd7e7a": {
      "model_module": "@jupyter-widgets/controls",
      "model_module_version": "2.0.0",
      "model_name": "HTMLStyleModel",
      "state": {
       "_model_module": "@jupyter-widgets/controls",
       "_model_module_version": "2.0.0",
       "_model_name": "HTMLStyleModel",
       "_view_count": null,
       "_view_module": "@jupyter-widgets/base",
       "_view_module_version": "2.0.0",
       "_view_name": "StyleView",
       "background": null,
       "description_width": "",
       "font_size": null,
       "text_color": null
      }
     }
    },
    "version_major": 2,
    "version_minor": 0
   }
  }
 },
 "nbformat": 4,
 "nbformat_minor": 5
}
