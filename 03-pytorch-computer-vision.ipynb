{
 "cells": [
  {
   "cell_type": "markdown",
   "id": "365e6b4d",
   "metadata": {
    "papermill": {
     "duration": 0.006129,
     "end_time": "2025-09-02T09:58:46.794549",
     "exception": false,
     "start_time": "2025-09-02T09:58:46.788420",
     "status": "completed"
    },
    "tags": []
   },
   "source": [
    "# **PyTorch Computer Vision**"
   ]
  },
  {
   "cell_type": "markdown",
   "id": "ef3570a0",
   "metadata": {
    "papermill": {
     "duration": 0.005814,
     "end_time": "2025-09-02T09:58:46.805797",
     "exception": false,
     "start_time": "2025-09-02T09:58:46.799983",
     "status": "completed"
    },
    "tags": []
   },
   "source": [
    "## 0. Computer Vision libraries in Python \n",
    "* `torchvision` : base domain library for PyTorch CV \n",
    "* `torchvision.datasets` : get datasets and data loading functions for CV \n",
    "* `torchvision.models` : get pretrained CV models we can leverage for new problems \n",
    "* `torchvision.transform` : functions for manipulating your vision data (images) to be suitable for use with an ML model\n",
    "* `torch.utils.data.Dataset` : base dataset class for PyTorch \n",
    "* `torch.utils.data.DataLoader` : creates a python iterable over a dataset "
   ]
  },
  {
   "cell_type": "code",
   "execution_count": 1,
   "id": "48b26d43",
   "metadata": {
    "execution": {
     "iopub.execute_input": "2025-09-02T09:58:46.817537Z",
     "iopub.status.busy": "2025-09-02T09:58:46.817230Z",
     "iopub.status.idle": "2025-09-02T09:58:59.355894Z",
     "shell.execute_reply": "2025-09-02T09:58:59.354502Z"
    },
    "papermill": {
     "duration": 12.546648,
     "end_time": "2025-09-02T09:58:59.357551",
     "exception": false,
     "start_time": "2025-09-02T09:58:46.810903",
     "status": "completed"
    },
    "tags": []
   },
   "outputs": [
    {
     "name": "stdout",
     "output_type": "stream",
     "text": [
      "2.6.0+cu124\n",
      "0.21.0+cu124\n"
     ]
    }
   ],
   "source": [
    "import torch \n",
    "from torch import nn \n",
    "\n",
    "import torchvision \n",
    "from torchvision import datasets \n",
    "from torchvision import transforms \n",
    "from torchvision.transforms import ToTensor \n",
    "\n",
    "import matplotlib.pyplot as plt \n",
    "\n",
    "print(torch.__version__)\n",
    "print(torchvision.__version__)"
   ]
  },
  {
   "cell_type": "markdown",
   "id": "5997a6a4",
   "metadata": {
    "papermill": {
     "duration": 0.005022,
     "end_time": "2025-09-02T09:58:59.368041",
     "exception": false,
     "start_time": "2025-09-02T09:58:59.363019",
     "status": "completed"
    },
    "tags": []
   },
   "source": [
    "## 1. Getting a dataset : Fashion MNIST  "
   ]
  },
  {
   "cell_type": "code",
   "execution_count": 2,
   "id": "018176e1",
   "metadata": {
    "execution": {
     "iopub.execute_input": "2025-09-02T09:58:59.380036Z",
     "iopub.status.busy": "2025-09-02T09:58:59.379551Z",
     "iopub.status.idle": "2025-09-02T09:59:11.282709Z",
     "shell.execute_reply": "2025-09-02T09:59:11.281617Z"
    },
    "papermill": {
     "duration": 11.911535,
     "end_time": "2025-09-02T09:59:11.284749",
     "exception": false,
     "start_time": "2025-09-02T09:58:59.373214",
     "status": "completed"
    },
    "tags": []
   },
   "outputs": [
    {
     "name": "stderr",
     "output_type": "stream",
     "text": [
      "100%|██████████| 26.4M/26.4M [00:03<00:00, 6.62MB/s]\n",
      "100%|██████████| 29.5k/29.5k [00:00<00:00, 110kB/s]\n",
      "100%|██████████| 4.42M/4.42M [00:02<00:00, 2.07MB/s]\n",
      "100%|██████████| 5.15k/5.15k [00:00<00:00, 9.27MB/s]\n"
     ]
    }
   ],
   "source": [
    "# setup training data \n",
    "from torchvision import datasets \n",
    "train_data = datasets.FashionMNIST(\n",
    "    root=\"data\", # where to download data to\n",
    "    train=True,  # do we want the training dataset?\n",
    "    download=True, # do we want to download it?\n",
    "    transform=torchvision.transforms.ToTensor(), # how do we want to transform the data\n",
    "    target_transform=None # how do we want to transform the label \n",
    ")\n",
    "\n",
    "test_data = datasets.FashionMNIST(\n",
    "    root=\"data\", \n",
    "    train=False, \n",
    "    download=True,\n",
    "    transform=torchvision.transforms.ToTensor(),\n",
    "    target_transform=None\n",
    ")"
   ]
  },
  {
   "cell_type": "code",
   "execution_count": 3,
   "id": "20611370",
   "metadata": {
    "execution": {
     "iopub.execute_input": "2025-09-02T09:59:11.301983Z",
     "iopub.status.busy": "2025-09-02T09:59:11.301516Z",
     "iopub.status.idle": "2025-09-02T09:59:11.309441Z",
     "shell.execute_reply": "2025-09-02T09:59:11.308266Z"
    },
    "papermill": {
     "duration": 0.018458,
     "end_time": "2025-09-02T09:59:11.311333",
     "exception": false,
     "start_time": "2025-09-02T09:59:11.292875",
     "status": "completed"
    },
    "tags": []
   },
   "outputs": [
    {
     "data": {
      "text/plain": [
       "(60000, 10000)"
      ]
     },
     "execution_count": 3,
     "metadata": {},
     "output_type": "execute_result"
    }
   ],
   "source": [
    "len(train_data), len(test_data)"
   ]
  },
  {
   "cell_type": "code",
   "execution_count": 4,
   "id": "7662d3f0",
   "metadata": {
    "execution": {
     "iopub.execute_input": "2025-09-02T09:59:11.329082Z",
     "iopub.status.busy": "2025-09-02T09:59:11.328691Z",
     "iopub.status.idle": "2025-09-02T09:59:11.374235Z",
     "shell.execute_reply": "2025-09-02T09:59:11.373041Z"
    },
    "papermill": {
     "duration": 0.056636,
     "end_time": "2025-09-02T09:59:11.376444",
     "exception": false,
     "start_time": "2025-09-02T09:59:11.319808",
     "status": "completed"
    },
    "tags": []
   },
   "outputs": [
    {
     "data": {
      "text/plain": [
       "(tensor([[[0.0000, 0.0000, 0.0000, 0.0000, 0.0000, 0.0000, 0.0000, 0.0000,\n",
       "           0.0000, 0.0000, 0.0000, 0.0000, 0.0000, 0.0000, 0.0000, 0.0000,\n",
       "           0.0000, 0.0000, 0.0000, 0.0000, 0.0000, 0.0000, 0.0000, 0.0000,\n",
       "           0.0000, 0.0000, 0.0000, 0.0000],\n",
       "          [0.0000, 0.0000, 0.0000, 0.0000, 0.0000, 0.0000, 0.0000, 0.0000,\n",
       "           0.0000, 0.0000, 0.0000, 0.0000, 0.0000, 0.0000, 0.0000, 0.0000,\n",
       "           0.0000, 0.0000, 0.0000, 0.0000, 0.0000, 0.0000, 0.0000, 0.0000,\n",
       "           0.0000, 0.0000, 0.0000, 0.0000],\n",
       "          [0.0000, 0.0000, 0.0000, 0.0000, 0.0000, 0.0000, 0.0000, 0.0000,\n",
       "           0.0000, 0.0000, 0.0000, 0.0000, 0.0000, 0.0000, 0.0000, 0.0000,\n",
       "           0.0000, 0.0000, 0.0000, 0.0000, 0.0000, 0.0000, 0.0000, 0.0000,\n",
       "           0.0000, 0.0000, 0.0000, 0.0000],\n",
       "          [0.0000, 0.0000, 0.0000, 0.0000, 0.0000, 0.0000, 0.0000, 0.0000,\n",
       "           0.0000, 0.0000, 0.0000, 0.0000, 0.0039, 0.0000, 0.0000, 0.0510,\n",
       "           0.2863, 0.0000, 0.0000, 0.0039, 0.0157, 0.0000, 0.0000, 0.0000,\n",
       "           0.0000, 0.0039, 0.0039, 0.0000],\n",
       "          [0.0000, 0.0000, 0.0000, 0.0000, 0.0000, 0.0000, 0.0000, 0.0000,\n",
       "           0.0000, 0.0000, 0.0000, 0.0000, 0.0118, 0.0000, 0.1412, 0.5333,\n",
       "           0.4980, 0.2431, 0.2118, 0.0000, 0.0000, 0.0000, 0.0039, 0.0118,\n",
       "           0.0157, 0.0000, 0.0000, 0.0118],\n",
       "          [0.0000, 0.0000, 0.0000, 0.0000, 0.0000, 0.0000, 0.0000, 0.0000,\n",
       "           0.0000, 0.0000, 0.0000, 0.0000, 0.0235, 0.0000, 0.4000, 0.8000,\n",
       "           0.6902, 0.5255, 0.5647, 0.4824, 0.0902, 0.0000, 0.0000, 0.0000,\n",
       "           0.0000, 0.0471, 0.0392, 0.0000],\n",
       "          [0.0000, 0.0000, 0.0000, 0.0000, 0.0000, 0.0000, 0.0000, 0.0000,\n",
       "           0.0000, 0.0000, 0.0000, 0.0000, 0.0000, 0.0000, 0.6078, 0.9255,\n",
       "           0.8118, 0.6980, 0.4196, 0.6118, 0.6314, 0.4275, 0.2510, 0.0902,\n",
       "           0.3020, 0.5098, 0.2824, 0.0588],\n",
       "          [0.0000, 0.0000, 0.0000, 0.0000, 0.0000, 0.0000, 0.0000, 0.0000,\n",
       "           0.0000, 0.0000, 0.0000, 0.0039, 0.0000, 0.2706, 0.8118, 0.8745,\n",
       "           0.8549, 0.8471, 0.8471, 0.6392, 0.4980, 0.4745, 0.4784, 0.5725,\n",
       "           0.5529, 0.3451, 0.6745, 0.2588],\n",
       "          [0.0000, 0.0000, 0.0000, 0.0000, 0.0000, 0.0000, 0.0000, 0.0000,\n",
       "           0.0000, 0.0039, 0.0039, 0.0039, 0.0000, 0.7843, 0.9098, 0.9098,\n",
       "           0.9137, 0.8980, 0.8745, 0.8745, 0.8431, 0.8353, 0.6431, 0.4980,\n",
       "           0.4824, 0.7686, 0.8980, 0.0000],\n",
       "          [0.0000, 0.0000, 0.0000, 0.0000, 0.0000, 0.0000, 0.0000, 0.0000,\n",
       "           0.0000, 0.0000, 0.0000, 0.0000, 0.0000, 0.7176, 0.8824, 0.8471,\n",
       "           0.8745, 0.8941, 0.9216, 0.8902, 0.8784, 0.8706, 0.8784, 0.8667,\n",
       "           0.8745, 0.9608, 0.6784, 0.0000],\n",
       "          [0.0000, 0.0000, 0.0000, 0.0000, 0.0000, 0.0000, 0.0000, 0.0000,\n",
       "           0.0000, 0.0000, 0.0000, 0.0000, 0.0000, 0.7569, 0.8941, 0.8549,\n",
       "           0.8353, 0.7765, 0.7059, 0.8314, 0.8235, 0.8275, 0.8353, 0.8745,\n",
       "           0.8627, 0.9529, 0.7922, 0.0000],\n",
       "          [0.0000, 0.0000, 0.0000, 0.0000, 0.0000, 0.0000, 0.0000, 0.0000,\n",
       "           0.0000, 0.0039, 0.0118, 0.0000, 0.0471, 0.8588, 0.8627, 0.8314,\n",
       "           0.8549, 0.7529, 0.6627, 0.8902, 0.8157, 0.8549, 0.8784, 0.8314,\n",
       "           0.8863, 0.7725, 0.8196, 0.2039],\n",
       "          [0.0000, 0.0000, 0.0000, 0.0000, 0.0000, 0.0000, 0.0000, 0.0000,\n",
       "           0.0000, 0.0000, 0.0235, 0.0000, 0.3882, 0.9569, 0.8706, 0.8627,\n",
       "           0.8549, 0.7961, 0.7765, 0.8667, 0.8431, 0.8353, 0.8706, 0.8627,\n",
       "           0.9608, 0.4667, 0.6549, 0.2196],\n",
       "          [0.0000, 0.0000, 0.0000, 0.0000, 0.0000, 0.0000, 0.0000, 0.0000,\n",
       "           0.0000, 0.0157, 0.0000, 0.0000, 0.2157, 0.9255, 0.8941, 0.9020,\n",
       "           0.8941, 0.9412, 0.9098, 0.8353, 0.8549, 0.8745, 0.9176, 0.8510,\n",
       "           0.8510, 0.8196, 0.3608, 0.0000],\n",
       "          [0.0000, 0.0000, 0.0039, 0.0157, 0.0235, 0.0275, 0.0078, 0.0000,\n",
       "           0.0000, 0.0000, 0.0000, 0.0000, 0.9294, 0.8863, 0.8510, 0.8745,\n",
       "           0.8706, 0.8588, 0.8706, 0.8667, 0.8471, 0.8745, 0.8980, 0.8431,\n",
       "           0.8549, 1.0000, 0.3020, 0.0000],\n",
       "          [0.0000, 0.0118, 0.0000, 0.0000, 0.0000, 0.0000, 0.0000, 0.0000,\n",
       "           0.0000, 0.2431, 0.5686, 0.8000, 0.8941, 0.8118, 0.8353, 0.8667,\n",
       "           0.8549, 0.8157, 0.8275, 0.8549, 0.8784, 0.8745, 0.8588, 0.8431,\n",
       "           0.8784, 0.9569, 0.6235, 0.0000],\n",
       "          [0.0000, 0.0000, 0.0000, 0.0000, 0.0706, 0.1725, 0.3216, 0.4196,\n",
       "           0.7412, 0.8941, 0.8627, 0.8706, 0.8510, 0.8863, 0.7843, 0.8039,\n",
       "           0.8275, 0.9020, 0.8784, 0.9176, 0.6902, 0.7373, 0.9804, 0.9725,\n",
       "           0.9137, 0.9333, 0.8431, 0.0000],\n",
       "          [0.0000, 0.2235, 0.7333, 0.8157, 0.8784, 0.8667, 0.8784, 0.8157,\n",
       "           0.8000, 0.8392, 0.8157, 0.8196, 0.7843, 0.6235, 0.9608, 0.7569,\n",
       "           0.8078, 0.8745, 1.0000, 1.0000, 0.8667, 0.9176, 0.8667, 0.8275,\n",
       "           0.8627, 0.9098, 0.9647, 0.0000],\n",
       "          [0.0118, 0.7922, 0.8941, 0.8784, 0.8667, 0.8275, 0.8275, 0.8392,\n",
       "           0.8039, 0.8039, 0.8039, 0.8627, 0.9412, 0.3137, 0.5882, 1.0000,\n",
       "           0.8980, 0.8667, 0.7373, 0.6039, 0.7490, 0.8235, 0.8000, 0.8196,\n",
       "           0.8706, 0.8941, 0.8824, 0.0000],\n",
       "          [0.3843, 0.9137, 0.7765, 0.8235, 0.8706, 0.8980, 0.8980, 0.9176,\n",
       "           0.9765, 0.8627, 0.7608, 0.8431, 0.8510, 0.9451, 0.2549, 0.2863,\n",
       "           0.4157, 0.4588, 0.6588, 0.8588, 0.8667, 0.8431, 0.8510, 0.8745,\n",
       "           0.8745, 0.8784, 0.8980, 0.1137],\n",
       "          [0.2941, 0.8000, 0.8314, 0.8000, 0.7569, 0.8039, 0.8275, 0.8824,\n",
       "           0.8471, 0.7255, 0.7725, 0.8078, 0.7765, 0.8353, 0.9412, 0.7647,\n",
       "           0.8902, 0.9608, 0.9373, 0.8745, 0.8549, 0.8314, 0.8196, 0.8706,\n",
       "           0.8627, 0.8667, 0.9020, 0.2627],\n",
       "          [0.1882, 0.7961, 0.7176, 0.7608, 0.8353, 0.7725, 0.7255, 0.7451,\n",
       "           0.7608, 0.7529, 0.7922, 0.8392, 0.8588, 0.8667, 0.8627, 0.9255,\n",
       "           0.8824, 0.8471, 0.7804, 0.8078, 0.7294, 0.7098, 0.6941, 0.6745,\n",
       "           0.7098, 0.8039, 0.8078, 0.4510],\n",
       "          [0.0000, 0.4784, 0.8588, 0.7569, 0.7020, 0.6706, 0.7176, 0.7686,\n",
       "           0.8000, 0.8235, 0.8353, 0.8118, 0.8275, 0.8235, 0.7843, 0.7686,\n",
       "           0.7608, 0.7490, 0.7647, 0.7490, 0.7765, 0.7529, 0.6902, 0.6118,\n",
       "           0.6549, 0.6941, 0.8235, 0.3608],\n",
       "          [0.0000, 0.0000, 0.2902, 0.7412, 0.8314, 0.7490, 0.6863, 0.6745,\n",
       "           0.6863, 0.7098, 0.7255, 0.7373, 0.7412, 0.7373, 0.7569, 0.7765,\n",
       "           0.8000, 0.8196, 0.8235, 0.8235, 0.8275, 0.7373, 0.7373, 0.7608,\n",
       "           0.7529, 0.8471, 0.6667, 0.0000],\n",
       "          [0.0078, 0.0000, 0.0000, 0.0000, 0.2588, 0.7843, 0.8706, 0.9294,\n",
       "           0.9373, 0.9490, 0.9647, 0.9529, 0.9569, 0.8667, 0.8627, 0.7569,\n",
       "           0.7490, 0.7020, 0.7137, 0.7137, 0.7098, 0.6902, 0.6510, 0.6588,\n",
       "           0.3882, 0.2275, 0.0000, 0.0000],\n",
       "          [0.0000, 0.0000, 0.0000, 0.0000, 0.0000, 0.0000, 0.0000, 0.1569,\n",
       "           0.2392, 0.1725, 0.2824, 0.1608, 0.1373, 0.0000, 0.0000, 0.0000,\n",
       "           0.0000, 0.0000, 0.0000, 0.0000, 0.0000, 0.0000, 0.0000, 0.0000,\n",
       "           0.0000, 0.0000, 0.0000, 0.0000],\n",
       "          [0.0000, 0.0000, 0.0000, 0.0000, 0.0000, 0.0000, 0.0000, 0.0000,\n",
       "           0.0000, 0.0000, 0.0000, 0.0000, 0.0000, 0.0000, 0.0000, 0.0000,\n",
       "           0.0000, 0.0000, 0.0000, 0.0000, 0.0000, 0.0000, 0.0000, 0.0000,\n",
       "           0.0000, 0.0000, 0.0000, 0.0000],\n",
       "          [0.0000, 0.0000, 0.0000, 0.0000, 0.0000, 0.0000, 0.0000, 0.0000,\n",
       "           0.0000, 0.0000, 0.0000, 0.0000, 0.0000, 0.0000, 0.0000, 0.0000,\n",
       "           0.0000, 0.0000, 0.0000, 0.0000, 0.0000, 0.0000, 0.0000, 0.0000,\n",
       "           0.0000, 0.0000, 0.0000, 0.0000]]]),\n",
       " 9)"
      ]
     },
     "execution_count": 4,
     "metadata": {},
     "output_type": "execute_result"
    }
   ],
   "source": [
    "image, label = train_data[0]\n",
    "image, label"
   ]
  },
  {
   "cell_type": "code",
   "execution_count": 5,
   "id": "d57908dd",
   "metadata": {
    "execution": {
     "iopub.execute_input": "2025-09-02T09:59:11.394541Z",
     "iopub.status.busy": "2025-09-02T09:59:11.394139Z",
     "iopub.status.idle": "2025-09-02T09:59:11.400703Z",
     "shell.execute_reply": "2025-09-02T09:59:11.399755Z"
    },
    "papermill": {
     "duration": 0.017238,
     "end_time": "2025-09-02T09:59:11.402423",
     "exception": false,
     "start_time": "2025-09-02T09:59:11.385185",
     "status": "completed"
    },
    "tags": []
   },
   "outputs": [
    {
     "data": {
      "text/plain": [
       "['T-shirt/top',\n",
       " 'Trouser',\n",
       " 'Pullover',\n",
       " 'Dress',\n",
       " 'Coat',\n",
       " 'Sandal',\n",
       " 'Shirt',\n",
       " 'Sneaker',\n",
       " 'Bag',\n",
       " 'Ankle boot']"
      ]
     },
     "execution_count": 5,
     "metadata": {},
     "output_type": "execute_result"
    }
   ],
   "source": [
    "class_names = train_data.classes\n",
    "class_names"
   ]
  },
  {
   "cell_type": "code",
   "execution_count": 6,
   "id": "82ba9467",
   "metadata": {
    "execution": {
     "iopub.execute_input": "2025-09-02T09:59:11.419909Z",
     "iopub.status.busy": "2025-09-02T09:59:11.419380Z",
     "iopub.status.idle": "2025-09-02T09:59:11.427368Z",
     "shell.execute_reply": "2025-09-02T09:59:11.426290Z"
    },
    "papermill": {
     "duration": 0.018841,
     "end_time": "2025-09-02T09:59:11.429275",
     "exception": false,
     "start_time": "2025-09-02T09:59:11.410434",
     "status": "completed"
    },
    "tags": []
   },
   "outputs": [
    {
     "data": {
      "text/plain": [
       "{'T-shirt/top': 0,\n",
       " 'Trouser': 1,\n",
       " 'Pullover': 2,\n",
       " 'Dress': 3,\n",
       " 'Coat': 4,\n",
       " 'Sandal': 5,\n",
       " 'Shirt': 6,\n",
       " 'Sneaker': 7,\n",
       " 'Bag': 8,\n",
       " 'Ankle boot': 9}"
      ]
     },
     "execution_count": 6,
     "metadata": {},
     "output_type": "execute_result"
    }
   ],
   "source": [
    "class_to_idx = train_data.class_to_idx \n",
    "class_to_idx"
   ]
  },
  {
   "cell_type": "code",
   "execution_count": 7,
   "id": "b3085f51",
   "metadata": {
    "execution": {
     "iopub.execute_input": "2025-09-02T09:59:11.447486Z",
     "iopub.status.busy": "2025-09-02T09:59:11.447044Z",
     "iopub.status.idle": "2025-09-02T09:59:11.453363Z",
     "shell.execute_reply": "2025-09-02T09:59:11.452316Z"
    },
    "papermill": {
     "duration": 0.017488,
     "end_time": "2025-09-02T09:59:11.455467",
     "exception": false,
     "start_time": "2025-09-02T09:59:11.437979",
     "status": "completed"
    },
    "tags": []
   },
   "outputs": [
    {
     "name": "stdout",
     "output_type": "stream",
     "text": [
      "Image shape: torch.Size([1, 28, 28]) -> [color_cannels, height, width]\n",
      "image label: Ankle boot\n"
     ]
    }
   ],
   "source": [
    "print(f\"Image shape: {image.shape} -> [color_cannels, height, width]\")\n",
    "print(f\"image label: {class_names[label]}\")"
   ]
  },
  {
   "cell_type": "markdown",
   "id": "c2d83a95",
   "metadata": {
    "papermill": {
     "duration": 0.008076,
     "end_time": "2025-09-02T09:59:11.471660",
     "exception": false,
     "start_time": "2025-09-02T09:59:11.463584",
     "status": "completed"
    },
    "tags": []
   },
   "source": [
    "### 1.2 Visualizing data"
   ]
  },
  {
   "cell_type": "code",
   "execution_count": 8,
   "id": "e02193bb",
   "metadata": {
    "execution": {
     "iopub.execute_input": "2025-09-02T09:59:11.489040Z",
     "iopub.status.busy": "2025-09-02T09:59:11.488443Z",
     "iopub.status.idle": "2025-09-02T09:59:11.784169Z",
     "shell.execute_reply": "2025-09-02T09:59:11.783149Z"
    },
    "papermill": {
     "duration": 0.306704,
     "end_time": "2025-09-02T09:59:11.786147",
     "exception": false,
     "start_time": "2025-09-02T09:59:11.479443",
     "status": "completed"
    },
    "tags": []
   },
   "outputs": [
    {
     "data": {
      "text/plain": [
       "<matplotlib.image.AxesImage at 0x78d67e427710>"
      ]
     },
     "execution_count": 8,
     "metadata": {},
     "output_type": "execute_result"
    },
    {
     "data": {
      "image/png": "[encoded data removed]",
      "text/plain": [
       "<Figure size 640x480 with 1 Axes>"
      ]
     },
     "metadata": {},
     "output_type": "display_data"
    }
   ],
   "source": [
    "import matplotlib.pyplot as plt \n",
    "\n",
    "image, label = train_data[0]\n",
    "plt.imshow(image.squeeze()) # we need squeeze to remove the color channel dimension"
   ]
  },
  {
   "cell_type": "code",
   "execution_count": 9,
   "id": "68c10784",
   "metadata": {
    "execution": {
     "iopub.execute_input": "2025-09-02T09:59:11.804454Z",
     "iopub.status.busy": "2025-09-02T09:59:11.804051Z",
     "iopub.status.idle": "2025-09-02T09:59:11.924754Z",
     "shell.execute_reply": "2025-09-02T09:59:11.923589Z"
    },
    "papermill": {
     "duration": 0.132004,
     "end_time": "2025-09-02T09:59:11.926633",
     "exception": false,
     "start_time": "2025-09-02T09:59:11.794629",
     "status": "completed"
    },
    "tags": []
   },
   "outputs": [
    {
     "data": {
      "text/plain": [
       "(-0.5, 27.5, 27.5, -0.5)"
      ]
     },
     "execution_count": 9,
     "metadata": {},
     "output_type": "execute_result"
    },
    {
     "data": {
      "image/png": "[encoded data removed]",
      "text/plain": [
       "<Figure size 640x480 with 1 Axes>"
      ]
     },
     "metadata": {},
     "output_type": "display_data"
    }
   ],
   "source": [
    "plt.imshow(image.squeeze(), cmap=\"gray\")\n",
    "plt.title(class_names[label])\n",
    "plt.axis(False)"
   ]
  },
  {
   "cell_type": "code",
   "execution_count": 10,
   "id": "43737b0f",
   "metadata": {
    "execution": {
     "iopub.execute_input": "2025-09-02T09:59:11.945786Z",
     "iopub.status.busy": "2025-09-02T09:59:11.945379Z",
     "iopub.status.idle": "2025-09-02T09:59:13.034538Z",
     "shell.execute_reply": "2025-09-02T09:59:13.033540Z"
    },
    "papermill": {
     "duration": 1.100785,
     "end_time": "2025-09-02T09:59:13.036323",
     "exception": false,
     "start_time": "2025-09-02T09:59:11.935538",
     "status": "completed"
    },
    "tags": []
   },
   "outputs": [
    {
     "data": {
      "image/png": "[encoded data removed]",
      "text/plain": [
       "<Figure size 900x900 with 16 Axes>"
      ]
     },
     "metadata": {},
     "output_type": "display_data"
    }
   ],
   "source": [
    "# plot more images \n",
    "# torch.manual_seed(42)\n",
    "\n",
    "fig = plt.figure(figsize=(9,9))\n",
    "rows, cols = 4,4 \n",
    "for i in range(1, rows*cols+1):\n",
    "    random_idx = torch.randint(0, len(train_data), size=[1]).item()\n",
    "    # print(random_idx)\n",
    "    img, label = train_data[random_idx]\n",
    "    fig.add_subplot(rows,cols,i)\n",
    "    plt.imshow(img.squeeze(), cmap=\"gray\")\n",
    "    plt.title(class_names[label])\n",
    "    plt.axis(False)"
   ]
  },
  {
   "cell_type": "code",
   "execution_count": 11,
   "id": "a3d64c57",
   "metadata": {
    "execution": {
     "iopub.execute_input": "2025-09-02T09:59:13.055984Z",
     "iopub.status.busy": "2025-09-02T09:59:13.055658Z",
     "iopub.status.idle": "2025-09-02T09:59:13.061576Z",
     "shell.execute_reply": "2025-09-02T09:59:13.060779Z"
    },
    "papermill": {
     "duration": 0.017367,
     "end_time": "2025-09-02T09:59:13.063082",
     "exception": false,
     "start_time": "2025-09-02T09:59:13.045715",
     "status": "completed"
    },
    "tags": []
   },
   "outputs": [
    {
     "data": {
      "text/plain": [
       "(Dataset FashionMNIST\n",
       "     Number of datapoints: 60000\n",
       "     Root location: data\n",
       "     Split: Train\n",
       "     StandardTransform\n",
       " Transform: ToTensor(),\n",
       " Dataset FashionMNIST\n",
       "     Number of datapoints: 10000\n",
       "     Root location: data\n",
       "     Split: Test\n",
       "     StandardTransform\n",
       " Transform: ToTensor())"
      ]
     },
     "execution_count": 11,
     "metadata": {},
     "output_type": "execute_result"
    }
   ],
   "source": [
    "train_data, test_data"
   ]
  },
  {
   "cell_type": "markdown",
   "id": "c3d67b8d",
   "metadata": {
    "papermill": {
     "duration": 0.008642,
     "end_time": "2025-09-02T09:59:13.080945",
     "exception": false,
     "start_time": "2025-09-02T09:59:13.072303",
     "status": "completed"
    },
    "tags": []
   },
   "source": [
    "## 2. Prepare DataLoader\n",
    "\n",
    "* Right now data is in the form of PyTorch Datasets\n",
    "* DataLoader turns the dataset into a Python iterable\n",
    "* more specifically, we want to turn our data into batches (or mini batches)\n",
    "  1. it is more computationally efficient, as in the computing hardware may not be able to look (store in memory) at 6000 images in one hit. So we break it down to 32 images at a time (batch size = 32)\n",
    "    2. it gives our NN more chances to update its ggradients per epoch (every 32 images)"
   ]
  },
  {
   "cell_type": "code",
   "execution_count": 12,
   "id": "712572bc",
   "metadata": {
    "execution": {
     "iopub.execute_input": "2025-09-02T09:59:13.100140Z",
     "iopub.status.busy": "2025-09-02T09:59:13.099474Z",
     "iopub.status.idle": "2025-09-02T09:59:13.106431Z",
     "shell.execute_reply": "2025-09-02T09:59:13.105702Z"
    },
    "papermill": {
     "duration": 0.01841,
     "end_time": "2025-09-02T09:59:13.108136",
     "exception": false,
     "start_time": "2025-09-02T09:59:13.089726",
     "status": "completed"
    },
    "tags": []
   },
   "outputs": [
    {
     "data": {
      "text/plain": [
       "(<torch.utils.data.dataloader.DataLoader at 0x78d67d0287d0>,\n",
       " <torch.utils.data.dataloader.DataLoader at 0x78d67d1f8810>)"
      ]
     },
     "execution_count": 12,
     "metadata": {},
     "output_type": "execute_result"
    }
   ],
   "source": [
    "from torch.utils.data import DataLoader \n",
    "\n",
    "# setup the batch size hyperparameter \n",
    "BATCH_SIZE = 32 \n",
    "\n",
    "# turn dataset into iterables (batches)\n",
    "train_dataloader = DataLoader(\n",
    "    dataset=train_data,\n",
    "    batch_size=BATCH_SIZE,\n",
    "    shuffle=True\n",
    ")\n",
    "\n",
    "test_dataloader = DataLoader(\n",
    "    dataset=test_data, \n",
    "    batch_size=BATCH_SIZE,\n",
    "    shuffle=False\n",
    ")\n",
    "\n",
    "train_dataloader, test_dataloader"
   ]
  },
  {
   "cell_type": "code",
   "execution_count": 13,
   "id": "8fc65e42",
   "metadata": {
    "execution": {
     "iopub.execute_input": "2025-09-02T09:59:13.127462Z",
     "iopub.status.busy": "2025-09-02T09:59:13.127150Z",
     "iopub.status.idle": "2025-09-02T09:59:13.132671Z",
     "shell.execute_reply": "2025-09-02T09:59:13.131620Z"
    },
    "papermill": {
     "duration": 0.016968,
     "end_time": "2025-09-02T09:59:13.134163",
     "exception": false,
     "start_time": "2025-09-02T09:59:13.117195",
     "status": "completed"
    },
    "tags": []
   },
   "outputs": [
    {
     "name": "stdout",
     "output_type": "stream",
     "text": [
      "Dataloaders: (<torch.utils.data.dataloader.DataLoader object at 0x78d67d0287d0>, <torch.utils.data.dataloader.DataLoader object at 0x78d67d1f8810>)\n",
      "Length of train_dataloader: 1875,batches of 32...\n",
      "Length of test_dataloader: 313, batches of 32\n"
     ]
    }
   ],
   "source": [
    "print(f\"Dataloaders: {train_dataloader, test_dataloader}\")\n",
    "print(f\"Length of train_dataloader: {len(train_dataloader)},batches of {BATCH_SIZE}...\")\n",
    "print(f\"Length of test_dataloader: {len(test_dataloader)}, batches of {BATCH_SIZE}\")"
   ]
  },
  {
   "cell_type": "code",
   "execution_count": 14,
   "id": "26e3a4f9",
   "metadata": {
    "execution": {
     "iopub.execute_input": "2025-09-02T09:59:13.154248Z",
     "iopub.status.busy": "2025-09-02T09:59:13.153362Z",
     "iopub.status.idle": "2025-09-02T09:59:13.160413Z",
     "shell.execute_reply": "2025-09-02T09:59:13.159434Z"
    },
    "papermill": {
     "duration": 0.018942,
     "end_time": "2025-09-02T09:59:13.162161",
     "exception": false,
     "start_time": "2025-09-02T09:59:13.143219",
     "status": "completed"
    },
    "tags": []
   },
   "outputs": [
    {
     "data": {
      "text/plain": [
       "(312.5, 10000.0)"
      ]
     },
     "execution_count": 14,
     "metadata": {},
     "output_type": "execute_result"
    }
   ],
   "source": [
    "10000/32, 32*312.5"
   ]
  },
  {
   "cell_type": "code",
   "execution_count": 15,
   "id": "e40c82e4",
   "metadata": {
    "execution": {
     "iopub.execute_input": "2025-09-02T09:59:13.182542Z",
     "iopub.status.busy": "2025-09-02T09:59:13.182197Z",
     "iopub.status.idle": "2025-09-02T09:59:13.206423Z",
     "shell.execute_reply": "2025-09-02T09:59:13.205218Z"
    },
    "papermill": {
     "duration": 0.036738,
     "end_time": "2025-09-02T09:59:13.208123",
     "exception": false,
     "start_time": "2025-09-02T09:59:13.171385",
     "status": "completed"
    },
    "tags": []
   },
   "outputs": [
    {
     "data": {
      "text/plain": [
       "(torch.Size([32, 1, 28, 28]), torch.Size([32]))"
      ]
     },
     "execution_count": 15,
     "metadata": {},
     "output_type": "execute_result"
    }
   ],
   "source": [
    "train_features_batch, train_labels_batch = next(iter(train_dataloader)) # iter turns train_dataloader into an iterable and next gets us the next batch\n",
    "train_features_batch.shape, train_labels_batch.shape"
   ]
  },
  {
   "cell_type": "code",
   "execution_count": 16,
   "id": "f496d347",
   "metadata": {
    "execution": {
     "iopub.execute_input": "2025-09-02T09:59:13.228386Z",
     "iopub.status.busy": "2025-09-02T09:59:13.227348Z",
     "iopub.status.idle": "2025-09-02T09:59:13.340240Z",
     "shell.execute_reply": "2025-09-02T09:59:13.339375Z"
    },
    "papermill": {
     "duration": 0.124428,
     "end_time": "2025-09-02T09:59:13.341808",
     "exception": false,
     "start_time": "2025-09-02T09:59:13.217380",
     "status": "completed"
    },
    "tags": []
   },
   "outputs": [
    {
     "name": "stdout",
     "output_type": "stream",
     "text": [
      "Image size: torch.Size([1, 28, 28])\n",
      "Label: 8, label size: torch.Size([])\n"
     ]
    },
    {
     "data": {
      "image/png": "[encoded data removed]",
      "text/plain": [
       "<Figure size 640x480 with 1 Axes>"
      ]
     },
     "metadata": {},
     "output_type": "display_data"
    }
   ],
   "source": [
    "# show a sample \n",
    "torch.manual_seed(42)\n",
    "random_idx = torch.randint(0,len(train_features_batch), size=[1]).item()\n",
    "img, label = train_features_batch[random_idx], train_labels_batch[random_idx]\n",
    "plt.imshow(img.squeeze(), cmap=\"gray\")\n",
    "plt.title(class_names[label])\n",
    "plt.axis(False)\n",
    "print(f\"Image size: {img.shape}\")\n",
    "print(f\"Label: {label}, label size: {label.shape}\")"
   ]
  },
  {
   "cell_type": "markdown",
   "id": "5ea85d37",
   "metadata": {
    "papermill": {
     "duration": 0.009052,
     "end_time": "2025-09-02T09:59:13.360531",
     "exception": false,
     "start_time": "2025-09-02T09:59:13.351479",
     "status": "completed"
    },
    "tags": []
   },
   "source": [
    "## 3. Model 0: baseline model "
   ]
  },
  {
   "cell_type": "code",
   "execution_count": 17,
   "id": "15bac85e",
   "metadata": {
    "execution": {
     "iopub.execute_input": "2025-09-02T09:59:13.380748Z",
     "iopub.status.busy": "2025-09-02T09:59:13.380311Z",
     "iopub.status.idle": "2025-09-02T09:59:13.386600Z",
     "shell.execute_reply": "2025-09-02T09:59:13.385776Z"
    },
    "papermill": {
     "duration": 0.018162,
     "end_time": "2025-09-02T09:59:13.388067",
     "exception": false,
     "start_time": "2025-09-02T09:59:13.369905",
     "status": "completed"
    },
    "tags": []
   },
   "outputs": [
    {
     "data": {
      "text/plain": [
       "torch.Size([1, 28, 28])"
      ]
     },
     "execution_count": 17,
     "metadata": {},
     "output_type": "execute_result"
    }
   ],
   "source": [
    "# create a flatten layer \n",
    "flatten_model = nn.Flatten()\n",
    "\n",
    "# get a single sample \n",
    "x = train_features_batch[0]\n",
    "x.shape"
   ]
  },
  {
   "cell_type": "code",
   "execution_count": 18,
   "id": "39ad0824",
   "metadata": {
    "execution": {
     "iopub.execute_input": "2025-09-02T09:59:13.408551Z",
     "iopub.status.busy": "2025-09-02T09:59:13.408230Z",
     "iopub.status.idle": "2025-09-02T09:59:13.414383Z",
     "shell.execute_reply": "2025-09-02T09:59:13.413242Z"
    },
    "papermill": {
     "duration": 0.018398,
     "end_time": "2025-09-02T09:59:13.415997",
     "exception": false,
     "start_time": "2025-09-02T09:59:13.397599",
     "status": "completed"
    },
    "tags": []
   },
   "outputs": [
    {
     "name": "stdout",
     "output_type": "stream",
     "text": [
      "Shape before flattening: torch.Size([1, 28, 28]) -> [C, H, W]\n",
      "Shape after flattening: torch.Size([1, 784]) -> [C, H*W]\n"
     ]
    }
   ],
   "source": [
    "# flatten the sample \n",
    "output = flatten_model(x)\n",
    "print(f\"Shape before flattening: {x.shape} -> [C, H, W]\")\n",
    "print(f\"Shape after flattening: {output.shape} -> [C, H*W]\")"
   ]
  },
  {
   "cell_type": "code",
   "execution_count": 19,
   "id": "eeec5092",
   "metadata": {
    "execution": {
     "iopub.execute_input": "2025-09-02T09:59:13.436500Z",
     "iopub.status.busy": "2025-09-02T09:59:13.436176Z",
     "iopub.status.idle": "2025-09-02T09:59:13.442123Z",
     "shell.execute_reply": "2025-09-02T09:59:13.441153Z"
    },
    "papermill": {
     "duration": 0.018043,
     "end_time": "2025-09-02T09:59:13.443756",
     "exception": false,
     "start_time": "2025-09-02T09:59:13.425713",
     "status": "completed"
    },
    "tags": []
   },
   "outputs": [],
   "source": [
    "from torch import nn \n",
    "class FashionMNISTModelV0(nn.Module):\n",
    "    def __init__(\n",
    "        self, \n",
    "        input_shape: int, \n",
    "        hidden_units: int,\n",
    "        output_shape: int\n",
    "    ) :\n",
    "        super().__init__()\n",
    "        self.layer_stack = nn.Sequential(\n",
    "            nn.Flatten(),\n",
    "            nn.Linear(\n",
    "                in_features = input_shape,\n",
    "                out_features = hidden_units\n",
    "            ),\n",
    "            nn.Linear(\n",
    "                in_features = hidden_units,\n",
    "                out_features = output_shape\n",
    "            )\n",
    "        )\n",
    "\n",
    "    def forward(self, x):\n",
    "        return self.layer_stack(x)"
   ]
  },
  {
   "cell_type": "code",
   "execution_count": 20,
   "id": "0b23d583",
   "metadata": {
    "execution": {
     "iopub.execute_input": "2025-09-02T09:59:13.539583Z",
     "iopub.status.busy": "2025-09-02T09:59:13.539286Z",
     "iopub.status.idle": "2025-09-02T09:59:13.548084Z",
     "shell.execute_reply": "2025-09-02T09:59:13.547329Z"
    },
    "papermill": {
     "duration": 0.09608,
     "end_time": "2025-09-02T09:59:13.549624",
     "exception": false,
     "start_time": "2025-09-02T09:59:13.453544",
     "status": "completed"
    },
    "tags": []
   },
   "outputs": [
    {
     "data": {
      "text/plain": [
       "FashionMNISTModelV0(\n",
       "  (layer_stack): Sequential(\n",
       "    (0): Flatten(start_dim=1, end_dim=-1)\n",
       "    (1): Linear(in_features=784, out_features=10, bias=True)\n",
       "    (2): Linear(in_features=10, out_features=10, bias=True)\n",
       "  )\n",
       ")"
      ]
     },
     "execution_count": 20,
     "metadata": {},
     "output_type": "execute_result"
    }
   ],
   "source": [
    "torch.manual_seed(42)\n",
    "\n",
    "# setup model with input parameters \n",
    "model_0 = FashionMNISTModelV0(\n",
    "    input_shape = 28*28, # 784\n",
    "    hidden_units = 10, \n",
    "    output_shape= len(class_names) # one for each class\n",
    ")\n",
    "\n",
    "model_0"
   ]
  },
  {
   "cell_type": "code",
   "execution_count": 21,
   "id": "0e8b257a",
   "metadata": {
    "execution": {
     "iopub.execute_input": "2025-09-02T09:59:13.570711Z",
     "iopub.status.busy": "2025-09-02T09:59:13.570377Z",
     "iopub.status.idle": "2025-09-02T09:59:13.587206Z",
     "shell.execute_reply": "2025-09-02T09:59:13.586295Z"
    },
    "papermill": {
     "duration": 0.029169,
     "end_time": "2025-09-02T09:59:13.588687",
     "exception": false,
     "start_time": "2025-09-02T09:59:13.559518",
     "status": "completed"
    },
    "tags": []
   },
   "outputs": [
    {
     "data": {
      "text/plain": [
       "tensor([[-0.0315,  0.3171,  0.0531, -0.2525,  0.5959,  0.2112,  0.3233,  0.2694,\n",
       "         -0.1004,  0.0157]], grad_fn=<AddmmBackward0>)"
      ]
     },
     "execution_count": 21,
     "metadata": {},
     "output_type": "execute_result"
    }
   ],
   "source": [
    "dummy_x = torch.rand([1,1,28,28])\n",
    "model_0(dummy_x)"
   ]
  },
  {
   "cell_type": "code",
   "execution_count": null,
   "id": "bdbd0370",
   "metadata": {
    "papermill": {
     "duration": 0.010163,
     "end_time": "2025-09-02T09:59:13.609058",
     "exception": false,
     "start_time": "2025-09-02T09:59:13.598895",
     "status": "completed"
    },
    "tags": []
   },
   "outputs": [],
   "source": []
  },
  {
   "cell_type": "code",
   "execution_count": null,
   "id": "8b5b9bfd",
   "metadata": {
    "papermill": {
     "duration": 0.009818,
     "end_time": "2025-09-02T09:59:13.628876",
     "exception": false,
     "start_time": "2025-09-02T09:59:13.619058",
     "status": "completed"
    },
    "tags": []
   },
   "outputs": [],
   "source": []
  },
  {
   "cell_type": "code",
   "execution_count": null,
   "id": "bdcb2b8c",
   "metadata": {
    "papermill": {
     "duration": 0.009533,
     "end_time": "2025-09-02T09:59:13.648253",
     "exception": false,
     "start_time": "2025-09-02T09:59:13.638720",
     "status": "completed"
    },
    "tags": []
   },
   "outputs": [],
   "source": []
  },
  {
   "cell_type": "code",
   "execution_count": null,
   "id": "af15391f",
   "metadata": {
    "papermill": {
     "duration": 0.010274,
     "end_time": "2025-09-02T09:59:13.669016",
     "exception": false,
     "start_time": "2025-09-02T09:59:13.658742",
     "status": "completed"
    },
    "tags": []
   },
   "outputs": [],
   "source": []
  },
  {
   "cell_type": "code",
   "execution_count": null,
   "id": "aad524ea",
   "metadata": {
    "papermill": {
     "duration": 0.010271,
     "end_time": "2025-09-02T09:59:13.690466",
     "exception": false,
     "start_time": "2025-09-02T09:59:13.680195",
     "status": "completed"
    },
    "tags": []
   },
   "outputs": [],
   "source": []
  },
  {
   "cell_type": "code",
   "execution_count": null,
   "id": "7ccf8999",
   "metadata": {
    "papermill": {
     "duration": 0.009498,
     "end_time": "2025-09-02T09:59:13.709843",
     "exception": false,
     "start_time": "2025-09-02T09:59:13.700345",
     "status": "completed"
    },
    "tags": []
   },
   "outputs": [],
   "source": []
  }
 ],
 "metadata": {
  "kaggle": {
   "accelerator": "none",
   "dataSources": [],
   "dockerImageVersionId": 31089,
   "isGpuEnabled": false,
   "isInternetEnabled": true,
   "language": "python",
   "sourceType": "notebook"
  },
  "kernelspec": {
   "display_name": "Python 3",
   "language": "python",
   "name": "python3"
  },
  "language_info": {
   "codemirror_mode": {
    "name": "ipython",
    "version": 3
   },
   "file_extension": ".py",
   "mimetype": "text/x-python",
   "name": "python",
   "nbconvert_exporter": "python",
   "pygments_lexer": "ipython3",
   "version": "3.11.13"
  },
  "papermill": {
   "default_parameters": {},
   "duration": 34.736816,
   "end_time": "2025-09-02T09:59:15.645719",
   "environment_variables": {},
   "exception": null,
   "input_path": "__notebook__.ipynb",
   "output_path": "__notebook__.ipynb",
   "parameters": {},
   "start_time": "2025-09-02T09:58:40.908903",
   "version": "2.6.0"
  }
 },
 "nbformat": 4,
 "nbformat_minor": 5
}
