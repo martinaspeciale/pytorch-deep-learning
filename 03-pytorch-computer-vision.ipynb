{
 "cells": [
  {
   "cell_type": "markdown",
   "id": "55569ddf",
   "metadata": {
    "papermill": {
     "duration": 0.006748,
     "end_time": "2025-09-03T08:48:40.885045",
     "exception": false,
     "start_time": "2025-09-03T08:48:40.878297",
     "status": "completed"
    },
    "tags": []
   },
   "source": [
    "# **PyTorch Computer Vision**"
   ]
  },
  {
   "cell_type": "markdown",
   "id": "2d7cdedf",
   "metadata": {
    "papermill": {
     "duration": 0.005518,
     "end_time": "2025-09-03T08:48:40.896514",
     "exception": false,
     "start_time": "2025-09-03T08:48:40.890996",
     "status": "completed"
    },
    "tags": []
   },
   "source": [
    "## 0. Computer Vision libraries in Python \n",
    "* `torchvision` : base domain library for PyTorch CV \n",
    "* `torchvision.datasets` : get datasets and data loading functions for CV \n",
    "* `torchvision.models` : get pretrained CV models we can leverage for new problems \n",
    "* `torchvision.transform` : functions for manipulating your vision data (images) to be suitable for use with an ML model\n",
    "* `torch.utils.data.Dataset` : base dataset class for PyTorch \n",
    "* `torch.utils.data.DataLoader` : creates a python iterable over a dataset "
   ]
  },
  {
   "cell_type": "code",
   "execution_count": 1,
   "id": "5cc1f11f",
   "metadata": {
    "execution": {
     "iopub.execute_input": "2025-09-03T08:48:40.908534Z",
     "iopub.status.busy": "2025-09-03T08:48:40.908328Z",
     "iopub.status.idle": "2025-09-03T08:48:49.709559Z",
     "shell.execute_reply": "2025-09-03T08:48:49.708671Z"
    },
    "papermill": {
     "duration": 8.808647,
     "end_time": "2025-09-03T08:48:49.710774",
     "exception": false,
     "start_time": "2025-09-03T08:48:40.902127",
     "status": "completed"
    },
    "tags": []
   },
   "outputs": [
    {
     "name": "stdout",
     "output_type": "stream",
     "text": [
      "2.6.0+cu124\n",
      "0.21.0+cu124\n"
     ]
    }
   ],
   "source": [
    "import torch \n",
    "from torch import nn \n",
    "\n",
    "import torchvision \n",
    "from torchvision import datasets \n",
    "from torchvision import transforms \n",
    "from torchvision.transforms import ToTensor \n",
    "\n",
    "import matplotlib.pyplot as plt \n",
    "\n",
    "print(torch.__version__)\n",
    "print(torchvision.__version__)"
   ]
  },
  {
   "cell_type": "markdown",
   "id": "29d7bf1f",
   "metadata": {
    "papermill": {
     "duration": 0.005654,
     "end_time": "2025-09-03T08:48:49.723405",
     "exception": false,
     "start_time": "2025-09-03T08:48:49.717751",
     "status": "completed"
    },
    "tags": []
   },
   "source": [
    "## 1. Getting a dataset : Fashion MNIST  "
   ]
  },
  {
   "cell_type": "code",
   "execution_count": 2,
   "id": "b022c623",
   "metadata": {
    "execution": {
     "iopub.execute_input": "2025-09-03T08:48:49.735823Z",
     "iopub.status.busy": "2025-09-03T08:48:49.735541Z",
     "iopub.status.idle": "2025-09-03T08:48:56.003773Z",
     "shell.execute_reply": "2025-09-03T08:48:56.003058Z"
    },
    "papermill": {
     "duration": 6.275734,
     "end_time": "2025-09-03T08:48:56.005020",
     "exception": false,
     "start_time": "2025-09-03T08:48:49.729286",
     "status": "completed"
    },
    "tags": []
   },
   "outputs": [
    {
     "name": "stderr",
     "output_type": "stream",
     "text": [
      "100%|██████████| 26.4M/26.4M [00:01<00:00, 13.6MB/s]\n",
      "100%|██████████| 29.5k/29.5k [00:00<00:00, 216kB/s]\n",
      "100%|██████████| 4.42M/4.42M [00:01<00:00, 4.00MB/s]\n",
      "100%|██████████| 5.15k/5.15k [00:00<00:00, 14.7MB/s]\n"
     ]
    }
   ],
   "source": [
    "# setup training data \n",
    "from torchvision import datasets \n",
    "train_data = datasets.FashionMNIST(\n",
    "    root=\"data\", # where to download data to\n",
    "    train=True,  # do we want the training dataset?\n",
    "    download=True, # do we want to download it?\n",
    "    transform=torchvision.transforms.ToTensor(), # how do we want to transform the data\n",
    "    target_transform=None # how do we want to transform the label \n",
    ")\n",
    "\n",
    "test_data = datasets.FashionMNIST(\n",
    "    root=\"data\", \n",
    "    train=False, \n",
    "    download=True,\n",
    "    transform=torchvision.transforms.ToTensor(),\n",
    "    target_transform=None\n",
    ")"
   ]
  },
  {
   "cell_type": "code",
   "execution_count": 3,
   "id": "5fba0bcc",
   "metadata": {
    "execution": {
     "iopub.execute_input": "2025-09-03T08:48:56.020939Z",
     "iopub.status.busy": "2025-09-03T08:48:56.020680Z",
     "iopub.status.idle": "2025-09-03T08:48:56.025873Z",
     "shell.execute_reply": "2025-09-03T08:48:56.025323Z"
    },
    "papermill": {
     "duration": 0.01406,
     "end_time": "2025-09-03T08:48:56.027010",
     "exception": false,
     "start_time": "2025-09-03T08:48:56.012950",
     "status": "completed"
    },
    "tags": []
   },
   "outputs": [
    {
     "data": {
      "text/plain": [
       "(60000, 10000)"
      ]
     },
     "execution_count": 3,
     "metadata": {},
     "output_type": "execute_result"
    }
   ],
   "source": [
    "len(train_data), len(test_data)"
   ]
  },
  {
   "cell_type": "code",
   "execution_count": 4,
   "id": "663198d4",
   "metadata": {
    "execution": {
     "iopub.execute_input": "2025-09-03T08:48:56.042493Z",
     "iopub.status.busy": "2025-09-03T08:48:56.042313Z",
     "iopub.status.idle": "2025-09-03T08:48:56.074629Z",
     "shell.execute_reply": "2025-09-03T08:48:56.073931Z"
    },
    "papermill": {
     "duration": 0.041412,
     "end_time": "2025-09-03T08:48:56.075736",
     "exception": false,
     "start_time": "2025-09-03T08:48:56.034324",
     "status": "completed"
    },
    "tags": []
   },
   "outputs": [
    {
     "data": {
      "text/plain": [
       "(tensor([[[0.0000, 0.0000, 0.0000, 0.0000, 0.0000, 0.0000, 0.0000, 0.0000,\n",
       "           0.0000, 0.0000, 0.0000, 0.0000, 0.0000, 0.0000, 0.0000, 0.0000,\n",
       "           0.0000, 0.0000, 0.0000, 0.0000, 0.0000, 0.0000, 0.0000, 0.0000,\n",
       "           0.0000, 0.0000, 0.0000, 0.0000],\n",
       "          [0.0000, 0.0000, 0.0000, 0.0000, 0.0000, 0.0000, 0.0000, 0.0000,\n",
       "           0.0000, 0.0000, 0.0000, 0.0000, 0.0000, 0.0000, 0.0000, 0.0000,\n",
       "           0.0000, 0.0000, 0.0000, 0.0000, 0.0000, 0.0000, 0.0000, 0.0000,\n",
       "           0.0000, 0.0000, 0.0000, 0.0000],\n",
       "          [0.0000, 0.0000, 0.0000, 0.0000, 0.0000, 0.0000, 0.0000, 0.0000,\n",
       "           0.0000, 0.0000, 0.0000, 0.0000, 0.0000, 0.0000, 0.0000, 0.0000,\n",
       "           0.0000, 0.0000, 0.0000, 0.0000, 0.0000, 0.0000, 0.0000, 0.0000,\n",
       "           0.0000, 0.0000, 0.0000, 0.0000],\n",
       "          [0.0000, 0.0000, 0.0000, 0.0000, 0.0000, 0.0000, 0.0000, 0.0000,\n",
       "           0.0000, 0.0000, 0.0000, 0.0000, 0.0039, 0.0000, 0.0000, 0.0510,\n",
       "           0.2863, 0.0000, 0.0000, 0.0039, 0.0157, 0.0000, 0.0000, 0.0000,\n",
       "           0.0000, 0.0039, 0.0039, 0.0000],\n",
       "          [0.0000, 0.0000, 0.0000, 0.0000, 0.0000, 0.0000, 0.0000, 0.0000,\n",
       "           0.0000, 0.0000, 0.0000, 0.0000, 0.0118, 0.0000, 0.1412, 0.5333,\n",
       "           0.4980, 0.2431, 0.2118, 0.0000, 0.0000, 0.0000, 0.0039, 0.0118,\n",
       "           0.0157, 0.0000, 0.0000, 0.0118],\n",
       "          [0.0000, 0.0000, 0.0000, 0.0000, 0.0000, 0.0000, 0.0000, 0.0000,\n",
       "           0.0000, 0.0000, 0.0000, 0.0000, 0.0235, 0.0000, 0.4000, 0.8000,\n",
       "           0.6902, 0.5255, 0.5647, 0.4824, 0.0902, 0.0000, 0.0000, 0.0000,\n",
       "           0.0000, 0.0471, 0.0392, 0.0000],\n",
       "          [0.0000, 0.0000, 0.0000, 0.0000, 0.0000, 0.0000, 0.0000, 0.0000,\n",
       "           0.0000, 0.0000, 0.0000, 0.0000, 0.0000, 0.0000, 0.6078, 0.9255,\n",
       "           0.8118, 0.6980, 0.4196, 0.6118, 0.6314, 0.4275, 0.2510, 0.0902,\n",
       "           0.3020, 0.5098, 0.2824, 0.0588],\n",
       "          [0.0000, 0.0000, 0.0000, 0.0000, 0.0000, 0.0000, 0.0000, 0.0000,\n",
       "           0.0000, 0.0000, 0.0000, 0.0039, 0.0000, 0.2706, 0.8118, 0.8745,\n",
       "           0.8549, 0.8471, 0.8471, 0.6392, 0.4980, 0.4745, 0.4784, 0.5725,\n",
       "           0.5529, 0.3451, 0.6745, 0.2588],\n",
       "          [0.0000, 0.0000, 0.0000, 0.0000, 0.0000, 0.0000, 0.0000, 0.0000,\n",
       "           0.0000, 0.0039, 0.0039, 0.0039, 0.0000, 0.7843, 0.9098, 0.9098,\n",
       "           0.9137, 0.8980, 0.8745, 0.8745, 0.8431, 0.8353, 0.6431, 0.4980,\n",
       "           0.4824, 0.7686, 0.8980, 0.0000],\n",
       "          [0.0000, 0.0000, 0.0000, 0.0000, 0.0000, 0.0000, 0.0000, 0.0000,\n",
       "           0.0000, 0.0000, 0.0000, 0.0000, 0.0000, 0.7176, 0.8824, 0.8471,\n",
       "           0.8745, 0.8941, 0.9216, 0.8902, 0.8784, 0.8706, 0.8784, 0.8667,\n",
       "           0.8745, 0.9608, 0.6784, 0.0000],\n",
       "          [0.0000, 0.0000, 0.0000, 0.0000, 0.0000, 0.0000, 0.0000, 0.0000,\n",
       "           0.0000, 0.0000, 0.0000, 0.0000, 0.0000, 0.7569, 0.8941, 0.8549,\n",
       "           0.8353, 0.7765, 0.7059, 0.8314, 0.8235, 0.8275, 0.8353, 0.8745,\n",
       "           0.8627, 0.9529, 0.7922, 0.0000],\n",
       "          [0.0000, 0.0000, 0.0000, 0.0000, 0.0000, 0.0000, 0.0000, 0.0000,\n",
       "           0.0000, 0.0039, 0.0118, 0.0000, 0.0471, 0.8588, 0.8627, 0.8314,\n",
       "           0.8549, 0.7529, 0.6627, 0.8902, 0.8157, 0.8549, 0.8784, 0.8314,\n",
       "           0.8863, 0.7725, 0.8196, 0.2039],\n",
       "          [0.0000, 0.0000, 0.0000, 0.0000, 0.0000, 0.0000, 0.0000, 0.0000,\n",
       "           0.0000, 0.0000, 0.0235, 0.0000, 0.3882, 0.9569, 0.8706, 0.8627,\n",
       "           0.8549, 0.7961, 0.7765, 0.8667, 0.8431, 0.8353, 0.8706, 0.8627,\n",
       "           0.9608, 0.4667, 0.6549, 0.2196],\n",
       "          [0.0000, 0.0000, 0.0000, 0.0000, 0.0000, 0.0000, 0.0000, 0.0000,\n",
       "           0.0000, 0.0157, 0.0000, 0.0000, 0.2157, 0.9255, 0.8941, 0.9020,\n",
       "           0.8941, 0.9412, 0.9098, 0.8353, 0.8549, 0.8745, 0.9176, 0.8510,\n",
       "           0.8510, 0.8196, 0.3608, 0.0000],\n",
       "          [0.0000, 0.0000, 0.0039, 0.0157, 0.0235, 0.0275, 0.0078, 0.0000,\n",
       "           0.0000, 0.0000, 0.0000, 0.0000, 0.9294, 0.8863, 0.8510, 0.8745,\n",
       "           0.8706, 0.8588, 0.8706, 0.8667, 0.8471, 0.8745, 0.8980, 0.8431,\n",
       "           0.8549, 1.0000, 0.3020, 0.0000],\n",
       "          [0.0000, 0.0118, 0.0000, 0.0000, 0.0000, 0.0000, 0.0000, 0.0000,\n",
       "           0.0000, 0.2431, 0.5686, 0.8000, 0.8941, 0.8118, 0.8353, 0.8667,\n",
       "           0.8549, 0.8157, 0.8275, 0.8549, 0.8784, 0.8745, 0.8588, 0.8431,\n",
       "           0.8784, 0.9569, 0.6235, 0.0000],\n",
       "          [0.0000, 0.0000, 0.0000, 0.0000, 0.0706, 0.1725, 0.3216, 0.4196,\n",
       "           0.7412, 0.8941, 0.8627, 0.8706, 0.8510, 0.8863, 0.7843, 0.8039,\n",
       "           0.8275, 0.9020, 0.8784, 0.9176, 0.6902, 0.7373, 0.9804, 0.9725,\n",
       "           0.9137, 0.9333, 0.8431, 0.0000],\n",
       "          [0.0000, 0.2235, 0.7333, 0.8157, 0.8784, 0.8667, 0.8784, 0.8157,\n",
       "           0.8000, 0.8392, 0.8157, 0.8196, 0.7843, 0.6235, 0.9608, 0.7569,\n",
       "           0.8078, 0.8745, 1.0000, 1.0000, 0.8667, 0.9176, 0.8667, 0.8275,\n",
       "           0.8627, 0.9098, 0.9647, 0.0000],\n",
       "          [0.0118, 0.7922, 0.8941, 0.8784, 0.8667, 0.8275, 0.8275, 0.8392,\n",
       "           0.8039, 0.8039, 0.8039, 0.8627, 0.9412, 0.3137, 0.5882, 1.0000,\n",
       "           0.8980, 0.8667, 0.7373, 0.6039, 0.7490, 0.8235, 0.8000, 0.8196,\n",
       "           0.8706, 0.8941, 0.8824, 0.0000],\n",
       "          [0.3843, 0.9137, 0.7765, 0.8235, 0.8706, 0.8980, 0.8980, 0.9176,\n",
       "           0.9765, 0.8627, 0.7608, 0.8431, 0.8510, 0.9451, 0.2549, 0.2863,\n",
       "           0.4157, 0.4588, 0.6588, 0.8588, 0.8667, 0.8431, 0.8510, 0.8745,\n",
       "           0.8745, 0.8784, 0.8980, 0.1137],\n",
       "          [0.2941, 0.8000, 0.8314, 0.8000, 0.7569, 0.8039, 0.8275, 0.8824,\n",
       "           0.8471, 0.7255, 0.7725, 0.8078, 0.7765, 0.8353, 0.9412, 0.7647,\n",
       "           0.8902, 0.9608, 0.9373, 0.8745, 0.8549, 0.8314, 0.8196, 0.8706,\n",
       "           0.8627, 0.8667, 0.9020, 0.2627],\n",
       "          [0.1882, 0.7961, 0.7176, 0.7608, 0.8353, 0.7725, 0.7255, 0.7451,\n",
       "           0.7608, 0.7529, 0.7922, 0.8392, 0.8588, 0.8667, 0.8627, 0.9255,\n",
       "           0.8824, 0.8471, 0.7804, 0.8078, 0.7294, 0.7098, 0.6941, 0.6745,\n",
       "           0.7098, 0.8039, 0.8078, 0.4510],\n",
       "          [0.0000, 0.4784, 0.8588, 0.7569, 0.7020, 0.6706, 0.7176, 0.7686,\n",
       "           0.8000, 0.8235, 0.8353, 0.8118, 0.8275, 0.8235, 0.7843, 0.7686,\n",
       "           0.7608, 0.7490, 0.7647, 0.7490, 0.7765, 0.7529, 0.6902, 0.6118,\n",
       "           0.6549, 0.6941, 0.8235, 0.3608],\n",
       "          [0.0000, 0.0000, 0.2902, 0.7412, 0.8314, 0.7490, 0.6863, 0.6745,\n",
       "           0.6863, 0.7098, 0.7255, 0.7373, 0.7412, 0.7373, 0.7569, 0.7765,\n",
       "           0.8000, 0.8196, 0.8235, 0.8235, 0.8275, 0.7373, 0.7373, 0.7608,\n",
       "           0.7529, 0.8471, 0.6667, 0.0000],\n",
       "          [0.0078, 0.0000, 0.0000, 0.0000, 0.2588, 0.7843, 0.8706, 0.9294,\n",
       "           0.9373, 0.9490, 0.9647, 0.9529, 0.9569, 0.8667, 0.8627, 0.7569,\n",
       "           0.7490, 0.7020, 0.7137, 0.7137, 0.7098, 0.6902, 0.6510, 0.6588,\n",
       "           0.3882, 0.2275, 0.0000, 0.0000],\n",
       "          [0.0000, 0.0000, 0.0000, 0.0000, 0.0000, 0.0000, 0.0000, 0.1569,\n",
       "           0.2392, 0.1725, 0.2824, 0.1608, 0.1373, 0.0000, 0.0000, 0.0000,\n",
       "           0.0000, 0.0000, 0.0000, 0.0000, 0.0000, 0.0000, 0.0000, 0.0000,\n",
       "           0.0000, 0.0000, 0.0000, 0.0000],\n",
       "          [0.0000, 0.0000, 0.0000, 0.0000, 0.0000, 0.0000, 0.0000, 0.0000,\n",
       "           0.0000, 0.0000, 0.0000, 0.0000, 0.0000, 0.0000, 0.0000, 0.0000,\n",
       "           0.0000, 0.0000, 0.0000, 0.0000, 0.0000, 0.0000, 0.0000, 0.0000,\n",
       "           0.0000, 0.0000, 0.0000, 0.0000],\n",
       "          [0.0000, 0.0000, 0.0000, 0.0000, 0.0000, 0.0000, 0.0000, 0.0000,\n",
       "           0.0000, 0.0000, 0.0000, 0.0000, 0.0000, 0.0000, 0.0000, 0.0000,\n",
       "           0.0000, 0.0000, 0.0000, 0.0000, 0.0000, 0.0000, 0.0000, 0.0000,\n",
       "           0.0000, 0.0000, 0.0000, 0.0000]]]),\n",
       " 9)"
      ]
     },
     "execution_count": 4,
     "metadata": {},
     "output_type": "execute_result"
    }
   ],
   "source": [
    "image, label = train_data[0]\n",
    "image, label"
   ]
  },
  {
   "cell_type": "code",
   "execution_count": 5,
   "id": "09cb776c",
   "metadata": {
    "execution": {
     "iopub.execute_input": "2025-09-03T08:48:56.091439Z",
     "iopub.status.busy": "2025-09-03T08:48:56.091257Z",
     "iopub.status.idle": "2025-09-03T08:48:56.095481Z",
     "shell.execute_reply": "2025-09-03T08:48:56.094936Z"
    },
    "papermill": {
     "duration": 0.01315,
     "end_time": "2025-09-03T08:48:56.096490",
     "exception": false,
     "start_time": "2025-09-03T08:48:56.083340",
     "status": "completed"
    },
    "tags": []
   },
   "outputs": [
    {
     "data": {
      "text/plain": [
       "['T-shirt/top',\n",
       " 'Trouser',\n",
       " 'Pullover',\n",
       " 'Dress',\n",
       " 'Coat',\n",
       " 'Sandal',\n",
       " 'Shirt',\n",
       " 'Sneaker',\n",
       " 'Bag',\n",
       " 'Ankle boot']"
      ]
     },
     "execution_count": 5,
     "metadata": {},
     "output_type": "execute_result"
    }
   ],
   "source": [
    "class_names = train_data.classes\n",
    "class_names"
   ]
  },
  {
   "cell_type": "code",
   "execution_count": 6,
   "id": "e696185f",
   "metadata": {
    "execution": {
     "iopub.execute_input": "2025-09-03T08:48:56.112496Z",
     "iopub.status.busy": "2025-09-03T08:48:56.112323Z",
     "iopub.status.idle": "2025-09-03T08:48:56.117100Z",
     "shell.execute_reply": "2025-09-03T08:48:56.116584Z"
    },
    "papermill": {
     "duration": 0.014111,
     "end_time": "2025-09-03T08:48:56.118191",
     "exception": false,
     "start_time": "2025-09-03T08:48:56.104080",
     "status": "completed"
    },
    "tags": []
   },
   "outputs": [
    {
     "data": {
      "text/plain": [
       "{'T-shirt/top': 0,\n",
       " 'Trouser': 1,\n",
       " 'Pullover': 2,\n",
       " 'Dress': 3,\n",
       " 'Coat': 4,\n",
       " 'Sandal': 5,\n",
       " 'Shirt': 6,\n",
       " 'Sneaker': 7,\n",
       " 'Bag': 8,\n",
       " 'Ankle boot': 9}"
      ]
     },
     "execution_count": 6,
     "metadata": {},
     "output_type": "execute_result"
    }
   ],
   "source": [
    "class_to_idx = train_data.class_to_idx \n",
    "class_to_idx"
   ]
  },
  {
   "cell_type": "code",
   "execution_count": 7,
   "id": "43415152",
   "metadata": {
    "execution": {
     "iopub.execute_input": "2025-09-03T08:48:56.133805Z",
     "iopub.status.busy": "2025-09-03T08:48:56.133593Z",
     "iopub.status.idle": "2025-09-03T08:48:56.137316Z",
     "shell.execute_reply": "2025-09-03T08:48:56.136634Z"
    },
    "papermill": {
     "duration": 0.012751,
     "end_time": "2025-09-03T08:48:56.138450",
     "exception": false,
     "start_time": "2025-09-03T08:48:56.125699",
     "status": "completed"
    },
    "tags": []
   },
   "outputs": [
    {
     "name": "stdout",
     "output_type": "stream",
     "text": [
      "Image shape: torch.Size([1, 28, 28]) -> [color_cannels, height, width]\n",
      "image label: Ankle boot\n"
     ]
    }
   ],
   "source": [
    "print(f\"Image shape: {image.shape} -> [color_cannels, height, width]\")\n",
    "print(f\"image label: {class_names[label]}\")"
   ]
  },
  {
   "cell_type": "markdown",
   "id": "c69e0ede",
   "metadata": {
    "papermill": {
     "duration": 0.007297,
     "end_time": "2025-09-03T08:48:56.153426",
     "exception": false,
     "start_time": "2025-09-03T08:48:56.146129",
     "status": "completed"
    },
    "tags": []
   },
   "source": [
    "### 1.2 Visualizing data"
   ]
  },
  {
   "cell_type": "code",
   "execution_count": 8,
   "id": "4c93b189",
   "metadata": {
    "execution": {
     "iopub.execute_input": "2025-09-03T08:48:56.169243Z",
     "iopub.status.busy": "2025-09-03T08:48:56.168714Z",
     "iopub.status.idle": "2025-09-03T08:48:56.412554Z",
     "shell.execute_reply": "2025-09-03T08:48:56.411948Z"
    },
    "papermill": {
     "duration": 0.252861,
     "end_time": "2025-09-03T08:48:56.413635",
     "exception": false,
     "start_time": "2025-09-03T08:48:56.160774",
     "status": "completed"
    },
    "tags": []
   },
   "outputs": [
    {
     "data": {
      "text/plain": [
       "<matplotlib.image.AxesImage at 0x7fe49da510d0>"
      ]
     },
     "execution_count": 8,
     "metadata": {},
     "output_type": "execute_result"
    },
    {
     "data": {
      "image/png": "[encoded data removed]",
      "text/plain": [
       "<Figure size 640x480 with 1 Axes>"
      ]
     },
     "metadata": {},
     "output_type": "display_data"
    }
   ],
   "source": [
    "import matplotlib.pyplot as plt \n",
    "\n",
    "image, label = train_data[0]\n",
    "plt.imshow(image.squeeze()) # we need squeeze to remove the color channel dimension"
   ]
  },
  {
   "cell_type": "code",
   "execution_count": 9,
   "id": "c301f400",
   "metadata": {
    "execution": {
     "iopub.execute_input": "2025-09-03T08:48:56.430487Z",
     "iopub.status.busy": "2025-09-03T08:48:56.430282Z",
     "iopub.status.idle": "2025-09-03T08:48:56.506958Z",
     "shell.execute_reply": "2025-09-03T08:48:56.506347Z"
    },
    "papermill": {
     "duration": 0.086438,
     "end_time": "2025-09-03T08:48:56.508059",
     "exception": false,
     "start_time": "2025-09-03T08:48:56.421621",
     "status": "completed"
    },
    "tags": []
   },
   "outputs": [
    {
     "data": {
      "text/plain": [
       "(-0.5, 27.5, 27.5, -0.5)"
      ]
     },
     "execution_count": 9,
     "metadata": {},
     "output_type": "execute_result"
    },
    {
     "data": {
      "image/png": "[encoded data removed]",
      "text/plain": [
       "<Figure size 640x480 with 1 Axes>"
      ]
     },
     "metadata": {},
     "output_type": "display_data"
    }
   ],
   "source": [
    "plt.imshow(image.squeeze(), cmap=\"gray\")\n",
    "plt.title(class_names[label])\n",
    "plt.axis(False)"
   ]
  },
  {
   "cell_type": "code",
   "execution_count": 10,
   "id": "83f10776",
   "metadata": {
    "execution": {
     "iopub.execute_input": "2025-09-03T08:48:56.524819Z",
     "iopub.status.busy": "2025-09-03T08:48:56.524639Z",
     "iopub.status.idle": "2025-09-03T08:48:57.324398Z",
     "shell.execute_reply": "2025-09-03T08:48:57.323644Z"
    },
    "papermill": {
     "duration": 0.80946,
     "end_time": "2025-09-03T08:48:57.325640",
     "exception": false,
     "start_time": "2025-09-03T08:48:56.516180",
     "status": "completed"
    },
    "tags": []
   },
   "outputs": [
    {
     "data": {
      "image/png": "[encoded data removed]",
      "text/plain": [
       "<Figure size 900x900 with 16 Axes>"
      ]
     },
     "metadata": {},
     "output_type": "display_data"
    }
   ],
   "source": [
    "# plot more images \n",
    "# torch.manual_seed(42)\n",
    "\n",
    "fig = plt.figure(figsize=(9,9))\n",
    "rows, cols = 4,4 \n",
    "for i in range(1, rows*cols+1):\n",
    "    random_idx = torch.randint(0, len(train_data), size=[1]).item()\n",
    "    # print(random_idx)\n",
    "    img, label = train_data[random_idx]\n",
    "    fig.add_subplot(rows,cols,i)\n",
    "    plt.imshow(img.squeeze(), cmap=\"gray\")\n",
    "    plt.title(class_names[label])\n",
    "    plt.axis(False)"
   ]
  },
  {
   "cell_type": "code",
   "execution_count": 11,
   "id": "f3cb19b7",
   "metadata": {
    "execution": {
     "iopub.execute_input": "2025-09-03T08:48:57.344463Z",
     "iopub.status.busy": "2025-09-03T08:48:57.344266Z",
     "iopub.status.idle": "2025-09-03T08:48:57.348424Z",
     "shell.execute_reply": "2025-09-03T08:48:57.347925Z"
    },
    "papermill": {
     "duration": 0.014664,
     "end_time": "2025-09-03T08:48:57.349474",
     "exception": false,
     "start_time": "2025-09-03T08:48:57.334810",
     "status": "completed"
    },
    "tags": []
   },
   "outputs": [
    {
     "data": {
      "text/plain": [
       "(Dataset FashionMNIST\n",
       "     Number of datapoints: 60000\n",
       "     Root location: data\n",
       "     Split: Train\n",
       "     StandardTransform\n",
       " Transform: ToTensor(),\n",
       " Dataset FashionMNIST\n",
       "     Number of datapoints: 10000\n",
       "     Root location: data\n",
       "     Split: Test\n",
       "     StandardTransform\n",
       " Transform: ToTensor())"
      ]
     },
     "execution_count": 11,
     "metadata": {},
     "output_type": "execute_result"
    }
   ],
   "source": [
    "train_data, test_data"
   ]
  },
  {
   "cell_type": "markdown",
   "id": "6464ba99",
   "metadata": {
    "papermill": {
     "duration": 0.05113,
     "end_time": "2025-09-03T08:48:57.409279",
     "exception": false,
     "start_time": "2025-09-03T08:48:57.358149",
     "status": "completed"
    },
    "tags": []
   },
   "source": [
    "## 2. Prepare DataLoader\n",
    "\n",
    "* Right now data is in the form of PyTorch Datasets\n",
    "* DataLoader turns the dataset into a Python iterable\n",
    "* more specifically, we want to turn our data into batches (or mini batches)\n",
    "  1. it is more computationally efficient, as in the computing hardware may not be able to look (store in memory) at 6000 images in one hit. So we break it down to 32 images at a time (batch size = 32)\n",
    "    2. it gives our NN more chances to update its ggradients per epoch (every 32 images)"
   ]
  },
  {
   "cell_type": "code",
   "execution_count": 12,
   "id": "48bfeea3",
   "metadata": {
    "execution": {
     "iopub.execute_input": "2025-09-03T08:48:57.427832Z",
     "iopub.status.busy": "2025-09-03T08:48:57.427611Z",
     "iopub.status.idle": "2025-09-03T08:48:57.433265Z",
     "shell.execute_reply": "2025-09-03T08:48:57.432678Z"
    },
    "papermill": {
     "duration": 0.016162,
     "end_time": "2025-09-03T08:48:57.434271",
     "exception": false,
     "start_time": "2025-09-03T08:48:57.418109",
     "status": "completed"
    },
    "tags": []
   },
   "outputs": [
    {
     "data": {
      "text/plain": [
       "(<torch.utils.data.dataloader.DataLoader at 0x7fe49c7ea8d0>,\n",
       " <torch.utils.data.dataloader.DataLoader at 0x7fe49c736890>)"
      ]
     },
     "execution_count": 12,
     "metadata": {},
     "output_type": "execute_result"
    }
   ],
   "source": [
    "from torch.utils.data import DataLoader \n",
    "\n",
    "# setup the batch size hyperparameter \n",
    "BATCH_SIZE = 32 \n",
    "\n",
    "# turn dataset into iterables (batches)\n",
    "train_dataloader = DataLoader(\n",
    "    dataset=train_data,\n",
    "    batch_size=BATCH_SIZE,\n",
    "    shuffle=True\n",
    ")\n",
    "\n",
    "test_dataloader = DataLoader(\n",
    "    dataset=test_data, \n",
    "    batch_size=BATCH_SIZE,\n",
    "    shuffle=False\n",
    ")\n",
    "\n",
    "train_dataloader, test_dataloader"
   ]
  },
  {
   "cell_type": "code",
   "execution_count": 13,
   "id": "e3c1d9c6",
   "metadata": {
    "execution": {
     "iopub.execute_input": "2025-09-03T08:48:57.452780Z",
     "iopub.status.busy": "2025-09-03T08:48:57.452601Z",
     "iopub.status.idle": "2025-09-03T08:48:57.456700Z",
     "shell.execute_reply": "2025-09-03T08:48:57.456016Z"
    },
    "papermill": {
     "duration": 0.014589,
     "end_time": "2025-09-03T08:48:57.457775",
     "exception": false,
     "start_time": "2025-09-03T08:48:57.443186",
     "status": "completed"
    },
    "tags": []
   },
   "outputs": [
    {
     "name": "stdout",
     "output_type": "stream",
     "text": [
      "Dataloaders: (<torch.utils.data.dataloader.DataLoader object at 0x7fe49c7ea8d0>, <torch.utils.data.dataloader.DataLoader object at 0x7fe49c736890>)\n",
      "Length of train_dataloader: 1875,batches of 32...\n",
      "Length of test_dataloader: 313, batches of 32\n"
     ]
    }
   ],
   "source": [
    "print(f\"Dataloaders: {train_dataloader, test_dataloader}\")\n",
    "print(f\"Length of train_dataloader: {len(train_dataloader)},batches of {BATCH_SIZE}...\")\n",
    "print(f\"Length of test_dataloader: {len(test_dataloader)}, batches of {BATCH_SIZE}\")"
   ]
  },
  {
   "cell_type": "code",
   "execution_count": 14,
   "id": "eeeac587",
   "metadata": {
    "execution": {
     "iopub.execute_input": "2025-09-03T08:48:57.476508Z",
     "iopub.status.busy": "2025-09-03T08:48:57.476309Z",
     "iopub.status.idle": "2025-09-03T08:48:57.480597Z",
     "shell.execute_reply": "2025-09-03T08:48:57.479926Z"
    },
    "papermill": {
     "duration": 0.01484,
     "end_time": "2025-09-03T08:48:57.481611",
     "exception": false,
     "start_time": "2025-09-03T08:48:57.466771",
     "status": "completed"
    },
    "tags": []
   },
   "outputs": [
    {
     "data": {
      "text/plain": [
       "(312.5, 10000.0)"
      ]
     },
     "execution_count": 14,
     "metadata": {},
     "output_type": "execute_result"
    }
   ],
   "source": [
    "10000/32, 32*312.5"
   ]
  },
  {
   "cell_type": "code",
   "execution_count": 15,
   "id": "25ad9566",
   "metadata": {
    "execution": {
     "iopub.execute_input": "2025-09-03T08:48:57.500488Z",
     "iopub.status.busy": "2025-09-03T08:48:57.500309Z",
     "iopub.status.idle": "2025-09-03T08:48:57.517348Z",
     "shell.execute_reply": "2025-09-03T08:48:57.516783Z"
    },
    "papermill": {
     "duration": 0.027816,
     "end_time": "2025-09-03T08:48:57.518447",
     "exception": false,
     "start_time": "2025-09-03T08:48:57.490631",
     "status": "completed"
    },
    "tags": []
   },
   "outputs": [
    {
     "data": {
      "text/plain": [
       "(torch.Size([32, 1, 28, 28]), torch.Size([32]))"
      ]
     },
     "execution_count": 15,
     "metadata": {},
     "output_type": "execute_result"
    }
   ],
   "source": [
    "train_features_batch, train_labels_batch = next(iter(train_dataloader)) # iter turns train_dataloader into an iterable and next gets us the next batch\n",
    "train_features_batch.shape, train_labels_batch.shape"
   ]
  },
  {
   "cell_type": "code",
   "execution_count": 16,
   "id": "7660501d",
   "metadata": {
    "execution": {
     "iopub.execute_input": "2025-09-03T08:48:57.538996Z",
     "iopub.status.busy": "2025-09-03T08:48:57.538773Z",
     "iopub.status.idle": "2025-09-03T08:48:57.646580Z",
     "shell.execute_reply": "2025-09-03T08:48:57.645937Z"
    },
    "papermill": {
     "duration": 0.119954,
     "end_time": "2025-09-03T08:48:57.647684",
     "exception": false,
     "start_time": "2025-09-03T08:48:57.527730",
     "status": "completed"
    },
    "tags": []
   },
   "outputs": [
    {
     "name": "stdout",
     "output_type": "stream",
     "text": [
      "Image size: torch.Size([1, 28, 28])\n",
      "Label: 8, label size: torch.Size([])\n"
     ]
    },
    {
     "data": {
      "image/png": "[encoded data removed]",
      "text/plain": [
       "<Figure size 640x480 with 1 Axes>"
      ]
     },
     "metadata": {},
     "output_type": "display_data"
    }
   ],
   "source": [
    "# show a sample \n",
    "torch.manual_seed(42)\n",
    "random_idx = torch.randint(0,len(train_features_batch), size=[1]).item()\n",
    "img, label = train_features_batch[random_idx], train_labels_batch[random_idx]\n",
    "plt.imshow(img.squeeze(), cmap=\"gray\")\n",
    "plt.title(class_names[label])\n",
    "plt.axis(False)\n",
    "print(f\"Image size: {img.shape}\")\n",
    "print(f\"Label: {label}, label size: {label.shape}\")"
   ]
  },
  {
   "cell_type": "markdown",
   "id": "2516f43f",
   "metadata": {
    "papermill": {
     "duration": 0.009279,
     "end_time": "2025-09-03T08:48:57.666707",
     "exception": false,
     "start_time": "2025-09-03T08:48:57.657428",
     "status": "completed"
    },
    "tags": []
   },
   "source": [
    "## 3. Model 0: baseline model "
   ]
  },
  {
   "cell_type": "code",
   "execution_count": 17,
   "id": "84fbfd11",
   "metadata": {
    "execution": {
     "iopub.execute_input": "2025-09-03T08:48:57.685972Z",
     "iopub.status.busy": "2025-09-03T08:48:57.685734Z",
     "iopub.status.idle": "2025-09-03T08:48:57.690173Z",
     "shell.execute_reply": "2025-09-03T08:48:57.689653Z"
    },
    "papermill": {
     "duration": 0.015284,
     "end_time": "2025-09-03T08:48:57.691191",
     "exception": false,
     "start_time": "2025-09-03T08:48:57.675907",
     "status": "completed"
    },
    "tags": []
   },
   "outputs": [
    {
     "data": {
      "text/plain": [
       "torch.Size([1, 28, 28])"
      ]
     },
     "execution_count": 17,
     "metadata": {},
     "output_type": "execute_result"
    }
   ],
   "source": [
    "# create a flatten layer \n",
    "flatten_model = nn.Flatten()\n",
    "\n",
    "# get a single sample \n",
    "x = train_features_batch[0]\n",
    "x.shape"
   ]
  },
  {
   "cell_type": "code",
   "execution_count": 18,
   "id": "16b642bf",
   "metadata": {
    "execution": {
     "iopub.execute_input": "2025-09-03T08:48:57.710369Z",
     "iopub.status.busy": "2025-09-03T08:48:57.710175Z",
     "iopub.status.idle": "2025-09-03T08:48:57.714684Z",
     "shell.execute_reply": "2025-09-03T08:48:57.714024Z"
    },
    "papermill": {
     "duration": 0.015583,
     "end_time": "2025-09-03T08:48:57.715939",
     "exception": false,
     "start_time": "2025-09-03T08:48:57.700356",
     "status": "completed"
    },
    "tags": []
   },
   "outputs": [
    {
     "name": "stdout",
     "output_type": "stream",
     "text": [
      "Shape before flattening: torch.Size([1, 28, 28]) -> [C, H, W]\n",
      "Shape after flattening: torch.Size([1, 784]) -> [C, H*W]\n"
     ]
    }
   ],
   "source": [
    "# flatten the sample \n",
    "output = flatten_model(x)\n",
    "print(f\"Shape before flattening: {x.shape} -> [C, H, W]\")\n",
    "print(f\"Shape after flattening: {output.shape} -> [C, H*W]\")"
   ]
  },
  {
   "cell_type": "code",
   "execution_count": 19,
   "id": "565573a7",
   "metadata": {
    "execution": {
     "iopub.execute_input": "2025-09-03T08:48:57.735546Z",
     "iopub.status.busy": "2025-09-03T08:48:57.735376Z",
     "iopub.status.idle": "2025-09-03T08:48:57.739697Z",
     "shell.execute_reply": "2025-09-03T08:48:57.739029Z"
    },
    "papermill": {
     "duration": 0.015627,
     "end_time": "2025-09-03T08:48:57.740916",
     "exception": false,
     "start_time": "2025-09-03T08:48:57.725289",
     "status": "completed"
    },
    "tags": []
   },
   "outputs": [],
   "source": [
    "from torch import nn \n",
    "class FashionMNISTModelV0(nn.Module):\n",
    "    def __init__(\n",
    "        self, \n",
    "        input_shape: int, \n",
    "        hidden_units: int,\n",
    "        output_shape: int\n",
    "    ) :\n",
    "        super().__init__()\n",
    "        self.layer_stack = nn.Sequential(\n",
    "            nn.Flatten(),\n",
    "            nn.Linear(\n",
    "                in_features = input_shape,\n",
    "                out_features = hidden_units\n",
    "            ),\n",
    "            nn.Linear(\n",
    "                in_features = hidden_units,\n",
    "                out_features = output_shape\n",
    "            )\n",
    "        )\n",
    "\n",
    "    def forward(self, x):\n",
    "        return self.layer_stack(x)"
   ]
  },
  {
   "cell_type": "code",
   "execution_count": 20,
   "id": "6b23f96a",
   "metadata": {
    "execution": {
     "iopub.execute_input": "2025-09-03T08:48:57.760367Z",
     "iopub.status.busy": "2025-09-03T08:48:57.760200Z",
     "iopub.status.idle": "2025-09-03T08:48:57.765997Z",
     "shell.execute_reply": "2025-09-03T08:48:57.765389Z"
    },
    "papermill": {
     "duration": 0.016849,
     "end_time": "2025-09-03T08:48:57.767053",
     "exception": false,
     "start_time": "2025-09-03T08:48:57.750204",
     "status": "completed"
    },
    "tags": []
   },
   "outputs": [
    {
     "data": {
      "text/plain": [
       "FashionMNISTModelV0(\n",
       "  (layer_stack): Sequential(\n",
       "    (0): Flatten(start_dim=1, end_dim=-1)\n",
       "    (1): Linear(in_features=784, out_features=10, bias=True)\n",
       "    (2): Linear(in_features=10, out_features=10, bias=True)\n",
       "  )\n",
       ")"
      ]
     },
     "execution_count": 20,
     "metadata": {},
     "output_type": "execute_result"
    }
   ],
   "source": [
    "torch.manual_seed(42)\n",
    "\n",
    "# setup model with input parameters \n",
    "model_0 = FashionMNISTModelV0(\n",
    "    input_shape = 28*28, # 784\n",
    "    hidden_units = 10, \n",
    "    output_shape= len(class_names) # one for each class\n",
    ")\n",
    "\n",
    "model_0"
   ]
  },
  {
   "cell_type": "code",
   "execution_count": 21,
   "id": "fc8d62e5",
   "metadata": {
    "execution": {
     "iopub.execute_input": "2025-09-03T08:48:57.786592Z",
     "iopub.status.busy": "2025-09-03T08:48:57.786394Z",
     "iopub.status.idle": "2025-09-03T08:48:57.799021Z",
     "shell.execute_reply": "2025-09-03T08:48:57.798453Z"
    },
    "papermill": {
     "duration": 0.023528,
     "end_time": "2025-09-03T08:48:57.800069",
     "exception": false,
     "start_time": "2025-09-03T08:48:57.776541",
     "status": "completed"
    },
    "tags": []
   },
   "outputs": [
    {
     "data": {
      "text/plain": [
       "tensor([[-0.0315,  0.3171,  0.0531, -0.2525,  0.5959,  0.2112,  0.3233,  0.2694,\n",
       "         -0.1004,  0.0157]], grad_fn=<AddmmBackward0>)"
      ]
     },
     "execution_count": 21,
     "metadata": {},
     "output_type": "execute_result"
    }
   ],
   "source": [
    "dummy_x = torch.rand([1,1,28,28])\n",
    "model_0(dummy_x)"
   ]
  },
  {
   "cell_type": "code",
   "execution_count": 22,
   "id": "d800e0d4",
   "metadata": {
    "execution": {
     "iopub.execute_input": "2025-09-03T08:48:57.819562Z",
     "iopub.status.busy": "2025-09-03T08:48:57.819362Z",
     "iopub.status.idle": "2025-09-03T08:48:57.826506Z",
     "shell.execute_reply": "2025-09-03T08:48:57.826026Z"
    },
    "papermill": {
     "duration": 0.018211,
     "end_time": "2025-09-03T08:48:57.827542",
     "exception": false,
     "start_time": "2025-09-03T08:48:57.809331",
     "status": "completed"
    },
    "tags": []
   },
   "outputs": [
    {
     "data": {
      "text/plain": [
       "OrderedDict([('layer_stack.1.weight',\n",
       "              tensor([[ 0.0273,  0.0296, -0.0084,  ..., -0.0142,  0.0093,  0.0135],\n",
       "                      [-0.0188, -0.0354,  0.0187,  ..., -0.0106, -0.0001,  0.0115],\n",
       "                      [-0.0008,  0.0017,  0.0045,  ..., -0.0127, -0.0188,  0.0059],\n",
       "                      ...,\n",
       "                      [-0.0116,  0.0273, -0.0344,  ...,  0.0176,  0.0283, -0.0011],\n",
       "                      [-0.0230,  0.0257,  0.0291,  ..., -0.0187, -0.0087,  0.0001],\n",
       "                      [ 0.0176, -0.0147,  0.0053,  ..., -0.0336, -0.0221,  0.0205]])),\n",
       "             ('layer_stack.1.bias',\n",
       "              tensor([-0.0093,  0.0283, -0.0033,  0.0255,  0.0017,  0.0037, -0.0302, -0.0123,\n",
       "                       0.0018,  0.0163])),\n",
       "             ('layer_stack.2.weight',\n",
       "              tensor([[ 0.0614, -0.0687,  0.0021,  0.2718,  0.2109,  0.1079, -0.2279, -0.1063,\n",
       "                        0.2019,  0.2847],\n",
       "                      [-0.1495,  0.1344, -0.0740,  0.2006, -0.0475, -0.2514, -0.3130, -0.0118,\n",
       "                        0.0932, -0.1864],\n",
       "                      [ 0.2488,  0.1500,  0.1907,  0.1457, -0.3050, -0.0580,  0.1643,  0.1565,\n",
       "                       -0.2877, -0.1792],\n",
       "                      [ 0.2305, -0.2618,  0.2397, -0.0610,  0.0232,  0.1542,  0.0851, -0.2027,\n",
       "                        0.1030, -0.2715],\n",
       "                      [-0.1596, -0.0555, -0.0633,  0.2302, -0.1726,  0.2654,  0.1473,  0.1029,\n",
       "                        0.2252, -0.2160],\n",
       "                      [-0.2725,  0.0118,  0.1559,  0.1596,  0.0132,  0.3024,  0.1124,  0.1366,\n",
       "                       -0.1533,  0.0965],\n",
       "                      [-0.1184, -0.2555, -0.2057, -0.1909, -0.0477, -0.1324,  0.2905,  0.1307,\n",
       "                       -0.2629,  0.0133],\n",
       "                      [ 0.2727, -0.0127,  0.0513,  0.0863, -0.1043, -0.2047, -0.1185, -0.0825,\n",
       "                        0.2488, -0.2571],\n",
       "                      [ 0.0425, -0.1209, -0.0336, -0.0281, -0.1227,  0.0730,  0.0747, -0.1816,\n",
       "                        0.1943,  0.2853],\n",
       "                      [-0.1310,  0.0645, -0.1171,  0.2168, -0.0245, -0.2820,  0.0736,  0.2621,\n",
       "                        0.0012, -0.0810]])),\n",
       "             ('layer_stack.2.bias',\n",
       "              tensor([-0.0087,  0.1791,  0.2712, -0.0791,  0.1685,  0.1762,  0.2825,  0.2266,\n",
       "                      -0.2612, -0.2613]))])"
      ]
     },
     "execution_count": 22,
     "metadata": {},
     "output_type": "execute_result"
    }
   ],
   "source": [
    "model_0.state_dict()"
   ]
  },
  {
   "cell_type": "markdown",
   "id": "fd36d1a2",
   "metadata": {
    "papermill": {
     "duration": 0.009466,
     "end_time": "2025-09-03T08:48:57.846768",
     "exception": false,
     "start_time": "2025-09-03T08:48:57.837302",
     "status": "completed"
    },
    "tags": []
   },
   "source": [
    "### 3.1 Setup loss, optimizer and evaluation metrics \n",
    "* Loss function : since we're working with multi-class data -> `nn.CrossEntropyLoss()`\n",
    "* Optimizer : stochastic gradient descent -> `torch.optim.SGD()`\n",
    "* Evaluation metric : since we are working on a classification problem, let's use accuracy "
   ]
  },
  {
   "cell_type": "code",
   "execution_count": 23,
   "id": "813ee968",
   "metadata": {
    "execution": {
     "iopub.execute_input": "2025-09-03T08:48:57.866688Z",
     "iopub.status.busy": "2025-09-03T08:48:57.866482Z",
     "iopub.status.idle": "2025-09-03T08:48:58.079728Z",
     "shell.execute_reply": "2025-09-03T08:48:58.078935Z"
    },
    "papermill": {
     "duration": 0.224562,
     "end_time": "2025-09-03T08:48:58.080986",
     "exception": false,
     "start_time": "2025-09-03T08:48:57.856424",
     "status": "completed"
    },
    "tags": []
   },
   "outputs": [
    {
     "name": "stdout",
     "output_type": "stream",
     "text": [
      "Downloading helper_functions.py\n"
     ]
    }
   ],
   "source": [
    "import requests \n",
    "from pathlib import Path \n",
    "\n",
    "if Path(\"helper_functions.py\").is_file() :\n",
    "    print(\"helper_functions.py already exists, skipping download\")\n",
    "else : \n",
    "    print(\"Downloading helper_functions.py\")\n",
    "    request = requests.get(\"https://raw.githubusercontent.com/mrdbourke/pytorch-deep-learning/af6548e52663c8395fe2777bd0fbfd6ac85fd6f8/helper_functions.py\")\n",
    "    with open(\"helper_functions.py\", \"wb\") as f:\n",
    "        f.write(request.content)"
   ]
  },
  {
   "cell_type": "code",
   "execution_count": 24,
   "id": "9b55925a",
   "metadata": {
    "execution": {
     "iopub.execute_input": "2025-09-03T08:48:58.101516Z",
     "iopub.status.busy": "2025-09-03T08:48:58.101303Z",
     "iopub.status.idle": "2025-09-03T08:48:58.230782Z",
     "shell.execute_reply": "2025-09-03T08:48:58.230090Z"
    },
    "papermill": {
     "duration": 0.141049,
     "end_time": "2025-09-03T08:48:58.232052",
     "exception": false,
     "start_time": "2025-09-03T08:48:58.091003",
     "status": "completed"
    },
    "tags": []
   },
   "outputs": [
    {
     "name": "stdout",
     "output_type": "stream",
     "text": [
      "data  helper_functions.py  __notebook__.ipynb\r\n"
     ]
    }
   ],
   "source": [
    "!ls"
   ]
  },
  {
   "cell_type": "code",
   "execution_count": 25,
   "id": "13743ed1",
   "metadata": {
    "execution": {
     "iopub.execute_input": "2025-09-03T08:48:58.253337Z",
     "iopub.status.busy": "2025-09-03T08:48:58.252495Z",
     "iopub.status.idle": "2025-09-03T08:48:58.319131Z",
     "shell.execute_reply": "2025-09-03T08:48:58.318546Z"
    },
    "papermill": {
     "duration": 0.078414,
     "end_time": "2025-09-03T08:48:58.320262",
     "exception": false,
     "start_time": "2025-09-03T08:48:58.241848",
     "status": "completed"
    },
    "tags": []
   },
   "outputs": [],
   "source": [
    "from helper_functions import accuracy_fn \n",
    "\n",
    "# setup loss function and optimizer \n",
    "loss_fn = nn.CrossEntropyLoss()\n",
    "optimizer = torch.optim.SGD(\n",
    "    params=model_0.parameters(),\n",
    "    lr=0.1\n",
    ")"
   ]
  },
  {
   "cell_type": "markdown",
   "id": "2bf5fc72",
   "metadata": {
    "papermill": {
     "duration": 0.009349,
     "end_time": "2025-09-03T08:48:58.339467",
     "exception": false,
     "start_time": "2025-09-03T08:48:58.330118",
     "status": "completed"
    },
    "tags": []
   },
   "source": [
    "### 3.2 Creating a function to time our experiments\n",
    "\n",
    "ML is very experimental. Two of the main things we want to track are:\n",
    "1. Model's performance (e.g. loss and accuracy)\n",
    "2. How fast it runs "
   ]
  },
  {
   "cell_type": "code",
   "execution_count": 26,
   "id": "360c0fcb",
   "metadata": {
    "execution": {
     "iopub.execute_input": "2025-09-03T08:48:58.359305Z",
     "iopub.status.busy": "2025-09-03T08:48:58.359103Z",
     "iopub.status.idle": "2025-09-03T08:48:58.362731Z",
     "shell.execute_reply": "2025-09-03T08:48:58.362239Z"
    },
    "papermill": {
     "duration": 0.014724,
     "end_time": "2025-09-03T08:48:58.363658",
     "exception": false,
     "start_time": "2025-09-03T08:48:58.348934",
     "status": "completed"
    },
    "tags": []
   },
   "outputs": [],
   "source": [
    "from timeit import default_timer as timer \n",
    "def print_train_time(\n",
    "    start: float, \n",
    "    end: float, \n",
    "    device: torch.device = None\n",
    "):\n",
    "    \"\"\"\n",
    "    Prints difference between start and end time\n",
    "    \"\"\"\n",
    "    total_time = end - start\n",
    "    print(f\"Train time on {device}: {total_time:.3f} seconds\")\n",
    "    return total_time "
   ]
  },
  {
   "cell_type": "code",
   "execution_count": 27,
   "id": "4f44f147",
   "metadata": {
    "execution": {
     "iopub.execute_input": "2025-09-03T08:48:58.383580Z",
     "iopub.status.busy": "2025-09-03T08:48:58.383384Z",
     "iopub.status.idle": "2025-09-03T08:48:58.388432Z",
     "shell.execute_reply": "2025-09-03T08:48:58.387744Z"
    },
    "papermill": {
     "duration": 0.016344,
     "end_time": "2025-09-03T08:48:58.389508",
     "exception": false,
     "start_time": "2025-09-03T08:48:58.373164",
     "status": "completed"
    },
    "tags": []
   },
   "outputs": [
    {
     "name": "stdout",
     "output_type": "stream",
     "text": [
      "Train time on cpu: 0.000 seconds\n"
     ]
    },
    {
     "data": {
      "text/plain": [
       "2.5159000074381765e-05"
      ]
     },
     "execution_count": 27,
     "metadata": {},
     "output_type": "execute_result"
    }
   ],
   "source": [
    "start_time = timer()\n",
    "# code \n",
    "end_time = timer()\n",
    "print_train_time(start_time, end_time, \"cpu\")"
   ]
  },
  {
   "cell_type": "markdown",
   "id": "d51962c8",
   "metadata": {
    "papermill": {
     "duration": 0.009472,
     "end_time": "2025-09-03T08:48:58.408913",
     "exception": false,
     "start_time": "2025-09-03T08:48:58.399441",
     "status": "completed"
    },
    "tags": []
   },
   "source": [
    "### 3.3 Creating a training loop and training the model on batches of data \n",
    "1. Loop through epochs\n",
    "2. Loop through training batches, perform training steps, calculate the train loss *per batch*\n",
    "3. Loop through testing batches, perform testing steps, calculate the test loss *per batch*\n",
    "4. Print out what's happning\n",
    "5. Time it all\n",
    "\n",
    "The **optimizer** will update a model's parameters **once per batch rather than once per epoch**"
   ]
  },
  {
   "cell_type": "code",
   "execution_count": 28,
   "id": "a0531c96",
   "metadata": {
    "execution": {
     "iopub.execute_input": "2025-09-03T08:48:58.429403Z",
     "iopub.status.busy": "2025-09-03T08:48:58.429229Z",
     "iopub.status.idle": "2025-09-03T08:49:21.278419Z",
     "shell.execute_reply": "2025-09-03T08:49:21.277581Z"
    },
    "papermill": {
     "duration": 22.860962,
     "end_time": "2025-09-03T08:49:21.279602",
     "exception": false,
     "start_time": "2025-09-03T08:48:58.418640",
     "status": "completed"
    },
    "tags": []
   },
   "outputs": [
    {
     "data": {
      "application/vnd.jupyter.widget-view+json": {
       "model_id": "5204dcb472d14608a072f24c6f026061",
       "version_major": 2,
       "version_minor": 0
      },
      "text/plain": [
       "  0%|          | 0/3 [00:00<?, ?it/s]"
      ]
     },
     "metadata": {},
     "output_type": "display_data"
    },
    {
     "name": "stdout",
     "output_type": "stream",
     "text": [
      "Epoch: 0\n",
      "-------\n",
      "Looked at 0/60000 samples\n",
      "Looked at 12800/60000 samples\n",
      "Looked at 25600/60000 samples\n",
      "Looked at 38400/60000 samples\n",
      "Looked at 51200/60000 samples\n",
      "\n",
      "Train loss: 0.59039 | Test loss: 0.50954, Test acc: 82.04%\n",
      "\n",
      "Epoch: 1\n",
      "-------\n",
      "Looked at 0/60000 samples\n",
      "Looked at 12800/60000 samples\n",
      "Looked at 25600/60000 samples\n",
      "Looked at 38400/60000 samples\n",
      "Looked at 51200/60000 samples\n",
      "\n",
      "Train loss: 0.47633 | Test loss: 0.47989, Test acc: 83.20%\n",
      "\n",
      "Epoch: 2\n",
      "-------\n",
      "Looked at 0/60000 samples\n",
      "Looked at 12800/60000 samples\n",
      "Looked at 25600/60000 samples\n",
      "Looked at 38400/60000 samples\n",
      "Looked at 51200/60000 samples\n",
      "\n",
      "Train loss: 0.45503 | Test loss: 0.47664, Test acc: 83.43%\n",
      "\n",
      "Train time on cpu: 22.712 seconds\n"
     ]
    }
   ],
   "source": [
    "# Import tqdm for progress bar\n",
    "from tqdm.auto import tqdm\n",
    "\n",
    "# Set the seed and start the timer\n",
    "torch.manual_seed(42)\n",
    "train_time_start_on_cpu = timer()\n",
    "\n",
    "# Set the number of epochs (we'll keep this small for faster training times)\n",
    "epochs = 3\n",
    "\n",
    "# Create training and testing loop\n",
    "for epoch in tqdm(range(epochs)):\n",
    "    print(f\"Epoch: {epoch}\\n-------\")\n",
    "    ### Training\n",
    "    train_loss = 0\n",
    "    # Add a loop to loop through training batches\n",
    "    for batch, (X, y) in enumerate(train_dataloader):\n",
    "        model_0.train() \n",
    "        # 1. Forward pass\n",
    "        y_pred = model_0(X)\n",
    "\n",
    "        # 2. Calculate loss (per batch)\n",
    "        loss = loss_fn(y_pred, y)\n",
    "        train_loss += loss # accumulatively add up the loss per epoch \n",
    "\n",
    "        # 3. Optimizer zero grad\n",
    "        optimizer.zero_grad()\n",
    "\n",
    "        # 4. Loss backward\n",
    "        loss.backward()\n",
    "\n",
    "        # 5. Optimizer step\n",
    "        optimizer.step()\n",
    "\n",
    "        # Print out how many samples have been seen\n",
    "        if batch % 400 == 0:\n",
    "            print(f\"Looked at {batch * len(X)}/{len(train_dataloader.dataset)} samples\")\n",
    "\n",
    "    # Divide total train loss by length of train dataloader (average loss per batch per epoch)\n",
    "    train_loss /= len(train_dataloader)\n",
    "    \n",
    "    ### Testing\n",
    "    # Setup variables for accumulatively adding up loss and accuracy \n",
    "    test_loss, test_acc = 0, 0 \n",
    "    model_0.eval()\n",
    "    with torch.inference_mode():\n",
    "        for X, y in test_dataloader:\n",
    "            # 1. Forward pass\n",
    "            test_pred = model_0(X)\n",
    "           \n",
    "            # 2. Calculate loss (accumulatively)\n",
    "            test_loss += loss_fn(test_pred, y) # accumulatively add up the loss per epoch\n",
    "\n",
    "            # 3. Calculate accuracy (preds need to be same as y_true)\n",
    "            test_acc += accuracy_fn(y_true=y, y_pred=test_pred.argmax(dim=1))\n",
    "        \n",
    "        # Calculations on test metrics need to happen inside torch.inference_mode()\n",
    "        # Divide total test loss by length of test dataloader (per batch)\n",
    "        test_loss /= len(test_dataloader)\n",
    "\n",
    "        # Divide total accuracy by length of test dataloader (per batch)\n",
    "        test_acc /= len(test_dataloader)\n",
    "\n",
    "    ## Print out what's happening\n",
    "    print(f\"\\nTrain loss: {train_loss:.5f} | Test loss: {test_loss:.5f}, Test acc: {test_acc:.2f}%\\n\")\n",
    "\n",
    "# Calculate training time      \n",
    "train_time_end_on_cpu = timer()\n",
    "total_train_time_model_0 = print_train_time(start=train_time_start_on_cpu, \n",
    "                                           end=train_time_end_on_cpu,\n",
    "                                           device=str(next(model_0.parameters()).device))"
   ]
  },
  {
   "cell_type": "markdown",
   "id": "b70da575",
   "metadata": {
    "papermill": {
     "duration": 0.010604,
     "end_time": "2025-09-03T08:49:21.303753",
     "exception": false,
     "start_time": "2025-09-03T08:49:21.293149",
     "status": "completed"
    },
    "tags": []
   },
   "source": [
    "## 4. Make predicions and get model_0 results"
   ]
  },
  {
   "cell_type": "code",
   "execution_count": 29,
   "id": "0081c091",
   "metadata": {
    "execution": {
     "iopub.execute_input": "2025-09-03T08:49:21.325665Z",
     "iopub.status.busy": "2025-09-03T08:49:21.325227Z",
     "iopub.status.idle": "2025-09-03T08:49:22.210109Z",
     "shell.execute_reply": "2025-09-03T08:49:22.209400Z"
    },
    "papermill": {
     "duration": 0.897262,
     "end_time": "2025-09-03T08:49:22.211321",
     "exception": false,
     "start_time": "2025-09-03T08:49:21.314059",
     "status": "completed"
    },
    "tags": []
   },
   "outputs": [
    {
     "data": {
      "text/plain": [
       "{'model_name': 'FashionMNISTModelV0',\n",
       " 'model_loss': 0.47663894295692444,\n",
       " 'model_acc': 83.42651757188499}"
      ]
     },
     "execution_count": 29,
     "metadata": {},
     "output_type": "execute_result"
    }
   ],
   "source": [
    "torch.manual_seed(42)\n",
    "def eval_model(model: torch.nn.Module, \n",
    "               data_loader: torch.utils.data.DataLoader, \n",
    "               loss_fn: torch.nn.Module, \n",
    "               accuracy_fn):\n",
    "    \"\"\"Returns a dictionary containing the results of model predicting on data_loader.\n",
    "\n",
    "    Args:\n",
    "        model (torch.nn.Module): A PyTorch model capable of making predictions on data_loader.\n",
    "        data_loader (torch.utils.data.DataLoader): The target dataset to predict on.\n",
    "        loss_fn (torch.nn.Module): The loss function of model.\n",
    "        accuracy_fn: An accuracy function to compare the models predictions to the truth labels.\n",
    "\n",
    "    Returns:\n",
    "        (dict): Results of model making predictions on data_loader.\n",
    "    \"\"\"\n",
    "    loss, acc = 0, 0\n",
    "    model.eval()\n",
    "    with torch.inference_mode():\n",
    "        for X, y in data_loader:\n",
    "            # Make predictions with the model\n",
    "            y_pred = model(X)\n",
    "            \n",
    "            # Accumulate the loss and accuracy values per batch\n",
    "            loss += loss_fn(y_pred, y)\n",
    "            acc += accuracy_fn(y_true=y, \n",
    "                                y_pred=y_pred.argmax(dim=1)) # For accuracy, need the prediction labels (logits -> pred_prob -> pred_labels)\n",
    "        \n",
    "        # Scale loss and acc to find the average loss/acc per batch\n",
    "        loss /= len(data_loader)\n",
    "        acc /= len(data_loader)\n",
    "        \n",
    "    return {\"model_name\": model.__class__.__name__, # only works when model was created with a class\n",
    "            \"model_loss\": loss.item(),\n",
    "            \"model_acc\": acc}\n",
    "\n",
    "# Calculate model 0 results on test dataset\n",
    "model_0_results = eval_model(model=model_0, data_loader=test_dataloader,\n",
    "    loss_fn=loss_fn, accuracy_fn=accuracy_fn\n",
    ")\n",
    "model_0_results"
   ]
  },
  {
   "cell_type": "markdown",
   "id": "4143f618",
   "metadata": {
    "papermill": {
     "duration": 0.010481,
     "end_time": "2025-09-03T08:49:22.233401",
     "exception": false,
     "start_time": "2025-09-03T08:49:22.222920",
     "status": "completed"
    },
    "tags": []
   },
   "source": [
    "### 5. Setup device agnostic-code (for using a GPU if there is one available)"
   ]
  },
  {
   "cell_type": "code",
   "execution_count": 30,
   "id": "7b136758",
   "metadata": {
    "execution": {
     "iopub.execute_input": "2025-09-03T08:49:22.255569Z",
     "iopub.status.busy": "2025-09-03T08:49:22.255039Z",
     "iopub.status.idle": "2025-09-03T08:49:22.431735Z",
     "shell.execute_reply": "2025-09-03T08:49:22.431020Z"
    },
    "papermill": {
     "duration": 0.18908,
     "end_time": "2025-09-03T08:49:22.432895",
     "exception": false,
     "start_time": "2025-09-03T08:49:22.243815",
     "status": "completed"
    },
    "tags": []
   },
   "outputs": [
    {
     "name": "stdout",
     "output_type": "stream",
     "text": [
      "Wed Sep  3 08:49:22 2025       \r\n",
      "+-----------------------------------------------------------------------------------------+\r\n",
      "| NVIDIA-SMI 560.35.03              Driver Version: 560.35.03      CUDA Version: 12.6     |\r\n",
      "|-----------------------------------------+------------------------+----------------------+\r\n",
      "| GPU  Name                 Persistence-M | Bus-Id          Disp.A | Volatile Uncorr. ECC |\r\n",
      "| Fan  Temp   Perf          Pwr:Usage/Cap |           Memory-Usage | GPU-Util  Compute M. |\r\n",
      "|                                         |                        |               MIG M. |\r\n",
      "|=========================================+========================+======================|\r\n",
      "|   0  Tesla P100-PCIE-16GB           Off |   00000000:00:04.0 Off |                    0 |\r\n",
      "| N/A   36C    P0             26W /  250W |       3MiB /  16384MiB |      0%      Default |\r\n",
      "|                                         |                        |                  N/A |\r\n",
      "+-----------------------------------------+------------------------+----------------------+\r\n",
      "                                                                                         \r\n",
      "+-----------------------------------------------------------------------------------------+\r\n",
      "| Processes:                                                                              |\r\n",
      "|  GPU   GI   CI        PID   Type   Process name                              GPU Memory |\r\n",
      "|        ID   ID                                                               Usage      |\r\n",
      "|=========================================================================================|\r\n",
      "|  No running processes found                                                             |\r\n",
      "+-----------------------------------------------------------------------------------------+\r\n"
     ]
    }
   ],
   "source": [
    "!nvidia-smi"
   ]
  },
  {
   "cell_type": "code",
   "execution_count": 31,
   "id": "9149896c",
   "metadata": {
    "execution": {
     "iopub.execute_input": "2025-09-03T08:49:22.455917Z",
     "iopub.status.busy": "2025-09-03T08:49:22.455426Z",
     "iopub.status.idle": "2025-09-03T08:49:22.460521Z",
     "shell.execute_reply": "2025-09-03T08:49:22.459927Z"
    },
    "papermill": {
     "duration": 0.017568,
     "end_time": "2025-09-03T08:49:22.461513",
     "exception": false,
     "start_time": "2025-09-03T08:49:22.443945",
     "status": "completed"
    },
    "tags": []
   },
   "outputs": [
    {
     "data": {
      "text/plain": [
       "True"
      ]
     },
     "execution_count": 31,
     "metadata": {},
     "output_type": "execute_result"
    }
   ],
   "source": [
    "torch.cuda.is_available()"
   ]
  },
  {
   "cell_type": "code",
   "execution_count": 32,
   "id": "72c20a79",
   "metadata": {
    "execution": {
     "iopub.execute_input": "2025-09-03T08:49:22.483640Z",
     "iopub.status.busy": "2025-09-03T08:49:22.483426Z",
     "iopub.status.idle": "2025-09-03T08:49:22.487904Z",
     "shell.execute_reply": "2025-09-03T08:49:22.487366Z"
    },
    "papermill": {
     "duration": 0.01669,
     "end_time": "2025-09-03T08:49:22.489007",
     "exception": false,
     "start_time": "2025-09-03T08:49:22.472317",
     "status": "completed"
    },
    "tags": []
   },
   "outputs": [
    {
     "data": {
      "text/plain": [
       "'cuda'"
      ]
     },
     "execution_count": 32,
     "metadata": {},
     "output_type": "execute_result"
    }
   ],
   "source": [
    "# setup device-agnostic code\n",
    "import torch \n",
    "\n",
    "device = \"cuda\" if torch.cuda.is_available() else \"cpu\"\n",
    "device"
   ]
  },
  {
   "cell_type": "markdown",
   "id": "2de8b4d8",
   "metadata": {
    "papermill": {
     "duration": 0.010488,
     "end_time": "2025-09-03T08:49:22.510201",
     "exception": false,
     "start_time": "2025-09-03T08:49:22.499713",
     "status": "completed"
    },
    "tags": []
   },
   "source": [
    "## 6. Model 1 : Building a better model with non-linearity \n",
    "\n",
    "Let's leverage non-linearity's power"
   ]
  },
  {
   "cell_type": "code",
   "execution_count": 33,
   "id": "06e6b932",
   "metadata": {
    "execution": {
     "iopub.execute_input": "2025-09-03T08:49:22.532286Z",
     "iopub.status.busy": "2025-09-03T08:49:22.532110Z",
     "iopub.status.idle": "2025-09-03T08:49:22.536430Z",
     "shell.execute_reply": "2025-09-03T08:49:22.535913Z"
    },
    "papermill": {
     "duration": 0.01662,
     "end_time": "2025-09-03T08:49:22.537474",
     "exception": false,
     "start_time": "2025-09-03T08:49:22.520854",
     "status": "completed"
    },
    "tags": []
   },
   "outputs": [],
   "source": [
    "# create a model with non-linear and linear layers \n",
    "\n",
    "class FashionMNISTModelV1(nn.Module):\n",
    "    def __init__(self, input_shape: int, hidden_units: int, output_shape: int):\n",
    "        super().__init__() \n",
    "        self.layer_stark = nn.Sequential(\n",
    "            nn.Flatten(), \n",
    "            nn.Linear(\n",
    "                in_features = input_shape, \n",
    "                out_features = hidden_units\n",
    "            ),\n",
    "            nn.ReLU(),\n",
    "            nn.Linear(\n",
    "                in_features = hidden_units, \n",
    "                out_features = output_shape\n",
    "            ),\n",
    "            nn.ReLU(),\n",
    "        )\n",
    "\n",
    "    def forward(self, x: torch.Tensor):\n",
    "        return self.layer_stark(x)\n"
   ]
  },
  {
   "cell_type": "code",
   "execution_count": 34,
   "id": "a4f85f4c",
   "metadata": {
    "execution": {
     "iopub.execute_input": "2025-09-03T08:49:22.559539Z",
     "iopub.status.busy": "2025-09-03T08:49:22.559348Z",
     "iopub.status.idle": "2025-09-03T08:49:22.563579Z",
     "shell.execute_reply": "2025-09-03T08:49:22.562922Z"
    },
    "papermill": {
     "duration": 0.01662,
     "end_time": "2025-09-03T08:49:22.564699",
     "exception": false,
     "start_time": "2025-09-03T08:49:22.548079",
     "status": "completed"
    },
    "tags": []
   },
   "outputs": [
    {
     "data": {
      "text/plain": [
       "device(type='cpu')"
      ]
     },
     "execution_count": 34,
     "metadata": {},
     "output_type": "execute_result"
    }
   ],
   "source": [
    "next(model_0.parameters()).device"
   ]
  },
  {
   "cell_type": "code",
   "execution_count": 35,
   "id": "3a93e762",
   "metadata": {
    "execution": {
     "iopub.execute_input": "2025-09-03T08:49:22.586740Z",
     "iopub.status.busy": "2025-09-03T08:49:22.586551Z",
     "iopub.status.idle": "2025-09-03T08:49:22.590414Z",
     "shell.execute_reply": "2025-09-03T08:49:22.589928Z"
    },
    "papermill": {
     "duration": 0.016107,
     "end_time": "2025-09-03T08:49:22.591420",
     "exception": false,
     "start_time": "2025-09-03T08:49:22.575313",
     "status": "completed"
    },
    "tags": []
   },
   "outputs": [
    {
     "data": {
      "text/plain": [
       "'cuda'"
      ]
     },
     "execution_count": 35,
     "metadata": {},
     "output_type": "execute_result"
    }
   ],
   "source": [
    "device"
   ]
  },
  {
   "cell_type": "code",
   "execution_count": 36,
   "id": "450c87e5",
   "metadata": {
    "execution": {
     "iopub.execute_input": "2025-09-03T08:49:22.613844Z",
     "iopub.status.busy": "2025-09-03T08:49:22.613243Z",
     "iopub.status.idle": "2025-09-03T08:49:22.771108Z",
     "shell.execute_reply": "2025-09-03T08:49:22.770322Z"
    },
    "papermill": {
     "duration": 0.1702,
     "end_time": "2025-09-03T08:49:22.772299",
     "exception": false,
     "start_time": "2025-09-03T08:49:22.602099",
     "status": "completed"
    },
    "tags": []
   },
   "outputs": [
    {
     "data": {
      "text/plain": [
       "device(type='cuda', index=0)"
      ]
     },
     "execution_count": 36,
     "metadata": {},
     "output_type": "execute_result"
    }
   ],
   "source": [
    "model_1 = FashionMNISTModelV1(\n",
    "    input_shape = 28*28, # 784\n",
    "    hidden_units = 10, \n",
    "    output_shape = len(class_names)\n",
    ").to(device)\n",
    "\n",
    "next(model_1.parameters()).device"
   ]
  },
  {
   "cell_type": "code",
   "execution_count": null,
   "id": "6654f1fb",
   "metadata": {
    "papermill": {
     "duration": 0.010809,
     "end_time": "2025-09-03T08:49:22.794351",
     "exception": false,
     "start_time": "2025-09-03T08:49:22.783542",
     "status": "completed"
    },
    "tags": []
   },
   "outputs": [],
   "source": []
  },
  {
   "cell_type": "code",
   "execution_count": null,
   "id": "72e7dec5",
   "metadata": {
    "papermill": {
     "duration": 0.010655,
     "end_time": "2025-09-03T08:49:22.815744",
     "exception": false,
     "start_time": "2025-09-03T08:49:22.805089",
     "status": "completed"
    },
    "tags": []
   },
   "outputs": [],
   "source": []
  },
  {
   "cell_type": "code",
   "execution_count": null,
   "id": "4aa23fe7",
   "metadata": {
    "papermill": {
     "duration": 0.011358,
     "end_time": "2025-09-03T08:49:22.842064",
     "exception": false,
     "start_time": "2025-09-03T08:49:22.830706",
     "status": "completed"
    },
    "tags": []
   },
   "outputs": [],
   "source": []
  },
  {
   "cell_type": "code",
   "execution_count": null,
   "id": "e59c600f",
   "metadata": {
    "papermill": {
     "duration": 0.010622,
     "end_time": "2025-09-03T08:49:22.863606",
     "exception": false,
     "start_time": "2025-09-03T08:49:22.852984",
     "status": "completed"
    },
    "tags": []
   },
   "outputs": [],
   "source": []
  }
 ],
 "metadata": {
  "kaggle": {
   "accelerator": "gpu",
   "dataSources": [],
   "dockerImageVersionId": 31089,
   "isGpuEnabled": true,
   "isInternetEnabled": true,
   "language": "python",
   "sourceType": "notebook"
  },
  "kernelspec": {
   "display_name": "Python 3",
   "language": "python",
   "name": "python3"
  },
  "language_info": {
   "codemirror_mode": {
    "name": "ipython",
    "version": 3
   },
   "file_extension": ".py",
   "mimetype": "text/x-python",
   "name": "python",
   "nbconvert_exporter": "python",
   "pygments_lexer": "ipython3",
   "version": "3.11.13"
  },
  "papermill": {
   "default_parameters": {},
   "duration": 47.559913,
   "end_time": "2025-09-03T08:49:24.395296",
   "environment_variables": {},
   "exception": null,
   "input_path": "__notebook__.ipynb",
   "output_path": "__notebook__.ipynb",
   "parameters": {},
   "start_time": "2025-09-03T08:48:36.835383",
   "version": "2.6.0"
  },
  "widgets": {
   "application/vnd.jupyter.widget-state+json": {
    "state": {
     "5204dcb472d14608a072f24c6f026061": {
      "model_module": "@jupyter-widgets/controls",
      "model_module_version": "2.0.0",
      "model_name": "HBoxModel",
      "state": {
       "_dom_classes": [],
       "_model_module": "@jupyter-widgets/controls",
       "_model_module_version": "2.0.0",
       "_model_name": "HBoxModel",
       "_view_count": null,
       "_view_module": "@jupyter-widgets/controls",
       "_view_module_version": "2.0.0",
       "_view_name": "HBoxView",
       "box_style": "",
       "children": [
        "IPY_MODEL_74c8cf59d1194844bd279dfe255f55b2",
        "IPY_MODEL_5dd6950dab2a495389587b01c4fa7609",
        "IPY_MODEL_9065b404aeb34bb28713a5c42bf3bfb6"
       ],
       "layout": "IPY_MODEL_cd1478b44e4843788561b85bfa70aa6e",
       "tabbable": null,
       "tooltip": null
      }
     },
     "5dd6950dab2a495389587b01c4fa7609": {
      "model_module": "@jupyter-widgets/controls",
      "model_module_version": "2.0.0",
      "model_name": "FloatProgressModel",
      "state": {
       "_dom_classes": [],
       "_model_module": "@jupyter-widgets/controls",
       "_model_module_version": "2.0.0",
       "_model_name": "FloatProgressModel",
       "_view_count": null,
       "_view_module": "@jupyter-widgets/controls",
       "_view_module_version": "2.0.0",
       "_view_name": "ProgressView",
       "bar_style": "success",
       "description": "",
       "description_allow_html": false,
       "layout": "IPY_MODEL_7d3221381604459aa4ca4089f74734ae",
       "max": 3.0,
       "min": 0.0,
       "orientation": "horizontal",
       "style": "IPY_MODEL_772fc1e24c7c47d9882500a96394fb57",
       "tabbable": null,
       "tooltip": null,
       "value": 3.0
      }
     },
     "74c8cf59d1194844bd279dfe255f55b2": {
      "model_module": "@jupyter-widgets/controls",
      "model_module_version": "2.0.0",
      "model_name": "HTMLModel",
      "state": {
       "_dom_classes": [],
       "_model_module": "@jupyter-widgets/controls",
       "_model_module_version": "2.0.0",
       "_model_name": "HTMLModel",
       "_view_count": null,
       "_view_module": "@jupyter-widgets/controls",
       "_view_module_version": "2.0.0",
       "_view_name": "HTMLView",
       "description": "",
       "description_allow_html": false,
       "layout": "IPY_MODEL_9ee61e6c22d2410b856697c52f1e63d6",
       "placeholder": "​",
       "style": "IPY_MODEL_889e10704851429f8a9fc54790e917ae",
       "tabbable": null,
       "tooltip": null,
       "value": "100%"
      }
     },
     "772fc1e24c7c47d9882500a96394fb57": {
      "model_module": "@jupyter-widgets/controls",
      "model_module_version": "2.0.0",
      "model_name": "ProgressStyleModel",
      "state": {
       "_model_module": "@jupyter-widgets/controls",
       "_model_module_version": "2.0.0",
       "_model_name": "ProgressStyleModel",
       "_view_count": null,
       "_view_module": "@jupyter-widgets/base",
       "_view_module_version": "2.0.0",
       "_view_name": "StyleView",
       "bar_color": null,
       "description_width": ""
      }
     },
     "7d3221381604459aa4ca4089f74734ae": {
      "model_module": "@jupyter-widgets/base",
      "model_module_version": "2.0.0",
      "model_name": "LayoutModel",
      "state": {
       "_model_module": "@jupyter-widgets/base",
       "_model_module_version": "2.0.0",
       "_model_name": "LayoutModel",
       "_view_count": null,
       "_view_module": "@jupyter-widgets/base",
       "_view_module_version": "2.0.0",
       "_view_name": "LayoutView",
       "align_content": null,
       "align_items": null,
       "align_self": null,
       "border_bottom": null,
       "border_left": null,
       "border_right": null,
       "border_top": null,
       "bottom": null,
       "display": null,
       "flex": null,
       "flex_flow": null,
       "grid_area": null,
       "grid_auto_columns": null,
       "grid_auto_flow": null,
       "grid_auto_rows": null,
       "grid_column": null,
       "grid_gap": null,
       "grid_row": null,
       "grid_template_areas": null,
       "grid_template_columns": null,
       "grid_template_rows": null,
       "height": null,
       "justify_content": null,
       "justify_items": null,
       "left": null,
       "margin": null,
       "max_height": null,
       "max_width": null,
       "min_height": null,
       "min_width": null,
       "object_fit": null,
       "object_position": null,
       "order": null,
       "overflow": null,
       "padding": null,
       "right": null,
       "top": null,
       "visibility": null,
       "width": null
      }
     },
     "889e10704851429f8a9fc54790e917ae": {
      "model_module": "@jupyter-widgets/controls",
      "model_module_version": "2.0.0",
      "model_name": "HTMLStyleModel",
      "state": {
       "_model_module": "@jupyter-widgets/controls",
       "_model_module_version": "2.0.0",
       "_model_name": "HTMLStyleModel",
       "_view_count": null,
       "_view_module": "@jupyter-widgets/base",
       "_view_module_version": "2.0.0",
       "_view_name": "StyleView",
       "background": null,
       "description_width": "",
       "font_size": null,
       "text_color": null
      }
     },
     "9065b404aeb34bb28713a5c42bf3bfb6": {
      "model_module": "@jupyter-widgets/controls",
      "model_module_version": "2.0.0",
      "model_name": "HTMLModel",
      "state": {
       "_dom_classes": [],
       "_model_module": "@jupyter-widgets/controls",
       "_model_module_version": "2.0.0",
       "_model_name": "HTMLModel",
       "_view_count": null,
       "_view_module": "@jupyter-widgets/controls",
       "_view_module_version": "2.0.0",
       "_view_name": "HTMLView",
       "description": "",
       "description_allow_html": false,
       "layout": "IPY_MODEL_fafc08ab543e4ec49a4c2b1551decf8b",
       "placeholder": "​",
       "style": "IPY_MODEL_b638e27a170c4f1c8ea5a858aeb98d9c",
       "tabbable": null,
       "tooltip": null,
       "value": " 3/3 [00:22&lt;00:00,  7.52s/it]"
      }
     },
     "9ee61e6c22d2410b856697c52f1e63d6": {
      "model_module": "@jupyter-widgets/base",
      "model_module_version": "2.0.0",
      "model_name": "LayoutModel",
      "state": {
       "_model_module": "@jupyter-widgets/base",
       "_model_module_version": "2.0.0",
       "_model_name": "LayoutModel",
       "_view_count": null,
       "_view_module": "@jupyter-widgets/base",
       "_view_module_version": "2.0.0",
       "_view_name": "LayoutView",
       "align_content": null,
       "align_items": null,
       "align_self": null,
       "border_bottom": null,
       "border_left": null,
       "border_right": null,
       "border_top": null,
       "bottom": null,
       "display": null,
       "flex": null,
       "flex_flow": null,
       "grid_area": null,
       "grid_auto_columns": null,
       "grid_auto_flow": null,
       "grid_auto_rows": null,
       "grid_column": null,
       "grid_gap": null,
       "grid_row": null,
       "grid_template_areas": null,
       "grid_template_columns": null,
       "grid_template_rows": null,
       "height": null,
       "justify_content": null,
       "justify_items": null,
       "left": null,
       "margin": null,
       "max_height": null,
       "max_width": null,
       "min_height": null,
       "min_width": null,
       "object_fit": null,
       "object_position": null,
       "order": null,
       "overflow": null,
       "padding": null,
       "right": null,
       "top": null,
       "visibility": null,
       "width": null
      }
     },
     "b638e27a170c4f1c8ea5a858aeb98d9c": {
      "model_module": "@jupyter-widgets/controls",
      "model_module_version": "2.0.0",
      "model_name": "HTMLStyleModel",
      "state": {
       "_model_module": "@jupyter-widgets/controls",
       "_model_module_version": "2.0.0",
       "_model_name": "HTMLStyleModel",
       "_view_count": null,
       "_view_module": "@jupyter-widgets/base",
       "_view_module_version": "2.0.0",
       "_view_name": "StyleView",
       "background": null,
       "description_width": "",
       "font_size": null,
       "text_color": null
      }
     },
     "cd1478b44e4843788561b85bfa70aa6e": {
      "model_module": "@jupyter-widgets/base",
      "model_module_version": "2.0.0",
      "model_name": "LayoutModel",
      "state": {
       "_model_module": "@jupyter-widgets/base",
       "_model_module_version": "2.0.0",
       "_model_name": "LayoutModel",
       "_view_count": null,
       "_view_module": "@jupyter-widgets/base",
       "_view_module_version": "2.0.0",
       "_view_name": "LayoutView",
       "align_content": null,
       "align_items": null,
       "align_self": null,
       "border_bottom": null,
       "border_left": null,
       "border_right": null,
       "border_top": null,
       "bottom": null,
       "display": null,
       "flex": null,
       "flex_flow": null,
       "grid_area": null,
       "grid_auto_columns": null,
       "grid_auto_flow": null,
       "grid_auto_rows": null,
       "grid_column": null,
       "grid_gap": null,
       "grid_row": null,
       "grid_template_areas": null,
       "grid_template_columns": null,
       "grid_template_rows": null,
       "height": null,
       "justify_content": null,
       "justify_items": null,
       "left": null,
       "margin": null,
       "max_height": null,
       "max_width": null,
       "min_height": null,
       "min_width": null,
       "object_fit": null,
       "object_position": null,
       "order": null,
       "overflow": null,
       "padding": null,
       "right": null,
       "top": null,
       "visibility": null,
       "width": null
      }
     },
     "fafc08ab543e4ec49a4c2b1551decf8b": {
      "model_module": "@jupyter-widgets/base",
      "model_module_version": "2.0.0",
      "model_name": "LayoutModel",
      "state": {
       "_model_module": "@jupyter-widgets/base",
       "_model_module_version": "2.0.0",
       "_model_name": "LayoutModel",
       "_view_count": null,
       "_view_module": "@jupyter-widgets/base",
       "_view_module_version": "2.0.0",
       "_view_name": "LayoutView",
       "align_content": null,
       "align_items": null,
       "align_self": null,
       "border_bottom": null,
       "border_left": null,
       "border_right": null,
       "border_top": null,
       "bottom": null,
       "display": null,
       "flex": null,
       "flex_flow": null,
       "grid_area": null,
       "grid_auto_columns": null,
       "grid_auto_flow": null,
       "grid_auto_rows": null,
       "grid_column": null,
       "grid_gap": null,
       "grid_row": null,
       "grid_template_areas": null,
       "grid_template_columns": null,
       "grid_template_rows": null,
       "height": null,
       "justify_content": null,
       "justify_items": null,
       "left": null,
       "margin": null,
       "max_height": null,
       "max_width": null,
       "min_height": null,
       "min_width": null,
       "object_fit": null,
       "object_position": null,
       "order": null,
       "overflow": null,
       "padding": null,
       "right": null,
       "top": null,
       "visibility": null,
       "width": null
      }
     }
    },
    "version_major": 2,
    "version_minor": 0
   }
  }
 },
 "nbformat": 4,
 "nbformat_minor": 5
}
