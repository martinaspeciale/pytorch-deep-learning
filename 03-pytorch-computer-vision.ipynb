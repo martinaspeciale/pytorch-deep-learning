{
 "cells": [
  {
   "cell_type": "markdown",
   "id": "cfe718f3",
   "metadata": {
    "papermill": {
     "duration": 0.004569,
     "end_time": "2025-09-02T09:12:28.102164",
     "exception": false,
     "start_time": "2025-09-02T09:12:28.097595",
     "status": "completed"
    },
    "tags": []
   },
   "source": [
    "# **PyTorch Computer Vision**"
   ]
  },
  {
   "cell_type": "markdown",
   "id": "a64029f1",
   "metadata": {
    "papermill": {
     "duration": 0.003737,
     "end_time": "2025-09-02T09:12:28.110263",
     "exception": false,
     "start_time": "2025-09-02T09:12:28.106526",
     "status": "completed"
    },
    "tags": []
   },
   "source": [
    "## 0. Computer Vision libraries in Python \n",
    "* `torchvision` : base domain library for PyTorch CV \n",
    "* `torchvision.datasets` : get datasets and data loading functions for CV \n",
    "* `torchvision.models` : get pretrained CV models we can leverage for new problems \n",
    "* `torchvision.transform` : functions for manipulating your vision data (images) to be suitable for use with an ML model\n",
    "* `torch.utils.data.Dataset` : base dataset class for PyTorch \n",
    "* `torch.utils.data.DataLoader` : creates a python iterable over a dataset "
   ]
  },
  {
   "cell_type": "code",
   "execution_count": 1,
   "id": "a19c0246",
   "metadata": {
    "execution": {
     "iopub.execute_input": "2025-09-02T09:12:28.119568Z",
     "iopub.status.busy": "2025-09-02T09:12:28.119170Z",
     "iopub.status.idle": "2025-09-02T09:12:41.757591Z",
     "shell.execute_reply": "2025-09-02T09:12:41.755940Z"
    },
    "papermill": {
     "duration": 13.645089,
     "end_time": "2025-09-02T09:12:41.759313",
     "exception": false,
     "start_time": "2025-09-02T09:12:28.114224",
     "status": "completed"
    },
    "tags": []
   },
   "outputs": [
    {
     "name": "stdout",
     "output_type": "stream",
     "text": [
      "2.6.0+cu124\n",
      "0.21.0+cu124\n"
     ]
    }
   ],
   "source": [
    "import torch \n",
    "from torch import nn \n",
    "\n",
    "import torchvision \n",
    "from torchvision import datasets \n",
    "from torchvision import transforms \n",
    "from torchvision.transforms import ToTensor \n",
    "\n",
    "import matplotlib.pyplot as plt \n",
    "\n",
    "print(torch.__version__)\n",
    "print(torchvision.__version__)"
   ]
  },
  {
   "cell_type": "markdown",
   "id": "2acbe833",
   "metadata": {
    "papermill": {
     "duration": 0.003633,
     "end_time": "2025-09-02T09:12:41.767551",
     "exception": false,
     "start_time": "2025-09-02T09:12:41.763918",
     "status": "completed"
    },
    "tags": []
   },
   "source": [
    "## 1. Getting a dataset : Fashion MNIST  "
   ]
  },
  {
   "cell_type": "code",
   "execution_count": 2,
   "id": "78114258",
   "metadata": {
    "execution": {
     "iopub.execute_input": "2025-09-02T09:12:41.776443Z",
     "iopub.status.busy": "2025-09-02T09:12:41.775986Z",
     "iopub.status.idle": "2025-09-02T09:12:48.683116Z",
     "shell.execute_reply": "2025-09-02T09:12:48.682144Z"
    },
    "papermill": {
     "duration": 6.913983,
     "end_time": "2025-09-02T09:12:48.685281",
     "exception": false,
     "start_time": "2025-09-02T09:12:41.771298",
     "status": "completed"
    },
    "tags": []
   },
   "outputs": [
    {
     "name": "stderr",
     "output_type": "stream",
     "text": [
      "100%|██████████| 26.4M/26.4M [00:02<00:00, 13.2MB/s]\n",
      "100%|██████████| 29.5k/29.5k [00:00<00:00, 211kB/s]\n",
      "100%|██████████| 4.42M/4.42M [00:01<00:00, 3.47MB/s]\n",
      "100%|██████████| 5.15k/5.15k [00:00<00:00, 6.14MB/s]\n"
     ]
    }
   ],
   "source": [
    "# setup training data \n",
    "from torchvision import datasets \n",
    "train_data = datasets.FashionMNIST(\n",
    "    root=\"data\", # where to download data to\n",
    "    train=True,  # do we want the training dataset?\n",
    "    download=True, # do we want to download it?\n",
    "    transform=torchvision.transforms.ToTensor(), # how do we want to transform the data\n",
    "    target_transform=None # how do we want to transform the label \n",
    ")\n",
    "\n",
    "test_data = datasets.FashionMNIST(\n",
    "    root=\"data\", \n",
    "    train=False, \n",
    "    download=True,\n",
    "    transform=torchvision.transforms.ToTensor(),\n",
    "    target_transform=None\n",
    ")"
   ]
  },
  {
   "cell_type": "code",
   "execution_count": 3,
   "id": "322c946e",
   "metadata": {
    "execution": {
     "iopub.execute_input": "2025-09-02T09:12:48.698852Z",
     "iopub.status.busy": "2025-09-02T09:12:48.698521Z",
     "iopub.status.idle": "2025-09-02T09:12:48.705688Z",
     "shell.execute_reply": "2025-09-02T09:12:48.704840Z"
    },
    "papermill": {
     "duration": 0.016296,
     "end_time": "2025-09-02T09:12:48.707491",
     "exception": false,
     "start_time": "2025-09-02T09:12:48.691195",
     "status": "completed"
    },
    "tags": []
   },
   "outputs": [
    {
     "data": {
      "text/plain": [
       "(60000, 10000)"
      ]
     },
     "execution_count": 3,
     "metadata": {},
     "output_type": "execute_result"
    }
   ],
   "source": [
    "len(train_data), len(test_data)"
   ]
  },
  {
   "cell_type": "code",
   "execution_count": 4,
   "id": "5d014f4c",
   "metadata": {
    "execution": {
     "iopub.execute_input": "2025-09-02T09:12:48.720241Z",
     "iopub.status.busy": "2025-09-02T09:12:48.719856Z",
     "iopub.status.idle": "2025-09-02T09:12:48.767349Z",
     "shell.execute_reply": "2025-09-02T09:12:48.766387Z"
    },
    "papermill": {
     "duration": 0.055988,
     "end_time": "2025-09-02T09:12:48.769222",
     "exception": false,
     "start_time": "2025-09-02T09:12:48.713234",
     "status": "completed"
    },
    "tags": []
   },
   "outputs": [
    {
     "data": {
      "text/plain": [
       "(tensor([[[0.0000, 0.0000, 0.0000, 0.0000, 0.0000, 0.0000, 0.0000, 0.0000,\n",
       "           0.0000, 0.0000, 0.0000, 0.0000, 0.0000, 0.0000, 0.0000, 0.0000,\n",
       "           0.0000, 0.0000, 0.0000, 0.0000, 0.0000, 0.0000, 0.0000, 0.0000,\n",
       "           0.0000, 0.0000, 0.0000, 0.0000],\n",
       "          [0.0000, 0.0000, 0.0000, 0.0000, 0.0000, 0.0000, 0.0000, 0.0000,\n",
       "           0.0000, 0.0000, 0.0000, 0.0000, 0.0000, 0.0000, 0.0000, 0.0000,\n",
       "           0.0000, 0.0000, 0.0000, 0.0000, 0.0000, 0.0000, 0.0000, 0.0000,\n",
       "           0.0000, 0.0000, 0.0000, 0.0000],\n",
       "          [0.0000, 0.0000, 0.0000, 0.0000, 0.0000, 0.0000, 0.0000, 0.0000,\n",
       "           0.0000, 0.0000, 0.0000, 0.0000, 0.0000, 0.0000, 0.0000, 0.0000,\n",
       "           0.0000, 0.0000, 0.0000, 0.0000, 0.0000, 0.0000, 0.0000, 0.0000,\n",
       "           0.0000, 0.0000, 0.0000, 0.0000],\n",
       "          [0.0000, 0.0000, 0.0000, 0.0000, 0.0000, 0.0000, 0.0000, 0.0000,\n",
       "           0.0000, 0.0000, 0.0000, 0.0000, 0.0039, 0.0000, 0.0000, 0.0510,\n",
       "           0.2863, 0.0000, 0.0000, 0.0039, 0.0157, 0.0000, 0.0000, 0.0000,\n",
       "           0.0000, 0.0039, 0.0039, 0.0000],\n",
       "          [0.0000, 0.0000, 0.0000, 0.0000, 0.0000, 0.0000, 0.0000, 0.0000,\n",
       "           0.0000, 0.0000, 0.0000, 0.0000, 0.0118, 0.0000, 0.1412, 0.5333,\n",
       "           0.4980, 0.2431, 0.2118, 0.0000, 0.0000, 0.0000, 0.0039, 0.0118,\n",
       "           0.0157, 0.0000, 0.0000, 0.0118],\n",
       "          [0.0000, 0.0000, 0.0000, 0.0000, 0.0000, 0.0000, 0.0000, 0.0000,\n",
       "           0.0000, 0.0000, 0.0000, 0.0000, 0.0235, 0.0000, 0.4000, 0.8000,\n",
       "           0.6902, 0.5255, 0.5647, 0.4824, 0.0902, 0.0000, 0.0000, 0.0000,\n",
       "           0.0000, 0.0471, 0.0392, 0.0000],\n",
       "          [0.0000, 0.0000, 0.0000, 0.0000, 0.0000, 0.0000, 0.0000, 0.0000,\n",
       "           0.0000, 0.0000, 0.0000, 0.0000, 0.0000, 0.0000, 0.6078, 0.9255,\n",
       "           0.8118, 0.6980, 0.4196, 0.6118, 0.6314, 0.4275, 0.2510, 0.0902,\n",
       "           0.3020, 0.5098, 0.2824, 0.0588],\n",
       "          [0.0000, 0.0000, 0.0000, 0.0000, 0.0000, 0.0000, 0.0000, 0.0000,\n",
       "           0.0000, 0.0000, 0.0000, 0.0039, 0.0000, 0.2706, 0.8118, 0.8745,\n",
       "           0.8549, 0.8471, 0.8471, 0.6392, 0.4980, 0.4745, 0.4784, 0.5725,\n",
       "           0.5529, 0.3451, 0.6745, 0.2588],\n",
       "          [0.0000, 0.0000, 0.0000, 0.0000, 0.0000, 0.0000, 0.0000, 0.0000,\n",
       "           0.0000, 0.0039, 0.0039, 0.0039, 0.0000, 0.7843, 0.9098, 0.9098,\n",
       "           0.9137, 0.8980, 0.8745, 0.8745, 0.8431, 0.8353, 0.6431, 0.4980,\n",
       "           0.4824, 0.7686, 0.8980, 0.0000],\n",
       "          [0.0000, 0.0000, 0.0000, 0.0000, 0.0000, 0.0000, 0.0000, 0.0000,\n",
       "           0.0000, 0.0000, 0.0000, 0.0000, 0.0000, 0.7176, 0.8824, 0.8471,\n",
       "           0.8745, 0.8941, 0.9216, 0.8902, 0.8784, 0.8706, 0.8784, 0.8667,\n",
       "           0.8745, 0.9608, 0.6784, 0.0000],\n",
       "          [0.0000, 0.0000, 0.0000, 0.0000, 0.0000, 0.0000, 0.0000, 0.0000,\n",
       "           0.0000, 0.0000, 0.0000, 0.0000, 0.0000, 0.7569, 0.8941, 0.8549,\n",
       "           0.8353, 0.7765, 0.7059, 0.8314, 0.8235, 0.8275, 0.8353, 0.8745,\n",
       "           0.8627, 0.9529, 0.7922, 0.0000],\n",
       "          [0.0000, 0.0000, 0.0000, 0.0000, 0.0000, 0.0000, 0.0000, 0.0000,\n",
       "           0.0000, 0.0039, 0.0118, 0.0000, 0.0471, 0.8588, 0.8627, 0.8314,\n",
       "           0.8549, 0.7529, 0.6627, 0.8902, 0.8157, 0.8549, 0.8784, 0.8314,\n",
       "           0.8863, 0.7725, 0.8196, 0.2039],\n",
       "          [0.0000, 0.0000, 0.0000, 0.0000, 0.0000, 0.0000, 0.0000, 0.0000,\n",
       "           0.0000, 0.0000, 0.0235, 0.0000, 0.3882, 0.9569, 0.8706, 0.8627,\n",
       "           0.8549, 0.7961, 0.7765, 0.8667, 0.8431, 0.8353, 0.8706, 0.8627,\n",
       "           0.9608, 0.4667, 0.6549, 0.2196],\n",
       "          [0.0000, 0.0000, 0.0000, 0.0000, 0.0000, 0.0000, 0.0000, 0.0000,\n",
       "           0.0000, 0.0157, 0.0000, 0.0000, 0.2157, 0.9255, 0.8941, 0.9020,\n",
       "           0.8941, 0.9412, 0.9098, 0.8353, 0.8549, 0.8745, 0.9176, 0.8510,\n",
       "           0.8510, 0.8196, 0.3608, 0.0000],\n",
       "          [0.0000, 0.0000, 0.0039, 0.0157, 0.0235, 0.0275, 0.0078, 0.0000,\n",
       "           0.0000, 0.0000, 0.0000, 0.0000, 0.9294, 0.8863, 0.8510, 0.8745,\n",
       "           0.8706, 0.8588, 0.8706, 0.8667, 0.8471, 0.8745, 0.8980, 0.8431,\n",
       "           0.8549, 1.0000, 0.3020, 0.0000],\n",
       "          [0.0000, 0.0118, 0.0000, 0.0000, 0.0000, 0.0000, 0.0000, 0.0000,\n",
       "           0.0000, 0.2431, 0.5686, 0.8000, 0.8941, 0.8118, 0.8353, 0.8667,\n",
       "           0.8549, 0.8157, 0.8275, 0.8549, 0.8784, 0.8745, 0.8588, 0.8431,\n",
       "           0.8784, 0.9569, 0.6235, 0.0000],\n",
       "          [0.0000, 0.0000, 0.0000, 0.0000, 0.0706, 0.1725, 0.3216, 0.4196,\n",
       "           0.7412, 0.8941, 0.8627, 0.8706, 0.8510, 0.8863, 0.7843, 0.8039,\n",
       "           0.8275, 0.9020, 0.8784, 0.9176, 0.6902, 0.7373, 0.9804, 0.9725,\n",
       "           0.9137, 0.9333, 0.8431, 0.0000],\n",
       "          [0.0000, 0.2235, 0.7333, 0.8157, 0.8784, 0.8667, 0.8784, 0.8157,\n",
       "           0.8000, 0.8392, 0.8157, 0.8196, 0.7843, 0.6235, 0.9608, 0.7569,\n",
       "           0.8078, 0.8745, 1.0000, 1.0000, 0.8667, 0.9176, 0.8667, 0.8275,\n",
       "           0.8627, 0.9098, 0.9647, 0.0000],\n",
       "          [0.0118, 0.7922, 0.8941, 0.8784, 0.8667, 0.8275, 0.8275, 0.8392,\n",
       "           0.8039, 0.8039, 0.8039, 0.8627, 0.9412, 0.3137, 0.5882, 1.0000,\n",
       "           0.8980, 0.8667, 0.7373, 0.6039, 0.7490, 0.8235, 0.8000, 0.8196,\n",
       "           0.8706, 0.8941, 0.8824, 0.0000],\n",
       "          [0.3843, 0.9137, 0.7765, 0.8235, 0.8706, 0.8980, 0.8980, 0.9176,\n",
       "           0.9765, 0.8627, 0.7608, 0.8431, 0.8510, 0.9451, 0.2549, 0.2863,\n",
       "           0.4157, 0.4588, 0.6588, 0.8588, 0.8667, 0.8431, 0.8510, 0.8745,\n",
       "           0.8745, 0.8784, 0.8980, 0.1137],\n",
       "          [0.2941, 0.8000, 0.8314, 0.8000, 0.7569, 0.8039, 0.8275, 0.8824,\n",
       "           0.8471, 0.7255, 0.7725, 0.8078, 0.7765, 0.8353, 0.9412, 0.7647,\n",
       "           0.8902, 0.9608, 0.9373, 0.8745, 0.8549, 0.8314, 0.8196, 0.8706,\n",
       "           0.8627, 0.8667, 0.9020, 0.2627],\n",
       "          [0.1882, 0.7961, 0.7176, 0.7608, 0.8353, 0.7725, 0.7255, 0.7451,\n",
       "           0.7608, 0.7529, 0.7922, 0.8392, 0.8588, 0.8667, 0.8627, 0.9255,\n",
       "           0.8824, 0.8471, 0.7804, 0.8078, 0.7294, 0.7098, 0.6941, 0.6745,\n",
       "           0.7098, 0.8039, 0.8078, 0.4510],\n",
       "          [0.0000, 0.4784, 0.8588, 0.7569, 0.7020, 0.6706, 0.7176, 0.7686,\n",
       "           0.8000, 0.8235, 0.8353, 0.8118, 0.8275, 0.8235, 0.7843, 0.7686,\n",
       "           0.7608, 0.7490, 0.7647, 0.7490, 0.7765, 0.7529, 0.6902, 0.6118,\n",
       "           0.6549, 0.6941, 0.8235, 0.3608],\n",
       "          [0.0000, 0.0000, 0.2902, 0.7412, 0.8314, 0.7490, 0.6863, 0.6745,\n",
       "           0.6863, 0.7098, 0.7255, 0.7373, 0.7412, 0.7373, 0.7569, 0.7765,\n",
       "           0.8000, 0.8196, 0.8235, 0.8235, 0.8275, 0.7373, 0.7373, 0.7608,\n",
       "           0.7529, 0.8471, 0.6667, 0.0000],\n",
       "          [0.0078, 0.0000, 0.0000, 0.0000, 0.2588, 0.7843, 0.8706, 0.9294,\n",
       "           0.9373, 0.9490, 0.9647, 0.9529, 0.9569, 0.8667, 0.8627, 0.7569,\n",
       "           0.7490, 0.7020, 0.7137, 0.7137, 0.7098, 0.6902, 0.6510, 0.6588,\n",
       "           0.3882, 0.2275, 0.0000, 0.0000],\n",
       "          [0.0000, 0.0000, 0.0000, 0.0000, 0.0000, 0.0000, 0.0000, 0.1569,\n",
       "           0.2392, 0.1725, 0.2824, 0.1608, 0.1373, 0.0000, 0.0000, 0.0000,\n",
       "           0.0000, 0.0000, 0.0000, 0.0000, 0.0000, 0.0000, 0.0000, 0.0000,\n",
       "           0.0000, 0.0000, 0.0000, 0.0000],\n",
       "          [0.0000, 0.0000, 0.0000, 0.0000, 0.0000, 0.0000, 0.0000, 0.0000,\n",
       "           0.0000, 0.0000, 0.0000, 0.0000, 0.0000, 0.0000, 0.0000, 0.0000,\n",
       "           0.0000, 0.0000, 0.0000, 0.0000, 0.0000, 0.0000, 0.0000, 0.0000,\n",
       "           0.0000, 0.0000, 0.0000, 0.0000],\n",
       "          [0.0000, 0.0000, 0.0000, 0.0000, 0.0000, 0.0000, 0.0000, 0.0000,\n",
       "           0.0000, 0.0000, 0.0000, 0.0000, 0.0000, 0.0000, 0.0000, 0.0000,\n",
       "           0.0000, 0.0000, 0.0000, 0.0000, 0.0000, 0.0000, 0.0000, 0.0000,\n",
       "           0.0000, 0.0000, 0.0000, 0.0000]]]),\n",
       " 9)"
      ]
     },
     "execution_count": 4,
     "metadata": {},
     "output_type": "execute_result"
    }
   ],
   "source": [
    "image, label = train_data[0]\n",
    "image, label"
   ]
  },
  {
   "cell_type": "code",
   "execution_count": 5,
   "id": "25dcef4e",
   "metadata": {
    "execution": {
     "iopub.execute_input": "2025-09-02T09:12:48.783678Z",
     "iopub.status.busy": "2025-09-02T09:12:48.783331Z",
     "iopub.status.idle": "2025-09-02T09:12:48.790520Z",
     "shell.execute_reply": "2025-09-02T09:12:48.789617Z"
    },
    "papermill": {
     "duration": 0.015553,
     "end_time": "2025-09-02T09:12:48.792154",
     "exception": false,
     "start_time": "2025-09-02T09:12:48.776601",
     "status": "completed"
    },
    "tags": []
   },
   "outputs": [
    {
     "data": {
      "text/plain": [
       "['T-shirt/top',\n",
       " 'Trouser',\n",
       " 'Pullover',\n",
       " 'Dress',\n",
       " 'Coat',\n",
       " 'Sandal',\n",
       " 'Shirt',\n",
       " 'Sneaker',\n",
       " 'Bag',\n",
       " 'Ankle boot']"
      ]
     },
     "execution_count": 5,
     "metadata": {},
     "output_type": "execute_result"
    }
   ],
   "source": [
    "class_names = train_data.classes\n",
    "class_names"
   ]
  },
  {
   "cell_type": "code",
   "execution_count": 6,
   "id": "fabda689",
   "metadata": {
    "execution": {
     "iopub.execute_input": "2025-09-02T09:12:48.805977Z",
     "iopub.status.busy": "2025-09-02T09:12:48.805688Z",
     "iopub.status.idle": "2025-09-02T09:12:48.812469Z",
     "shell.execute_reply": "2025-09-02T09:12:48.811370Z"
    },
    "papermill": {
     "duration": 0.01586,
     "end_time": "2025-09-02T09:12:48.814539",
     "exception": false,
     "start_time": "2025-09-02T09:12:48.798679",
     "status": "completed"
    },
    "tags": []
   },
   "outputs": [
    {
     "data": {
      "text/plain": [
       "{'T-shirt/top': 0,\n",
       " 'Trouser': 1,\n",
       " 'Pullover': 2,\n",
       " 'Dress': 3,\n",
       " 'Coat': 4,\n",
       " 'Sandal': 5,\n",
       " 'Shirt': 6,\n",
       " 'Sneaker': 7,\n",
       " 'Bag': 8,\n",
       " 'Ankle boot': 9}"
      ]
     },
     "execution_count": 6,
     "metadata": {},
     "output_type": "execute_result"
    }
   ],
   "source": [
    "class_to_idx = train_data.class_to_idx \n",
    "class_to_idx"
   ]
  },
  {
   "cell_type": "code",
   "execution_count": 7,
   "id": "557379a2",
   "metadata": {
    "execution": {
     "iopub.execute_input": "2025-09-02T09:12:48.828722Z",
     "iopub.status.busy": "2025-09-02T09:12:48.828096Z",
     "iopub.status.idle": "2025-09-02T09:12:48.833441Z",
     "shell.execute_reply": "2025-09-02T09:12:48.832125Z"
    },
    "papermill": {
     "duration": 0.013892,
     "end_time": "2025-09-02T09:12:48.835118",
     "exception": false,
     "start_time": "2025-09-02T09:12:48.821226",
     "status": "completed"
    },
    "tags": []
   },
   "outputs": [
    {
     "name": "stdout",
     "output_type": "stream",
     "text": [
      "Image shape: torch.Size([1, 28, 28]) -> [color_cannels, height, width]\n",
      "image label: Ankle boot\n"
     ]
    }
   ],
   "source": [
    "print(f\"Image shape: {image.shape} -> [color_cannels, height, width]\")\n",
    "print(f\"image label: {class_names[label]}\")"
   ]
  },
  {
   "cell_type": "code",
   "execution_count": null,
   "id": "22b7fd6e",
   "metadata": {
    "papermill": {
     "duration": 0.006311,
     "end_time": "2025-09-02T09:12:48.848455",
     "exception": false,
     "start_time": "2025-09-02T09:12:48.842144",
     "status": "completed"
    },
    "tags": []
   },
   "outputs": [],
   "source": []
  },
  {
   "cell_type": "code",
   "execution_count": null,
   "id": "d81564d8",
   "metadata": {
    "papermill": {
     "duration": 0.006244,
     "end_time": "2025-09-02T09:12:48.861379",
     "exception": false,
     "start_time": "2025-09-02T09:12:48.855135",
     "status": "completed"
    },
    "tags": []
   },
   "outputs": [],
   "source": []
  },
  {
   "cell_type": "code",
   "execution_count": null,
   "id": "df387541",
   "metadata": {
    "papermill": {
     "duration": 0.005496,
     "end_time": "2025-09-02T09:12:48.872923",
     "exception": false,
     "start_time": "2025-09-02T09:12:48.867427",
     "status": "completed"
    },
    "tags": []
   },
   "outputs": [],
   "source": []
  },
  {
   "cell_type": "code",
   "execution_count": null,
   "id": "7708cd4c",
   "metadata": {
    "papermill": {
     "duration": 0.005529,
     "end_time": "2025-09-02T09:12:48.884340",
     "exception": false,
     "start_time": "2025-09-02T09:12:48.878811",
     "status": "completed"
    },
    "tags": []
   },
   "outputs": [],
   "source": []
  },
  {
   "cell_type": "code",
   "execution_count": null,
   "id": "d6eae332",
   "metadata": {
    "papermill": {
     "duration": 0.005438,
     "end_time": "2025-09-02T09:12:48.895536",
     "exception": false,
     "start_time": "2025-09-02T09:12:48.890098",
     "status": "completed"
    },
    "tags": []
   },
   "outputs": [],
   "source": []
  },
  {
   "cell_type": "code",
   "execution_count": null,
   "id": "6a50138c",
   "metadata": {
    "papermill": {
     "duration": 0.005679,
     "end_time": "2025-09-02T09:12:48.907546",
     "exception": false,
     "start_time": "2025-09-02T09:12:48.901867",
     "status": "completed"
    },
    "tags": []
   },
   "outputs": [],
   "source": []
  },
  {
   "cell_type": "code",
   "execution_count": null,
   "id": "a9192a46",
   "metadata": {
    "papermill": {
     "duration": 0.005561,
     "end_time": "2025-09-02T09:12:48.919000",
     "exception": false,
     "start_time": "2025-09-02T09:12:48.913439",
     "status": "completed"
    },
    "tags": []
   },
   "outputs": [],
   "source": []
  },
  {
   "cell_type": "code",
   "execution_count": null,
   "id": "819bdcb9",
   "metadata": {
    "papermill": {
     "duration": 0.005717,
     "end_time": "2025-09-02T09:12:48.930571",
     "exception": false,
     "start_time": "2025-09-02T09:12:48.924854",
     "status": "completed"
    },
    "tags": []
   },
   "outputs": [],
   "source": []
  },
  {
   "cell_type": "code",
   "execution_count": null,
   "id": "066ea064",
   "metadata": {
    "papermill": {
     "duration": 0.005506,
     "end_time": "2025-09-02T09:12:48.941804",
     "exception": false,
     "start_time": "2025-09-02T09:12:48.936298",
     "status": "completed"
    },
    "tags": []
   },
   "outputs": [],
   "source": []
  },
  {
   "cell_type": "code",
   "execution_count": null,
   "id": "61863376",
   "metadata": {
    "papermill": {
     "duration": 0.00558,
     "end_time": "2025-09-02T09:12:48.953218",
     "exception": false,
     "start_time": "2025-09-02T09:12:48.947638",
     "status": "completed"
    },
    "tags": []
   },
   "outputs": [],
   "source": []
  },
  {
   "cell_type": "code",
   "execution_count": null,
   "id": "29464c31",
   "metadata": {
    "papermill": {
     "duration": 0.005573,
     "end_time": "2025-09-02T09:12:48.965372",
     "exception": false,
     "start_time": "2025-09-02T09:12:48.959799",
     "status": "completed"
    },
    "tags": []
   },
   "outputs": [],
   "source": []
  },
  {
   "cell_type": "code",
   "execution_count": null,
   "id": "37580dbd",
   "metadata": {
    "papermill": {
     "duration": 0.00557,
     "end_time": "2025-09-02T09:12:48.977149",
     "exception": false,
     "start_time": "2025-09-02T09:12:48.971579",
     "status": "completed"
    },
    "tags": []
   },
   "outputs": [],
   "source": []
  },
  {
   "cell_type": "code",
   "execution_count": null,
   "id": "187ee70e",
   "metadata": {
    "papermill": {
     "duration": 0.006127,
     "end_time": "2025-09-02T09:12:48.989483",
     "exception": false,
     "start_time": "2025-09-02T09:12:48.983356",
     "status": "completed"
    },
    "tags": []
   },
   "outputs": [],
   "source": []
  },
  {
   "cell_type": "code",
   "execution_count": null,
   "id": "8f73d92a",
   "metadata": {
    "papermill": {
     "duration": 0.005701,
     "end_time": "2025-09-02T09:12:49.001602",
     "exception": false,
     "start_time": "2025-09-02T09:12:48.995901",
     "status": "completed"
    },
    "tags": []
   },
   "outputs": [],
   "source": []
  }
 ],
 "metadata": {
  "kaggle": {
   "accelerator": "none",
   "dataSources": [],
   "dockerImageVersionId": 31089,
   "isGpuEnabled": false,
   "isInternetEnabled": true,
   "language": "python",
   "sourceType": "notebook"
  },
  "kernelspec": {
   "display_name": "Python 3",
   "language": "python",
   "name": "python3"
  },
  "language_info": {
   "codemirror_mode": {
    "name": "ipython",
    "version": 3
   },
   "file_extension": ".py",
   "mimetype": "text/x-python",
   "name": "python",
   "nbconvert_exporter": "python",
   "pygments_lexer": "ipython3",
   "version": "3.11.13"
  },
  "papermill": {
   "default_parameters": {},
   "duration": 29.945641,
   "end_time": "2025-09-02T09:12:51.903673",
   "environment_variables": {},
   "exception": null,
   "input_path": "__notebook__.ipynb",
   "output_path": "__notebook__.ipynb",
   "parameters": {},
   "start_time": "2025-09-02T09:12:21.958032",
   "version": "2.6.0"
  }
 },
 "nbformat": 4,
 "nbformat_minor": 5
}
