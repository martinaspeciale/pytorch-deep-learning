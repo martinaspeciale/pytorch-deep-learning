{
 "cells": [
  {
   "cell_type": "markdown",
   "id": "726302ca",
   "metadata": {
    "papermill": {
     "duration": 0.007152,
     "end_time": "2025-09-03T08:50:43.667935",
     "exception": false,
     "start_time": "2025-09-03T08:50:43.660783",
     "status": "completed"
    },
    "tags": []
   },
   "source": [
    "# **PyTorch Computer Vision**"
   ]
  },
  {
   "cell_type": "markdown",
   "id": "c8ebe51e",
   "metadata": {
    "papermill": {
     "duration": 0.005691,
     "end_time": "2025-09-03T08:50:43.679819",
     "exception": false,
     "start_time": "2025-09-03T08:50:43.674128",
     "status": "completed"
    },
    "tags": []
   },
   "source": [
    "## 0. Computer Vision libraries in Python \n",
    "* `torchvision` : base domain library for PyTorch CV \n",
    "* `torchvision.datasets` : get datasets and data loading functions for CV \n",
    "* `torchvision.models` : get pretrained CV models we can leverage for new problems \n",
    "* `torchvision.transform` : functions for manipulating your vision data (images) to be suitable for use with an ML model\n",
    "* `torch.utils.data.Dataset` : base dataset class for PyTorch \n",
    "* `torch.utils.data.DataLoader` : creates a python iterable over a dataset "
   ]
  },
  {
   "cell_type": "code",
   "execution_count": 1,
   "id": "318f25d4",
   "metadata": {
    "execution": {
     "iopub.execute_input": "2025-09-03T08:50:43.692804Z",
     "iopub.status.busy": "2025-09-03T08:50:43.692244Z",
     "iopub.status.idle": "2025-09-03T08:50:52.779499Z",
     "shell.execute_reply": "2025-09-03T08:50:52.778686Z"
    },
    "papermill": {
     "duration": 9.095124,
     "end_time": "2025-09-03T08:50:52.780753",
     "exception": false,
     "start_time": "2025-09-03T08:50:43.685629",
     "status": "completed"
    },
    "tags": []
   },
   "outputs": [
    {
     "name": "stdout",
     "output_type": "stream",
     "text": [
      "2.6.0+cu124\n",
      "0.21.0+cu124\n"
     ]
    }
   ],
   "source": [
    "import torch \n",
    "from torch import nn \n",
    "\n",
    "import torchvision \n",
    "from torchvision import datasets \n",
    "from torchvision import transforms \n",
    "from torchvision.transforms import ToTensor \n",
    "\n",
    "import matplotlib.pyplot as plt \n",
    "\n",
    "print(torch.__version__)\n",
    "print(torchvision.__version__)"
   ]
  },
  {
   "cell_type": "markdown",
   "id": "f34176de",
   "metadata": {
    "papermill": {
     "duration": 0.005844,
     "end_time": "2025-09-03T08:50:52.793639",
     "exception": false,
     "start_time": "2025-09-03T08:50:52.787795",
     "status": "completed"
    },
    "tags": []
   },
   "source": [
    "## 1. Getting a dataset : Fashion MNIST  "
   ]
  },
  {
   "cell_type": "code",
   "execution_count": 2,
   "id": "69622f67",
   "metadata": {
    "execution": {
     "iopub.execute_input": "2025-09-03T08:50:52.806443Z",
     "iopub.status.busy": "2025-09-03T08:50:52.806160Z",
     "iopub.status.idle": "2025-09-03T08:50:59.436613Z",
     "shell.execute_reply": "2025-09-03T08:50:59.435876Z"
    },
    "papermill": {
     "duration": 6.638466,
     "end_time": "2025-09-03T08:50:59.438017",
     "exception": false,
     "start_time": "2025-09-03T08:50:52.799551",
     "status": "completed"
    },
    "tags": []
   },
   "outputs": [
    {
     "name": "stderr",
     "output_type": "stream",
     "text": [
      "100%|██████████| 26.4M/26.4M [00:02<00:00, 11.9MB/s]\n",
      "100%|██████████| 29.5k/29.5k [00:00<00:00, 213kB/s]\n",
      "100%|██████████| 4.42M/4.42M [00:01<00:00, 4.01MB/s]\n",
      "100%|██████████| 5.15k/5.15k [00:00<00:00, 13.1MB/s]\n"
     ]
    }
   ],
   "source": [
    "# setup training data \n",
    "from torchvision import datasets \n",
    "train_data = datasets.FashionMNIST(\n",
    "    root=\"data\", # where to download data to\n",
    "    train=True,  # do we want the training dataset?\n",
    "    download=True, # do we want to download it?\n",
    "    transform=torchvision.transforms.ToTensor(), # how do we want to transform the data\n",
    "    target_transform=None # how do we want to transform the label \n",
    ")\n",
    "\n",
    "test_data = datasets.FashionMNIST(\n",
    "    root=\"data\", \n",
    "    train=False, \n",
    "    download=True,\n",
    "    transform=torchvision.transforms.ToTensor(),\n",
    "    target_transform=None\n",
    ")"
   ]
  },
  {
   "cell_type": "code",
   "execution_count": 3,
   "id": "80a7417a",
   "metadata": {
    "execution": {
     "iopub.execute_input": "2025-09-03T08:50:59.454604Z",
     "iopub.status.busy": "2025-09-03T08:50:59.454401Z",
     "iopub.status.idle": "2025-09-03T08:50:59.459510Z",
     "shell.execute_reply": "2025-09-03T08:50:59.459020Z"
    },
    "papermill": {
     "duration": 0.014481,
     "end_time": "2025-09-03T08:50:59.460588",
     "exception": false,
     "start_time": "2025-09-03T08:50:59.446107",
     "status": "completed"
    },
    "tags": []
   },
   "outputs": [
    {
     "data": {
      "text/plain": [
       "(60000, 10000)"
      ]
     },
     "execution_count": 3,
     "metadata": {},
     "output_type": "execute_result"
    }
   ],
   "source": [
    "len(train_data), len(test_data)"
   ]
  },
  {
   "cell_type": "code",
   "execution_count": 4,
   "id": "712f9464",
   "metadata": {
    "execution": {
     "iopub.execute_input": "2025-09-03T08:50:59.476250Z",
     "iopub.status.busy": "2025-09-03T08:50:59.476050Z",
     "iopub.status.idle": "2025-09-03T08:50:59.504025Z",
     "shell.execute_reply": "2025-09-03T08:50:59.503270Z"
    },
    "papermill": {
     "duration": 0.036986,
     "end_time": "2025-09-03T08:50:59.505087",
     "exception": false,
     "start_time": "2025-09-03T08:50:59.468101",
     "status": "completed"
    },
    "tags": []
   },
   "outputs": [
    {
     "data": {
      "text/plain": [
       "(tensor([[[0.0000, 0.0000, 0.0000, 0.0000, 0.0000, 0.0000, 0.0000, 0.0000,\n",
       "           0.0000, 0.0000, 0.0000, 0.0000, 0.0000, 0.0000, 0.0000, 0.0000,\n",
       "           0.0000, 0.0000, 0.0000, 0.0000, 0.0000, 0.0000, 0.0000, 0.0000,\n",
       "           0.0000, 0.0000, 0.0000, 0.0000],\n",
       "          [0.0000, 0.0000, 0.0000, 0.0000, 0.0000, 0.0000, 0.0000, 0.0000,\n",
       "           0.0000, 0.0000, 0.0000, 0.0000, 0.0000, 0.0000, 0.0000, 0.0000,\n",
       "           0.0000, 0.0000, 0.0000, 0.0000, 0.0000, 0.0000, 0.0000, 0.0000,\n",
       "           0.0000, 0.0000, 0.0000, 0.0000],\n",
       "          [0.0000, 0.0000, 0.0000, 0.0000, 0.0000, 0.0000, 0.0000, 0.0000,\n",
       "           0.0000, 0.0000, 0.0000, 0.0000, 0.0000, 0.0000, 0.0000, 0.0000,\n",
       "           0.0000, 0.0000, 0.0000, 0.0000, 0.0000, 0.0000, 0.0000, 0.0000,\n",
       "           0.0000, 0.0000, 0.0000, 0.0000],\n",
       "          [0.0000, 0.0000, 0.0000, 0.0000, 0.0000, 0.0000, 0.0000, 0.0000,\n",
       "           0.0000, 0.0000, 0.0000, 0.0000, 0.0039, 0.0000, 0.0000, 0.0510,\n",
       "           0.2863, 0.0000, 0.0000, 0.0039, 0.0157, 0.0000, 0.0000, 0.0000,\n",
       "           0.0000, 0.0039, 0.0039, 0.0000],\n",
       "          [0.0000, 0.0000, 0.0000, 0.0000, 0.0000, 0.0000, 0.0000, 0.0000,\n",
       "           0.0000, 0.0000, 0.0000, 0.0000, 0.0118, 0.0000, 0.1412, 0.5333,\n",
       "           0.4980, 0.2431, 0.2118, 0.0000, 0.0000, 0.0000, 0.0039, 0.0118,\n",
       "           0.0157, 0.0000, 0.0000, 0.0118],\n",
       "          [0.0000, 0.0000, 0.0000, 0.0000, 0.0000, 0.0000, 0.0000, 0.0000,\n",
       "           0.0000, 0.0000, 0.0000, 0.0000, 0.0235, 0.0000, 0.4000, 0.8000,\n",
       "           0.6902, 0.5255, 0.5647, 0.4824, 0.0902, 0.0000, 0.0000, 0.0000,\n",
       "           0.0000, 0.0471, 0.0392, 0.0000],\n",
       "          [0.0000, 0.0000, 0.0000, 0.0000, 0.0000, 0.0000, 0.0000, 0.0000,\n",
       "           0.0000, 0.0000, 0.0000, 0.0000, 0.0000, 0.0000, 0.6078, 0.9255,\n",
       "           0.8118, 0.6980, 0.4196, 0.6118, 0.6314, 0.4275, 0.2510, 0.0902,\n",
       "           0.3020, 0.5098, 0.2824, 0.0588],\n",
       "          [0.0000, 0.0000, 0.0000, 0.0000, 0.0000, 0.0000, 0.0000, 0.0000,\n",
       "           0.0000, 0.0000, 0.0000, 0.0039, 0.0000, 0.2706, 0.8118, 0.8745,\n",
       "           0.8549, 0.8471, 0.8471, 0.6392, 0.4980, 0.4745, 0.4784, 0.5725,\n",
       "           0.5529, 0.3451, 0.6745, 0.2588],\n",
       "          [0.0000, 0.0000, 0.0000, 0.0000, 0.0000, 0.0000, 0.0000, 0.0000,\n",
       "           0.0000, 0.0039, 0.0039, 0.0039, 0.0000, 0.7843, 0.9098, 0.9098,\n",
       "           0.9137, 0.8980, 0.8745, 0.8745, 0.8431, 0.8353, 0.6431, 0.4980,\n",
       "           0.4824, 0.7686, 0.8980, 0.0000],\n",
       "          [0.0000, 0.0000, 0.0000, 0.0000, 0.0000, 0.0000, 0.0000, 0.0000,\n",
       "           0.0000, 0.0000, 0.0000, 0.0000, 0.0000, 0.7176, 0.8824, 0.8471,\n",
       "           0.8745, 0.8941, 0.9216, 0.8902, 0.8784, 0.8706, 0.8784, 0.8667,\n",
       "           0.8745, 0.9608, 0.6784, 0.0000],\n",
       "          [0.0000, 0.0000, 0.0000, 0.0000, 0.0000, 0.0000, 0.0000, 0.0000,\n",
       "           0.0000, 0.0000, 0.0000, 0.0000, 0.0000, 0.7569, 0.8941, 0.8549,\n",
       "           0.8353, 0.7765, 0.7059, 0.8314, 0.8235, 0.8275, 0.8353, 0.8745,\n",
       "           0.8627, 0.9529, 0.7922, 0.0000],\n",
       "          [0.0000, 0.0000, 0.0000, 0.0000, 0.0000, 0.0000, 0.0000, 0.0000,\n",
       "           0.0000, 0.0039, 0.0118, 0.0000, 0.0471, 0.8588, 0.8627, 0.8314,\n",
       "           0.8549, 0.7529, 0.6627, 0.8902, 0.8157, 0.8549, 0.8784, 0.8314,\n",
       "           0.8863, 0.7725, 0.8196, 0.2039],\n",
       "          [0.0000, 0.0000, 0.0000, 0.0000, 0.0000, 0.0000, 0.0000, 0.0000,\n",
       "           0.0000, 0.0000, 0.0235, 0.0000, 0.3882, 0.9569, 0.8706, 0.8627,\n",
       "           0.8549, 0.7961, 0.7765, 0.8667, 0.8431, 0.8353, 0.8706, 0.8627,\n",
       "           0.9608, 0.4667, 0.6549, 0.2196],\n",
       "          [0.0000, 0.0000, 0.0000, 0.0000, 0.0000, 0.0000, 0.0000, 0.0000,\n",
       "           0.0000, 0.0157, 0.0000, 0.0000, 0.2157, 0.9255, 0.8941, 0.9020,\n",
       "           0.8941, 0.9412, 0.9098, 0.8353, 0.8549, 0.8745, 0.9176, 0.8510,\n",
       "           0.8510, 0.8196, 0.3608, 0.0000],\n",
       "          [0.0000, 0.0000, 0.0039, 0.0157, 0.0235, 0.0275, 0.0078, 0.0000,\n",
       "           0.0000, 0.0000, 0.0000, 0.0000, 0.9294, 0.8863, 0.8510, 0.8745,\n",
       "           0.8706, 0.8588, 0.8706, 0.8667, 0.8471, 0.8745, 0.8980, 0.8431,\n",
       "           0.8549, 1.0000, 0.3020, 0.0000],\n",
       "          [0.0000, 0.0118, 0.0000, 0.0000, 0.0000, 0.0000, 0.0000, 0.0000,\n",
       "           0.0000, 0.2431, 0.5686, 0.8000, 0.8941, 0.8118, 0.8353, 0.8667,\n",
       "           0.8549, 0.8157, 0.8275, 0.8549, 0.8784, 0.8745, 0.8588, 0.8431,\n",
       "           0.8784, 0.9569, 0.6235, 0.0000],\n",
       "          [0.0000, 0.0000, 0.0000, 0.0000, 0.0706, 0.1725, 0.3216, 0.4196,\n",
       "           0.7412, 0.8941, 0.8627, 0.8706, 0.8510, 0.8863, 0.7843, 0.8039,\n",
       "           0.8275, 0.9020, 0.8784, 0.9176, 0.6902, 0.7373, 0.9804, 0.9725,\n",
       "           0.9137, 0.9333, 0.8431, 0.0000],\n",
       "          [0.0000, 0.2235, 0.7333, 0.8157, 0.8784, 0.8667, 0.8784, 0.8157,\n",
       "           0.8000, 0.8392, 0.8157, 0.8196, 0.7843, 0.6235, 0.9608, 0.7569,\n",
       "           0.8078, 0.8745, 1.0000, 1.0000, 0.8667, 0.9176, 0.8667, 0.8275,\n",
       "           0.8627, 0.9098, 0.9647, 0.0000],\n",
       "          [0.0118, 0.7922, 0.8941, 0.8784, 0.8667, 0.8275, 0.8275, 0.8392,\n",
       "           0.8039, 0.8039, 0.8039, 0.8627, 0.9412, 0.3137, 0.5882, 1.0000,\n",
       "           0.8980, 0.8667, 0.7373, 0.6039, 0.7490, 0.8235, 0.8000, 0.8196,\n",
       "           0.8706, 0.8941, 0.8824, 0.0000],\n",
       "          [0.3843, 0.9137, 0.7765, 0.8235, 0.8706, 0.8980, 0.8980, 0.9176,\n",
       "           0.9765, 0.8627, 0.7608, 0.8431, 0.8510, 0.9451, 0.2549, 0.2863,\n",
       "           0.4157, 0.4588, 0.6588, 0.8588, 0.8667, 0.8431, 0.8510, 0.8745,\n",
       "           0.8745, 0.8784, 0.8980, 0.1137],\n",
       "          [0.2941, 0.8000, 0.8314, 0.8000, 0.7569, 0.8039, 0.8275, 0.8824,\n",
       "           0.8471, 0.7255, 0.7725, 0.8078, 0.7765, 0.8353, 0.9412, 0.7647,\n",
       "           0.8902, 0.9608, 0.9373, 0.8745, 0.8549, 0.8314, 0.8196, 0.8706,\n",
       "           0.8627, 0.8667, 0.9020, 0.2627],\n",
       "          [0.1882, 0.7961, 0.7176, 0.7608, 0.8353, 0.7725, 0.7255, 0.7451,\n",
       "           0.7608, 0.7529, 0.7922, 0.8392, 0.8588, 0.8667, 0.8627, 0.9255,\n",
       "           0.8824, 0.8471, 0.7804, 0.8078, 0.7294, 0.7098, 0.6941, 0.6745,\n",
       "           0.7098, 0.8039, 0.8078, 0.4510],\n",
       "          [0.0000, 0.4784, 0.8588, 0.7569, 0.7020, 0.6706, 0.7176, 0.7686,\n",
       "           0.8000, 0.8235, 0.8353, 0.8118, 0.8275, 0.8235, 0.7843, 0.7686,\n",
       "           0.7608, 0.7490, 0.7647, 0.7490, 0.7765, 0.7529, 0.6902, 0.6118,\n",
       "           0.6549, 0.6941, 0.8235, 0.3608],\n",
       "          [0.0000, 0.0000, 0.2902, 0.7412, 0.8314, 0.7490, 0.6863, 0.6745,\n",
       "           0.6863, 0.7098, 0.7255, 0.7373, 0.7412, 0.7373, 0.7569, 0.7765,\n",
       "           0.8000, 0.8196, 0.8235, 0.8235, 0.8275, 0.7373, 0.7373, 0.7608,\n",
       "           0.7529, 0.8471, 0.6667, 0.0000],\n",
       "          [0.0078, 0.0000, 0.0000, 0.0000, 0.2588, 0.7843, 0.8706, 0.9294,\n",
       "           0.9373, 0.9490, 0.9647, 0.9529, 0.9569, 0.8667, 0.8627, 0.7569,\n",
       "           0.7490, 0.7020, 0.7137, 0.7137, 0.7098, 0.6902, 0.6510, 0.6588,\n",
       "           0.3882, 0.2275, 0.0000, 0.0000],\n",
       "          [0.0000, 0.0000, 0.0000, 0.0000, 0.0000, 0.0000, 0.0000, 0.1569,\n",
       "           0.2392, 0.1725, 0.2824, 0.1608, 0.1373, 0.0000, 0.0000, 0.0000,\n",
       "           0.0000, 0.0000, 0.0000, 0.0000, 0.0000, 0.0000, 0.0000, 0.0000,\n",
       "           0.0000, 0.0000, 0.0000, 0.0000],\n",
       "          [0.0000, 0.0000, 0.0000, 0.0000, 0.0000, 0.0000, 0.0000, 0.0000,\n",
       "           0.0000, 0.0000, 0.0000, 0.0000, 0.0000, 0.0000, 0.0000, 0.0000,\n",
       "           0.0000, 0.0000, 0.0000, 0.0000, 0.0000, 0.0000, 0.0000, 0.0000,\n",
       "           0.0000, 0.0000, 0.0000, 0.0000],\n",
       "          [0.0000, 0.0000, 0.0000, 0.0000, 0.0000, 0.0000, 0.0000, 0.0000,\n",
       "           0.0000, 0.0000, 0.0000, 0.0000, 0.0000, 0.0000, 0.0000, 0.0000,\n",
       "           0.0000, 0.0000, 0.0000, 0.0000, 0.0000, 0.0000, 0.0000, 0.0000,\n",
       "           0.0000, 0.0000, 0.0000, 0.0000]]]),\n",
       " 9)"
      ]
     },
     "execution_count": 4,
     "metadata": {},
     "output_type": "execute_result"
    }
   ],
   "source": [
    "image, label = train_data[0]\n",
    "image, label"
   ]
  },
  {
   "cell_type": "code",
   "execution_count": 5,
   "id": "300f42c7",
   "metadata": {
    "execution": {
     "iopub.execute_input": "2025-09-03T08:50:59.521241Z",
     "iopub.status.busy": "2025-09-03T08:50:59.520974Z",
     "iopub.status.idle": "2025-09-03T08:50:59.525297Z",
     "shell.execute_reply": "2025-09-03T08:50:59.524763Z"
    },
    "papermill": {
     "duration": 0.013599,
     "end_time": "2025-09-03T08:50:59.526301",
     "exception": false,
     "start_time": "2025-09-03T08:50:59.512702",
     "status": "completed"
    },
    "tags": []
   },
   "outputs": [
    {
     "data": {
      "text/plain": [
       "['T-shirt/top',\n",
       " 'Trouser',\n",
       " 'Pullover',\n",
       " 'Dress',\n",
       " 'Coat',\n",
       " 'Sandal',\n",
       " 'Shirt',\n",
       " 'Sneaker',\n",
       " 'Bag',\n",
       " 'Ankle boot']"
      ]
     },
     "execution_count": 5,
     "metadata": {},
     "output_type": "execute_result"
    }
   ],
   "source": [
    "class_names = train_data.classes\n",
    "class_names"
   ]
  },
  {
   "cell_type": "code",
   "execution_count": 6,
   "id": "5751ffc3",
   "metadata": {
    "execution": {
     "iopub.execute_input": "2025-09-03T08:50:59.542466Z",
     "iopub.status.busy": "2025-09-03T08:50:59.542262Z",
     "iopub.status.idle": "2025-09-03T08:50:59.546712Z",
     "shell.execute_reply": "2025-09-03T08:50:59.546033Z"
    },
    "papermill": {
     "duration": 0.013743,
     "end_time": "2025-09-03T08:50:59.547779",
     "exception": false,
     "start_time": "2025-09-03T08:50:59.534036",
     "status": "completed"
    },
    "tags": []
   },
   "outputs": [
    {
     "data": {
      "text/plain": [
       "{'T-shirt/top': 0,\n",
       " 'Trouser': 1,\n",
       " 'Pullover': 2,\n",
       " 'Dress': 3,\n",
       " 'Coat': 4,\n",
       " 'Sandal': 5,\n",
       " 'Shirt': 6,\n",
       " 'Sneaker': 7,\n",
       " 'Bag': 8,\n",
       " 'Ankle boot': 9}"
      ]
     },
     "execution_count": 6,
     "metadata": {},
     "output_type": "execute_result"
    }
   ],
   "source": [
    "class_to_idx = train_data.class_to_idx \n",
    "class_to_idx"
   ]
  },
  {
   "cell_type": "code",
   "execution_count": 7,
   "id": "6e48b211",
   "metadata": {
    "execution": {
     "iopub.execute_input": "2025-09-03T08:50:59.564210Z",
     "iopub.status.busy": "2025-09-03T08:50:59.563705Z",
     "iopub.status.idle": "2025-09-03T08:50:59.567464Z",
     "shell.execute_reply": "2025-09-03T08:50:59.566847Z"
    },
    "papermill": {
     "duration": 0.013077,
     "end_time": "2025-09-03T08:50:59.568590",
     "exception": false,
     "start_time": "2025-09-03T08:50:59.555513",
     "status": "completed"
    },
    "tags": []
   },
   "outputs": [
    {
     "name": "stdout",
     "output_type": "stream",
     "text": [
      "Image shape: torch.Size([1, 28, 28]) -> [color_cannels, height, width]\n",
      "image label: Ankle boot\n"
     ]
    }
   ],
   "source": [
    "print(f\"Image shape: {image.shape} -> [color_cannels, height, width]\")\n",
    "print(f\"image label: {class_names[label]}\")"
   ]
  },
  {
   "cell_type": "markdown",
   "id": "687548db",
   "metadata": {
    "papermill": {
     "duration": 0.007768,
     "end_time": "2025-09-03T08:50:59.584842",
     "exception": false,
     "start_time": "2025-09-03T08:50:59.577074",
     "status": "completed"
    },
    "tags": []
   },
   "source": [
    "### 1.2 Visualizing data"
   ]
  },
  {
   "cell_type": "code",
   "execution_count": 8,
   "id": "ebd4977e",
   "metadata": {
    "execution": {
     "iopub.execute_input": "2025-09-03T08:50:59.602666Z",
     "iopub.status.busy": "2025-09-03T08:50:59.602470Z",
     "iopub.status.idle": "2025-09-03T08:50:59.856227Z",
     "shell.execute_reply": "2025-09-03T08:50:59.855469Z"
    },
    "papermill": {
     "duration": 0.26483,
     "end_time": "2025-09-03T08:50:59.857431",
     "exception": false,
     "start_time": "2025-09-03T08:50:59.592601",
     "status": "completed"
    },
    "tags": []
   },
   "outputs": [
    {
     "data": {
      "text/plain": [
       "<matplotlib.image.AxesImage at 0x7e7ebcb8fa10>"
      ]
     },
     "execution_count": 8,
     "metadata": {},
     "output_type": "execute_result"
    },
    {
     "data": {
      "image/png": "[encoded data removed]",
      "text/plain": [
       "<Figure size 640x480 with 1 Axes>"
      ]
     },
     "metadata": {},
     "output_type": "display_data"
    }
   ],
   "source": [
    "import matplotlib.pyplot as plt \n",
    "\n",
    "image, label = train_data[0]\n",
    "plt.imshow(image.squeeze()) # we need squeeze to remove the color channel dimension"
   ]
  },
  {
   "cell_type": "code",
   "execution_count": 9,
   "id": "9c83fc0b",
   "metadata": {
    "execution": {
     "iopub.execute_input": "2025-09-03T08:50:59.875692Z",
     "iopub.status.busy": "2025-09-03T08:50:59.875465Z",
     "iopub.status.idle": "2025-09-03T08:50:59.958947Z",
     "shell.execute_reply": "2025-09-03T08:50:59.958307Z"
    },
    "papermill": {
     "duration": 0.093987,
     "end_time": "2025-09-03T08:50:59.960172",
     "exception": false,
     "start_time": "2025-09-03T08:50:59.866185",
     "status": "completed"
    },
    "tags": []
   },
   "outputs": [
    {
     "data": {
      "text/plain": [
       "(-0.5, 27.5, 27.5, -0.5)"
      ]
     },
     "execution_count": 9,
     "metadata": {},
     "output_type": "execute_result"
    },
    {
     "data": {
      "image/png": "[encoded data removed]",
      "text/plain": [
       "<Figure size 640x480 with 1 Axes>"
      ]
     },
     "metadata": {},
     "output_type": "display_data"
    }
   ],
   "source": [
    "plt.imshow(image.squeeze(), cmap=\"gray\")\n",
    "plt.title(class_names[label])\n",
    "plt.axis(False)"
   ]
  },
  {
   "cell_type": "code",
   "execution_count": 10,
   "id": "49cf06ab",
   "metadata": {
    "execution": {
     "iopub.execute_input": "2025-09-03T08:50:59.978316Z",
     "iopub.status.busy": "2025-09-03T08:50:59.978082Z",
     "iopub.status.idle": "2025-09-03T08:51:00.812806Z",
     "shell.execute_reply": "2025-09-03T08:51:00.812017Z"
    },
    "papermill": {
     "duration": 0.845265,
     "end_time": "2025-09-03T08:51:00.814333",
     "exception": false,
     "start_time": "2025-09-03T08:50:59.969068",
     "status": "completed"
    },
    "tags": []
   },
   "outputs": [
    {
     "data": {
      "image/png": "[encoded data removed]",
      "text/plain": [
       "<Figure size 900x900 with 16 Axes>"
      ]
     },
     "metadata": {},
     "output_type": "display_data"
    }
   ],
   "source": [
    "# plot more images \n",
    "# torch.manual_seed(42)\n",
    "\n",
    "fig = plt.figure(figsize=(9,9))\n",
    "rows, cols = 4,4 \n",
    "for i in range(1, rows*cols+1):\n",
    "    random_idx = torch.randint(0, len(train_data), size=[1]).item()\n",
    "    # print(random_idx)\n",
    "    img, label = train_data[random_idx]\n",
    "    fig.add_subplot(rows,cols,i)\n",
    "    plt.imshow(img.squeeze(), cmap=\"gray\")\n",
    "    plt.title(class_names[label])\n",
    "    plt.axis(False)"
   ]
  },
  {
   "cell_type": "code",
   "execution_count": 11,
   "id": "0392a1ae",
   "metadata": {
    "execution": {
     "iopub.execute_input": "2025-09-03T08:51:00.834262Z",
     "iopub.status.busy": "2025-09-03T08:51:00.833756Z",
     "iopub.status.idle": "2025-09-03T08:51:00.838356Z",
     "shell.execute_reply": "2025-09-03T08:51:00.837665Z"
    },
    "papermill": {
     "duration": 0.015094,
     "end_time": "2025-09-03T08:51:00.839354",
     "exception": false,
     "start_time": "2025-09-03T08:51:00.824260",
     "status": "completed"
    },
    "tags": []
   },
   "outputs": [
    {
     "data": {
      "text/plain": [
       "(Dataset FashionMNIST\n",
       "     Number of datapoints: 60000\n",
       "     Root location: data\n",
       "     Split: Train\n",
       "     StandardTransform\n",
       " Transform: ToTensor(),\n",
       " Dataset FashionMNIST\n",
       "     Number of datapoints: 10000\n",
       "     Root location: data\n",
       "     Split: Test\n",
       "     StandardTransform\n",
       " Transform: ToTensor())"
      ]
     },
     "execution_count": 11,
     "metadata": {},
     "output_type": "execute_result"
    }
   ],
   "source": [
    "train_data, test_data"
   ]
  },
  {
   "cell_type": "markdown",
   "id": "b0d1af86",
   "metadata": {
    "papermill": {
     "duration": 0.054018,
     "end_time": "2025-09-03T08:51:00.902479",
     "exception": false,
     "start_time": "2025-09-03T08:51:00.848461",
     "status": "completed"
    },
    "tags": []
   },
   "source": [
    "## 2. Prepare DataLoader\n",
    "\n",
    "* Right now data is in the form of PyTorch Datasets\n",
    "* DataLoader turns the dataset into a Python iterable\n",
    "* more specifically, we want to turn our data into batches (or mini batches)\n",
    "  1. it is more computationally efficient, as in the computing hardware may not be able to look (store in memory) at 6000 images in one hit. So we break it down to 32 images at a time (batch size = 32)\n",
    "    2. it gives our NN more chances to update its ggradients per epoch (every 32 images)"
   ]
  },
  {
   "cell_type": "code",
   "execution_count": 12,
   "id": "b9ebee63",
   "metadata": {
    "execution": {
     "iopub.execute_input": "2025-09-03T08:51:00.921905Z",
     "iopub.status.busy": "2025-09-03T08:51:00.921441Z",
     "iopub.status.idle": "2025-09-03T08:51:00.927233Z",
     "shell.execute_reply": "2025-09-03T08:51:00.926560Z"
    },
    "papermill": {
     "duration": 0.016693,
     "end_time": "2025-09-03T08:51:00.928344",
     "exception": false,
     "start_time": "2025-09-03T08:51:00.911651",
     "status": "completed"
    },
    "tags": []
   },
   "outputs": [
    {
     "data": {
      "text/plain": [
       "(<torch.utils.data.dataloader.DataLoader at 0x7e7ebb535490>,\n",
       " <torch.utils.data.dataloader.DataLoader at 0x7e7ebb602810>)"
      ]
     },
     "execution_count": 12,
     "metadata": {},
     "output_type": "execute_result"
    }
   ],
   "source": [
    "from torch.utils.data import DataLoader \n",
    "\n",
    "# setup the batch size hyperparameter \n",
    "BATCH_SIZE = 32 \n",
    "\n",
    "# turn dataset into iterables (batches)\n",
    "train_dataloader = DataLoader(\n",
    "    dataset=train_data,\n",
    "    batch_size=BATCH_SIZE,\n",
    "    shuffle=True\n",
    ")\n",
    "\n",
    "test_dataloader = DataLoader(\n",
    "    dataset=test_data, \n",
    "    batch_size=BATCH_SIZE,\n",
    "    shuffle=False\n",
    ")\n",
    "\n",
    "train_dataloader, test_dataloader"
   ]
  },
  {
   "cell_type": "code",
   "execution_count": 13,
   "id": "575c1be1",
   "metadata": {
    "execution": {
     "iopub.execute_input": "2025-09-03T08:51:00.947605Z",
     "iopub.status.busy": "2025-09-03T08:51:00.947403Z",
     "iopub.status.idle": "2025-09-03T08:51:00.951411Z",
     "shell.execute_reply": "2025-09-03T08:51:00.950706Z"
    },
    "papermill": {
     "duration": 0.01492,
     "end_time": "2025-09-03T08:51:00.952524",
     "exception": false,
     "start_time": "2025-09-03T08:51:00.937604",
     "status": "completed"
    },
    "tags": []
   },
   "outputs": [
    {
     "name": "stdout",
     "output_type": "stream",
     "text": [
      "Dataloaders: (<torch.utils.data.dataloader.DataLoader object at 0x7e7ebb535490>, <torch.utils.data.dataloader.DataLoader object at 0x7e7ebb602810>)\n",
      "Length of train_dataloader: 1875,batches of 32...\n",
      "Length of test_dataloader: 313, batches of 32\n"
     ]
    }
   ],
   "source": [
    "print(f\"Dataloaders: {train_dataloader, test_dataloader}\")\n",
    "print(f\"Length of train_dataloader: {len(train_dataloader)},batches of {BATCH_SIZE}...\")\n",
    "print(f\"Length of test_dataloader: {len(test_dataloader)}, batches of {BATCH_SIZE}\")"
   ]
  },
  {
   "cell_type": "code",
   "execution_count": 14,
   "id": "40ec0375",
   "metadata": {
    "execution": {
     "iopub.execute_input": "2025-09-03T08:51:00.971878Z",
     "iopub.status.busy": "2025-09-03T08:51:00.971397Z",
     "iopub.status.idle": "2025-09-03T08:51:00.975451Z",
     "shell.execute_reply": "2025-09-03T08:51:00.974941Z"
    },
    "papermill": {
     "duration": 0.014636,
     "end_time": "2025-09-03T08:51:00.976471",
     "exception": false,
     "start_time": "2025-09-03T08:51:00.961835",
     "status": "completed"
    },
    "tags": []
   },
   "outputs": [
    {
     "data": {
      "text/plain": [
       "(312.5, 10000.0)"
      ]
     },
     "execution_count": 14,
     "metadata": {},
     "output_type": "execute_result"
    }
   ],
   "source": [
    "10000/32, 32*312.5"
   ]
  },
  {
   "cell_type": "code",
   "execution_count": 15,
   "id": "791c6e1d",
   "metadata": {
    "execution": {
     "iopub.execute_input": "2025-09-03T08:51:00.995865Z",
     "iopub.status.busy": "2025-09-03T08:51:00.995696Z",
     "iopub.status.idle": "2025-09-03T08:51:01.013044Z",
     "shell.execute_reply": "2025-09-03T08:51:01.012483Z"
    },
    "papermill": {
     "duration": 0.028262,
     "end_time": "2025-09-03T08:51:01.014162",
     "exception": false,
     "start_time": "2025-09-03T08:51:00.985900",
     "status": "completed"
    },
    "tags": []
   },
   "outputs": [
    {
     "data": {
      "text/plain": [
       "(torch.Size([32, 1, 28, 28]), torch.Size([32]))"
      ]
     },
     "execution_count": 15,
     "metadata": {},
     "output_type": "execute_result"
    }
   ],
   "source": [
    "train_features_batch, train_labels_batch = next(iter(train_dataloader)) # iter turns train_dataloader into an iterable and next gets us the next batch\n",
    "train_features_batch.shape, train_labels_batch.shape"
   ]
  },
  {
   "cell_type": "code",
   "execution_count": 16,
   "id": "96b189b0",
   "metadata": {
    "execution": {
     "iopub.execute_input": "2025-09-03T08:51:01.033487Z",
     "iopub.status.busy": "2025-09-03T08:51:01.033290Z",
     "iopub.status.idle": "2025-09-03T08:51:01.116353Z",
     "shell.execute_reply": "2025-09-03T08:51:01.115658Z"
    },
    "papermill": {
     "duration": 0.094065,
     "end_time": "2025-09-03T08:51:01.117434",
     "exception": false,
     "start_time": "2025-09-03T08:51:01.023369",
     "status": "completed"
    },
    "tags": []
   },
   "outputs": [
    {
     "name": "stdout",
     "output_type": "stream",
     "text": [
      "Image size: torch.Size([1, 28, 28])\n",
      "Label: 7, label size: torch.Size([])\n"
     ]
    },
    {
     "data": {
      "image/png": "[encoded data removed]",
      "text/plain": [
       "<Figure size 640x480 with 1 Axes>"
      ]
     },
     "metadata": {},
     "output_type": "display_data"
    }
   ],
   "source": [
    "# show a sample \n",
    "torch.manual_seed(42)\n",
    "random_idx = torch.randint(0,len(train_features_batch), size=[1]).item()\n",
    "img, label = train_features_batch[random_idx], train_labels_batch[random_idx]\n",
    "plt.imshow(img.squeeze(), cmap=\"gray\")\n",
    "plt.title(class_names[label])\n",
    "plt.axis(False)\n",
    "print(f\"Image size: {img.shape}\")\n",
    "print(f\"Label: {label}, label size: {label.shape}\")"
   ]
  },
  {
   "cell_type": "markdown",
   "id": "e3b201eb",
   "metadata": {
    "papermill": {
     "duration": 0.009354,
     "end_time": "2025-09-03T08:51:01.136372",
     "exception": false,
     "start_time": "2025-09-03T08:51:01.127018",
     "status": "completed"
    },
    "tags": []
   },
   "source": [
    "## 3. Model 0: baseline model "
   ]
  },
  {
   "cell_type": "code",
   "execution_count": 17,
   "id": "3ede068d",
   "metadata": {
    "execution": {
     "iopub.execute_input": "2025-09-03T08:51:01.155907Z",
     "iopub.status.busy": "2025-09-03T08:51:01.155729Z",
     "iopub.status.idle": "2025-09-03T08:51:01.159891Z",
     "shell.execute_reply": "2025-09-03T08:51:01.159422Z"
    },
    "papermill": {
     "duration": 0.015181,
     "end_time": "2025-09-03T08:51:01.160941",
     "exception": false,
     "start_time": "2025-09-03T08:51:01.145760",
     "status": "completed"
    },
    "tags": []
   },
   "outputs": [
    {
     "data": {
      "text/plain": [
       "torch.Size([1, 28, 28])"
      ]
     },
     "execution_count": 17,
     "metadata": {},
     "output_type": "execute_result"
    }
   ],
   "source": [
    "# create a flatten layer \n",
    "flatten_model = nn.Flatten()\n",
    "\n",
    "# get a single sample \n",
    "x = train_features_batch[0]\n",
    "x.shape"
   ]
  },
  {
   "cell_type": "code",
   "execution_count": 18,
   "id": "07866ff2",
   "metadata": {
    "execution": {
     "iopub.execute_input": "2025-09-03T08:51:01.180841Z",
     "iopub.status.busy": "2025-09-03T08:51:01.180670Z",
     "iopub.status.idle": "2025-09-03T08:51:01.184741Z",
     "shell.execute_reply": "2025-09-03T08:51:01.184030Z"
    },
    "papermill": {
     "duration": 0.015481,
     "end_time": "2025-09-03T08:51:01.185942",
     "exception": false,
     "start_time": "2025-09-03T08:51:01.170461",
     "status": "completed"
    },
    "tags": []
   },
   "outputs": [
    {
     "name": "stdout",
     "output_type": "stream",
     "text": [
      "Shape before flattening: torch.Size([1, 28, 28]) -> [C, H, W]\n",
      "Shape after flattening: torch.Size([1, 784]) -> [C, H*W]\n"
     ]
    }
   ],
   "source": [
    "# flatten the sample \n",
    "output = flatten_model(x)\n",
    "print(f\"Shape before flattening: {x.shape} -> [C, H, W]\")\n",
    "print(f\"Shape after flattening: {output.shape} -> [C, H*W]\")"
   ]
  },
  {
   "cell_type": "code",
   "execution_count": 19,
   "id": "e5573c38",
   "metadata": {
    "execution": {
     "iopub.execute_input": "2025-09-03T08:51:01.206320Z",
     "iopub.status.busy": "2025-09-03T08:51:01.206125Z",
     "iopub.status.idle": "2025-09-03T08:51:01.210067Z",
     "shell.execute_reply": "2025-09-03T08:51:01.209577Z"
    },
    "papermill": {
     "duration": 0.015415,
     "end_time": "2025-09-03T08:51:01.211251",
     "exception": false,
     "start_time": "2025-09-03T08:51:01.195836",
     "status": "completed"
    },
    "tags": []
   },
   "outputs": [],
   "source": [
    "from torch import nn \n",
    "class FashionMNISTModelV0(nn.Module):\n",
    "    def __init__(\n",
    "        self, \n",
    "        input_shape: int, \n",
    "        hidden_units: int,\n",
    "        output_shape: int\n",
    "    ) :\n",
    "        super().__init__()\n",
    "        self.layer_stack = nn.Sequential(\n",
    "            nn.Flatten(),\n",
    "            nn.Linear(\n",
    "                in_features = input_shape,\n",
    "                out_features = hidden_units\n",
    "            ),\n",
    "            nn.Linear(\n",
    "                in_features = hidden_units,\n",
    "                out_features = output_shape\n",
    "            )\n",
    "        )\n",
    "\n",
    "    def forward(self, x):\n",
    "        return self.layer_stack(x)"
   ]
  },
  {
   "cell_type": "code",
   "execution_count": 20,
   "id": "1396ef25",
   "metadata": {
    "execution": {
     "iopub.execute_input": "2025-09-03T08:51:01.231342Z",
     "iopub.status.busy": "2025-09-03T08:51:01.230913Z",
     "iopub.status.idle": "2025-09-03T08:51:01.236791Z",
     "shell.execute_reply": "2025-09-03T08:51:01.236315Z"
    },
    "papermill": {
     "duration": 0.016904,
     "end_time": "2025-09-03T08:51:01.237820",
     "exception": false,
     "start_time": "2025-09-03T08:51:01.220916",
     "status": "completed"
    },
    "tags": []
   },
   "outputs": [
    {
     "data": {
      "text/plain": [
       "FashionMNISTModelV0(\n",
       "  (layer_stack): Sequential(\n",
       "    (0): Flatten(start_dim=1, end_dim=-1)\n",
       "    (1): Linear(in_features=784, out_features=10, bias=True)\n",
       "    (2): Linear(in_features=10, out_features=10, bias=True)\n",
       "  )\n",
       ")"
      ]
     },
     "execution_count": 20,
     "metadata": {},
     "output_type": "execute_result"
    }
   ],
   "source": [
    "torch.manual_seed(42)\n",
    "\n",
    "# setup model with input parameters \n",
    "model_0 = FashionMNISTModelV0(\n",
    "    input_shape = 28*28, # 784\n",
    "    hidden_units = 10, \n",
    "    output_shape= len(class_names) # one for each class\n",
    ")\n",
    "\n",
    "model_0"
   ]
  },
  {
   "cell_type": "code",
   "execution_count": 21,
   "id": "e67dd7d9",
   "metadata": {
    "execution": {
     "iopub.execute_input": "2025-09-03T08:51:01.257586Z",
     "iopub.status.busy": "2025-09-03T08:51:01.257397Z",
     "iopub.status.idle": "2025-09-03T08:51:01.271012Z",
     "shell.execute_reply": "2025-09-03T08:51:01.270470Z"
    },
    "papermill": {
     "duration": 0.024639,
     "end_time": "2025-09-03T08:51:01.271968",
     "exception": false,
     "start_time": "2025-09-03T08:51:01.247329",
     "status": "completed"
    },
    "tags": []
   },
   "outputs": [
    {
     "data": {
      "text/plain": [
       "tensor([[-0.0315,  0.3171,  0.0531, -0.2525,  0.5959,  0.2112,  0.3233,  0.2694,\n",
       "         -0.1004,  0.0157]], grad_fn=<AddmmBackward0>)"
      ]
     },
     "execution_count": 21,
     "metadata": {},
     "output_type": "execute_result"
    }
   ],
   "source": [
    "dummy_x = torch.rand([1,1,28,28])\n",
    "model_0(dummy_x)"
   ]
  },
  {
   "cell_type": "code",
   "execution_count": 22,
   "id": "c0864fb2",
   "metadata": {
    "execution": {
     "iopub.execute_input": "2025-09-03T08:51:01.292228Z",
     "iopub.status.busy": "2025-09-03T08:51:01.292047Z",
     "iopub.status.idle": "2025-09-03T08:51:01.299135Z",
     "shell.execute_reply": "2025-09-03T08:51:01.298595Z"
    },
    "papermill": {
     "duration": 0.018494,
     "end_time": "2025-09-03T08:51:01.300247",
     "exception": false,
     "start_time": "2025-09-03T08:51:01.281753",
     "status": "completed"
    },
    "tags": []
   },
   "outputs": [
    {
     "data": {
      "text/plain": [
       "OrderedDict([('layer_stack.1.weight',\n",
       "              tensor([[ 0.0273,  0.0296, -0.0084,  ..., -0.0142,  0.0093,  0.0135],\n",
       "                      [-0.0188, -0.0354,  0.0187,  ..., -0.0106, -0.0001,  0.0115],\n",
       "                      [-0.0008,  0.0017,  0.0045,  ..., -0.0127, -0.0188,  0.0059],\n",
       "                      ...,\n",
       "                      [-0.0116,  0.0273, -0.0344,  ...,  0.0176,  0.0283, -0.0011],\n",
       "                      [-0.0230,  0.0257,  0.0291,  ..., -0.0187, -0.0087,  0.0001],\n",
       "                      [ 0.0176, -0.0147,  0.0053,  ..., -0.0336, -0.0221,  0.0205]])),\n",
       "             ('layer_stack.1.bias',\n",
       "              tensor([-0.0093,  0.0283, -0.0033,  0.0255,  0.0017,  0.0037, -0.0302, -0.0123,\n",
       "                       0.0018,  0.0163])),\n",
       "             ('layer_stack.2.weight',\n",
       "              tensor([[ 0.0614, -0.0687,  0.0021,  0.2718,  0.2109,  0.1079, -0.2279, -0.1063,\n",
       "                        0.2019,  0.2847],\n",
       "                      [-0.1495,  0.1344, -0.0740,  0.2006, -0.0475, -0.2514, -0.3130, -0.0118,\n",
       "                        0.0932, -0.1864],\n",
       "                      [ 0.2488,  0.1500,  0.1907,  0.1457, -0.3050, -0.0580,  0.1643,  0.1565,\n",
       "                       -0.2877, -0.1792],\n",
       "                      [ 0.2305, -0.2618,  0.2397, -0.0610,  0.0232,  0.1542,  0.0851, -0.2027,\n",
       "                        0.1030, -0.2715],\n",
       "                      [-0.1596, -0.0555, -0.0633,  0.2302, -0.1726,  0.2654,  0.1473,  0.1029,\n",
       "                        0.2252, -0.2160],\n",
       "                      [-0.2725,  0.0118,  0.1559,  0.1596,  0.0132,  0.3024,  0.1124,  0.1366,\n",
       "                       -0.1533,  0.0965],\n",
       "                      [-0.1184, -0.2555, -0.2057, -0.1909, -0.0477, -0.1324,  0.2905,  0.1307,\n",
       "                       -0.2629,  0.0133],\n",
       "                      [ 0.2727, -0.0127,  0.0513,  0.0863, -0.1043, -0.2047, -0.1185, -0.0825,\n",
       "                        0.2488, -0.2571],\n",
       "                      [ 0.0425, -0.1209, -0.0336, -0.0281, -0.1227,  0.0730,  0.0747, -0.1816,\n",
       "                        0.1943,  0.2853],\n",
       "                      [-0.1310,  0.0645, -0.1171,  0.2168, -0.0245, -0.2820,  0.0736,  0.2621,\n",
       "                        0.0012, -0.0810]])),\n",
       "             ('layer_stack.2.bias',\n",
       "              tensor([-0.0087,  0.1791,  0.2712, -0.0791,  0.1685,  0.1762,  0.2825,  0.2266,\n",
       "                      -0.2612, -0.2613]))])"
      ]
     },
     "execution_count": 22,
     "metadata": {},
     "output_type": "execute_result"
    }
   ],
   "source": [
    "model_0.state_dict()"
   ]
  },
  {
   "cell_type": "markdown",
   "id": "acdb1095",
   "metadata": {
    "papermill": {
     "duration": 0.009732,
     "end_time": "2025-09-03T08:51:01.319801",
     "exception": false,
     "start_time": "2025-09-03T08:51:01.310069",
     "status": "completed"
    },
    "tags": []
   },
   "source": [
    "### 3.1 Setup loss, optimizer and evaluation metrics \n",
    "* Loss function : since we're working with multi-class data -> `nn.CrossEntropyLoss()`\n",
    "* Optimizer : stochastic gradient descent -> `torch.optim.SGD()`\n",
    "* Evaluation metric : since we are working on a classification problem, let's use accuracy "
   ]
  },
  {
   "cell_type": "code",
   "execution_count": 23,
   "id": "effeb098",
   "metadata": {
    "execution": {
     "iopub.execute_input": "2025-09-03T08:51:01.340192Z",
     "iopub.status.busy": "2025-09-03T08:51:01.339971Z",
     "iopub.status.idle": "2025-09-03T08:51:01.476696Z",
     "shell.execute_reply": "2025-09-03T08:51:01.476047Z"
    },
    "papermill": {
     "duration": 0.14819,
     "end_time": "2025-09-03T08:51:01.477755",
     "exception": false,
     "start_time": "2025-09-03T08:51:01.329565",
     "status": "completed"
    },
    "tags": []
   },
   "outputs": [
    {
     "name": "stdout",
     "output_type": "stream",
     "text": [
      "Downloading helper_functions.py\n"
     ]
    }
   ],
   "source": [
    "import requests \n",
    "from pathlib import Path \n",
    "\n",
    "if Path(\"helper_functions.py\").is_file() :\n",
    "    print(\"helper_functions.py already exists, skipping download\")\n",
    "else : \n",
    "    print(\"Downloading helper_functions.py\")\n",
    "    request = requests.get(\"https://raw.githubusercontent.com/mrdbourke/pytorch-deep-learning/af6548e52663c8395fe2777bd0fbfd6ac85fd6f8/helper_functions.py\")\n",
    "    with open(\"helper_functions.py\", \"wb\") as f:\n",
    "        f.write(request.content)"
   ]
  },
  {
   "cell_type": "code",
   "execution_count": 24,
   "id": "ecdcc7fa",
   "metadata": {
    "execution": {
     "iopub.execute_input": "2025-09-03T08:51:01.498287Z",
     "iopub.status.busy": "2025-09-03T08:51:01.498107Z",
     "iopub.status.idle": "2025-09-03T08:51:01.627621Z",
     "shell.execute_reply": "2025-09-03T08:51:01.626896Z"
    },
    "papermill": {
     "duration": 0.141049,
     "end_time": "2025-09-03T08:51:01.628819",
     "exception": false,
     "start_time": "2025-09-03T08:51:01.487770",
     "status": "completed"
    },
    "tags": []
   },
   "outputs": [
    {
     "name": "stdout",
     "output_type": "stream",
     "text": [
      "data  helper_functions.py  __notebook__.ipynb\r\n"
     ]
    }
   ],
   "source": [
    "!ls"
   ]
  },
  {
   "cell_type": "code",
   "execution_count": 25,
   "id": "8dd0546c",
   "metadata": {
    "execution": {
     "iopub.execute_input": "2025-09-03T08:51:01.650296Z",
     "iopub.status.busy": "2025-09-03T08:51:01.650055Z",
     "iopub.status.idle": "2025-09-03T08:51:01.714724Z",
     "shell.execute_reply": "2025-09-03T08:51:01.714184Z"
    },
    "papermill": {
     "duration": 0.076724,
     "end_time": "2025-09-03T08:51:01.715961",
     "exception": false,
     "start_time": "2025-09-03T08:51:01.639237",
     "status": "completed"
    },
    "tags": []
   },
   "outputs": [],
   "source": [
    "from helper_functions import accuracy_fn \n",
    "\n",
    "# setup loss function and optimizer \n",
    "loss_fn = nn.CrossEntropyLoss()\n",
    "optimizer = torch.optim.SGD(\n",
    "    params=model_0.parameters(),\n",
    "    lr=0.1\n",
    ")"
   ]
  },
  {
   "cell_type": "markdown",
   "id": "f14bf700",
   "metadata": {
    "papermill": {
     "duration": 0.010199,
     "end_time": "2025-09-03T08:51:01.736165",
     "exception": false,
     "start_time": "2025-09-03T08:51:01.725966",
     "status": "completed"
    },
    "tags": []
   },
   "source": [
    "### 3.2 Creating a function to time our experiments\n",
    "\n",
    "ML is very experimental. Two of the main things we want to track are:\n",
    "1. Model's performance (e.g. loss and accuracy)\n",
    "2. How fast it runs "
   ]
  },
  {
   "cell_type": "code",
   "execution_count": 26,
   "id": "d3395175",
   "metadata": {
    "execution": {
     "iopub.execute_input": "2025-09-03T08:51:01.756870Z",
     "iopub.status.busy": "2025-09-03T08:51:01.756659Z",
     "iopub.status.idle": "2025-09-03T08:51:01.760588Z",
     "shell.execute_reply": "2025-09-03T08:51:01.760049Z"
    },
    "papermill": {
     "duration": 0.015459,
     "end_time": "2025-09-03T08:51:01.761571",
     "exception": false,
     "start_time": "2025-09-03T08:51:01.746112",
     "status": "completed"
    },
    "tags": []
   },
   "outputs": [],
   "source": [
    "from timeit import default_timer as timer \n",
    "def print_train_time(\n",
    "    start: float, \n",
    "    end: float, \n",
    "    device: torch.device = None\n",
    "):\n",
    "    \"\"\"\n",
    "    Prints difference between start and end time\n",
    "    \"\"\"\n",
    "    total_time = end - start\n",
    "    print(f\"Train time on {device}: {total_time:.3f} seconds\")\n",
    "    return total_time "
   ]
  },
  {
   "cell_type": "code",
   "execution_count": 27,
   "id": "cf286ede",
   "metadata": {
    "execution": {
     "iopub.execute_input": "2025-09-03T08:51:01.782551Z",
     "iopub.status.busy": "2025-09-03T08:51:01.782347Z",
     "iopub.status.idle": "2025-09-03T08:51:01.787504Z",
     "shell.execute_reply": "2025-09-03T08:51:01.786920Z"
    },
    "papermill": {
     "duration": 0.016608,
     "end_time": "2025-09-03T08:51:01.788528",
     "exception": false,
     "start_time": "2025-09-03T08:51:01.771920",
     "status": "completed"
    },
    "tags": []
   },
   "outputs": [
    {
     "name": "stdout",
     "output_type": "stream",
     "text": [
      "Train time on cpu: 0.000 seconds\n"
     ]
    },
    {
     "data": {
      "text/plain": [
       "2.5002000029417104e-05"
      ]
     },
     "execution_count": 27,
     "metadata": {},
     "output_type": "execute_result"
    }
   ],
   "source": [
    "start_time = timer()\n",
    "# code \n",
    "end_time = timer()\n",
    "print_train_time(start_time, end_time, \"cpu\")"
   ]
  },
  {
   "cell_type": "markdown",
   "id": "db3015f8",
   "metadata": {
    "papermill": {
     "duration": 0.00975,
     "end_time": "2025-09-03T08:51:01.808259",
     "exception": false,
     "start_time": "2025-09-03T08:51:01.798509",
     "status": "completed"
    },
    "tags": []
   },
   "source": [
    "### 3.3 Creating a training loop and training the model on batches of data \n",
    "1. Loop through epochs\n",
    "2. Loop through training batches, perform training steps, calculate the train loss *per batch*\n",
    "3. Loop through testing batches, perform testing steps, calculate the test loss *per batch*\n",
    "4. Print out what's happning\n",
    "5. Time it all\n",
    "\n",
    "The **optimizer** will update a model's parameters **once per batch rather than once per epoch**"
   ]
  },
  {
   "cell_type": "code",
   "execution_count": 28,
   "id": "488cec80",
   "metadata": {
    "execution": {
     "iopub.execute_input": "2025-09-03T08:51:01.828880Z",
     "iopub.status.busy": "2025-09-03T08:51:01.828681Z",
     "iopub.status.idle": "2025-09-03T08:51:24.988304Z",
     "shell.execute_reply": "2025-09-03T08:51:24.987586Z"
    },
    "papermill": {
     "duration": 23.171385,
     "end_time": "2025-09-03T08:51:24.989573",
     "exception": false,
     "start_time": "2025-09-03T08:51:01.818188",
     "status": "completed"
    },
    "tags": []
   },
   "outputs": [
    {
     "data": {
      "application/vnd.jupyter.widget-view+json": {
       "model_id": "668e424c5f6c406f96e058c8a811c4d1",
       "version_major": 2,
       "version_minor": 0
      },
      "text/plain": [
       "  0%|          | 0/3 [00:00<?, ?it/s]"
      ]
     },
     "metadata": {},
     "output_type": "display_data"
    },
    {
     "name": "stdout",
     "output_type": "stream",
     "text": [
      "Epoch: 0\n",
      "-------\n",
      "Looked at 0/60000 samples\n",
      "Looked at 12800/60000 samples\n",
      "Looked at 25600/60000 samples\n",
      "Looked at 38400/60000 samples\n",
      "Looked at 51200/60000 samples\n",
      "\n",
      "Train loss: 0.59039 | Test loss: 0.50954, Test acc: 82.04%\n",
      "\n",
      "Epoch: 1\n",
      "-------\n",
      "Looked at 0/60000 samples\n",
      "Looked at 12800/60000 samples\n",
      "Looked at 25600/60000 samples\n",
      "Looked at 38400/60000 samples\n",
      "Looked at 51200/60000 samples\n",
      "\n",
      "Train loss: 0.47633 | Test loss: 0.47989, Test acc: 83.20%\n",
      "\n",
      "Epoch: 2\n",
      "-------\n",
      "Looked at 0/60000 samples\n",
      "Looked at 12800/60000 samples\n",
      "Looked at 25600/60000 samples\n",
      "Looked at 38400/60000 samples\n",
      "Looked at 51200/60000 samples\n",
      "\n",
      "Train loss: 0.45503 | Test loss: 0.47664, Test acc: 83.43%\n",
      "\n",
      "Train time on cpu: 23.024 seconds\n"
     ]
    }
   ],
   "source": [
    "# Import tqdm for progress bar\n",
    "from tqdm.auto import tqdm\n",
    "\n",
    "# Set the seed and start the timer\n",
    "torch.manual_seed(42)\n",
    "train_time_start_on_cpu = timer()\n",
    "\n",
    "# Set the number of epochs (we'll keep this small for faster training times)\n",
    "epochs = 3\n",
    "\n",
    "# Create training and testing loop\n",
    "for epoch in tqdm(range(epochs)):\n",
    "    print(f\"Epoch: {epoch}\\n-------\")\n",
    "    ### Training\n",
    "    train_loss = 0\n",
    "    # Add a loop to loop through training batches\n",
    "    for batch, (X, y) in enumerate(train_dataloader):\n",
    "        model_0.train() \n",
    "        # 1. Forward pass\n",
    "        y_pred = model_0(X)\n",
    "\n",
    "        # 2. Calculate loss (per batch)\n",
    "        loss = loss_fn(y_pred, y)\n",
    "        train_loss += loss # accumulatively add up the loss per epoch \n",
    "\n",
    "        # 3. Optimizer zero grad\n",
    "        optimizer.zero_grad()\n",
    "\n",
    "        # 4. Loss backward\n",
    "        loss.backward()\n",
    "\n",
    "        # 5. Optimizer step\n",
    "        optimizer.step()\n",
    "\n",
    "        # Print out how many samples have been seen\n",
    "        if batch % 400 == 0:\n",
    "            print(f\"Looked at {batch * len(X)}/{len(train_dataloader.dataset)} samples\")\n",
    "\n",
    "    # Divide total train loss by length of train dataloader (average loss per batch per epoch)\n",
    "    train_loss /= len(train_dataloader)\n",
    "    \n",
    "    ### Testing\n",
    "    # Setup variables for accumulatively adding up loss and accuracy \n",
    "    test_loss, test_acc = 0, 0 \n",
    "    model_0.eval()\n",
    "    with torch.inference_mode():\n",
    "        for X, y in test_dataloader:\n",
    "            # 1. Forward pass\n",
    "            test_pred = model_0(X)\n",
    "           \n",
    "            # 2. Calculate loss (accumulatively)\n",
    "            test_loss += loss_fn(test_pred, y) # accumulatively add up the loss per epoch\n",
    "\n",
    "            # 3. Calculate accuracy (preds need to be same as y_true)\n",
    "            test_acc += accuracy_fn(y_true=y, y_pred=test_pred.argmax(dim=1))\n",
    "        \n",
    "        # Calculations on test metrics need to happen inside torch.inference_mode()\n",
    "        # Divide total test loss by length of test dataloader (per batch)\n",
    "        test_loss /= len(test_dataloader)\n",
    "\n",
    "        # Divide total accuracy by length of test dataloader (per batch)\n",
    "        test_acc /= len(test_dataloader)\n",
    "\n",
    "    ## Print out what's happening\n",
    "    print(f\"\\nTrain loss: {train_loss:.5f} | Test loss: {test_loss:.5f}, Test acc: {test_acc:.2f}%\\n\")\n",
    "\n",
    "# Calculate training time      \n",
    "train_time_end_on_cpu = timer()\n",
    "total_train_time_model_0 = print_train_time(start=train_time_start_on_cpu, \n",
    "                                           end=train_time_end_on_cpu,\n",
    "                                           device=str(next(model_0.parameters()).device))"
   ]
  },
  {
   "cell_type": "markdown",
   "id": "ed231b1a",
   "metadata": {
    "papermill": {
     "duration": 0.010711,
     "end_time": "2025-09-03T08:51:25.011692",
     "exception": false,
     "start_time": "2025-09-03T08:51:25.000981",
     "status": "completed"
    },
    "tags": []
   },
   "source": [
    "## 4. Make predicions and get model_0 results"
   ]
  },
  {
   "cell_type": "code",
   "execution_count": 29,
   "id": "e50323ab",
   "metadata": {
    "execution": {
     "iopub.execute_input": "2025-09-03T08:51:25.033913Z",
     "iopub.status.busy": "2025-09-03T08:51:25.033703Z",
     "iopub.status.idle": "2025-09-03T08:51:25.977496Z",
     "shell.execute_reply": "2025-09-03T08:51:25.976889Z"
    },
    "papermill": {
     "duration": 0.956388,
     "end_time": "2025-09-03T08:51:25.978705",
     "exception": false,
     "start_time": "2025-09-03T08:51:25.022317",
     "status": "completed"
    },
    "tags": []
   },
   "outputs": [
    {
     "data": {
      "text/plain": [
       "{'model_name': 'FashionMNISTModelV0',\n",
       " 'model_loss': 0.47663894295692444,\n",
       " 'model_acc': 83.42651757188499}"
      ]
     },
     "execution_count": 29,
     "metadata": {},
     "output_type": "execute_result"
    }
   ],
   "source": [
    "torch.manual_seed(42)\n",
    "def eval_model(model: torch.nn.Module, \n",
    "               data_loader: torch.utils.data.DataLoader, \n",
    "               loss_fn: torch.nn.Module, \n",
    "               accuracy_fn):\n",
    "    \"\"\"Returns a dictionary containing the results of model predicting on data_loader.\n",
    "\n",
    "    Args:\n",
    "        model (torch.nn.Module): A PyTorch model capable of making predictions on data_loader.\n",
    "        data_loader (torch.utils.data.DataLoader): The target dataset to predict on.\n",
    "        loss_fn (torch.nn.Module): The loss function of model.\n",
    "        accuracy_fn: An accuracy function to compare the models predictions to the truth labels.\n",
    "\n",
    "    Returns:\n",
    "        (dict): Results of model making predictions on data_loader.\n",
    "    \"\"\"\n",
    "    loss, acc = 0, 0\n",
    "    model.eval()\n",
    "    with torch.inference_mode():\n",
    "        for X, y in data_loader:\n",
    "            # Make predictions with the model\n",
    "            y_pred = model(X)\n",
    "            \n",
    "            # Accumulate the loss and accuracy values per batch\n",
    "            loss += loss_fn(y_pred, y)\n",
    "            acc += accuracy_fn(y_true=y, \n",
    "                                y_pred=y_pred.argmax(dim=1)) # For accuracy, need the prediction labels (logits -> pred_prob -> pred_labels)\n",
    "        \n",
    "        # Scale loss and acc to find the average loss/acc per batch\n",
    "        loss /= len(data_loader)\n",
    "        acc /= len(data_loader)\n",
    "        \n",
    "    return {\"model_name\": model.__class__.__name__, # only works when model was created with a class\n",
    "            \"model_loss\": loss.item(),\n",
    "            \"model_acc\": acc}\n",
    "\n",
    "# Calculate model 0 results on test dataset\n",
    "model_0_results = eval_model(model=model_0, data_loader=test_dataloader,\n",
    "    loss_fn=loss_fn, accuracy_fn=accuracy_fn\n",
    ")\n",
    "model_0_results"
   ]
  },
  {
   "cell_type": "markdown",
   "id": "f90ae9d8",
   "metadata": {
    "papermill": {
     "duration": 0.010607,
     "end_time": "2025-09-03T08:51:26.000779",
     "exception": false,
     "start_time": "2025-09-03T08:51:25.990172",
     "status": "completed"
    },
    "tags": []
   },
   "source": [
    "### 5. Setup device agnostic-code (for using a GPU if there is one available)"
   ]
  },
  {
   "cell_type": "code",
   "execution_count": 30,
   "id": "329150c8",
   "metadata": {
    "execution": {
     "iopub.execute_input": "2025-09-03T08:51:26.022896Z",
     "iopub.status.busy": "2025-09-03T08:51:26.022669Z",
     "iopub.status.idle": "2025-09-03T08:51:26.197697Z",
     "shell.execute_reply": "2025-09-03T08:51:26.196950Z"
    },
    "papermill": {
     "duration": 0.187625,
     "end_time": "2025-09-03T08:51:26.199042",
     "exception": false,
     "start_time": "2025-09-03T08:51:26.011417",
     "status": "completed"
    },
    "tags": []
   },
   "outputs": [
    {
     "name": "stdout",
     "output_type": "stream",
     "text": [
      "Wed Sep  3 08:51:26 2025       \r\n",
      "+-----------------------------------------------------------------------------------------+\r\n",
      "| NVIDIA-SMI 560.35.03              Driver Version: 560.35.03      CUDA Version: 12.6     |\r\n",
      "|-----------------------------------------+------------------------+----------------------+\r\n",
      "| GPU  Name                 Persistence-M | Bus-Id          Disp.A | Volatile Uncorr. ECC |\r\n",
      "| Fan  Temp   Perf          Pwr:Usage/Cap |           Memory-Usage | GPU-Util  Compute M. |\r\n",
      "|                                         |                        |               MIG M. |\r\n",
      "|=========================================+========================+======================|\r\n",
      "|   0  Tesla P100-PCIE-16GB           Off |   00000000:00:04.0 Off |                    0 |\r\n",
      "| N/A   37C    P0             26W /  250W |       3MiB /  16384MiB |      0%      Default |\r\n",
      "|                                         |                        |                  N/A |\r\n",
      "+-----------------------------------------+------------------------+----------------------+\r\n",
      "                                                                                         \r\n",
      "+-----------------------------------------------------------------------------------------+\r\n",
      "| Processes:                                                                              |\r\n",
      "|  GPU   GI   CI        PID   Type   Process name                              GPU Memory |\r\n",
      "|        ID   ID                                                               Usage      |\r\n",
      "|=========================================================================================|\r\n",
      "|  No running processes found                                                             |\r\n",
      "+-----------------------------------------------------------------------------------------+\r\n"
     ]
    }
   ],
   "source": [
    "!nvidia-smi"
   ]
  },
  {
   "cell_type": "code",
   "execution_count": 31,
   "id": "c2d0e4b6",
   "metadata": {
    "execution": {
     "iopub.execute_input": "2025-09-03T08:51:26.222614Z",
     "iopub.status.busy": "2025-09-03T08:51:26.222379Z",
     "iopub.status.idle": "2025-09-03T08:51:26.227595Z",
     "shell.execute_reply": "2025-09-03T08:51:26.226865Z"
    },
    "papermill": {
     "duration": 0.018233,
     "end_time": "2025-09-03T08:51:26.228682",
     "exception": false,
     "start_time": "2025-09-03T08:51:26.210449",
     "status": "completed"
    },
    "tags": []
   },
   "outputs": [
    {
     "data": {
      "text/plain": [
       "True"
      ]
     },
     "execution_count": 31,
     "metadata": {},
     "output_type": "execute_result"
    }
   ],
   "source": [
    "torch.cuda.is_available()"
   ]
  },
  {
   "cell_type": "code",
   "execution_count": 32,
   "id": "9d7cfb5f",
   "metadata": {
    "execution": {
     "iopub.execute_input": "2025-09-03T08:51:26.252776Z",
     "iopub.status.busy": "2025-09-03T08:51:26.252557Z",
     "iopub.status.idle": "2025-09-03T08:51:26.256865Z",
     "shell.execute_reply": "2025-09-03T08:51:26.256378Z"
    },
    "papermill": {
     "duration": 0.017796,
     "end_time": "2025-09-03T08:51:26.257807",
     "exception": false,
     "start_time": "2025-09-03T08:51:26.240011",
     "status": "completed"
    },
    "tags": []
   },
   "outputs": [
    {
     "data": {
      "text/plain": [
       "'cuda'"
      ]
     },
     "execution_count": 32,
     "metadata": {},
     "output_type": "execute_result"
    }
   ],
   "source": [
    "# setup device-agnostic code\n",
    "import torch \n",
    "\n",
    "device = \"cuda\" if torch.cuda.is_available() else \"cpu\"\n",
    "device"
   ]
  },
  {
   "cell_type": "markdown",
   "id": "91372e0e",
   "metadata": {
    "papermill": {
     "duration": 0.011018,
     "end_time": "2025-09-03T08:51:26.279798",
     "exception": false,
     "start_time": "2025-09-03T08:51:26.268780",
     "status": "completed"
    },
    "tags": []
   },
   "source": [
    "## 6. Model 1 : Building a better model with non-linearity \n",
    "\n",
    "Let's leverage non-linearity's power"
   ]
  },
  {
   "cell_type": "code",
   "execution_count": 33,
   "id": "07be0ff8",
   "metadata": {
    "execution": {
     "iopub.execute_input": "2025-09-03T08:51:26.302845Z",
     "iopub.status.busy": "2025-09-03T08:51:26.302639Z",
     "iopub.status.idle": "2025-09-03T08:51:26.307241Z",
     "shell.execute_reply": "2025-09-03T08:51:26.306667Z"
    },
    "papermill": {
     "duration": 0.01747,
     "end_time": "2025-09-03T08:51:26.308252",
     "exception": false,
     "start_time": "2025-09-03T08:51:26.290782",
     "status": "completed"
    },
    "tags": []
   },
   "outputs": [],
   "source": [
    "# create a model with non-linear and linear layers \n",
    "\n",
    "class FashionMNISTModelV1(nn.Module):\n",
    "    def __init__(self, input_shape: int, hidden_units: int, output_shape: int):\n",
    "        super().__init__() \n",
    "        self.layer_stark = nn.Sequential(\n",
    "            nn.Flatten(), \n",
    "            nn.Linear(\n",
    "                in_features = input_shape, \n",
    "                out_features = hidden_units\n",
    "            ),\n",
    "            nn.ReLU(),\n",
    "            nn.Linear(\n",
    "                in_features = hidden_units, \n",
    "                out_features = output_shape\n",
    "            ),\n",
    "            nn.ReLU(),\n",
    "        )\n",
    "\n",
    "    def forward(self, x: torch.Tensor):\n",
    "        return self.layer_stark(x)\n"
   ]
  },
  {
   "cell_type": "code",
   "execution_count": 34,
   "id": "cf4c194e",
   "metadata": {
    "execution": {
     "iopub.execute_input": "2025-09-03T08:51:26.330803Z",
     "iopub.status.busy": "2025-09-03T08:51:26.330611Z",
     "iopub.status.idle": "2025-09-03T08:51:26.334937Z",
     "shell.execute_reply": "2025-09-03T08:51:26.334295Z"
    },
    "papermill": {
     "duration": 0.017043,
     "end_time": "2025-09-03T08:51:26.336148",
     "exception": false,
     "start_time": "2025-09-03T08:51:26.319105",
     "status": "completed"
    },
    "tags": []
   },
   "outputs": [
    {
     "data": {
      "text/plain": [
       "device(type='cpu')"
      ]
     },
     "execution_count": 34,
     "metadata": {},
     "output_type": "execute_result"
    }
   ],
   "source": [
    "next(model_0.parameters()).device"
   ]
  },
  {
   "cell_type": "code",
   "execution_count": 35,
   "id": "4bcbcc58",
   "metadata": {
    "execution": {
     "iopub.execute_input": "2025-09-03T08:51:26.364909Z",
     "iopub.status.busy": "2025-09-03T08:51:26.364697Z",
     "iopub.status.idle": "2025-09-03T08:51:26.369222Z",
     "shell.execute_reply": "2025-09-03T08:51:26.368662Z"
    },
    "papermill": {
     "duration": 0.023014,
     "end_time": "2025-09-03T08:51:26.370746",
     "exception": false,
     "start_time": "2025-09-03T08:51:26.347732",
     "status": "completed"
    },
    "tags": []
   },
   "outputs": [
    {
     "data": {
      "text/plain": [
       "'cuda'"
      ]
     },
     "execution_count": 35,
     "metadata": {},
     "output_type": "execute_result"
    }
   ],
   "source": [
    "device"
   ]
  },
  {
   "cell_type": "code",
   "execution_count": 36,
   "id": "7348cf7a",
   "metadata": {
    "execution": {
     "iopub.execute_input": "2025-09-03T08:51:26.395722Z",
     "iopub.status.busy": "2025-09-03T08:51:26.395520Z",
     "iopub.status.idle": "2025-09-03T08:51:26.554032Z",
     "shell.execute_reply": "2025-09-03T08:51:26.553366Z"
    },
    "papermill": {
     "duration": 0.171906,
     "end_time": "2025-09-03T08:51:26.555282",
     "exception": false,
     "start_time": "2025-09-03T08:51:26.383376",
     "status": "completed"
    },
    "tags": []
   },
   "outputs": [
    {
     "data": {
      "text/plain": [
       "device(type='cuda', index=0)"
      ]
     },
     "execution_count": 36,
     "metadata": {},
     "output_type": "execute_result"
    }
   ],
   "source": [
    "model_1 = FashionMNISTModelV1(\n",
    "    input_shape = 28*28, # 784\n",
    "    hidden_units = 10, \n",
    "    output_shape = len(class_names)\n",
    ").to(device)\n",
    "\n",
    "next(model_1.parameters()).device"
   ]
  },
  {
   "cell_type": "markdown",
   "id": "635db80c",
   "metadata": {
    "papermill": {
     "duration": 0.01095,
     "end_time": "2025-09-03T08:51:26.578108",
     "exception": false,
     "start_time": "2025-09-03T08:51:26.567158",
     "status": "completed"
    },
    "tags": []
   },
   "source": [
    "### 6.1 Setup loss, optimizer and evaluation metrics"
   ]
  },
  {
   "cell_type": "code",
   "execution_count": 37,
   "id": "dd69c457",
   "metadata": {
    "execution": {
     "iopub.execute_input": "2025-09-03T08:51:26.601739Z",
     "iopub.status.busy": "2025-09-03T08:51:26.601536Z",
     "iopub.status.idle": "2025-09-03T08:51:26.605888Z",
     "shell.execute_reply": "2025-09-03T08:51:26.605168Z"
    },
    "papermill": {
     "duration": 0.017448,
     "end_time": "2025-09-03T08:51:26.607081",
     "exception": false,
     "start_time": "2025-09-03T08:51:26.589633",
     "status": "completed"
    },
    "tags": []
   },
   "outputs": [],
   "source": [
    "from helper_functions import accuracy_fn \n",
    "\n",
    "loss_fn = nn.CrossEntropyLoss()\n",
    "optimizer = torch.optim.SGD(\n",
    "    params=model_1.parameters(),\n",
    "    lr=0.1\n",
    ")"
   ]
  },
  {
   "cell_type": "code",
   "execution_count": null,
   "id": "fa4f26f9",
   "metadata": {
    "papermill": {
     "duration": 0.011019,
     "end_time": "2025-09-03T08:51:26.629201",
     "exception": false,
     "start_time": "2025-09-03T08:51:26.618182",
     "status": "completed"
    },
    "tags": []
   },
   "outputs": [],
   "source": []
  },
  {
   "cell_type": "code",
   "execution_count": null,
   "id": "9c6e567c",
   "metadata": {
    "papermill": {
     "duration": 0.011028,
     "end_time": "2025-09-03T08:51:26.651126",
     "exception": false,
     "start_time": "2025-09-03T08:51:26.640098",
     "status": "completed"
    },
    "tags": []
   },
   "outputs": [],
   "source": []
  },
  {
   "cell_type": "code",
   "execution_count": null,
   "id": "1848e0d6",
   "metadata": {
    "papermill": {
     "duration": 0.011243,
     "end_time": "2025-09-03T08:51:26.674194",
     "exception": false,
     "start_time": "2025-09-03T08:51:26.662951",
     "status": "completed"
    },
    "tags": []
   },
   "outputs": [],
   "source": []
  },
  {
   "cell_type": "code",
   "execution_count": null,
   "id": "31aefec4",
   "metadata": {
    "papermill": {
     "duration": 0.011136,
     "end_time": "2025-09-03T08:51:26.696267",
     "exception": false,
     "start_time": "2025-09-03T08:51:26.685131",
     "status": "completed"
    },
    "tags": []
   },
   "outputs": [],
   "source": []
  }
 ],
 "metadata": {
  "kaggle": {
   "accelerator": "gpu",
   "dataSources": [],
   "dockerImageVersionId": 31089,
   "isGpuEnabled": true,
   "isInternetEnabled": true,
   "language": "python",
   "sourceType": "notebook"
  },
  "kernelspec": {
   "display_name": "Python 3",
   "language": "python",
   "name": "python3"
  },
  "language_info": {
   "codemirror_mode": {
    "name": "ipython",
    "version": 3
   },
   "file_extension": ".py",
   "mimetype": "text/x-python",
   "name": "python",
   "nbconvert_exporter": "python",
   "pygments_lexer": "ipython3",
   "version": "3.11.13"
  },
  "papermill": {
   "default_parameters": {},
   "duration": 48.585011,
   "end_time": "2025-09-03T08:51:28.227670",
   "environment_variables": {},
   "exception": null,
   "input_path": "__notebook__.ipynb",
   "output_path": "__notebook__.ipynb",
   "parameters": {},
   "start_time": "2025-09-03T08:50:39.642659",
   "version": "2.6.0"
  },
  "widgets": {
   "application/vnd.jupyter.widget-state+json": {
    "state": {
     "025db966bc4446b38d3a964432aa1a97": {
      "model_module": "@jupyter-widgets/controls",
      "model_module_version": "2.0.0",
      "model_name": "ProgressStyleModel",
      "state": {
       "_model_module": "@jupyter-widgets/controls",
       "_model_module_version": "2.0.0",
       "_model_name": "ProgressStyleModel",
       "_view_count": null,
       "_view_module": "@jupyter-widgets/base",
       "_view_module_version": "2.0.0",
       "_view_name": "StyleView",
       "bar_color": null,
       "description_width": ""
      }
     },
     "0b30a6846bca44fda73c51fdd2ed99ec": {
      "model_module": "@jupyter-widgets/controls",
      "model_module_version": "2.0.0",
      "model_name": "HTMLModel",
      "state": {
       "_dom_classes": [],
       "_model_module": "@jupyter-widgets/controls",
       "_model_module_version": "2.0.0",
       "_model_name": "HTMLModel",
       "_view_count": null,
       "_view_module": "@jupyter-widgets/controls",
       "_view_module_version": "2.0.0",
       "_view_name": "HTMLView",
       "description": "",
       "description_allow_html": false,
       "layout": "IPY_MODEL_7ade279e8be94ebea9958b3aefbfe57b",
       "placeholder": "​",
       "style": "IPY_MODEL_bbb7ecf85d144019b95cf0c3ad8d1fb3",
       "tabbable": null,
       "tooltip": null,
       "value": " 3/3 [00:23&lt;00:00,  7.65s/it]"
      }
     },
     "41b01fc94d1749559e02be009cda9a9d": {
      "model_module": "@jupyter-widgets/base",
      "model_module_version": "2.0.0",
      "model_name": "LayoutModel",
      "state": {
       "_model_module": "@jupyter-widgets/base",
       "_model_module_version": "2.0.0",
       "_model_name": "LayoutModel",
       "_view_count": null,
       "_view_module": "@jupyter-widgets/base",
       "_view_module_version": "2.0.0",
       "_view_name": "LayoutView",
       "align_content": null,
       "align_items": null,
       "align_self": null,
       "border_bottom": null,
       "border_left": null,
       "border_right": null,
       "border_top": null,
       "bottom": null,
       "display": null,
       "flex": null,
       "flex_flow": null,
       "grid_area": null,
       "grid_auto_columns": null,
       "grid_auto_flow": null,
       "grid_auto_rows": null,
       "grid_column": null,
       "grid_gap": null,
       "grid_row": null,
       "grid_template_areas": null,
       "grid_template_columns": null,
       "grid_template_rows": null,
       "height": null,
       "justify_content": null,
       "justify_items": null,
       "left": null,
       "margin": null,
       "max_height": null,
       "max_width": null,
       "min_height": null,
       "min_width": null,
       "object_fit": null,
       "object_position": null,
       "order": null,
       "overflow": null,
       "padding": null,
       "right": null,
       "top": null,
       "visibility": null,
       "width": null
      }
     },
     "4c9f23fd796b40d7a84878792cadc03a": {
      "model_module": "@jupyter-widgets/base",
      "model_module_version": "2.0.0",
      "model_name": "LayoutModel",
      "state": {
       "_model_module": "@jupyter-widgets/base",
       "_model_module_version": "2.0.0",
       "_model_name": "LayoutModel",
       "_view_count": null,
       "_view_module": "@jupyter-widgets/base",
       "_view_module_version": "2.0.0",
       "_view_name": "LayoutView",
       "align_content": null,
       "align_items": null,
       "align_self": null,
       "border_bottom": null,
       "border_left": null,
       "border_right": null,
       "border_top": null,
       "bottom": null,
       "display": null,
       "flex": null,
       "flex_flow": null,
       "grid_area": null,
       "grid_auto_columns": null,
       "grid_auto_flow": null,
       "grid_auto_rows": null,
       "grid_column": null,
       "grid_gap": null,
       "grid_row": null,
       "grid_template_areas": null,
       "grid_template_columns": null,
       "grid_template_rows": null,
       "height": null,
       "justify_content": null,
       "justify_items": null,
       "left": null,
       "margin": null,
       "max_height": null,
       "max_width": null,
       "min_height": null,
       "min_width": null,
       "object_fit": null,
       "object_position": null,
       "order": null,
       "overflow": null,
       "padding": null,
       "right": null,
       "top": null,
       "visibility": null,
       "width": null
      }
     },
     "653af662cba8432db88b686bd163613a": {
      "model_module": "@jupyter-widgets/base",
      "model_module_version": "2.0.0",
      "model_name": "LayoutModel",
      "state": {
       "_model_module": "@jupyter-widgets/base",
       "_model_module_version": "2.0.0",
       "_model_name": "LayoutModel",
       "_view_count": null,
       "_view_module": "@jupyter-widgets/base",
       "_view_module_version": "2.0.0",
       "_view_name": "LayoutView",
       "align_content": null,
       "align_items": null,
       "align_self": null,
       "border_bottom": null,
       "border_left": null,
       "border_right": null,
       "border_top": null,
       "bottom": null,
       "display": null,
       "flex": null,
       "flex_flow": null,
       "grid_area": null,
       "grid_auto_columns": null,
       "grid_auto_flow": null,
       "grid_auto_rows": null,
       "grid_column": null,
       "grid_gap": null,
       "grid_row": null,
       "grid_template_areas": null,
       "grid_template_columns": null,
       "grid_template_rows": null,
       "height": null,
       "justify_content": null,
       "justify_items": null,
       "left": null,
       "margin": null,
       "max_height": null,
       "max_width": null,
       "min_height": null,
       "min_width": null,
       "object_fit": null,
       "object_position": null,
       "order": null,
       "overflow": null,
       "padding": null,
       "right": null,
       "top": null,
       "visibility": null,
       "width": null
      }
     },
     "668e424c5f6c406f96e058c8a811c4d1": {
      "model_module": "@jupyter-widgets/controls",
      "model_module_version": "2.0.0",
      "model_name": "HBoxModel",
      "state": {
       "_dom_classes": [],
       "_model_module": "@jupyter-widgets/controls",
       "_model_module_version": "2.0.0",
       "_model_name": "HBoxModel",
       "_view_count": null,
       "_view_module": "@jupyter-widgets/controls",
       "_view_module_version": "2.0.0",
       "_view_name": "HBoxView",
       "box_style": "",
       "children": [
        "IPY_MODEL_b3a3a01796204e26b36fa415233fc528",
        "IPY_MODEL_c9ae3302b21b46feac8a3612e067b0dc",
        "IPY_MODEL_0b30a6846bca44fda73c51fdd2ed99ec"
       ],
       "layout": "IPY_MODEL_653af662cba8432db88b686bd163613a",
       "tabbable": null,
       "tooltip": null
      }
     },
     "7ade279e8be94ebea9958b3aefbfe57b": {
      "model_module": "@jupyter-widgets/base",
      "model_module_version": "2.0.0",
      "model_name": "LayoutModel",
      "state": {
       "_model_module": "@jupyter-widgets/base",
       "_model_module_version": "2.0.0",
       "_model_name": "LayoutModel",
       "_view_count": null,
       "_view_module": "@jupyter-widgets/base",
       "_view_module_version": "2.0.0",
       "_view_name": "LayoutView",
       "align_content": null,
       "align_items": null,
       "align_self": null,
       "border_bottom": null,
       "border_left": null,
       "border_right": null,
       "border_top": null,
       "bottom": null,
       "display": null,
       "flex": null,
       "flex_flow": null,
       "grid_area": null,
       "grid_auto_columns": null,
       "grid_auto_flow": null,
       "grid_auto_rows": null,
       "grid_column": null,
       "grid_gap": null,
       "grid_row": null,
       "grid_template_areas": null,
       "grid_template_columns": null,
       "grid_template_rows": null,
       "height": null,
       "justify_content": null,
       "justify_items": null,
       "left": null,
       "margin": null,
       "max_height": null,
       "max_width": null,
       "min_height": null,
       "min_width": null,
       "object_fit": null,
       "object_position": null,
       "order": null,
       "overflow": null,
       "padding": null,
       "right": null,
       "top": null,
       "visibility": null,
       "width": null
      }
     },
     "8164e347ac5a4df1b7b5c62b161038fc": {
      "model_module": "@jupyter-widgets/controls",
      "model_module_version": "2.0.0",
      "model_name": "HTMLStyleModel",
      "state": {
       "_model_module": "@jupyter-widgets/controls",
       "_model_module_version": "2.0.0",
       "_model_name": "HTMLStyleModel",
       "_view_count": null,
       "_view_module": "@jupyter-widgets/base",
       "_view_module_version": "2.0.0",
       "_view_name": "StyleView",
       "background": null,
       "description_width": "",
       "font_size": null,
       "text_color": null
      }
     },
     "b3a3a01796204e26b36fa415233fc528": {
      "model_module": "@jupyter-widgets/controls",
      "model_module_version": "2.0.0",
      "model_name": "HTMLModel",
      "state": {
       "_dom_classes": [],
       "_model_module": "@jupyter-widgets/controls",
       "_model_module_version": "2.0.0",
       "_model_name": "HTMLModel",
       "_view_count": null,
       "_view_module": "@jupyter-widgets/controls",
       "_view_module_version": "2.0.0",
       "_view_name": "HTMLView",
       "description": "",
       "description_allow_html": false,
       "layout": "IPY_MODEL_41b01fc94d1749559e02be009cda9a9d",
       "placeholder": "​",
       "style": "IPY_MODEL_8164e347ac5a4df1b7b5c62b161038fc",
       "tabbable": null,
       "tooltip": null,
       "value": "100%"
      }
     },
     "bbb7ecf85d144019b95cf0c3ad8d1fb3": {
      "model_module": "@jupyter-widgets/controls",
      "model_module_version": "2.0.0",
      "model_name": "HTMLStyleModel",
      "state": {
       "_model_module": "@jupyter-widgets/controls",
       "_model_module_version": "2.0.0",
       "_model_name": "HTMLStyleModel",
       "_view_count": null,
       "_view_module": "@jupyter-widgets/base",
       "_view_module_version": "2.0.0",
       "_view_name": "StyleView",
       "background": null,
       "description_width": "",
       "font_size": null,
       "text_color": null
      }
     },
     "c9ae3302b21b46feac8a3612e067b0dc": {
      "model_module": "@jupyter-widgets/controls",
      "model_module_version": "2.0.0",
      "model_name": "FloatProgressModel",
      "state": {
       "_dom_classes": [],
       "_model_module": "@jupyter-widgets/controls",
       "_model_module_version": "2.0.0",
       "_model_name": "FloatProgressModel",
       "_view_count": null,
       "_view_module": "@jupyter-widgets/controls",
       "_view_module_version": "2.0.0",
       "_view_name": "ProgressView",
       "bar_style": "success",
       "description": "",
       "description_allow_html": false,
       "layout": "IPY_MODEL_4c9f23fd796b40d7a84878792cadc03a",
       "max": 3.0,
       "min": 0.0,
       "orientation": "horizontal",
       "style": "IPY_MODEL_025db966bc4446b38d3a964432aa1a97",
       "tabbable": null,
       "tooltip": null,
       "value": 3.0
      }
     }
    },
    "version_major": 2,
    "version_minor": 0
   }
  }
 },
 "nbformat": 4,
 "nbformat_minor": 5
}
