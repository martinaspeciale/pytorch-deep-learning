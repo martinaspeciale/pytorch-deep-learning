{
 "cells": [
  {
   "cell_type": "markdown",
   "id": "df7480df",
   "metadata": {
    "papermill": {
     "duration": 0.013106,
     "end_time": "2025-09-03T12:58:44.569362",
     "exception": false,
     "start_time": "2025-09-03T12:58:44.556256",
     "status": "completed"
    },
    "tags": []
   },
   "source": [
    "# **PyTorch Computer Vision**"
   ]
  },
  {
   "cell_type": "markdown",
   "id": "56943452",
   "metadata": {
    "papermill": {
     "duration": 0.011829,
     "end_time": "2025-09-03T12:58:44.592720",
     "exception": false,
     "start_time": "2025-09-03T12:58:44.580891",
     "status": "completed"
    },
    "tags": []
   },
   "source": [
    "## 0. Computer Vision libraries in Python \n",
    "* `torchvision` : base domain library for PyTorch CV \n",
    "* `torchvision.datasets` : get datasets and data loading functions for CV \n",
    "* `torchvision.models` : get pretrained CV models we can leverage for new problems \n",
    "* `torchvision.transform` : functions for manipulating your vision data (images) to be suitable for use with an ML model\n",
    "* `torch.utils.data.Dataset` : base dataset class for PyTorch \n",
    "* `torch.utils.data.DataLoader` : creates a python iterable over a dataset "
   ]
  },
  {
   "cell_type": "code",
   "execution_count": 1,
   "id": "d7d5204b",
   "metadata": {
    "execution": {
     "iopub.execute_input": "2025-09-03T12:58:44.616051Z",
     "iopub.status.busy": "2025-09-03T12:58:44.615733Z",
     "iopub.status.idle": "2025-09-03T12:58:56.645526Z",
     "shell.execute_reply": "2025-09-03T12:58:56.644427Z"
    },
    "papermill": {
     "duration": 12.043278,
     "end_time": "2025-09-03T12:58:56.647069",
     "exception": false,
     "start_time": "2025-09-03T12:58:44.603791",
     "status": "completed"
    },
    "tags": []
   },
   "outputs": [
    {
     "name": "stdout",
     "output_type": "stream",
     "text": [
      "2.6.0+cu124\n",
      "0.21.0+cu124\n"
     ]
    }
   ],
   "source": [
    "import torch \n",
    "from torch import nn \n",
    "\n",
    "import torchvision \n",
    "from torchvision import datasets \n",
    "from torchvision import transforms \n",
    "from torchvision.transforms import ToTensor \n",
    "\n",
    "import matplotlib.pyplot as plt \n",
    "\n",
    "print(torch.__version__)\n",
    "print(torchvision.__version__)"
   ]
  },
  {
   "cell_type": "markdown",
   "id": "fd43f388",
   "metadata": {
    "papermill": {
     "duration": 0.011188,
     "end_time": "2025-09-03T12:58:56.670118",
     "exception": false,
     "start_time": "2025-09-03T12:58:56.658930",
     "status": "completed"
    },
    "tags": []
   },
   "source": [
    "## 1. Getting a dataset : Fashion MNIST  "
   ]
  },
  {
   "cell_type": "code",
   "execution_count": 2,
   "id": "fb1a66e3",
   "metadata": {
    "execution": {
     "iopub.execute_input": "2025-09-03T12:58:56.693942Z",
     "iopub.status.busy": "2025-09-03T12:58:56.693553Z",
     "iopub.status.idle": "2025-09-03T12:58:58.170184Z",
     "shell.execute_reply": "2025-09-03T12:58:58.169371Z"
    },
    "papermill": {
     "duration": 1.49062,
     "end_time": "2025-09-03T12:58:58.171944",
     "exception": false,
     "start_time": "2025-09-03T12:58:56.681324",
     "status": "completed"
    },
    "tags": []
   },
   "outputs": [
    {
     "name": "stderr",
     "output_type": "stream",
     "text": [
      "100%|██████████| 26.4M/26.4M [00:00<00:00, 115MB/s]\n",
      "100%|██████████| 29.5k/29.5k [00:00<00:00, 4.30MB/s]\n",
      "100%|██████████| 4.42M/4.42M [00:00<00:00, 58.8MB/s]\n",
      "100%|██████████| 5.15k/5.15k [00:00<00:00, 13.9MB/s]\n"
     ]
    }
   ],
   "source": [
    "# setup training data \n",
    "from torchvision import datasets \n",
    "train_data = datasets.FashionMNIST(\n",
    "    root=\"data\", # where to download data to\n",
    "    train=True,  # do we want the training dataset?\n",
    "    download=True, # do we want to download it?\n",
    "    transform=torchvision.transforms.ToTensor(), # how do we want to transform the data\n",
    "    target_transform=None # how do we want to transform the label \n",
    ")\n",
    "\n",
    "test_data = datasets.FashionMNIST(\n",
    "    root=\"data\", \n",
    "    train=False, \n",
    "    download=True,\n",
    "    transform=torchvision.transforms.ToTensor(),\n",
    "    target_transform=None\n",
    ")"
   ]
  },
  {
   "cell_type": "code",
   "execution_count": 3,
   "id": "4b416ffb",
   "metadata": {
    "execution": {
     "iopub.execute_input": "2025-09-03T12:58:58.197891Z",
     "iopub.status.busy": "2025-09-03T12:58:58.197576Z",
     "iopub.status.idle": "2025-09-03T12:58:58.203924Z",
     "shell.execute_reply": "2025-09-03T12:58:58.203064Z"
    },
    "papermill": {
     "duration": 0.020815,
     "end_time": "2025-09-03T12:58:58.205345",
     "exception": false,
     "start_time": "2025-09-03T12:58:58.184530",
     "status": "completed"
    },
    "tags": []
   },
   "outputs": [
    {
     "data": {
      "text/plain": [
       "(60000, 10000)"
      ]
     },
     "execution_count": 3,
     "metadata": {},
     "output_type": "execute_result"
    }
   ],
   "source": [
    "len(train_data), len(test_data)"
   ]
  },
  {
   "cell_type": "code",
   "execution_count": 4,
   "id": "88cee0b0",
   "metadata": {
    "execution": {
     "iopub.execute_input": "2025-09-03T12:58:58.231616Z",
     "iopub.status.busy": "2025-09-03T12:58:58.230774Z",
     "iopub.status.idle": "2025-09-03T12:58:58.267724Z",
     "shell.execute_reply": "2025-09-03T12:58:58.266723Z"
    },
    "papermill": {
     "duration": 0.051484,
     "end_time": "2025-09-03T12:58:58.269227",
     "exception": false,
     "start_time": "2025-09-03T12:58:58.217743",
     "status": "completed"
    },
    "tags": []
   },
   "outputs": [
    {
     "data": {
      "text/plain": [
       "(tensor([[[0.0000, 0.0000, 0.0000, 0.0000, 0.0000, 0.0000, 0.0000, 0.0000,\n",
       "           0.0000, 0.0000, 0.0000, 0.0000, 0.0000, 0.0000, 0.0000, 0.0000,\n",
       "           0.0000, 0.0000, 0.0000, 0.0000, 0.0000, 0.0000, 0.0000, 0.0000,\n",
       "           0.0000, 0.0000, 0.0000, 0.0000],\n",
       "          [0.0000, 0.0000, 0.0000, 0.0000, 0.0000, 0.0000, 0.0000, 0.0000,\n",
       "           0.0000, 0.0000, 0.0000, 0.0000, 0.0000, 0.0000, 0.0000, 0.0000,\n",
       "           0.0000, 0.0000, 0.0000, 0.0000, 0.0000, 0.0000, 0.0000, 0.0000,\n",
       "           0.0000, 0.0000, 0.0000, 0.0000],\n",
       "          [0.0000, 0.0000, 0.0000, 0.0000, 0.0000, 0.0000, 0.0000, 0.0000,\n",
       "           0.0000, 0.0000, 0.0000, 0.0000, 0.0000, 0.0000, 0.0000, 0.0000,\n",
       "           0.0000, 0.0000, 0.0000, 0.0000, 0.0000, 0.0000, 0.0000, 0.0000,\n",
       "           0.0000, 0.0000, 0.0000, 0.0000],\n",
       "          [0.0000, 0.0000, 0.0000, 0.0000, 0.0000, 0.0000, 0.0000, 0.0000,\n",
       "           0.0000, 0.0000, 0.0000, 0.0000, 0.0039, 0.0000, 0.0000, 0.0510,\n",
       "           0.2863, 0.0000, 0.0000, 0.0039, 0.0157, 0.0000, 0.0000, 0.0000,\n",
       "           0.0000, 0.0039, 0.0039, 0.0000],\n",
       "          [0.0000, 0.0000, 0.0000, 0.0000, 0.0000, 0.0000, 0.0000, 0.0000,\n",
       "           0.0000, 0.0000, 0.0000, 0.0000, 0.0118, 0.0000, 0.1412, 0.5333,\n",
       "           0.4980, 0.2431, 0.2118, 0.0000, 0.0000, 0.0000, 0.0039, 0.0118,\n",
       "           0.0157, 0.0000, 0.0000, 0.0118],\n",
       "          [0.0000, 0.0000, 0.0000, 0.0000, 0.0000, 0.0000, 0.0000, 0.0000,\n",
       "           0.0000, 0.0000, 0.0000, 0.0000, 0.0235, 0.0000, 0.4000, 0.8000,\n",
       "           0.6902, 0.5255, 0.5647, 0.4824, 0.0902, 0.0000, 0.0000, 0.0000,\n",
       "           0.0000, 0.0471, 0.0392, 0.0000],\n",
       "          [0.0000, 0.0000, 0.0000, 0.0000, 0.0000, 0.0000, 0.0000, 0.0000,\n",
       "           0.0000, 0.0000, 0.0000, 0.0000, 0.0000, 0.0000, 0.6078, 0.9255,\n",
       "           0.8118, 0.6980, 0.4196, 0.6118, 0.6314, 0.4275, 0.2510, 0.0902,\n",
       "           0.3020, 0.5098, 0.2824, 0.0588],\n",
       "          [0.0000, 0.0000, 0.0000, 0.0000, 0.0000, 0.0000, 0.0000, 0.0000,\n",
       "           0.0000, 0.0000, 0.0000, 0.0039, 0.0000, 0.2706, 0.8118, 0.8745,\n",
       "           0.8549, 0.8471, 0.8471, 0.6392, 0.4980, 0.4745, 0.4784, 0.5725,\n",
       "           0.5529, 0.3451, 0.6745, 0.2588],\n",
       "          [0.0000, 0.0000, 0.0000, 0.0000, 0.0000, 0.0000, 0.0000, 0.0000,\n",
       "           0.0000, 0.0039, 0.0039, 0.0039, 0.0000, 0.7843, 0.9098, 0.9098,\n",
       "           0.9137, 0.8980, 0.8745, 0.8745, 0.8431, 0.8353, 0.6431, 0.4980,\n",
       "           0.4824, 0.7686, 0.8980, 0.0000],\n",
       "          [0.0000, 0.0000, 0.0000, 0.0000, 0.0000, 0.0000, 0.0000, 0.0000,\n",
       "           0.0000, 0.0000, 0.0000, 0.0000, 0.0000, 0.7176, 0.8824, 0.8471,\n",
       "           0.8745, 0.8941, 0.9216, 0.8902, 0.8784, 0.8706, 0.8784, 0.8667,\n",
       "           0.8745, 0.9608, 0.6784, 0.0000],\n",
       "          [0.0000, 0.0000, 0.0000, 0.0000, 0.0000, 0.0000, 0.0000, 0.0000,\n",
       "           0.0000, 0.0000, 0.0000, 0.0000, 0.0000, 0.7569, 0.8941, 0.8549,\n",
       "           0.8353, 0.7765, 0.7059, 0.8314, 0.8235, 0.8275, 0.8353, 0.8745,\n",
       "           0.8627, 0.9529, 0.7922, 0.0000],\n",
       "          [0.0000, 0.0000, 0.0000, 0.0000, 0.0000, 0.0000, 0.0000, 0.0000,\n",
       "           0.0000, 0.0039, 0.0118, 0.0000, 0.0471, 0.8588, 0.8627, 0.8314,\n",
       "           0.8549, 0.7529, 0.6627, 0.8902, 0.8157, 0.8549, 0.8784, 0.8314,\n",
       "           0.8863, 0.7725, 0.8196, 0.2039],\n",
       "          [0.0000, 0.0000, 0.0000, 0.0000, 0.0000, 0.0000, 0.0000, 0.0000,\n",
       "           0.0000, 0.0000, 0.0235, 0.0000, 0.3882, 0.9569, 0.8706, 0.8627,\n",
       "           0.8549, 0.7961, 0.7765, 0.8667, 0.8431, 0.8353, 0.8706, 0.8627,\n",
       "           0.9608, 0.4667, 0.6549, 0.2196],\n",
       "          [0.0000, 0.0000, 0.0000, 0.0000, 0.0000, 0.0000, 0.0000, 0.0000,\n",
       "           0.0000, 0.0157, 0.0000, 0.0000, 0.2157, 0.9255, 0.8941, 0.9020,\n",
       "           0.8941, 0.9412, 0.9098, 0.8353, 0.8549, 0.8745, 0.9176, 0.8510,\n",
       "           0.8510, 0.8196, 0.3608, 0.0000],\n",
       "          [0.0000, 0.0000, 0.0039, 0.0157, 0.0235, 0.0275, 0.0078, 0.0000,\n",
       "           0.0000, 0.0000, 0.0000, 0.0000, 0.9294, 0.8863, 0.8510, 0.8745,\n",
       "           0.8706, 0.8588, 0.8706, 0.8667, 0.8471, 0.8745, 0.8980, 0.8431,\n",
       "           0.8549, 1.0000, 0.3020, 0.0000],\n",
       "          [0.0000, 0.0118, 0.0000, 0.0000, 0.0000, 0.0000, 0.0000, 0.0000,\n",
       "           0.0000, 0.2431, 0.5686, 0.8000, 0.8941, 0.8118, 0.8353, 0.8667,\n",
       "           0.8549, 0.8157, 0.8275, 0.8549, 0.8784, 0.8745, 0.8588, 0.8431,\n",
       "           0.8784, 0.9569, 0.6235, 0.0000],\n",
       "          [0.0000, 0.0000, 0.0000, 0.0000, 0.0706, 0.1725, 0.3216, 0.4196,\n",
       "           0.7412, 0.8941, 0.8627, 0.8706, 0.8510, 0.8863, 0.7843, 0.8039,\n",
       "           0.8275, 0.9020, 0.8784, 0.9176, 0.6902, 0.7373, 0.9804, 0.9725,\n",
       "           0.9137, 0.9333, 0.8431, 0.0000],\n",
       "          [0.0000, 0.2235, 0.7333, 0.8157, 0.8784, 0.8667, 0.8784, 0.8157,\n",
       "           0.8000, 0.8392, 0.8157, 0.8196, 0.7843, 0.6235, 0.9608, 0.7569,\n",
       "           0.8078, 0.8745, 1.0000, 1.0000, 0.8667, 0.9176, 0.8667, 0.8275,\n",
       "           0.8627, 0.9098, 0.9647, 0.0000],\n",
       "          [0.0118, 0.7922, 0.8941, 0.8784, 0.8667, 0.8275, 0.8275, 0.8392,\n",
       "           0.8039, 0.8039, 0.8039, 0.8627, 0.9412, 0.3137, 0.5882, 1.0000,\n",
       "           0.8980, 0.8667, 0.7373, 0.6039, 0.7490, 0.8235, 0.8000, 0.8196,\n",
       "           0.8706, 0.8941, 0.8824, 0.0000],\n",
       "          [0.3843, 0.9137, 0.7765, 0.8235, 0.8706, 0.8980, 0.8980, 0.9176,\n",
       "           0.9765, 0.8627, 0.7608, 0.8431, 0.8510, 0.9451, 0.2549, 0.2863,\n",
       "           0.4157, 0.4588, 0.6588, 0.8588, 0.8667, 0.8431, 0.8510, 0.8745,\n",
       "           0.8745, 0.8784, 0.8980, 0.1137],\n",
       "          [0.2941, 0.8000, 0.8314, 0.8000, 0.7569, 0.8039, 0.8275, 0.8824,\n",
       "           0.8471, 0.7255, 0.7725, 0.8078, 0.7765, 0.8353, 0.9412, 0.7647,\n",
       "           0.8902, 0.9608, 0.9373, 0.8745, 0.8549, 0.8314, 0.8196, 0.8706,\n",
       "           0.8627, 0.8667, 0.9020, 0.2627],\n",
       "          [0.1882, 0.7961, 0.7176, 0.7608, 0.8353, 0.7725, 0.7255, 0.7451,\n",
       "           0.7608, 0.7529, 0.7922, 0.8392, 0.8588, 0.8667, 0.8627, 0.9255,\n",
       "           0.8824, 0.8471, 0.7804, 0.8078, 0.7294, 0.7098, 0.6941, 0.6745,\n",
       "           0.7098, 0.8039, 0.8078, 0.4510],\n",
       "          [0.0000, 0.4784, 0.8588, 0.7569, 0.7020, 0.6706, 0.7176, 0.7686,\n",
       "           0.8000, 0.8235, 0.8353, 0.8118, 0.8275, 0.8235, 0.7843, 0.7686,\n",
       "           0.7608, 0.7490, 0.7647, 0.7490, 0.7765, 0.7529, 0.6902, 0.6118,\n",
       "           0.6549, 0.6941, 0.8235, 0.3608],\n",
       "          [0.0000, 0.0000, 0.2902, 0.7412, 0.8314, 0.7490, 0.6863, 0.6745,\n",
       "           0.6863, 0.7098, 0.7255, 0.7373, 0.7412, 0.7373, 0.7569, 0.7765,\n",
       "           0.8000, 0.8196, 0.8235, 0.8235, 0.8275, 0.7373, 0.7373, 0.7608,\n",
       "           0.7529, 0.8471, 0.6667, 0.0000],\n",
       "          [0.0078, 0.0000, 0.0000, 0.0000, 0.2588, 0.7843, 0.8706, 0.9294,\n",
       "           0.9373, 0.9490, 0.9647, 0.9529, 0.9569, 0.8667, 0.8627, 0.7569,\n",
       "           0.7490, 0.7020, 0.7137, 0.7137, 0.7098, 0.6902, 0.6510, 0.6588,\n",
       "           0.3882, 0.2275, 0.0000, 0.0000],\n",
       "          [0.0000, 0.0000, 0.0000, 0.0000, 0.0000, 0.0000, 0.0000, 0.1569,\n",
       "           0.2392, 0.1725, 0.2824, 0.1608, 0.1373, 0.0000, 0.0000, 0.0000,\n",
       "           0.0000, 0.0000, 0.0000, 0.0000, 0.0000, 0.0000, 0.0000, 0.0000,\n",
       "           0.0000, 0.0000, 0.0000, 0.0000],\n",
       "          [0.0000, 0.0000, 0.0000, 0.0000, 0.0000, 0.0000, 0.0000, 0.0000,\n",
       "           0.0000, 0.0000, 0.0000, 0.0000, 0.0000, 0.0000, 0.0000, 0.0000,\n",
       "           0.0000, 0.0000, 0.0000, 0.0000, 0.0000, 0.0000, 0.0000, 0.0000,\n",
       "           0.0000, 0.0000, 0.0000, 0.0000],\n",
       "          [0.0000, 0.0000, 0.0000, 0.0000, 0.0000, 0.0000, 0.0000, 0.0000,\n",
       "           0.0000, 0.0000, 0.0000, 0.0000, 0.0000, 0.0000, 0.0000, 0.0000,\n",
       "           0.0000, 0.0000, 0.0000, 0.0000, 0.0000, 0.0000, 0.0000, 0.0000,\n",
       "           0.0000, 0.0000, 0.0000, 0.0000]]]),\n",
       " 9)"
      ]
     },
     "execution_count": 4,
     "metadata": {},
     "output_type": "execute_result"
    }
   ],
   "source": [
    "image, label = train_data[0]\n",
    "image, label"
   ]
  },
  {
   "cell_type": "code",
   "execution_count": 5,
   "id": "1b2f8455",
   "metadata": {
    "execution": {
     "iopub.execute_input": "2025-09-03T12:58:58.295495Z",
     "iopub.status.busy": "2025-09-03T12:58:58.295125Z",
     "iopub.status.idle": "2025-09-03T12:58:58.300946Z",
     "shell.execute_reply": "2025-09-03T12:58:58.300043Z"
    },
    "papermill": {
     "duration": 0.020575,
     "end_time": "2025-09-03T12:58:58.302441",
     "exception": false,
     "start_time": "2025-09-03T12:58:58.281866",
     "status": "completed"
    },
    "tags": []
   },
   "outputs": [
    {
     "data": {
      "text/plain": [
       "['T-shirt/top',\n",
       " 'Trouser',\n",
       " 'Pullover',\n",
       " 'Dress',\n",
       " 'Coat',\n",
       " 'Sandal',\n",
       " 'Shirt',\n",
       " 'Sneaker',\n",
       " 'Bag',\n",
       " 'Ankle boot']"
      ]
     },
     "execution_count": 5,
     "metadata": {},
     "output_type": "execute_result"
    }
   ],
   "source": [
    "class_names = train_data.classes\n",
    "class_names"
   ]
  },
  {
   "cell_type": "code",
   "execution_count": 6,
   "id": "cddc09ea",
   "metadata": {
    "execution": {
     "iopub.execute_input": "2025-09-03T12:58:58.328453Z",
     "iopub.status.busy": "2025-09-03T12:58:58.328091Z",
     "iopub.status.idle": "2025-09-03T12:58:58.334145Z",
     "shell.execute_reply": "2025-09-03T12:58:58.333343Z"
    },
    "papermill": {
     "duration": 0.020623,
     "end_time": "2025-09-03T12:58:58.335665",
     "exception": false,
     "start_time": "2025-09-03T12:58:58.315042",
     "status": "completed"
    },
    "tags": []
   },
   "outputs": [
    {
     "data": {
      "text/plain": [
       "{'T-shirt/top': 0,\n",
       " 'Trouser': 1,\n",
       " 'Pullover': 2,\n",
       " 'Dress': 3,\n",
       " 'Coat': 4,\n",
       " 'Sandal': 5,\n",
       " 'Shirt': 6,\n",
       " 'Sneaker': 7,\n",
       " 'Bag': 8,\n",
       " 'Ankle boot': 9}"
      ]
     },
     "execution_count": 6,
     "metadata": {},
     "output_type": "execute_result"
    }
   ],
   "source": [
    "class_to_idx = train_data.class_to_idx \n",
    "class_to_idx"
   ]
  },
  {
   "cell_type": "code",
   "execution_count": 7,
   "id": "9f096380",
   "metadata": {
    "execution": {
     "iopub.execute_input": "2025-09-03T12:58:58.362131Z",
     "iopub.status.busy": "2025-09-03T12:58:58.361853Z",
     "iopub.status.idle": "2025-09-03T12:58:58.367066Z",
     "shell.execute_reply": "2025-09-03T12:58:58.366237Z"
    },
    "papermill": {
     "duration": 0.020007,
     "end_time": "2025-09-03T12:58:58.368391",
     "exception": false,
     "start_time": "2025-09-03T12:58:58.348384",
     "status": "completed"
    },
    "tags": []
   },
   "outputs": [
    {
     "name": "stdout",
     "output_type": "stream",
     "text": [
      "Image shape: torch.Size([1, 28, 28]) -> [color_cannels, height, width]\n",
      "image label: Ankle boot\n"
     ]
    }
   ],
   "source": [
    "print(f\"Image shape: {image.shape} -> [color_cannels, height, width]\")\n",
    "print(f\"image label: {class_names[label]}\")"
   ]
  },
  {
   "cell_type": "markdown",
   "id": "1be56902",
   "metadata": {
    "papermill": {
     "duration": 0.012331,
     "end_time": "2025-09-03T12:58:58.393764",
     "exception": false,
     "start_time": "2025-09-03T12:58:58.381433",
     "status": "completed"
    },
    "tags": []
   },
   "source": [
    "### 1.2 Visualizing data"
   ]
  },
  {
   "cell_type": "code",
   "execution_count": 8,
   "id": "ddf270a4",
   "metadata": {
    "execution": {
     "iopub.execute_input": "2025-09-03T12:58:58.486014Z",
     "iopub.status.busy": "2025-09-03T12:58:58.485682Z",
     "iopub.status.idle": "2025-09-03T12:58:58.757886Z",
     "shell.execute_reply": "2025-09-03T12:58:58.757012Z"
    },
    "papermill": {
     "duration": 0.287484,
     "end_time": "2025-09-03T12:58:58.759527",
     "exception": false,
     "start_time": "2025-09-03T12:58:58.472043",
     "status": "completed"
    },
    "tags": []
   },
   "outputs": [
    {
     "data": {
      "text/plain": [
       "<matplotlib.image.AxesImage at 0x79b307213850>"
      ]
     },
     "execution_count": 8,
     "metadata": {},
     "output_type": "execute_result"
    },
    {
     "data": {
      "image/png": "[encoded data removed]",
      "text/plain": [
       "<Figure size 640x480 with 1 Axes>"
      ]
     },
     "metadata": {},
     "output_type": "display_data"
    }
   ],
   "source": [
    "import matplotlib.pyplot as plt \n",
    "\n",
    "image, label = train_data[0]\n",
    "plt.imshow(image.squeeze()) # we need squeeze to remove the color channel dimension"
   ]
  },
  {
   "cell_type": "code",
   "execution_count": 9,
   "id": "7b76b644",
   "metadata": {
    "execution": {
     "iopub.execute_input": "2025-09-03T12:58:58.788033Z",
     "iopub.status.busy": "2025-09-03T12:58:58.787177Z",
     "iopub.status.idle": "2025-09-03T12:58:58.886390Z",
     "shell.execute_reply": "2025-09-03T12:58:58.885592Z"
    },
    "papermill": {
     "duration": 0.114794,
     "end_time": "2025-09-03T12:58:58.887892",
     "exception": false,
     "start_time": "2025-09-03T12:58:58.773098",
     "status": "completed"
    },
    "tags": []
   },
   "outputs": [
    {
     "data": {
      "text/plain": [
       "(-0.5, 27.5, 27.5, -0.5)"
      ]
     },
     "execution_count": 9,
     "metadata": {},
     "output_type": "execute_result"
    },
    {
     "data": {
      "image/png": "[encoded data removed]",
      "text/plain": [
       "<Figure size 640x480 with 1 Axes>"
      ]
     },
     "metadata": {},
     "output_type": "display_data"
    }
   ],
   "source": [
    "plt.imshow(image.squeeze(), cmap=\"gray\")\n",
    "plt.title(class_names[label])\n",
    "plt.axis(False)"
   ]
  },
  {
   "cell_type": "code",
   "execution_count": 10,
   "id": "7026aa99",
   "metadata": {
    "execution": {
     "iopub.execute_input": "2025-09-03T12:58:58.917270Z",
     "iopub.status.busy": "2025-09-03T12:58:58.916937Z",
     "iopub.status.idle": "2025-09-03T12:58:59.925160Z",
     "shell.execute_reply": "2025-09-03T12:58:59.924462Z"
    },
    "papermill": {
     "duration": 1.025268,
     "end_time": "2025-09-03T12:58:59.927206",
     "exception": false,
     "start_time": "2025-09-03T12:58:58.901938",
     "status": "completed"
    },
    "tags": []
   },
   "outputs": [
    {
     "data": {
      "image/png": "[encoded data removed]",
      "text/plain": [
       "<Figure size 900x900 with 16 Axes>"
      ]
     },
     "metadata": {},
     "output_type": "display_data"
    }
   ],
   "source": [
    "# plot more images \n",
    "# torch.manual_seed(42)\n",
    "\n",
    "fig = plt.figure(figsize=(9,9))\n",
    "rows, cols = 4,4 \n",
    "for i in range(1, rows*cols+1):\n",
    "    random_idx = torch.randint(0, len(train_data), size=[1]).item()\n",
    "    # print(random_idx)\n",
    "    img, label = train_data[random_idx]\n",
    "    fig.add_subplot(rows,cols,i)\n",
    "    plt.imshow(img.squeeze(), cmap=\"gray\")\n",
    "    plt.title(class_names[label])\n",
    "    plt.axis(False)"
   ]
  },
  {
   "cell_type": "code",
   "execution_count": 11,
   "id": "855db598",
   "metadata": {
    "execution": {
     "iopub.execute_input": "2025-09-03T12:58:59.957913Z",
     "iopub.status.busy": "2025-09-03T12:58:59.957636Z",
     "iopub.status.idle": "2025-09-03T12:58:59.963124Z",
     "shell.execute_reply": "2025-09-03T12:58:59.962341Z"
    },
    "papermill": {
     "duration": 0.022121,
     "end_time": "2025-09-03T12:58:59.964670",
     "exception": false,
     "start_time": "2025-09-03T12:58:59.942549",
     "status": "completed"
    },
    "tags": []
   },
   "outputs": [
    {
     "data": {
      "text/plain": [
       "(Dataset FashionMNIST\n",
       "     Number of datapoints: 60000\n",
       "     Root location: data\n",
       "     Split: Train\n",
       "     StandardTransform\n",
       " Transform: ToTensor(),\n",
       " Dataset FashionMNIST\n",
       "     Number of datapoints: 10000\n",
       "     Root location: data\n",
       "     Split: Test\n",
       "     StandardTransform\n",
       " Transform: ToTensor())"
      ]
     },
     "execution_count": 11,
     "metadata": {},
     "output_type": "execute_result"
    }
   ],
   "source": [
    "train_data, test_data"
   ]
  },
  {
   "cell_type": "markdown",
   "id": "ce87a37a",
   "metadata": {
    "papermill": {
     "duration": 0.014154,
     "end_time": "2025-09-03T12:58:59.993968",
     "exception": false,
     "start_time": "2025-09-03T12:58:59.979814",
     "status": "completed"
    },
    "tags": []
   },
   "source": [
    "## 2. Prepare DataLoader\n",
    "\n",
    "* Right now data is in the form of PyTorch Datasets\n",
    "* DataLoader turns the dataset into a Python iterable\n",
    "* more specifically, we want to turn our data into batches (or mini batches)\n",
    "  1. it is more computationally efficient, as in the computing hardware may not be able to look (store in memory) at 6000 images in one hit. So we break it down to 32 images at a time (batch size = 32)\n",
    "    2. it gives our NN more chances to update its ggradients per epoch (every 32 images)"
   ]
  },
  {
   "cell_type": "code",
   "execution_count": 12,
   "id": "7ae27ed2",
   "metadata": {
    "execution": {
     "iopub.execute_input": "2025-09-03T12:59:00.024636Z",
     "iopub.status.busy": "2025-09-03T12:59:00.024274Z",
     "iopub.status.idle": "2025-09-03T12:59:00.031784Z",
     "shell.execute_reply": "2025-09-03T12:59:00.030831Z"
    },
    "papermill": {
     "duration": 0.024204,
     "end_time": "2025-09-03T12:59:00.033202",
     "exception": false,
     "start_time": "2025-09-03T12:59:00.008998",
     "status": "completed"
    },
    "tags": []
   },
   "outputs": [
    {
     "data": {
      "text/plain": [
       "(<torch.utils.data.dataloader.DataLoader at 0x79b236700850>,\n",
       " <torch.utils.data.dataloader.DataLoader at 0x79b23688be10>)"
      ]
     },
     "execution_count": 12,
     "metadata": {},
     "output_type": "execute_result"
    }
   ],
   "source": [
    "from torch.utils.data import DataLoader \n",
    "\n",
    "# setup the batch size hyperparameter \n",
    "BATCH_SIZE = 32 \n",
    "\n",
    "# turn dataset into iterables (batches)\n",
    "train_dataloader = DataLoader(\n",
    "    dataset=train_data,\n",
    "    batch_size=BATCH_SIZE,\n",
    "    shuffle=True\n",
    ")\n",
    "\n",
    "test_dataloader = DataLoader(\n",
    "    dataset=test_data, \n",
    "    batch_size=BATCH_SIZE,\n",
    "    shuffle=False\n",
    ")\n",
    "\n",
    "train_dataloader, test_dataloader"
   ]
  },
  {
   "cell_type": "code",
   "execution_count": 13,
   "id": "596c9131",
   "metadata": {
    "execution": {
     "iopub.execute_input": "2025-09-03T12:59:00.064599Z",
     "iopub.status.busy": "2025-09-03T12:59:00.063534Z",
     "iopub.status.idle": "2025-09-03T12:59:00.069011Z",
     "shell.execute_reply": "2025-09-03T12:59:00.068103Z"
    },
    "papermill": {
     "duration": 0.022732,
     "end_time": "2025-09-03T12:59:00.070587",
     "exception": false,
     "start_time": "2025-09-03T12:59:00.047855",
     "status": "completed"
    },
    "tags": []
   },
   "outputs": [
    {
     "name": "stdout",
     "output_type": "stream",
     "text": [
      "Dataloaders: (<torch.utils.data.dataloader.DataLoader object at 0x79b236700850>, <torch.utils.data.dataloader.DataLoader object at 0x79b23688be10>)\n",
      "Length of train_dataloader: 1875,batches of 32...\n",
      "Length of test_dataloader: 313, batches of 32\n"
     ]
    }
   ],
   "source": [
    "print(f\"Dataloaders: {train_dataloader, test_dataloader}\")\n",
    "print(f\"Length of train_dataloader: {len(train_dataloader)},batches of {BATCH_SIZE}...\")\n",
    "print(f\"Length of test_dataloader: {len(test_dataloader)}, batches of {BATCH_SIZE}\")"
   ]
  },
  {
   "cell_type": "code",
   "execution_count": 14,
   "id": "a22b36c3",
   "metadata": {
    "execution": {
     "iopub.execute_input": "2025-09-03T12:59:00.101148Z",
     "iopub.status.busy": "2025-09-03T12:59:00.100844Z",
     "iopub.status.idle": "2025-09-03T12:59:00.107005Z",
     "shell.execute_reply": "2025-09-03T12:59:00.106057Z"
    },
    "papermill": {
     "duration": 0.023356,
     "end_time": "2025-09-03T12:59:00.108619",
     "exception": false,
     "start_time": "2025-09-03T12:59:00.085263",
     "status": "completed"
    },
    "tags": []
   },
   "outputs": [
    {
     "data": {
      "text/plain": [
       "(312.5, 10000.0)"
      ]
     },
     "execution_count": 14,
     "metadata": {},
     "output_type": "execute_result"
    }
   ],
   "source": [
    "10000/32, 32*312.5"
   ]
  },
  {
   "cell_type": "code",
   "execution_count": 15,
   "id": "4d1b656d",
   "metadata": {
    "execution": {
     "iopub.execute_input": "2025-09-03T12:59:00.139659Z",
     "iopub.status.busy": "2025-09-03T12:59:00.139272Z",
     "iopub.status.idle": "2025-09-03T12:59:00.161654Z",
     "shell.execute_reply": "2025-09-03T12:59:00.160637Z"
    },
    "papermill": {
     "duration": 0.039631,
     "end_time": "2025-09-03T12:59:00.163386",
     "exception": false,
     "start_time": "2025-09-03T12:59:00.123755",
     "status": "completed"
    },
    "tags": []
   },
   "outputs": [
    {
     "data": {
      "text/plain": [
       "(torch.Size([32, 1, 28, 28]), torch.Size([32]))"
      ]
     },
     "execution_count": 15,
     "metadata": {},
     "output_type": "execute_result"
    }
   ],
   "source": [
    "train_features_batch, train_labels_batch = next(iter(train_dataloader)) # iter turns train_dataloader into an iterable and next gets us the next batch\n",
    "train_features_batch.shape, train_labels_batch.shape"
   ]
  },
  {
   "cell_type": "code",
   "execution_count": 16,
   "id": "d2c34983",
   "metadata": {
    "execution": {
     "iopub.execute_input": "2025-09-03T12:59:00.195345Z",
     "iopub.status.busy": "2025-09-03T12:59:00.194962Z",
     "iopub.status.idle": "2025-09-03T12:59:00.304298Z",
     "shell.execute_reply": "2025-09-03T12:59:00.303337Z"
    },
    "papermill": {
     "duration": 0.126924,
     "end_time": "2025-09-03T12:59:00.305792",
     "exception": false,
     "start_time": "2025-09-03T12:59:00.178868",
     "status": "completed"
    },
    "tags": []
   },
   "outputs": [
    {
     "name": "stdout",
     "output_type": "stream",
     "text": [
      "Image size: torch.Size([1, 28, 28])\n",
      "Label: 1, label size: torch.Size([])\n"
     ]
    },
    {
     "data": {
      "image/png": "[encoded data removed]",
      "text/plain": [
       "<Figure size 640x480 with 1 Axes>"
      ]
     },
     "metadata": {},
     "output_type": "display_data"
    }
   ],
   "source": [
    "# show a sample \n",
    "torch.manual_seed(42)\n",
    "random_idx = torch.randint(0,len(train_features_batch), size=[1]).item()\n",
    "img, label = train_features_batch[random_idx], train_labels_batch[random_idx]\n",
    "plt.imshow(img.squeeze(), cmap=\"gray\")\n",
    "plt.title(class_names[label])\n",
    "plt.axis(False)\n",
    "print(f\"Image size: {img.shape}\")\n",
    "print(f\"Label: {label}, label size: {label.shape}\")"
   ]
  },
  {
   "cell_type": "markdown",
   "id": "23c7ff23",
   "metadata": {
    "papermill": {
     "duration": 0.014274,
     "end_time": "2025-09-03T12:59:00.335803",
     "exception": false,
     "start_time": "2025-09-03T12:59:00.321529",
     "status": "completed"
    },
    "tags": []
   },
   "source": [
    "## 3. Model 0: baseline model "
   ]
  },
  {
   "cell_type": "code",
   "execution_count": 17,
   "id": "bcf152d9",
   "metadata": {
    "execution": {
     "iopub.execute_input": "2025-09-03T12:59:00.366004Z",
     "iopub.status.busy": "2025-09-03T12:59:00.365713Z",
     "iopub.status.idle": "2025-09-03T12:59:00.372033Z",
     "shell.execute_reply": "2025-09-03T12:59:00.371050Z"
    },
    "papermill": {
     "duration": 0.023152,
     "end_time": "2025-09-03T12:59:00.373538",
     "exception": false,
     "start_time": "2025-09-03T12:59:00.350386",
     "status": "completed"
    },
    "tags": []
   },
   "outputs": [
    {
     "data": {
      "text/plain": [
       "torch.Size([1, 28, 28])"
      ]
     },
     "execution_count": 17,
     "metadata": {},
     "output_type": "execute_result"
    }
   ],
   "source": [
    "# create a flatten layer \n",
    "flatten_model = nn.Flatten()\n",
    "\n",
    "# get a single sample \n",
    "x = train_features_batch[0]\n",
    "x.shape"
   ]
  },
  {
   "cell_type": "code",
   "execution_count": 18,
   "id": "d0ecb822",
   "metadata": {
    "execution": {
     "iopub.execute_input": "2025-09-03T12:59:00.404686Z",
     "iopub.status.busy": "2025-09-03T12:59:00.404375Z",
     "iopub.status.idle": "2025-09-03T12:59:00.410636Z",
     "shell.execute_reply": "2025-09-03T12:59:00.409261Z"
    },
    "papermill": {
     "duration": 0.023472,
     "end_time": "2025-09-03T12:59:00.412142",
     "exception": false,
     "start_time": "2025-09-03T12:59:00.388670",
     "status": "completed"
    },
    "tags": []
   },
   "outputs": [
    {
     "name": "stdout",
     "output_type": "stream",
     "text": [
      "Shape before flattening: torch.Size([1, 28, 28]) -> [C, H, W]\n",
      "Shape after flattening: torch.Size([1, 784]) -> [C, H*W]\n"
     ]
    }
   ],
   "source": [
    "# flatten the sample \n",
    "output = flatten_model(x)\n",
    "print(f\"Shape before flattening: {x.shape} -> [C, H, W]\")\n",
    "print(f\"Shape after flattening: {output.shape} -> [C, H*W]\")"
   ]
  },
  {
   "cell_type": "code",
   "execution_count": 19,
   "id": "5a433688",
   "metadata": {
    "execution": {
     "iopub.execute_input": "2025-09-03T12:59:00.444961Z",
     "iopub.status.busy": "2025-09-03T12:59:00.444668Z",
     "iopub.status.idle": "2025-09-03T12:59:00.450897Z",
     "shell.execute_reply": "2025-09-03T12:59:00.450130Z"
    },
    "papermill": {
     "duration": 0.025056,
     "end_time": "2025-09-03T12:59:00.452373",
     "exception": false,
     "start_time": "2025-09-03T12:59:00.427317",
     "status": "completed"
    },
    "tags": []
   },
   "outputs": [],
   "source": [
    "from torch import nn \n",
    "class FashionMNISTModelV0(nn.Module):\n",
    "    def __init__(\n",
    "        self, \n",
    "        input_shape: int, \n",
    "        hidden_units: int,\n",
    "        output_shape: int\n",
    "    ) :\n",
    "        super().__init__()\n",
    "        self.layer_stack = nn.Sequential(\n",
    "            nn.Flatten(),\n",
    "            nn.Linear(\n",
    "                in_features = input_shape,\n",
    "                out_features = hidden_units\n",
    "            ),\n",
    "            nn.Linear(\n",
    "                in_features = hidden_units,\n",
    "                out_features = output_shape\n",
    "            )\n",
    "        )\n",
    "\n",
    "    def forward(self, x):\n",
    "        return self.layer_stack(x)"
   ]
  },
  {
   "cell_type": "code",
   "execution_count": 20,
   "id": "c89896c8",
   "metadata": {
    "execution": {
     "iopub.execute_input": "2025-09-03T12:59:00.484362Z",
     "iopub.status.busy": "2025-09-03T12:59:00.484036Z",
     "iopub.status.idle": "2025-09-03T12:59:00.493127Z",
     "shell.execute_reply": "2025-09-03T12:59:00.492143Z"
    },
    "papermill": {
     "duration": 0.027038,
     "end_time": "2025-09-03T12:59:00.494630",
     "exception": false,
     "start_time": "2025-09-03T12:59:00.467592",
     "status": "completed"
    },
    "tags": []
   },
   "outputs": [
    {
     "data": {
      "text/plain": [
       "FashionMNISTModelV0(\n",
       "  (layer_stack): Sequential(\n",
       "    (0): Flatten(start_dim=1, end_dim=-1)\n",
       "    (1): Linear(in_features=784, out_features=10, bias=True)\n",
       "    (2): Linear(in_features=10, out_features=10, bias=True)\n",
       "  )\n",
       ")"
      ]
     },
     "execution_count": 20,
     "metadata": {},
     "output_type": "execute_result"
    }
   ],
   "source": [
    "torch.manual_seed(42)\n",
    "\n",
    "# setup model with input parameters \n",
    "model_0 = FashionMNISTModelV0(\n",
    "    input_shape = 28*28, # 784\n",
    "    hidden_units = 10, \n",
    "    output_shape= len(class_names) # one for each class\n",
    ")\n",
    "\n",
    "model_0"
   ]
  },
  {
   "cell_type": "code",
   "execution_count": 21,
   "id": "ed85c264",
   "metadata": {
    "execution": {
     "iopub.execute_input": "2025-09-03T12:59:00.528355Z",
     "iopub.status.busy": "2025-09-03T12:59:00.527383Z",
     "iopub.status.idle": "2025-09-03T12:59:00.549301Z",
     "shell.execute_reply": "2025-09-03T12:59:00.548255Z"
    },
    "papermill": {
     "duration": 0.040919,
     "end_time": "2025-09-03T12:59:00.550889",
     "exception": false,
     "start_time": "2025-09-03T12:59:00.509970",
     "status": "completed"
    },
    "tags": []
   },
   "outputs": [
    {
     "data": {
      "text/plain": [
       "tensor([[-0.0315,  0.3171,  0.0531, -0.2525,  0.5959,  0.2112,  0.3233,  0.2694,\n",
       "         -0.1004,  0.0157]], grad_fn=<AddmmBackward0>)"
      ]
     },
     "execution_count": 21,
     "metadata": {},
     "output_type": "execute_result"
    }
   ],
   "source": [
    "dummy_x = torch.rand([1,1,28,28])\n",
    "model_0(dummy_x)"
   ]
  },
  {
   "cell_type": "code",
   "execution_count": 22,
   "id": "2c178242",
   "metadata": {
    "execution": {
     "iopub.execute_input": "2025-09-03T12:59:00.582808Z",
     "iopub.status.busy": "2025-09-03T12:59:00.582489Z",
     "iopub.status.idle": "2025-09-03T12:59:00.593216Z",
     "shell.execute_reply": "2025-09-03T12:59:00.592422Z"
    },
    "papermill": {
     "duration": 0.028528,
     "end_time": "2025-09-03T12:59:00.594745",
     "exception": false,
     "start_time": "2025-09-03T12:59:00.566217",
     "status": "completed"
    },
    "tags": []
   },
   "outputs": [
    {
     "data": {
      "text/plain": [
       "OrderedDict([('layer_stack.1.weight',\n",
       "              tensor([[ 0.0273,  0.0296, -0.0084,  ..., -0.0142,  0.0093,  0.0135],\n",
       "                      [-0.0188, -0.0354,  0.0187,  ..., -0.0106, -0.0001,  0.0115],\n",
       "                      [-0.0008,  0.0017,  0.0045,  ..., -0.0127, -0.0188,  0.0059],\n",
       "                      ...,\n",
       "                      [-0.0116,  0.0273, -0.0344,  ...,  0.0176,  0.0283, -0.0011],\n",
       "                      [-0.0230,  0.0257,  0.0291,  ..., -0.0187, -0.0087,  0.0001],\n",
       "                      [ 0.0176, -0.0147,  0.0053,  ..., -0.0336, -0.0221,  0.0205]])),\n",
       "             ('layer_stack.1.bias',\n",
       "              tensor([-0.0093,  0.0283, -0.0033,  0.0255,  0.0017,  0.0037, -0.0302, -0.0123,\n",
       "                       0.0018,  0.0163])),\n",
       "             ('layer_stack.2.weight',\n",
       "              tensor([[ 0.0614, -0.0687,  0.0021,  0.2718,  0.2109,  0.1079, -0.2279, -0.1063,\n",
       "                        0.2019,  0.2847],\n",
       "                      [-0.1495,  0.1344, -0.0740,  0.2006, -0.0475, -0.2514, -0.3130, -0.0118,\n",
       "                        0.0932, -0.1864],\n",
       "                      [ 0.2488,  0.1500,  0.1907,  0.1457, -0.3050, -0.0580,  0.1643,  0.1565,\n",
       "                       -0.2877, -0.1792],\n",
       "                      [ 0.2305, -0.2618,  0.2397, -0.0610,  0.0232,  0.1542,  0.0851, -0.2027,\n",
       "                        0.1030, -0.2715],\n",
       "                      [-0.1596, -0.0555, -0.0633,  0.2302, -0.1726,  0.2654,  0.1473,  0.1029,\n",
       "                        0.2252, -0.2160],\n",
       "                      [-0.2725,  0.0118,  0.1559,  0.1596,  0.0132,  0.3024,  0.1124,  0.1366,\n",
       "                       -0.1533,  0.0965],\n",
       "                      [-0.1184, -0.2555, -0.2057, -0.1909, -0.0477, -0.1324,  0.2905,  0.1307,\n",
       "                       -0.2629,  0.0133],\n",
       "                      [ 0.2727, -0.0127,  0.0513,  0.0863, -0.1043, -0.2047, -0.1185, -0.0825,\n",
       "                        0.2488, -0.2571],\n",
       "                      [ 0.0425, -0.1209, -0.0336, -0.0281, -0.1227,  0.0730,  0.0747, -0.1816,\n",
       "                        0.1943,  0.2853],\n",
       "                      [-0.1310,  0.0645, -0.1171,  0.2168, -0.0245, -0.2820,  0.0736,  0.2621,\n",
       "                        0.0012, -0.0810]])),\n",
       "             ('layer_stack.2.bias',\n",
       "              tensor([-0.0087,  0.1791,  0.2712, -0.0791,  0.1685,  0.1762,  0.2825,  0.2266,\n",
       "                      -0.2612, -0.2613]))])"
      ]
     },
     "execution_count": 22,
     "metadata": {},
     "output_type": "execute_result"
    }
   ],
   "source": [
    "model_0.state_dict()"
   ]
  },
  {
   "cell_type": "markdown",
   "id": "2c2e422c",
   "metadata": {
    "papermill": {
     "duration": 0.015888,
     "end_time": "2025-09-03T12:59:00.626031",
     "exception": false,
     "start_time": "2025-09-03T12:59:00.610143",
     "status": "completed"
    },
    "tags": []
   },
   "source": [
    "### 3.1 Setup loss, optimizer and evaluation metrics \n",
    "* Loss function : since we're working with multi-class data -> `nn.CrossEntropyLoss()`\n",
    "* Optimizer : stochastic gradient descent -> `torch.optim.SGD()`\n",
    "* Evaluation metric : since we are working on a classification problem, let's use accuracy "
   ]
  },
  {
   "cell_type": "code",
   "execution_count": 23,
   "id": "02601a94",
   "metadata": {
    "execution": {
     "iopub.execute_input": "2025-09-03T12:59:00.658588Z",
     "iopub.status.busy": "2025-09-03T12:59:00.657900Z",
     "iopub.status.idle": "2025-09-03T12:59:00.964623Z",
     "shell.execute_reply": "2025-09-03T12:59:00.963523Z"
    },
    "papermill": {
     "duration": 0.324503,
     "end_time": "2025-09-03T12:59:00.966030",
     "exception": false,
     "start_time": "2025-09-03T12:59:00.641527",
     "status": "completed"
    },
    "tags": []
   },
   "outputs": [
    {
     "name": "stdout",
     "output_type": "stream",
     "text": [
      "Downloading helper_functions.py\n"
     ]
    }
   ],
   "source": [
    "import requests \n",
    "from pathlib import Path \n",
    "\n",
    "if Path(\"helper_functions.py\").is_file() :\n",
    "    print(\"helper_functions.py already exists, skipping download\")\n",
    "else : \n",
    "    print(\"Downloading helper_functions.py\")\n",
    "    request = requests.get(\"https://raw.githubusercontent.com/mrdbourke/pytorch-deep-learning/af6548e52663c8395fe2777bd0fbfd6ac85fd6f8/helper_functions.py\")\n",
    "    with open(\"helper_functions.py\", \"wb\") as f:\n",
    "        f.write(request.content)"
   ]
  },
  {
   "cell_type": "code",
   "execution_count": 24,
   "id": "f608e034",
   "metadata": {
    "execution": {
     "iopub.execute_input": "2025-09-03T12:59:00.998915Z",
     "iopub.status.busy": "2025-09-03T12:59:00.998056Z",
     "iopub.status.idle": "2025-09-03T12:59:01.136183Z",
     "shell.execute_reply": "2025-09-03T12:59:01.135074Z"
    },
    "papermill": {
     "duration": 0.156084,
     "end_time": "2025-09-03T12:59:01.137950",
     "exception": false,
     "start_time": "2025-09-03T12:59:00.981866",
     "status": "completed"
    },
    "tags": []
   },
   "outputs": [
    {
     "name": "stdout",
     "output_type": "stream",
     "text": [
      "data  helper_functions.py  __notebook__.ipynb\r\n"
     ]
    }
   ],
   "source": [
    "!ls"
   ]
  },
  {
   "cell_type": "code",
   "execution_count": 25,
   "id": "1a6423dc",
   "metadata": {
    "execution": {
     "iopub.execute_input": "2025-09-03T12:59:01.170271Z",
     "iopub.status.busy": "2025-09-03T12:59:01.169851Z",
     "iopub.status.idle": "2025-09-03T12:59:01.183454Z",
     "shell.execute_reply": "2025-09-03T12:59:01.182458Z"
    },
    "papermill": {
     "duration": 0.031844,
     "end_time": "2025-09-03T12:59:01.185237",
     "exception": false,
     "start_time": "2025-09-03T12:59:01.153393",
     "status": "completed"
    },
    "tags": []
   },
   "outputs": [],
   "source": [
    "from helper_functions import accuracy_fn \n",
    "\n",
    "# setup loss function and optimizer \n",
    "loss_fn = nn.CrossEntropyLoss()\n",
    "optimizer = torch.optim.SGD(\n",
    "    params=model_0.parameters(),\n",
    "    lr=0.1\n",
    ")"
   ]
  },
  {
   "cell_type": "markdown",
   "id": "0b3b893f",
   "metadata": {
    "papermill": {
     "duration": 0.015122,
     "end_time": "2025-09-03T12:59:01.216153",
     "exception": false,
     "start_time": "2025-09-03T12:59:01.201031",
     "status": "completed"
    },
    "tags": []
   },
   "source": [
    "### 3.2 Creating a function to time our experiments\n",
    "\n",
    "ML is very experimental. Two of the main things we want to track are:\n",
    "1. Model's performance (e.g. loss and accuracy)\n",
    "2. How fast it runs "
   ]
  },
  {
   "cell_type": "code",
   "execution_count": 26,
   "id": "bb5c76ab",
   "metadata": {
    "execution": {
     "iopub.execute_input": "2025-09-03T12:59:01.247736Z",
     "iopub.status.busy": "2025-09-03T12:59:01.247439Z",
     "iopub.status.idle": "2025-09-03T12:59:01.252164Z",
     "shell.execute_reply": "2025-09-03T12:59:01.251354Z"
    },
    "papermill": {
     "duration": 0.02238,
     "end_time": "2025-09-03T12:59:01.253606",
     "exception": false,
     "start_time": "2025-09-03T12:59:01.231226",
     "status": "completed"
    },
    "tags": []
   },
   "outputs": [],
   "source": [
    "from timeit import default_timer as timer \n",
    "def print_train_time(\n",
    "    start: float, \n",
    "    end: float, \n",
    "    device: torch.device = None\n",
    "):\n",
    "    \"\"\"\n",
    "    Prints difference between start and end time\n",
    "    \"\"\"\n",
    "    total_time = end - start\n",
    "    print(f\"Train time on {device}: {total_time:.3f} seconds\")\n",
    "    return total_time "
   ]
  },
  {
   "cell_type": "code",
   "execution_count": 27,
   "id": "42506429",
   "metadata": {
    "execution": {
     "iopub.execute_input": "2025-09-03T12:59:01.285711Z",
     "iopub.status.busy": "2025-09-03T12:59:01.285406Z",
     "iopub.status.idle": "2025-09-03T12:59:01.291559Z",
     "shell.execute_reply": "2025-09-03T12:59:01.290728Z"
    },
    "papermill": {
     "duration": 0.023649,
     "end_time": "2025-09-03T12:59:01.292777",
     "exception": false,
     "start_time": "2025-09-03T12:59:01.269128",
     "status": "completed"
    },
    "tags": []
   },
   "outputs": [
    {
     "name": "stdout",
     "output_type": "stream",
     "text": [
      "Train time on cpu: 0.000 seconds\n"
     ]
    },
    {
     "data": {
      "text/plain": [
       "3.119600000900391e-05"
      ]
     },
     "execution_count": 27,
     "metadata": {},
     "output_type": "execute_result"
    }
   ],
   "source": [
    "start_time = timer()\n",
    "# code \n",
    "end_time = timer()\n",
    "print_train_time(start_time, end_time, \"cpu\")"
   ]
  },
  {
   "cell_type": "markdown",
   "id": "584c0294",
   "metadata": {
    "papermill": {
     "duration": 0.015232,
     "end_time": "2025-09-03T12:59:01.324001",
     "exception": false,
     "start_time": "2025-09-03T12:59:01.308769",
     "status": "completed"
    },
    "tags": []
   },
   "source": [
    "### 3.3 Creating a training loop and training the model on batches of data \n",
    "1. Loop through epochs\n",
    "2. Loop through training batches, perform training steps, calculate the train loss *per batch*\n",
    "3. Loop through testing batches, perform testing steps, calculate the test loss *per batch*\n",
    "4. Print out what's happning\n",
    "5. Time it all\n",
    "\n",
    "The **optimizer** will update a model's parameters **once per batch rather than once per epoch**"
   ]
  },
  {
   "cell_type": "code",
   "execution_count": 28,
   "id": "fad63cdb",
   "metadata": {
    "execution": {
     "iopub.execute_input": "2025-09-03T12:59:01.357204Z",
     "iopub.status.busy": "2025-09-03T12:59:01.356864Z",
     "iopub.status.idle": "2025-09-03T12:59:29.181756Z",
     "shell.execute_reply": "2025-09-03T12:59:29.180893Z"
    },
    "papermill": {
     "duration": 27.844148,
     "end_time": "2025-09-03T12:59:29.183678",
     "exception": false,
     "start_time": "2025-09-03T12:59:01.339530",
     "status": "completed"
    },
    "tags": []
   },
   "outputs": [
    {
     "data": {
      "application/vnd.jupyter.widget-view+json": {
       "model_id": "e79ad99f5a7e47ba8a78c36fb476a59e",
       "version_major": 2,
       "version_minor": 0
      },
      "text/plain": [
       "  0%|          | 0/3 [00:00<?, ?it/s]"
      ]
     },
     "metadata": {},
     "output_type": "display_data"
    },
    {
     "name": "stdout",
     "output_type": "stream",
     "text": [
      "Epoch: 0\n",
      "-------\n",
      "Looked at 0/60000 samples\n",
      "Looked at 12800/60000 samples\n",
      "Looked at 25600/60000 samples\n",
      "Looked at 38400/60000 samples\n",
      "Looked at 51200/60000 samples\n",
      "\n",
      "Train loss: 0.59039 | Test loss: 0.50954, Test acc: 82.04%\n",
      "\n",
      "Epoch: 1\n",
      "-------\n",
      "Looked at 0/60000 samples\n",
      "Looked at 12800/60000 samples\n",
      "Looked at 25600/60000 samples\n",
      "Looked at 38400/60000 samples\n",
      "Looked at 51200/60000 samples\n",
      "\n",
      "Train loss: 0.47633 | Test loss: 0.47989, Test acc: 83.20%\n",
      "\n",
      "Epoch: 2\n",
      "-------\n",
      "Looked at 0/60000 samples\n",
      "Looked at 12800/60000 samples\n",
      "Looked at 25600/60000 samples\n",
      "Looked at 38400/60000 samples\n",
      "Looked at 51200/60000 samples\n",
      "\n",
      "Train loss: 0.45503 | Test loss: 0.47664, Test acc: 83.43%\n",
      "\n",
      "Train time on cpu: 27.640 seconds\n"
     ]
    }
   ],
   "source": [
    "# Import tqdm for progress bar\n",
    "from tqdm.auto import tqdm\n",
    "\n",
    "# Set the seed and start the timer\n",
    "torch.manual_seed(42)\n",
    "train_time_start_on_cpu = timer()\n",
    "\n",
    "# Set the number of epochs (we'll keep this small for faster training times)\n",
    "epochs = 3\n",
    "\n",
    "# Create training and testing loop\n",
    "for epoch in tqdm(range(epochs)):\n",
    "    print(f\"Epoch: {epoch}\\n-------\")\n",
    "    ### Training\n",
    "    train_loss = 0\n",
    "    # Add a loop to loop through training batches\n",
    "    for batch, (X, y) in enumerate(train_dataloader):\n",
    "        model_0.train() \n",
    "        # 1. Forward pass\n",
    "        y_pred = model_0(X)\n",
    "\n",
    "        # 2. Calculate loss (per batch)\n",
    "        loss = loss_fn(y_pred, y)\n",
    "        train_loss += loss # accumulatively add up the loss per epoch \n",
    "\n",
    "        # 3. Optimizer zero grad\n",
    "        optimizer.zero_grad()\n",
    "\n",
    "        # 4. Loss backward\n",
    "        loss.backward()\n",
    "\n",
    "        # 5. Optimizer step\n",
    "        optimizer.step()\n",
    "\n",
    "        # Print out how many samples have been seen\n",
    "        if batch % 400 == 0:\n",
    "            print(f\"Looked at {batch * len(X)}/{len(train_dataloader.dataset)} samples\")\n",
    "\n",
    "    # Divide total train loss by length of train dataloader (average loss per batch per epoch)\n",
    "    train_loss /= len(train_dataloader)\n",
    "    \n",
    "    ### Testing\n",
    "    # Setup variables for accumulatively adding up loss and accuracy \n",
    "    test_loss, test_acc = 0, 0 \n",
    "    model_0.eval()\n",
    "    with torch.inference_mode():\n",
    "        for X, y in test_dataloader:\n",
    "            # 1. Forward pass\n",
    "            test_pred = model_0(X)\n",
    "           \n",
    "            # 2. Calculate loss (accumulatively)\n",
    "            test_loss += loss_fn(test_pred, y) # accumulatively add up the loss per epoch\n",
    "\n",
    "            # 3. Calculate accuracy (preds need to be same as y_true)\n",
    "            test_acc += accuracy_fn(y_true=y, y_pred=test_pred.argmax(dim=1))\n",
    "        \n",
    "        # Calculations on test metrics need to happen inside torch.inference_mode()\n",
    "        # Divide total test loss by length of test dataloader (per batch)\n",
    "        test_loss /= len(test_dataloader)\n",
    "\n",
    "        # Divide total accuracy by length of test dataloader (per batch)\n",
    "        test_acc /= len(test_dataloader)\n",
    "\n",
    "    ## Print out what's happening\n",
    "    print(f\"\\nTrain loss: {train_loss:.5f} | Test loss: {test_loss:.5f}, Test acc: {test_acc:.2f}%\\n\")\n",
    "\n",
    "# Calculate training time      \n",
    "train_time_end_on_cpu = timer()\n",
    "total_train_time_model_0 = print_train_time(start=train_time_start_on_cpu, \n",
    "                                           end=train_time_end_on_cpu,\n",
    "                                           device=str(next(model_0.parameters()).device))"
   ]
  },
  {
   "cell_type": "markdown",
   "id": "b073e145",
   "metadata": {
    "papermill": {
     "duration": 0.016033,
     "end_time": "2025-09-03T12:59:29.216420",
     "exception": false,
     "start_time": "2025-09-03T12:59:29.200387",
     "status": "completed"
    },
    "tags": []
   },
   "source": [
    "### 5. Setup device agnostic-code (for using a GPU if there is one available)"
   ]
  },
  {
   "cell_type": "code",
   "execution_count": 29,
   "id": "3e3ffbfd",
   "metadata": {
    "execution": {
     "iopub.execute_input": "2025-09-03T12:59:29.250373Z",
     "iopub.status.busy": "2025-09-03T12:59:29.249989Z",
     "iopub.status.idle": "2025-09-03T12:59:29.256050Z",
     "shell.execute_reply": "2025-09-03T12:59:29.255221Z"
    },
    "papermill": {
     "duration": 0.024857,
     "end_time": "2025-09-03T12:59:29.257587",
     "exception": false,
     "start_time": "2025-09-03T12:59:29.232730",
     "status": "completed"
    },
    "tags": []
   },
   "outputs": [
    {
     "data": {
      "text/plain": [
       "'cpu'"
      ]
     },
     "execution_count": 29,
     "metadata": {},
     "output_type": "execute_result"
    }
   ],
   "source": [
    "# setup device-agnostic code\n",
    "import torch \n",
    "\n",
    "device = \"cuda\" if torch.cuda.is_available() else \"cpu\"\n",
    "device"
   ]
  },
  {
   "cell_type": "markdown",
   "id": "fa3b1ded",
   "metadata": {
    "papermill": {
     "duration": 0.016185,
     "end_time": "2025-09-03T12:59:29.290314",
     "exception": false,
     "start_time": "2025-09-03T12:59:29.274129",
     "status": "completed"
    },
    "tags": []
   },
   "source": [
    "## 4. Make predicions and get model_0 results"
   ]
  },
  {
   "cell_type": "code",
   "execution_count": 30,
   "id": "39e340cc",
   "metadata": {
    "execution": {
     "iopub.execute_input": "2025-09-03T12:59:29.324442Z",
     "iopub.status.busy": "2025-09-03T12:59:29.324102Z",
     "iopub.status.idle": "2025-09-03T12:59:30.354763Z",
     "shell.execute_reply": "2025-09-03T12:59:30.353794Z"
    },
    "papermill": {
     "duration": 1.049432,
     "end_time": "2025-09-03T12:59:30.356141",
     "exception": false,
     "start_time": "2025-09-03T12:59:29.306709",
     "status": "completed"
    },
    "tags": []
   },
   "outputs": [
    {
     "data": {
      "text/plain": [
       "{'model_name': 'FashionMNISTModelV0',\n",
       " 'model_loss': 0.4766390025615692,\n",
       " 'model_acc': 83.42651757188499}"
      ]
     },
     "execution_count": 30,
     "metadata": {},
     "output_type": "execute_result"
    }
   ],
   "source": [
    "torch.manual_seed(42)\n",
    "def eval_model(model: torch.nn.Module, \n",
    "               data_loader: torch.utils.data.DataLoader, \n",
    "               loss_fn: torch.nn.Module, \n",
    "               accuracy_fn, \n",
    "               device = device):\n",
    "    \"\"\"Returns a dictionary containing the results of model predicting on data_loader.\n",
    "\n",
    "    Args:\n",
    "        model (torch.nn.Module): A PyTorch model capable of making predictions on data_loader.\n",
    "        data_loader (torch.utils.data.DataLoader): The target dataset to predict on.\n",
    "        loss_fn (torch.nn.Module): The loss function of model.\n",
    "        accuracy_fn: An accuracy function to compare the models predictions to the truth labels.\n",
    "\n",
    "    Returns:\n",
    "        (dict): Results of model making predictions on data_loader.\n",
    "    \"\"\"\n",
    "    loss, acc = 0, 0\n",
    "    model.eval()\n",
    "    with torch.inference_mode():\n",
    "        for X, y in data_loader:\n",
    "            # Make data device agnostic \n",
    "            X, y = X.to(device), y.to(device)\n",
    "            # Make predictions with the model\n",
    "            y_pred = model(X)\n",
    "            \n",
    "            # Accumulate the loss and accuracy values per batch\n",
    "            loss += loss_fn(y_pred, y)\n",
    "            acc += accuracy_fn(y_true=y, \n",
    "                                y_pred=y_pred.argmax(dim=1)) # For accuracy, need the prediction labels (logits -> pred_prob -> pred_labels)\n",
    "        \n",
    "        # Scale loss and acc to find the average loss/acc per batch\n",
    "        loss /= len(data_loader)\n",
    "        acc /= len(data_loader)\n",
    "        \n",
    "    return {\"model_name\": model.__class__.__name__, # only works when model was created with a class\n",
    "            \"model_loss\": loss.item(),\n",
    "            \"model_acc\": acc}\n",
    "\n",
    "# Calculate model 0 results on test dataset\n",
    "model_0_results = eval_model(model=model_0, data_loader=test_dataloader,\n",
    "    loss_fn=loss_fn, accuracy_fn=accuracy_fn\n",
    ")\n",
    "model_0_results"
   ]
  },
  {
   "cell_type": "code",
   "execution_count": 31,
   "id": "d5f47c3a",
   "metadata": {
    "execution": {
     "iopub.execute_input": "2025-09-03T12:59:30.393109Z",
     "iopub.status.busy": "2025-09-03T12:59:30.392780Z",
     "iopub.status.idle": "2025-09-03T12:59:30.533041Z",
     "shell.execute_reply": "2025-09-03T12:59:30.531888Z"
    },
    "papermill": {
     "duration": 0.159519,
     "end_time": "2025-09-03T12:59:30.534912",
     "exception": false,
     "start_time": "2025-09-03T12:59:30.375393",
     "status": "completed"
    },
    "tags": []
   },
   "outputs": [
    {
     "name": "stdout",
     "output_type": "stream",
     "text": [
      "/bin/bash: line 1: nvidia-smi: command not found\r\n"
     ]
    }
   ],
   "source": [
    "!nvidia-smi"
   ]
  },
  {
   "cell_type": "code",
   "execution_count": 32,
   "id": "7c18ea9c",
   "metadata": {
    "execution": {
     "iopub.execute_input": "2025-09-03T12:59:30.572162Z",
     "iopub.status.busy": "2025-09-03T12:59:30.571779Z",
     "iopub.status.idle": "2025-09-03T12:59:30.578457Z",
     "shell.execute_reply": "2025-09-03T12:59:30.577628Z"
    },
    "papermill": {
     "duration": 0.027187,
     "end_time": "2025-09-03T12:59:30.579951",
     "exception": false,
     "start_time": "2025-09-03T12:59:30.552764",
     "status": "completed"
    },
    "tags": []
   },
   "outputs": [
    {
     "data": {
      "text/plain": [
       "False"
      ]
     },
     "execution_count": 32,
     "metadata": {},
     "output_type": "execute_result"
    }
   ],
   "source": [
    "torch.cuda.is_available()"
   ]
  },
  {
   "cell_type": "markdown",
   "id": "6fb9ecb5",
   "metadata": {
    "papermill": {
     "duration": 0.016334,
     "end_time": "2025-09-03T12:59:30.612947",
     "exception": false,
     "start_time": "2025-09-03T12:59:30.596613",
     "status": "completed"
    },
    "tags": []
   },
   "source": [
    "## 6. Model 1 : Building a better model with non-linearity \n",
    "\n",
    "Let's leverage non-linearity's power"
   ]
  },
  {
   "cell_type": "code",
   "execution_count": 33,
   "id": "65de982c",
   "metadata": {
    "execution": {
     "iopub.execute_input": "2025-09-03T12:59:30.648161Z",
     "iopub.status.busy": "2025-09-03T12:59:30.647833Z",
     "iopub.status.idle": "2025-09-03T12:59:30.653762Z",
     "shell.execute_reply": "2025-09-03T12:59:30.653000Z"
    },
    "papermill": {
     "duration": 0.025795,
     "end_time": "2025-09-03T12:59:30.655150",
     "exception": false,
     "start_time": "2025-09-03T12:59:30.629355",
     "status": "completed"
    },
    "tags": []
   },
   "outputs": [],
   "source": [
    "# create a model with non-linear and linear layers \n",
    "\n",
    "class FashionMNISTModelV1(nn.Module):\n",
    "    def __init__(self, input_shape: int, hidden_units: int, output_shape: int):\n",
    "        super().__init__() \n",
    "        self.layer_stark = nn.Sequential(\n",
    "            nn.Flatten(), \n",
    "            nn.Linear(\n",
    "                in_features = input_shape, \n",
    "                out_features = hidden_units\n",
    "            ),\n",
    "            nn.ReLU(),\n",
    "            nn.Linear(\n",
    "                in_features = hidden_units, \n",
    "                out_features = output_shape\n",
    "            ),\n",
    "            nn.ReLU(),\n",
    "        )\n",
    "\n",
    "    def forward(self, x: torch.Tensor):\n",
    "        return self.layer_stark(x)\n"
   ]
  },
  {
   "cell_type": "code",
   "execution_count": 34,
   "id": "53bbfd46",
   "metadata": {
    "execution": {
     "iopub.execute_input": "2025-09-03T12:59:30.690773Z",
     "iopub.status.busy": "2025-09-03T12:59:30.689729Z",
     "iopub.status.idle": "2025-09-03T12:59:30.695642Z",
     "shell.execute_reply": "2025-09-03T12:59:30.694890Z"
    },
    "papermill": {
     "duration": 0.024951,
     "end_time": "2025-09-03T12:59:30.696948",
     "exception": false,
     "start_time": "2025-09-03T12:59:30.671997",
     "status": "completed"
    },
    "tags": []
   },
   "outputs": [
    {
     "data": {
      "text/plain": [
       "device(type='cpu')"
      ]
     },
     "execution_count": 34,
     "metadata": {},
     "output_type": "execute_result"
    }
   ],
   "source": [
    "next(model_0.parameters()).device"
   ]
  },
  {
   "cell_type": "code",
   "execution_count": 35,
   "id": "2c430348",
   "metadata": {
    "execution": {
     "iopub.execute_input": "2025-09-03T12:59:30.731587Z",
     "iopub.status.busy": "2025-09-03T12:59:30.731262Z",
     "iopub.status.idle": "2025-09-03T12:59:30.737347Z",
     "shell.execute_reply": "2025-09-03T12:59:30.736307Z"
    },
    "papermill": {
     "duration": 0.024972,
     "end_time": "2025-09-03T12:59:30.738822",
     "exception": false,
     "start_time": "2025-09-03T12:59:30.713850",
     "status": "completed"
    },
    "tags": []
   },
   "outputs": [
    {
     "data": {
      "text/plain": [
       "'cpu'"
      ]
     },
     "execution_count": 35,
     "metadata": {},
     "output_type": "execute_result"
    }
   ],
   "source": [
    "device"
   ]
  },
  {
   "cell_type": "code",
   "execution_count": 36,
   "id": "6b712c46",
   "metadata": {
    "execution": {
     "iopub.execute_input": "2025-09-03T12:59:30.774366Z",
     "iopub.status.busy": "2025-09-03T12:59:30.774017Z",
     "iopub.status.idle": "2025-09-03T12:59:30.783315Z",
     "shell.execute_reply": "2025-09-03T12:59:30.782508Z"
    },
    "papermill": {
     "duration": 0.028766,
     "end_time": "2025-09-03T12:59:30.784855",
     "exception": false,
     "start_time": "2025-09-03T12:59:30.756089",
     "status": "completed"
    },
    "tags": []
   },
   "outputs": [
    {
     "data": {
      "text/plain": [
       "device(type='cpu')"
      ]
     },
     "execution_count": 36,
     "metadata": {},
     "output_type": "execute_result"
    }
   ],
   "source": [
    "model_1 = FashionMNISTModelV1(\n",
    "    input_shape = 28*28, # 784\n",
    "    hidden_units = 10, \n",
    "    output_shape = len(class_names)\n",
    ").to(device)\n",
    "\n",
    "next(model_1.parameters()).device"
   ]
  },
  {
   "cell_type": "markdown",
   "id": "e1ab9e73",
   "metadata": {
    "papermill": {
     "duration": 0.019029,
     "end_time": "2025-09-03T12:59:30.820745",
     "exception": false,
     "start_time": "2025-09-03T12:59:30.801716",
     "status": "completed"
    },
    "tags": []
   },
   "source": [
    "### 6.1 Setup loss, optimizer and evaluation metrics"
   ]
  },
  {
   "cell_type": "code",
   "execution_count": 37,
   "id": "9a771f4c",
   "metadata": {
    "execution": {
     "iopub.execute_input": "2025-09-03T12:59:30.855555Z",
     "iopub.status.busy": "2025-09-03T12:59:30.855219Z",
     "iopub.status.idle": "2025-09-03T12:59:30.860610Z",
     "shell.execute_reply": "2025-09-03T12:59:30.859640Z"
    },
    "papermill": {
     "duration": 0.024529,
     "end_time": "2025-09-03T12:59:30.862027",
     "exception": false,
     "start_time": "2025-09-03T12:59:30.837498",
     "status": "completed"
    },
    "tags": []
   },
   "outputs": [],
   "source": [
    "from helper_functions import accuracy_fn \n",
    "\n",
    "loss_fn = nn.CrossEntropyLoss()\n",
    "optimizer = torch.optim.SGD(\n",
    "    params=model_1.parameters(),\n",
    "    lr=0.1\n",
    ")"
   ]
  },
  {
   "cell_type": "markdown",
   "id": "f6c7631a",
   "metadata": {
    "papermill": {
     "duration": 0.016418,
     "end_time": "2025-09-03T12:59:30.895505",
     "exception": false,
     "start_time": "2025-09-03T12:59:30.879087",
     "status": "completed"
    },
    "tags": []
   },
   "source": [
    "### 6.2 Functionizing training and evaluation/teting loops\n",
    "1. training loop - `train_step()`\n",
    "2. test loop - `test_step()`"
   ]
  },
  {
   "cell_type": "code",
   "execution_count": 38,
   "id": "b32b72db",
   "metadata": {
    "execution": {
     "iopub.execute_input": "2025-09-03T12:59:30.931093Z",
     "iopub.status.busy": "2025-09-03T12:59:30.930770Z",
     "iopub.status.idle": "2025-09-03T12:59:30.937837Z",
     "shell.execute_reply": "2025-09-03T12:59:30.937038Z"
    },
    "papermill": {
     "duration": 0.026681,
     "end_time": "2025-09-03T12:59:30.939323",
     "exception": false,
     "start_time": "2025-09-03T12:59:30.912642",
     "status": "completed"
    },
    "tags": []
   },
   "outputs": [],
   "source": [
    "def train_step(\n",
    "    model: torch.nn.Module, \n",
    "    data_loader: torch.utils.data.DataLoader, \n",
    "    loss_fn: torch.nn.Module, \n",
    "    optimizer: torch.optim.Optimizer, \n",
    "    accuracy_fn, \n",
    "    device: torch.device = device \n",
    "):\n",
    "    \"\"\"\n",
    "    Performs a training with model trying to learn on data_loader \n",
    "    \"\"\"\n",
    "    train_loss, train_acc = 0,0 \n",
    "\n",
    "    # put model into training mode \n",
    "    model.train() \n",
    "\n",
    "    # add a loop to loop through the training batches \n",
    "    for batch, (X,y) in enumerate(data_loader):\n",
    "        # put data to target device \n",
    "        X,y = X.to(device), y.to(device)\n",
    "\n",
    "        # 1. forward pass \n",
    "        y_pred = model(X)\n",
    "\n",
    "        # 2. calculate loss and accuracy per batch and accumulate them into train_loss and train_acc\n",
    "        loss = loss_fn(y_pred, y)\n",
    "        train_loss += loss \n",
    "\n",
    "        train_acc += accuracy_fn(\n",
    "            y_true = y,\n",
    "            y_pred = y_pred.argmax(dim=1) # logits -> prediction labels \n",
    "        )\n",
    "\n",
    "        # 3. optimizer zero grad \n",
    "        optimizer.zero_grad() \n",
    "\n",
    "        # 4. backpropagation\n",
    "        loss.backward()\n",
    "\n",
    "        # 5. optimizer step (update the model's parameters once per batch)\n",
    "        optimizer.step()\n",
    "\n",
    "    # divite total train loss and accuracy by length of train dataloader \n",
    "    train_loss /= len(data_loader)\n",
    "    train_acc /= len(data_loader)\n",
    "    \n",
    "    print(f\"Train loss: {train_loss:.5f} | Train acc: {train_acc:.2f}%\")\n",
    "\n"
   ]
  },
  {
   "cell_type": "code",
   "execution_count": 39,
   "id": "7bd59989",
   "metadata": {
    "execution": {
     "iopub.execute_input": "2025-09-03T12:59:30.974872Z",
     "iopub.status.busy": "2025-09-03T12:59:30.974016Z",
     "iopub.status.idle": "2025-09-03T12:59:30.980603Z",
     "shell.execute_reply": "2025-09-03T12:59:30.979772Z"
    },
    "papermill": {
     "duration": 0.02577,
     "end_time": "2025-09-03T12:59:30.982093",
     "exception": false,
     "start_time": "2025-09-03T12:59:30.956323",
     "status": "completed"
    },
    "tags": []
   },
   "outputs": [],
   "source": [
    "def test_step(\n",
    "    model: torch.nn.Module, \n",
    "    data_loader: torch.utils.data.DataLoader, \n",
    "    loss_fn: torch.nn.Module, \n",
    "    accuracy_fn, \n",
    "    device: torch.device = device \n",
    "):\n",
    "    \"\"\"\n",
    "    Performs a testing loop step on model going over data_loader \n",
    "    \"\"\"\n",
    "\n",
    "    test_loss, test_acc = 0, 0\n",
    "\n",
    "    # put the model in eval mode \n",
    "    model.eval()\n",
    "\n",
    "    # turn on inference mode context manager \n",
    "    with torch.inference_mode():\n",
    "        for X, y in data_loader: \n",
    "            #send the data to the target device \n",
    "            X, y = X.to(device), y.to(device)\n",
    "\n",
    "            # 1. forward pass \n",
    "            test_pred = model(X) \n",
    "\n",
    "            # 2. calculate loss and accuracy \n",
    "            test_loss += loss_fn(test_pred, y)\n",
    "            test_acc += accuracy_fn(\n",
    "                y_true=y,\n",
    "                y_pred=test_pred.argmax(dim=1) # logits -> prediction labels\n",
    "            )\n",
    "\n",
    "        # adjust metrics and print out \n",
    "        test_loss /= len(data_loader)\n",
    "        test_acc /= len(data_loader)\n",
    "        print(f\"Test loss: {test_loss:.5f} | Test acc: {test_acc:.2f}%\")"
   ]
  },
  {
   "cell_type": "code",
   "execution_count": 40,
   "id": "aea33e9b",
   "metadata": {
    "execution": {
     "iopub.execute_input": "2025-09-03T12:59:31.016714Z",
     "iopub.status.busy": "2025-09-03T12:59:31.016406Z",
     "iopub.status.idle": "2025-09-03T12:59:58.805249Z",
     "shell.execute_reply": "2025-09-03T12:59:58.804193Z"
    },
    "papermill": {
     "duration": 27.808005,
     "end_time": "2025-09-03T12:59:58.806807",
     "exception": false,
     "start_time": "2025-09-03T12:59:30.998802",
     "status": "completed"
    },
    "tags": []
   },
   "outputs": [
    {
     "data": {
      "application/vnd.jupyter.widget-view+json": {
       "model_id": "7fa13e42a0f144b7add7874c3d271ecc",
       "version_major": 2,
       "version_minor": 0
      },
      "text/plain": [
       "  0%|          | 0/3 [00:00<?, ?it/s]"
      ]
     },
     "metadata": {},
     "output_type": "display_data"
    },
    {
     "name": "stdout",
     "output_type": "stream",
     "text": [
      "Epoch: 0\n",
      "Train loss: 0.98248 | Train acc: 65.06%\n",
      "Test loss: 0.76060 | Test acc: 72.80%\n",
      "Epoch: 1\n",
      "Train loss: 0.70366 | Train acc: 74.48%\n",
      "Test loss: 0.71731 | Test acc: 73.67%\n",
      "Epoch: 2\n",
      "Train loss: 0.67375 | Train acc: 75.31%\n",
      "Test loss: 0.69170 | Test acc: 74.81%\n",
      "Train time on cpu: 27.779 seconds\n"
     ]
    }
   ],
   "source": [
    "torch.manual_seed(42)\n",
    "\n",
    "# measure time\n",
    "from timeit import default_timer as timer \n",
    "\n",
    "train_time_start_on_gpu = timer() \n",
    "\n",
    "epochs = 3 \n",
    "\n",
    "# create a optimization and evaluation loop using train and test sets \n",
    "for epoch in tqdm(range(epochs)):\n",
    "    print(f\"Epoch: {epoch}\")\n",
    "    train_step(\n",
    "        model=model_1,\n",
    "        data_loader=train_dataloader,\n",
    "        loss_fn=loss_fn,\n",
    "        optimizer=optimizer,\n",
    "        accuracy_fn=accuracy_fn, \n",
    "        device=device\n",
    "    )\n",
    "    test_step(\n",
    "        model=model_1,\n",
    "        data_loader=test_dataloader,\n",
    "        loss_fn=loss_fn,\n",
    "        accuracy_fn=accuracy_fn,\n",
    "        device=device\n",
    "    )\n",
    "\n",
    "train_time_end_on_gpu = timer() \n",
    "total_train_time_model_1 = print_train_time(\n",
    "    start=train_time_start_on_gpu, \n",
    "    end=train_time_end_on_gpu,\n",
    "    device=device\n",
    ")"
   ]
  },
  {
   "cell_type": "code",
   "execution_count": 41,
   "id": "d0d87ad9",
   "metadata": {
    "execution": {
     "iopub.execute_input": "2025-09-03T12:59:58.845815Z",
     "iopub.status.busy": "2025-09-03T12:59:58.845493Z",
     "iopub.status.idle": "2025-09-03T12:59:58.851029Z",
     "shell.execute_reply": "2025-09-03T12:59:58.850346Z"
    },
    "papermill": {
     "duration": 0.025256,
     "end_time": "2025-09-03T12:59:58.852463",
     "exception": false,
     "start_time": "2025-09-03T12:59:58.827207",
     "status": "completed"
    },
    "tags": []
   },
   "outputs": [
    {
     "data": {
      "text/plain": [
       "({'model_name': 'FashionMNISTModelV0',\n",
       "  'model_loss': 0.4766390025615692,\n",
       "  'model_acc': 83.42651757188499},\n",
       " 27.640296321999926)"
      ]
     },
     "execution_count": 41,
     "metadata": {},
     "output_type": "execute_result"
    }
   ],
   "source": [
    "model_0_results, total_train_time_model_0"
   ]
  },
  {
   "cell_type": "markdown",
   "id": "e7d2f5d6",
   "metadata": {
    "papermill": {
     "duration": 0.017425,
     "end_time": "2025-09-03T12:59:58.887397",
     "exception": false,
     "start_time": "2025-09-03T12:59:58.869972",
     "status": "completed"
    },
    "tags": []
   },
   "source": [
    "**Note**: sometimes, depending on data/hardware we might find that our model trains faster on CPU than GPU\n",
    "* The reasons behind this\n",
    "    1. it could be that the overhead for copying data/model to and from the GPU outweights the compute benefits offered by the GPU\n",
    "    2. the hardware we're using has a better CPU in terms of compute capability than the GPU (not to likely though)\n",
    "\n",
    "* [more on it](https://horace.io/brrr_intro.html)"
   ]
  },
  {
   "cell_type": "code",
   "execution_count": 42,
   "id": "e0647fb8",
   "metadata": {
    "execution": {
     "iopub.execute_input": "2025-09-03T12:59:58.924947Z",
     "iopub.status.busy": "2025-09-03T12:59:58.924606Z",
     "iopub.status.idle": "2025-09-03T12:59:59.958146Z",
     "shell.execute_reply": "2025-09-03T12:59:59.957358Z"
    },
    "papermill": {
     "duration": 1.053416,
     "end_time": "2025-09-03T12:59:59.959640",
     "exception": false,
     "start_time": "2025-09-03T12:59:58.906224",
     "status": "completed"
    },
    "tags": []
   },
   "outputs": [
    {
     "data": {
      "text/plain": [
       "{'model_name': 'FashionMNISTModelV1',\n",
       " 'model_loss': 0.6917039155960083,\n",
       " 'model_acc': 74.810303514377}"
      ]
     },
     "execution_count": 42,
     "metadata": {},
     "output_type": "execute_result"
    }
   ],
   "source": [
    "# get model_1 result dictionary \n",
    "model_1_results = eval_model(\n",
    "    model=model_1, \n",
    "    data_loader=test_dataloader, \n",
    "    loss_fn=loss_fn,\n",
    "    accuracy_fn=accuracy_fn,\n",
    "    device=device\n",
    ")\n",
    "\n",
    "model_1_results"
   ]
  },
  {
   "cell_type": "markdown",
   "id": "8ce7e14f",
   "metadata": {
    "papermill": {
     "duration": 0.016894,
     "end_time": "2025-09-03T12:59:59.993996",
     "exception": false,
     "start_time": "2025-09-03T12:59:59.977102",
     "status": "completed"
    },
    "tags": []
   },
   "source": [
    "## Model_2 : Building a Convolutional Neural Network (CNN)\n",
    "* CNNs are also known as ConvNets\n",
    "* CNNs are known for their capabilities to find patterns in visual data\n",
    "> [cnn_explainer](https://poloclub.github.io/cnn-explainer/)"
   ]
  },
  {
   "cell_type": "code",
   "execution_count": 43,
   "id": "9518c634",
   "metadata": {
    "execution": {
     "iopub.execute_input": "2025-09-03T13:00:00.029975Z",
     "iopub.status.busy": "2025-09-03T13:00:00.029413Z",
     "iopub.status.idle": "2025-09-03T13:00:00.038108Z",
     "shell.execute_reply": "2025-09-03T13:00:00.037214Z"
    },
    "papermill": {
     "duration": 0.028451,
     "end_time": "2025-09-03T13:00:00.039651",
     "exception": false,
     "start_time": "2025-09-03T13:00:00.011200",
     "status": "completed"
    },
    "tags": []
   },
   "outputs": [],
   "source": [
    "# create a convolutional netural network \n",
    "class FashionMNISTModelV2(nn.Module):\n",
    "    \"\"\"\n",
    "    Model architecture that replicates the TinyVGG \n",
    "    model from CNN explainer website\n",
    "    \"\"\"\n",
    "    def __init__(\n",
    "                    self, \n",
    "                    input_shape: int, \n",
    "                    hidden_units: int, \n",
    "                    output_shape: int\n",
    "                ):\n",
    "        super().__init__() \n",
    "        self.conv_block_1 = nn.Sequential(\n",
    "            nn.Conv2d(\n",
    "                in_channels=input_shape, \n",
    "                out_channels=hidden_units, \n",
    "                kernel_size=3,\n",
    "                stride=1,\n",
    "                padding=1\n",
    "            ),\n",
    "            nn.ReLU(),\n",
    "            nn.Conv2d(\n",
    "                in_channels=hidden_units,\n",
    "                out_channels=hidden_units,\n",
    "                kernel_size=3,\n",
    "                stride=1,\n",
    "                padding=1\n",
    "            ),\n",
    "            nn.ReLU(),\n",
    "            nn.MaxPool2d(\n",
    "                kernel_size=2\n",
    "            )\n",
    "        )\n",
    "        self.conv_block_2 = nn.Sequential(\n",
    "            nn.Conv2d(\n",
    "                in_channels=hidden_units, \n",
    "                out_channels=hidden_units,\n",
    "                kernel_size=3,\n",
    "                stride=1,\n",
    "                padding=1\n",
    "            ),\n",
    "            nn.ReLU(),\n",
    "            nn.Conv2d(\n",
    "                in_channels=hidden_units, \n",
    "                out_channels=hidden_units,\n",
    "                kernel_size=3,\n",
    "                stride=1,\n",
    "                padding=1\n",
    "            ),\n",
    "            nn.ReLU(),\n",
    "            nn.MaxPool2d(\n",
    "                kernel_size=2\n",
    "            )\n",
    "        )\n",
    "        self.classifier = nn.Sequential(\n",
    "            nn.Flatten(),\n",
    "            nn.Linear(\n",
    "                in_features=hidden_units*7*7,\n",
    "                out_features=output_shape\n",
    "            )\n",
    "        )\n",
    "\n",
    "    def forward(self, x):\n",
    "        x = self.conv_block_1(x)\n",
    "        print(f\"Output shape of conv_block_1: {x.shape}\")\n",
    "        x = self.conv_block_2(x)\n",
    "        print(f\"Output shape of conv_block_2: {x.shape}\")\n",
    "        x = self.classifier(x)\n",
    "        return x "
   ]
  },
  {
   "cell_type": "code",
   "execution_count": 44,
   "id": "8bdf0e20",
   "metadata": {
    "execution": {
     "iopub.execute_input": "2025-09-03T13:00:00.075788Z",
     "iopub.status.busy": "2025-09-03T13:00:00.075469Z",
     "iopub.status.idle": "2025-09-03T13:00:00.080827Z",
     "shell.execute_reply": "2025-09-03T13:00:00.079941Z"
    },
    "papermill": {
     "duration": 0.025096,
     "end_time": "2025-09-03T13:00:00.082156",
     "exception": false,
     "start_time": "2025-09-03T13:00:00.057060",
     "status": "completed"
    },
    "tags": []
   },
   "outputs": [
    {
     "data": {
      "text/plain": [
       "torch.Size([1, 28, 28])"
      ]
     },
     "execution_count": 44,
     "metadata": {},
     "output_type": "execute_result"
    }
   ],
   "source": [
    "image.shape"
   ]
  },
  {
   "cell_type": "code",
   "execution_count": 45,
   "id": "cfc4c4a0",
   "metadata": {
    "execution": {
     "iopub.execute_input": "2025-09-03T13:00:00.118928Z",
     "iopub.status.busy": "2025-09-03T13:00:00.118627Z",
     "iopub.status.idle": "2025-09-03T13:00:00.128229Z",
     "shell.execute_reply": "2025-09-03T13:00:00.127489Z"
    },
    "papermill": {
     "duration": 0.029687,
     "end_time": "2025-09-03T13:00:00.129703",
     "exception": false,
     "start_time": "2025-09-03T13:00:00.100016",
     "status": "completed"
    },
    "tags": []
   },
   "outputs": [
    {
     "data": {
      "text/plain": [
       "FashionMNISTModelV2(\n",
       "  (conv_block_1): Sequential(\n",
       "    (0): Conv2d(1, 10, kernel_size=(3, 3), stride=(1, 1), padding=(1, 1))\n",
       "    (1): ReLU()\n",
       "    (2): Conv2d(10, 10, kernel_size=(3, 3), stride=(1, 1), padding=(1, 1))\n",
       "    (3): ReLU()\n",
       "    (4): MaxPool2d(kernel_size=2, stride=2, padding=0, dilation=1, ceil_mode=False)\n",
       "  )\n",
       "  (conv_block_2): Sequential(\n",
       "    (0): Conv2d(10, 10, kernel_size=(3, 3), stride=(1, 1), padding=(1, 1))\n",
       "    (1): ReLU()\n",
       "    (2): Conv2d(10, 10, kernel_size=(3, 3), stride=(1, 1), padding=(1, 1))\n",
       "    (3): ReLU()\n",
       "    (4): MaxPool2d(kernel_size=2, stride=2, padding=0, dilation=1, ceil_mode=False)\n",
       "  )\n",
       "  (classifier): Sequential(\n",
       "    (0): Flatten(start_dim=1, end_dim=-1)\n",
       "    (1): Linear(in_features=490, out_features=10, bias=True)\n",
       "  )\n",
       ")"
      ]
     },
     "execution_count": 45,
     "metadata": {},
     "output_type": "execute_result"
    }
   ],
   "source": [
    "torch.manual_seed(42)\n",
    "model_2 = FashionMNISTModelV2(\n",
    "    input_shape = 1, # color channels \n",
    "    hidden_units = 10, \n",
    "    output_shape = len(class_names)\n",
    ").to(device)\n",
    "\n",
    "model_2"
   ]
  },
  {
   "cell_type": "markdown",
   "id": "38217468",
   "metadata": {
    "papermill": {
     "duration": 0.018326,
     "end_time": "2025-09-03T13:00:00.166351",
     "exception": false,
     "start_time": "2025-09-03T13:00:00.148025",
     "status": "completed"
    },
    "tags": []
   },
   "source": [
    "### 7.1 Stepping through `Conv2d`"
   ]
  },
  {
   "cell_type": "code",
   "execution_count": 46,
   "id": "91e3010b",
   "metadata": {
    "execution": {
     "iopub.execute_input": "2025-09-03T13:00:00.203776Z",
     "iopub.status.busy": "2025-09-03T13:00:00.203486Z",
     "iopub.status.idle": "2025-09-03T13:00:00.218105Z",
     "shell.execute_reply": "2025-09-03T13:00:00.217110Z"
    },
    "papermill": {
     "duration": 0.034825,
     "end_time": "2025-09-03T13:00:00.219803",
     "exception": false,
     "start_time": "2025-09-03T13:00:00.184978",
     "status": "completed"
    },
    "tags": []
   },
   "outputs": [
    {
     "name": "stdout",
     "output_type": "stream",
     "text": [
      "Image batch shape: torch.Size([32, 3, 64, 64])\n",
      "Single image shape: torch.Size([3, 64, 64])\n",
      "Test image:\n",
      " tensor([[[ 1.9269,  1.4873,  0.9007,  ...,  1.8446, -1.1845,  1.3835],\n",
      "         [ 1.4451,  0.8564,  2.2181,  ...,  0.3399,  0.7200,  0.4114],\n",
      "         [ 1.9312,  1.0119, -1.4364,  ..., -0.5558,  0.7043,  0.7099],\n",
      "         ...,\n",
      "         [-0.5610, -0.4830,  0.4770,  ..., -0.2713, -0.9537, -0.6737],\n",
      "         [ 0.3076, -0.1277,  0.0366,  ..., -2.0060,  0.2824, -0.8111],\n",
      "         [-1.5486,  0.0485, -0.7712,  ..., -0.1403,  0.9416, -0.0118]],\n",
      "\n",
      "        [[-0.5197,  1.8524,  1.8365,  ...,  0.8935, -1.5114, -0.8515],\n",
      "         [ 2.0818,  1.0677, -1.4277,  ...,  1.6612, -2.6223, -0.4319],\n",
      "         [-0.1010, -0.4388, -1.9775,  ...,  0.2106,  0.2536, -0.7318],\n",
      "         ...,\n",
      "         [ 0.2779,  0.7342, -0.3736,  ..., -0.4601,  0.1815,  0.1850],\n",
      "         [ 0.7205, -0.2833,  0.0937,  ..., -0.1002, -2.3609,  2.2465],\n",
      "         [-1.3242, -0.1973,  0.2920,  ...,  0.5409,  0.6940,  1.8563]],\n",
      "\n",
      "        [[-0.7978,  1.0261,  1.1465,  ...,  1.2134,  0.9354, -0.0780],\n",
      "         [-1.4647, -1.9571,  0.1017,  ..., -1.9986, -0.7409,  0.7011],\n",
      "         [-1.3938,  0.8466, -1.7191,  ..., -1.1867,  0.1320,  0.3407],\n",
      "         ...,\n",
      "         [ 0.8206, -0.3745,  1.2499,  ..., -0.0676,  0.0385,  0.6335],\n",
      "         [-0.5589, -0.3393,  0.2347,  ...,  2.1181,  2.4569,  1.3083],\n",
      "         [-0.4092,  1.5199,  0.2401,  ..., -0.2558,  0.7870,  0.9924]]])\n"
     ]
    }
   ],
   "source": [
    "torch.manual_seed(42)\n",
    "\n",
    "# create a batch of images \n",
    "images = torch.randn(size=(32,3,64,64))\n",
    "test_image = images[0]\n",
    "\n",
    "print(f\"Image batch shape: {images.shape}\")\n",
    "print(f\"Single image shape: {test_image.shape}\")\n",
    "print(f\"Test image:\\n {test_image}\")"
   ]
  },
  {
   "cell_type": "code",
   "execution_count": 47,
   "id": "60f602e3",
   "metadata": {
    "execution": {
     "iopub.execute_input": "2025-09-03T13:00:00.257066Z",
     "iopub.status.busy": "2025-09-03T13:00:00.256758Z",
     "iopub.status.idle": "2025-09-03T13:00:00.280625Z",
     "shell.execute_reply": "2025-09-03T13:00:00.279740Z"
    },
    "papermill": {
     "duration": 0.044529,
     "end_time": "2025-09-03T13:00:00.282435",
     "exception": false,
     "start_time": "2025-09-03T13:00:00.237906",
     "status": "completed"
    },
    "tags": []
   },
   "outputs": [
    {
     "data": {
      "text/plain": [
       "tensor([[[ 1.3047,  1.4238,  0.9435,  ...,  0.3078,  0.4244, -0.3909],\n",
       "         [ 0.6132,  1.5396,  0.0516,  ...,  0.8711,  0.4256, -0.3416],\n",
       "         [ 1.0524,  0.3662,  1.0114,  ...,  0.2809, -0.2741,  0.3787],\n",
       "         ...,\n",
       "         [ 0.0377,  0.2981, -0.2432,  ..., -0.7283, -0.5767, -0.0783],\n",
       "         [-0.2693, -0.0386, -0.0781,  ...,  0.4228, -0.1802, -0.5140],\n",
       "         [ 0.5006, -0.5684,  0.1166,  ...,  0.5425, -0.3335,  0.7756]],\n",
       "\n",
       "        [[-0.1153,  0.5129, -0.7227,  ..., -0.6758,  0.4840, -0.8125],\n",
       "         [ 0.2266, -0.2840, -0.0319,  ...,  1.5599, -1.2449, -0.4410],\n",
       "         [-0.6666,  0.2753, -0.1262,  ...,  0.1999, -0.8856, -0.4292],\n",
       "         ...,\n",
       "         [-0.0647, -0.1984, -0.6386,  ..., -0.0585, -0.7833, -0.0764],\n",
       "         [ 0.2940, -0.6306, -0.2052,  ...,  0.2456, -0.7134,  0.7373],\n",
       "         [-0.1683, -0.8397,  0.2643,  ...,  0.2593, -0.5630,  0.1587]],\n",
       "\n",
       "        [[ 0.4864, -0.7476, -0.6414,  ...,  0.5477, -1.2156,  0.2989],\n",
       "         [-0.5791,  0.4414,  0.5100,  ...,  0.2638,  1.1258, -0.0662],\n",
       "         [ 0.6065,  0.8117,  0.3191,  ...,  0.2319,  0.5003,  0.0034],\n",
       "         ...,\n",
       "         [-0.7888,  0.2941,  0.4417,  ...,  0.4814, -0.4799,  0.6813],\n",
       "         [-0.2186,  0.6059, -0.0415,  ...,  0.2521, -0.4372, -0.9096],\n",
       "         [ 0.4489, -0.2549, -0.3202,  ..., -0.7820, -0.5369,  0.2537]],\n",
       "\n",
       "        ...,\n",
       "\n",
       "        [[-0.5501,  0.9690,  1.2804,  ...,  0.2162,  0.6271,  0.3134],\n",
       "         [ 0.7574, -0.2560, -0.0477,  ...,  0.7553, -0.7055, -0.0276],\n",
       "         [-0.1636,  1.5595, -0.2209,  ...,  0.7754,  0.0750,  0.0063],\n",
       "         ...,\n",
       "         [-0.1605, -0.3486, -0.7173,  ...,  0.7219,  0.1513, -0.7218],\n",
       "         [ 0.5251,  0.0119,  0.1017,  ..., -0.8127, -0.1257,  0.4847],\n",
       "         [-0.6399,  0.1466, -0.2109,  ...,  0.7455, -0.6983,  0.1332]],\n",
       "\n",
       "        [[ 0.1910, -1.2740, -2.1166,  ..., -0.8778, -0.0292, -0.3584],\n",
       "         [-0.1359,  0.3841,  1.1322,  ...,  0.0109,  0.6058, -0.0432],\n",
       "         [ 0.7342,  0.1664,  0.1873,  ...,  0.9096, -0.5399, -0.2297],\n",
       "         ...,\n",
       "         [-0.0607,  0.0535,  0.4411,  ..., -1.0056,  0.3759,  0.2856],\n",
       "         [ 0.1089,  0.3031, -0.1590,  ..., -0.4271, -0.4876, -0.2490],\n",
       "         [ 0.4154,  0.0436,  0.3085,  ..., -0.1570, -0.7712, -0.3026]],\n",
       "\n",
       "        [[-0.1319, -0.2679, -0.4623,  ...,  0.4089, -0.7995,  0.0225],\n",
       "         [-1.2177, -1.1865, -0.7280,  ..., -0.0542, -1.5949,  0.3016],\n",
       "         [-0.5843, -0.6345, -0.5920,  ..., -0.7963, -0.0647,  0.1041],\n",
       "         ...,\n",
       "         [ 0.3000, -0.2609, -0.2328,  ..., -0.8436, -0.7524,  0.2401],\n",
       "         [-0.2574, -1.1399, -0.1751,  ...,  0.3377,  0.3493,  1.2920],\n",
       "         [-0.6151,  0.4477,  0.0631,  ..., -0.5504,  0.0327, -0.3162]]],\n",
       "       grad_fn=<SqueezeBackward1>)"
      ]
     },
     "execution_count": 47,
     "metadata": {},
     "output_type": "execute_result"
    }
   ],
   "source": [
    "torch.manual_seed(42)\n",
    "\n",
    "# create a single conv2d layer \n",
    "conv_layer = nn.Conv2d(\n",
    "    in_channels = 3, # number of color channels \n",
    "    out_channels = 10, # hidden units \n",
    "    kernel_size = 3, # (3,3)\n",
    "    stride = 1, # how many pixels do we jump (skip) as we move the kernel?\n",
    "    padding = 1 # \n",
    "    \n",
    ")\n",
    "\n",
    "conv_output = conv_layer(test_image)\n",
    "conv_output"
   ]
  },
  {
   "cell_type": "code",
   "execution_count": 48,
   "id": "b70a53b6",
   "metadata": {
    "execution": {
     "iopub.execute_input": "2025-09-03T13:00:00.324405Z",
     "iopub.status.busy": "2025-09-03T13:00:00.324052Z",
     "iopub.status.idle": "2025-09-03T13:00:00.329852Z",
     "shell.execute_reply": "2025-09-03T13:00:00.329007Z"
    },
    "papermill": {
     "duration": 0.028083,
     "end_time": "2025-09-03T13:00:00.331202",
     "exception": false,
     "start_time": "2025-09-03T13:00:00.303119",
     "status": "completed"
    },
    "tags": []
   },
   "outputs": [
    {
     "data": {
      "text/plain": [
       "(torch.Size([3, 64, 64]), torch.Size([10, 64, 64]))"
      ]
     },
     "execution_count": 48,
     "metadata": {},
     "output_type": "execute_result"
    }
   ],
   "source": [
    "test_image.shape, conv_output.shape"
   ]
  },
  {
   "cell_type": "code",
   "execution_count": 49,
   "id": "025a09e5",
   "metadata": {
    "execution": {
     "iopub.execute_input": "2025-09-03T13:00:00.370024Z",
     "iopub.status.busy": "2025-09-03T13:00:00.369215Z",
     "iopub.status.idle": "2025-09-03T13:00:00.379904Z",
     "shell.execute_reply": "2025-09-03T13:00:00.378981Z"
    },
    "papermill": {
     "duration": 0.0317,
     "end_time": "2025-09-03T13:00:00.381719",
     "exception": false,
     "start_time": "2025-09-03T13:00:00.350019",
     "status": "completed"
    },
    "tags": []
   },
   "outputs": [
    {
     "name": "stdout",
     "output_type": "stream",
     "text": [
      "Test image original shape: torch.Size([3, 64, 64])\n",
      "Shape after going through conv_layer(): torch.Size([10, 64, 64])\n",
      "Shape after going through conv_layer() and max_pool_layer() : torch.Size([10, 32, 32])\n"
     ]
    }
   ],
   "source": [
    "print(f\"Test image original shape: {test_image.shape}\")\n",
    "max_pool_layer = nn.MaxPool2d(kernel_size=2)\n",
    "\n",
    "# pass data through just the conv_layer \n",
    "test_image_through_conv = conv_layer(test_image)\n",
    "print(f\"Shape after going through conv_layer(): {test_image_through_conv.shape}\")\n",
    "\n",
    "# pass data through the max pool layer \n",
    "test_image_through_conv_and_max_pool = max_pool_layer(test_image_through_conv)\n",
    "print(f\"Shape after going through conv_layer() and max_pool_layer() : {test_image_through_conv_and_max_pool.shape}\")"
   ]
  },
  {
   "cell_type": "markdown",
   "id": "734e12f8",
   "metadata": {
    "papermill": {
     "duration": 0.018026,
     "end_time": "2025-09-03T13:00:00.421344",
     "exception": false,
     "start_time": "2025-09-03T13:00:00.403318",
     "status": "completed"
    },
    "tags": []
   },
   "source": [
    "The `MaxPool` layer is going to compress data\n",
    "* *intelligence is compression*\n",
    "* the convolutional layer is trying to learn the most important features within an image\n",
    "* we don't decide what a convolutional layer learns, it learns features on its own\n",
    "* we pass those features through a ReLU, non linear activation, in case our data requires non linear functions\n",
    "* and then we pass those features through a MaxPool layer to **compress** them even further\n",
    "* **The convolutional layer can compresses features into a smaller space, but the MaxPooling layer *really* compresses them**"
   ]
  },
  {
   "cell_type": "code",
   "execution_count": 50,
   "id": "c0adbb96",
   "metadata": {
    "execution": {
     "iopub.execute_input": "2025-09-03T13:00:00.459082Z",
     "iopub.status.busy": "2025-09-03T13:00:00.458766Z",
     "iopub.status.idle": "2025-09-03T13:00:00.468271Z",
     "shell.execute_reply": "2025-09-03T13:00:00.467271Z"
    },
    "papermill": {
     "duration": 0.03025,
     "end_time": "2025-09-03T13:00:00.469817",
     "exception": false,
     "start_time": "2025-09-03T13:00:00.439567",
     "status": "completed"
    },
    "tags": []
   },
   "outputs": [
    {
     "name": "stdout",
     "output_type": "stream",
     "text": [
      "\n",
      "Random tensor: \n",
      "tensor([[[0.3367, 0.1288],\n",
      "         [0.2345, 0.2303]]])\n",
      "\n",
      "Random tensor shape: torch.Size([1, 2, 2])\n",
      "\n",
      "Max pool tensor: \n",
      "tensor([[[0.3367]]])\n",
      "\n",
      "Max pool tensor shape: torch.Size([1, 1, 1])\n"
     ]
    }
   ],
   "source": [
    "torch.manual_seed(42)\n",
    "\n",
    "# create a random tensor with a similar #dims to our images\n",
    "random_tensor = torch.randn(size=(1,2,2))\n",
    "print(f\"\\nRandom tensor: \\n{random_tensor}\")\n",
    "print(f\"\\nRandom tensor shape: {random_tensor.shape}\")\n",
    "\n",
    "max_pool_layer = nn.MaxPool2d(kernel_size=2)\n",
    "\n",
    "max_pool_tensor = max_pool_layer(random_tensor)\n",
    "print(f\"\\nMax pool tensor: \\n{max_pool_tensor}\")\n",
    "print(f\"\\nMax pool tensor shape: {max_pool_tensor.shape}\")"
   ]
  },
  {
   "cell_type": "markdown",
   "id": "d85dbf70",
   "metadata": {
    "papermill": {
     "duration": 0.018078,
     "end_time": "2025-09-03T13:00:00.506459",
     "exception": false,
     "start_time": "2025-09-03T13:00:00.488381",
     "status": "completed"
    },
    "tags": []
   },
   "source": [
    "### `input_shape` trick\n",
    "* Let's construct a dummy tensor to pass through the model\n",
    "* Let's then output the shape "
   ]
  },
  {
   "cell_type": "code",
   "execution_count": 51,
   "id": "ad27af66",
   "metadata": {
    "execution": {
     "iopub.execute_input": "2025-09-03T13:00:00.544194Z",
     "iopub.status.busy": "2025-09-03T13:00:00.543800Z",
     "iopub.status.idle": "2025-09-03T13:00:00.549637Z",
     "shell.execute_reply": "2025-09-03T13:00:00.548753Z"
    },
    "papermill": {
     "duration": 0.026415,
     "end_time": "2025-09-03T13:00:00.550928",
     "exception": false,
     "start_time": "2025-09-03T13:00:00.524513",
     "status": "completed"
    },
    "tags": []
   },
   "outputs": [
    {
     "data": {
      "text/plain": [
       "torch.Size([1, 28, 28])"
      ]
     },
     "execution_count": 51,
     "metadata": {},
     "output_type": "execute_result"
    }
   ],
   "source": [
    "image.shape"
   ]
  },
  {
   "cell_type": "code",
   "execution_count": 52,
   "id": "2650a284",
   "metadata": {
    "execution": {
     "iopub.execute_input": "2025-09-03T13:00:00.589790Z",
     "iopub.status.busy": "2025-09-03T13:00:00.589472Z",
     "iopub.status.idle": "2025-09-03T13:00:00.756469Z",
     "shell.execute_reply": "2025-09-03T13:00:00.755561Z"
    },
    "papermill": {
     "duration": 0.188469,
     "end_time": "2025-09-03T13:00:00.757839",
     "exception": false,
     "start_time": "2025-09-03T13:00:00.569370",
     "status": "completed"
    },
    "tags": []
   },
   "outputs": [
    {
     "data": {
      "text/plain": [
       "<matplotlib.image.AxesImage at 0x79b235f68750>"
      ]
     },
     "execution_count": 52,
     "metadata": {},
     "output_type": "execute_result"
    },
    {
     "data": {
      "image/png": "[encoded data removed]",
      "text/plain": [
       "<Figure size 640x480 with 1 Axes>"
      ]
     },
     "metadata": {},
     "output_type": "display_data"
    }
   ],
   "source": [
    "plt.imshow(image.squeeze(), cmap=\"gray\")"
   ]
  },
  {
   "cell_type": "code",
   "execution_count": 53,
   "id": "8d76ae8b",
   "metadata": {
    "execution": {
     "iopub.execute_input": "2025-09-03T13:00:00.797175Z",
     "iopub.status.busy": "2025-09-03T13:00:00.796131Z",
     "iopub.status.idle": "2025-09-03T13:00:00.802672Z",
     "shell.execute_reply": "2025-09-03T13:00:00.801757Z"
    },
    "papermill": {
     "duration": 0.02769,
     "end_time": "2025-09-03T13:00:00.804105",
     "exception": false,
     "start_time": "2025-09-03T13:00:00.776415",
     "status": "completed"
    },
    "tags": []
   },
   "outputs": [
    {
     "data": {
      "text/plain": [
       "torch.Size([1, 1, 28, 28])"
      ]
     },
     "execution_count": 53,
     "metadata": {},
     "output_type": "execute_result"
    }
   ],
   "source": [
    "rand_image_tensor = torch.randn(size=(1,28,28)).unsqueeze(dim=0)\n",
    "rand_image_tensor.shape"
   ]
  },
  {
   "cell_type": "code",
   "execution_count": 54,
   "id": "bb99aade",
   "metadata": {
    "execution": {
     "iopub.execute_input": "2025-09-03T13:00:00.844726Z",
     "iopub.status.busy": "2025-09-03T13:00:00.843871Z",
     "iopub.status.idle": "2025-09-03T13:00:00.847775Z",
     "shell.execute_reply": "2025-09-03T13:00:00.847104Z"
    },
    "papermill": {
     "duration": 0.025021,
     "end_time": "2025-09-03T13:00:00.849142",
     "exception": false,
     "start_time": "2025-09-03T13:00:00.824121",
     "status": "completed"
    },
    "tags": []
   },
   "outputs": [],
   "source": [
    "# model_2(rand_image_tensor.to(device))"
   ]
  },
  {
   "cell_type": "code",
   "execution_count": 55,
   "id": "6fd1f7a0",
   "metadata": {
    "execution": {
     "iopub.execute_input": "2025-09-03T13:00:00.889128Z",
     "iopub.status.busy": "2025-09-03T13:00:00.888533Z",
     "iopub.status.idle": "2025-09-03T13:00:00.897509Z",
     "shell.execute_reply": "2025-09-03T13:00:00.896690Z"
    },
    "papermill": {
     "duration": 0.030621,
     "end_time": "2025-09-03T13:00:00.898935",
     "exception": false,
     "start_time": "2025-09-03T13:00:00.868314",
     "status": "completed"
    },
    "tags": []
   },
   "outputs": [
    {
     "name": "stdout",
     "output_type": "stream",
     "text": [
      "Output shape of conv_block_1: torch.Size([1, 10, 14, 14])\n",
      "Output shape of conv_block_2: torch.Size([1, 10, 7, 7])\n"
     ]
    },
    {
     "data": {
      "text/plain": [
       "tensor([[ 0.0424, -0.0839,  0.0839, -0.0463,  0.0053,  0.0437,  0.0025,  0.0108,\n",
       "         -0.0158, -0.0177]], grad_fn=<AddmmBackward0>)"
      ]
     },
     "execution_count": 55,
     "metadata": {},
     "output_type": "execute_result"
    }
   ],
   "source": [
    "model_2(rand_image_tensor.to(device))"
   ]
  },
  {
   "cell_type": "markdown",
   "id": "b8b0429a",
   "metadata": {
    "papermill": {
     "duration": 0.019101,
     "end_time": "2025-09-03T13:00:00.940101",
     "exception": false,
     "start_time": "2025-09-03T13:00:00.921000",
     "status": "completed"
    },
    "tags": []
   },
   "source": [
    "### 7.3 Setup a loss function and an optimizer \n"
   ]
  },
  {
   "cell_type": "code",
   "execution_count": 56,
   "id": "461553da",
   "metadata": {
    "execution": {
     "iopub.execute_input": "2025-09-03T13:00:00.980236Z",
     "iopub.status.busy": "2025-09-03T13:00:00.979603Z",
     "iopub.status.idle": "2025-09-03T13:00:00.985020Z",
     "shell.execute_reply": "2025-09-03T13:00:00.984098Z"
    },
    "papermill": {
     "duration": 0.027019,
     "end_time": "2025-09-03T13:00:00.986467",
     "exception": false,
     "start_time": "2025-09-03T13:00:00.959448",
     "status": "completed"
    },
    "tags": []
   },
   "outputs": [],
   "source": [
    "# setup loss function/eval metrics/optimizer \n",
    "from helper_functions import accuracy_fn \n",
    "\n",
    "loss_fn = nn.CrossEntropyLoss()\n",
    "optimizer = torch.optim.SGD(\n",
    "    params = model_2.parameters(),\n",
    "    lr = 0.1\n",
    ")"
   ]
  },
  {
   "cell_type": "code",
   "execution_count": null,
   "id": "9d82c819",
   "metadata": {
    "papermill": {
     "duration": 0.01915,
     "end_time": "2025-09-03T13:00:01.025101",
     "exception": false,
     "start_time": "2025-09-03T13:00:01.005951",
     "status": "completed"
    },
    "tags": []
   },
   "outputs": [],
   "source": []
  },
  {
   "cell_type": "code",
   "execution_count": null,
   "id": "46d74b90",
   "metadata": {
    "papermill": {
     "duration": 0.018882,
     "end_time": "2025-09-03T13:00:01.063054",
     "exception": false,
     "start_time": "2025-09-03T13:00:01.044172",
     "status": "completed"
    },
    "tags": []
   },
   "outputs": [],
   "source": []
  },
  {
   "cell_type": "code",
   "execution_count": null,
   "id": "466342fd",
   "metadata": {
    "papermill": {
     "duration": 0.018943,
     "end_time": "2025-09-03T13:00:01.101193",
     "exception": false,
     "start_time": "2025-09-03T13:00:01.082250",
     "status": "completed"
    },
    "tags": []
   },
   "outputs": [],
   "source": []
  },
  {
   "cell_type": "code",
   "execution_count": null,
   "id": "1088e139",
   "metadata": {
    "papermill": {
     "duration": 0.019514,
     "end_time": "2025-09-03T13:00:01.140108",
     "exception": false,
     "start_time": "2025-09-03T13:00:01.120594",
     "status": "completed"
    },
    "tags": []
   },
   "outputs": [],
   "source": []
  },
  {
   "cell_type": "code",
   "execution_count": null,
   "id": "a9d8fb90",
   "metadata": {
    "papermill": {
     "duration": 0.019207,
     "end_time": "2025-09-03T13:00:01.178511",
     "exception": false,
     "start_time": "2025-09-03T13:00:01.159304",
     "status": "completed"
    },
    "tags": []
   },
   "outputs": [],
   "source": []
  },
  {
   "cell_type": "code",
   "execution_count": null,
   "id": "b47a3e48",
   "metadata": {
    "papermill": {
     "duration": 0.018988,
     "end_time": "2025-09-03T13:00:01.216687",
     "exception": false,
     "start_time": "2025-09-03T13:00:01.197699",
     "status": "completed"
    },
    "tags": []
   },
   "outputs": [],
   "source": []
  },
  {
   "cell_type": "code",
   "execution_count": null,
   "id": "3fe318a8",
   "metadata": {
    "papermill": {
     "duration": 0.01902,
     "end_time": "2025-09-03T13:00:01.255007",
     "exception": false,
     "start_time": "2025-09-03T13:00:01.235987",
     "status": "completed"
    },
    "tags": []
   },
   "outputs": [],
   "source": []
  },
  {
   "cell_type": "code",
   "execution_count": null,
   "id": "43741ce1",
   "metadata": {
    "papermill": {
     "duration": 0.018917,
     "end_time": "2025-09-03T13:00:01.293398",
     "exception": false,
     "start_time": "2025-09-03T13:00:01.274481",
     "status": "completed"
    },
    "tags": []
   },
   "outputs": [],
   "source": []
  },
  {
   "cell_type": "code",
   "execution_count": null,
   "id": "89bf1f8c",
   "metadata": {
    "papermill": {
     "duration": 0.018951,
     "end_time": "2025-09-03T13:00:01.331318",
     "exception": false,
     "start_time": "2025-09-03T13:00:01.312367",
     "status": "completed"
    },
    "tags": []
   },
   "outputs": [],
   "source": []
  },
  {
   "cell_type": "code",
   "execution_count": null,
   "id": "45aa50f5",
   "metadata": {
    "papermill": {
     "duration": 0.019028,
     "end_time": "2025-09-03T13:00:01.369480",
     "exception": false,
     "start_time": "2025-09-03T13:00:01.350452",
     "status": "completed"
    },
    "tags": []
   },
   "outputs": [],
   "source": []
  },
  {
   "cell_type": "code",
   "execution_count": null,
   "id": "47d9c2b3",
   "metadata": {
    "papermill": {
     "duration": 0.018981,
     "end_time": "2025-09-03T13:00:01.408045",
     "exception": false,
     "start_time": "2025-09-03T13:00:01.389064",
     "status": "completed"
    },
    "tags": []
   },
   "outputs": [],
   "source": []
  }
 ],
 "metadata": {
  "kaggle": {
   "accelerator": "none",
   "dataSources": [],
   "dockerImageVersionId": 31089,
   "isGpuEnabled": false,
   "isInternetEnabled": true,
   "language": "python",
   "sourceType": "notebook"
  },
  "kernelspec": {
   "display_name": "Python 3",
   "language": "python",
   "name": "python3"
  },
  "language_info": {
   "codemirror_mode": {
    "name": "ipython",
    "version": 3
   },
   "file_extension": ".py",
   "mimetype": "text/x-python",
   "name": "python",
   "nbconvert_exporter": "python",
   "pygments_lexer": "ipython3",
   "version": "3.11.13"
  },
  "papermill": {
   "default_parameters": {},
   "duration": 84.806515,
   "end_time": "2025-09-03T13:00:03.553323",
   "environment_variables": {},
   "exception": null,
   "input_path": "__notebook__.ipynb",
   "output_path": "__notebook__.ipynb",
   "parameters": {},
   "start_time": "2025-09-03T12:58:38.746808",
   "version": "2.6.0"
  },
  "widgets": {
   "application/vnd.jupyter.widget-state+json": {
    "state": {
     "0fd4396534104bbb8eee512b1d5826a9": {
      "model_module": "@jupyter-widgets/base",
      "model_module_version": "2.0.0",
      "model_name": "LayoutModel",
      "state": {
       "_model_module": "@jupyter-widgets/base",
       "_model_module_version": "2.0.0",
       "_model_name": "LayoutModel",
       "_view_count": null,
       "_view_module": "@jupyter-widgets/base",
       "_view_module_version": "2.0.0",
       "_view_name": "LayoutView",
       "align_content": null,
       "align_items": null,
       "align_self": null,
       "border_bottom": null,
       "border_left": null,
       "border_right": null,
       "border_top": null,
       "bottom": null,
       "display": null,
       "flex": null,
       "flex_flow": null,
       "grid_area": null,
       "grid_auto_columns": null,
       "grid_auto_flow": null,
       "grid_auto_rows": null,
       "grid_column": null,
       "grid_gap": null,
       "grid_row": null,
       "grid_template_areas": null,
       "grid_template_columns": null,
       "grid_template_rows": null,
       "height": null,
       "justify_content": null,
       "justify_items": null,
       "left": null,
       "margin": null,
       "max_height": null,
       "max_width": null,
       "min_height": null,
       "min_width": null,
       "object_fit": null,
       "object_position": null,
       "order": null,
       "overflow": null,
       "padding": null,
       "right": null,
       "top": null,
       "visibility": null,
       "width": null
      }
     },
     "453a0a5c06fd40bdbfb0e609b55b692e": {
      "model_module": "@jupyter-widgets/base",
      "model_module_version": "2.0.0",
      "model_name": "LayoutModel",
      "state": {
       "_model_module": "@jupyter-widgets/base",
       "_model_module_version": "2.0.0",
       "_model_name": "LayoutModel",
       "_view_count": null,
       "_view_module": "@jupyter-widgets/base",
       "_view_module_version": "2.0.0",
       "_view_name": "LayoutView",
       "align_content": null,
       "align_items": null,
       "align_self": null,
       "border_bottom": null,
       "border_left": null,
       "border_right": null,
       "border_top": null,
       "bottom": null,
       "display": null,
       "flex": null,
       "flex_flow": null,
       "grid_area": null,
       "grid_auto_columns": null,
       "grid_auto_flow": null,
       "grid_auto_rows": null,
       "grid_column": null,
       "grid_gap": null,
       "grid_row": null,
       "grid_template_areas": null,
       "grid_template_columns": null,
       "grid_template_rows": null,
       "height": null,
       "justify_content": null,
       "justify_items": null,
       "left": null,
       "margin": null,
       "max_height": null,
       "max_width": null,
       "min_height": null,
       "min_width": null,
       "object_fit": null,
       "object_position": null,
       "order": null,
       "overflow": null,
       "padding": null,
       "right": null,
       "top": null,
       "visibility": null,
       "width": null
      }
     },
     "5ce5311b9f21416fbfb21e64daf586fc": {
      "model_module": "@jupyter-widgets/controls",
      "model_module_version": "2.0.0",
      "model_name": "HTMLStyleModel",
      "state": {
       "_model_module": "@jupyter-widgets/controls",
       "_model_module_version": "2.0.0",
       "_model_name": "HTMLStyleModel",
       "_view_count": null,
       "_view_module": "@jupyter-widgets/base",
       "_view_module_version": "2.0.0",
       "_view_name": "StyleView",
       "background": null,
       "description_width": "",
       "font_size": null,
       "text_color": null
      }
     },
     "5fa509abc4dc479d971da2836691c173": {
      "model_module": "@jupyter-widgets/base",
      "model_module_version": "2.0.0",
      "model_name": "LayoutModel",
      "state": {
       "_model_module": "@jupyter-widgets/base",
       "_model_module_version": "2.0.0",
       "_model_name": "LayoutModel",
       "_view_count": null,
       "_view_module": "@jupyter-widgets/base",
       "_view_module_version": "2.0.0",
       "_view_name": "LayoutView",
       "align_content": null,
       "align_items": null,
       "align_self": null,
       "border_bottom": null,
       "border_left": null,
       "border_right": null,
       "border_top": null,
       "bottom": null,
       "display": null,
       "flex": null,
       "flex_flow": null,
       "grid_area": null,
       "grid_auto_columns": null,
       "grid_auto_flow": null,
       "grid_auto_rows": null,
       "grid_column": null,
       "grid_gap": null,
       "grid_row": null,
       "grid_template_areas": null,
       "grid_template_columns": null,
       "grid_template_rows": null,
       "height": null,
       "justify_content": null,
       "justify_items": null,
       "left": null,
       "margin": null,
       "max_height": null,
       "max_width": null,
       "min_height": null,
       "min_width": null,
       "object_fit": null,
       "object_position": null,
       "order": null,
       "overflow": null,
       "padding": null,
       "right": null,
       "top": null,
       "visibility": null,
       "width": null
      }
     },
     "622fab4704fa424e8a3be770e7e0af21": {
      "model_module": "@jupyter-widgets/controls",
      "model_module_version": "2.0.0",
      "model_name": "FloatProgressModel",
      "state": {
       "_dom_classes": [],
       "_model_module": "@jupyter-widgets/controls",
       "_model_module_version": "2.0.0",
       "_model_name": "FloatProgressModel",
       "_view_count": null,
       "_view_module": "@jupyter-widgets/controls",
       "_view_module_version": "2.0.0",
       "_view_name": "ProgressView",
       "bar_style": "success",
       "description": "",
       "description_allow_html": false,
       "layout": "IPY_MODEL_dc8309edcf894e3da6f717ac9210ca6d",
       "max": 3.0,
       "min": 0.0,
       "orientation": "horizontal",
       "style": "IPY_MODEL_63bd416ef4704870bc9cd5928b9b3684",
       "tabbable": null,
       "tooltip": null,
       "value": 3.0
      }
     },
     "63bd416ef4704870bc9cd5928b9b3684": {
      "model_module": "@jupyter-widgets/controls",
      "model_module_version": "2.0.0",
      "model_name": "ProgressStyleModel",
      "state": {
       "_model_module": "@jupyter-widgets/controls",
       "_model_module_version": "2.0.0",
       "_model_name": "ProgressStyleModel",
       "_view_count": null,
       "_view_module": "@jupyter-widgets/base",
       "_view_module_version": "2.0.0",
       "_view_name": "StyleView",
       "bar_color": null,
       "description_width": ""
      }
     },
     "69bdcf3cc6aa4c1fb8b8b7479b6d39c3": {
      "model_module": "@jupyter-widgets/controls",
      "model_module_version": "2.0.0",
      "model_name": "HTMLModel",
      "state": {
       "_dom_classes": [],
       "_model_module": "@jupyter-widgets/controls",
       "_model_module_version": "2.0.0",
       "_model_name": "HTMLModel",
       "_view_count": null,
       "_view_module": "@jupyter-widgets/controls",
       "_view_module_version": "2.0.0",
       "_view_name": "HTMLView",
       "description": "",
       "description_allow_html": false,
       "layout": "IPY_MODEL_ceb5f4efe7d541c0bba1d4674c9e2617",
       "placeholder": "​",
       "style": "IPY_MODEL_7540f951ef634770981c3a733ed71f6e",
       "tabbable": null,
       "tooltip": null,
       "value": "100%"
      }
     },
     "73b41d636ba74f38a81aa1213fc2fe32": {
      "model_module": "@jupyter-widgets/controls",
      "model_module_version": "2.0.0",
      "model_name": "HTMLModel",
      "state": {
       "_dom_classes": [],
       "_model_module": "@jupyter-widgets/controls",
       "_model_module_version": "2.0.0",
       "_model_name": "HTMLModel",
       "_view_count": null,
       "_view_module": "@jupyter-widgets/controls",
       "_view_module_version": "2.0.0",
       "_view_name": "HTMLView",
       "description": "",
       "description_allow_html": false,
       "layout": "IPY_MODEL_7e733ba033f64bb39020f4d9fbfd795b",
       "placeholder": "​",
       "style": "IPY_MODEL_5ce5311b9f21416fbfb21e64daf586fc",
       "tabbable": null,
       "tooltip": null,
       "value": " 3/3 [00:27&lt;00:00,  9.26s/it]"
      }
     },
     "7540f951ef634770981c3a733ed71f6e": {
      "model_module": "@jupyter-widgets/controls",
      "model_module_version": "2.0.0",
      "model_name": "HTMLStyleModel",
      "state": {
       "_model_module": "@jupyter-widgets/controls",
       "_model_module_version": "2.0.0",
       "_model_name": "HTMLStyleModel",
       "_view_count": null,
       "_view_module": "@jupyter-widgets/base",
       "_view_module_version": "2.0.0",
       "_view_name": "StyleView",
       "background": null,
       "description_width": "",
       "font_size": null,
       "text_color": null
      }
     },
     "7e733ba033f64bb39020f4d9fbfd795b": {
      "model_module": "@jupyter-widgets/base",
      "model_module_version": "2.0.0",
      "model_name": "LayoutModel",
      "state": {
       "_model_module": "@jupyter-widgets/base",
       "_model_module_version": "2.0.0",
       "_model_name": "LayoutModel",
       "_view_count": null,
       "_view_module": "@jupyter-widgets/base",
       "_view_module_version": "2.0.0",
       "_view_name": "LayoutView",
       "align_content": null,
       "align_items": null,
       "align_self": null,
       "border_bottom": null,
       "border_left": null,
       "border_right": null,
       "border_top": null,
       "bottom": null,
       "display": null,
       "flex": null,
       "flex_flow": null,
       "grid_area": null,
       "grid_auto_columns": null,
       "grid_auto_flow": null,
       "grid_auto_rows": null,
       "grid_column": null,
       "grid_gap": null,
       "grid_row": null,
       "grid_template_areas": null,
       "grid_template_columns": null,
       "grid_template_rows": null,
       "height": null,
       "justify_content": null,
       "justify_items": null,
       "left": null,
       "margin": null,
       "max_height": null,
       "max_width": null,
       "min_height": null,
       "min_width": null,
       "object_fit": null,
       "object_position": null,
       "order": null,
       "overflow": null,
       "padding": null,
       "right": null,
       "top": null,
       "visibility": null,
       "width": null
      }
     },
     "7fa13e42a0f144b7add7874c3d271ecc": {
      "model_module": "@jupyter-widgets/controls",
      "model_module_version": "2.0.0",
      "model_name": "HBoxModel",
      "state": {
       "_dom_classes": [],
       "_model_module": "@jupyter-widgets/controls",
       "_model_module_version": "2.0.0",
       "_model_name": "HBoxModel",
       "_view_count": null,
       "_view_module": "@jupyter-widgets/controls",
       "_view_module_version": "2.0.0",
       "_view_name": "HBoxView",
       "box_style": "",
       "children": [
        "IPY_MODEL_69bdcf3cc6aa4c1fb8b8b7479b6d39c3",
        "IPY_MODEL_bf0db17fd2e1494a9ee4432ac06426d2",
        "IPY_MODEL_73b41d636ba74f38a81aa1213fc2fe32"
       ],
       "layout": "IPY_MODEL_453a0a5c06fd40bdbfb0e609b55b692e",
       "tabbable": null,
       "tooltip": null
      }
     },
     "91206c9625684cb2b30fe8a7e35e858a": {
      "model_module": "@jupyter-widgets/controls",
      "model_module_version": "2.0.0",
      "model_name": "HTMLStyleModel",
      "state": {
       "_model_module": "@jupyter-widgets/controls",
       "_model_module_version": "2.0.0",
       "_model_name": "HTMLStyleModel",
       "_view_count": null,
       "_view_module": "@jupyter-widgets/base",
       "_view_module_version": "2.0.0",
       "_view_name": "StyleView",
       "background": null,
       "description_width": "",
       "font_size": null,
       "text_color": null
      }
     },
     "9f546e62e7da468e88602c0b6a64989f": {
      "model_module": "@jupyter-widgets/base",
      "model_module_version": "2.0.0",
      "model_name": "LayoutModel",
      "state": {
       "_model_module": "@jupyter-widgets/base",
       "_model_module_version": "2.0.0",
       "_model_name": "LayoutModel",
       "_view_count": null,
       "_view_module": "@jupyter-widgets/base",
       "_view_module_version": "2.0.0",
       "_view_name": "LayoutView",
       "align_content": null,
       "align_items": null,
       "align_self": null,
       "border_bottom": null,
       "border_left": null,
       "border_right": null,
       "border_top": null,
       "bottom": null,
       "display": null,
       "flex": null,
       "flex_flow": null,
       "grid_area": null,
       "grid_auto_columns": null,
       "grid_auto_flow": null,
       "grid_auto_rows": null,
       "grid_column": null,
       "grid_gap": null,
       "grid_row": null,
       "grid_template_areas": null,
       "grid_template_columns": null,
       "grid_template_rows": null,
       "height": null,
       "justify_content": null,
       "justify_items": null,
       "left": null,
       "margin": null,
       "max_height": null,
       "max_width": null,
       "min_height": null,
       "min_width": null,
       "object_fit": null,
       "object_position": null,
       "order": null,
       "overflow": null,
       "padding": null,
       "right": null,
       "top": null,
       "visibility": null,
       "width": null
      }
     },
     "b48f034d991e4132bc107f0b873a1273": {
      "model_module": "@jupyter-widgets/controls",
      "model_module_version": "2.0.0",
      "model_name": "HTMLStyleModel",
      "state": {
       "_model_module": "@jupyter-widgets/controls",
       "_model_module_version": "2.0.0",
       "_model_name": "HTMLStyleModel",
       "_view_count": null,
       "_view_module": "@jupyter-widgets/base",
       "_view_module_version": "2.0.0",
       "_view_name": "StyleView",
       "background": null,
       "description_width": "",
       "font_size": null,
       "text_color": null
      }
     },
     "ba9c396dba124866ba8d7d1629278153": {
      "model_module": "@jupyter-widgets/base",
      "model_module_version": "2.0.0",
      "model_name": "LayoutModel",
      "state": {
       "_model_module": "@jupyter-widgets/base",
       "_model_module_version": "2.0.0",
       "_model_name": "LayoutModel",
       "_view_count": null,
       "_view_module": "@jupyter-widgets/base",
       "_view_module_version": "2.0.0",
       "_view_name": "LayoutView",
       "align_content": null,
       "align_items": null,
       "align_self": null,
       "border_bottom": null,
       "border_left": null,
       "border_right": null,
       "border_top": null,
       "bottom": null,
       "display": null,
       "flex": null,
       "flex_flow": null,
       "grid_area": null,
       "grid_auto_columns": null,
       "grid_auto_flow": null,
       "grid_auto_rows": null,
       "grid_column": null,
       "grid_gap": null,
       "grid_row": null,
       "grid_template_areas": null,
       "grid_template_columns": null,
       "grid_template_rows": null,
       "height": null,
       "justify_content": null,
       "justify_items": null,
       "left": null,
       "margin": null,
       "max_height": null,
       "max_width": null,
       "min_height": null,
       "min_width": null,
       "object_fit": null,
       "object_position": null,
       "order": null,
       "overflow": null,
       "padding": null,
       "right": null,
       "top": null,
       "visibility": null,
       "width": null
      }
     },
     "bf0db17fd2e1494a9ee4432ac06426d2": {
      "model_module": "@jupyter-widgets/controls",
      "model_module_version": "2.0.0",
      "model_name": "FloatProgressModel",
      "state": {
       "_dom_classes": [],
       "_model_module": "@jupyter-widgets/controls",
       "_model_module_version": "2.0.0",
       "_model_name": "FloatProgressModel",
       "_view_count": null,
       "_view_module": "@jupyter-widgets/controls",
       "_view_module_version": "2.0.0",
       "_view_name": "ProgressView",
       "bar_style": "success",
       "description": "",
       "description_allow_html": false,
       "layout": "IPY_MODEL_9f546e62e7da468e88602c0b6a64989f",
       "max": 3.0,
       "min": 0.0,
       "orientation": "horizontal",
       "style": "IPY_MODEL_dd9cd44da7e54d2190a0fc0576d4e401",
       "tabbable": null,
       "tooltip": null,
       "value": 3.0
      }
     },
     "c21772eb8a9542409af94e0a3ffc677b": {
      "model_module": "@jupyter-widgets/controls",
      "model_module_version": "2.0.0",
      "model_name": "HTMLModel",
      "state": {
       "_dom_classes": [],
       "_model_module": "@jupyter-widgets/controls",
       "_model_module_version": "2.0.0",
       "_model_name": "HTMLModel",
       "_view_count": null,
       "_view_module": "@jupyter-widgets/controls",
       "_view_module_version": "2.0.0",
       "_view_name": "HTMLView",
       "description": "",
       "description_allow_html": false,
       "layout": "IPY_MODEL_0fd4396534104bbb8eee512b1d5826a9",
       "placeholder": "​",
       "style": "IPY_MODEL_91206c9625684cb2b30fe8a7e35e858a",
       "tabbable": null,
       "tooltip": null,
       "value": "100%"
      }
     },
     "ceb5f4efe7d541c0bba1d4674c9e2617": {
      "model_module": "@jupyter-widgets/base",
      "model_module_version": "2.0.0",
      "model_name": "LayoutModel",
      "state": {
       "_model_module": "@jupyter-widgets/base",
       "_model_module_version": "2.0.0",
       "_model_name": "LayoutModel",
       "_view_count": null,
       "_view_module": "@jupyter-widgets/base",
       "_view_module_version": "2.0.0",
       "_view_name": "LayoutView",
       "align_content": null,
       "align_items": null,
       "align_self": null,
       "border_bottom": null,
       "border_left": null,
       "border_right": null,
       "border_top": null,
       "bottom": null,
       "display": null,
       "flex": null,
       "flex_flow": null,
       "grid_area": null,
       "grid_auto_columns": null,
       "grid_auto_flow": null,
       "grid_auto_rows": null,
       "grid_column": null,
       "grid_gap": null,
       "grid_row": null,
       "grid_template_areas": null,
       "grid_template_columns": null,
       "grid_template_rows": null,
       "height": null,
       "justify_content": null,
       "justify_items": null,
       "left": null,
       "margin": null,
       "max_height": null,
       "max_width": null,
       "min_height": null,
       "min_width": null,
       "object_fit": null,
       "object_position": null,
       "order": null,
       "overflow": null,
       "padding": null,
       "right": null,
       "top": null,
       "visibility": null,
       "width": null
      }
     },
     "dc8309edcf894e3da6f717ac9210ca6d": {
      "model_module": "@jupyter-widgets/base",
      "model_module_version": "2.0.0",
      "model_name": "LayoutModel",
      "state": {
       "_model_module": "@jupyter-widgets/base",
       "_model_module_version": "2.0.0",
       "_model_name": "LayoutModel",
       "_view_count": null,
       "_view_module": "@jupyter-widgets/base",
       "_view_module_version": "2.0.0",
       "_view_name": "LayoutView",
       "align_content": null,
       "align_items": null,
       "align_self": null,
       "border_bottom": null,
       "border_left": null,
       "border_right": null,
       "border_top": null,
       "bottom": null,
       "display": null,
       "flex": null,
       "flex_flow": null,
       "grid_area": null,
       "grid_auto_columns": null,
       "grid_auto_flow": null,
       "grid_auto_rows": null,
       "grid_column": null,
       "grid_gap": null,
       "grid_row": null,
       "grid_template_areas": null,
       "grid_template_columns": null,
       "grid_template_rows": null,
       "height": null,
       "justify_content": null,
       "justify_items": null,
       "left": null,
       "margin": null,
       "max_height": null,
       "max_width": null,
       "min_height": null,
       "min_width": null,
       "object_fit": null,
       "object_position": null,
       "order": null,
       "overflow": null,
       "padding": null,
       "right": null,
       "top": null,
       "visibility": null,
       "width": null
      }
     },
     "dd9cd44da7e54d2190a0fc0576d4e401": {
      "model_module": "@jupyter-widgets/controls",
      "model_module_version": "2.0.0",
      "model_name": "ProgressStyleModel",
      "state": {
       "_model_module": "@jupyter-widgets/controls",
       "_model_module_version": "2.0.0",
       "_model_name": "ProgressStyleModel",
       "_view_count": null,
       "_view_module": "@jupyter-widgets/base",
       "_view_module_version": "2.0.0",
       "_view_name": "StyleView",
       "bar_color": null,
       "description_width": ""
      }
     },
     "e79ad99f5a7e47ba8a78c36fb476a59e": {
      "model_module": "@jupyter-widgets/controls",
      "model_module_version": "2.0.0",
      "model_name": "HBoxModel",
      "state": {
       "_dom_classes": [],
       "_model_module": "@jupyter-widgets/controls",
       "_model_module_version": "2.0.0",
       "_model_name": "HBoxModel",
       "_view_count": null,
       "_view_module": "@jupyter-widgets/controls",
       "_view_module_version": "2.0.0",
       "_view_name": "HBoxView",
       "box_style": "",
       "children": [
        "IPY_MODEL_c21772eb8a9542409af94e0a3ffc677b",
        "IPY_MODEL_622fab4704fa424e8a3be770e7e0af21",
        "IPY_MODEL_f3f0b6b8fc5c497d803ca5e6fe22c969"
       ],
       "layout": "IPY_MODEL_5fa509abc4dc479d971da2836691c173",
       "tabbable": null,
       "tooltip": null
      }
     },
     "f3f0b6b8fc5c497d803ca5e6fe22c969": {
      "model_module": "@jupyter-widgets/controls",
      "model_module_version": "2.0.0",
      "model_name": "HTMLModel",
      "state": {
       "_dom_classes": [],
       "_model_module": "@jupyter-widgets/controls",
       "_model_module_version": "2.0.0",
       "_model_name": "HTMLModel",
       "_view_count": null,
       "_view_module": "@jupyter-widgets/controls",
       "_view_module_version": "2.0.0",
       "_view_name": "HTMLView",
       "description": "",
       "description_allow_html": false,
       "layout": "IPY_MODEL_ba9c396dba124866ba8d7d1629278153",
       "placeholder": "​",
       "style": "IPY_MODEL_b48f034d991e4132bc107f0b873a1273",
       "tabbable": null,
       "tooltip": null,
       "value": " 3/3 [00:27&lt;00:00,  9.17s/it]"
      }
     }
    },
    "version_major": 2,
    "version_minor": 0
   }
  }
 },
 "nbformat": 4,
 "nbformat_minor": 5
}
