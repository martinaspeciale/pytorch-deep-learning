{
 "cells": [
  {
   "cell_type": "code",
   "execution_count": 1,
   "id": "71d5be50",
   "metadata": {
    "execution": {
     "iopub.execute_input": "2025-08-30T12:41:00.455710Z",
     "iopub.status.busy": "2025-08-30T12:41:00.455392Z",
     "iopub.status.idle": "2025-08-30T12:41:00.623306Z",
     "shell.execute_reply": "2025-08-30T12:41:00.622312Z"
    },
    "papermill": {
     "duration": 0.17385,
     "end_time": "2025-08-30T12:41:00.624934",
     "exception": false,
     "start_time": "2025-08-30T12:41:00.451084",
     "status": "completed"
    },
    "tags": []
   },
   "outputs": [
    {
     "name": "stdout",
     "output_type": "stream",
     "text": [
      "Sat Aug 30 12:41:00 2025       \r\n",
      "+-----------------------------------------------------------------------------------------+\r\n",
      "| NVIDIA-SMI 560.35.03              Driver Version: 560.35.03      CUDA Version: 12.6     |\r\n",
      "|-----------------------------------------+------------------------+----------------------+\r\n",
      "| GPU  Name                 Persistence-M | Bus-Id          Disp.A | Volatile Uncorr. ECC |\r\n",
      "| Fan  Temp   Perf          Pwr:Usage/Cap |           Memory-Usage | GPU-Util  Compute M. |\r\n",
      "|                                         |                        |               MIG M. |\r\n",
      "|=========================================+========================+======================|\r\n",
      "|   0  Tesla P100-PCIE-16GB           Off |   00000000:00:04.0 Off |                    0 |\r\n",
      "| N/A   39C    P0             27W /  250W |       0MiB /  16384MiB |      0%      Default |\r\n",
      "|                                         |                        |                  N/A |\r\n",
      "+-----------------------------------------+------------------------+----------------------+\r\n",
      "                                                                                         \r\n",
      "+-----------------------------------------------------------------------------------------+\r\n",
      "| Processes:                                                                              |\r\n",
      "|  GPU   GI   CI        PID   Type   Process name                              GPU Memory |\r\n",
      "|        ID   ID                                                               Usage      |\r\n",
      "|=========================================================================================|\r\n",
      "|  No running processes found                                                             |\r\n",
      "+-----------------------------------------------------------------------------------------+\r\n"
     ]
    }
   ],
   "source": [
    "!nvidia-smi"
   ]
  },
  {
   "cell_type": "markdown",
   "id": "76a4f92b",
   "metadata": {
    "papermill": {
     "duration": 0.00248,
     "end_time": "2025-08-30T12:41:00.630610",
     "exception": false,
     "start_time": "2025-08-30T12:41:00.628130",
     "status": "completed"
    },
    "tags": []
   },
   "source": [
    "### Check for GPU access with Pytorch"
   ]
  },
  {
   "cell_type": "code",
   "execution_count": 2,
   "id": "7d528ce2",
   "metadata": {
    "execution": {
     "iopub.execute_input": "2025-08-30T12:41:00.637079Z",
     "iopub.status.busy": "2025-08-30T12:41:00.636583Z",
     "iopub.status.idle": "2025-08-30T12:41:04.867402Z",
     "shell.execute_reply": "2025-08-30T12:41:04.866647Z"
    },
    "papermill": {
     "duration": 4.235308,
     "end_time": "2025-08-30T12:41:04.868579",
     "exception": false,
     "start_time": "2025-08-30T12:41:00.633271",
     "status": "completed"
    },
    "tags": []
   },
   "outputs": [
    {
     "data": {
      "text/plain": [
       "True"
      ]
     },
     "execution_count": 2,
     "metadata": {},
     "output_type": "execute_result"
    }
   ],
   "source": [
    "import torch \n",
    "\n",
    "torch.cuda.is_available()"
   ]
  },
  {
   "cell_type": "markdown",
   "id": "25653666",
   "metadata": {
    "papermill": {
     "duration": 0.002594,
     "end_time": "2025-08-30T12:41:04.874152",
     "exception": false,
     "start_time": "2025-08-30T12:41:04.871558",
     "status": "completed"
    },
    "tags": []
   },
   "source": [
    "# Setup device agnostic code\n",
    "For PyTorch run on GPU if available, else default to CPU"
   ]
  },
  {
   "cell_type": "code",
   "execution_count": 3,
   "id": "0737f86a",
   "metadata": {
    "execution": {
     "iopub.execute_input": "2025-08-30T12:41:04.880716Z",
     "iopub.status.busy": "2025-08-30T12:41:04.880047Z",
     "iopub.status.idle": "2025-08-30T12:41:04.884598Z",
     "shell.execute_reply": "2025-08-30T12:41:04.884051Z"
    },
    "papermill": {
     "duration": 0.008879,
     "end_time": "2025-08-30T12:41:04.885693",
     "exception": false,
     "start_time": "2025-08-30T12:41:04.876814",
     "status": "completed"
    },
    "tags": []
   },
   "outputs": [
    {
     "data": {
      "text/plain": [
       "'cuda'"
      ]
     },
     "execution_count": 3,
     "metadata": {},
     "output_type": "execute_result"
    }
   ],
   "source": [
    "device = \"cuda\" if torch.cuda.is_available() else \"cpu\"\n",
    "device "
   ]
  },
  {
   "cell_type": "code",
   "execution_count": 4,
   "id": "d7d90489",
   "metadata": {
    "execution": {
     "iopub.execute_input": "2025-08-30T12:41:04.891967Z",
     "iopub.status.busy": "2025-08-30T12:41:04.891760Z",
     "iopub.status.idle": "2025-08-30T12:41:04.913492Z",
     "shell.execute_reply": "2025-08-30T12:41:04.912962Z"
    },
    "papermill": {
     "duration": 0.026099,
     "end_time": "2025-08-30T12:41:04.914512",
     "exception": false,
     "start_time": "2025-08-30T12:41:04.888413",
     "status": "completed"
    },
    "tags": []
   },
   "outputs": [
    {
     "data": {
      "text/plain": [
       "1"
      ]
     },
     "execution_count": 4,
     "metadata": {},
     "output_type": "execute_result"
    }
   ],
   "source": [
    "# count number of devices \n",
    "torch.cuda.device_count()"
   ]
  },
  {
   "cell_type": "code",
   "execution_count": null,
   "id": "28479298",
   "metadata": {
    "papermill": {
     "duration": 0.002542,
     "end_time": "2025-08-30T12:41:04.919898",
     "exception": false,
     "start_time": "2025-08-30T12:41:04.917356",
     "status": "completed"
    },
    "tags": []
   },
   "outputs": [],
   "source": []
  },
  {
   "cell_type": "code",
   "execution_count": null,
   "id": "edcd09a6",
   "metadata": {
    "papermill": {
     "duration": 0.002498,
     "end_time": "2025-08-30T12:41:04.925042",
     "exception": false,
     "start_time": "2025-08-30T12:41:04.922544",
     "status": "completed"
    },
    "tags": []
   },
   "outputs": [],
   "source": []
  },
  {
   "cell_type": "code",
   "execution_count": null,
   "id": "0ed0ee05",
   "metadata": {
    "papermill": {
     "duration": 0.002455,
     "end_time": "2025-08-30T12:41:04.930191",
     "exception": false,
     "start_time": "2025-08-30T12:41:04.927736",
     "status": "completed"
    },
    "tags": []
   },
   "outputs": [],
   "source": []
  },
  {
   "cell_type": "code",
   "execution_count": null,
   "id": "e4b827b4",
   "metadata": {
    "papermill": {
     "duration": 0.00246,
     "end_time": "2025-08-30T12:41:04.935436",
     "exception": false,
     "start_time": "2025-08-30T12:41:04.932976",
     "status": "completed"
    },
    "tags": []
   },
   "outputs": [],
   "source": []
  },
  {
   "cell_type": "code",
   "execution_count": null,
   "id": "9ab6fb7e",
   "metadata": {
    "papermill": {
     "duration": 0.002449,
     "end_time": "2025-08-30T12:41:04.941308",
     "exception": false,
     "start_time": "2025-08-30T12:41:04.938859",
     "status": "completed"
    },
    "tags": []
   },
   "outputs": [],
   "source": []
  },
  {
   "cell_type": "code",
   "execution_count": null,
   "id": "e460a8a3",
   "metadata": {
    "papermill": {
     "duration": 0.002458,
     "end_time": "2025-08-30T12:41:04.946381",
     "exception": false,
     "start_time": "2025-08-30T12:41:04.943923",
     "status": "completed"
    },
    "tags": []
   },
   "outputs": [],
   "source": []
  },
  {
   "cell_type": "code",
   "execution_count": null,
   "id": "cc415aac",
   "metadata": {
    "papermill": {
     "duration": 0.002454,
     "end_time": "2025-08-30T12:41:04.951479",
     "exception": false,
     "start_time": "2025-08-30T12:41:04.949025",
     "status": "completed"
    },
    "tags": []
   },
   "outputs": [],
   "source": []
  },
  {
   "cell_type": "code",
   "execution_count": null,
   "id": "8beee05f",
   "metadata": {
    "papermill": {
     "duration": 0.002497,
     "end_time": "2025-08-30T12:41:04.956568",
     "exception": false,
     "start_time": "2025-08-30T12:41:04.954071",
     "status": "completed"
    },
    "tags": []
   },
   "outputs": [],
   "source": []
  },
  {
   "cell_type": "code",
   "execution_count": null,
   "id": "115913e6",
   "metadata": {
    "papermill": {
     "duration": 0.00252,
     "end_time": "2025-08-30T12:41:04.961713",
     "exception": false,
     "start_time": "2025-08-30T12:41:04.959193",
     "status": "completed"
    },
    "tags": []
   },
   "outputs": [],
   "source": []
  },
  {
   "cell_type": "code",
   "execution_count": null,
   "id": "d7016079",
   "metadata": {
    "papermill": {
     "duration": 0.002487,
     "end_time": "2025-08-30T12:41:04.966893",
     "exception": false,
     "start_time": "2025-08-30T12:41:04.964406",
     "status": "completed"
    },
    "tags": []
   },
   "outputs": [],
   "source": []
  },
  {
   "cell_type": "code",
   "execution_count": null,
   "id": "70680c02",
   "metadata": {
    "papermill": {
     "duration": 0.002468,
     "end_time": "2025-08-30T12:41:04.971941",
     "exception": false,
     "start_time": "2025-08-30T12:41:04.969473",
     "status": "completed"
    },
    "tags": []
   },
   "outputs": [],
   "source": []
  },
  {
   "cell_type": "code",
   "execution_count": null,
   "id": "aedd1675",
   "metadata": {
    "papermill": {
     "duration": 0.002476,
     "end_time": "2025-08-30T12:41:04.977008",
     "exception": false,
     "start_time": "2025-08-30T12:41:04.974532",
     "status": "completed"
    },
    "tags": []
   },
   "outputs": [],
   "source": []
  },
  {
   "cell_type": "code",
   "execution_count": null,
   "id": "5e001f84",
   "metadata": {
    "papermill": {
     "duration": 0.002466,
     "end_time": "2025-08-30T12:41:04.982166",
     "exception": false,
     "start_time": "2025-08-30T12:41:04.979700",
     "status": "completed"
    },
    "tags": []
   },
   "outputs": [],
   "source": []
  },
  {
   "cell_type": "code",
   "execution_count": null,
   "id": "709ce30d",
   "metadata": {
    "papermill": {
     "duration": 0.002454,
     "end_time": "2025-08-30T12:41:04.987249",
     "exception": false,
     "start_time": "2025-08-30T12:41:04.984795",
     "status": "completed"
    },
    "tags": []
   },
   "outputs": [],
   "source": []
  },
  {
   "cell_type": "code",
   "execution_count": null,
   "id": "c605f853",
   "metadata": {
    "papermill": {
     "duration": 0.002468,
     "end_time": "2025-08-30T12:41:04.992313",
     "exception": false,
     "start_time": "2025-08-30T12:41:04.989845",
     "status": "completed"
    },
    "tags": []
   },
   "outputs": [],
   "source": []
  },
  {
   "cell_type": "code",
   "execution_count": null,
   "id": "7fa7613f",
   "metadata": {
    "papermill": {
     "duration": 0.00247,
     "end_time": "2025-08-30T12:41:04.997470",
     "exception": false,
     "start_time": "2025-08-30T12:41:04.995000",
     "status": "completed"
    },
    "tags": []
   },
   "outputs": [],
   "source": []
  }
 ],
 "metadata": {
  "kaggle": {
   "accelerator": "gpu",
   "dataSources": [],
   "dockerImageVersionId": 31090,
   "isGpuEnabled": true,
   "isInternetEnabled": true,
   "language": "python",
   "sourceType": "notebook"
  },
  "kernelspec": {
   "display_name": "Python 3",
   "language": "python",
   "name": "python3"
  },
  "language_info": {
   "codemirror_mode": {
    "name": "ipython",
    "version": 3
   },
   "file_extension": ".py",
   "mimetype": "text/x-python",
   "name": "python",
   "nbconvert_exporter": "python",
   "pygments_lexer": "ipython3",
   "version": "3.11.13"
  },
  "papermill": {
   "default_parameters": {},
   "duration": 9.841865,
   "end_time": "2025-08-30T12:41:06.119304",
   "environment_variables": {},
   "exception": null,
   "input_path": "__notebook__.ipynb",
   "output_path": "__notebook__.ipynb",
   "parameters": {},
   "start_time": "2025-08-30T12:40:56.277439",
   "version": "2.6.0"
  }
 },
 "nbformat": 4,
 "nbformat_minor": 5
}
