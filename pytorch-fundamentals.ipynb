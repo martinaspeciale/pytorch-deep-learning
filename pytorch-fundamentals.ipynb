{
 "cells": [
  {
   "cell_type": "code",
   "execution_count": 1,
   "id": "f39805a4",
   "metadata": {
    "execution": {
     "iopub.execute_input": "2025-08-30T12:45:07.612909Z",
     "iopub.status.busy": "2025-08-30T12:45:07.612649Z",
     "iopub.status.idle": "2025-08-30T12:45:07.780770Z",
     "shell.execute_reply": "2025-08-30T12:45:07.779771Z"
    },
    "papermill": {
     "duration": 0.174663,
     "end_time": "2025-08-30T12:45:07.782478",
     "exception": false,
     "start_time": "2025-08-30T12:45:07.607815",
     "status": "completed"
    },
    "tags": []
   },
   "outputs": [
    {
     "name": "stdout",
     "output_type": "stream",
     "text": [
      "Sat Aug 30 12:45:07 2025       \r\n",
      "+-----------------------------------------------------------------------------------------+\r\n",
      "| NVIDIA-SMI 560.35.03              Driver Version: 560.35.03      CUDA Version: 12.6     |\r\n",
      "|-----------------------------------------+------------------------+----------------------+\r\n",
      "| GPU  Name                 Persistence-M | Bus-Id          Disp.A | Volatile Uncorr. ECC |\r\n",
      "| Fan  Temp   Perf          Pwr:Usage/Cap |           Memory-Usage | GPU-Util  Compute M. |\r\n",
      "|                                         |                        |               MIG M. |\r\n",
      "|=========================================+========================+======================|\r\n",
      "|   0  Tesla P100-PCIE-16GB           Off |   00000000:00:04.0 Off |                    0 |\r\n",
      "| N/A   39C    P0             26W /  250W |       0MiB /  16384MiB |      0%      Default |\r\n",
      "|                                         |                        |                  N/A |\r\n",
      "+-----------------------------------------+------------------------+----------------------+\r\n",
      "                                                                                         \r\n",
      "+-----------------------------------------------------------------------------------------+\r\n",
      "| Processes:                                                                              |\r\n",
      "|  GPU   GI   CI        PID   Type   Process name                              GPU Memory |\r\n",
      "|        ID   ID                                                               Usage      |\r\n",
      "|=========================================================================================|\r\n",
      "|  No running processes found                                                             |\r\n",
      "+-----------------------------------------------------------------------------------------+\r\n"
     ]
    }
   ],
   "source": [
    "!nvidia-smi"
   ]
  },
  {
   "cell_type": "markdown",
   "id": "00528726",
   "metadata": {
    "papermill": {
     "duration": 0.00281,
     "end_time": "2025-08-30T12:45:07.788654",
     "exception": false,
     "start_time": "2025-08-30T12:45:07.785844",
     "status": "completed"
    },
    "tags": []
   },
   "source": [
    "### Check for GPU access with Pytorch"
   ]
  },
  {
   "cell_type": "code",
   "execution_count": 2,
   "id": "fa9ec23f",
   "metadata": {
    "execution": {
     "iopub.execute_input": "2025-08-30T12:45:07.795593Z",
     "iopub.status.busy": "2025-08-30T12:45:07.795330Z",
     "iopub.status.idle": "2025-08-30T12:45:11.620913Z",
     "shell.execute_reply": "2025-08-30T12:45:11.620201Z"
    },
    "papermill": {
     "duration": 3.830702,
     "end_time": "2025-08-30T12:45:11.622204",
     "exception": false,
     "start_time": "2025-08-30T12:45:07.791502",
     "status": "completed"
    },
    "tags": []
   },
   "outputs": [
    {
     "data": {
      "text/plain": [
       "True"
      ]
     },
     "execution_count": 2,
     "metadata": {},
     "output_type": "execute_result"
    }
   ],
   "source": [
    "import torch \n",
    "\n",
    "torch.cuda.is_available()"
   ]
  },
  {
   "cell_type": "markdown",
   "id": "6de1d7f9",
   "metadata": {
    "papermill": {
     "duration": 0.002809,
     "end_time": "2025-08-30T12:45:11.628109",
     "exception": false,
     "start_time": "2025-08-30T12:45:11.625300",
     "status": "completed"
    },
    "tags": []
   },
   "source": [
    "# Setup device agnostic code\n",
    "For PyTorch run on GPU if available, else default to CPU"
   ]
  },
  {
   "cell_type": "code",
   "execution_count": 3,
   "id": "9f28650d",
   "metadata": {
    "execution": {
     "iopub.execute_input": "2025-08-30T12:45:11.634603Z",
     "iopub.status.busy": "2025-08-30T12:45:11.634269Z",
     "iopub.status.idle": "2025-08-30T12:45:11.638831Z",
     "shell.execute_reply": "2025-08-30T12:45:11.638281Z"
    },
    "papermill": {
     "duration": 0.009051,
     "end_time": "2025-08-30T12:45:11.639927",
     "exception": false,
     "start_time": "2025-08-30T12:45:11.630876",
     "status": "completed"
    },
    "tags": []
   },
   "outputs": [
    {
     "data": {
      "text/plain": [
       "'cuda'"
      ]
     },
     "execution_count": 3,
     "metadata": {},
     "output_type": "execute_result"
    }
   ],
   "source": [
    "device = \"cuda\" if torch.cuda.is_available() else \"cpu\"\n",
    "device "
   ]
  },
  {
   "cell_type": "code",
   "execution_count": 4,
   "id": "66f57247",
   "metadata": {
    "execution": {
     "iopub.execute_input": "2025-08-30T12:45:11.646392Z",
     "iopub.status.busy": "2025-08-30T12:45:11.646188Z",
     "iopub.status.idle": "2025-08-30T12:45:11.668323Z",
     "shell.execute_reply": "2025-08-30T12:45:11.667678Z"
    },
    "papermill": {
     "duration": 0.026648,
     "end_time": "2025-08-30T12:45:11.669488",
     "exception": false,
     "start_time": "2025-08-30T12:45:11.642840",
     "status": "completed"
    },
    "tags": []
   },
   "outputs": [
    {
     "data": {
      "text/plain": [
       "1"
      ]
     },
     "execution_count": 4,
     "metadata": {},
     "output_type": "execute_result"
    }
   ],
   "source": [
    "# count number of devices \n",
    "torch.cuda.device_count()"
   ]
  },
  {
   "cell_type": "markdown",
   "id": "5b2da810",
   "metadata": {
    "papermill": {
     "duration": 0.002845,
     "end_time": "2025-08-30T12:45:11.675450",
     "exception": false,
     "start_time": "2025-08-30T12:45:11.672605",
     "status": "completed"
    },
    "tags": []
   },
   "source": [
    " ## Putting tensors and models on the GPU \n",
    " Using a GPU results in faster computations "
   ]
  },
  {
   "cell_type": "code",
   "execution_count": 5,
   "id": "b3b9eeba",
   "metadata": {
    "execution": {
     "iopub.execute_input": "2025-08-30T12:45:11.682121Z",
     "iopub.status.busy": "2025-08-30T12:45:11.681876Z",
     "iopub.status.idle": "2025-08-30T12:45:11.717782Z",
     "shell.execute_reply": "2025-08-30T12:45:11.716894Z"
    },
    "papermill": {
     "duration": 0.040756,
     "end_time": "2025-08-30T12:45:11.719029",
     "exception": false,
     "start_time": "2025-08-30T12:45:11.678273",
     "status": "completed"
    },
    "tags": []
   },
   "outputs": [
    {
     "name": "stdout",
     "output_type": "stream",
     "text": [
      "tensor([1, 2, 3]) cpu\n"
     ]
    }
   ],
   "source": [
    "# create a tensor (default on the CPU)\n",
    "tensor = torch.tensor([1,2,3], device = \"cpu\")\n",
    "\n",
    "# tensor not on GPU \n",
    "print(tensor, tensor.device)"
   ]
  },
  {
   "cell_type": "code",
   "execution_count": 6,
   "id": "1d22de9e",
   "metadata": {
    "execution": {
     "iopub.execute_input": "2025-08-30T12:45:11.727138Z",
     "iopub.status.busy": "2025-08-30T12:45:11.726497Z",
     "iopub.status.idle": "2025-08-30T12:45:11.871860Z",
     "shell.execute_reply": "2025-08-30T12:45:11.871177Z"
    },
    "papermill": {
     "duration": 0.150061,
     "end_time": "2025-08-30T12:45:11.873079",
     "exception": false,
     "start_time": "2025-08-30T12:45:11.723018",
     "status": "completed"
    },
    "tags": []
   },
   "outputs": [
    {
     "data": {
      "text/plain": [
       "tensor([1, 2, 3], device='cuda:0')"
      ]
     },
     "execution_count": 6,
     "metadata": {},
     "output_type": "execute_result"
    }
   ],
   "source": [
    "# move tensor to GPU (if available) \n",
    "tensor_on_gpu = tensor.to(device)\n",
    "tensor_on_gpu"
   ]
  },
  {
   "cell_type": "code",
   "execution_count": null,
   "id": "c9712a04",
   "metadata": {
    "papermill": {
     "duration": 0.002987,
     "end_time": "2025-08-30T12:45:11.879264",
     "exception": false,
     "start_time": "2025-08-30T12:45:11.876277",
     "status": "completed"
    },
    "tags": []
   },
   "outputs": [],
   "source": []
  },
  {
   "cell_type": "code",
   "execution_count": null,
   "id": "32a67e08",
   "metadata": {
    "papermill": {
     "duration": 0.002743,
     "end_time": "2025-08-30T12:45:11.884948",
     "exception": false,
     "start_time": "2025-08-30T12:45:11.882205",
     "status": "completed"
    },
    "tags": []
   },
   "outputs": [],
   "source": []
  },
  {
   "cell_type": "code",
   "execution_count": null,
   "id": "a39b3db1",
   "metadata": {
    "papermill": {
     "duration": 0.002711,
     "end_time": "2025-08-30T12:45:11.890542",
     "exception": false,
     "start_time": "2025-08-30T12:45:11.887831",
     "status": "completed"
    },
    "tags": []
   },
   "outputs": [],
   "source": []
  },
  {
   "cell_type": "code",
   "execution_count": null,
   "id": "2dfe14fd",
   "metadata": {
    "papermill": {
     "duration": 0.002719,
     "end_time": "2025-08-30T12:45:11.896093",
     "exception": false,
     "start_time": "2025-08-30T12:45:11.893374",
     "status": "completed"
    },
    "tags": []
   },
   "outputs": [],
   "source": []
  },
  {
   "cell_type": "code",
   "execution_count": null,
   "id": "303dcf57",
   "metadata": {
    "papermill": {
     "duration": 0.002785,
     "end_time": "2025-08-30T12:45:11.901717",
     "exception": false,
     "start_time": "2025-08-30T12:45:11.898932",
     "status": "completed"
    },
    "tags": []
   },
   "outputs": [],
   "source": []
  },
  {
   "cell_type": "code",
   "execution_count": null,
   "id": "ed63e64d",
   "metadata": {
    "papermill": {
     "duration": 0.002693,
     "end_time": "2025-08-30T12:45:11.907244",
     "exception": false,
     "start_time": "2025-08-30T12:45:11.904551",
     "status": "completed"
    },
    "tags": []
   },
   "outputs": [],
   "source": []
  },
  {
   "cell_type": "code",
   "execution_count": null,
   "id": "bacbadb9",
   "metadata": {
    "papermill": {
     "duration": 0.002981,
     "end_time": "2025-08-30T12:45:11.913065",
     "exception": false,
     "start_time": "2025-08-30T12:45:11.910084",
     "status": "completed"
    },
    "tags": []
   },
   "outputs": [],
   "source": []
  },
  {
   "cell_type": "code",
   "execution_count": null,
   "id": "26345d4a",
   "metadata": {
    "papermill": {
     "duration": 0.002865,
     "end_time": "2025-08-30T12:45:11.918812",
     "exception": false,
     "start_time": "2025-08-30T12:45:11.915947",
     "status": "completed"
    },
    "tags": []
   },
   "outputs": [],
   "source": []
  },
  {
   "cell_type": "code",
   "execution_count": null,
   "id": "f9e7ec8d",
   "metadata": {
    "papermill": {
     "duration": 0.002713,
     "end_time": "2025-08-30T12:45:11.924394",
     "exception": false,
     "start_time": "2025-08-30T12:45:11.921681",
     "status": "completed"
    },
    "tags": []
   },
   "outputs": [],
   "source": []
  },
  {
   "cell_type": "code",
   "execution_count": null,
   "id": "9efee230",
   "metadata": {
    "papermill": {
     "duration": 0.002852,
     "end_time": "2025-08-30T12:45:11.930070",
     "exception": false,
     "start_time": "2025-08-30T12:45:11.927218",
     "status": "completed"
    },
    "tags": []
   },
   "outputs": [],
   "source": []
  },
  {
   "cell_type": "code",
   "execution_count": null,
   "id": "d49cc6d5",
   "metadata": {
    "papermill": {
     "duration": 0.002697,
     "end_time": "2025-08-30T12:45:11.935640",
     "exception": false,
     "start_time": "2025-08-30T12:45:11.932943",
     "status": "completed"
    },
    "tags": []
   },
   "outputs": [],
   "source": []
  },
  {
   "cell_type": "code",
   "execution_count": null,
   "id": "fa3da8d9",
   "metadata": {
    "papermill": {
     "duration": 0.002747,
     "end_time": "2025-08-30T12:45:11.941206",
     "exception": false,
     "start_time": "2025-08-30T12:45:11.938459",
     "status": "completed"
    },
    "tags": []
   },
   "outputs": [],
   "source": []
  },
  {
   "cell_type": "code",
   "execution_count": null,
   "id": "335b16c7",
   "metadata": {
    "papermill": {
     "duration": 0.002739,
     "end_time": "2025-08-30T12:45:11.946898",
     "exception": false,
     "start_time": "2025-08-30T12:45:11.944159",
     "status": "completed"
    },
    "tags": []
   },
   "outputs": [],
   "source": []
  },
  {
   "cell_type": "code",
   "execution_count": null,
   "id": "794f79a8",
   "metadata": {
    "papermill": {
     "duration": 0.002752,
     "end_time": "2025-08-30T12:45:11.952543",
     "exception": false,
     "start_time": "2025-08-30T12:45:11.949791",
     "status": "completed"
    },
    "tags": []
   },
   "outputs": [],
   "source": []
  }
 ],
 "metadata": {
  "kaggle": {
   "accelerator": "gpu",
   "dataSources": [],
   "dockerImageVersionId": 31090,
   "isGpuEnabled": true,
   "isInternetEnabled": true,
   "language": "python",
   "sourceType": "notebook"
  },
  "kernelspec": {
   "display_name": "Python 3",
   "language": "python",
   "name": "python3"
  },
  "language_info": {
   "codemirror_mode": {
    "name": "ipython",
    "version": 3
   },
   "file_extension": ".py",
   "mimetype": "text/x-python",
   "name": "python",
   "nbconvert_exporter": "python",
   "pygments_lexer": "ipython3",
   "version": "3.11.13"
  },
  "papermill": {
   "default_parameters": {},
   "duration": 9.480625,
   "end_time": "2025-08-30T12:45:13.075397",
   "environment_variables": {},
   "exception": null,
   "input_path": "__notebook__.ipynb",
   "output_path": "__notebook__.ipynb",
   "parameters": {},
   "start_time": "2025-08-30T12:45:03.594772",
   "version": "2.6.0"
  }
 },
 "nbformat": 4,
 "nbformat_minor": 5
}
