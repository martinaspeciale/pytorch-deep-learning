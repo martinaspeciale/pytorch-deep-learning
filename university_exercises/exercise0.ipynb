{
 "cells": [
  {
   "cell_type": "code",
   "execution_count": 1,
   "id": "c6900b77",
   "metadata": {
    "execution": {
     "iopub.execute_input": "2025-09-04T18:32:11.236522Z",
     "iopub.status.busy": "2025-09-04T18:32:11.236278Z",
     "iopub.status.idle": "2025-09-04T18:32:11.462196Z",
     "shell.execute_reply": "2025-09-04T18:32:11.461360Z"
    },
    "papermill": {
     "duration": 0.231525,
     "end_time": "2025-09-04T18:32:11.463777",
     "exception": false,
     "start_time": "2025-09-04T18:32:11.232252",
     "status": "completed"
    },
    "tags": []
   },
   "outputs": [
    {
     "name": "stdout",
     "output_type": "stream",
     "text": [
      "Thu Sep  4 18:32:11 2025       \r\n",
      "+-----------------------------------------------------------------------------------------+\r\n",
      "| NVIDIA-SMI 560.35.03              Driver Version: 560.35.03      CUDA Version: 12.6     |\r\n",
      "|-----------------------------------------+------------------------+----------------------+\r\n",
      "| GPU  Name                 Persistence-M | Bus-Id          Disp.A | Volatile Uncorr. ECC |\r\n",
      "| Fan  Temp   Perf          Pwr:Usage/Cap |           Memory-Usage | GPU-Util  Compute M. |\r\n",
      "|                                         |                        |               MIG M. |\r\n",
      "|=========================================+========================+======================|\r\n",
      "|   0  Tesla T4                       Off |   00000000:00:04.0 Off |                    0 |\r\n",
      "| N/A   35C    P8              9W /   70W |       1MiB /  15360MiB |      0%      Default |\r\n",
      "|                                         |                        |                  N/A |\r\n",
      "+-----------------------------------------+------------------------+----------------------+\r\n",
      "|   1  Tesla T4                       Off |   00000000:00:05.0 Off |                    0 |\r\n",
      "| N/A   33C    P8             10W /   70W |       1MiB /  15360MiB |      0%      Default |\r\n",
      "|                                         |                        |                  N/A |\r\n",
      "+-----------------------------------------+------------------------+----------------------+\r\n",
      "                                                                                         \r\n",
      "+-----------------------------------------------------------------------------------------+\r\n",
      "| Processes:                                                                              |\r\n",
      "|  GPU   GI   CI        PID   Type   Process name                              GPU Memory |\r\n",
      "|        ID   ID                                                               Usage      |\r\n",
      "|=========================================================================================|\r\n",
      "|  No running processes found                                                             |\r\n",
      "+-----------------------------------------------------------------------------------------+\r\n"
     ]
    }
   ],
   "source": [
    "!nvidia-smi"
   ]
  },
  {
   "cell_type": "markdown",
   "id": "93466f4c",
   "metadata": {
    "papermill": {
     "duration": 0.002479,
     "end_time": "2025-09-04T18:32:11.469561",
     "exception": false,
     "start_time": "2025-09-04T18:32:11.467082",
     "status": "completed"
    },
    "tags": []
   },
   "source": [
    "# MNIST — MLP warm-up\n",
    "\n",
    "We’ll load MNIST, normalize it, define a small MLP, and run a quick\n",
    "sanity check forward pass to verify shapes before training.\n"
   ]
  },
  {
   "cell_type": "code",
   "execution_count": 2,
   "id": "f397ddce",
   "metadata": {
    "execution": {
     "iopub.execute_input": "2025-09-04T18:32:11.476066Z",
     "iopub.status.busy": "2025-09-04T18:32:11.475806Z",
     "iopub.status.idle": "2025-09-04T18:32:11.479278Z",
     "shell.execute_reply": "2025-09-04T18:32:11.478785Z"
    },
    "papermill": {
     "duration": 0.007998,
     "end_time": "2025-09-04T18:32:11.480291",
     "exception": false,
     "start_time": "2025-09-04T18:32:11.472293",
     "status": "completed"
    },
    "tags": []
   },
   "outputs": [],
   "source": [
    "# OPTIONAL: only run this if your torch/torchvision install is broken.\n",
    "# For GPU on Kaggle (CUDA 12.1 wheels):\n",
    "# !pip install --upgrade --force-reinstall torch torchvision torchaudio --index-url https://download.pytorch.org/whl/cu121\n",
    "# For CPU-only:\n",
    "# !pip install --upgrade --force-reinstall torch torchvision torchaudio --index-url https://download.pytorch.org/whl/cpu\n"
   ]
  },
  {
   "cell_type": "markdown",
   "id": "2b3eea95",
   "metadata": {
    "papermill": {
     "duration": 0.002451,
     "end_time": "2025-09-04T18:32:11.485357",
     "exception": false,
     "start_time": "2025-09-04T18:32:11.482906",
     "status": "completed"
    },
    "tags": []
   },
   "source": [
    "## Imports & device\n",
    "\n",
    "We’ll autodetect CUDA and fall back to CPU. The code works either way.\n"
   ]
  },
  {
   "cell_type": "code",
   "execution_count": 3,
   "id": "42a30989",
   "metadata": {
    "execution": {
     "iopub.execute_input": "2025-09-04T18:32:11.491274Z",
     "iopub.status.busy": "2025-09-04T18:32:11.491078Z",
     "iopub.status.idle": "2025-09-04T18:32:21.344372Z",
     "shell.execute_reply": "2025-09-04T18:32:21.343557Z"
    },
    "papermill": {
     "duration": 9.857411,
     "end_time": "2025-09-04T18:32:21.345507",
     "exception": false,
     "start_time": "2025-09-04T18:32:11.488096",
     "status": "completed"
    },
    "tags": []
   },
   "outputs": [
    {
     "name": "stdout",
     "output_type": "stream",
     "text": [
      "torch: 2.6.0+cu124\n",
      "torchvision: 0.21.0+cu124\n",
      "device: cuda\n"
     ]
    }
   ],
   "source": [
    "import torch\n",
    "import torchvision\n",
    "\n",
    "device = \"cuda\" if torch.cuda.is_available() else \"cpu\"\n",
    "\n",
    "print(\"torch:\", torch.__version__)\n",
    "print(\"torchvision:\", torchvision.__version__)\n",
    "print(\"device:\", device)\n"
   ]
  },
  {
   "cell_type": "markdown",
   "id": "d5770b81",
   "metadata": {
    "papermill": {
     "duration": 0.002429,
     "end_time": "2025-09-04T18:32:21.350718",
     "exception": false,
     "start_time": "2025-09-04T18:32:21.348289",
     "status": "completed"
    },
    "tags": []
   },
   "source": [
    "## Dataset & transforms\n",
    "\n",
    "- `ToTensor()` → scales pixels to [0,1] with shape [1, 28, 28].\n",
    "- `Normalize((0.1307,), (0.3081,))` → center/scale using MNIST stats.\n",
    "  (Note the commas: single-element tuples.)\n"
   ]
  },
  {
   "cell_type": "markdown",
   "id": "2ce0691b",
   "metadata": {
    "papermill": {
     "duration": 0.002249,
     "end_time": "2025-09-04T18:32:21.355478",
     "exception": false,
     "start_time": "2025-09-04T18:32:21.353229",
     "status": "completed"
    },
    "tags": []
   },
   "source": [
    "### Why do we normalize MNIST with `(0.1307,), (0.3081,)`?\n",
    "\n",
    "After `ToTensor()`, MNIST images are scaled to `[0,1]`, but their distribution isn’t centered and doesn’t have unit variance:\n",
    "- Mean pixel value is about **0.1307** (most pixels are dark background).\n",
    "- Standard deviation is about **0.3081**.\n",
    "\n",
    "**Why normalize?**\n",
    "- Centering (subtracting the mean) makes neuron inputs hover around zero, which helps gradients flow and speeds up learning.\n",
    "- Scaling (dividing by the std) puts features on a comparable scale, making optimization more stable and less sensitive to learning rates.\n",
    "\n",
    "**Why those exact numbers?**\n",
    "- They are the empirical mean and std of the MNIST training set computed over all pixels.\n",
    "- Using dataset-specific stats is better than generic choices (like 0.5/0.5) because it matches the true data distribution.\n",
    "\n",
    "**Why the tuples — and why the comma is so important?**\n",
    "- `Normalize` expects a *sequence* (list or tuple) with one value per channel.\n",
    "- MNIST has 1 channel → we need one mean and one std → a 1-element tuple.\n",
    "- In Python:\n",
    "  - `(0.3081,)` → a tuple containing one float ✅\n",
    "  - `(0.3081)` → just a float ❌\n",
    "- If you forget the comma, you pass a float instead of a tuple. That breaks the shape handling inside `Normalize` and can lead to confusing errors (like “std evaluated to zero”).\n",
    "\n",
    "**What if we skip normalization?**\n",
    "- The model may still learn (MNIST is simple), but:\n",
    "  - Training is slower.\n",
    "  - Optimization is less stable.\n",
    "  - Accuracy may plateau lower.\n",
    "- For harder datasets (like CIFAR or ImageNet), skipping normalization can mean the model fails to learn at all.\n",
    "\n",
    "**TL;DR**\n",
    "Normalization with `(0.1307,), (0.3081,)` standardizes MNIST inputs to zero-like mean and unit-like variance.  \n",
    "The trailing comma is crucial because it makes those values tuples, not plain floats, which is exactly what `Normalize` expects.\n"
   ]
  },
  {
   "cell_type": "code",
   "execution_count": 4,
   "id": "75ff393d",
   "metadata": {
    "execution": {
     "iopub.execute_input": "2025-09-04T18:32:21.361386Z",
     "iopub.status.busy": "2025-09-04T18:32:21.361064Z",
     "iopub.status.idle": "2025-09-04T18:32:23.974848Z",
     "shell.execute_reply": "2025-09-04T18:32:23.973989Z"
    },
    "papermill": {
     "duration": 2.618144,
     "end_time": "2025-09-04T18:32:23.976050",
     "exception": false,
     "start_time": "2025-09-04T18:32:21.357906",
     "status": "completed"
    },
    "tags": []
   },
   "outputs": [
    {
     "name": "stderr",
     "output_type": "stream",
     "text": [
      "100%|██████████| 9.91M/9.91M [00:00<00:00, 38.1MB/s]\n",
      "100%|██████████| 28.9k/28.9k [00:00<00:00, 1.05MB/s]\n",
      "100%|██████████| 1.65M/1.65M [00:00<00:00, 9.51MB/s]\n",
      "100%|██████████| 4.54k/4.54k [00:00<00:00, 9.02MB/s]"
     ]
    },
    {
     "name": "stdout",
     "output_type": "stream",
     "text": [
      "one sample: torch.Size([1, 28, 28]) 5\n"
     ]
    },
    {
     "name": "stderr",
     "output_type": "stream",
     "text": [
      "\n"
     ]
    }
   ],
   "source": [
    "transform = torchvision.transforms.Compose([\n",
    "    torchvision.transforms.ToTensor(),\n",
    "    torchvision.transforms.Normalize((0.1307,), (0.3081,))\n",
    "])\n",
    "\n",
    "train_mnist = torchvision.datasets.MNIST(\n",
    "    root=\"./data\", train=True, download=True, transform=transform\n",
    ")\n",
    "test_mnist = torchvision.datasets.MNIST(\n",
    "    root=\"./data\", train=False, download=True, transform=transform\n",
    ")\n",
    "\n",
    "# quick peek\n",
    "x0, y0 = train_mnist[0]\n",
    "print(\"one sample:\", x0.shape, y0)  # torch.Size([1, 28, 28]) label_int\n"
   ]
  },
  {
   "cell_type": "markdown",
   "id": "e729c0ff",
   "metadata": {
    "papermill": {
     "duration": 0.002904,
     "end_time": "2025-09-04T18:32:23.982401",
     "exception": false,
     "start_time": "2025-09-04T18:32:23.979497",
     "status": "completed"
    },
    "tags": []
   },
   "source": [
    "## Model\n",
    "\n",
    "A simple fully-connected classifier:\n",
    "- Flatten 28×28 → 784\n",
    "- Hidden: 300 → 300 with LeakyReLU\n",
    "- Output: 10 logits (no Softmax; CrossEntropyLoss expects logits)\n"
   ]
  },
  {
   "cell_type": "code",
   "execution_count": 5,
   "id": "3bae7942",
   "metadata": {
    "execution": {
     "iopub.execute_input": "2025-09-04T18:32:23.989496Z",
     "iopub.status.busy": "2025-09-04T18:32:23.989038Z",
     "iopub.status.idle": "2025-09-04T18:32:24.191210Z",
     "shell.execute_reply": "2025-09-04T18:32:24.190452Z"
    },
    "papermill": {
     "duration": 0.206952,
     "end_time": "2025-09-04T18:32:24.192372",
     "exception": false,
     "start_time": "2025-09-04T18:32:23.985420",
     "status": "completed"
    },
    "tags": []
   },
   "outputs": [
    {
     "name": "stdout",
     "output_type": "stream",
     "text": [
      "model params: 328810\n"
     ]
    }
   ],
   "source": [
    "model = torch.nn.Sequential(\n",
    "    torch.nn.Linear(28*28, 300),\n",
    "    torch.nn.LeakyReLU(),\n",
    "    torch.nn.Linear(300, 300),\n",
    "    torch.nn.LeakyReLU(),\n",
    "    torch.nn.Linear(300, 10)  # logits\n",
    ").to(device)\n",
    "\n",
    "sum_params = sum(p.numel() for p in model.parameters())\n",
    "print(\"model params:\", sum_params)\n"
   ]
  },
  {
   "cell_type": "markdown",
   "id": "f3354e00",
   "metadata": {
    "papermill": {
     "duration": 0.003127,
     "end_time": "2025-09-04T18:32:24.199850",
     "exception": false,
     "start_time": "2025-09-04T18:32:24.196723",
     "status": "completed"
    },
    "tags": []
   },
   "source": [
    "## Sanity check (single example)\n",
    "\n",
    "Flatten to 784 features, forward once, confirm output shape [1, 10].\n"
   ]
  },
  {
   "cell_type": "code",
   "execution_count": 6,
   "id": "5b69ecc9",
   "metadata": {
    "execution": {
     "iopub.execute_input": "2025-09-04T18:32:24.207252Z",
     "iopub.status.busy": "2025-09-04T18:32:24.206604Z",
     "iopub.status.idle": "2025-09-04T18:32:24.356944Z",
     "shell.execute_reply": "2025-09-04T18:32:24.356206Z"
    },
    "papermill": {
     "duration": 0.155098,
     "end_time": "2025-09-04T18:32:24.358083",
     "exception": false,
     "start_time": "2025-09-04T18:32:24.202985",
     "status": "completed"
    },
    "tags": []
   },
   "outputs": [
    {
     "name": "stdout",
     "output_type": "stream",
     "text": [
      "single forward shape: torch.Size([1, 10])\n"
     ]
    }
   ],
   "source": [
    "digit, cls = train_mnist[0]\n",
    "digit = digit.to(device).view(1, 28*28)  # add batch dim = 1\n",
    "with torch.no_grad():\n",
    "    out = model(digit)\n",
    "print(\"single forward shape:\", out.shape)  # torch.Size([1, 10])\n"
   ]
  },
  {
   "cell_type": "markdown",
   "id": "9af9b6a0",
   "metadata": {
    "papermill": {
     "duration": 0.003071,
     "end_time": "2025-09-04T18:32:24.364599",
     "exception": false,
     "start_time": "2025-09-04T18:32:24.361528",
     "status": "completed"
    },
    "tags": []
   },
   "source": [
    "## Sanity check with dataset loop (first item only)\n",
    "\n",
    "Iterate the dataset, move to device, flatten, run model, print shape, break.\n"
   ]
  },
  {
   "cell_type": "code",
   "execution_count": 7,
   "id": "6dd47ca4",
   "metadata": {
    "execution": {
     "iopub.execute_input": "2025-09-04T18:32:24.371695Z",
     "iopub.status.busy": "2025-09-04T18:32:24.371421Z",
     "iopub.status.idle": "2025-09-04T18:32:24.377068Z",
     "shell.execute_reply": "2025-09-04T18:32:24.376468Z"
    },
    "papermill": {
     "duration": 0.010416,
     "end_time": "2025-09-04T18:32:24.378100",
     "exception": false,
     "start_time": "2025-09-04T18:32:24.367684",
     "status": "completed"
    },
    "tags": []
   },
   "outputs": [
    {
     "name": "stdout",
     "output_type": "stream",
     "text": [
      "torch.Size([1, 10])\n"
     ]
    }
   ],
   "source": [
    "for digit, cls in train_mnist:\n",
    "    digit = digit.to(device)\n",
    "    digit = digit.view(digit.shape[0], 28*28)\n",
    "    with torch.no_grad():\n",
    "        print(model(digit).shape)  # expected: torch.Size([1, 10])\n",
    "    break\n"
   ]
  },
  {
   "cell_type": "code",
   "execution_count": null,
   "id": "193bc9a8",
   "metadata": {
    "papermill": {
     "duration": 0.003215,
     "end_time": "2025-09-04T18:32:24.384733",
     "exception": false,
     "start_time": "2025-09-04T18:32:24.381518",
     "status": "completed"
    },
    "tags": []
   },
   "outputs": [],
   "source": []
  },
  {
   "cell_type": "code",
   "execution_count": null,
   "id": "a90ceb7b",
   "metadata": {
    "papermill": {
     "duration": 0.003071,
     "end_time": "2025-09-04T18:32:24.391088",
     "exception": false,
     "start_time": "2025-09-04T18:32:24.388017",
     "status": "completed"
    },
    "tags": []
   },
   "outputs": [],
   "source": []
  },
  {
   "cell_type": "code",
   "execution_count": null,
   "id": "e2799de8",
   "metadata": {
    "papermill": {
     "duration": 0.003007,
     "end_time": "2025-09-04T18:32:24.397204",
     "exception": false,
     "start_time": "2025-09-04T18:32:24.394197",
     "status": "completed"
    },
    "tags": []
   },
   "outputs": [],
   "source": []
  },
  {
   "cell_type": "code",
   "execution_count": null,
   "id": "4a032a36",
   "metadata": {
    "papermill": {
     "duration": 0.003001,
     "end_time": "2025-09-04T18:32:24.403397",
     "exception": false,
     "start_time": "2025-09-04T18:32:24.400396",
     "status": "completed"
    },
    "tags": []
   },
   "outputs": [],
   "source": []
  }
 ],
 "metadata": {
  "kaggle": {
   "accelerator": "nvidiaTeslaT4",
   "dataSources": [],
   "dockerImageVersionId": 31089,
   "isGpuEnabled": true,
   "isInternetEnabled": true,
   "language": "python",
   "sourceType": "notebook"
  },
  "kernelspec": {
   "display_name": "Python 3",
   "language": "python",
   "name": "python3"
  },
  "language_info": {
   "codemirror_mode": {
    "name": "ipython",
    "version": 3
   },
   "file_extension": ".py",
   "mimetype": "text/x-python",
   "name": "python",
   "nbconvert_exporter": "python",
   "pygments_lexer": "ipython3",
   "version": "3.11.13"
  },
  "papermill": {
   "default_parameters": {},
   "duration": 19.190802,
   "end_time": "2025-09-04T18:32:25.826299",
   "environment_variables": {},
   "exception": null,
   "input_path": "__notebook__.ipynb",
   "output_path": "__notebook__.ipynb",
   "parameters": {},
   "start_time": "2025-09-04T18:32:06.635497",
   "version": "2.6.0"
  }
 },
 "nbformat": 4,
 "nbformat_minor": 5
}
