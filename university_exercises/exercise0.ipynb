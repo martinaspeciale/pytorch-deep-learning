{
 "cells": [
  {
   "cell_type": "code",
   "execution_count": 1,
   "id": "23ca9ab8",
   "metadata": {
    "execution": {
     "iopub.execute_input": "2025-09-04T18:18:29.837274Z",
     "iopub.status.busy": "2025-09-04T18:18:29.837040Z",
     "iopub.status.idle": "2025-09-04T18:18:30.062648Z",
     "shell.execute_reply": "2025-09-04T18:18:30.061896Z"
    },
    "papermill": {
     "duration": 0.230537,
     "end_time": "2025-09-04T18:18:30.064057",
     "exception": false,
     "start_time": "2025-09-04T18:18:29.833520",
     "status": "completed"
    },
    "tags": []
   },
   "outputs": [
    {
     "name": "stdout",
     "output_type": "stream",
     "text": [
      "Thu Sep  4 18:18:29 2025       \r\n",
      "+-----------------------------------------------------------------------------------------+\r\n",
      "| NVIDIA-SMI 560.35.03              Driver Version: 560.35.03      CUDA Version: 12.6     |\r\n",
      "|-----------------------------------------+------------------------+----------------------+\r\n",
      "| GPU  Name                 Persistence-M | Bus-Id          Disp.A | Volatile Uncorr. ECC |\r\n",
      "| Fan  Temp   Perf          Pwr:Usage/Cap |           Memory-Usage | GPU-Util  Compute M. |\r\n",
      "|                                         |                        |               MIG M. |\r\n",
      "|=========================================+========================+======================|\r\n",
      "|   0  Tesla T4                       Off |   00000000:00:04.0 Off |                    0 |\r\n",
      "| N/A   56C    P8             10W /   70W |       1MiB /  15360MiB |      0%      Default |\r\n",
      "|                                         |                        |                  N/A |\r\n",
      "+-----------------------------------------+------------------------+----------------------+\r\n",
      "|   1  Tesla T4                       Off |   00000000:00:05.0 Off |                    0 |\r\n",
      "| N/A   57C    P8             10W /   70W |       1MiB /  15360MiB |      0%      Default |\r\n",
      "|                                         |                        |                  N/A |\r\n",
      "+-----------------------------------------+------------------------+----------------------+\r\n",
      "                                                                                         \r\n",
      "+-----------------------------------------------------------------------------------------+\r\n",
      "| Processes:                                                                              |\r\n",
      "|  GPU   GI   CI        PID   Type   Process name                              GPU Memory |\r\n",
      "|        ID   ID                                                               Usage      |\r\n",
      "|=========================================================================================|\r\n",
      "|  No running processes found                                                             |\r\n",
      "+-----------------------------------------------------------------------------------------+\r\n"
     ]
    }
   ],
   "source": [
    "!nvidia-smi"
   ]
  },
  {
   "cell_type": "markdown",
   "id": "cfbe4a09",
   "metadata": {
    "papermill": {
     "duration": 0.002304,
     "end_time": "2025-09-04T18:18:30.069999",
     "exception": false,
     "start_time": "2025-09-04T18:18:30.067695",
     "status": "completed"
    },
    "tags": []
   },
   "source": [
    "# MNIST — MLP warm-up\n",
    "\n",
    "We’ll load MNIST, normalize it, define a small MLP, and run a quick\n",
    "sanity check forward pass to verify shapes before training.\n"
   ]
  },
  {
   "cell_type": "code",
   "execution_count": 2,
   "id": "27a37d90",
   "metadata": {
    "execution": {
     "iopub.execute_input": "2025-09-04T18:18:30.075711Z",
     "iopub.status.busy": "2025-09-04T18:18:30.075458Z",
     "iopub.status.idle": "2025-09-04T18:18:30.078861Z",
     "shell.execute_reply": "2025-09-04T18:18:30.078291Z"
    },
    "papermill": {
     "duration": 0.007912,
     "end_time": "2025-09-04T18:18:30.080285",
     "exception": false,
     "start_time": "2025-09-04T18:18:30.072373",
     "status": "completed"
    },
    "tags": []
   },
   "outputs": [],
   "source": [
    "# OPTIONAL: only run this if your torch/torchvision install is broken.\n",
    "# For GPU on Kaggle (CUDA 12.1 wheels):\n",
    "# !pip install --upgrade --force-reinstall torch torchvision torchaudio --index-url https://download.pytorch.org/whl/cu121\n",
    "# For CPU-only:\n",
    "# !pip install --upgrade --force-reinstall torch torchvision torchaudio --index-url https://download.pytorch.org/whl/cpu\n"
   ]
  },
  {
   "cell_type": "markdown",
   "id": "e51df636",
   "metadata": {
    "papermill": {
     "duration": 0.002028,
     "end_time": "2025-09-04T18:18:30.084643",
     "exception": false,
     "start_time": "2025-09-04T18:18:30.082615",
     "status": "completed"
    },
    "tags": []
   },
   "source": [
    "## Imports & device\n",
    "\n",
    "We’ll autodetect CUDA and fall back to CPU. The code works either way.\n"
   ]
  },
  {
   "cell_type": "code",
   "execution_count": 3,
   "id": "e0c69424",
   "metadata": {
    "execution": {
     "iopub.execute_input": "2025-09-04T18:18:30.090332Z",
     "iopub.status.busy": "2025-09-04T18:18:30.089776Z",
     "iopub.status.idle": "2025-09-04T18:18:39.676071Z",
     "shell.execute_reply": "2025-09-04T18:18:39.675183Z"
    },
    "papermill": {
     "duration": 9.590662,
     "end_time": "2025-09-04T18:18:39.677428",
     "exception": false,
     "start_time": "2025-09-04T18:18:30.086766",
     "status": "completed"
    },
    "tags": []
   },
   "outputs": [
    {
     "name": "stdout",
     "output_type": "stream",
     "text": [
      "torch: 2.6.0+cu124\n",
      "torchvision: 0.21.0+cu124\n",
      "device: cuda\n"
     ]
    }
   ],
   "source": [
    "import torch\n",
    "import torchvision\n",
    "\n",
    "device = \"cuda\" if torch.cuda.is_available() else \"cpu\"\n",
    "\n",
    "print(\"torch:\", torch.__version__)\n",
    "print(\"torchvision:\", torchvision.__version__)\n",
    "print(\"device:\", device)\n"
   ]
  },
  {
   "cell_type": "markdown",
   "id": "d2f855d1",
   "metadata": {
    "papermill": {
     "duration": 0.002221,
     "end_time": "2025-09-04T18:18:39.682358",
     "exception": false,
     "start_time": "2025-09-04T18:18:39.680137",
     "status": "completed"
    },
    "tags": []
   },
   "source": [
    "## Dataset & transforms\n",
    "\n",
    "- `ToTensor()` → scales pixels to [0,1] with shape [1, 28, 28].\n",
    "- `Normalize((0.1307,), (0.3081,))` → center/scale using MNIST stats.\n",
    "  (Note the commas: single-element tuples.)\n"
   ]
  },
  {
   "cell_type": "code",
   "execution_count": 4,
   "id": "7fd34ed0",
   "metadata": {
    "execution": {
     "iopub.execute_input": "2025-09-04T18:18:39.687607Z",
     "iopub.status.busy": "2025-09-04T18:18:39.687311Z",
     "iopub.status.idle": "2025-09-04T18:18:41.943828Z",
     "shell.execute_reply": "2025-09-04T18:18:41.943046Z"
    },
    "papermill": {
     "duration": 2.26059,
     "end_time": "2025-09-04T18:18:41.945147",
     "exception": false,
     "start_time": "2025-09-04T18:18:39.684557",
     "status": "completed"
    },
    "tags": []
   },
   "outputs": [
    {
     "name": "stderr",
     "output_type": "stream",
     "text": [
      "100%|██████████| 9.91M/9.91M [00:00<00:00, 38.4MB/s]\n",
      "100%|██████████| 28.9k/28.9k [00:00<00:00, 1.10MB/s]\n",
      "100%|██████████| 1.65M/1.65M [00:00<00:00, 10.2MB/s]\n",
      "100%|██████████| 4.54k/4.54k [00:00<00:00, 7.88MB/s]"
     ]
    },
    {
     "name": "stdout",
     "output_type": "stream",
     "text": [
      "one sample: torch.Size([1, 28, 28]) 5\n"
     ]
    },
    {
     "name": "stderr",
     "output_type": "stream",
     "text": [
      "\n"
     ]
    }
   ],
   "source": [
    "transform = torchvision.transforms.Compose([\n",
    "    torchvision.transforms.ToTensor(),\n",
    "    torchvision.transforms.Normalize((0.1307,), (0.3081,))\n",
    "])\n",
    "\n",
    "train_mnist = torchvision.datasets.MNIST(\n",
    "    root=\"./data\", train=True, download=True, transform=transform\n",
    ")\n",
    "test_mnist = torchvision.datasets.MNIST(\n",
    "    root=\"./data\", train=False, download=True, transform=transform\n",
    ")\n",
    "\n",
    "# quick peek\n",
    "x0, y0 = train_mnist[0]\n",
    "print(\"one sample:\", x0.shape, y0)  # torch.Size([1, 28, 28]) label_int\n"
   ]
  },
  {
   "cell_type": "markdown",
   "id": "4fc5f7f1",
   "metadata": {
    "papermill": {
     "duration": 0.00295,
     "end_time": "2025-09-04T18:18:41.951187",
     "exception": false,
     "start_time": "2025-09-04T18:18:41.948237",
     "status": "completed"
    },
    "tags": []
   },
   "source": [
    "## Model\n",
    "\n",
    "A simple fully-connected classifier:\n",
    "- Flatten 28×28 → 784\n",
    "- Hidden: 300 → 300 with LeakyReLU\n",
    "- Output: 10 logits (no Softmax; CrossEntropyLoss expects logits)\n"
   ]
  },
  {
   "cell_type": "code",
   "execution_count": 5,
   "id": "fbb8b418",
   "metadata": {
    "execution": {
     "iopub.execute_input": "2025-09-04T18:18:41.957662Z",
     "iopub.status.busy": "2025-09-04T18:18:41.957272Z",
     "iopub.status.idle": "2025-09-04T18:18:42.159585Z",
     "shell.execute_reply": "2025-09-04T18:18:42.158553Z"
    },
    "papermill": {
     "duration": 0.206863,
     "end_time": "2025-09-04T18:18:42.160836",
     "exception": false,
     "start_time": "2025-09-04T18:18:41.953973",
     "status": "completed"
    },
    "tags": []
   },
   "outputs": [
    {
     "name": "stdout",
     "output_type": "stream",
     "text": [
      "model params: 328810\n"
     ]
    }
   ],
   "source": [
    "model = torch.nn.Sequential(\n",
    "    torch.nn.Linear(28*28, 300),\n",
    "    torch.nn.LeakyReLU(),\n",
    "    torch.nn.Linear(300, 300),\n",
    "    torch.nn.LeakyReLU(),\n",
    "    torch.nn.Linear(300, 10)  # logits\n",
    ").to(device)\n",
    "\n",
    "sum_params = sum(p.numel() for p in model.parameters())\n",
    "print(\"model params:\", sum_params)\n"
   ]
  },
  {
   "cell_type": "code",
   "execution_count": null,
   "id": "939e1c53",
   "metadata": {
    "papermill": {
     "duration": 0.00282,
     "end_time": "2025-09-04T18:18:42.166929",
     "exception": false,
     "start_time": "2025-09-04T18:18:42.164109",
     "status": "completed"
    },
    "tags": []
   },
   "outputs": [],
   "source": []
  },
  {
   "cell_type": "code",
   "execution_count": null,
   "id": "ba29c16b",
   "metadata": {
    "papermill": {
     "duration": 0.002716,
     "end_time": "2025-09-04T18:18:42.172725",
     "exception": false,
     "start_time": "2025-09-04T18:18:42.170009",
     "status": "completed"
    },
    "tags": []
   },
   "outputs": [],
   "source": []
  },
  {
   "cell_type": "code",
   "execution_count": null,
   "id": "b066b7ec",
   "metadata": {
    "papermill": {
     "duration": 0.00358,
     "end_time": "2025-09-04T18:18:42.179122",
     "exception": false,
     "start_time": "2025-09-04T18:18:42.175542",
     "status": "completed"
    },
    "tags": []
   },
   "outputs": [],
   "source": []
  },
  {
   "cell_type": "code",
   "execution_count": null,
   "id": "68048e9d",
   "metadata": {
    "papermill": {
     "duration": 0.002659,
     "end_time": "2025-09-04T18:18:42.184774",
     "exception": false,
     "start_time": "2025-09-04T18:18:42.182115",
     "status": "completed"
    },
    "tags": []
   },
   "outputs": [],
   "source": []
  },
  {
   "cell_type": "code",
   "execution_count": null,
   "id": "be6491aa",
   "metadata": {
    "papermill": {
     "duration": 0.002945,
     "end_time": "2025-09-04T18:18:42.190610",
     "exception": false,
     "start_time": "2025-09-04T18:18:42.187665",
     "status": "completed"
    },
    "tags": []
   },
   "outputs": [],
   "source": []
  },
  {
   "cell_type": "code",
   "execution_count": null,
   "id": "66d4a277",
   "metadata": {
    "papermill": {
     "duration": 0.002636,
     "end_time": "2025-09-04T18:18:42.195993",
     "exception": false,
     "start_time": "2025-09-04T18:18:42.193357",
     "status": "completed"
    },
    "tags": []
   },
   "outputs": [],
   "source": []
  }
 ],
 "metadata": {
  "kaggle": {
   "accelerator": "nvidiaTeslaT4",
   "dataSources": [],
   "dockerImageVersionId": 31089,
   "isGpuEnabled": true,
   "isInternetEnabled": true,
   "language": "python",
   "sourceType": "notebook"
  },
  "kernelspec": {
   "display_name": "Python 3",
   "language": "python",
   "name": "python3"
  },
  "language_info": {
   "codemirror_mode": {
    "name": "ipython",
    "version": 3
   },
   "file_extension": ".py",
   "mimetype": "text/x-python",
   "name": "python",
   "nbconvert_exporter": "python",
   "pygments_lexer": "ipython3",
   "version": "3.11.13"
  },
  "papermill": {
   "default_parameters": {},
   "duration": 18.206847,
   "end_time": "2025-09-04T18:18:43.619521",
   "environment_variables": {},
   "exception": null,
   "input_path": "__notebook__.ipynb",
   "output_path": "__notebook__.ipynb",
   "parameters": {},
   "start_time": "2025-09-04T18:18:25.412674",
   "version": "2.6.0"
  }
 },
 "nbformat": 4,
 "nbformat_minor": 5
}
