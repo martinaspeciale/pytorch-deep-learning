{
 "cells": [
  {
   "cell_type": "code",
   "execution_count": 1,
   "id": "12c484b7",
   "metadata": {
    "execution": {
     "iopub.execute_input": "2025-09-04T18:19:46.826352Z",
     "iopub.status.busy": "2025-09-04T18:19:46.826154Z",
     "iopub.status.idle": "2025-09-04T18:19:47.052246Z",
     "shell.execute_reply": "2025-09-04T18:19:47.051243Z"
    },
    "papermill": {
     "duration": 0.23106,
     "end_time": "2025-09-04T18:19:47.053506",
     "exception": false,
     "start_time": "2025-09-04T18:19:46.822446",
     "status": "completed"
    },
    "tags": []
   },
   "outputs": [
    {
     "name": "stdout",
     "output_type": "stream",
     "text": [
      "Thu Sep  4 18:19:46 2025       \r\n",
      "+-----------------------------------------------------------------------------------------+\r\n",
      "| NVIDIA-SMI 560.35.03              Driver Version: 560.35.03      CUDA Version: 12.6     |\r\n",
      "|-----------------------------------------+------------------------+----------------------+\r\n",
      "| GPU  Name                 Persistence-M | Bus-Id          Disp.A | Volatile Uncorr. ECC |\r\n",
      "| Fan  Temp   Perf          Pwr:Usage/Cap |           Memory-Usage | GPU-Util  Compute M. |\r\n",
      "|                                         |                        |               MIG M. |\r\n",
      "|=========================================+========================+======================|\r\n",
      "|   0  Tesla T4                       Off |   00000000:00:04.0 Off |                    0 |\r\n",
      "| N/A   38C    P8              9W /   70W |       1MiB /  15360MiB |      0%      Default |\r\n",
      "|                                         |                        |                  N/A |\r\n",
      "+-----------------------------------------+------------------------+----------------------+\r\n",
      "|   1  Tesla T4                       Off |   00000000:00:05.0 Off |                    0 |\r\n",
      "| N/A   41C    P8             10W /   70W |       1MiB /  15360MiB |      0%      Default |\r\n",
      "|                                         |                        |                  N/A |\r\n",
      "+-----------------------------------------+------------------------+----------------------+\r\n",
      "                                                                                         \r\n",
      "+-----------------------------------------------------------------------------------------+\r\n",
      "| Processes:                                                                              |\r\n",
      "|  GPU   GI   CI        PID   Type   Process name                              GPU Memory |\r\n",
      "|        ID   ID                                                               Usage      |\r\n",
      "|=========================================================================================|\r\n",
      "|  No running processes found                                                             |\r\n",
      "+-----------------------------------------------------------------------------------------+\r\n"
     ]
    }
   ],
   "source": [
    "!nvidia-smi"
   ]
  },
  {
   "cell_type": "markdown",
   "id": "782c6871",
   "metadata": {
    "papermill": {
     "duration": 0.002215,
     "end_time": "2025-09-04T18:19:47.058528",
     "exception": false,
     "start_time": "2025-09-04T18:19:47.056313",
     "status": "completed"
    },
    "tags": []
   },
   "source": [
    "# MNIST — MLP warm-up\n",
    "\n",
    "We’ll load MNIST, normalize it, define a small MLP, and run a quick\n",
    "sanity check forward pass to verify shapes before training.\n"
   ]
  },
  {
   "cell_type": "code",
   "execution_count": 2,
   "id": "4b8614f0",
   "metadata": {
    "execution": {
     "iopub.execute_input": "2025-09-04T18:19:47.064225Z",
     "iopub.status.busy": "2025-09-04T18:19:47.064015Z",
     "iopub.status.idle": "2025-09-04T18:19:47.067428Z",
     "shell.execute_reply": "2025-09-04T18:19:47.066853Z"
    },
    "papermill": {
     "duration": 0.007562,
     "end_time": "2025-09-04T18:19:47.068435",
     "exception": false,
     "start_time": "2025-09-04T18:19:47.060873",
     "status": "completed"
    },
    "tags": []
   },
   "outputs": [],
   "source": [
    "# OPTIONAL: only run this if your torch/torchvision install is broken.\n",
    "# For GPU on Kaggle (CUDA 12.1 wheels):\n",
    "# !pip install --upgrade --force-reinstall torch torchvision torchaudio --index-url https://download.pytorch.org/whl/cu121\n",
    "# For CPU-only:\n",
    "# !pip install --upgrade --force-reinstall torch torchvision torchaudio --index-url https://download.pytorch.org/whl/cpu\n"
   ]
  },
  {
   "cell_type": "markdown",
   "id": "68b545ab",
   "metadata": {
    "papermill": {
     "duration": 0.002323,
     "end_time": "2025-09-04T18:19:47.073430",
     "exception": false,
     "start_time": "2025-09-04T18:19:47.071107",
     "status": "completed"
    },
    "tags": []
   },
   "source": [
    "## Imports & device\n",
    "\n",
    "We’ll autodetect CUDA and fall back to CPU. The code works either way.\n"
   ]
  },
  {
   "cell_type": "code",
   "execution_count": 3,
   "id": "63777dca",
   "metadata": {
    "execution": {
     "iopub.execute_input": "2025-09-04T18:19:47.079139Z",
     "iopub.status.busy": "2025-09-04T18:19:47.078919Z",
     "iopub.status.idle": "2025-09-04T18:19:57.200435Z",
     "shell.execute_reply": "2025-09-04T18:19:57.199464Z"
    },
    "papermill": {
     "duration": 10.126004,
     "end_time": "2025-09-04T18:19:57.201772",
     "exception": false,
     "start_time": "2025-09-04T18:19:47.075768",
     "status": "completed"
    },
    "tags": []
   },
   "outputs": [
    {
     "name": "stdout",
     "output_type": "stream",
     "text": [
      "torch: 2.6.0+cu124\n",
      "torchvision: 0.21.0+cu124\n",
      "device: cuda\n"
     ]
    }
   ],
   "source": [
    "import torch\n",
    "import torchvision\n",
    "\n",
    "device = \"cuda\" if torch.cuda.is_available() else \"cpu\"\n",
    "\n",
    "print(\"torch:\", torch.__version__)\n",
    "print(\"torchvision:\", torchvision.__version__)\n",
    "print(\"device:\", device)\n"
   ]
  },
  {
   "cell_type": "markdown",
   "id": "d039aadb",
   "metadata": {
    "papermill": {
     "duration": 0.002375,
     "end_time": "2025-09-04T18:19:57.207047",
     "exception": false,
     "start_time": "2025-09-04T18:19:57.204672",
     "status": "completed"
    },
    "tags": []
   },
   "source": [
    "## Dataset & transforms\n",
    "\n",
    "- `ToTensor()` → scales pixels to [0,1] with shape [1, 28, 28].\n",
    "- `Normalize((0.1307,), (0.3081,))` → center/scale using MNIST stats.\n",
    "  (Note the commas: single-element tuples.)\n"
   ]
  },
  {
   "cell_type": "code",
   "execution_count": 4,
   "id": "0efae12f",
   "metadata": {
    "execution": {
     "iopub.execute_input": "2025-09-04T18:19:57.213071Z",
     "iopub.status.busy": "2025-09-04T18:19:57.212718Z",
     "iopub.status.idle": "2025-09-04T18:20:01.109884Z",
     "shell.execute_reply": "2025-09-04T18:20:01.109012Z"
    },
    "papermill": {
     "duration": 3.901632,
     "end_time": "2025-09-04T18:20:01.111230",
     "exception": false,
     "start_time": "2025-09-04T18:19:57.209598",
     "status": "completed"
    },
    "tags": []
   },
   "outputs": [
    {
     "name": "stderr",
     "output_type": "stream",
     "text": [
      "100%|██████████| 9.91M/9.91M [00:00<00:00, 17.7MB/s]\n",
      "100%|██████████| 28.9k/28.9k [00:00<00:00, 479kB/s]\n",
      "100%|██████████| 1.65M/1.65M [00:00<00:00, 4.45MB/s]\n",
      "100%|██████████| 4.54k/4.54k [00:00<00:00, 8.47MB/s]"
     ]
    },
    {
     "name": "stdout",
     "output_type": "stream",
     "text": [
      "one sample: torch.Size([1, 28, 28]) 5\n"
     ]
    },
    {
     "name": "stderr",
     "output_type": "stream",
     "text": [
      "\n"
     ]
    }
   ],
   "source": [
    "transform = torchvision.transforms.Compose([\n",
    "    torchvision.transforms.ToTensor(),\n",
    "    torchvision.transforms.Normalize((0.1307,), (0.3081,))\n",
    "])\n",
    "\n",
    "train_mnist = torchvision.datasets.MNIST(\n",
    "    root=\"./data\", train=True, download=True, transform=transform\n",
    ")\n",
    "test_mnist = torchvision.datasets.MNIST(\n",
    "    root=\"./data\", train=False, download=True, transform=transform\n",
    ")\n",
    "\n",
    "# quick peek\n",
    "x0, y0 = train_mnist[0]\n",
    "print(\"one sample:\", x0.shape, y0)  # torch.Size([1, 28, 28]) label_int\n"
   ]
  },
  {
   "cell_type": "markdown",
   "id": "828bd290",
   "metadata": {
    "papermill": {
     "duration": 0.003176,
     "end_time": "2025-09-04T18:20:01.118027",
     "exception": false,
     "start_time": "2025-09-04T18:20:01.114851",
     "status": "completed"
    },
    "tags": []
   },
   "source": [
    "## Model\n",
    "\n",
    "A simple fully-connected classifier:\n",
    "- Flatten 28×28 → 784\n",
    "- Hidden: 300 → 300 with LeakyReLU\n",
    "- Output: 10 logits (no Softmax; CrossEntropyLoss expects logits)\n"
   ]
  },
  {
   "cell_type": "code",
   "execution_count": 5,
   "id": "120f5a44",
   "metadata": {
    "execution": {
     "iopub.execute_input": "2025-09-04T18:20:01.125557Z",
     "iopub.status.busy": "2025-09-04T18:20:01.125165Z",
     "iopub.status.idle": "2025-09-04T18:20:01.335275Z",
     "shell.execute_reply": "2025-09-04T18:20:01.334426Z"
    },
    "papermill": {
     "duration": 0.215059,
     "end_time": "2025-09-04T18:20:01.336382",
     "exception": false,
     "start_time": "2025-09-04T18:20:01.121323",
     "status": "completed"
    },
    "tags": []
   },
   "outputs": [
    {
     "name": "stdout",
     "output_type": "stream",
     "text": [
      "model params: 328810\n"
     ]
    }
   ],
   "source": [
    "model = torch.nn.Sequential(\n",
    "    torch.nn.Linear(28*28, 300),\n",
    "    torch.nn.LeakyReLU(),\n",
    "    torch.nn.Linear(300, 300),\n",
    "    torch.nn.LeakyReLU(),\n",
    "    torch.nn.Linear(300, 10)  # logits\n",
    ").to(device)\n",
    "\n",
    "sum_params = sum(p.numel() for p in model.parameters())\n",
    "print(\"model params:\", sum_params)\n"
   ]
  },
  {
   "cell_type": "markdown",
   "id": "d5544da9",
   "metadata": {
    "papermill": {
     "duration": 0.003171,
     "end_time": "2025-09-04T18:20:01.342935",
     "exception": false,
     "start_time": "2025-09-04T18:20:01.339764",
     "status": "completed"
    },
    "tags": []
   },
   "source": [
    "## Sanity check (single example)\n",
    "\n",
    "Flatten to 784 features, forward once, confirm output shape [1, 10].\n"
   ]
  },
  {
   "cell_type": "code",
   "execution_count": 6,
   "id": "06c2f130",
   "metadata": {
    "execution": {
     "iopub.execute_input": "2025-09-04T18:20:01.350837Z",
     "iopub.status.busy": "2025-09-04T18:20:01.350627Z",
     "iopub.status.idle": "2025-09-04T18:20:01.503828Z",
     "shell.execute_reply": "2025-09-04T18:20:01.503102Z"
    },
    "papermill": {
     "duration": 0.157985,
     "end_time": "2025-09-04T18:20:01.504918",
     "exception": false,
     "start_time": "2025-09-04T18:20:01.346933",
     "status": "completed"
    },
    "tags": []
   },
   "outputs": [
    {
     "name": "stdout",
     "output_type": "stream",
     "text": [
      "single forward shape: torch.Size([1, 10])\n"
     ]
    }
   ],
   "source": [
    "digit, cls = train_mnist[0]\n",
    "digit = digit.to(device).view(1, 28*28)  # add batch dim = 1\n",
    "with torch.no_grad():\n",
    "    out = model(digit)\n",
    "print(\"single forward shape:\", out.shape)  # torch.Size([1, 10])\n"
   ]
  },
  {
   "cell_type": "markdown",
   "id": "b0348562",
   "metadata": {
    "papermill": {
     "duration": 0.003161,
     "end_time": "2025-09-04T18:20:01.511444",
     "exception": false,
     "start_time": "2025-09-04T18:20:01.508283",
     "status": "completed"
    },
    "tags": []
   },
   "source": [
    "## Sanity check with dataset loop (first item only)\n",
    "\n",
    "Iterate the dataset, move to device, flatten, run model, print shape, break.\n"
   ]
  },
  {
   "cell_type": "code",
   "execution_count": 7,
   "id": "a5837b7d",
   "metadata": {
    "execution": {
     "iopub.execute_input": "2025-09-04T18:20:01.518620Z",
     "iopub.status.busy": "2025-09-04T18:20:01.518429Z",
     "iopub.status.idle": "2025-09-04T18:20:01.523819Z",
     "shell.execute_reply": "2025-09-04T18:20:01.523183Z"
    },
    "papermill": {
     "duration": 0.010209,
     "end_time": "2025-09-04T18:20:01.524933",
     "exception": false,
     "start_time": "2025-09-04T18:20:01.514724",
     "status": "completed"
    },
    "tags": []
   },
   "outputs": [
    {
     "name": "stdout",
     "output_type": "stream",
     "text": [
      "torch.Size([1, 10])\n"
     ]
    }
   ],
   "source": [
    "for digit, cls in train_mnist:\n",
    "    digit = digit.to(device)\n",
    "    digit = digit.view(digit.shape[0], 28*28)\n",
    "    with torch.no_grad():\n",
    "        print(model(digit).shape)  # expected: torch.Size([1, 10])\n",
    "    break\n"
   ]
  },
  {
   "cell_type": "code",
   "execution_count": null,
   "id": "f79b41e2",
   "metadata": {
    "papermill": {
     "duration": 0.002987,
     "end_time": "2025-09-04T18:20:01.531151",
     "exception": false,
     "start_time": "2025-09-04T18:20:01.528164",
     "status": "completed"
    },
    "tags": []
   },
   "outputs": [],
   "source": []
  },
  {
   "cell_type": "code",
   "execution_count": null,
   "id": "236dacde",
   "metadata": {
    "papermill": {
     "duration": 0.00303,
     "end_time": "2025-09-04T18:20:01.537347",
     "exception": false,
     "start_time": "2025-09-04T18:20:01.534317",
     "status": "completed"
    },
    "tags": []
   },
   "outputs": [],
   "source": []
  },
  {
   "cell_type": "code",
   "execution_count": null,
   "id": "9a63917b",
   "metadata": {
    "papermill": {
     "duration": 0.00296,
     "end_time": "2025-09-04T18:20:01.543508",
     "exception": false,
     "start_time": "2025-09-04T18:20:01.540548",
     "status": "completed"
    },
    "tags": []
   },
   "outputs": [],
   "source": []
  },
  {
   "cell_type": "code",
   "execution_count": null,
   "id": "ba70cbbd",
   "metadata": {
    "papermill": {
     "duration": 0.002964,
     "end_time": "2025-09-04T18:20:01.549533",
     "exception": false,
     "start_time": "2025-09-04T18:20:01.546569",
     "status": "completed"
    },
    "tags": []
   },
   "outputs": [],
   "source": []
  }
 ],
 "metadata": {
  "kaggle": {
   "accelerator": "nvidiaTeslaT4",
   "dataSources": [],
   "dockerImageVersionId": 31089,
   "isGpuEnabled": true,
   "isInternetEnabled": true,
   "language": "python",
   "sourceType": "notebook"
  },
  "kernelspec": {
   "display_name": "Python 3",
   "language": "python",
   "name": "python3"
  },
  "language_info": {
   "codemirror_mode": {
    "name": "ipython",
    "version": 3
   },
   "file_extension": ".py",
   "mimetype": "text/x-python",
   "name": "python",
   "nbconvert_exporter": "python",
   "pygments_lexer": "ipython3",
   "version": "3.11.13"
  },
  "papermill": {
   "default_parameters": {},
   "duration": 20.839288,
   "end_time": "2025-09-04T18:20:02.971389",
   "environment_variables": {},
   "exception": null,
   "input_path": "__notebook__.ipynb",
   "output_path": "__notebook__.ipynb",
   "parameters": {},
   "start_time": "2025-09-04T18:19:42.132101",
   "version": "2.6.0"
  }
 },
 "nbformat": 4,
 "nbformat_minor": 5
}
