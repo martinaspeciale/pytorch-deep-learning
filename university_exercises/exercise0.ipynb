{
 "cells": [
  {
   "cell_type": "code",
   "execution_count": 1,
   "id": "8d5824e3",
   "metadata": {
    "execution": {
     "iopub.execute_input": "2025-09-04T18:17:19.985562Z",
     "iopub.status.busy": "2025-09-04T18:17:19.985350Z",
     "iopub.status.idle": "2025-09-04T18:17:20.210412Z",
     "shell.execute_reply": "2025-09-04T18:17:20.209468Z"
    },
    "papermill": {
     "duration": 0.229581,
     "end_time": "2025-09-04T18:17:20.211749",
     "exception": false,
     "start_time": "2025-09-04T18:17:19.982168",
     "status": "completed"
    },
    "tags": []
   },
   "outputs": [
    {
     "name": "stdout",
     "output_type": "stream",
     "text": [
      "Thu Sep  4 18:17:20 2025       \r\n",
      "+-----------------------------------------------------------------------------------------+\r\n",
      "| NVIDIA-SMI 560.35.03              Driver Version: 560.35.03      CUDA Version: 12.6     |\r\n",
      "|-----------------------------------------+------------------------+----------------------+\r\n",
      "| GPU  Name                 Persistence-M | Bus-Id          Disp.A | Volatile Uncorr. ECC |\r\n",
      "| Fan  Temp   Perf          Pwr:Usage/Cap |           Memory-Usage | GPU-Util  Compute M. |\r\n",
      "|                                         |                        |               MIG M. |\r\n",
      "|=========================================+========================+======================|\r\n",
      "|   0  Tesla T4                       Off |   00000000:00:04.0 Off |                    0 |\r\n",
      "| N/A   40C    P8              9W /   70W |       1MiB /  15360MiB |      0%      Default |\r\n",
      "|                                         |                        |                  N/A |\r\n",
      "+-----------------------------------------+------------------------+----------------------+\r\n",
      "|   1  Tesla T4                       Off |   00000000:00:05.0 Off |                    0 |\r\n",
      "| N/A   40C    P8              9W /   70W |       1MiB /  15360MiB |      0%      Default |\r\n",
      "|                                         |                        |                  N/A |\r\n",
      "+-----------------------------------------+------------------------+----------------------+\r\n",
      "                                                                                         \r\n",
      "+-----------------------------------------------------------------------------------------+\r\n",
      "| Processes:                                                                              |\r\n",
      "|  GPU   GI   CI        PID   Type   Process name                              GPU Memory |\r\n",
      "|        ID   ID                                                               Usage      |\r\n",
      "|=========================================================================================|\r\n",
      "|  No running processes found                                                             |\r\n",
      "+-----------------------------------------------------------------------------------------+\r\n"
     ]
    }
   ],
   "source": [
    "!nvidia-smi"
   ]
  },
  {
   "cell_type": "markdown",
   "id": "9bfca0dd",
   "metadata": {
    "papermill": {
     "duration": 0.002134,
     "end_time": "2025-09-04T18:17:20.216611",
     "exception": false,
     "start_time": "2025-09-04T18:17:20.214477",
     "status": "completed"
    },
    "tags": []
   },
   "source": [
    "# MNIST — MLP warm-up\n",
    "\n",
    "We’ll load MNIST, normalize it, define a small MLP, and run a quick\n",
    "sanity check forward pass to verify shapes before training.\n"
   ]
  },
  {
   "cell_type": "code",
   "execution_count": 2,
   "id": "3d58e62b",
   "metadata": {
    "execution": {
     "iopub.execute_input": "2025-09-04T18:17:20.221838Z",
     "iopub.status.busy": "2025-09-04T18:17:20.221624Z",
     "iopub.status.idle": "2025-09-04T18:17:20.225147Z",
     "shell.execute_reply": "2025-09-04T18:17:20.224520Z"
    },
    "papermill": {
     "duration": 0.007457,
     "end_time": "2025-09-04T18:17:20.226313",
     "exception": false,
     "start_time": "2025-09-04T18:17:20.218856",
     "status": "completed"
    },
    "tags": []
   },
   "outputs": [],
   "source": [
    "# OPTIONAL: only run this if your torch/torchvision install is broken.\n",
    "# For GPU on Kaggle (CUDA 12.1 wheels):\n",
    "# !pip install --upgrade --force-reinstall torch torchvision torchaudio --index-url https://download.pytorch.org/whl/cu121\n",
    "# For CPU-only:\n",
    "# !pip install --upgrade --force-reinstall torch torchvision torchaudio --index-url https://download.pytorch.org/whl/cpu\n"
   ]
  },
  {
   "cell_type": "markdown",
   "id": "05f84582",
   "metadata": {
    "papermill": {
     "duration": 0.001955,
     "end_time": "2025-09-04T18:17:20.230383",
     "exception": false,
     "start_time": "2025-09-04T18:17:20.228428",
     "status": "completed"
    },
    "tags": []
   },
   "source": [
    "## Imports & device\n",
    "\n",
    "We’ll autodetect CUDA and fall back to CPU. The code works either way.\n"
   ]
  },
  {
   "cell_type": "code",
   "execution_count": 3,
   "id": "bd9b02bb",
   "metadata": {
    "execution": {
     "iopub.execute_input": "2025-09-04T18:17:20.235128Z",
     "iopub.status.busy": "2025-09-04T18:17:20.234921Z",
     "iopub.status.idle": "2025-09-04T18:17:30.351611Z",
     "shell.execute_reply": "2025-09-04T18:17:30.350773Z"
    },
    "papermill": {
     "duration": 10.120477,
     "end_time": "2025-09-04T18:17:30.352882",
     "exception": false,
     "start_time": "2025-09-04T18:17:20.232405",
     "status": "completed"
    },
    "tags": []
   },
   "outputs": [
    {
     "name": "stdout",
     "output_type": "stream",
     "text": [
      "torch: 2.6.0+cu124\n",
      "torchvision: 0.21.0+cu124\n",
      "device: cuda\n"
     ]
    }
   ],
   "source": [
    "import torch\n",
    "import torchvision\n",
    "\n",
    "device = \"cuda\" if torch.cuda.is_available() else \"cpu\"\n",
    "\n",
    "print(\"torch:\", torch.__version__)\n",
    "print(\"torchvision:\", torchvision.__version__)\n",
    "print(\"device:\", device)\n"
   ]
  },
  {
   "cell_type": "markdown",
   "id": "291e03f2",
   "metadata": {
    "papermill": {
     "duration": 0.00189,
     "end_time": "2025-09-04T18:17:30.357023",
     "exception": false,
     "start_time": "2025-09-04T18:17:30.355133",
     "status": "completed"
    },
    "tags": []
   },
   "source": [
    "## Dataset & transforms\n",
    "\n",
    "- `ToTensor()` → scales pixels to [0,1] with shape [1, 28, 28].\n",
    "- `Normalize((0.1307,), (0.3081,))` → center/scale using MNIST stats.\n",
    "  (Note the commas: single-element tuples.)\n"
   ]
  },
  {
   "cell_type": "code",
   "execution_count": null,
   "id": "24405cbd",
   "metadata": {
    "papermill": {
     "duration": 0.001808,
     "end_time": "2025-09-04T18:17:30.360891",
     "exception": false,
     "start_time": "2025-09-04T18:17:30.359083",
     "status": "completed"
    },
    "tags": []
   },
   "outputs": [],
   "source": []
  },
  {
   "cell_type": "code",
   "execution_count": null,
   "id": "8ed36f8f",
   "metadata": {
    "papermill": {
     "duration": 0.001812,
     "end_time": "2025-09-04T18:17:30.364661",
     "exception": false,
     "start_time": "2025-09-04T18:17:30.362849",
     "status": "completed"
    },
    "tags": []
   },
   "outputs": [],
   "source": []
  },
  {
   "cell_type": "code",
   "execution_count": null,
   "id": "0a38d78a",
   "metadata": {
    "papermill": {
     "duration": 0.001781,
     "end_time": "2025-09-04T18:17:30.368386",
     "exception": false,
     "start_time": "2025-09-04T18:17:30.366605",
     "status": "completed"
    },
    "tags": []
   },
   "outputs": [],
   "source": []
  },
  {
   "cell_type": "code",
   "execution_count": null,
   "id": "36e53f15",
   "metadata": {
    "papermill": {
     "duration": 0.001769,
     "end_time": "2025-09-04T18:17:30.372120",
     "exception": false,
     "start_time": "2025-09-04T18:17:30.370351",
     "status": "completed"
    },
    "tags": []
   },
   "outputs": [],
   "source": []
  },
  {
   "cell_type": "code",
   "execution_count": null,
   "id": "8730af42",
   "metadata": {
    "papermill": {
     "duration": 0.001786,
     "end_time": "2025-09-04T18:17:30.375814",
     "exception": false,
     "start_time": "2025-09-04T18:17:30.374028",
     "status": "completed"
    },
    "tags": []
   },
   "outputs": [],
   "source": []
  },
  {
   "cell_type": "code",
   "execution_count": null,
   "id": "ec8b1285",
   "metadata": {
    "papermill": {
     "duration": 0.001836,
     "end_time": "2025-09-04T18:17:30.379551",
     "exception": false,
     "start_time": "2025-09-04T18:17:30.377715",
     "status": "completed"
    },
    "tags": []
   },
   "outputs": [],
   "source": []
  },
  {
   "cell_type": "code",
   "execution_count": null,
   "id": "50a05c0a",
   "metadata": {
    "papermill": {
     "duration": 0.001768,
     "end_time": "2025-09-04T18:17:30.383223",
     "exception": false,
     "start_time": "2025-09-04T18:17:30.381455",
     "status": "completed"
    },
    "tags": []
   },
   "outputs": [],
   "source": []
  },
  {
   "cell_type": "code",
   "execution_count": null,
   "id": "a6a82d8c",
   "metadata": {
    "papermill": {
     "duration": 0.001755,
     "end_time": "2025-09-04T18:17:30.386899",
     "exception": false,
     "start_time": "2025-09-04T18:17:30.385144",
     "status": "completed"
    },
    "tags": []
   },
   "outputs": [],
   "source": []
  }
 ],
 "metadata": {
  "kaggle": {
   "accelerator": "nvidiaTeslaT4",
   "dataSources": [],
   "dockerImageVersionId": 31089,
   "isGpuEnabled": true,
   "isInternetEnabled": true,
   "language": "python",
   "sourceType": "notebook"
  },
  "kernelspec": {
   "display_name": "Python 3",
   "language": "python",
   "name": "python3"
  },
  "language_info": {
   "codemirror_mode": {
    "name": "ipython",
    "version": 3
   },
   "file_extension": ".py",
   "mimetype": "text/x-python",
   "name": "python",
   "nbconvert_exporter": "python",
   "pygments_lexer": "ipython3",
   "version": "3.11.13"
  },
  "papermill": {
   "default_parameters": {},
   "duration": 17.358003,
   "end_time": "2025-09-04T18:17:32.706596",
   "environment_variables": {},
   "exception": null,
   "input_path": "__notebook__.ipynb",
   "output_path": "__notebook__.ipynb",
   "parameters": {},
   "start_time": "2025-09-04T18:17:15.348593",
   "version": "2.6.0"
  }
 },
 "nbformat": 4,
 "nbformat_minor": 5
}
