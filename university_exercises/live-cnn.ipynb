{
 "cells": [
  {
   "cell_type": "code",
   "execution_count": 1,
   "id": "700c7c66",
   "metadata": {
    "_cell_guid": "b1076dfc-b9ad-4769-8c92-a6c4dae69d19",
    "_uuid": "8f2839f25d086af736a60e9eeb907d3b93b6e0e5",
    "execution": {
     "iopub.execute_input": "2025-09-05T11:45:25.954199Z",
     "iopub.status.busy": "2025-09-05T11:45:25.953899Z",
     "iopub.status.idle": "2025-09-05T11:45:37.734938Z",
     "shell.execute_reply": "2025-09-05T11:45:37.734031Z"
    },
    "papermill": {
     "duration": 11.786825,
     "end_time": "2025-09-05T11:45:37.736622",
     "exception": false,
     "start_time": "2025-09-05T11:45:25.949797",
     "status": "completed"
    },
    "tags": []
   },
   "outputs": [
    {
     "data": {
      "text/plain": [
       "device(type='cpu')"
      ]
     },
     "execution_count": 1,
     "metadata": {},
     "output_type": "execute_result"
    }
   ],
   "source": [
    "# If no torchvision locally, uncomment the next line and run it once:\n",
    "# !pip install torch torchvision torchaudio --index-url https://download.pytorch.org/whl/cpu\n",
    "\n",
    "import os, random, math, time \n",
    "from pathlib import Path \n",
    "\n",
    "import torch \n",
    "import torch.nn as nn \n",
    "import torch.nn.functional as F \n",
    "from torch.utils.data import DataLoader \n",
    "\n",
    "import torchvision \n",
    "from torchvision import datasets, transforms \n",
    "\n",
    "import numpy as np \n",
    "import matplotlib.pyplot as plt \n",
    "\n",
    "SEED = 42 \n",
    "random.seed(SEED)\n",
    "np.random.seed(SEED)\n",
    "torch.manual_seed(SEED)\n",
    "torch.cuda.manual_seed(SEED)\n",
    "\n",
    "device = \"cuda\" if torch.cuda.is_available() else \"cpu\"\n",
    "DEVICE = torch.device(device)\n",
    "DEVICE"
   ]
  },
  {
   "cell_type": "markdown",
   "id": "234ddaa5",
   "metadata": {
    "papermill": {
     "duration": 0.002244,
     "end_time": "2025-09-05T11:45:37.741946",
     "exception": false,
     "start_time": "2025-09-05T11:45:37.739702",
     "status": "completed"
    },
    "tags": []
   },
   "source": [
    "## 1. Data: download transform and inspect\n",
    "We download MNIST (70k images of handwritten digits, 28*28 grayscale) using `torchvision.datasets.MNIST`\n",
    "\n",
    "**Transforms used** :\n",
    "* `ToTensor()` : converts PIL images to PyTorch tensors in [0,1]\n",
    "* `Normalize((0.1307,), (0.3081,))` standardizes pixel values using the dataset's mean and std for faster, stabler training"
   ]
  },
  {
   "cell_type": "code",
   "execution_count": 2,
   "id": "d907d286",
   "metadata": {
    "execution": {
     "iopub.execute_input": "2025-09-05T11:45:37.747996Z",
     "iopub.status.busy": "2025-09-05T11:45:37.747579Z",
     "iopub.status.idle": "2025-09-05T11:45:39.469007Z",
     "shell.execute_reply": "2025-09-05T11:45:39.467948Z"
    },
    "papermill": {
     "duration": 1.726261,
     "end_time": "2025-09-05T11:45:39.470600",
     "exception": false,
     "start_time": "2025-09-05T11:45:37.744339",
     "status": "completed"
    },
    "tags": []
   },
   "outputs": [
    {
     "name": "stderr",
     "output_type": "stream",
     "text": [
      "100%|██████████| 9.91M/9.91M [00:00<00:00, 60.1MB/s]\n",
      "100%|██████████| 28.9k/28.9k [00:00<00:00, 1.64MB/s]\n",
      "100%|██████████| 1.65M/1.65M [00:00<00:00, 15.1MB/s]\n",
      "100%|██████████| 4.54k/4.54k [00:00<00:00, 6.24MB/s]"
     ]
    },
    {
     "name": "stdout",
     "output_type": "stream",
     "text": [
      "Dataset MNIST\n",
      "    Number of datapoints: 60000\n",
      "    Root location: data\n",
      "    Split: Train\n",
      "    StandardTransform\n",
      "Transform: Compose(\n",
      "               ToTensor()\n",
      "               Normalize(mean=(0.1307,), std=(0.3081,))\n",
      "           )\n",
      "Dataset MNIST\n",
      "    Number of datapoints: 10000\n",
      "    Root location: data\n",
      "    Split: Test\n",
      "    StandardTransform\n",
      "Transform: Compose(\n",
      "               ToTensor()\n",
      "               Normalize(mean=(0.1307,), std=(0.3081,))\n",
      "           )\n"
     ]
    },
    {
     "name": "stderr",
     "output_type": "stream",
     "text": [
      "\n"
     ]
    }
   ],
   "source": [
    "DATA_DIR = Path(\"./data\")\n",
    "\n",
    "transform = transforms.Compose([\n",
    "    transforms.ToTensor(),                    # [H,W] -> [1,H,W], values in [0,1]\n",
    "    transforms.Normalize((0.1307,), (0.3081,))# standardize using MNIST stats\n",
    "])\n",
    "\n",
    "train_ds = torchvision.datasets.MNIST(\n",
    "    root=DATA_DIR,\n",
    "    train=True, \n",
    "    download=True,\n",
    "    transform=transform\n",
    ")\n",
    "\n",
    "test_ds = torchvision.datasets.MNIST(\n",
    "    root=DATA_DIR, \n",
    "    train=False, \n",
    "    download=True, \n",
    "    transform=transform\n",
    ")\n",
    "\n",
    "print(train_ds)\n",
    "print(test_ds)"
   ]
  },
  {
   "cell_type": "markdown",
   "id": "c8a7da62",
   "metadata": {
    "papermill": {
     "duration": 0.002823,
     "end_time": "2025-09-05T11:45:39.476732",
     "exception": false,
     "start_time": "2025-09-05T11:45:39.473909",
     "status": "completed"
    },
    "tags": []
   },
   "source": [
    "## 2. Peek at a sample and its statistics \n",
    "Let's pull a single (image, label) pair and check:\n",
    "\n",
    "* the label (integer 0–9),\n",
    "* the tensor shape (should be [1, 28, 28]),\n",
    "* the value range, mean, and std after normalization,\n",
    "* a visualization of the image."
   ]
  },
  {
   "cell_type": "code",
   "execution_count": 3,
   "id": "a03204b9",
   "metadata": {
    "execution": {
     "iopub.execute_input": "2025-09-05T11:45:39.483869Z",
     "iopub.status.busy": "2025-09-05T11:45:39.483570Z",
     "iopub.status.idle": "2025-09-05T11:45:39.681575Z",
     "shell.execute_reply": "2025-09-05T11:45:39.680580Z"
    },
    "papermill": {
     "duration": 0.203358,
     "end_time": "2025-09-05T11:45:39.683015",
     "exception": false,
     "start_time": "2025-09-05T11:45:39.479657",
     "status": "completed"
    },
    "tags": []
   },
   "outputs": [
    {
     "name": "stdout",
     "output_type": "stream",
     "text": [
      "Label: 4\n",
      "Tensor shape: torch.Size([1, 28, 28])\n",
      "Min / Max: -0.4242129623889923 2.821486711502075\n",
      "Mean / Std: -0.10855599492788315 0.835247278213501\n"
     ]
    },
    {
     "data": {
      "image/png": "[encoded data removed]",
      "text/plain": [
       "<Figure size 640x480 with 1 Axes>"
      ]
     },
     "metadata": {},
     "output_type": "display_data"
    }
   ],
   "source": [
    "x, y = train_ds[2]\n",
    "print(\"Label:\", y)\n",
    "print(\"Tensor shape:\", x.shape) \n",
    "\n",
    "print(\"Min / Max:\", float(x.min()), float(x.max()))\n",
    "print(\"Mean / Std:\", float(x.mean()), float(x.std()))\n",
    "\n",
    "plt.figure() \n",
    "plt.title(f\"Digit: {y}\")\n",
    "# Undo normalization for display: x*std + mean\n",
    "x_vis = x * 0.3081 + 0.1307\n",
    "plt.imshow(x_vis[0].numpy(), cmap=\"gray\")\n",
    "plt.axis(\"off\")\n",
    "plt.show()"
   ]
  },
  {
   "cell_type": "code",
   "execution_count": null,
   "id": "68d46e23",
   "metadata": {
    "papermill": {
     "duration": 0.003224,
     "end_time": "2025-09-05T11:45:39.689880",
     "exception": false,
     "start_time": "2025-09-05T11:45:39.686656",
     "status": "completed"
    },
    "tags": []
   },
   "outputs": [],
   "source": []
  },
  {
   "cell_type": "code",
   "execution_count": null,
   "id": "15f5df62",
   "metadata": {
    "papermill": {
     "duration": 0.003011,
     "end_time": "2025-09-05T11:45:39.696278",
     "exception": false,
     "start_time": "2025-09-05T11:45:39.693267",
     "status": "completed"
    },
    "tags": []
   },
   "outputs": [],
   "source": []
  },
  {
   "cell_type": "code",
   "execution_count": null,
   "id": "8d7f8841",
   "metadata": {
    "papermill": {
     "duration": 0.003109,
     "end_time": "2025-09-05T11:45:39.703090",
     "exception": false,
     "start_time": "2025-09-05T11:45:39.699981",
     "status": "completed"
    },
    "tags": []
   },
   "outputs": [],
   "source": []
  },
  {
   "cell_type": "code",
   "execution_count": null,
   "id": "71efbce7",
   "metadata": {
    "papermill": {
     "duration": 0.003016,
     "end_time": "2025-09-05T11:45:39.709483",
     "exception": false,
     "start_time": "2025-09-05T11:45:39.706467",
     "status": "completed"
    },
    "tags": []
   },
   "outputs": [],
   "source": []
  },
  {
   "cell_type": "code",
   "execution_count": null,
   "id": "9d6ae9b4",
   "metadata": {
    "papermill": {
     "duration": 0.003032,
     "end_time": "2025-09-05T11:45:39.715683",
     "exception": false,
     "start_time": "2025-09-05T11:45:39.712651",
     "status": "completed"
    },
    "tags": []
   },
   "outputs": [],
   "source": []
  },
  {
   "cell_type": "code",
   "execution_count": null,
   "id": "a921eac4",
   "metadata": {
    "papermill": {
     "duration": 0.003121,
     "end_time": "2025-09-05T11:45:39.721994",
     "exception": false,
     "start_time": "2025-09-05T11:45:39.718873",
     "status": "completed"
    },
    "tags": []
   },
   "outputs": [],
   "source": []
  }
 ],
 "metadata": {
  "kaggle": {
   "accelerator": "none",
   "dataSources": [],
   "dockerImageVersionId": 31089,
   "isGpuEnabled": false,
   "isInternetEnabled": true,
   "language": "python",
   "sourceType": "notebook"
  },
  "kernelspec": {
   "display_name": "Python 3",
   "language": "python",
   "name": "python3"
  },
  "language_info": {
   "codemirror_mode": {
    "name": "ipython",
    "version": 3
   },
   "file_extension": ".py",
   "mimetype": "text/x-python",
   "name": "python",
   "nbconvert_exporter": "python",
   "pygments_lexer": "ipython3",
   "version": "3.11.13"
  },
  "papermill": {
   "default_parameters": {},
   "duration": 21.651344,
   "end_time": "2025-09-05T11:45:42.236291",
   "environment_variables": {},
   "exception": null,
   "input_path": "__notebook__.ipynb",
   "output_path": "__notebook__.ipynb",
   "parameters": {},
   "start_time": "2025-09-05T11:45:20.584947",
   "version": "2.6.0"
  }
 },
 "nbformat": 4,
 "nbformat_minor": 5
}
