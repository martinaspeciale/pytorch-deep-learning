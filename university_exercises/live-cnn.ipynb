{
 "cells": [
  {
   "cell_type": "code",
   "execution_count": 1,
   "id": "19c94abe",
   "metadata": {
    "_cell_guid": "b1076dfc-b9ad-4769-8c92-a6c4dae69d19",
    "_uuid": "8f2839f25d086af736a60e9eeb907d3b93b6e0e5",
    "execution": {
     "iopub.execute_input": "2025-09-05T11:39:06.890515Z",
     "iopub.status.busy": "2025-09-05T11:39:06.890205Z",
     "iopub.status.idle": "2025-09-05T11:39:18.984877Z",
     "shell.execute_reply": "2025-09-05T11:39:18.983965Z"
    },
    "papermill": {
     "duration": 12.099685,
     "end_time": "2025-09-05T11:39:18.986402",
     "exception": false,
     "start_time": "2025-09-05T11:39:06.886717",
     "status": "completed"
    },
    "tags": []
   },
   "outputs": [
    {
     "data": {
      "text/plain": [
       "device(type='cpu')"
      ]
     },
     "execution_count": 1,
     "metadata": {},
     "output_type": "execute_result"
    }
   ],
   "source": [
    "# If no torchvision locally, uncomment the next line and run it once:\n",
    "# !pip install torch torchvision torchaudio --index-url https://download.pytorch.org/whl/cpu\n",
    "\n",
    "import os, random, math, time \n",
    "from pathlib import Path \n",
    "\n",
    "import torch \n",
    "import torch.nn as nn \n",
    "import torch.nn.functional as F \n",
    "from torch.utils.data import DataLoader \n",
    "\n",
    "import torchvision \n",
    "from torchvision import datasets, transforms \n",
    "\n",
    "import numpy as np \n",
    "import matplotlib.pyplot as plt \n",
    "\n",
    "SEED = 42 \n",
    "random.seed(SEED)\n",
    "np.random.seed(SEED)\n",
    "torch.manual_seed(SEED)\n",
    "torch.cuda.manual_seed(SEED)\n",
    "\n",
    "device = \"cuda\" if torch.cuda.is_available() else \"cpu\"\n",
    "DEVICE = torch.device(device)\n",
    "DEVICE"
   ]
  },
  {
   "cell_type": "markdown",
   "id": "42fe8da3",
   "metadata": {
    "papermill": {
     "duration": 0.001575,
     "end_time": "2025-09-05T11:39:18.990536",
     "exception": false,
     "start_time": "2025-09-05T11:39:18.988961",
     "status": "completed"
    },
    "tags": []
   },
   "source": [
    "## Data: download transform and inspect\n",
    "We download MNIST (70k images of handwritten digits, 28*28 grayscale) using `torchvision.datasets.MNIST`\n",
    "\n",
    "**Transforms used** :\n",
    "* `ToTensor()` : converts PIL images to PyTorch tensors in [0,1]\n",
    "* `Normalize((0.1307,), (0.3081,))` standardizes pixel values using the dataset's mean and std for faster, stabler training"
   ]
  },
  {
   "cell_type": "code",
   "execution_count": 2,
   "id": "4f194237",
   "metadata": {
    "execution": {
     "iopub.execute_input": "2025-09-05T11:39:18.995582Z",
     "iopub.status.busy": "2025-09-05T11:39:18.994867Z",
     "iopub.status.idle": "2025-09-05T11:39:24.358130Z",
     "shell.execute_reply": "2025-09-05T11:39:24.357167Z"
    },
    "papermill": {
     "duration": 5.367365,
     "end_time": "2025-09-05T11:39:24.359599",
     "exception": false,
     "start_time": "2025-09-05T11:39:18.992234",
     "status": "completed"
    },
    "tags": []
   },
   "outputs": [
    {
     "name": "stderr",
     "output_type": "stream",
     "text": [
      "100%|██████████| 9.91M/9.91M [00:00<00:00, 11.7MB/s]\n",
      "100%|██████████| 28.9k/28.9k [00:00<00:00, 336kB/s]\n",
      "100%|██████████| 1.65M/1.65M [00:00<00:00, 3.16MB/s]\n",
      "100%|██████████| 4.54k/4.54k [00:00<00:00, 6.55MB/s]"
     ]
    },
    {
     "name": "stdout",
     "output_type": "stream",
     "text": [
      "Dataset MNIST\n",
      "    Number of datapoints: 60000\n",
      "    Root location: data\n",
      "    Split: Train\n",
      "    StandardTransform\n",
      "Transform: Compose(\n",
      "               ToTensor()\n",
      "               Normalize(mean=(0.1307,), std=(0.3081,))\n",
      "           )\n",
      "Dataset MNIST\n",
      "    Number of datapoints: 10000\n",
      "    Root location: data\n",
      "    Split: Test\n",
      "    StandardTransform\n",
      "Transform: Compose(\n",
      "               ToTensor()\n",
      "               Normalize(mean=(0.1307,), std=(0.3081,))\n",
      "           )\n"
     ]
    },
    {
     "name": "stderr",
     "output_type": "stream",
     "text": [
      "\n"
     ]
    }
   ],
   "source": [
    "DATA_DIR = Path(\"./data\")\n",
    "\n",
    "transform = transforms.Compose([\n",
    "    transforms.ToTensor(),                    # [H,W] -> [1,H,W], values in [0,1]\n",
    "    transforms.Normalize((0.1307,), (0.3081,))# standardize using MNIST stats\n",
    "])\n",
    "\n",
    "train_ds = torchvision.datasets.MNIST(\n",
    "    root=DATA_DIR,\n",
    "    train=True, \n",
    "    download=True,\n",
    "    transform=transform\n",
    ")\n",
    "\n",
    "test_ds = torchvision.datasets.MNIST(\n",
    "    root=DATA_DIR, \n",
    "    train=False, \n",
    "    download=True, \n",
    "    transform=transform\n",
    ")\n",
    "\n",
    "print(train_ds)\n",
    "print(test_ds)"
   ]
  },
  {
   "cell_type": "code",
   "execution_count": null,
   "id": "a81be92d",
   "metadata": {
    "papermill": {
     "duration": 0.00269,
     "end_time": "2025-09-05T11:39:24.365580",
     "exception": false,
     "start_time": "2025-09-05T11:39:24.362890",
     "status": "completed"
    },
    "tags": []
   },
   "outputs": [],
   "source": []
  },
  {
   "cell_type": "code",
   "execution_count": null,
   "id": "77fbf3bc",
   "metadata": {
    "papermill": {
     "duration": 0.002588,
     "end_time": "2025-09-05T11:39:24.371113",
     "exception": false,
     "start_time": "2025-09-05T11:39:24.368525",
     "status": "completed"
    },
    "tags": []
   },
   "outputs": [],
   "source": []
  },
  {
   "cell_type": "code",
   "execution_count": null,
   "id": "fc320f95",
   "metadata": {
    "papermill": {
     "duration": 0.002649,
     "end_time": "2025-09-05T11:39:24.376562",
     "exception": false,
     "start_time": "2025-09-05T11:39:24.373913",
     "status": "completed"
    },
    "tags": []
   },
   "outputs": [],
   "source": []
  }
 ],
 "metadata": {
  "kaggle": {
   "accelerator": "none",
   "dataSources": [],
   "dockerImageVersionId": 31089,
   "isGpuEnabled": false,
   "isInternetEnabled": true,
   "language": "python",
   "sourceType": "notebook"
  },
  "kernelspec": {
   "display_name": "Python 3",
   "language": "python",
   "name": "python3"
  },
  "language_info": {
   "codemirror_mode": {
    "name": "ipython",
    "version": 3
   },
   "file_extension": ".py",
   "mimetype": "text/x-python",
   "name": "python",
   "nbconvert_exporter": "python",
   "pygments_lexer": "ipython3",
   "version": "3.11.13"
  },
  "papermill": {
   "default_parameters": {},
   "duration": 25.714067,
   "end_time": "2025-09-05T11:39:26.853337",
   "environment_variables": {},
   "exception": null,
   "input_path": "__notebook__.ipynb",
   "output_path": "__notebook__.ipynb",
   "parameters": {},
   "start_time": "2025-09-05T11:39:01.139270",
   "version": "2.6.0"
  }
 },
 "nbformat": 4,
 "nbformat_minor": 5
}
