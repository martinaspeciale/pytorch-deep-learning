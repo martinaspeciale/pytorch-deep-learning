{
 "cells": [
  {
   "cell_type": "code",
   "execution_count": 1,
   "id": "3f27205f",
   "metadata": {
    "_cell_guid": "b1076dfc-b9ad-4769-8c92-a6c4dae69d19",
    "_uuid": "8f2839f25d086af736a60e9eeb907d3b93b6e0e5",
    "execution": {
     "iopub.execute_input": "2025-09-05T11:33:46.064384Z",
     "iopub.status.busy": "2025-09-05T11:33:46.063488Z",
     "iopub.status.idle": "2025-09-05T11:33:57.487982Z",
     "shell.execute_reply": "2025-09-05T11:33:57.487003Z"
    },
    "papermill": {
     "duration": 11.429902,
     "end_time": "2025-09-05T11:33:57.489678",
     "exception": false,
     "start_time": "2025-09-05T11:33:46.059776",
     "status": "completed"
    },
    "tags": []
   },
   "outputs": [
    {
     "data": {
      "text/plain": [
       "device(type='cpu')"
      ]
     },
     "execution_count": 1,
     "metadata": {},
     "output_type": "execute_result"
    }
   ],
   "source": [
    "# If no torchvision locally, uncomment the next line and run it once:\n",
    "# !pip install torch torchvision torchaudio --index-url https://download.pytorch.org/whl/cpu\n",
    "\n",
    "import os, random, math, time \n",
    "from pathlib import Path \n",
    "\n",
    "import torch \n",
    "import torch.nn as nn \n",
    "import torch.nn.functional as F \n",
    "from torch.utils.data import DataLoader \n",
    "\n",
    "import torchvision \n",
    "from torchvision import datasets, transforms \n",
    "\n",
    "import numpy as np \n",
    "import matplotlib.pyplot as plt \n",
    "\n",
    "SEED = 42 \n",
    "random.seed(SEED)\n",
    "np.random.seed(SEED)\n",
    "torch.manual_seed(SEED)\n",
    "torch.cuda.manual_seed(SEED)\n",
    "\n",
    "device = \"cuda\" if torch.cuda.is_available() else \"cpu\"\n",
    "DEVICE = torch.device(device)\n",
    "DEVICE"
   ]
  },
  {
   "cell_type": "code",
   "execution_count": null,
   "id": "cdf54b03",
   "metadata": {
    "papermill": {
     "duration": 0.00143,
     "end_time": "2025-09-05T11:33:57.493530",
     "exception": false,
     "start_time": "2025-09-05T11:33:57.492100",
     "status": "completed"
    },
    "tags": []
   },
   "outputs": [],
   "source": []
  },
  {
   "cell_type": "code",
   "execution_count": null,
   "id": "cc8acbbd",
   "metadata": {
    "papermill": {
     "duration": 0.001345,
     "end_time": "2025-09-05T11:33:57.496528",
     "exception": false,
     "start_time": "2025-09-05T11:33:57.495183",
     "status": "completed"
    },
    "tags": []
   },
   "outputs": [],
   "source": []
  },
  {
   "cell_type": "code",
   "execution_count": null,
   "id": "16d20e91",
   "metadata": {
    "papermill": {
     "duration": 0.001406,
     "end_time": "2025-09-05T11:33:57.499548",
     "exception": false,
     "start_time": "2025-09-05T11:33:57.498142",
     "status": "completed"
    },
    "tags": []
   },
   "outputs": [],
   "source": []
  },
  {
   "cell_type": "code",
   "execution_count": null,
   "id": "c1728a99",
   "metadata": {
    "papermill": {
     "duration": 0.001401,
     "end_time": "2025-09-05T11:33:57.502489",
     "exception": false,
     "start_time": "2025-09-05T11:33:57.501088",
     "status": "completed"
    },
    "tags": []
   },
   "outputs": [],
   "source": []
  }
 ],
 "metadata": {
  "kaggle": {
   "accelerator": "none",
   "dataSources": [],
   "dockerImageVersionId": 31089,
   "isGpuEnabled": false,
   "isInternetEnabled": true,
   "language": "python",
   "sourceType": "notebook"
  },
  "kernelspec": {
   "display_name": "Python 3",
   "language": "python",
   "name": "python3"
  },
  "language_info": {
   "codemirror_mode": {
    "name": "ipython",
    "version": 3
   },
   "file_extension": ".py",
   "mimetype": "text/x-python",
   "name": "python",
   "nbconvert_exporter": "python",
   "pygments_lexer": "ipython3",
   "version": "3.11.13"
  },
  "papermill": {
   "default_parameters": {},
   "duration": 19.765279,
   "end_time": "2025-09-05T11:34:00.286428",
   "environment_variables": {},
   "exception": null,
   "input_path": "__notebook__.ipynb",
   "output_path": "__notebook__.ipynb",
   "parameters": {},
   "start_time": "2025-09-05T11:33:40.521149",
   "version": "2.6.0"
  }
 },
 "nbformat": 4,
 "nbformat_minor": 5
}
