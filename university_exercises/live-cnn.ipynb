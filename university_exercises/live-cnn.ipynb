{
 "cells": [
  {
   "cell_type": "code",
   "execution_count": 1,
   "id": "09dd0e97",
   "metadata": {
    "_cell_guid": "b1076dfc-b9ad-4769-8c92-a6c4dae69d19",
    "_uuid": "8f2839f25d086af736a60e9eeb907d3b93b6e0e5",
    "execution": {
     "iopub.execute_input": "2025-09-05T11:50:08.941059Z",
     "iopub.status.busy": "2025-09-05T11:50:08.940436Z",
     "iopub.status.idle": "2025-09-05T11:50:22.666443Z",
     "shell.execute_reply": "2025-09-05T11:50:22.665450Z"
    },
    "papermill": {
     "duration": 13.73258,
     "end_time": "2025-09-05T11:50:22.668197",
     "exception": false,
     "start_time": "2025-09-05T11:50:08.935617",
     "status": "completed"
    },
    "tags": []
   },
   "outputs": [
    {
     "data": {
      "text/plain": [
       "device(type='cpu')"
      ]
     },
     "execution_count": 1,
     "metadata": {},
     "output_type": "execute_result"
    }
   ],
   "source": [
    "# If no torchvision locally, uncomment the next line and run it once:\n",
    "# !pip install torch torchvision torchaudio --index-url https://download.pytorch.org/whl/cpu\n",
    "\n",
    "import os, random, math, time \n",
    "from pathlib import Path \n",
    "\n",
    "import torch \n",
    "import torch.nn as nn \n",
    "import torch.nn.functional as F \n",
    "from torch.utils.data import DataLoader \n",
    "\n",
    "import torchvision \n",
    "from torchvision import datasets, transforms \n",
    "\n",
    "import numpy as np \n",
    "import matplotlib.pyplot as plt \n",
    "\n",
    "SEED = 42 \n",
    "random.seed(SEED)\n",
    "np.random.seed(SEED)\n",
    "torch.manual_seed(SEED)\n",
    "torch.cuda.manual_seed(SEED)\n",
    "\n",
    "device = \"cuda\" if torch.cuda.is_available() else \"cpu\"\n",
    "DEVICE = torch.device(device)\n",
    "DEVICE"
   ]
  },
  {
   "cell_type": "markdown",
   "id": "7104c5cd",
   "metadata": {
    "papermill": {
     "duration": 0.002417,
     "end_time": "2025-09-05T11:50:22.673658",
     "exception": false,
     "start_time": "2025-09-05T11:50:22.671241",
     "status": "completed"
    },
    "tags": []
   },
   "source": [
    "## 1. Data: download transform and inspect\n",
    "We download MNIST (70k images of handwritten digits, 28*28 grayscale) using `torchvision.datasets.MNIST`\n",
    "\n",
    "**Transforms used** :\n",
    "* `ToTensor()` : converts PIL images to PyTorch tensors in [0,1]\n",
    "* `Normalize((0.1307,), (0.3081,))` standardizes pixel values using the dataset's mean and std for faster, stabler training"
   ]
  },
  {
   "cell_type": "code",
   "execution_count": 2,
   "id": "7f416166",
   "metadata": {
    "execution": {
     "iopub.execute_input": "2025-09-05T11:50:22.680169Z",
     "iopub.status.busy": "2025-09-05T11:50:22.679745Z",
     "iopub.status.idle": "2025-09-05T11:50:26.579528Z",
     "shell.execute_reply": "2025-09-05T11:50:26.578095Z"
    },
    "papermill": {
     "duration": 3.905068,
     "end_time": "2025-09-05T11:50:26.581281",
     "exception": false,
     "start_time": "2025-09-05T11:50:22.676213",
     "status": "completed"
    },
    "tags": []
   },
   "outputs": [
    {
     "name": "stderr",
     "output_type": "stream",
     "text": [
      "100%|██████████| 9.91M/9.91M [00:00<00:00, 17.9MB/s]\n",
      "100%|██████████| 28.9k/28.9k [00:00<00:00, 477kB/s]\n",
      "100%|██████████| 1.65M/1.65M [00:00<00:00, 4.42MB/s]\n",
      "100%|██████████| 4.54k/4.54k [00:00<00:00, 7.70MB/s]"
     ]
    },
    {
     "name": "stdout",
     "output_type": "stream",
     "text": [
      "Dataset MNIST\n",
      "    Number of datapoints: 60000\n",
      "    Root location: data\n",
      "    Split: Train\n",
      "    StandardTransform\n",
      "Transform: Compose(\n",
      "               ToTensor()\n",
      "               Normalize(mean=(0.1307,), std=(0.3081,))\n",
      "           )\n",
      "Dataset MNIST\n",
      "    Number of datapoints: 10000\n",
      "    Root location: data\n",
      "    Split: Test\n",
      "    StandardTransform\n",
      "Transform: Compose(\n",
      "               ToTensor()\n",
      "               Normalize(mean=(0.1307,), std=(0.3081,))\n",
      "           )\n"
     ]
    },
    {
     "name": "stderr",
     "output_type": "stream",
     "text": [
      "\n"
     ]
    }
   ],
   "source": [
    "DATA_DIR = Path(\"./data\")\n",
    "\n",
    "transform = transforms.Compose([\n",
    "    transforms.ToTensor(),                    # [H,W] -> [1,H,W], values in [0,1]\n",
    "    transforms.Normalize((0.1307,), (0.3081,))# standardize using MNIST stats\n",
    "])\n",
    "\n",
    "train_ds = torchvision.datasets.MNIST(\n",
    "    root=DATA_DIR,\n",
    "    train=True, \n",
    "    download=True,\n",
    "    transform=transform\n",
    ")\n",
    "\n",
    "test_ds = torchvision.datasets.MNIST(\n",
    "    root=DATA_DIR, \n",
    "    train=False, \n",
    "    download=True, \n",
    "    transform=transform\n",
    ")\n",
    "\n",
    "print(train_ds)\n",
    "print(test_ds)"
   ]
  },
  {
   "cell_type": "markdown",
   "id": "875b3eed",
   "metadata": {
    "papermill": {
     "duration": 0.003625,
     "end_time": "2025-09-05T11:50:26.588942",
     "exception": false,
     "start_time": "2025-09-05T11:50:26.585317",
     "status": "completed"
    },
    "tags": []
   },
   "source": [
    "## 2. Peek at a sample and its statistics \n",
    "Let's pull a single (image, label) pair and check:\n",
    "\n",
    "* the label (integer 0–9),\n",
    "* the tensor shape (should be [1, 28, 28]),\n",
    "* the value range, mean, and std after normalization,\n",
    "* a visualization of the image."
   ]
  },
  {
   "cell_type": "code",
   "execution_count": 3,
   "id": "b88cd7b7",
   "metadata": {
    "execution": {
     "iopub.execute_input": "2025-09-05T11:50:26.597586Z",
     "iopub.status.busy": "2025-09-05T11:50:26.597279Z",
     "iopub.status.idle": "2025-09-05T11:50:26.825112Z",
     "shell.execute_reply": "2025-09-05T11:50:26.824050Z"
    },
    "papermill": {
     "duration": 0.234225,
     "end_time": "2025-09-05T11:50:26.826815",
     "exception": false,
     "start_time": "2025-09-05T11:50:26.592590",
     "status": "completed"
    },
    "tags": []
   },
   "outputs": [
    {
     "name": "stdout",
     "output_type": "stream",
     "text": [
      "Label: 4\n",
      "Tensor shape: torch.Size([1, 28, 28])\n",
      "Min / Max: -0.4242129623889923 2.821486711502075\n",
      "Mean / Std: -0.10855599492788315 0.835247278213501\n"
     ]
    },
    {
     "data": {
      "image/png": "[encoded data removed]",
      "text/plain": [
       "<Figure size 640x480 with 1 Axes>"
      ]
     },
     "metadata": {},
     "output_type": "display_data"
    }
   ],
   "source": [
    "x, y = train_ds[2]\n",
    "print(\"Label:\", y)\n",
    "print(\"Tensor shape:\", x.shape) \n",
    "\n",
    "print(\"Min / Max:\", float(x.min()), float(x.max()))\n",
    "print(\"Mean / Std:\", float(x.mean()), float(x.std()))\n",
    "\n",
    "plt.figure() \n",
    "plt.title(f\"Digit: {y}\")\n",
    "# Undo normalization for display: x*std + mean\n",
    "x_vis = x * 0.3081 + 0.1307\n",
    "plt.imshow(x_vis[0].numpy(), cmap=\"gray\")\n",
    "plt.axis(\"off\")\n",
    "plt.show()"
   ]
  },
  {
   "cell_type": "markdown",
   "id": "60eb3429",
   "metadata": {
    "papermill": {
     "duration": 0.003477,
     "end_time": "2025-09-05T11:50:26.834490",
     "exception": false,
     "start_time": "2025-09-05T11:50:26.831013",
     "status": "completed"
    },
    "tags": []
   },
   "source": [
    "## 3. Create DataLoaders\n",
    "We wrap the datasets in `DataLoader`s to handle batching and (optionally) shuffling.\n",
    "* **Batch size** : 64 is a common default for MNIST\n",
    "* **Shuffle** : `True` for training; `False` for test "
   ]
  },
  {
   "cell_type": "code",
   "execution_count": 4,
   "id": "9d3c56ae",
   "metadata": {
    "execution": {
     "iopub.execute_input": "2025-09-05T11:50:26.843345Z",
     "iopub.status.busy": "2025-09-05T11:50:26.842997Z",
     "iopub.status.idle": "2025-09-05T11:50:26.851342Z",
     "shell.execute_reply": "2025-09-05T11:50:26.850262Z"
    },
    "papermill": {
     "duration": 0.014823,
     "end_time": "2025-09-05T11:50:26.853051",
     "exception": false,
     "start_time": "2025-09-05T11:50:26.838228",
     "status": "completed"
    },
    "tags": []
   },
   "outputs": [
    {
     "data": {
      "text/plain": [
       "(938, 157)"
      ]
     },
     "execution_count": 4,
     "metadata": {},
     "output_type": "execute_result"
    }
   ],
   "source": [
    "BATCH_SIZE = 64\n",
    "\n",
    "train_dl = DataLoader(\n",
    "    train_ds, \n",
    "    batch_size=BATCH_SIZE, \n",
    "    shuffle=True, \n",
    "    num_workers=2, \n",
    "    pin_memory=True if DEVICE.type==\"cuda\" else False\n",
    ")\n",
    "\n",
    "test_dl = DataLoader(\n",
    "    test_ds, \n",
    "    batch_size=BATCH_SIZE, \n",
    "    shuffle=True, \n",
    "    num_workers=2, \n",
    "    pin_memory=True if DEVICE.type==\"cuda\" else False\n",
    ")\n",
    "\n",
    "len(train_dl), len(test_dl)"
   ]
  },
  {
   "cell_type": "code",
   "execution_count": null,
   "id": "0f06e4ad",
   "metadata": {
    "papermill": {
     "duration": 0.003884,
     "end_time": "2025-09-05T11:50:26.861141",
     "exception": false,
     "start_time": "2025-09-05T11:50:26.857257",
     "status": "completed"
    },
    "tags": []
   },
   "outputs": [],
   "source": []
  },
  {
   "cell_type": "code",
   "execution_count": null,
   "id": "451ba64d",
   "metadata": {
    "papermill": {
     "duration": 0.003727,
     "end_time": "2025-09-05T11:50:26.869555",
     "exception": false,
     "start_time": "2025-09-05T11:50:26.865828",
     "status": "completed"
    },
    "tags": []
   },
   "outputs": [],
   "source": []
  },
  {
   "cell_type": "code",
   "execution_count": null,
   "id": "a58d0c72",
   "metadata": {
    "papermill": {
     "duration": 0.003486,
     "end_time": "2025-09-05T11:50:26.876871",
     "exception": false,
     "start_time": "2025-09-05T11:50:26.873385",
     "status": "completed"
    },
    "tags": []
   },
   "outputs": [],
   "source": []
  },
  {
   "cell_type": "code",
   "execution_count": null,
   "id": "6051db02",
   "metadata": {
    "papermill": {
     "duration": 0.003528,
     "end_time": "2025-09-05T11:50:26.884111",
     "exception": false,
     "start_time": "2025-09-05T11:50:26.880583",
     "status": "completed"
    },
    "tags": []
   },
   "outputs": [],
   "source": []
  },
  {
   "cell_type": "code",
   "execution_count": null,
   "id": "22ee050b",
   "metadata": {
    "papermill": {
     "duration": 0.003486,
     "end_time": "2025-09-05T11:50:26.892398",
     "exception": false,
     "start_time": "2025-09-05T11:50:26.888912",
     "status": "completed"
    },
    "tags": []
   },
   "outputs": [],
   "source": []
  }
 ],
 "metadata": {
  "kaggle": {
   "accelerator": "none",
   "dataSources": [],
   "dockerImageVersionId": 31089,
   "isGpuEnabled": false,
   "isInternetEnabled": true,
   "language": "python",
   "sourceType": "notebook"
  },
  "kernelspec": {
   "display_name": "Python 3",
   "language": "python",
   "name": "python3"
  },
  "language_info": {
   "codemirror_mode": {
    "name": "ipython",
    "version": 3
   },
   "file_extension": ".py",
   "mimetype": "text/x-python",
   "name": "python",
   "nbconvert_exporter": "python",
   "pygments_lexer": "ipython3",
   "version": "3.11.13"
  },
  "papermill": {
   "default_parameters": {},
   "duration": 27.208303,
   "end_time": "2025-09-05T11:50:29.276519",
   "environment_variables": {},
   "exception": null,
   "input_path": "__notebook__.ipynb",
   "output_path": "__notebook__.ipynb",
   "parameters": {},
   "start_time": "2025-09-05T11:50:02.068216",
   "version": "2.6.0"
  }
 },
 "nbformat": 4,
 "nbformat_minor": 5
}
