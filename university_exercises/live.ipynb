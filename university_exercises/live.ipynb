{
 "cells": [
  {
   "cell_type": "code",
   "execution_count": 1,
   "id": "3df577c3",
   "metadata": {
    "_cell_guid": "b1076dfc-b9ad-4769-8c92-a6c4dae69d19",
    "_uuid": "8f2839f25d086af736a60e9eeb907d3b93b6e0e5",
    "execution": {
     "iopub.execute_input": "2025-09-06T11:10:08.489446Z",
     "iopub.status.busy": "2025-09-06T11:10:08.488980Z",
     "iopub.status.idle": "2025-09-06T11:10:26.624435Z",
     "shell.execute_reply": "2025-09-06T11:10:26.623437Z"
    },
    "papermill": {
     "duration": 18.141248,
     "end_time": "2025-09-06T11:10:26.626505",
     "exception": false,
     "start_time": "2025-09-06T11:10:08.485257",
     "status": "completed"
    },
    "tags": []
   },
   "outputs": [
    {
     "name": "stderr",
     "output_type": "stream",
     "text": [
      "100%|██████████| 9.91M/9.91M [00:00<00:00, 12.8MB/s]\n",
      "100%|██████████| 28.9k/28.9k [00:00<00:00, 340kB/s]\n",
      "100%|██████████| 1.65M/1.65M [00:00<00:00, 3.12MB/s]\n",
      "100%|██████████| 4.54k/4.54k [00:00<00:00, 6.97MB/s]\n"
     ]
    }
   ],
   "source": [
    "import torch \n",
    "import torchvision \n",
    "\n",
    "train_mnist = torchvision.datasets.MNIST(\n",
    "    \"./data\",\n",
    "    train=True,\n",
    "    download=True,\n",
    "    transform=torchvision.transforms.Compose([\n",
    "        torchvision.transforms.ToTensor(),\n",
    "        torchvision.transforms.Normalize((0,1397,), (0,3081))\n",
    "    ])\n",
    ")\n",
    "\n",
    "test_mnist = torchvision.datasets.MNIST(\n",
    "    \"./data\",\n",
    "    train=False,\n",
    "    download=True,\n",
    "    transform=torchvision.transforms.Compose([\n",
    "        torchvision.transforms.ToTensor(),\n",
    "        torchvision.transforms.Normalize((0,1397,), (0,3081))\n",
    "    ])\n",
    ")\n"
   ]
  },
  {
   "cell_type": "markdown",
   "id": "f738116d",
   "metadata": {
    "papermill": {
     "duration": 0.002192,
     "end_time": "2025-09-06T11:10:26.631738",
     "exception": false,
     "start_time": "2025-09-06T11:10:26.629546",
     "status": "completed"
    },
    "tags": []
   },
   "source": [
    "## Class: `OHMNISTGenerator`\n",
    "\n",
    "This network is not a classifier but a **generator**: it learns to produce MNIST-like digit images from one-hot class codes.\n",
    "\n",
    "### Structure\n",
    "- Inherits from `torch.nn.Module`, which allows it to define layers and be trained with PyTorch.\n",
    "- The model uses a small multilayer perceptron (MLP):\n",
    "  - Linear layer: input size 10 → hidden size 300  \n",
    "    (expects a 10-dimensional one-hot vector where each position corresponds to a digit 0–9).\n",
    "  - LeakyReLU activation: like ReLU but with a small negative slope, which prevents neurons from \"dying\" at zero output.\n",
    "  - Linear layer: hidden size 300 → output size 28×28 = 784  \n",
    "    (the flattened number of pixels in an MNIST image).\n",
    "\n",
    "### Forward pass\n",
    "- Input `x`: shape (batch_size, 10), each row is a one-hot digit vector.\n",
    "- The MLP produces an output of shape (batch_size, 784).\n",
    "- This is reshaped into (batch_size, 28, 28), so each output is a 28×28 image.\n",
    "\n",
    "### Intuition\n",
    "- The network learns a mapping from **digit labels → images**.\n",
    "- Example: input one-hot for digit \"3\" → the output should be an image resembling the digit 3.\n",
    "- This setup is essentially the reverse of a classifier: instead of predicting labels from images, it generates images from labels.\n",
    "\n",
    "### Key idea\n",
    "- Input: one-hot encoded label (10 values).\n",
    "- Output: generated MNIST-style image (28×28).\n",
    "- Purpose: demonstrate how to build a simple generator network that produces images given a class code.\n"
   ]
  },
  {
   "cell_type": "code",
   "execution_count": 2,
   "id": "50a22ef9",
   "metadata": {
    "execution": {
     "iopub.execute_input": "2025-09-06T11:10:26.637644Z",
     "iopub.status.busy": "2025-09-06T11:10:26.637260Z",
     "iopub.status.idle": "2025-09-06T11:10:26.642832Z",
     "shell.execute_reply": "2025-09-06T11:10:26.642002Z"
    },
    "papermill": {
     "duration": 0.010492,
     "end_time": "2025-09-06T11:10:26.644452",
     "exception": false,
     "start_time": "2025-09-06T11:10:26.633960",
     "status": "completed"
    },
    "tags": []
   },
   "outputs": [],
   "source": [
    "class OHMNISTGenerator(torch.nn.Module):\n",
    "    def __init__(self):\n",
    "        super(OHMNISTGenerator, self).__init__()\n",
    "        self.mlp = torch.nn.Sequential(\n",
    "            torch.nn.Linear(10, 300),\n",
    "            torch.nn.LeakyReLU(),\n",
    "            torch.nn.Linear(300, 28*28)\n",
    "        )\n",
    "\n",
    "    def forward(self, x):\n",
    "        flat_output = self.mlp(x)\n",
    "        return flat_output.view(x.shape[0], 28, 28)"
   ]
  }
 ],
 "metadata": {
  "kaggle": {
   "accelerator": "none",
   "dataSources": [],
   "dockerImageVersionId": 31089,
   "isGpuEnabled": false,
   "isInternetEnabled": true,
   "language": "python",
   "sourceType": "notebook"
  },
  "kernelspec": {
   "display_name": "Python 3",
   "language": "python",
   "name": "python3"
  },
  "language_info": {
   "codemirror_mode": {
    "name": "ipython",
    "version": 3
   },
   "file_extension": ".py",
   "mimetype": "text/x-python",
   "name": "python",
   "nbconvert_exporter": "python",
   "pygments_lexer": "ipython3",
   "version": "3.11.13"
  },
  "papermill": {
   "default_parameters": {},
   "duration": 25.769508,
   "end_time": "2025-09-06T11:10:28.471401",
   "environment_variables": {},
   "exception": null,
   "input_path": "__notebook__.ipynb",
   "output_path": "__notebook__.ipynb",
   "parameters": {},
   "start_time": "2025-09-06T11:10:02.701893",
   "version": "2.6.0"
  }
 },
 "nbformat": 4,
 "nbformat_minor": 5
}
