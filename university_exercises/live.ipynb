{
 "cells": [
  {
   "cell_type": "code",
   "execution_count": 1,
   "id": "175e98b1",
   "metadata": {
    "_cell_guid": "b1076dfc-b9ad-4769-8c92-a6c4dae69d19",
    "_uuid": "8f2839f25d086af736a60e9eeb907d3b93b6e0e5",
    "execution": {
     "iopub.execute_input": "2025-09-06T11:23:08.755190Z",
     "iopub.status.busy": "2025-09-06T11:23:08.754736Z",
     "iopub.status.idle": "2025-09-06T11:23:23.936234Z",
     "shell.execute_reply": "2025-09-06T11:23:23.935102Z"
    },
    "papermill": {
     "duration": 15.187586,
     "end_time": "2025-09-06T11:23:23.938391",
     "exception": false,
     "start_time": "2025-09-06T11:23:08.750805",
     "status": "completed"
    },
    "tags": []
   },
   "outputs": [
    {
     "name": "stderr",
     "output_type": "stream",
     "text": [
      "100%|██████████| 9.91M/9.91M [00:00<00:00, 51.7MB/s]\n",
      "100%|██████████| 28.9k/28.9k [00:00<00:00, 1.75MB/s]\n",
      "100%|██████████| 1.65M/1.65M [00:00<00:00, 14.3MB/s]\n",
      "100%|██████████| 4.54k/4.54k [00:00<00:00, 5.31MB/s]\n"
     ]
    }
   ],
   "source": [
    "import torch \n",
    "import torchvision \n",
    "\n",
    "train_mnist = torchvision.datasets.MNIST(\n",
    "    \"./data\",\n",
    "    train=True,\n",
    "    download=True,\n",
    "    transform=torchvision.transforms.Compose([\n",
    "        torchvision.transforms.ToTensor(),\n",
    "        torchvision.transforms.Normalize((0,1397,), (0,3081))\n",
    "    ])\n",
    ")\n",
    "\n",
    "test_mnist = torchvision.datasets.MNIST(\n",
    "    \"./data\",\n",
    "    train=False,\n",
    "    download=True,\n",
    "    transform=torchvision.transforms.Compose([\n",
    "        torchvision.transforms.ToTensor(),\n",
    "        torchvision.transforms.Normalize((0,1397,), (0,3081))\n",
    "    ])\n",
    ")\n"
   ]
  },
  {
   "cell_type": "markdown",
   "id": "05cada16",
   "metadata": {
    "papermill": {
     "duration": 0.002475,
     "end_time": "2025-09-06T11:23:23.944178",
     "exception": false,
     "start_time": "2025-09-06T11:23:23.941703",
     "status": "completed"
    },
    "tags": []
   },
   "source": [
    "## Class: `OHMNISTGenerator`\n",
    "\n",
    "This network is not a classifier but a **generator**: it learns to produce MNIST-like digit images from one-hot class codes.\n",
    "\n",
    "### Structure\n",
    "- Inherits from `torch.nn.Module`, which allows it to define layers and be trained with PyTorch.\n",
    "- The model uses a small multilayer perceptron (MLP):\n",
    "  - Linear layer: input size 10 → hidden size 300  \n",
    "    (expects a 10-dimensional one-hot vector where each position corresponds to a digit 0–9).\n",
    "  - LeakyReLU activation: like ReLU but with a small negative slope, which prevents neurons from \"dying\" at zero output.\n",
    "  - Linear layer: hidden size 300 → output size 28×28 = 784  \n",
    "    (the flattened number of pixels in an MNIST image).\n",
    "\n",
    "### Forward pass\n",
    "- Input `x`: shape (batch_size, 10), each row is a one-hot digit vector.\n",
    "- The MLP produces an output of shape (batch_size, 784).\n",
    "- This is reshaped into (batch_size, 28, 28), so each output is a 28×28 image.\n",
    "\n",
    "### Intuition\n",
    "- The network learns a mapping from **digit labels → images**.\n",
    "- Example: input one-hot for digit \"3\" → the output should be an image resembling the digit 3.\n",
    "- This setup is essentially the reverse of a classifier: instead of predicting labels from images, it generates images from labels.\n",
    "\n",
    "### Key idea\n",
    "- Input: one-hot encoded label (10 values).\n",
    "- Output: generated MNIST-style image (28×28).\n",
    "- Purpose: demonstrate how to build a simple generator network that produces images given a class code.\n"
   ]
  },
  {
   "cell_type": "markdown",
   "id": "2a294d66",
   "metadata": {
    "papermill": {
     "duration": 0.002313,
     "end_time": "2025-09-06T11:23:23.949218",
     "exception": false,
     "start_time": "2025-09-06T11:23:23.946905",
     "status": "completed"
    },
    "tags": []
   },
   "source": [
    "## Custom Dataset: OneHotMNIST\n",
    "\n",
    "This wrapper class takes the standard MNIST dataset and modifies how each sample is returned.\n",
    "\n",
    "### Purpose\n",
    "- In the original MNIST dataset, a sample is `(image, label)`, where:\n",
    "  - `image` has shape (1, 28, 28) (channel × height × width).\n",
    "  - `label` is an integer in the range 0–9.\n",
    "- `OneHotMNIST` transforms the label into a **one-hot vector** and adjusts the image shape.\n",
    "\n",
    "### How it works\n",
    "- `__len__`: returns the number of samples in the dataset (same as the base MNIST).\n",
    "- `__getitem__(idx)`:\n",
    "  - Retrieves `(img, cls)` from the original dataset.\n",
    "  - Creates a zero vector of length 10.\n",
    "  - Sets the position corresponding to the digit class to 1 → this is the one-hot encoding.\n",
    "    - Example: if `cls = 7`, the one-hot vector is [0, 0, 0, 0, 0, 0, 0, 1, 0, 0].\n",
    "  - Returns `(one_hot_label, image)`.\n",
    "\n",
    "### Why `img[0, :, :]`?\n",
    "- Original MNIST images are shaped (1, 28, 28).\n",
    "  - The first dimension is the **channel** (MNIST is grayscale → 1 channel).\n",
    "- Taking `img[0, :, :]` removes this redundant channel dimension, giving a simpler (28, 28) array.\n",
    "- This makes sense here because we know MNIST always has one channel.\n",
    "\n",
    "### Important note\n",
    "- If you were working with RGB images (3 channels), you would **not** drop the channel dimension.\n",
    "- Keeping or removing the channel depends on how you plan to feed the images into your model.\n"
   ]
  },
  {
   "cell_type": "code",
   "execution_count": 2,
   "id": "0908f43f",
   "metadata": {
    "execution": {
     "iopub.execute_input": "2025-09-06T11:23:23.956363Z",
     "iopub.status.busy": "2025-09-06T11:23:23.955682Z",
     "iopub.status.idle": "2025-09-06T11:23:23.962764Z",
     "shell.execute_reply": "2025-09-06T11:23:23.961457Z"
    },
    "papermill": {
     "duration": 0.012586,
     "end_time": "2025-09-06T11:23:23.964502",
     "exception": false,
     "start_time": "2025-09-06T11:23:23.951916",
     "status": "completed"
    },
    "tags": []
   },
   "outputs": [],
   "source": [
    "class OneHotMNIST(torch.utils.data.Dataset):\n",
    "    def __init__(self, dataset):\n",
    "        self.dataset = dataset \n",
    "        \n",
    "    def __len__(self):\n",
    "        return len(self.dataset)\n",
    "\n",
    "    def __getitem__(self, idx):\n",
    "        img, cls = self.dataset[idx] \n",
    "        oh = torch.zeros(10) \n",
    "        oh[cls] = 1 \n",
    "        return oh, img[0,:,:]\n",
    "        "
   ]
  },
  {
   "cell_type": "code",
   "execution_count": null,
   "id": "655ad7aa",
   "metadata": {
    "execution": {
     "iopub.execute_input": "2025-09-06T11:05:58.019566Z",
     "iopub.status.busy": "2025-09-06T11:05:58.019226Z",
     "iopub.status.idle": "2025-09-06T11:05:58.026046Z",
     "shell.execute_reply": "2025-09-06T11:05:58.024581Z",
     "shell.execute_reply.started": "2025-09-06T11:05:58.019542Z"
    },
    "papermill": {
     "duration": 0.002402,
     "end_time": "2025-09-06T11:23:23.969777",
     "exception": false,
     "start_time": "2025-09-06T11:23:23.967375",
     "status": "completed"
    },
    "tags": []
   },
   "outputs": [],
   "source": []
  },
  {
   "cell_type": "code",
   "execution_count": null,
   "id": "0529ac92",
   "metadata": {
    "papermill": {
     "duration": 0.002267,
     "end_time": "2025-09-06T11:23:23.974764",
     "exception": false,
     "start_time": "2025-09-06T11:23:23.972497",
     "status": "completed"
    },
    "tags": []
   },
   "outputs": [],
   "source": []
  }
 ],
 "metadata": {
  "kaggle": {
   "accelerator": "none",
   "dataSources": [],
   "dockerImageVersionId": 31089,
   "isGpuEnabled": false,
   "isInternetEnabled": true,
   "language": "python",
   "sourceType": "notebook"
  },
  "kernelspec": {
   "display_name": "Python 3",
   "language": "python",
   "name": "python3"
  },
  "language_info": {
   "codemirror_mode": {
    "name": "ipython",
    "version": 3
   },
   "file_extension": ".py",
   "mimetype": "text/x-python",
   "name": "python",
   "nbconvert_exporter": "python",
   "pygments_lexer": "ipython3",
   "version": "3.11.13"
  },
  "papermill": {
   "default_parameters": {},
   "duration": 24.0469,
   "end_time": "2025-09-06T11:23:26.227368",
   "environment_variables": {},
   "exception": null,
   "input_path": "__notebook__.ipynb",
   "output_path": "__notebook__.ipynb",
   "parameters": {},
   "start_time": "2025-09-06T11:23:02.180468",
   "version": "2.6.0"
  }
 },
 "nbformat": 4,
 "nbformat_minor": 5
}
