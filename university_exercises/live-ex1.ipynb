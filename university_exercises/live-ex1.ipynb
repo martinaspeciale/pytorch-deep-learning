{
 "cells": [
  {
   "cell_type": "code",
   "execution_count": 1,
   "id": "90f688ed",
   "metadata": {
    "_cell_guid": "b1076dfc-b9ad-4769-8c92-a6c4dae69d19",
    "_uuid": "8f2839f25d086af736a60e9eeb907d3b93b6e0e5",
    "execution": {
     "iopub.execute_input": "2025-09-05T14:47:36.983419Z",
     "iopub.status.busy": "2025-09-05T14:47:36.983097Z",
     "iopub.status.idle": "2025-09-05T14:47:51.904855Z",
     "shell.execute_reply": "2025-09-05T14:47:51.903877Z"
    },
    "papermill": {
     "duration": 14.928722,
     "end_time": "2025-09-05T14:47:51.907009",
     "exception": false,
     "start_time": "2025-09-05T14:47:36.978287",
     "status": "completed"
    },
    "tags": []
   },
   "outputs": [
    {
     "name": "stderr",
     "output_type": "stream",
     "text": [
      "100%|██████████| 9.91M/9.91M [00:00<00:00, 52.2MB/s]\n",
      "100%|██████████| 28.9k/28.9k [00:00<00:00, 1.71MB/s]\n",
      "100%|██████████| 1.65M/1.65M [00:00<00:00, 14.7MB/s]\n",
      "100%|██████████| 4.54k/4.54k [00:00<00:00, 5.20MB/s]\n"
     ]
    }
   ],
   "source": [
    "import torch\n",
    "import torch.nn as nn\n",
    "import torchvision\n",
    "\n",
    "\n",
    "train_mnist = torchvision.datasets.MNIST(\n",
    "    \"./data\",\n",
    "    train=True,\n",
    "    download=True,\n",
    "    transform=torchvision.transforms.Compose([\n",
    "        torchvision.transforms.ToTensor(),\n",
    "        torchvision.transforms.Normalize((0.1307,), (0.3081,))\n",
    "    ])\n",
    ")\n",
    "\n",
    "test_mnist = torchvision.datasets.MNIST(\n",
    "    \"./data\",\n",
    "    train=False,\n",
    "    download=True,\n",
    "    transform=torchvision.transforms.Compose([\n",
    "        torchvision.transforms.ToTensor(),\n",
    "        torchvision.transforms.Normalize((0.1307,), (0.3081,))\n",
    "    ])\n",
    ")\n"
   ]
  },
  {
   "cell_type": "markdown",
   "id": "4e4cb3c8",
   "metadata": {
    "papermill": {
     "duration": 0.003453,
     "end_time": "2025-09-05T14:47:51.914666",
     "exception": false,
     "start_time": "2025-09-05T14:47:51.911213",
     "status": "completed"
    },
    "tags": []
   },
   "source": [
    "# Model: AutoEncoder (2-D bottleneck)\n",
    "### What is an AutoEncoder (AE)?\n",
    "\n",
    "An **AutoEncoder** learns to:\n",
    "1) **Encode** an input \\(x\\) into a low-dimensional **latent vector** \\(z\\) (the **bottleneck**), and\n",
    "2) **Decode** \\(z\\) back into a reconstruction \\($\\hat{x}\\$) that resembles the original.\n",
    "\n",
    "For MNIST (28×28 grayscale), we’ll use a **fully-connected (MLP: MultiLayer Perceptron) AE** with a **2-D bottleneck**:\n",
    "- **Why 2-D?** So we can **visualize** the latent space later as a 2D scatter plot (each image → one point).\n",
    "- **Encoder**: $(784 \\rightarrow 300 \\rightarrow 2)$\n",
    "- **Decoder**: $(2 \\rightarrow 300 \\rightarrow 784)$\n",
    "\n",
    "We keep it minimal:\n",
    "- **Activations**: `LeakyReLU` after the hidden layers (helps gradients with small negative slope).\n",
    "- **No output activation** on the decoder’s last layer because inputs are **standardized** (Mean=0.1307, Std=0.3081).  \n",
    "  If you were using raw \\([0,1]\\) pixels, a `Sigmoid` could be sensible; with standardized inputs, an unrestricted linear output works well with L1/L2 losses.\n",
    "\n",
    "---\n",
    "\n",
    "### Shape flow\n",
    "\n",
    "- Input batch \\(x\\): `[B, 1, 28, 28]`\n",
    "- **Flatten** to `[B, 784]` before feeding the encoder.\n",
    "- Encoder outputs \\(z\\): `[B, 2]`\n",
    "- Decoder maps back to `[B, 784]`\n",
    "- **Unflatten** to `[B, 1, 28, 28]` to compare against the original images.\n",
    "\n",
    "This ensures the training loss can be computed as `loss(x, x_hat)` element-wise.\n",
    "\n",
    "---\n",
    "\n",
    "### Methods we implement\n",
    "\n",
    "- `encode(x) → z`: only the encoder path (used later to visualize latents).\n",
    "- `decode(z) → x_hat`: only the decoder path (used later to manipulate latents and decode).\n",
    "- `forward(x) → x_hat`: full AE (encode then decode).\n",
    "\n",
    "---\n",
    "\n",
    "### Why `LeakyReLU`?\n",
    "\n",
    "- Like ReLU but with a small slope on negatives (mitigates “dying ReLUs”).\n",
    "- Often improves stability for simple MLP autoencoders.\n",
    "\n",
    "---\n",
    "\n",
    "### Sanity check idea (optional)\n",
    "\n",
    "After defining the model, run a tiny batch through it and verify:\n",
    "- `x.shape == recon.shape == [B, 1, 28, 28]`\n",
    "- `features.shape == [B, 2]`\n",
    "\n",
    "We’ll do that right after we instantiate the model.\n"
   ]
  },
  {
   "cell_type": "markdown",
   "id": "14eb9542",
   "metadata": {
    "papermill": {
     "duration": 0.003349,
     "end_time": "2025-09-05T14:47:51.921579",
     "exception": false,
     "start_time": "2025-09-05T14:47:51.918230",
     "status": "completed"
    },
    "tags": []
   },
   "source": [
    "### Why is it called a *bottleneck*?\n",
    "\n",
    "In an autoencoder, the **bottleneck** is the **narrowest layer** in the middle — the smallest representation `z` through which all information about the input `x` must pass. By forcing data through this tight “neck,” the model must **compress** the input and keep only its most salient factors.\n",
    "\n",
    "$$\n",
    "\\begin{array}{c}\n",
    "x \\in \\mathbb{R}^{784} \\xrightarrow{\\text{Encoder}} z \\in \\mathbb{R}^{d} \\xrightarrow{\\text{Decoder}} \\hat{x} \\in \\mathbb{R}^{784} \\\\\n",
    "\\text{(wide)} \\quad \\longrightarrow \\quad \\text{(narrow)} \\quad \\longrightarrow \\quad \\text{(wide)}\n",
    "\\end{array}\n",
    "$$\n",
    "\n",
    "\n",
    "---\n",
    "\n",
    "### What the bottleneck does\n",
    "- **Compression:** reduces dimensionality so the model captures key structure rather than copying pixels.  \n",
    "- **Architectural regularization:** discourages the trivial identity mapping (especially when `d << D`).  \n",
    "- **Generalization:** encourages discarding noise or redundancy and retaining meaningful features.\n",
    "\n",
    "---\n",
    "\n",
    "### Compression factor\n",
    "\n",
    "Let `D` be the input dimensionality (e.g., `28 × 28 = 784` for MNIST) and `d` the bottleneck size.\n",
    "\n",
    "$$\n",
    "\\text{compression factor} = \\frac{D}{d}\n",
    "$$\n",
    "\n",
    "**Examples**\n",
    "- `d = 2`  → \\( \\frac{784}{2} = 392\\times \\) compression (extreme; great for visualization).  \n",
    "- `d = 64` → \\( \\frac{784}{64} \\approx 12.25\\times \\) compression (typically better reconstructions).\n",
    "\n",
    "---\n",
    "\n",
    "### Choosing the bottleneck size `d` (trade-offs)\n",
    "- **Too small `d`** → heavy compression → risk of **underfitting** (blurry or poor reconstructions).  \n",
    "- **Too large `d`** → weak compression → risk of near **identity mapping** (little abstraction).  \n",
    "- **Balanced `d`** → good reconstruction quality **and** compact, structured latents.\n",
    "\n",
    "---\n",
    "\n",
    "### Undercomplete vs. Overcomplete\n",
    "- **Undercomplete** (`d < D`): a true *bottleneck*; capacity is limited by the latent dimensionality.  \n",
    "- **Overcomplete** (`d ≥ D`): no geometric bottleneck; to avoid identity mapping you need extra regularization, e.g.:  \n",
    "  - **Sparsity** penalties (e.g., L1 on activations),  \n",
    "  - **Denoising** (corrupt input, reconstruct clean),  \n",
    "  - **Contractive/variational** objectives (e.g., VAE).\n",
    "\n",
    "---\n",
    "\n",
    "### Why use a 2-D bottleneck in demos?\n",
    "A 2-D latent `z` can be **plotted directly**: each image becomes a point in 2D, typically forming clusters by digit class. This makes the learned representation easy to interpret and debug.\n",
    "\n"
   ]
  },
  {
   "cell_type": "code",
   "execution_count": 2,
   "id": "17bbb52d",
   "metadata": {
    "execution": {
     "iopub.execute_input": "2025-09-05T14:47:51.930378Z",
     "iopub.status.busy": "2025-09-05T14:47:51.929933Z",
     "iopub.status.idle": "2025-09-05T14:47:51.977641Z",
     "shell.execute_reply": "2025-09-05T14:47:51.976601Z"
    },
    "papermill": {
     "duration": 0.054225,
     "end_time": "2025-09-05T14:47:51.979280",
     "exception": false,
     "start_time": "2025-09-05T14:47:51.925055",
     "status": "completed"
    },
    "tags": []
   },
   "outputs": [
    {
     "name": "stdout",
     "output_type": "stream",
     "text": [
      "z shape: torch.Size([4, 2])\n",
      "recon shape: torch.Size([4, 1, 28, 28])\n"
     ]
    }
   ],
   "source": [
    "class AutoEncoder(nn.Module):\n",
    "    def __init__(self, bottleneck_dim: int = 2):\n",
    "        super().__init__()\n",
    "        # Flatten image to vector and back\n",
    "        self.flatten   = nn.Flatten()                          # [B, 1, 28, 28] -> [B, 784]\n",
    "        self.unflatten = nn.Unflatten(dim=1, unflattened_size=(1, 28, 28))  # [B, 784] -> [B, 1, 28, 28]\n",
    "\n",
    "        # Encoder: 784 -> 300 -> bottleneck_dim\n",
    "        self.encoder = nn.Sequential(\n",
    "            nn.Linear(28*28, 300),\n",
    "            nn.LeakyReLU(),\n",
    "            nn.Linear(300, bottleneck_dim)\n",
    "        )\n",
    "\n",
    "        # Decoder: bottleneck_dim -> 300 -> 784\n",
    "        self.decoder = nn.Sequential(\n",
    "            nn.Linear(bottleneck_dim, 300),\n",
    "            nn.LeakyReLU(),\n",
    "            nn.Linear(300, 28*28)\n",
    "            # No final activation since inputs are standardized; use L1/L2 loss.\n",
    "            # If using raw [0,1] pixels, consider nn.Sigmoid() here.\n",
    "        )\n",
    "\n",
    "    def encode(self, x: torch.Tensor) -> torch.Tensor:\n",
    "        x = self.flatten(x)       # [B, 1, 28, 28] -> [B, 784]\n",
    "        z = self.encoder(x)       # [B, 784] -> [B, bottleneck_dim]\n",
    "        return z\n",
    "\n",
    "    def decode(self, z: torch.Tensor) -> torch.Tensor:\n",
    "        x_hat = self.decoder(z)   # [B, bottleneck_dim] -> [B, 784]\n",
    "        x_hat = self.unflatten(x_hat)  # [B, 784] -> [B, 1, 28, 28]\n",
    "        return x_hat\n",
    "\n",
    "    def forward(self, x: torch.Tensor) -> torch.Tensor:\n",
    "        return self.decode(self.encode(x))\n",
    "\n",
    "\n",
    "# (Optional) quick shape sanity check\n",
    "if __name__ == \"__main__\":\n",
    "    model = AutoEncoder(bottleneck_dim=2)\n",
    "    dummy = torch.randn(4, 1, 28, 28)     # batch of 4\n",
    "    with torch.no_grad():\n",
    "        z = model.encode(dummy)           # [4, 2]\n",
    "        recon = model(dummy)              # [4, 1, 28, 28]\n",
    "    print(\"z shape:\", z.shape)\n",
    "    print(\"recon shape:\", recon.shape)\n"
   ]
  },
  {
   "cell_type": "markdown",
   "id": "57b0c061",
   "metadata": {
    "papermill": {
     "duration": 0.004664,
     "end_time": "2025-09-05T14:47:51.988126",
     "exception": false,
     "start_time": "2025-09-05T14:47:51.983462",
     "status": "completed"
    },
    "tags": []
   },
   "source": [
    "### Why `Flatten` and `Unflatten` in an MLP AutoEncoder?\n",
    "\n",
    "**Problem:** MNIST images arrive as 4D tensors `[B, C, H, W] = [B, 1, 28, 28]`, but `nn.Linear` layers expect 2D inputs `[B, F]`.\n",
    "\n",
    "**Solution:**\n",
    "- `nn.Flatten()` converts each image into a feature vector:\n",
    "  $$\n",
    "  [B, 1, 28, 28] \\;\\rightarrow\\; [B, 28\\cdot28] = [B, 784]\n",
    "  $$\n",
    "  so the encoder/decoder (which are MLPs) can operate on 2D tensors.\n",
    "\n",
    "- `nn.Unflatten(dim=1, unflattened_size=(1, 28, 28))` reshapes the decoder output \n",
    "  $$\n",
    "  [B, 784] \\;\\rightarrow\\; [B, 1, 28, 28]\n",
    "  $$\n",
    "  so the reconstruction $(\\hat{x})$ has the **same shape** as the input \\(x\\).  \n",
    "  This is required to compute pixel-wise losses (L1/MSE) and to **plot** the result as an image.\n",
    "\n",
    "**When would you *not* need these?**\n",
    "- In a **convolutional autoencoder** (Conv2d/ConvTranspose2d), you keep the data as `[B, C, H, W]` throughout, so no flatten/unflatten is needed.\n",
    "\n",
    "**Why `dim=1` in `Unflatten`?**\n",
    "- After `Flatten`, your tensor is `[B, 784]`:  \n",
    "  - `dim=0` is the **batch**.  \n",
    "  - `dim=1` is the **feature** dimension we want to reshape back into `(C, H, W)`.\n",
    "\n",
    "**Alternatives**\n",
    "- You could use `x = x.view(B, -1)` or `x = x.reshape(B, -1)` and the inverse reshape manually.  \n",
    "  Using `nn.Flatten`/`nn.Unflatten` makes shapes explicit and shows up in `model` printouts for readability.\n",
    "\n",
    "- `Flatten` lets MLPs consume images.  \n",
    "- `Unflatten` restores image shape for loss/visualization.\n"
   ]
  },
  {
   "cell_type": "markdown",
   "id": "2c5967fe",
   "metadata": {
    "papermill": {
     "duration": 0.003566,
     "end_time": "2025-09-05T14:47:51.996236",
     "exception": false,
     "start_time": "2025-09-05T14:47:51.992670",
     "status": "completed"
    },
    "tags": []
   },
   "source": [
    "### sanity-check snippet"
   ]
  },
  {
   "cell_type": "code",
   "execution_count": 3,
   "id": "968a3cef",
   "metadata": {
    "execution": {
     "iopub.execute_input": "2025-09-05T14:47:52.005359Z",
     "iopub.status.busy": "2025-09-05T14:47:52.005033Z",
     "iopub.status.idle": "2025-09-05T14:47:52.014075Z",
     "shell.execute_reply": "2025-09-05T14:47:52.013042Z"
    },
    "papermill": {
     "duration": 0.015586,
     "end_time": "2025-09-05T14:47:52.015643",
     "exception": false,
     "start_time": "2025-09-05T14:47:52.000057",
     "status": "completed"
    },
    "tags": []
   },
   "outputs": [
    {
     "name": "stdout",
     "output_type": "stream",
     "text": [
      "torch.Size([4, 1, 28, 28]) -> torch.Size([4, 784]) -> torch.Size([4, 1, 28, 28])\n"
     ]
    }
   ],
   "source": [
    "B = 4\n",
    "x = torch.randn(B, 1, 28, 28)\n",
    "\n",
    "flat = torch.nn.Flatten()\n",
    "unflat = torch.nn.Unflatten(dim=1, unflattened_size=(1, 28, 28))\n",
    "\n",
    "x_vec = flat(x)                 # [B, 784]\n",
    "# pretend the decoder produced a vector of the same size\n",
    "x_hat_vec = x_vec.clone()       \n",
    "x_hat = unflat(x_hat_vec)       # [B, 1, 28, 28]\n",
    "\n",
    "print(x.shape, \"->\", x_vec.shape, \"->\", x_hat.shape)\n",
    "# torch.Size([4, 1, 28, 28]) -> torch.Size([4, 784]) -> torch.Size([4, 1, 28, 28])\n"
   ]
  },
  {
   "cell_type": "markdown",
   "id": "d46bf433",
   "metadata": {
    "papermill": {
     "duration": 0.00414,
     "end_time": "2025-09-05T14:47:52.023728",
     "exception": false,
     "start_time": "2025-09-05T14:47:52.019588",
     "status": "completed"
    },
    "tags": []
   },
   "source": [
    "### Training an AutoEncoder\n",
    "\n",
    "**Objective:** learn parameters so the decoder reconstructs the input from its latent \\( z \\).\n",
    "\n",
    "We minimize a **reconstruction loss** between the input $( x )$ and output $( \\hat{x} )$:\n",
    "$$\n",
    "\\mathcal{L}(x, \\hat{x}) =\n",
    "\\begin{cases}\n",
    "\\|x - \\hat{x}\\|_1 & \\text{(L1 / MAE)} \\\\\n",
    "\\|x - \\hat{x}\\|_2^2 & \\text{(MSE)}\n",
    "\\end{cases}\n",
    "$$\n",
    "\n",
    "**Choices (mirroring original notebook)**\n",
    "- **Loss:** `nn.L1Loss()` (robust to outliers; often yields sharper reconstructions)\n",
    "- **Optimizer:** `Adam(lr=1e-3)` (good default)\n",
    "- **Epochs:** 3 (increase if underfitting)\n",
    "- **Batch size:** 32\n",
    "- **Device:** use GPU if available for speed\n",
    "\n",
    "**Loop per batch**\n",
    "1. `recon = model(x)` — forward pass (encode → decode)  \n",
    "2. `loss = loss_fn(x, recon)` — compute reconstruction loss  \n",
    "3. `optimizer.zero_grad()` — clear stale gradients  \n",
    "4. `loss.backward()` — backpropagate  \n",
    "5. `optimizer.step()` — update weights\n",
    "\n",
    "**Training vs. Eval modes**\n",
    "- `model.train()` enables training behavior (e.g., dropout/batchnorm updates).\n",
    "- `model.eval()` disables those behaviors. We’ll use it later during inference/visualization.\n",
    "\n",
    "**Sanity tips**\n",
    "- Track and print the **mean epoch loss** to ensure it’s decreasing.\n",
    "- If using GPU, remember: plotting/NumPy needs **CPU** tensors → call `.cpu()` before `.numpy()`.\n"
   ]
  },
  {
   "cell_type": "markdown",
   "id": "ef2ee08a",
   "metadata": {
    "papermill": {
     "duration": 0.003431,
     "end_time": "2025-09-05T14:47:52.030865",
     "exception": false,
     "start_time": "2025-09-05T14:47:52.027434",
     "status": "completed"
    },
    "tags": []
   },
   "source": [
    "**naming convention** for batches:\n",
    "- `xb` = “**x batch**” (a tensor of many images)\n",
    "- `yb` = “**y batch**” (a tensor of many labels)\n",
    "\n",
    "\n",
    "### In an AutoEncoder\n",
    "An AE learns to reconstruct its input, so the **target is the input**.\n",
    "That’s why you often see the label **ignored** with `_`:\n",
    "\n",
    "```python\n",
    "for xb, _ in dl:           # labels unused in AE training\n",
    "    recon = model(xb)\n",
    "    loss = loss_fn(xb, recon) # target == input\n",
    "```"
   ]
  },
  {
   "cell_type": "code",
   "execution_count": 4,
   "id": "e6b6b422",
   "metadata": {
    "execution": {
     "iopub.execute_input": "2025-09-05T14:47:52.040440Z",
     "iopub.status.busy": "2025-09-05T14:47:52.039360Z",
     "iopub.status.idle": "2025-09-05T14:49:12.795060Z",
     "shell.execute_reply": "2025-09-05T14:49:12.793865Z"
    },
    "papermill": {
     "duration": 80.762352,
     "end_time": "2025-09-05T14:49:12.796875",
     "exception": false,
     "start_time": "2025-09-05T14:47:52.034523",
     "status": "completed"
    },
    "tags": []
   },
   "outputs": [
    {
     "name": "stdout",
     "output_type": "stream",
     "text": [
      "Device: cpu\n"
     ]
    },
    {
     "name": "stderr",
     "output_type": "stream",
     "text": [
      "                                                                          \r"
     ]
    },
    {
     "name": "stdout",
     "output_type": "stream",
     "text": [
      "Epoch 1: mean L1 loss = 0.337823\n"
     ]
    },
    {
     "name": "stderr",
     "output_type": "stream",
     "text": [
      "                                                                         \r"
     ]
    },
    {
     "name": "stdout",
     "output_type": "stream",
     "text": [
      "Epoch 2: mean L1 loss = 0.310739\n"
     ]
    },
    {
     "name": "stderr",
     "output_type": "stream",
     "text": [
      "                                                                          "
     ]
    },
    {
     "name": "stdout",
     "output_type": "stream",
     "text": [
      "Epoch 3: mean L1 loss = 0.302827\n"
     ]
    },
    {
     "name": "stderr",
     "output_type": "stream",
     "text": [
      "\r"
     ]
    }
   ],
   "source": [
    "from tqdm import tqdm\n",
    "import torch\n",
    "\n",
    "# Device\n",
    "DEVICE = torch.device(\"cuda\" if torch.cuda.is_available() else \"cpu\")\n",
    "print(\"Device:\", DEVICE)\n",
    "\n",
    "# Model + optimizer + loss\n",
    "model = AutoEncoder(bottleneck_dim=2).to(DEVICE)\n",
    "optimizer = torch.optim.Adam(model.parameters(), lr=1e-3)\n",
    "loss_fn = torch.nn.L1Loss()\n",
    "\n",
    "# DataLoader\n",
    "dl = torch.utils.data.DataLoader(train_mnist, batch_size=32, shuffle=True)\n",
    "\n",
    "# Train\n",
    "EPOCHS = 3\n",
    "model.train()\n",
    "for epoch in range(1, EPOCHS + 1):\n",
    "    running_loss = 0.0\n",
    "    total = 0\n",
    "\n",
    "    pbar = tqdm(dl, desc=f\"Epoch {epoch}/{EPOCHS}\", leave=False)\n",
    "    for xb, _ in pbar:\n",
    "        xb = xb.to(DEVICE)                 # [B, 1, 28, 28]\n",
    "        recon = model(xb)                  # [B, 1, 28, 28]\n",
    "        loss = loss_fn(xb, recon)\n",
    "\n",
    "        optimizer.zero_grad()\n",
    "        loss.backward()\n",
    "        optimizer.step()\n",
    "\n",
    "        running_loss += loss.item() * xb.size(0)\n",
    "        total += xb.size(0)\n",
    "        pbar.set_postfix(loss=loss.item())\n",
    "\n",
    "    mean_loss = running_loss / total\n",
    "    print(f\"Epoch {epoch}: mean L1 loss = {mean_loss:.6f}\")\n"
   ]
  },
  {
   "cell_type": "markdown",
   "id": "e5d02dac",
   "metadata": {
    "papermill": {
     "duration": 0.344075,
     "end_time": "2025-09-05T14:49:13.467235",
     "exception": false,
     "start_time": "2025-09-05T14:49:13.123160",
     "status": "completed"
    },
    "tags": []
   },
   "source": [
    "## Single-sample encode/decode + latent manipulation\n",
    "### Goal\n",
    "Understand what the 2-D latent space represents by:\n",
    "1) **Encoding** one test image $(x)$ into its latent $(z)$,\n",
    "2) **Decoding** to reconstruct $(\\hat{x})$,\n",
    "3) **Manipulating** $(z)$ (e.g., set \\(z=[1,1]\\)) and decoding again to see how the output changes.\n",
    "\n",
    "### Key details\n",
    "- **Batch dim:** The model expects batches. A single image `[1, 28, 28]` must become `[1, 1, 28, 28]`. We use `unsqueeze(0)` to add the batch dimension.\n",
    "- **Eval mode:** `model.eval()` disables training-only behavior (good hygiene even if we don’t use dropout/batchnorm).\n",
    "- **No gradients:** `with torch.no_grad():` avoids tracking gradients during inference.\n",
    "- **Device:** Move tensors to the same device as the model; bring back to CPU for plotting (`.cpu()`).\n",
    "- **Unnormalize for display:** We normalized inputs during loading (mean=0.1307, std=0.3081). To view images as typical grayscale, invert the transform:\n",
    "  $$\n",
    "  x_{\\text{vis}} = \\mathrm{clamp}(x \\cdot 0.3081 + 0.1307,\\, 0,\\, 1)\n",
    "  $$\n",
    "\n",
    "### What to look for\n",
    "- The **reconstruction** $(\\hat{x})$ should look like the original digit (not perfect — this is a tiny AE).\n",
    "- The **manipulated latent** often changes style/shape; with a 2-D $(z)$, moving along each axis tends to adjust some interpretable quality (e.g., stroke thickness, slant).\n"
   ]
  },
  {
   "cell_type": "code",
   "execution_count": 5,
   "id": "4b919339",
   "metadata": {
    "execution": {
     "iopub.execute_input": "2025-09-05T14:49:14.191146Z",
     "iopub.status.busy": "2025-09-05T14:49:14.190693Z",
     "iopub.status.idle": "2025-09-05T14:49:14.529904Z",
     "shell.execute_reply": "2025-09-05T14:49:14.528962Z"
    },
    "papermill": {
     "duration": 0.656633,
     "end_time": "2025-09-05T14:49:14.532522",
     "exception": false,
     "start_time": "2025-09-05T14:49:13.875889",
     "status": "completed"
    },
    "tags": []
   },
   "outputs": [
    {
     "data": {
      "image/png": "[encoded data removed]",
      "text/plain": [
       "<Figure size 800x300 with 3 Axes>"
      ]
     },
     "metadata": {},
     "output_type": "display_data"
    },
    {
     "name": "stdout",
     "output_type": "stream",
     "text": [
      "Original z: [[-1.3443823  2.2305467]]\n",
      "Edited   z: [[1. 1.]]\n"
     ]
    }
   ],
   "source": [
    "import torch\n",
    "import matplotlib.pyplot as plt\n",
    "\n",
    "# Helper to unnormalize a batch [B, 1, 28, 28] for display\n",
    "def unnormalize(img_batch: torch.Tensor, mean=0.1307, std=0.3081):\n",
    "    x = img_batch * std + mean\n",
    "    return x.clamp(0, 1)\n",
    "\n",
    "# Pick one test sample\n",
    "x, y = test_mnist[0]          # x: [1, 28, 28], y: scalar label\n",
    "x = x.unsqueeze(0)            # [1, 1, 28, 28] add batch dimension\n",
    "\n",
    "model.eval()\n",
    "with torch.no_grad():\n",
    "    # Move to device\n",
    "    x_device = x.to(DEVICE)\n",
    "\n",
    "    # Encode -> z in R^2\n",
    "    z = model.encode(x_device)            # [1, 2]\n",
    "\n",
    "    # Reconstruct original\n",
    "    x_recon = model.decode(z)             # [1, 1, 28, 28]\n",
    "\n",
    "    # Manipulate latent (example: set z = [1, 1])\n",
    "    z_edit = z.clone()\n",
    "    z_edit[:, 0] = 1.0\n",
    "    z_edit[:, 1] = 1.0\n",
    "\n",
    "    x_recon_edit = model.decode(z_edit)   # [1, 1, 28, 28]\n",
    "\n",
    "# Bring to CPU for plotting and unnormalize for nicer display\n",
    "x_vis         = unnormalize(x.cpu())\n",
    "x_recon_vis   = unnormalize(x_recon.cpu())\n",
    "x_edit_vis    = unnormalize(x_recon_edit.cpu())\n",
    "\n",
    "# Plot original, reconstruction, and edited-latent reconstruction\n",
    "fig, axs = plt.subplots(1, 3, figsize=(8, 3))\n",
    "axs[0].imshow(x_vis[0, 0].numpy(), cmap=\"gray\")\n",
    "axs[0].set_title(f\"Original (y={y})\")\n",
    "axs[0].axis(\"off\")\n",
    "\n",
    "axs[1].imshow(x_recon_vis[0, 0].numpy(), cmap=\"gray\")\n",
    "axs[1].set_title(\"Reconstruction\")\n",
    "axs[1].axis(\"off\")\n",
    "\n",
    "axs[2].imshow(x_edit_vis[0, 0].numpy(), cmap=\"gray\")\n",
    "axs[2].set_title(\"Decode z=[1,1]\")\n",
    "axs[2].axis(\"off\")\n",
    "\n",
    "plt.tight_layout()\n",
    "plt.show()\n",
    "\n",
    "print(\"Original z:\", z.cpu().numpy())\n",
    "print(\"Edited   z:\", z_edit.cpu().numpy())\n"
   ]
  }
 ],
 "metadata": {
  "kaggle": {
   "accelerator": "none",
   "dataSources": [],
   "dockerImageVersionId": 31089,
   "isGpuEnabled": false,
   "isInternetEnabled": true,
   "language": "python",
   "sourceType": "notebook"
  },
  "kernelspec": {
   "display_name": "Python 3",
   "language": "python",
   "name": "python3"
  },
  "language_info": {
   "codemirror_mode": {
    "name": "ipython",
    "version": 3
   },
   "file_extension": ".py",
   "mimetype": "text/x-python",
   "name": "python",
   "nbconvert_exporter": "python",
   "pygments_lexer": "ipython3",
   "version": "3.11.13"
  },
  "papermill": {
   "default_parameters": {},
   "duration": 105.949068,
   "end_time": "2025-09-05T14:49:16.877069",
   "environment_variables": {},
   "exception": null,
   "input_path": "__notebook__.ipynb",
   "output_path": "__notebook__.ipynb",
   "parameters": {},
   "start_time": "2025-09-05T14:47:30.928001",
   "version": "2.6.0"
  }
 },
 "nbformat": 4,
 "nbformat_minor": 5
}
