{
 "cells": [
  {
   "cell_type": "code",
   "execution_count": 1,
   "id": "d77c80d6",
   "metadata": {
    "_cell_guid": "b1076dfc-b9ad-4769-8c92-a6c4dae69d19",
    "_uuid": "8f2839f25d086af736a60e9eeb907d3b93b6e0e5",
    "execution": {
     "iopub.execute_input": "2025-09-05T14:27:45.856641Z",
     "iopub.status.busy": "2025-09-05T14:27:45.856174Z",
     "iopub.status.idle": "2025-09-05T14:27:52.165534Z",
     "shell.execute_reply": "2025-09-05T14:27:52.164482Z"
    },
    "papermill": {
     "duration": 6.315516,
     "end_time": "2025-09-05T14:27:52.167625",
     "exception": false,
     "start_time": "2025-09-05T14:27:45.852109",
     "status": "completed"
    },
    "tags": []
   },
   "outputs": [],
   "source": [
    "import torch\n",
    "import torch.nn as nn"
   ]
  },
  {
   "cell_type": "markdown",
   "id": "69d7d70b",
   "metadata": {
    "papermill": {
     "duration": 0.001759,
     "end_time": "2025-09-05T14:27:52.171773",
     "exception": false,
     "start_time": "2025-09-05T14:27:52.170014",
     "status": "completed"
    },
    "tags": []
   },
   "source": [
    "# Model: AutoEncoder (2-D bottleneck)\n",
    "### What is an AutoEncoder (AE)?\n",
    "\n",
    "An **AutoEncoder** learns to:\n",
    "1) **Encode** an input \\(x\\) into a low-dimensional **latent vector** \\(z\\) (the **bottleneck**), and\n",
    "2) **Decode** \\(z\\) back into a reconstruction \\($\\hat{x}\\$) that resembles the original.\n",
    "\n",
    "For MNIST (28×28 grayscale), we’ll use a **fully-connected (MLP: MultiLayer Perceptron) AE** with a **2-D bottleneck**:\n",
    "- **Why 2-D?** So we can **visualize** the latent space later as a 2D scatter plot (each image → one point).\n",
    "- **Encoder**: $(784 \\rightarrow 300 \\rightarrow 2)$\n",
    "- **Decoder**: $(2 \\rightarrow 300 \\rightarrow 784)$\n",
    "\n",
    "We keep it minimal:\n",
    "- **Activations**: `LeakyReLU` after the hidden layers (helps gradients with small negative slope).\n",
    "- **No output activation** on the decoder’s last layer because inputs are **standardized** (Mean=0.1307, Std=0.3081).  \n",
    "  If you were using raw \\([0,1]\\) pixels, a `Sigmoid` could be sensible; with standardized inputs, an unrestricted linear output works well with L1/L2 losses.\n",
    "\n",
    "---\n",
    "\n",
    "### Shape flow\n",
    "\n",
    "- Input batch \\(x\\): `[B, 1, 28, 28]`\n",
    "- **Flatten** to `[B, 784]` before feeding the encoder.\n",
    "- Encoder outputs \\(z\\): `[B, 2]`\n",
    "- Decoder maps back to `[B, 784]`\n",
    "- **Unflatten** to `[B, 1, 28, 28]` to compare against the original images.\n",
    "\n",
    "This ensures the training loss can be computed as `loss(x, x_hat)` element-wise.\n",
    "\n",
    "---\n",
    "\n",
    "### Methods we implement\n",
    "\n",
    "- `encode(x) → z`: only the encoder path (used later to visualize latents).\n",
    "- `decode(z) → x_hat`: only the decoder path (used later to manipulate latents and decode).\n",
    "- `forward(x) → x_hat`: full AE (encode then decode).\n",
    "\n",
    "---\n",
    "\n",
    "### Why `LeakyReLU`?\n",
    "\n",
    "- Like ReLU but with a small slope on negatives (mitigates “dying ReLUs”).\n",
    "- Often improves stability for simple MLP autoencoders.\n",
    "\n",
    "---\n",
    "\n",
    "### Sanity check idea (optional)\n",
    "\n",
    "After defining the model, run a tiny batch through it and verify:\n",
    "- `x.shape == recon.shape == [B, 1, 28, 28]`\n",
    "- `features.shape == [B, 2]`\n",
    "\n",
    "We’ll do that right after we instantiate the model.\n"
   ]
  },
  {
   "cell_type": "markdown",
   "id": "3a14fc87",
   "metadata": {
    "papermill": {
     "duration": 0.001434,
     "end_time": "2025-09-05T14:27:52.175052",
     "exception": false,
     "start_time": "2025-09-05T14:27:52.173618",
     "status": "completed"
    },
    "tags": []
   },
   "source": [
    "### Why is it called a *bottleneck*?\n",
    "\n",
    "In an autoencoder, the **bottleneck** is the **narrowest layer** in the middle — the smallest representation `z` through which all information about the input `x` must pass. By forcing data through this tight “neck,” the model must **compress** the input and keep only its most salient factors.\n",
    "\n",
    "$$\n",
    "\\begin{array}{c}\n",
    "x \\in \\mathbb{R}^{784} \\xrightarrow{\\text{Encoder}} z \\in \\mathbb{R}^{d} \\xrightarrow{\\text{Decoder}} \\hat{x} \\in \\mathbb{R}^{784} \\\\\n",
    "\\text{(wide)} \\quad \\longrightarrow \\quad \\text{(narrow)} \\quad \\longrightarrow \\quad \\text{(wide)}\n",
    "\\end{array}\n",
    "$$\n",
    "\n",
    "\n",
    "---\n",
    "\n",
    "### What the bottleneck does\n",
    "- **Compression:** reduces dimensionality so the model captures key structure rather than copying pixels.  \n",
    "- **Architectural regularization:** discourages the trivial identity mapping (especially when `d << D`).  \n",
    "- **Generalization:** encourages discarding noise or redundancy and retaining meaningful features.\n",
    "\n",
    "---\n",
    "\n",
    "### Compression factor\n",
    "\n",
    "Let `D` be the input dimensionality (e.g., `28 × 28 = 784` for MNIST) and `d` the bottleneck size.\n",
    "\n",
    "$$\n",
    "\\text{compression factor} = \\frac{D}{d}\n",
    "$$\n",
    "\n",
    "**Examples**\n",
    "- `d = 2`  → \\( \\frac{784}{2} = 392\\times \\) compression (extreme; great for visualization).  \n",
    "- `d = 64` → \\( \\frac{784}{64} \\approx 12.25\\times \\) compression (typically better reconstructions).\n",
    "\n",
    "---\n",
    "\n",
    "### Choosing the bottleneck size `d` (trade-offs)\n",
    "- **Too small `d`** → heavy compression → risk of **underfitting** (blurry or poor reconstructions).  \n",
    "- **Too large `d`** → weak compression → risk of near **identity mapping** (little abstraction).  \n",
    "- **Balanced `d`** → good reconstruction quality **and** compact, structured latents.\n",
    "\n",
    "---\n",
    "\n",
    "### Undercomplete vs. Overcomplete\n",
    "- **Undercomplete** (`d < D`): a true *bottleneck*; capacity is limited by the latent dimensionality.  \n",
    "- **Overcomplete** (`d ≥ D`): no geometric bottleneck; to avoid identity mapping you need extra regularization, e.g.:  \n",
    "  - **Sparsity** penalties (e.g., L1 on activations),  \n",
    "  - **Denoising** (corrupt input, reconstruct clean),  \n",
    "  - **Contractive/variational** objectives (e.g., VAE).\n",
    "\n",
    "---\n",
    "\n",
    "### Why use a 2-D bottleneck in demos?\n",
    "A 2-D latent `z` can be **plotted directly**: each image becomes a point in 2D, typically forming clusters by digit class. This makes the learned representation easy to interpret and debug.\n",
    "\n"
   ]
  },
  {
   "cell_type": "code",
   "execution_count": 2,
   "id": "472a0040",
   "metadata": {
    "execution": {
     "iopub.execute_input": "2025-09-05T14:27:52.179887Z",
     "iopub.status.busy": "2025-09-05T14:27:52.179493Z",
     "iopub.status.idle": "2025-09-05T14:27:52.290905Z",
     "shell.execute_reply": "2025-09-05T14:27:52.289837Z"
    },
    "papermill": {
     "duration": 0.116122,
     "end_time": "2025-09-05T14:27:52.292866",
     "exception": false,
     "start_time": "2025-09-05T14:27:52.176744",
     "status": "completed"
    },
    "tags": []
   },
   "outputs": [
    {
     "name": "stdout",
     "output_type": "stream",
     "text": [
      "z shape: torch.Size([4, 2])\n",
      "recon shape: torch.Size([4, 1, 28, 28])\n"
     ]
    }
   ],
   "source": [
    "class AutoEncoder(nn.Module):\n",
    "    def __init__(self, bottleneck_dim: int = 2):\n",
    "        super().__init__()\n",
    "        # Flatten image to vector and back\n",
    "        self.flatten   = nn.Flatten()                          # [B, 1, 28, 28] -> [B, 784]\n",
    "        self.unflatten = nn.Unflatten(dim=1, unflattened_size=(1, 28, 28))  # [B, 784] -> [B, 1, 28, 28]\n",
    "\n",
    "        # Encoder: 784 -> 300 -> bottleneck_dim\n",
    "        self.encoder = nn.Sequential(\n",
    "            nn.Linear(28*28, 300),\n",
    "            nn.LeakyReLU(),\n",
    "            nn.Linear(300, bottleneck_dim)\n",
    "        )\n",
    "\n",
    "        # Decoder: bottleneck_dim -> 300 -> 784\n",
    "        self.decoder = nn.Sequential(\n",
    "            nn.Linear(bottleneck_dim, 300),\n",
    "            nn.LeakyReLU(),\n",
    "            nn.Linear(300, 28*28)\n",
    "            # No final activation since inputs are standardized; use L1/L2 loss.\n",
    "            # If using raw [0,1] pixels, consider nn.Sigmoid() here.\n",
    "        )\n",
    "\n",
    "    def encode(self, x: torch.Tensor) -> torch.Tensor:\n",
    "        x = self.flatten(x)       # [B, 1, 28, 28] -> [B, 784]\n",
    "        z = self.encoder(x)       # [B, 784] -> [B, bottleneck_dim]\n",
    "        return z\n",
    "\n",
    "    def decode(self, z: torch.Tensor) -> torch.Tensor:\n",
    "        x_hat = self.decoder(z)   # [B, bottleneck_dim] -> [B, 784]\n",
    "        x_hat = self.unflatten(x_hat)  # [B, 784] -> [B, 1, 28, 28]\n",
    "        return x_hat\n",
    "\n",
    "    def forward(self, x: torch.Tensor) -> torch.Tensor:\n",
    "        return self.decode(self.encode(x))\n",
    "\n",
    "\n",
    "# (Optional) quick shape sanity check\n",
    "if __name__ == \"__main__\":\n",
    "    model = AutoEncoder(bottleneck_dim=2)\n",
    "    dummy = torch.randn(4, 1, 28, 28)     # batch of 4\n",
    "    with torch.no_grad():\n",
    "        z = model.encode(dummy)           # [4, 2]\n",
    "        recon = model(dummy)              # [4, 1, 28, 28]\n",
    "    print(\"z shape:\", z.shape)\n",
    "    print(\"recon shape:\", recon.shape)\n"
   ]
  }
 ],
 "metadata": {
  "kaggle": {
   "accelerator": "none",
   "dataSources": [],
   "dockerImageVersionId": 31089,
   "isGpuEnabled": false,
   "isInternetEnabled": true,
   "language": "python",
   "sourceType": "notebook"
  },
  "kernelspec": {
   "display_name": "Python 3",
   "language": "python",
   "name": "python3"
  },
  "language_info": {
   "codemirror_mode": {
    "name": "ipython",
    "version": 3
   },
   "file_extension": ".py",
   "mimetype": "text/x-python",
   "name": "python",
   "nbconvert_exporter": "python",
   "pygments_lexer": "ipython3",
   "version": "3.11.13"
  },
  "papermill": {
   "default_parameters": {},
   "duration": 15.125065,
   "end_time": "2025-09-05T14:27:54.503897",
   "environment_variables": {},
   "exception": null,
   "input_path": "__notebook__.ipynb",
   "output_path": "__notebook__.ipynb",
   "parameters": {},
   "start_time": "2025-09-05T14:27:39.378832",
   "version": "2.6.0"
  }
 },
 "nbformat": 4,
 "nbformat_minor": 5
}
