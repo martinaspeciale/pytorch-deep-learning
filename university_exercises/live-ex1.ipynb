{
 "cells": [
  {
   "cell_type": "code",
   "execution_count": null,
   "id": "c40768ad",
   "metadata": {
    "_cell_guid": "b1076dfc-b9ad-4769-8c92-a6c4dae69d19",
    "_uuid": "8f2839f25d086af736a60e9eeb907d3b93b6e0e5",
    "papermill": {
     "duration": 0.00201,
     "end_time": "2025-09-05T14:12:52.624757",
     "exception": false,
     "start_time": "2025-09-05T14:12:52.622747",
     "status": "completed"
    },
    "tags": []
   },
   "outputs": [],
   "source": []
  },
  {
   "cell_type": "markdown",
   "id": "fc9c9057",
   "metadata": {
    "papermill": {
     "duration": 0.001136,
     "end_time": "2025-09-05T14:12:52.627632",
     "exception": false,
     "start_time": "2025-09-05T14:12:52.626496",
     "status": "completed"
    },
    "tags": []
   },
   "source": [
    "# Model: AutoEncoder (2-D bottleneck)\n",
    "### What is an AutoEncoder (AE)?\n",
    "\n",
    "An **AutoEncoder** learns to:\n",
    "1) **Encode** an input \\(x\\) into a low-dimensional **latent vector** \\(z\\) (the **bottleneck**), and\n",
    "2) **Decode** \\(z\\) back into a reconstruction \\($\\hat{x}\\$) that resembles the original.\n",
    "\n",
    "For MNIST (28×28 grayscale), we’ll use a **fully-connected (MLP) AE** with a **2-D bottleneck**:\n",
    "- **Why 2-D?** So we can **visualize** the latent space later as a 2D scatter plot (each image → one point).\n",
    "- **Encoder**: $(784 \\rightarrow 300 \\rightarrow 2)$\n",
    "- **Decoder**: $(2 \\rightarrow 300 \\rightarrow 784)$\n",
    "\n",
    "We keep it minimal:\n",
    "- **Activations**: `LeakyReLU` after the hidden layers (helps gradients with small negative slope).\n",
    "- **No output activation** on the decoder’s last layer because inputs are **standardized** (Mean=0.1307, Std=0.3081).  \n",
    "  If you were using raw \\([0,1]\\) pixels, a `Sigmoid` could be sensible; with standardized inputs, an unrestricted linear output works well with L1/L2 losses.\n",
    "\n",
    "---\n",
    "\n",
    "### Shape flow\n",
    "\n",
    "- Input batch \\(x\\): `[B, 1, 28, 28]`\n",
    "- **Flatten** to `[B, 784]` before feeding the encoder.\n",
    "- Encoder outputs \\(z\\): `[B, 2]`\n",
    "- Decoder maps back to `[B, 784]`\n",
    "- **Unflatten** to `[B, 1, 28, 28]` to compare against the original images.\n",
    "\n",
    "This ensures the training loss can be computed as `loss(x, x_hat)` element-wise.\n",
    "\n",
    "---\n",
    "\n",
    "### Methods we implement\n",
    "\n",
    "- `encode(x) → z`: only the encoder path (used later to visualize latents).\n",
    "- `decode(z) → x_hat`: only the decoder path (used later to manipulate latents and decode).\n",
    "- `forward(x) → x_hat`: full AE (encode then decode).\n",
    "\n",
    "---\n",
    "\n",
    "### Why `LeakyReLU`?\n",
    "\n",
    "- Like ReLU but with a small slope on negatives (mitigates “dying ReLUs”).\n",
    "- Often improves stability for simple MLP autoencoders.\n",
    "\n",
    "---\n",
    "\n",
    "### Sanity check idea (optional)\n",
    "\n",
    "After defining the model, run a tiny batch through it and verify:\n",
    "- `x.shape == recon.shape == [B, 1, 28, 28]`\n",
    "- `features.shape == [B, 2]`\n",
    "\n",
    "We’ll do that right after we instantiate the model.\n"
   ]
  },
  {
   "cell_type": "code",
   "execution_count": null,
   "id": "3c4d2d53",
   "metadata": {
    "papermill": {
     "duration": 0.001083,
     "end_time": "2025-09-05T14:12:52.630259",
     "exception": false,
     "start_time": "2025-09-05T14:12:52.629176",
     "status": "completed"
    },
    "tags": []
   },
   "outputs": [],
   "source": []
  }
 ],
 "metadata": {
  "kaggle": {
   "accelerator": "none",
   "dataSources": [],
   "dockerImageVersionId": 31089,
   "isGpuEnabled": false,
   "isInternetEnabled": true,
   "language": "python",
   "sourceType": "notebook"
  },
  "kernelspec": {
   "display_name": "Python 3",
   "language": "python",
   "name": "python3"
  },
  "language_info": {
   "codemirror_mode": {
    "name": "ipython",
    "version": 3
   },
   "file_extension": ".py",
   "mimetype": "text/x-python",
   "name": "python",
   "nbconvert_exporter": "python",
   "pygments_lexer": "ipython3",
   "version": "3.11.13"
  },
  "papermill": {
   "default_parameters": {},
   "duration": 8.935647,
   "end_time": "2025-09-05T14:12:55.321967",
   "environment_variables": {},
   "exception": null,
   "input_path": "__notebook__.ipynb",
   "output_path": "__notebook__.ipynb",
   "parameters": {},
   "start_time": "2025-09-05T14:12:46.386320",
   "version": "2.6.0"
  }
 },
 "nbformat": 4,
 "nbformat_minor": 5
}
