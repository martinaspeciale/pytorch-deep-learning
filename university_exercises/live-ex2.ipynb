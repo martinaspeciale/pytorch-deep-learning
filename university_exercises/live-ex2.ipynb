{
 "cells": [
  {
   "cell_type": "code",
   "execution_count": 1,
   "id": "3a021c7d",
   "metadata": {
    "_cell_guid": "b1076dfc-b9ad-4769-8c92-a6c4dae69d19",
    "_uuid": "8f2839f25d086af736a60e9eeb907d3b93b6e0e5",
    "execution": {
     "iopub.execute_input": "2025-09-05T15:22:41.387421Z",
     "iopub.status.busy": "2025-09-05T15:22:41.386644Z",
     "iopub.status.idle": "2025-09-05T15:22:55.846804Z",
     "shell.execute_reply": "2025-09-05T15:22:55.845764Z"
    },
    "papermill": {
     "duration": 14.46528,
     "end_time": "2025-09-05T15:22:55.848661",
     "exception": false,
     "start_time": "2025-09-05T15:22:41.383381",
     "status": "completed"
    },
    "tags": []
   },
   "outputs": [
    {
     "name": "stderr",
     "output_type": "stream",
     "text": [
      "100%|██████████| 9.91M/9.91M [00:00<00:00, 60.0MB/s]\n",
      "100%|██████████| 28.9k/28.9k [00:00<00:00, 1.65MB/s]\n",
      "100%|██████████| 1.65M/1.65M [00:00<00:00, 14.4MB/s]\n",
      "100%|██████████| 4.54k/4.54k [00:00<00:00, 6.82MB/s]\n"
     ]
    }
   ],
   "source": [
    "import torch\n",
    "import torchvision\n",
    "\n",
    "train_mnist = torchvision.datasets.MNIST(\n",
    "    \"./data\",\n",
    "    train=True,\n",
    "    download=True,\n",
    "    transform=torchvision.transforms.Compose([\n",
    "        torchvision.transforms.ToTensor(),\n",
    "        torchvision.transforms.Normalize((0.1307,), (0.3081,))\n",
    "    ])\n",
    ")\n",
    "\n",
    "test_mnist = torchvision.datasets.MNIST(\n",
    "    \"./data\",\n",
    "    train=False,\n",
    "    download=True,\n",
    "    transform=torchvision.transforms.Compose([\n",
    "        torchvision.transforms.ToTensor(),\n",
    "        torchvision.transforms.Normalize((0.1307,), (0.3081,))\n",
    "    ])\n",
    ")\n"
   ]
  },
  {
   "cell_type": "markdown",
   "id": "8e92cf01",
   "metadata": {
    "papermill": {
     "duration": 0.001967,
     "end_time": "2025-09-05T15:22:55.853436",
     "exception": false,
     "start_time": "2025-09-05T15:22:55.851469",
     "status": "completed"
    },
    "tags": []
   },
   "source": [
    "## Data & Transforms (MNIST)\n",
    "### What we’re doing\n",
    "We load **MNIST** (28×28 grayscale digits) for **training** and **testing**, and apply standard preprocessing:\n",
    "\n",
    "- `ToTensor()` converts each image to a tensor in `[0, 1]` with shape `[1, 28, 28]`.\n",
    "- `Normalize((0.1307,), (0.3081,))` standardizes pixels:\n",
    "  $$\n",
    "  x_{\\text{norm}} = \\frac{x - 0.1307}{0.3081}\n",
    "  $$\n",
    "  Using dataset mean/std helps optimization (smoother loss landscape).\n",
    "\n",
    "We apply the **same transform** to train and test so the model sees consistently scaled inputs at both phases.\n"
   ]
  }
 ],
 "metadata": {
  "kaggle": {
   "accelerator": "none",
   "dataSources": [],
   "dockerImageVersionId": 31089,
   "isGpuEnabled": false,
   "isInternetEnabled": true,
   "language": "python",
   "sourceType": "notebook"
  },
  "kernelspec": {
   "display_name": "Python 3",
   "language": "python",
   "name": "python3"
  },
  "language_info": {
   "codemirror_mode": {
    "name": "ipython",
    "version": 3
   },
   "file_extension": ".py",
   "mimetype": "text/x-python",
   "name": "python",
   "nbconvert_exporter": "python",
   "pygments_lexer": "ipython3",
   "version": "3.11.13"
  },
  "papermill": {
   "default_parameters": {},
   "duration": 22.793047,
   "end_time": "2025-09-05T15:22:58.430520",
   "environment_variables": {},
   "exception": null,
   "input_path": "__notebook__.ipynb",
   "output_path": "__notebook__.ipynb",
   "parameters": {},
   "start_time": "2025-09-05T15:22:35.637473",
   "version": "2.6.0"
  }
 },
 "nbformat": 4,
 "nbformat_minor": 5
}
